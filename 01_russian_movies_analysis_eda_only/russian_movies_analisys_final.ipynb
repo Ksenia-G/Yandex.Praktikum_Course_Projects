{
 "cells": [
  {
   "cell_type": "markdown",
   "metadata": {},
   "source": [
    "# Исследование данных о российском кинопрокате\n",
    "## Описание проекта\n",
    "- Заказчик: Министерство культуры Российской Федерации. \n",
    "- Цель: Изучить рынок российского кинопроката и выявить текущие тренды, в том числе особенности фильмов, которые получили государственную поддержку. Выявить, насколько такие фильмы интересны зрителю. \n",
    "- Источник: Данные, опубликованные на портале открытых данных Министерства культуры. Набор данных содержит информацию о прокатных удостоверениях, сборах и государственной поддержке фильмов, а также информацию с сайта КиноПоиск. "
   ]
  },
  {
   "cell_type": "markdown",
   "metadata": {},
   "source": [
    "### 1.1 Подготовка данных для работы\n",
    "Откроем файлы с данными и объединим их в один датафрейм таким образом, чтобы все объекты из датасета mkrf_movies обязательно вошли в получившийся датафрейм.\n"
   ]
  },
  {
   "cell_type": "code",
   "execution_count": 1,
   "metadata": {},
   "outputs": [],
   "source": [
    "import pandas as pd\n",
    "import numpy as np\n",
    "import matplotlib.pyplot as plt\n",
    "import seaborn as sns"
   ]
  },
  {
   "cell_type": "code",
   "execution_count": 2,
   "metadata": {},
   "outputs": [],
   "source": [
    "pd.options.display.float_format = '{:,.0f}'.format\n",
    "\n",
    "# данные о прокатных удостоверениях\n",
    "df_1 = pd.read_csv('/mkrf_movies.csv')\n",
    "#данные о прокате в российских кинотеатрах. \n",
    "df_2 = pd.read_csv('/mkrf_shows.csv')"
   ]
  },
  {
   "cell_type": "code",
   "execution_count": 3,
   "metadata": {},
   "outputs": [
    {
     "name": "stdout",
     "output_type": "stream",
     "text": [
      "<class 'pandas.core.frame.DataFrame'>\n",
      "RangeIndex: 7486 entries, 0 to 7485\n",
      "Data columns (total 15 columns):\n",
      " #   Column                 Non-Null Count  Dtype  \n",
      "---  ------                 --------------  -----  \n",
      " 0   title                  7486 non-null   object \n",
      " 1   puNumber               7486 non-null   object \n",
      " 2   show_start_date        7486 non-null   object \n",
      " 3   type                   7486 non-null   object \n",
      " 4   film_studio            7468 non-null   object \n",
      " 5   production_country     7484 non-null   object \n",
      " 6   director               7477 non-null   object \n",
      " 7   producer               6918 non-null   object \n",
      " 8   age_restriction        7486 non-null   object \n",
      " 9   refundable_support     332 non-null    float64\n",
      " 10  nonrefundable_support  332 non-null    float64\n",
      " 11  budget                 332 non-null    float64\n",
      " 12  financing_source       332 non-null    object \n",
      " 13  ratings                6519 non-null   object \n",
      " 14  genres                 6510 non-null   object \n",
      "dtypes: float64(3), object(12)\n",
      "memory usage: 877.4+ KB\n"
     ]
    }
   ],
   "source": [
    "df_1.info()"
   ]
  },
  {
   "cell_type": "code",
   "execution_count": 4,
   "metadata": {},
   "outputs": [
    {
     "name": "stdout",
     "output_type": "stream",
     "text": [
      "<class 'pandas.core.frame.DataFrame'>\n",
      "RangeIndex: 3158 entries, 0 to 3157\n",
      "Data columns (total 2 columns):\n",
      " #   Column      Non-Null Count  Dtype  \n",
      "---  ------      --------------  -----  \n",
      " 0   puNumber    3158 non-null   int64  \n",
      " 1   box_office  3158 non-null   float64\n",
      "dtypes: float64(1), int64(1)\n",
      "memory usage: 49.5 KB\n"
     ]
    }
   ],
   "source": [
    "df_2.info()"
   ]
  },
  {
   "cell_type": "code",
   "execution_count": 5,
   "metadata": {},
   "outputs": [
    {
     "data": {
      "text/plain": [
       "2"
      ]
     },
     "execution_count": 5,
     "metadata": {},
     "output_type": "execute_result"
    }
   ],
   "source": [
    "# Т.к. объединять нужно по номеру прокатного удостоверения, сначала взглянем, не дублирутеся ли он.\n",
    "df_1['puNumber'].duplicated().sum()"
   ]
  },
  {
   "cell_type": "code",
   "execution_count": 6,
   "metadata": {},
   "outputs": [
    {
     "data": {
      "text/html": [
       "<div>\n",
       "<style scoped>\n",
       "    .dataframe tbody tr th:only-of-type {\n",
       "        vertical-align: middle;\n",
       "    }\n",
       "\n",
       "    .dataframe tbody tr th {\n",
       "        vertical-align: top;\n",
       "    }\n",
       "\n",
       "    .dataframe thead th {\n",
       "        text-align: right;\n",
       "    }\n",
       "</style>\n",
       "<table border=\"1\" class=\"dataframe\">\n",
       "  <thead>\n",
       "    <tr style=\"text-align: right;\">\n",
       "      <th></th>\n",
       "      <th>title</th>\n",
       "      <th>puNumber</th>\n",
       "      <th>show_start_date</th>\n",
       "      <th>type</th>\n",
       "      <th>film_studio</th>\n",
       "      <th>production_country</th>\n",
       "      <th>director</th>\n",
       "      <th>producer</th>\n",
       "      <th>age_restriction</th>\n",
       "      <th>refundable_support</th>\n",
       "      <th>nonrefundable_support</th>\n",
       "      <th>budget</th>\n",
       "      <th>financing_source</th>\n",
       "      <th>ratings</th>\n",
       "      <th>genres</th>\n",
       "    </tr>\n",
       "  </thead>\n",
       "  <tbody>\n",
       "    <tr>\n",
       "      <th>4639</th>\n",
       "      <td>Иоанна - женщина на папском престоле /По роман...</td>\n",
       "      <td>221154310</td>\n",
       "      <td>2010-12-17T12:00:00.000Z</td>\n",
       "      <td>Художественный</td>\n",
       "      <td>Константин Фильм, А Эр Ди Дегето Фильм, Дюне ...</td>\n",
       "      <td>Германия - Великобритания - Италия - Испания</td>\n",
       "      <td>Зенке Вортманн</td>\n",
       "      <td>Оливер Бербен, Дорис Д.Хайнце, Фарук Элтан</td>\n",
       "      <td>«16+» - для детей старше 16 лет</td>\n",
       "      <td>NaN</td>\n",
       "      <td>NaN</td>\n",
       "      <td>NaN</td>\n",
       "      <td>NaN</td>\n",
       "      <td>7.6</td>\n",
       "      <td>драма,мелодрама,история</td>\n",
       "    </tr>\n",
       "    <tr>\n",
       "      <th>5068</th>\n",
       "      <td>Анализируй то!</td>\n",
       "      <td>221054410</td>\n",
       "      <td>2010-05-25T12:00:00.000Z</td>\n",
       "      <td>Художественный</td>\n",
       "      <td>Уорнер Бразерс, Виллидж Роадшоу Пикчерз, Эн-Пи...</td>\n",
       "      <td>США</td>\n",
       "      <td>Гарольд Реймис</td>\n",
       "      <td>Джейн Розенталь, Паул Уэйнстейн</td>\n",
       "      <td>«12+» - для детей старше 12 лет</td>\n",
       "      <td>NaN</td>\n",
       "      <td>NaN</td>\n",
       "      <td>NaN</td>\n",
       "      <td>NaN</td>\n",
       "      <td>6.8</td>\n",
       "      <td>комедия,криминал</td>\n",
       "    </tr>\n",
       "  </tbody>\n",
       "</table>\n",
       "</div>"
      ],
      "text/plain": [
       "                                                  title   puNumber  \\\n",
       "4639  Иоанна - женщина на папском престоле /По роман...  221154310   \n",
       "5068                                     Анализируй то!  221054410   \n",
       "\n",
       "               show_start_date            type  \\\n",
       "4639  2010-12-17T12:00:00.000Z  Художественный   \n",
       "5068  2010-05-25T12:00:00.000Z  Художественный   \n",
       "\n",
       "                                            film_studio  \\\n",
       "4639   Константин Фильм, А Эр Ди Дегето Фильм, Дюне ...   \n",
       "5068  Уорнер Бразерс, Виллидж Роадшоу Пикчерз, Эн-Пи...   \n",
       "\n",
       "                                production_country        director  \\\n",
       "4639  Германия - Великобритания - Италия - Испания  Зенке Вортманн   \n",
       "5068                                           США  Гарольд Реймис   \n",
       "\n",
       "                                        producer  \\\n",
       "4639  Оливер Бербен, Дорис Д.Хайнце, Фарук Элтан   \n",
       "5068             Джейн Розенталь, Паул Уэйнстейн   \n",
       "\n",
       "                      age_restriction  refundable_support  \\\n",
       "4639  «16+» - для детей старше 16 лет                 NaN   \n",
       "5068  «12+» - для детей старше 12 лет                 NaN   \n",
       "\n",
       "      nonrefundable_support  budget financing_source ratings  \\\n",
       "4639                    NaN     NaN              NaN     7.6   \n",
       "5068                    NaN     NaN              NaN     6.8   \n",
       "\n",
       "                       genres  \n",
       "4639  драма,мелодрама,история  \n",
       "5068         комедия,криминал  "
      ]
     },
     "execution_count": 6,
     "metadata": {},
     "output_type": "execute_result"
    }
   ],
   "source": [
    "# Есть дубликаты в первом датасете\n",
    "df_1.loc[df_1['puNumber'].duplicated()]"
   ]
  },
  {
   "cell_type": "code",
   "execution_count": 7,
   "metadata": {},
   "outputs": [
    {
     "data": {
      "text/plain": [
       "0"
      ]
     },
     "execution_count": 7,
     "metadata": {},
     "output_type": "execute_result"
    }
   ],
   "source": [
    "df_2['puNumber'].duplicated().sum()"
   ]
  },
  {
   "cell_type": "code",
   "execution_count": 8,
   "metadata": {},
   "outputs": [],
   "source": [
    "# Во втором датафрейме нет дубликатов.\n",
    "# Удалим дубликаты в первом.\n",
    "df_1 = df_1.drop_duplicates('puNumber', keep='first').reset_index(drop=True)"
   ]
  },
  {
   "cell_type": "code",
   "execution_count": 9,
   "metadata": {},
   "outputs": [
    {
     "data": {
      "text/html": [
       "<div>\n",
       "<style scoped>\n",
       "    .dataframe tbody tr th:only-of-type {\n",
       "        vertical-align: middle;\n",
       "    }\n",
       "\n",
       "    .dataframe tbody tr th {\n",
       "        vertical-align: top;\n",
       "    }\n",
       "\n",
       "    .dataframe thead th {\n",
       "        text-align: right;\n",
       "    }\n",
       "</style>\n",
       "<table border=\"1\" class=\"dataframe\">\n",
       "  <thead>\n",
       "    <tr style=\"text-align: right;\">\n",
       "      <th></th>\n",
       "      <th>title</th>\n",
       "      <th>puNumber</th>\n",
       "      <th>show_start_date</th>\n",
       "      <th>type</th>\n",
       "      <th>film_studio</th>\n",
       "      <th>production_country</th>\n",
       "      <th>director</th>\n",
       "      <th>producer</th>\n",
       "      <th>age_restriction</th>\n",
       "      <th>refundable_support</th>\n",
       "      <th>nonrefundable_support</th>\n",
       "      <th>budget</th>\n",
       "      <th>financing_source</th>\n",
       "      <th>ratings</th>\n",
       "      <th>genres</th>\n",
       "    </tr>\n",
       "  </thead>\n",
       "  <tbody>\n",
       "    <tr>\n",
       "      <th>1797</th>\n",
       "      <td>Курбан-роман. (История с жертвой)</td>\n",
       "      <td>нет</td>\n",
       "      <td>2014-05-15T12:00:00.000Z</td>\n",
       "      <td>Художественный</td>\n",
       "      <td>ФОНД \"ИННОВАЦИЯ\"</td>\n",
       "      <td>Россия</td>\n",
       "      <td>С.Юзеев</td>\n",
       "      <td>М.Галицкая</td>\n",
       "      <td>«12+» - для детей старше 12 лет</td>\n",
       "      <td>NaN</td>\n",
       "      <td>NaN</td>\n",
       "      <td>NaN</td>\n",
       "      <td>NaN</td>\n",
       "      <td>NaN</td>\n",
       "      <td>NaN</td>\n",
       "    </tr>\n",
       "  </tbody>\n",
       "</table>\n",
       "</div>"
      ],
      "text/plain": [
       "                                  title puNumber           show_start_date  \\\n",
       "1797  Курбан-роман. (История с жертвой)      нет  2014-05-15T12:00:00.000Z   \n",
       "\n",
       "                type       film_studio production_country director  \\\n",
       "1797  Художественный  ФОНД \"ИННОВАЦИЯ\"             Россия  С.Юзеев   \n",
       "\n",
       "        producer                  age_restriction  refundable_support  \\\n",
       "1797  М.Галицкая  «12+» - для детей старше 12 лет                 NaN   \n",
       "\n",
       "      nonrefundable_support  budget financing_source ratings genres  \n",
       "1797                    NaN     NaN              NaN     NaN    NaN  "
      ]
     },
     "execution_count": 9,
     "metadata": {},
     "output_type": "execute_result"
    }
   ],
   "source": [
    "# В первом датафрейме неправильно указан тип переменной для номера (строка), изменим тип.\n",
    "# при вызове \"df_1['puNumber'] = df_1['puNumber'].astype('int')\" возвращает ошибку, ValueError, т.к. присутствует string 'нет'. \n",
    "# Поэтому, сначала обработаетм это.\n",
    "df_1.query('puNumber == \"нет\"')"
   ]
  },
  {
   "cell_type": "code",
   "execution_count": 10,
   "metadata": {},
   "outputs": [
    {
     "data": {
      "text/html": [
       "<div>\n",
       "<style scoped>\n",
       "    .dataframe tbody tr th:only-of-type {\n",
       "        vertical-align: middle;\n",
       "    }\n",
       "\n",
       "    .dataframe tbody tr th {\n",
       "        vertical-align: top;\n",
       "    }\n",
       "\n",
       "    .dataframe thead th {\n",
       "        text-align: right;\n",
       "    }\n",
       "</style>\n",
       "<table border=\"1\" class=\"dataframe\">\n",
       "  <thead>\n",
       "    <tr style=\"text-align: right;\">\n",
       "      <th></th>\n",
       "      <th>title</th>\n",
       "      <th>puNumber</th>\n",
       "      <th>show_start_date</th>\n",
       "      <th>type</th>\n",
       "      <th>film_studio</th>\n",
       "      <th>production_country</th>\n",
       "      <th>director</th>\n",
       "      <th>producer</th>\n",
       "      <th>age_restriction</th>\n",
       "      <th>refundable_support</th>\n",
       "      <th>nonrefundable_support</th>\n",
       "      <th>budget</th>\n",
       "      <th>financing_source</th>\n",
       "      <th>ratings</th>\n",
       "      <th>genres</th>\n",
       "      <th>box_office</th>\n",
       "    </tr>\n",
       "  </thead>\n",
       "  <tbody>\n",
       "    <tr>\n",
       "      <th>0</th>\n",
       "      <td>Открытый простор</td>\n",
       "      <td>221048915</td>\n",
       "      <td>2015-11-27T12:00:00.000Z</td>\n",
       "      <td>Художественный</td>\n",
       "      <td>Тачстоун Пикчерз, Кобальт Пикчерз, Бикон Пикче...</td>\n",
       "      <td>США</td>\n",
       "      <td>Кевин Костнер</td>\n",
       "      <td>Дэвид Валдес, Кевин Костнер, Джейк Эбертс</td>\n",
       "      <td>«18+» - запрещено для детей</td>\n",
       "      <td>NaN</td>\n",
       "      <td>NaN</td>\n",
       "      <td>NaN</td>\n",
       "      <td>NaN</td>\n",
       "      <td>7.2</td>\n",
       "      <td>боевик,драма,мелодрама</td>\n",
       "      <td>NaN</td>\n",
       "    </tr>\n",
       "    <tr>\n",
       "      <th>1</th>\n",
       "      <td>Особо важное задание</td>\n",
       "      <td>111013716</td>\n",
       "      <td>2016-09-13T12:00:00.000Z</td>\n",
       "      <td>Художественный</td>\n",
       "      <td>Киностудия \"Мосфильм\"</td>\n",
       "      <td>СССР</td>\n",
       "      <td>Е.Матвеев</td>\n",
       "      <td>NaN</td>\n",
       "      <td>«6+» - для детей старше 6 лет</td>\n",
       "      <td>NaN</td>\n",
       "      <td>NaN</td>\n",
       "      <td>NaN</td>\n",
       "      <td>NaN</td>\n",
       "      <td>6.6</td>\n",
       "      <td>драма,военный</td>\n",
       "      <td>NaN</td>\n",
       "    </tr>\n",
       "    <tr>\n",
       "      <th>2</th>\n",
       "      <td>Особо опасен</td>\n",
       "      <td>221038416</td>\n",
       "      <td>2016-10-10T12:00:00.000Z</td>\n",
       "      <td>Художественный</td>\n",
       "      <td>Юниверсал Пикчерз, Кикстарт Продакшнз, Марк Пл...</td>\n",
       "      <td>США</td>\n",
       "      <td>Тимур Бекмамбетов</td>\n",
       "      <td>Джим Лемли, Джейсон Нетер, Марк Е.Платт, Яйн Смит</td>\n",
       "      <td>«18+» - запрещено для детей</td>\n",
       "      <td>NaN</td>\n",
       "      <td>NaN</td>\n",
       "      <td>NaN</td>\n",
       "      <td>NaN</td>\n",
       "      <td>6.8</td>\n",
       "      <td>фантастика,боевик,триллер</td>\n",
       "      <td>NaN</td>\n",
       "    </tr>\n",
       "    <tr>\n",
       "      <th>3</th>\n",
       "      <td>Особо опасен</td>\n",
       "      <td>221026916</td>\n",
       "      <td>2016-06-10T12:00:00.000Z</td>\n",
       "      <td>Художественный</td>\n",
       "      <td>Юниверсал Пикчерз, Кикстарт Продакшнз, Марк Пл...</td>\n",
       "      <td>США</td>\n",
       "      <td>Тимур Бекмамбетов</td>\n",
       "      <td>Джим Лемли, Джейсон Нетер, Марк Е.Платт, Яйн Смит</td>\n",
       "      <td>«18+» - запрещено для детей</td>\n",
       "      <td>NaN</td>\n",
       "      <td>NaN</td>\n",
       "      <td>NaN</td>\n",
       "      <td>NaN</td>\n",
       "      <td>6.8</td>\n",
       "      <td>фантастика,боевик,триллер</td>\n",
       "      <td>NaN</td>\n",
       "    </tr>\n",
       "    <tr>\n",
       "      <th>4</th>\n",
       "      <td>Особо опасен</td>\n",
       "      <td>221030815</td>\n",
       "      <td>2015-07-29T12:00:00.000Z</td>\n",
       "      <td>Художественный</td>\n",
       "      <td>Юниверсал Пикчерз, Кикстарт Продакшнз, Марк Пл...</td>\n",
       "      <td>США</td>\n",
       "      <td>Тимур Бекмамбетов</td>\n",
       "      <td>Джим Лемли, Джейсон Нетер, Марк Е.Платт, Яйн Смит</td>\n",
       "      <td>«18+» - запрещено для детей</td>\n",
       "      <td>NaN</td>\n",
       "      <td>NaN</td>\n",
       "      <td>NaN</td>\n",
       "      <td>NaN</td>\n",
       "      <td>6.8</td>\n",
       "      <td>фантастика,боевик,триллер</td>\n",
       "      <td>NaN</td>\n",
       "    </tr>\n",
       "  </tbody>\n",
       "</table>\n",
       "</div>"
      ],
      "text/plain": [
       "                  title   puNumber           show_start_date            type  \\\n",
       "0      Открытый простор  221048915  2015-11-27T12:00:00.000Z  Художественный   \n",
       "1  Особо важное задание  111013716  2016-09-13T12:00:00.000Z  Художественный   \n",
       "2          Особо опасен  221038416  2016-10-10T12:00:00.000Z  Художественный   \n",
       "3          Особо опасен  221026916  2016-06-10T12:00:00.000Z  Художественный   \n",
       "4          Особо опасен  221030815  2015-07-29T12:00:00.000Z  Художественный   \n",
       "\n",
       "                                         film_studio production_country  \\\n",
       "0  Тачстоун Пикчерз, Кобальт Пикчерз, Бикон Пикче...                США   \n",
       "1                              Киностудия \"Мосфильм\"               СССР   \n",
       "2  Юниверсал Пикчерз, Кикстарт Продакшнз, Марк Пл...                США   \n",
       "3  Юниверсал Пикчерз, Кикстарт Продакшнз, Марк Пл...                США   \n",
       "4  Юниверсал Пикчерз, Кикстарт Продакшнз, Марк Пл...                США   \n",
       "\n",
       "            director                                           producer  \\\n",
       "0      Кевин Костнер          Дэвид Валдес, Кевин Костнер, Джейк Эбертс   \n",
       "1          Е.Матвеев                                                NaN   \n",
       "2  Тимур Бекмамбетов  Джим Лемли, Джейсон Нетер, Марк Е.Платт, Яйн Смит   \n",
       "3  Тимур Бекмамбетов  Джим Лемли, Джейсон Нетер, Марк Е.Платт, Яйн Смит   \n",
       "4  Тимур Бекмамбетов  Джим Лемли, Джейсон Нетер, Марк Е.Платт, Яйн Смит   \n",
       "\n",
       "                 age_restriction  refundable_support  nonrefundable_support  \\\n",
       "0    «18+» - запрещено для детей                 NaN                    NaN   \n",
       "1  «6+» - для детей старше 6 лет                 NaN                    NaN   \n",
       "2    «18+» - запрещено для детей                 NaN                    NaN   \n",
       "3    «18+» - запрещено для детей                 NaN                    NaN   \n",
       "4    «18+» - запрещено для детей                 NaN                    NaN   \n",
       "\n",
       "   budget financing_source ratings                     genres  box_office  \n",
       "0     NaN              NaN     7.2     боевик,драма,мелодрама         NaN  \n",
       "1     NaN              NaN     6.6              драма,военный         NaN  \n",
       "2     NaN              NaN     6.8  фантастика,боевик,триллер         NaN  \n",
       "3     NaN              NaN     6.8  фантастика,боевик,триллер         NaN  \n",
       "4     NaN              NaN     6.8  фантастика,боевик,триллер         NaN  "
      ]
     },
     "execution_count": 10,
     "metadata": {},
     "output_type": "execute_result"
    }
   ],
   "source": [
    "df_1['puNumber'].replace('нет', 0, inplace=True)\n",
    "df_1['puNumber'] = df_1['puNumber'].astype('int')\n",
    "\n",
    "# Объединяем датафреймы так, чтобы данные из обоих датафреймов попали в обхединённый датасет.\n",
    "df = df_1.merge(df_2, on='puNumber', how='outer')\n",
    "df.head()"
   ]
  },
  {
   "cell_type": "code",
   "execution_count": 11,
   "metadata": {},
   "outputs": [
    {
     "name": "stdout",
     "output_type": "stream",
     "text": [
      "No duplicate primary keys found in merged dataset.\n"
     ]
    }
   ],
   "source": [
    "if df['puNumber'].duplicated().any():\n",
    "    print(\"Duplicate primary keys found in merged dataset.\")\n",
    "else:\n",
    "    print(\"No duplicate primary keys found in merged dataset.\")"
   ]
  },
  {
   "cell_type": "markdown",
   "metadata": {},
   "source": [
    "#### Промежуточный вывод 1: ### \n",
    "Скачаны, открыты файлы с даннымми, преобразован некорректно указанный тип для номера прокатной лицензии. \n",
    "Данные объединены в один датафрейм c помощью типа объединения, который позволяет сделать объединение так, что получившийся набор данных содержит информацию из обоих файлов."
   ]
  },
  {
   "cell_type": "markdown",
   "metadata": {},
   "source": [
    "### 1.2  Предобработка данных"
   ]
  },
  {
   "cell_type": "code",
   "execution_count": 12,
   "metadata": {},
   "outputs": [
    {
     "name": "stdout",
     "output_type": "stream",
     "text": [
      "<class 'pandas.core.frame.DataFrame'>\n",
      "Int64Index: 7484 entries, 0 to 7483\n",
      "Data columns (total 16 columns):\n",
      " #   Column                 Non-Null Count  Dtype  \n",
      "---  ------                 --------------  -----  \n",
      " 0   title                  7484 non-null   object \n",
      " 1   puNumber               7484 non-null   int64  \n",
      " 2   show_start_date        7484 non-null   object \n",
      " 3   type                   7484 non-null   object \n",
      " 4   film_studio            7466 non-null   object \n",
      " 5   production_country     7482 non-null   object \n",
      " 6   director               7475 non-null   object \n",
      " 7   producer               6916 non-null   object \n",
      " 8   age_restriction        7484 non-null   object \n",
      " 9   refundable_support     332 non-null    float64\n",
      " 10  nonrefundable_support  332 non-null    float64\n",
      " 11  budget                 332 non-null    float64\n",
      " 12  financing_source       332 non-null    object \n",
      " 13  ratings                6517 non-null   object \n",
      " 14  genres                 6508 non-null   object \n",
      " 15  box_office             3158 non-null   float64\n",
      "dtypes: float64(4), int64(1), object(11)\n",
      "memory usage: 994.0+ KB\n"
     ]
    }
   ],
   "source": [
    "# Проверим типы данных в датафрейме и преобразуем их там, где это необходимо.\n",
    "df.info()"
   ]
  },
  {
   "cell_type": "code",
   "execution_count": 13,
   "metadata": {},
   "outputs": [],
   "source": [
    "# Преобразуем столбец с датой и сразу выделим год для последующего анализа\n",
    "df['show_start_date'] = pd.to_datetime(df['show_start_date'], format='%Y-%m-%dT%H:%M:%S.%fZ')\n",
    "df['year'] = df['show_start_date'].dt.year"
   ]
  },
  {
   "cell_type": "code",
   "execution_count": 14,
   "metadata": {},
   "outputs": [],
   "source": [
    "# Преобразуем столбец с рейтингом - приведём все рейтинги к единому формату\n",
    "df['ratings'] = df['ratings'].replace('%', '', regex=True)\n",
    "df['ratings'] = df['ratings'].astype(float)\n",
    "for i, rating in enumerate(df['ratings']):\n",
    "    if rating > 10:\n",
    "        df.loc[i, 'ratings'] = (rating / 100) * 10"
   ]
  },
  {
   "cell_type": "code",
   "execution_count": 15,
   "metadata": {},
   "outputs": [
    {
     "data": {
      "text/plain": [
       "array([7.2, 6.6, 6.8, 7.7, 8.3, 8. , 7.8, 8.1, 7.1, 6. , 7.4, 5.8, 8.7,\n",
       "       6.3, 6.9, 5. , 4.3, 7.3, 7. , 6.4, nan, 8.2, 7.5, 6.7, 7.9, 5.9,\n",
       "       6.2, 5.6, 6.5, 2.4, 7.6, 6.1, 8.6, 8.5, 8.8, 5.5, 5.1, 5.7, 5.4,\n",
       "       9.9, 4.4, 4.5, 5.3, 4.1, 8.4, 2.6, 3.8, 4.6, 4.8, 4. , 3. , 1.6,\n",
       "       4.2, 5.2, 4.7, 4.9, 3.9, 2.7, 3.3, 2.9, 2.8, 3.7, 1.4, 3.1, 9.7,\n",
       "       3.5, 3.2, 2.8, 1.5, 2.1, 2.5, 9.2, 3.4, 1.1, 3.6, 8.3, 9.1, 9.4,\n",
       "       9. , 1.9, 1. , 8.9, 1.3, 1.8, 1.2, 1.7, 9.8])"
      ]
     },
     "execution_count": 15,
     "metadata": {},
     "output_type": "execute_result"
    }
   ],
   "source": [
    "df['ratings'].unique()"
   ]
  },
  {
   "cell_type": "code",
   "execution_count": 16,
   "metadata": {},
   "outputs": [
    {
     "data": {
      "text/plain": [
       "title                       0\n",
       "puNumber                    0\n",
       "show_start_date             0\n",
       "type                        0\n",
       "film_studio                18\n",
       "production_country          2\n",
       "director                    9\n",
       "producer                  568\n",
       "age_restriction             0\n",
       "refundable_support       7152\n",
       "nonrefundable_support    7152\n",
       "budget                   7152\n",
       "financing_source         7152\n",
       "ratings                   967\n",
       "genres                    976\n",
       "box_office               4326\n",
       "year                        0\n",
       "dtype: int64"
      ]
     },
     "execution_count": 16,
     "metadata": {},
     "output_type": "execute_result"
    }
   ],
   "source": [
    "# Посмотрим на кол-во пропусков в датафрейме.\n",
    "df.isna().sum()"
   ]
  },
  {
   "cell_type": "code",
   "execution_count": 17,
   "metadata": {},
   "outputs": [
    {
     "data": {
      "text/plain": [
       "0"
      ]
     },
     "execution_count": 17,
     "metadata": {},
     "output_type": "execute_result"
    }
   ],
   "source": [
    "# Также, посмотрим, есть ли явные дубликаты.\n",
    "df.duplicated().sum()"
   ]
  },
  {
   "cell_type": "code",
   "execution_count": 18,
   "metadata": {},
   "outputs": [
    {
     "data": {
      "text/plain": [
       "array(['Тачстоун Пикчерз, Кобальт Пикчерз, Бикон Пикчерз, Тиг Продакшнз',\n",
       "       'Киностудия \"Мосфильм\"',\n",
       "       'Юниверсал Пикчерз, Кикстарт Продакшнз, Марк Платт Продакшнз, Рилейтивити Медиа, Спайгласс Интертейнмент, Стилкин Филмз, Топ Кау Продакшнз',\n",
       "       ...,\n",
       "       'Дэниел Гродник Продакшнз, Вандерфилм Медиа Корпорэйшн, Импринт Интертейнмент, Вор Хорс Интертейнмент, Пимиента ',\n",
       "       'Никелодеон Анимейшн Студиос, Спин Мастер',\n",
       "       'Анимаккорд Лтд., ООО Студия \"АНИМАККОРД\"'], dtype=object)"
      ]
     },
     "execution_count": 18,
     "metadata": {},
     "output_type": "execute_result"
    }
   ],
   "source": [
    "# Строк-дубликатов нет.\n",
    "# Изучим более детально столбцы и посмотрим, есть ли там ненужные дубликаты, и возможно ли чем-то заполнить пропуски.\n",
    "\n",
    "# Столбец со студиями.\n",
    "df['film_studio'].unique()"
   ]
  },
  {
   "cell_type": "code",
   "execution_count": 19,
   "metadata": {},
   "outputs": [],
   "source": [
    "# Очень много комбинаций в столбцах со студиями, жанрами, продюссерами для каждого фильма. \n",
    "# Сократим такие описания, оставив в качестве основной студии первое значение.\n",
    "\n",
    "def extract_primary(df, column_name):\n",
    "    new_column_name = column_name + '_primary'\n",
    "    df[new_column_name] = df[column_name].str.split(',').str[0]\n",
    "    return df\n",
    "\n",
    "df = extract_primary(df, 'film_studio')\n",
    "df = extract_primary(df, 'genres')\n",
    "df = extract_primary(df, 'producer')\n",
    "\n",
    "# Тоже повторим для режисёров\n",
    "df = extract_primary(df, 'director')"
   ]
  },
  {
   "cell_type": "code",
   "execution_count": 20,
   "metadata": {},
   "outputs": [
    {
     "data": {
      "text/html": [
       "<div>\n",
       "<style scoped>\n",
       "    .dataframe tbody tr th:only-of-type {\n",
       "        vertical-align: middle;\n",
       "    }\n",
       "\n",
       "    .dataframe tbody tr th {\n",
       "        vertical-align: top;\n",
       "    }\n",
       "\n",
       "    .dataframe thead th {\n",
       "        text-align: right;\n",
       "    }\n",
       "</style>\n",
       "<table border=\"1\" class=\"dataframe\">\n",
       "  <thead>\n",
       "    <tr style=\"text-align: right;\">\n",
       "      <th></th>\n",
       "      <th>title</th>\n",
       "      <th>puNumber</th>\n",
       "      <th>show_start_date</th>\n",
       "      <th>type</th>\n",
       "      <th>film_studio</th>\n",
       "      <th>production_country</th>\n",
       "      <th>director</th>\n",
       "      <th>producer</th>\n",
       "      <th>age_restriction</th>\n",
       "      <th>refundable_support</th>\n",
       "      <th>...</th>\n",
       "      <th>budget</th>\n",
       "      <th>financing_source</th>\n",
       "      <th>ratings</th>\n",
       "      <th>genres</th>\n",
       "      <th>box_office</th>\n",
       "      <th>year</th>\n",
       "      <th>film_studio_primary</th>\n",
       "      <th>genres_primary</th>\n",
       "      <th>producer_primary</th>\n",
       "      <th>director_primary</th>\n",
       "    </tr>\n",
       "  </thead>\n",
       "  <tbody>\n",
       "    <tr>\n",
       "      <th>0</th>\n",
       "      <td>Открытый простор</td>\n",
       "      <td>221048915</td>\n",
       "      <td>2015-11-27 12:00:00</td>\n",
       "      <td>Художественный</td>\n",
       "      <td>Тачстоун Пикчерз, Кобальт Пикчерз, Бикон Пикче...</td>\n",
       "      <td>США</td>\n",
       "      <td>Кевин Костнер</td>\n",
       "      <td>Дэвид Валдес, Кевин Костнер, Джейк Эбертс</td>\n",
       "      <td>«18+» - запрещено для детей</td>\n",
       "      <td>NaN</td>\n",
       "      <td>...</td>\n",
       "      <td>NaN</td>\n",
       "      <td>NaN</td>\n",
       "      <td>7</td>\n",
       "      <td>боевик,драма,мелодрама</td>\n",
       "      <td>NaN</td>\n",
       "      <td>2015</td>\n",
       "      <td>Тачстоун Пикчерз</td>\n",
       "      <td>боевик</td>\n",
       "      <td>Дэвид Валдес</td>\n",
       "      <td>Кевин Костнер</td>\n",
       "    </tr>\n",
       "    <tr>\n",
       "      <th>1</th>\n",
       "      <td>Особо важное задание</td>\n",
       "      <td>111013716</td>\n",
       "      <td>2016-09-13 12:00:00</td>\n",
       "      <td>Художественный</td>\n",
       "      <td>Киностудия \"Мосфильм\"</td>\n",
       "      <td>СССР</td>\n",
       "      <td>Е.Матвеев</td>\n",
       "      <td>NaN</td>\n",
       "      <td>«6+» - для детей старше 6 лет</td>\n",
       "      <td>NaN</td>\n",
       "      <td>...</td>\n",
       "      <td>NaN</td>\n",
       "      <td>NaN</td>\n",
       "      <td>7</td>\n",
       "      <td>драма,военный</td>\n",
       "      <td>NaN</td>\n",
       "      <td>2016</td>\n",
       "      <td>Киностудия \"Мосфильм\"</td>\n",
       "      <td>драма</td>\n",
       "      <td>NaN</td>\n",
       "      <td>Е.Матвеев</td>\n",
       "    </tr>\n",
       "    <tr>\n",
       "      <th>2</th>\n",
       "      <td>Особо опасен</td>\n",
       "      <td>221038416</td>\n",
       "      <td>2016-10-10 12:00:00</td>\n",
       "      <td>Художественный</td>\n",
       "      <td>Юниверсал Пикчерз, Кикстарт Продакшнз, Марк Пл...</td>\n",
       "      <td>США</td>\n",
       "      <td>Тимур Бекмамбетов</td>\n",
       "      <td>Джим Лемли, Джейсон Нетер, Марк Е.Платт, Яйн Смит</td>\n",
       "      <td>«18+» - запрещено для детей</td>\n",
       "      <td>NaN</td>\n",
       "      <td>...</td>\n",
       "      <td>NaN</td>\n",
       "      <td>NaN</td>\n",
       "      <td>7</td>\n",
       "      <td>фантастика,боевик,триллер</td>\n",
       "      <td>NaN</td>\n",
       "      <td>2016</td>\n",
       "      <td>Юниверсал Пикчерз</td>\n",
       "      <td>фантастика</td>\n",
       "      <td>Джим Лемли</td>\n",
       "      <td>Тимур Бекмамбетов</td>\n",
       "    </tr>\n",
       "    <tr>\n",
       "      <th>3</th>\n",
       "      <td>Особо опасен</td>\n",
       "      <td>221026916</td>\n",
       "      <td>2016-06-10 12:00:00</td>\n",
       "      <td>Художественный</td>\n",
       "      <td>Юниверсал Пикчерз, Кикстарт Продакшнз, Марк Пл...</td>\n",
       "      <td>США</td>\n",
       "      <td>Тимур Бекмамбетов</td>\n",
       "      <td>Джим Лемли, Джейсон Нетер, Марк Е.Платт, Яйн Смит</td>\n",
       "      <td>«18+» - запрещено для детей</td>\n",
       "      <td>NaN</td>\n",
       "      <td>...</td>\n",
       "      <td>NaN</td>\n",
       "      <td>NaN</td>\n",
       "      <td>7</td>\n",
       "      <td>фантастика,боевик,триллер</td>\n",
       "      <td>NaN</td>\n",
       "      <td>2016</td>\n",
       "      <td>Юниверсал Пикчерз</td>\n",
       "      <td>фантастика</td>\n",
       "      <td>Джим Лемли</td>\n",
       "      <td>Тимур Бекмамбетов</td>\n",
       "    </tr>\n",
       "    <tr>\n",
       "      <th>4</th>\n",
       "      <td>Особо опасен</td>\n",
       "      <td>221030815</td>\n",
       "      <td>2015-07-29 12:00:00</td>\n",
       "      <td>Художественный</td>\n",
       "      <td>Юниверсал Пикчерз, Кикстарт Продакшнз, Марк Пл...</td>\n",
       "      <td>США</td>\n",
       "      <td>Тимур Бекмамбетов</td>\n",
       "      <td>Джим Лемли, Джейсон Нетер, Марк Е.Платт, Яйн Смит</td>\n",
       "      <td>«18+» - запрещено для детей</td>\n",
       "      <td>NaN</td>\n",
       "      <td>...</td>\n",
       "      <td>NaN</td>\n",
       "      <td>NaN</td>\n",
       "      <td>7</td>\n",
       "      <td>фантастика,боевик,триллер</td>\n",
       "      <td>NaN</td>\n",
       "      <td>2015</td>\n",
       "      <td>Юниверсал Пикчерз</td>\n",
       "      <td>фантастика</td>\n",
       "      <td>Джим Лемли</td>\n",
       "      <td>Тимур Бекмамбетов</td>\n",
       "    </tr>\n",
       "  </tbody>\n",
       "</table>\n",
       "<p>5 rows × 21 columns</p>\n",
       "</div>"
      ],
      "text/plain": [
       "                  title   puNumber     show_start_date            type  \\\n",
       "0      Открытый простор  221048915 2015-11-27 12:00:00  Художественный   \n",
       "1  Особо важное задание  111013716 2016-09-13 12:00:00  Художественный   \n",
       "2          Особо опасен  221038416 2016-10-10 12:00:00  Художественный   \n",
       "3          Особо опасен  221026916 2016-06-10 12:00:00  Художественный   \n",
       "4          Особо опасен  221030815 2015-07-29 12:00:00  Художественный   \n",
       "\n",
       "                                         film_studio production_country  \\\n",
       "0  Тачстоун Пикчерз, Кобальт Пикчерз, Бикон Пикче...                США   \n",
       "1                              Киностудия \"Мосфильм\"               СССР   \n",
       "2  Юниверсал Пикчерз, Кикстарт Продакшнз, Марк Пл...                США   \n",
       "3  Юниверсал Пикчерз, Кикстарт Продакшнз, Марк Пл...                США   \n",
       "4  Юниверсал Пикчерз, Кикстарт Продакшнз, Марк Пл...                США   \n",
       "\n",
       "            director                                           producer  \\\n",
       "0      Кевин Костнер          Дэвид Валдес, Кевин Костнер, Джейк Эбертс   \n",
       "1          Е.Матвеев                                                NaN   \n",
       "2  Тимур Бекмамбетов  Джим Лемли, Джейсон Нетер, Марк Е.Платт, Яйн Смит   \n",
       "3  Тимур Бекмамбетов  Джим Лемли, Джейсон Нетер, Марк Е.Платт, Яйн Смит   \n",
       "4  Тимур Бекмамбетов  Джим Лемли, Джейсон Нетер, Марк Е.Платт, Яйн Смит   \n",
       "\n",
       "                 age_restriction  refundable_support  ...  budget  \\\n",
       "0    «18+» - запрещено для детей                 NaN  ...     NaN   \n",
       "1  «6+» - для детей старше 6 лет                 NaN  ...     NaN   \n",
       "2    «18+» - запрещено для детей                 NaN  ...     NaN   \n",
       "3    «18+» - запрещено для детей                 NaN  ...     NaN   \n",
       "4    «18+» - запрещено для детей                 NaN  ...     NaN   \n",
       "\n",
       "   financing_source ratings                     genres box_office  year  \\\n",
       "0               NaN       7     боевик,драма,мелодрама        NaN  2015   \n",
       "1               NaN       7              драма,военный        NaN  2016   \n",
       "2               NaN       7  фантастика,боевик,триллер        NaN  2016   \n",
       "3               NaN       7  фантастика,боевик,триллер        NaN  2016   \n",
       "4               NaN       7  фантастика,боевик,триллер        NaN  2015   \n",
       "\n",
       "     film_studio_primary genres_primary producer_primary   director_primary  \n",
       "0       Тачстоун Пикчерз         боевик     Дэвид Валдес      Кевин Костнер  \n",
       "1  Киностудия \"Мосфильм\"          драма              NaN          Е.Матвеев  \n",
       "2      Юниверсал Пикчерз     фантастика       Джим Лемли  Тимур Бекмамбетов  \n",
       "3      Юниверсал Пикчерз     фантастика       Джим Лемли  Тимур Бекмамбетов  \n",
       "4      Юниверсал Пикчерз     фантастика       Джим Лемли  Тимур Бекмамбетов  \n",
       "\n",
       "[5 rows x 21 columns]"
      ]
     },
     "execution_count": 20,
     "metadata": {},
     "output_type": "execute_result"
    }
   ],
   "source": [
    "df.head()"
   ]
  },
  {
   "cell_type": "code",
   "execution_count": 21,
   "metadata": {},
   "outputs": [
    {
     "data": {
      "text/plain": [
       "array(['«18+» - запрещено для детей', '«6+» - для детей старше 6 лет',\n",
       "       '«12+» - для детей старше 12 лет',\n",
       "       '«16+» - для детей старше 16 лет',\n",
       "       '«0+» - для любой зрительской аудитории'], dtype=object)"
      ]
     },
     "execution_count": 21,
     "metadata": {},
     "output_type": "execute_result"
    }
   ],
   "source": [
    "df['age_restriction'].unique()"
   ]
  },
  {
   "cell_type": "code",
   "execution_count": 22,
   "metadata": {},
   "outputs": [
    {
     "data": {
      "text/plain": [
       "array(['18+', '6+', '12+', '16+', '0+'], dtype=object)"
      ]
     },
     "execution_count": 22,
     "metadata": {},
     "output_type": "execute_result"
    }
   ],
   "source": [
    "# Столбец с описанием возрастного ограничения также требует обработки. Уберём лишнее.\n",
    "def age_short(text):\n",
    "    age_mapping = {\n",
    "        '0+': '0+',\n",
    "        '12+': '12+',\n",
    "        '16+': '16+',\n",
    "        '18+': '18+',\n",
    "        '6+': '6+'\n",
    "    }\n",
    "    for key in age_mapping:\n",
    "        if key in text:\n",
    "            return age_mapping[key]\n",
    "    return None\n",
    "\n",
    "df['age_restriction'] = df['age_restriction'].apply(age_short)\n",
    "\n",
    "df['age_restriction'].unique()"
   ]
  },
  {
   "cell_type": "code",
   "execution_count": 23,
   "metadata": {},
   "outputs": [
    {
     "data": {
      "text/html": [
       "<div>\n",
       "<style scoped>\n",
       "    .dataframe tbody tr th:only-of-type {\n",
       "        vertical-align: middle;\n",
       "    }\n",
       "\n",
       "    .dataframe tbody tr th {\n",
       "        vertical-align: top;\n",
       "    }\n",
       "\n",
       "    .dataframe thead th {\n",
       "        text-align: right;\n",
       "    }\n",
       "</style>\n",
       "<table border=\"1\" class=\"dataframe\">\n",
       "  <thead>\n",
       "    <tr style=\"text-align: right;\">\n",
       "      <th></th>\n",
       "      <th>title</th>\n",
       "      <th>puNumber</th>\n",
       "      <th>show_start_date</th>\n",
       "      <th>type</th>\n",
       "      <th>film_studio</th>\n",
       "      <th>production_country</th>\n",
       "      <th>director</th>\n",
       "      <th>producer</th>\n",
       "      <th>age_restriction</th>\n",
       "      <th>refundable_support</th>\n",
       "      <th>...</th>\n",
       "      <th>budget</th>\n",
       "      <th>financing_source</th>\n",
       "      <th>ratings</th>\n",
       "      <th>genres</th>\n",
       "      <th>box_office</th>\n",
       "      <th>year</th>\n",
       "      <th>film_studio_primary</th>\n",
       "      <th>genres_primary</th>\n",
       "      <th>producer_primary</th>\n",
       "      <th>director_primary</th>\n",
       "    </tr>\n",
       "  </thead>\n",
       "  <tbody>\n",
       "    <tr>\n",
       "      <th>0</th>\n",
       "      <td>Открытый простор</td>\n",
       "      <td>221048915</td>\n",
       "      <td>2015-11-27 12:00:00</td>\n",
       "      <td>Художественный</td>\n",
       "      <td>Тачстоун Пикчерз, Кобальт Пикчерз, Бикон Пикче...</td>\n",
       "      <td>США</td>\n",
       "      <td>Кевин Костнер</td>\n",
       "      <td>Дэвид Валдес, Кевин Костнер, Джейк Эбертс</td>\n",
       "      <td>18+</td>\n",
       "      <td>NaN</td>\n",
       "      <td>...</td>\n",
       "      <td>NaN</td>\n",
       "      <td>NaN</td>\n",
       "      <td>7</td>\n",
       "      <td>боевик,драма,мелодрама</td>\n",
       "      <td>NaN</td>\n",
       "      <td>2015</td>\n",
       "      <td>Тачстоун Пикчерз</td>\n",
       "      <td>боевик</td>\n",
       "      <td>Дэвид Валдес</td>\n",
       "      <td>Кевин Костнер</td>\n",
       "    </tr>\n",
       "    <tr>\n",
       "      <th>1</th>\n",
       "      <td>Особо важное задание</td>\n",
       "      <td>111013716</td>\n",
       "      <td>2016-09-13 12:00:00</td>\n",
       "      <td>Художественный</td>\n",
       "      <td>Киностудия \"Мосфильм\"</td>\n",
       "      <td>СССР</td>\n",
       "      <td>Е.Матвеев</td>\n",
       "      <td>NaN</td>\n",
       "      <td>6+</td>\n",
       "      <td>NaN</td>\n",
       "      <td>...</td>\n",
       "      <td>NaN</td>\n",
       "      <td>NaN</td>\n",
       "      <td>7</td>\n",
       "      <td>драма,военный</td>\n",
       "      <td>NaN</td>\n",
       "      <td>2016</td>\n",
       "      <td>Киностудия \"Мосфильм\"</td>\n",
       "      <td>драма</td>\n",
       "      <td>NaN</td>\n",
       "      <td>Е.Матвеев</td>\n",
       "    </tr>\n",
       "    <tr>\n",
       "      <th>2</th>\n",
       "      <td>Особо опасен</td>\n",
       "      <td>221038416</td>\n",
       "      <td>2016-10-10 12:00:00</td>\n",
       "      <td>Художественный</td>\n",
       "      <td>Юниверсал Пикчерз, Кикстарт Продакшнз, Марк Пл...</td>\n",
       "      <td>США</td>\n",
       "      <td>Тимур Бекмамбетов</td>\n",
       "      <td>Джим Лемли, Джейсон Нетер, Марк Е.Платт, Яйн Смит</td>\n",
       "      <td>18+</td>\n",
       "      <td>NaN</td>\n",
       "      <td>...</td>\n",
       "      <td>NaN</td>\n",
       "      <td>NaN</td>\n",
       "      <td>7</td>\n",
       "      <td>фантастика,боевик,триллер</td>\n",
       "      <td>NaN</td>\n",
       "      <td>2016</td>\n",
       "      <td>Юниверсал Пикчерз</td>\n",
       "      <td>фантастика</td>\n",
       "      <td>Джим Лемли</td>\n",
       "      <td>Тимур Бекмамбетов</td>\n",
       "    </tr>\n",
       "    <tr>\n",
       "      <th>3</th>\n",
       "      <td>Особо опасен</td>\n",
       "      <td>221026916</td>\n",
       "      <td>2016-06-10 12:00:00</td>\n",
       "      <td>Художественный</td>\n",
       "      <td>Юниверсал Пикчерз, Кикстарт Продакшнз, Марк Пл...</td>\n",
       "      <td>США</td>\n",
       "      <td>Тимур Бекмамбетов</td>\n",
       "      <td>Джим Лемли, Джейсон Нетер, Марк Е.Платт, Яйн Смит</td>\n",
       "      <td>18+</td>\n",
       "      <td>NaN</td>\n",
       "      <td>...</td>\n",
       "      <td>NaN</td>\n",
       "      <td>NaN</td>\n",
       "      <td>7</td>\n",
       "      <td>фантастика,боевик,триллер</td>\n",
       "      <td>NaN</td>\n",
       "      <td>2016</td>\n",
       "      <td>Юниверсал Пикчерз</td>\n",
       "      <td>фантастика</td>\n",
       "      <td>Джим Лемли</td>\n",
       "      <td>Тимур Бекмамбетов</td>\n",
       "    </tr>\n",
       "    <tr>\n",
       "      <th>4</th>\n",
       "      <td>Особо опасен</td>\n",
       "      <td>221030815</td>\n",
       "      <td>2015-07-29 12:00:00</td>\n",
       "      <td>Художественный</td>\n",
       "      <td>Юниверсал Пикчерз, Кикстарт Продакшнз, Марк Пл...</td>\n",
       "      <td>США</td>\n",
       "      <td>Тимур Бекмамбетов</td>\n",
       "      <td>Джим Лемли, Джейсон Нетер, Марк Е.Платт, Яйн Смит</td>\n",
       "      <td>18+</td>\n",
       "      <td>NaN</td>\n",
       "      <td>...</td>\n",
       "      <td>NaN</td>\n",
       "      <td>NaN</td>\n",
       "      <td>7</td>\n",
       "      <td>фантастика,боевик,триллер</td>\n",
       "      <td>NaN</td>\n",
       "      <td>2015</td>\n",
       "      <td>Юниверсал Пикчерз</td>\n",
       "      <td>фантастика</td>\n",
       "      <td>Джим Лемли</td>\n",
       "      <td>Тимур Бекмамбетов</td>\n",
       "    </tr>\n",
       "  </tbody>\n",
       "</table>\n",
       "<p>5 rows × 21 columns</p>\n",
       "</div>"
      ],
      "text/plain": [
       "                  title   puNumber     show_start_date            type  \\\n",
       "0      Открытый простор  221048915 2015-11-27 12:00:00  Художественный   \n",
       "1  Особо важное задание  111013716 2016-09-13 12:00:00  Художественный   \n",
       "2          Особо опасен  221038416 2016-10-10 12:00:00  Художественный   \n",
       "3          Особо опасен  221026916 2016-06-10 12:00:00  Художественный   \n",
       "4          Особо опасен  221030815 2015-07-29 12:00:00  Художественный   \n",
       "\n",
       "                                         film_studio production_country  \\\n",
       "0  Тачстоун Пикчерз, Кобальт Пикчерз, Бикон Пикче...                США   \n",
       "1                              Киностудия \"Мосфильм\"               СССР   \n",
       "2  Юниверсал Пикчерз, Кикстарт Продакшнз, Марк Пл...                США   \n",
       "3  Юниверсал Пикчерз, Кикстарт Продакшнз, Марк Пл...                США   \n",
       "4  Юниверсал Пикчерз, Кикстарт Продакшнз, Марк Пл...                США   \n",
       "\n",
       "            director                                           producer  \\\n",
       "0      Кевин Костнер          Дэвид Валдес, Кевин Костнер, Джейк Эбертс   \n",
       "1          Е.Матвеев                                                NaN   \n",
       "2  Тимур Бекмамбетов  Джим Лемли, Джейсон Нетер, Марк Е.Платт, Яйн Смит   \n",
       "3  Тимур Бекмамбетов  Джим Лемли, Джейсон Нетер, Марк Е.Платт, Яйн Смит   \n",
       "4  Тимур Бекмамбетов  Джим Лемли, Джейсон Нетер, Марк Е.Платт, Яйн Смит   \n",
       "\n",
       "  age_restriction  refundable_support  ...  budget  financing_source ratings  \\\n",
       "0             18+                 NaN  ...     NaN               NaN       7   \n",
       "1              6+                 NaN  ...     NaN               NaN       7   \n",
       "2             18+                 NaN  ...     NaN               NaN       7   \n",
       "3             18+                 NaN  ...     NaN               NaN       7   \n",
       "4             18+                 NaN  ...     NaN               NaN       7   \n",
       "\n",
       "                      genres box_office  year    film_studio_primary  \\\n",
       "0     боевик,драма,мелодрама        NaN  2015       Тачстоун Пикчерз   \n",
       "1              драма,военный        NaN  2016  Киностудия \"Мосфильм\"   \n",
       "2  фантастика,боевик,триллер        NaN  2016      Юниверсал Пикчерз   \n",
       "3  фантастика,боевик,триллер        NaN  2016      Юниверсал Пикчерз   \n",
       "4  фантастика,боевик,триллер        NaN  2015      Юниверсал Пикчерз   \n",
       "\n",
       "  genres_primary producer_primary   director_primary  \n",
       "0         боевик     Дэвид Валдес      Кевин Костнер  \n",
       "1          драма              NaN          Е.Матвеев  \n",
       "2     фантастика       Джим Лемли  Тимур Бекмамбетов  \n",
       "3     фантастика       Джим Лемли  Тимур Бекмамбетов  \n",
       "4     фантастика       Джим Лемли  Тимур Бекмамбетов  \n",
       "\n",
       "[5 rows x 21 columns]"
      ]
     },
     "execution_count": 23,
     "metadata": {},
     "output_type": "execute_result"
    }
   ],
   "source": [
    "df.head()"
   ]
  },
  {
   "cell_type": "code",
   "execution_count": 24,
   "metadata": {},
   "outputs": [],
   "source": [
    "# Может быть наличие пробелов в начале/конце строковых значений, обработаем это.\n",
    "for column in df.columns:\n",
    "    if df[column].dtype == 'object':\n",
    "        df[column] = df[column].str.strip()\n",
    "        "
   ]
  },
  {
   "cell_type": "code",
   "execution_count": 25,
   "metadata": {},
   "outputs": [
    {
     "name": "stdout",
     "output_type": "stream",
     "text": [
      "title - 0%\n",
      "puNumber - 0%\n",
      "show_start_date - 0%\n",
      "type - 0%\n",
      "film_studio - 0%\n",
      "production_country - 0%\n",
      "director - 0%\n",
      "producer - 8%\n",
      "age_restriction - 0%\n",
      "refundable_support - 96%\n",
      "nonrefundable_support - 96%\n",
      "budget - 96%\n",
      "financing_source - 96%\n",
      "ratings - 13%\n",
      "genres - 13%\n",
      "box_office - 58%\n",
      "year - 0%\n",
      "film_studio_primary - 0%\n",
      "genres_primary - 13%\n",
      "producer_primary - 8%\n",
      "director_primary - 0%\n"
     ]
    }
   ],
   "source": [
    "# Ещё раз посомтрим на кол-во пропусков\n",
    "for col in df.columns:\n",
    "    pct_missing = np.mean(df[col].isnull())\n",
    "    print('{} - {}%'.format(col, round(pct_missing*100)))"
   ]
  },
  {
   "cell_type": "markdown",
   "metadata": {},
   "source": [
    "Данные о возвратной и невозвратной поддержке, общем бюджете фильма, источниках финансирования, рейтинге на КиноПоиске и сборах в прокате имеют высокий процент пропусков (96% для поддержки и бюджета, 58% для сборов в прокате). Однако, удалять их нельзя, т.к. потерятеся много данных.\n",
    "Логичных вариантов заполнения также предложить не могу, поэтому, оставим пропуски в данных."
   ]
  },
  {
   "cell_type": "code",
   "execution_count": 26,
   "metadata": {},
   "outputs": [
    {
     "data": {
      "text/plain": [
       "713"
      ]
     },
     "execution_count": 26,
     "metadata": {},
     "output_type": "execute_result"
    }
   ],
   "source": [
    "# Относительно неявных дубликатов по столбцам, вполне ожидаемо, что названия студий, режисеров, продюссеров и т.д. буду повторяться, это логично, т.к. один и тот же режисер,\n",
    "# студия и т.п. могут быть задействованы для разных фильмов.\n",
    "# Посмотрим на столбец с названиями фильмов.\n",
    "df['title'].duplicated().sum()"
   ]
  },
  {
   "cell_type": "code",
   "execution_count": 27,
   "metadata": {},
   "outputs": [],
   "source": [
    "# Названия фильмов дублируются, но прокатные лиценции нет. Существуют случаи, когда фильм может иметь несколько прокатных удостоверений.\n",
    "# Например, если фильм изменяется для показа в разных странах или если он переиздается с дополнительными материалами или изменениями, \n",
    "# которые требуют нового удостоверения. Также может потребоваться дополнительное удостоверение, если фильм изменяется для показа в различных \n",
    "# форматах или на различных платформах (например, в 2D и 3D форматах или для IMAX).\n",
    "\n",
    "#  Оставим такие строки."
   ]
  },
  {
   "cell_type": "code",
   "execution_count": 28,
   "metadata": {},
   "outputs": [
    {
     "data": {
      "text/plain": [
       "array([[<AxesSubplot:title={'center':'budget'}>,\n",
       "        <AxesSubplot:title={'center':'refundable_support'}>],\n",
       "       [<AxesSubplot:title={'center':'nonrefundable_support'}>,\n",
       "        <AxesSubplot:title={'center':'box_office'}>]], dtype=object)"
      ]
     },
     "execution_count": 28,
     "metadata": {},
     "output_type": "execute_result"
    },
    {
     "data": {
      "image/png": "[encoded data removed]",
      "text/plain": [
       "<Figure size 720x1080 with 4 Axes>"
      ]
     },
     "metadata": {
      "needs_background": "light"
     },
     "output_type": "display_data"
    }
   ],
   "source": [
    "# Посмотрим количественные значения\n",
    "df[['budget', 'refundable_support', 'nonrefundable_support', 'box_office']].hist(figsize=(10, 15))"
   ]
  },
  {
   "cell_type": "code",
   "execution_count": 29,
   "metadata": {},
   "outputs": [
    {
     "data": {
      "image/png": "[encoded data removed]",
      "text/plain": [
       "<Figure size 432x288 with 1 Axes>"
      ]
     },
     "metadata": {
      "needs_background": "light"
     },
     "output_type": "display_data"
    }
   ],
   "source": [
    "plt.boxplot(df['budget'].dropna(), vert=False)\n",
    "plt.grid(True)\n",
    "plt.show()"
   ]
  },
  {
   "cell_type": "code",
   "execution_count": 30,
   "metadata": {},
   "outputs": [
    {
     "data": {
      "text/plain": [
       "count             332\n",
       "mean      127,229,717\n",
       "std       188,588,333\n",
       "min                 0\n",
       "25%        42,000,000\n",
       "50%        68,649,916\n",
       "75%       141,985,320\n",
       "max     2,305,074,303\n",
       "Name: budget, dtype: float64"
      ]
     },
     "execution_count": 30,
     "metadata": {},
     "output_type": "execute_result"
    }
   ],
   "source": [
    "df['budget'].describe()"
   ]
  },
  {
   "cell_type": "code",
   "execution_count": 31,
   "metadata": {},
   "outputs": [],
   "source": [
    "# Вижу, что в столбце с бюджетом есть значения равные 0, а также, смущает один выброс.\n",
    "# Удалим выброс.\n",
    "df = df.query('(budget < 2.305074e+09) or budget.isna()')\n",
    "\n",
    "# Значение 0 в budget выглядит странно, т.к. известно, что данные в этом столбце указаны только для тех фильмов, которые уже получили государственную поддержку.\n",
    "# Предположу, что это из-за того, что полный бюджет фильма не известен.\n",
    "# Можно попробовать исправить нулевые значения на сумму значений из колонок с возвртной и невозвратной гос. поддержкой, чтобы не стояли нули и не заменять на NaN.\n",
    "\n",
    "df['budget'] = df['budget'].where(\n",
    "    df['budget'] > 0,\n",
    "    df['refundable_support'] + df['nonrefundable_support']\n",
    "    )"
   ]
  },
  {
   "cell_type": "code",
   "execution_count": 32,
   "metadata": {},
   "outputs": [
    {
     "data": {
      "text/html": [
       "<div>\n",
       "<style scoped>\n",
       "    .dataframe tbody tr th:only-of-type {\n",
       "        vertical-align: middle;\n",
       "    }\n",
       "\n",
       "    .dataframe tbody tr th {\n",
       "        vertical-align: top;\n",
       "    }\n",
       "\n",
       "    .dataframe thead th {\n",
       "        text-align: right;\n",
       "    }\n",
       "</style>\n",
       "<table border=\"1\" class=\"dataframe\">\n",
       "  <thead>\n",
       "    <tr style=\"text-align: right;\">\n",
       "      <th></th>\n",
       "      <th>title</th>\n",
       "      <th>puNumber</th>\n",
       "      <th>show_start_date</th>\n",
       "      <th>type</th>\n",
       "      <th>film_studio</th>\n",
       "      <th>production_country</th>\n",
       "      <th>director</th>\n",
       "      <th>producer</th>\n",
       "      <th>age_restriction</th>\n",
       "      <th>refundable_support</th>\n",
       "      <th>...</th>\n",
       "      <th>budget</th>\n",
       "      <th>financing_source</th>\n",
       "      <th>ratings</th>\n",
       "      <th>genres</th>\n",
       "      <th>box_office</th>\n",
       "      <th>year</th>\n",
       "      <th>film_studio_primary</th>\n",
       "      <th>genres_primary</th>\n",
       "      <th>producer_primary</th>\n",
       "      <th>director_primary</th>\n",
       "    </tr>\n",
       "  </thead>\n",
       "  <tbody>\n",
       "  </tbody>\n",
       "</table>\n",
       "<p>0 rows × 21 columns</p>\n",
       "</div>"
      ],
      "text/plain": [
       "Empty DataFrame\n",
       "Columns: [title, puNumber, show_start_date, type, film_studio, production_country, director, producer, age_restriction, refundable_support, nonrefundable_support, budget, financing_source, ratings, genres, box_office, year, film_studio_primary, genres_primary, producer_primary, director_primary]\n",
       "Index: []\n",
       "\n",
       "[0 rows x 21 columns]"
      ]
     },
     "execution_count": 32,
     "metadata": {},
     "output_type": "execute_result"
    }
   ],
   "source": [
    "df.query('budget == 0')"
   ]
  },
  {
   "cell_type": "code",
   "execution_count": 33,
   "metadata": {},
   "outputs": [],
   "source": [
    "# Посчитаем, какую долю от общего бюджета фильма составляет государственная поддержка.\n",
    "df['support_budget_ratio'] = round((df['refundable_support'] + df['nonrefundable_support']) / df['budget'] * 100)"
   ]
  },
  {
   "cell_type": "code",
   "execution_count": 34,
   "metadata": {},
   "outputs": [
    {
     "data": {
      "text/html": [
       "<div>\n",
       "<style scoped>\n",
       "    .dataframe tbody tr th:only-of-type {\n",
       "        vertical-align: middle;\n",
       "    }\n",
       "\n",
       "    .dataframe tbody tr th {\n",
       "        vertical-align: top;\n",
       "    }\n",
       "\n",
       "    .dataframe thead th {\n",
       "        text-align: right;\n",
       "    }\n",
       "</style>\n",
       "<table border=\"1\" class=\"dataframe\">\n",
       "  <thead>\n",
       "    <tr style=\"text-align: right;\">\n",
       "      <th></th>\n",
       "      <th>title</th>\n",
       "      <th>puNumber</th>\n",
       "      <th>show_start_date</th>\n",
       "      <th>type</th>\n",
       "      <th>film_studio</th>\n",
       "      <th>production_country</th>\n",
       "      <th>director</th>\n",
       "      <th>producer</th>\n",
       "      <th>age_restriction</th>\n",
       "      <th>refundable_support</th>\n",
       "      <th>...</th>\n",
       "      <th>financing_source</th>\n",
       "      <th>ratings</th>\n",
       "      <th>genres</th>\n",
       "      <th>box_office</th>\n",
       "      <th>year</th>\n",
       "      <th>film_studio_primary</th>\n",
       "      <th>genres_primary</th>\n",
       "      <th>producer_primary</th>\n",
       "      <th>director_primary</th>\n",
       "      <th>support_budget_ratio</th>\n",
       "    </tr>\n",
       "  </thead>\n",
       "  <tbody>\n",
       "    <tr>\n",
       "      <th>1281</th>\n",
       "      <td>Пока еще жива</td>\n",
       "      <td>111005313</td>\n",
       "      <td>2013-10-11 12:00:00</td>\n",
       "      <td>Художественный</td>\n",
       "      <td>АНО содействия развитию кинематографии \"Ангел-...</td>\n",
       "      <td>Россия</td>\n",
       "      <td>А.Атанесян</td>\n",
       "      <td>А.Атанесян, М.Бабаханов, Р.Бутко</td>\n",
       "      <td>16+</td>\n",
       "      <td>0</td>\n",
       "      <td>...</td>\n",
       "      <td>Министерство культуры</td>\n",
       "      <td>8</td>\n",
       "      <td>драма,мелодрама</td>\n",
       "      <td>365,354</td>\n",
       "      <td>2013</td>\n",
       "      <td>АНО содействия развитию кинематографии \"Ангел-...</td>\n",
       "      <td>драма</td>\n",
       "      <td>А.Атанесян</td>\n",
       "      <td>А.Атанесян</td>\n",
       "      <td>33</td>\n",
       "    </tr>\n",
       "    <tr>\n",
       "      <th>1448</th>\n",
       "      <td>Бесславные придурки</td>\n",
       "      <td>111003314</td>\n",
       "      <td>2014-03-28 12:00:00</td>\n",
       "      <td>Художественный</td>\n",
       "      <td>ООО \"Компания \"АТК-Студио\"</td>\n",
       "      <td>Россия</td>\n",
       "      <td>А.Якимчук</td>\n",
       "      <td>А.Тютрюмов</td>\n",
       "      <td>12+</td>\n",
       "      <td>0</td>\n",
       "      <td>...</td>\n",
       "      <td>Министерство культуры</td>\n",
       "      <td>NaN</td>\n",
       "      <td>NaN</td>\n",
       "      <td>28,140</td>\n",
       "      <td>2014</td>\n",
       "      <td>ООО \"Компания \"АТК-Студио\"</td>\n",
       "      <td>NaN</td>\n",
       "      <td>А.Тютрюмов</td>\n",
       "      <td>А.Якимчук</td>\n",
       "      <td>70</td>\n",
       "    </tr>\n",
       "    <tr>\n",
       "      <th>1498</th>\n",
       "      <td>Невидимки</td>\n",
       "      <td>111004213</td>\n",
       "      <td>2013-09-10 12:00:00</td>\n",
       "      <td>Художественный</td>\n",
       "      <td>ООО \"Компания \"РЕАЛ-ДАКОТА\"</td>\n",
       "      <td>Россия</td>\n",
       "      <td>Р.Давлетьяров, С.Комаров</td>\n",
       "      <td>Р.Давлетьяров, А.Котелевский, А.Олейников</td>\n",
       "      <td>12+</td>\n",
       "      <td>0</td>\n",
       "      <td>...</td>\n",
       "      <td>Фонд кино</td>\n",
       "      <td>5</td>\n",
       "      <td>комедия,фантастика</td>\n",
       "      <td>19,957,032</td>\n",
       "      <td>2013</td>\n",
       "      <td>ООО \"Компания \"РЕАЛ-ДАКОТА\"</td>\n",
       "      <td>комедия</td>\n",
       "      <td>Р.Давлетьяров</td>\n",
       "      <td>Р.Давлетьяров</td>\n",
       "      <td>61</td>\n",
       "    </tr>\n",
       "    <tr>\n",
       "      <th>1524</th>\n",
       "      <td>БЕРЦЫ</td>\n",
       "      <td>111004314</td>\n",
       "      <td>2014-05-05 12:00:00</td>\n",
       "      <td>Художественный</td>\n",
       "      <td>ООО \"Студия \"Пассажир\"</td>\n",
       "      <td>Россия</td>\n",
       "      <td>Е.Миндадзе (псевдоним Катя Шагалова)</td>\n",
       "      <td>Л.Антонова</td>\n",
       "      <td>16+</td>\n",
       "      <td>0</td>\n",
       "      <td>...</td>\n",
       "      <td>Министерство культуры</td>\n",
       "      <td>4</td>\n",
       "      <td>драма</td>\n",
       "      <td>55,918</td>\n",
       "      <td>2014</td>\n",
       "      <td>ООО \"Студия \"Пассажир\"</td>\n",
       "      <td>драма</td>\n",
       "      <td>Л.Антонова</td>\n",
       "      <td>Е.Миндадзе (псевдоним Катя Шагалова)</td>\n",
       "      <td>69</td>\n",
       "    </tr>\n",
       "    <tr>\n",
       "      <th>1792</th>\n",
       "      <td>Братья Ч</td>\n",
       "      <td>111004414</td>\n",
       "      <td>2014-04-23 12:00:00</td>\n",
       "      <td>Художественный</td>\n",
       "      <td>ООО \"Студия \"Пассажир\"</td>\n",
       "      <td>Россия</td>\n",
       "      <td>М.Угаров</td>\n",
       "      <td>А.Миндадзе, Л.Антонова</td>\n",
       "      <td>16+</td>\n",
       "      <td>0</td>\n",
       "      <td>...</td>\n",
       "      <td>Министерство культуры</td>\n",
       "      <td>6</td>\n",
       "      <td>драма</td>\n",
       "      <td>232,100</td>\n",
       "      <td>2014</td>\n",
       "      <td>ООО \"Студия \"Пассажир\"</td>\n",
       "      <td>драма</td>\n",
       "      <td>А.Миндадзе</td>\n",
       "      <td>М.Угаров</td>\n",
       "      <td>62</td>\n",
       "    </tr>\n",
       "    <tr>\n",
       "      <th>...</th>\n",
       "      <td>...</td>\n",
       "      <td>...</td>\n",
       "      <td>...</td>\n",
       "      <td>...</td>\n",
       "      <td>...</td>\n",
       "      <td>...</td>\n",
       "      <td>...</td>\n",
       "      <td>...</td>\n",
       "      <td>...</td>\n",
       "      <td>...</td>\n",
       "      <td>...</td>\n",
       "      <td>...</td>\n",
       "      <td>...</td>\n",
       "      <td>...</td>\n",
       "      <td>...</td>\n",
       "      <td>...</td>\n",
       "      <td>...</td>\n",
       "      <td>...</td>\n",
       "      <td>...</td>\n",
       "      <td>...</td>\n",
       "      <td>...</td>\n",
       "    </tr>\n",
       "    <tr>\n",
       "      <th>7462</th>\n",
       "      <td>Союз спасения</td>\n",
       "      <td>111022019</td>\n",
       "      <td>2019-12-26 12:00:00</td>\n",
       "      <td>Художественный</td>\n",
       "      <td>ЗАО \"Дирекция кино\"</td>\n",
       "      <td>Россия</td>\n",
       "      <td>А.Кравчук</td>\n",
       "      <td>А.Максимов, К.Эрнст</td>\n",
       "      <td>12+</td>\n",
       "      <td>100,000,000</td>\n",
       "      <td>...</td>\n",
       "      <td>Фонд кино</td>\n",
       "      <td>6</td>\n",
       "      <td>история,биография,драма</td>\n",
       "      <td>717,703,186</td>\n",
       "      <td>2019</td>\n",
       "      <td>ЗАО \"Дирекция кино\"</td>\n",
       "      <td>история</td>\n",
       "      <td>А.Максимов</td>\n",
       "      <td>А.Кравчук</td>\n",
       "      <td>51</td>\n",
       "    </tr>\n",
       "    <tr>\n",
       "      <th>7464</th>\n",
       "      <td>Иван Царевич и Серый Волк 4</td>\n",
       "      <td>114005019</td>\n",
       "      <td>2019-12-20 12:00:00</td>\n",
       "      <td>Анимационный</td>\n",
       "      <td>ООО \"Студия анимационного кино \"Мельница\"</td>\n",
       "      <td>Россия</td>\n",
       "      <td>Д.Шмидт, К.Феоктистов</td>\n",
       "      <td>С.Сельянов, А.Боярский</td>\n",
       "      <td>6+</td>\n",
       "      <td>100,000,000</td>\n",
       "      <td>...</td>\n",
       "      <td>Фонд кино</td>\n",
       "      <td>7</td>\n",
       "      <td>мультфильм,приключения,семейный</td>\n",
       "      <td>501,069,235</td>\n",
       "      <td>2019</td>\n",
       "      <td>ООО \"Студия анимационного кино \"Мельница\"</td>\n",
       "      <td>мультфильм</td>\n",
       "      <td>С.Сельянов</td>\n",
       "      <td>Д.Шмидт</td>\n",
       "      <td>53</td>\n",
       "    </tr>\n",
       "    <tr>\n",
       "      <th>7472</th>\n",
       "      <td>Вторжение</td>\n",
       "      <td>111022519</td>\n",
       "      <td>2019-12-23 12:00:00</td>\n",
       "      <td>Художественный</td>\n",
       "      <td>ООО \"Арт Пикчерс Студия\", ООО \"Водород 2011\"</td>\n",
       "      <td>Россия</td>\n",
       "      <td>Ф.Бондарчук</td>\n",
       "      <td>Ф.Бондарчук, М.Врубель, А.Андрющенко, Д.Рудовский</td>\n",
       "      <td>12+</td>\n",
       "      <td>100,000,000</td>\n",
       "      <td>...</td>\n",
       "      <td>Фонд кино</td>\n",
       "      <td>6</td>\n",
       "      <td>фантастика,боевик</td>\n",
       "      <td>NaN</td>\n",
       "      <td>2019</td>\n",
       "      <td>ООО \"Арт Пикчерс Студия\"</td>\n",
       "      <td>фантастика</td>\n",
       "      <td>Ф.Бондарчук</td>\n",
       "      <td>Ф.Бондарчук</td>\n",
       "      <td>53</td>\n",
       "    </tr>\n",
       "    <tr>\n",
       "      <th>7474</th>\n",
       "      <td>Я свободен</td>\n",
       "      <td>111023019</td>\n",
       "      <td>2019-12-26 12:00:00</td>\n",
       "      <td>Художественный</td>\n",
       "      <td>АО \"ТПО \"Киностудия им. М.Горького\"</td>\n",
       "      <td>Россия</td>\n",
       "      <td>И.Северов</td>\n",
       "      <td>С.Зернов</td>\n",
       "      <td>12+</td>\n",
       "      <td>0</td>\n",
       "      <td>...</td>\n",
       "      <td>Министерство культуры</td>\n",
       "      <td>6</td>\n",
       "      <td>драма</td>\n",
       "      <td>NaN</td>\n",
       "      <td>2019</td>\n",
       "      <td>АО \"ТПО \"Киностудия им. М.Горького\"</td>\n",
       "      <td>драма</td>\n",
       "      <td>С.Зернов</td>\n",
       "      <td>И.Северов</td>\n",
       "      <td>65</td>\n",
       "    </tr>\n",
       "    <tr>\n",
       "      <th>7476</th>\n",
       "      <td>(Не)идеальный мужчина</td>\n",
       "      <td>111023119</td>\n",
       "      <td>2019-12-24 12:00:00</td>\n",
       "      <td>Художественный</td>\n",
       "      <td>ООО \"Нон-Стоп Продакшн\"</td>\n",
       "      <td>Россия</td>\n",
       "      <td>М.Бальчюнас (псевдоним М.Вайсберг)</td>\n",
       "      <td>С.Мелькумов, А.Роднянский, М.Вайсберг, Р.Минас...</td>\n",
       "      <td>12+</td>\n",
       "      <td>40,000,000</td>\n",
       "      <td>...</td>\n",
       "      <td>Фонд кино</td>\n",
       "      <td>4</td>\n",
       "      <td>комедия,фантастика,мелодрама</td>\n",
       "      <td>NaN</td>\n",
       "      <td>2019</td>\n",
       "      <td>ООО \"Нон-Стоп Продакшн\"</td>\n",
       "      <td>комедия</td>\n",
       "      <td>С.Мелькумов</td>\n",
       "      <td>М.Бальчюнас (псевдоним М.Вайсберг)</td>\n",
       "      <td>67</td>\n",
       "    </tr>\n",
       "  </tbody>\n",
       "</table>\n",
       "<p>331 rows × 22 columns</p>\n",
       "</div>"
      ],
      "text/plain": [
       "                            title   puNumber     show_start_date  \\\n",
       "1281                Пока еще жива  111005313 2013-10-11 12:00:00   \n",
       "1448          Бесславные придурки  111003314 2014-03-28 12:00:00   \n",
       "1498                    Невидимки  111004213 2013-09-10 12:00:00   \n",
       "1524                        БЕРЦЫ  111004314 2014-05-05 12:00:00   \n",
       "1792                     Братья Ч  111004414 2014-04-23 12:00:00   \n",
       "...                           ...        ...                 ...   \n",
       "7462                Союз спасения  111022019 2019-12-26 12:00:00   \n",
       "7464  Иван Царевич и Серый Волк 4  114005019 2019-12-20 12:00:00   \n",
       "7472                    Вторжение  111022519 2019-12-23 12:00:00   \n",
       "7474                   Я свободен  111023019 2019-12-26 12:00:00   \n",
       "7476        (Не)идеальный мужчина  111023119 2019-12-24 12:00:00   \n",
       "\n",
       "                type                                        film_studio  \\\n",
       "1281  Художественный  АНО содействия развитию кинематографии \"Ангел-...   \n",
       "1448  Художественный                         ООО \"Компания \"АТК-Студио\"   \n",
       "1498  Художественный                        ООО \"Компания \"РЕАЛ-ДАКОТА\"   \n",
       "1524  Художественный                             ООО \"Студия \"Пассажир\"   \n",
       "1792  Художественный                             ООО \"Студия \"Пассажир\"   \n",
       "...              ...                                                ...   \n",
       "7462  Художественный                                ЗАО \"Дирекция кино\"   \n",
       "7464    Анимационный          ООО \"Студия анимационного кино \"Мельница\"   \n",
       "7472  Художественный       ООО \"Арт Пикчерс Студия\", ООО \"Водород 2011\"   \n",
       "7474  Художественный                АО \"ТПО \"Киностудия им. М.Горького\"   \n",
       "7476  Художественный                            ООО \"Нон-Стоп Продакшн\"   \n",
       "\n",
       "     production_country                              director  \\\n",
       "1281             Россия                            А.Атанесян   \n",
       "1448             Россия                             А.Якимчук   \n",
       "1498             Россия              Р.Давлетьяров, С.Комаров   \n",
       "1524             Россия  Е.Миндадзе (псевдоним Катя Шагалова)   \n",
       "1792             Россия                              М.Угаров   \n",
       "...                 ...                                   ...   \n",
       "7462             Россия                             А.Кравчук   \n",
       "7464             Россия                 Д.Шмидт, К.Феоктистов   \n",
       "7472             Россия                           Ф.Бондарчук   \n",
       "7474             Россия                             И.Северов   \n",
       "7476             Россия    М.Бальчюнас (псевдоним М.Вайсберг)   \n",
       "\n",
       "                                               producer age_restriction  \\\n",
       "1281                   А.Атанесян, М.Бабаханов, Р.Бутко             16+   \n",
       "1448                                         А.Тютрюмов             12+   \n",
       "1498          Р.Давлетьяров, А.Котелевский, А.Олейников             12+   \n",
       "1524                                         Л.Антонова             16+   \n",
       "1792                             А.Миндадзе, Л.Антонова             16+   \n",
       "...                                                 ...             ...   \n",
       "7462                                А.Максимов, К.Эрнст             12+   \n",
       "7464                             С.Сельянов, А.Боярский              6+   \n",
       "7472  Ф.Бондарчук, М.Врубель, А.Андрющенко, Д.Рудовский             12+   \n",
       "7474                                           С.Зернов             12+   \n",
       "7476  С.Мелькумов, А.Роднянский, М.Вайсберг, Р.Минас...             12+   \n",
       "\n",
       "      refundable_support  ...       financing_source  ratings  \\\n",
       "1281                   0  ...  Министерство культуры        8   \n",
       "1448                   0  ...  Министерство культуры      NaN   \n",
       "1498                   0  ...              Фонд кино        5   \n",
       "1524                   0  ...  Министерство культуры        4   \n",
       "1792                   0  ...  Министерство культуры        6   \n",
       "...                  ...  ...                    ...      ...   \n",
       "7462         100,000,000  ...              Фонд кино        6   \n",
       "7464         100,000,000  ...              Фонд кино        7   \n",
       "7472         100,000,000  ...              Фонд кино        6   \n",
       "7474                   0  ...  Министерство культуры        6   \n",
       "7476          40,000,000  ...              Фонд кино        4   \n",
       "\n",
       "                               genres  box_office  year  \\\n",
       "1281                  драма,мелодрама     365,354  2013   \n",
       "1448                              NaN      28,140  2014   \n",
       "1498               комедия,фантастика  19,957,032  2013   \n",
       "1524                            драма      55,918  2014   \n",
       "1792                            драма     232,100  2014   \n",
       "...                               ...         ...   ...   \n",
       "7462          история,биография,драма 717,703,186  2019   \n",
       "7464  мультфильм,приключения,семейный 501,069,235  2019   \n",
       "7472                фантастика,боевик         NaN  2019   \n",
       "7474                            драма         NaN  2019   \n",
       "7476     комедия,фантастика,мелодрама         NaN  2019   \n",
       "\n",
       "                                    film_studio_primary  genres_primary  \\\n",
       "1281  АНО содействия развитию кинематографии \"Ангел-...           драма   \n",
       "1448                         ООО \"Компания \"АТК-Студио\"             NaN   \n",
       "1498                        ООО \"Компания \"РЕАЛ-ДАКОТА\"         комедия   \n",
       "1524                             ООО \"Студия \"Пассажир\"           драма   \n",
       "1792                             ООО \"Студия \"Пассажир\"           драма   \n",
       "...                                                 ...             ...   \n",
       "7462                                ЗАО \"Дирекция кино\"         история   \n",
       "7464          ООО \"Студия анимационного кино \"Мельница\"      мультфильм   \n",
       "7472                           ООО \"Арт Пикчерс Студия\"      фантастика   \n",
       "7474                АО \"ТПО \"Киностудия им. М.Горького\"           драма   \n",
       "7476                            ООО \"Нон-Стоп Продакшн\"         комедия   \n",
       "\n",
       "     producer_primary                      director_primary  \\\n",
       "1281       А.Атанесян                            А.Атанесян   \n",
       "1448       А.Тютрюмов                             А.Якимчук   \n",
       "1498    Р.Давлетьяров                         Р.Давлетьяров   \n",
       "1524       Л.Антонова  Е.Миндадзе (псевдоним Катя Шагалова)   \n",
       "1792       А.Миндадзе                              М.Угаров   \n",
       "...               ...                                   ...   \n",
       "7462       А.Максимов                             А.Кравчук   \n",
       "7464       С.Сельянов                               Д.Шмидт   \n",
       "7472      Ф.Бондарчук                           Ф.Бондарчук   \n",
       "7474         С.Зернов                             И.Северов   \n",
       "7476      С.Мелькумов    М.Бальчюнас (псевдоним М.Вайсберг)   \n",
       "\n",
       "     support_budget_ratio  \n",
       "1281                   33  \n",
       "1448                   70  \n",
       "1498                   61  \n",
       "1524                   69  \n",
       "1792                   62  \n",
       "...                   ...  \n",
       "7462                   51  \n",
       "7464                   53  \n",
       "7472                   53  \n",
       "7474                   65  \n",
       "7476                   67  \n",
       "\n",
       "[331 rows x 22 columns]"
      ]
     },
     "execution_count": 34,
     "metadata": {},
     "output_type": "execute_result"
    }
   ],
   "source": [
    "df[df['support_budget_ratio'].notna()]"
   ]
  },
  {
   "cell_type": "code",
   "execution_count": 35,
   "metadata": {},
   "outputs": [
    {
     "data": {
      "image/png": "[encoded data removed]",
      "text/plain": [
       "<Figure size 432x288 with 1 Axes>"
      ]
     },
     "metadata": {
      "needs_background": "light"
     },
     "output_type": "display_data"
    }
   ],
   "source": [
    "plt.hist(df['support_budget_ratio'], bins=20, edgecolor='black')\n",
    "plt.title('Distribution of Support Budget Ratio')\n",
    "plt.xlabel('Support Budget Ratio (%)')\n",
    "plt.ylabel('Frequency')\n",
    "plt.show()"
   ]
  },
  {
   "cell_type": "code",
   "execution_count": 36,
   "metadata": {},
   "outputs": [],
   "source": [
    "# Больше всего в имеющемся наборе данных фильмов, где государственная поддержка составляет около 65% от общего бюджета фильма."
   ]
  },
  {
   "cell_type": "markdown",
   "metadata": {},
   "source": [
    "#### Промежуточный вывод 2: ### \n",
    "- Выполнена проверка типов данных в датафрейме и преобразование где это необходимо (дата, рейтинг).\n",
    "- Проанализированы неявные дубликаты, устранены пробелы в начале/конце строковых значений, отредактированы данные с названиям студий, продюссеров, жанров и возрастных ограничений для более удобной работы.\n",
    "- Устранен выброс.\n",
    "- Выявлено, что больше всего в имеющемся наборе данных фильмов, где государственная поддержка составляет около 65% от общего бюджета фильма."
   ]
  },
  {
   "cell_type": "markdown",
   "metadata": {},
   "source": [
    "### 1.3  Исследовательский анализ данных"
   ]
  },
  {
   "cell_type": "code",
   "execution_count": 37,
   "metadata": {},
   "outputs": [
    {
     "data": {
      "text/plain": [
       "year\n",
       "2010    983\n",
       "2011    622\n",
       "2012    593\n",
       "2013    630\n",
       "2014    807\n",
       "2015    705\n",
       "2016    818\n",
       "2017    505\n",
       "2018    891\n",
       "2019    929\n",
       "Name: title, dtype: int64"
      ]
     },
     "execution_count": 37,
     "metadata": {},
     "output_type": "execute_result"
    }
   ],
   "source": [
    "# Посмотрим, сколько фильмов выходило в прокат каждый год.\n",
    "df.groupby('year')['title'].count()"
   ]
  },
  {
   "cell_type": "code",
   "execution_count": 38,
   "metadata": {},
   "outputs": [
    {
     "name": "stdout",
     "output_type": "stream",
     "text": [
      "Общая доля фильмов с указанной информацией о прокате в кинотеатрах: 42%\n"
     ]
    }
   ],
   "source": [
    "# Найдём долю фильмов с указанной информацией о прокате в кинотеатрах за весь период:\n",
    "# общее кол-во фильмов\n",
    "total_movies = len(df)\n",
    "# кол-во фильмов с указанной информацией о сборах\n",
    "movies_with_box_info = df['box_office'].notnull().sum()\n",
    "proportion = round((movies_with_box_info / total_movies) * 100)\n",
    "print(f'Общая доля фильмов с указанной информацией о прокате в кинотеатрах: {proportion}%')"
   ]
  },
  {
   "cell_type": "code",
   "execution_count": 39,
   "metadata": {},
   "outputs": [
    {
     "data": {
      "text/html": [
       "<div>\n",
       "<style scoped>\n",
       "    .dataframe tbody tr th:only-of-type {\n",
       "        vertical-align: middle;\n",
       "    }\n",
       "\n",
       "    .dataframe tbody tr th {\n",
       "        vertical-align: top;\n",
       "    }\n",
       "\n",
       "    .dataframe thead th {\n",
       "        text-align: right;\n",
       "    }\n",
       "</style>\n",
       "<table border=\"1\" class=\"dataframe\">\n",
       "  <thead>\n",
       "    <tr style=\"text-align: right;\">\n",
       "      <th></th>\n",
       "      <th>title</th>\n",
       "      <th>box_office</th>\n",
       "      <th>proportion</th>\n",
       "    </tr>\n",
       "    <tr>\n",
       "      <th>year</th>\n",
       "      <th></th>\n",
       "      <th></th>\n",
       "      <th></th>\n",
       "    </tr>\n",
       "  </thead>\n",
       "  <tbody>\n",
       "    <tr>\n",
       "      <th>2010</th>\n",
       "      <td>983</td>\n",
       "      <td>105</td>\n",
       "      <td>11</td>\n",
       "    </tr>\n",
       "    <tr>\n",
       "      <th>2011</th>\n",
       "      <td>622</td>\n",
       "      <td>109</td>\n",
       "      <td>18</td>\n",
       "    </tr>\n",
       "    <tr>\n",
       "      <th>2012</th>\n",
       "      <td>593</td>\n",
       "      <td>128</td>\n",
       "      <td>22</td>\n",
       "    </tr>\n",
       "    <tr>\n",
       "      <th>2013</th>\n",
       "      <td>630</td>\n",
       "      <td>184</td>\n",
       "      <td>29</td>\n",
       "    </tr>\n",
       "    <tr>\n",
       "      <th>2014</th>\n",
       "      <td>807</td>\n",
       "      <td>279</td>\n",
       "      <td>35</td>\n",
       "    </tr>\n",
       "    <tr>\n",
       "      <th>2015</th>\n",
       "      <td>705</td>\n",
       "      <td>465</td>\n",
       "      <td>66</td>\n",
       "    </tr>\n",
       "    <tr>\n",
       "      <th>2016</th>\n",
       "      <td>818</td>\n",
       "      <td>526</td>\n",
       "      <td>64</td>\n",
       "    </tr>\n",
       "    <tr>\n",
       "      <th>2017</th>\n",
       "      <td>505</td>\n",
       "      <td>357</td>\n",
       "      <td>71</td>\n",
       "    </tr>\n",
       "    <tr>\n",
       "      <th>2018</th>\n",
       "      <td>891</td>\n",
       "      <td>475</td>\n",
       "      <td>53</td>\n",
       "    </tr>\n",
       "    <tr>\n",
       "      <th>2019</th>\n",
       "      <td>929</td>\n",
       "      <td>529</td>\n",
       "      <td>57</td>\n",
       "    </tr>\n",
       "  </tbody>\n",
       "</table>\n",
       "</div>"
      ],
      "text/plain": [
       "      title  box_office  proportion\n",
       "year                               \n",
       "2010    983         105          11\n",
       "2011    622         109          18\n",
       "2012    593         128          22\n",
       "2013    630         184          29\n",
       "2014    807         279          35\n",
       "2015    705         465          66\n",
       "2016    818         526          64\n",
       "2017    505         357          71\n",
       "2018    891         475          53\n",
       "2019    929         529          57"
      ]
     },
     "execution_count": 39,
     "metadata": {},
     "output_type": "execute_result"
    }
   ],
   "source": [
    "# Изменение по годам. \n",
    "\n",
    "show_stat_per_year = df.groupby('year')[['title', 'box_office']].count()\n",
    "show_stat_per_year['proportion'] = round(show_stat_per_year['box_office']/show_stat_per_year['title']*100)\n",
    "show_stat_per_year"
   ]
  },
  {
   "cell_type": "code",
   "execution_count": 40,
   "metadata": {},
   "outputs": [
    {
     "data": {
      "text/plain": [
       "Text(0.5, 1.0, 'Proportion of Movies with Box Office Info to Total Number of Movies')"
      ]
     },
     "execution_count": 40,
     "metadata": {},
     "output_type": "execute_result"
    },
    {
     "data": {
      "image/png": "[encoded data removed]",
      "text/plain": [
       "<Figure size 432x288 with 1 Axes>"
      ]
     },
     "metadata": {
      "needs_background": "light"
     },
     "output_type": "display_data"
    }
   ],
   "source": [
    "plt.bar(show_stat_per_year.index, show_stat_per_year['proportion'], color='lightgreen')\n",
    "plt.xlabel('year')\n",
    "plt.ylabel('nr of movies')\n",
    "plt.title('Proportion of Movies with Box Office Info to Total Number of Movies')"
   ]
  },
  {
   "cell_type": "markdown",
   "metadata": {},
   "source": [
    "Более полная картина для 2015-2017 гг (данные представлены для 66 - 71 %). "
   ]
  },
  {
   "cell_type": "code",
   "execution_count": 41,
   "metadata": {},
   "outputs": [
    {
     "name": "stdout",
     "output_type": "stream",
     "text": [
      "В 2010 году сумма сборов была минимальной и составила 2428654.0 рублей\n",
      "В 2018 году сумма сборов была максимальной и составила 49668403134.31999 рублей\n"
     ]
    }
   ],
   "source": [
    "# Изучим, как менялась динамика проката по годам, в каком году сумма сборов была минимальной/максимальной.\n",
    "\n",
    "box_total_per_year = df.groupby('year')['box_office'].sum()\n",
    "min = box_total_per_year.min()\n",
    "min_year = box_total_per_year.idxmin()\n",
    "max = box_total_per_year.max()\n",
    "max_year = box_total_per_year.idxmax()\n",
    "print(f'В {min_year} году сумма сборов была минимальной и составила {min} рублей')\n",
    "print(f'В {max_year} году сумма сборов была максимальной и составила {max} рублей')"
   ]
  },
  {
   "cell_type": "code",
   "execution_count": 42,
   "metadata": {},
   "outputs": [
    {
     "data": {
      "text/html": [
       "<div>\n",
       "<style scoped>\n",
       "    .dataframe tbody tr th:only-of-type {\n",
       "        vertical-align: middle;\n",
       "    }\n",
       "\n",
       "    .dataframe tbody tr th {\n",
       "        vertical-align: top;\n",
       "    }\n",
       "\n",
       "    .dataframe thead th {\n",
       "        text-align: right;\n",
       "    }\n",
       "</style>\n",
       "<table border=\"1\" class=\"dataframe\">\n",
       "  <thead>\n",
       "    <tr style=\"text-align: right;\">\n",
       "      <th></th>\n",
       "      <th>mean</th>\n",
       "      <th>median</th>\n",
       "    </tr>\n",
       "    <tr>\n",
       "      <th>year</th>\n",
       "      <th></th>\n",
       "      <th></th>\n",
       "    </tr>\n",
       "  </thead>\n",
       "  <tbody>\n",
       "    <tr>\n",
       "      <th>2010</th>\n",
       "      <td>23,130</td>\n",
       "      <td>1,700</td>\n",
       "    </tr>\n",
       "    <tr>\n",
       "      <th>2011</th>\n",
       "      <td>129,383</td>\n",
       "      <td>3,000</td>\n",
       "    </tr>\n",
       "    <tr>\n",
       "      <th>2012</th>\n",
       "      <td>54,339</td>\n",
       "      <td>5,660</td>\n",
       "    </tr>\n",
       "    <tr>\n",
       "      <th>2013</th>\n",
       "      <td>161,955</td>\n",
       "      <td>3,522</td>\n",
       "    </tr>\n",
       "    <tr>\n",
       "      <th>2014</th>\n",
       "      <td>26,684,415</td>\n",
       "      <td>18,160</td>\n",
       "    </tr>\n",
       "    <tr>\n",
       "      <th>2015</th>\n",
       "      <td>84,940,570</td>\n",
       "      <td>4,920,933</td>\n",
       "    </tr>\n",
       "    <tr>\n",
       "      <th>2016</th>\n",
       "      <td>91,000,570</td>\n",
       "      <td>3,846,679</td>\n",
       "    </tr>\n",
       "    <tr>\n",
       "      <th>2017</th>\n",
       "      <td>136,032,793</td>\n",
       "      <td>9,968,340</td>\n",
       "    </tr>\n",
       "    <tr>\n",
       "      <th>2018</th>\n",
       "      <td>104,565,059</td>\n",
       "      <td>8,891,102</td>\n",
       "    </tr>\n",
       "    <tr>\n",
       "      <th>2019</th>\n",
       "      <td>90,911,364</td>\n",
       "      <td>4,601,034</td>\n",
       "    </tr>\n",
       "  </tbody>\n",
       "</table>\n",
       "</div>"
      ],
      "text/plain": [
       "            mean    median\n",
       "year                      \n",
       "2010      23,130     1,700\n",
       "2011     129,383     3,000\n",
       "2012      54,339     5,660\n",
       "2013     161,955     3,522\n",
       "2014  26,684,415    18,160\n",
       "2015  84,940,570 4,920,933\n",
       "2016  91,000,570 3,846,679\n",
       "2017 136,032,793 9,968,340\n",
       "2018 104,565,059 8,891,102\n",
       "2019  90,911,364 4,601,034"
      ]
     },
     "execution_count": 42,
     "metadata": {},
     "output_type": "execute_result"
    }
   ],
   "source": [
    "_grouped = df.groupby('year')['box_office'].agg(['mean', 'median'])\n",
    "_grouped"
   ]
  },
  {
   "cell_type": "code",
   "execution_count": 43,
   "metadata": {},
   "outputs": [
    {
     "data": {
      "image/png": "[encoded data removed]",
      "text/plain": [
       "<Figure size 720x432 with 1 Axes>"
      ]
     },
     "metadata": {
      "needs_background": "light"
     },
     "output_type": "display_data"
    }
   ],
   "source": [
    "plt.figure(figsize=(10, 6))\n",
    "_grouped['mean'].plot(label='Mean')\n",
    "_grouped['median'].plot(label='Median')\n",
    "plt.title('Mean and Median Box Office Values Over Time')\n",
    "plt.xlabel('Year')\n",
    "plt.ylabel('Box Office')\n",
    "plt.legend()\n",
    "plt.grid(True)\n",
    "plt.show()"
   ]
  },
  {
   "cell_type": "markdown",
   "metadata": {},
   "source": [
    "Проанализируем предоставленные данные о средних и медианных значениях кассовых сборов по годам.\n",
    "\n",
    "1. Тенденции со временем:\n",
    "- С 2013 по 2017 год наблюдается значительный рост как средних, так и медианных значений, что указывает на общий восходящий тренд в кассовых сборах за этот период.\n",
    "- Год 2017 выделяется существенно более высокими значениями по сравнению с предыдущими годами, особенно в отношении среднего значения кассовых сборов, что указывает на то, что в этом году могли быть фльмы с исключительным успехом.\n",
    "- В 2017 и 2018 годах наблюдается небольшое снижение средних и медианных значений, но они остаются относительно высокими.\n",
    "2. Выбросы и экстремальные значения:\n",
    "- 2017 год имеет исключительно высокие средние и медианные значения по сравнению с другими годами. Это может указывать на наличие одного или нескольких блокбастеров, которые значительно исказили общие кассовые сборы за этот год.\n",
    "3. Сравнение среднего и медианного:\n",
    "- В большинстве лет среднее значение кассовых сборов выше медианного, что указывает на то, что есть некоторые фильмы с очень высокими кассовыми сборами, которые поднимают среднее значение вверх.\n",
    "- Разница между средним и медианным значениями меняется от года к году, что указывает на различные уровни асимметрии в распределении кассовых сборов по фильмам в каждом году.\n",
    "\n",
    "Несмотря на колебания с года на год, средние и медианные значения кассовых сборов в целом демонстрируют увеличение за анализируемый период, что указывает на общий рост в киноиндустрии в терминах кассовых сборов.\n"
   ]
  },
  {
   "cell_type": "code",
   "execution_count": 44,
   "metadata": {},
   "outputs": [
    {
     "data": {
      "text/html": [
       "<div>\n",
       "<style scoped>\n",
       "    .dataframe tbody tr th:only-of-type {\n",
       "        vertical-align: middle;\n",
       "    }\n",
       "\n",
       "    .dataframe tbody tr th {\n",
       "        vertical-align: top;\n",
       "    }\n",
       "\n",
       "    .dataframe thead th {\n",
       "        text-align: right;\n",
       "    }\n",
       "</style>\n",
       "<table border=\"1\" class=\"dataframe\">\n",
       "  <thead>\n",
       "    <tr style=\"text-align: right;\">\n",
       "      <th></th>\n",
       "      <th>box_office</th>\n",
       "    </tr>\n",
       "    <tr>\n",
       "      <th>age_restriction</th>\n",
       "      <th></th>\n",
       "    </tr>\n",
       "  </thead>\n",
       "  <tbody>\n",
       "    <tr>\n",
       "      <th>0+</th>\n",
       "      <td>809,077,426</td>\n",
       "    </tr>\n",
       "    <tr>\n",
       "      <th>12+</th>\n",
       "      <td>60,619,446,628</td>\n",
       "    </tr>\n",
       "    <tr>\n",
       "      <th>16+</th>\n",
       "      <td>76,034,733,644</td>\n",
       "    </tr>\n",
       "    <tr>\n",
       "      <th>18+</th>\n",
       "      <td>40,759,615,572</td>\n",
       "    </tr>\n",
       "    <tr>\n",
       "      <th>6+</th>\n",
       "      <td>55,465,013,740</td>\n",
       "    </tr>\n",
       "  </tbody>\n",
       "</table>\n",
       "</div>"
      ],
      "text/plain": [
       "                    box_office\n",
       "age_restriction               \n",
       "0+                 809,077,426\n",
       "12+             60,619,446,628\n",
       "16+             76,034,733,644\n",
       "18+             40,759,615,572\n",
       "6+              55,465,013,740"
      ]
     },
     "execution_count": 44,
     "metadata": {},
     "output_type": "execute_result"
    }
   ],
   "source": [
    "# Видно, что за период 2010 - 2014 гг. очень низкое медианное значение по сборам, но это обусловлено тем, что по этим годам у нас менее 50% данных. \n",
    "\n",
    "# Определим, влияет ли возрастное ограничение аудитории («6+», «12+», «16+», «18+» и т. д.) на сборы фильма в прокате в период с 2015 по 2019 год.\n",
    "filtered_df = df.query('2015 <= year <= 2019')\n",
    "filtered_df.groupby('age_restriction')[['box_office']].sum()"
   ]
  },
  {
   "cell_type": "markdown",
   "metadata": {},
   "source": [
    "Видно, что больше всего сборов у фильмов с рейтингом 16+."
   ]
  },
  {
   "cell_type": "code",
   "execution_count": 45,
   "metadata": {},
   "outputs": [
    {
     "data": {
      "text/html": [
       "<div>\n",
       "<style scoped>\n",
       "    .dataframe tbody tr th:only-of-type {\n",
       "        vertical-align: middle;\n",
       "    }\n",
       "\n",
       "    .dataframe tbody tr th {\n",
       "        vertical-align: top;\n",
       "    }\n",
       "\n",
       "    .dataframe thead th {\n",
       "        text-align: right;\n",
       "    }\n",
       "</style>\n",
       "<table border=\"1\" class=\"dataframe\">\n",
       "  <thead>\n",
       "    <tr style=\"text-align: right;\">\n",
       "      <th>age_restriction</th>\n",
       "      <th>0+</th>\n",
       "      <th>12+</th>\n",
       "      <th>16+</th>\n",
       "      <th>18+</th>\n",
       "      <th>6+</th>\n",
       "    </tr>\n",
       "    <tr>\n",
       "      <th>year</th>\n",
       "      <th></th>\n",
       "      <th></th>\n",
       "      <th></th>\n",
       "      <th></th>\n",
       "      <th></th>\n",
       "    </tr>\n",
       "  </thead>\n",
       "  <tbody>\n",
       "    <tr>\n",
       "      <th>2015</th>\n",
       "      <td>379,054,578</td>\n",
       "      <td>13,616,082,009</td>\n",
       "      <td>11,368,120,870</td>\n",
       "      <td>5,432,308,367</td>\n",
       "      <td>8,701,799,371</td>\n",
       "    </tr>\n",
       "    <tr>\n",
       "      <th>2016</th>\n",
       "      <td>150,228,849</td>\n",
       "      <td>12,204,446,524</td>\n",
       "      <td>16,664,548,542</td>\n",
       "      <td>6,793,929,819</td>\n",
       "      <td>12,053,146,008</td>\n",
       "    </tr>\n",
       "    <tr>\n",
       "      <th>2017</th>\n",
       "      <td>229,598,930</td>\n",
       "      <td>7,851,427,661</td>\n",
       "      <td>18,745,042,900</td>\n",
       "      <td>9,651,495,581</td>\n",
       "      <td>12,086,142,146</td>\n",
       "    </tr>\n",
       "    <tr>\n",
       "      <th>2018</th>\n",
       "      <td>32,449,002</td>\n",
       "      <td>14,267,291,661</td>\n",
       "      <td>16,503,602,347</td>\n",
       "      <td>8,760,085,501</td>\n",
       "      <td>10,104,974,623</td>\n",
       "    </tr>\n",
       "    <tr>\n",
       "      <th>2019</th>\n",
       "      <td>17,746,067</td>\n",
       "      <td>12,680,198,774</td>\n",
       "      <td>12,753,418,985</td>\n",
       "      <td>10,121,796,304</td>\n",
       "      <td>12,518,951,591</td>\n",
       "    </tr>\n",
       "  </tbody>\n",
       "</table>\n",
       "</div>"
      ],
      "text/plain": [
       "age_restriction          0+            12+            16+            18+  \\\n",
       "year                                                                       \n",
       "2015            379,054,578 13,616,082,009 11,368,120,870  5,432,308,367   \n",
       "2016            150,228,849 12,204,446,524 16,664,548,542  6,793,929,819   \n",
       "2017            229,598,930  7,851,427,661 18,745,042,900  9,651,495,581   \n",
       "2018             32,449,002 14,267,291,661 16,503,602,347  8,760,085,501   \n",
       "2019             17,746,067 12,680,198,774 12,753,418,985 10,121,796,304   \n",
       "\n",
       "age_restriction             6+  \n",
       "year                            \n",
       "2015             8,701,799,371  \n",
       "2016            12,053,146,008  \n",
       "2017            12,086,142,146  \n",
       "2018            10,104,974,623  \n",
       "2019            12,518,951,591  "
      ]
     },
     "execution_count": 45,
     "metadata": {},
     "output_type": "execute_result"
    }
   ],
   "source": [
    "# Проанализируем, как ситуация менялась по годам.\n",
    "pivot_table = filtered_df.pivot_table(index='year', columns='age_restriction', values='box_office', aggfunc='sum')\n",
    "pivot_table"
   ]
  },
  {
   "cell_type": "code",
   "execution_count": 46,
   "metadata": {},
   "outputs": [
    {
     "data": {
      "image/png": "[encoded data removed]",
      "text/plain": [
       "<Figure size 720x432 with 1 Axes>"
      ]
     },
     "metadata": {
      "needs_background": "light"
     },
     "output_type": "display_data"
    }
   ],
   "source": [
    "pivot_table.plot(kind='bar', figsize=(10, 6))\n",
    "plt.title('Total Box Office Revenue by Age Restriction Category')\n",
    "plt.xlabel('Year')\n",
    "plt.ylabel('Total Box Office Revenue')\n",
    "plt.xticks(rotation=45)\n",
    "plt.legend(title='Age Restriction')\n",
    "plt.ticklabel_format(style='plain', axis='y')\n",
    "plt.show()"
   ]
  },
  {
   "cell_type": "markdown",
   "metadata": {},
   "source": [
    "Видно, что сумма сборов существенно различается в зависимости от возрастного ограничения. \n",
    "- Наибольшие сборы за все годы наблюдаются у фильмов с возрастным ограничением \"12+\" и \"16+\". \n",
    "- Фильмы с возрастным ограничением \"6+\" также показывают высокие сборы, но они не достигают уровня фильмов с ограничением \"12+\" и \"16+\". \n",
    "- Фильмы без возрастного ограничения (\"0+\") имеют самые низкие сборы.\n",
    "- По предоставленным данным, фильмы с возрастным ограничением \"16+\" имеют самые высокие сборы за весь период с 2015 по 2019 гг.\n",
    "- Просматривая данные за каждый год, мы видим, что сумма сборов в каждой возрастной категории может меняться с годами. \n",
    "Например, сумма сборов фильмов с возрастным ограничением \"16+\" резко увеличилась в 2016 году, достигла пика в 2017 году, а затем начала постепенно снижаться. Эти изменения могут быть связаны с различными факторами, такими как изменения в предпочтениях аудитории, качество выпущенных фильмов в конкретные годы, маркетинговые стратегии студий и другие факторы."
   ]
  },
  {
   "cell_type": "code",
   "execution_count": 47,
   "metadata": {},
   "outputs": [
    {
     "data": {
      "text/html": [
       "<div>\n",
       "<style scoped>\n",
       "    .dataframe tbody tr th:only-of-type {\n",
       "        vertical-align: middle;\n",
       "    }\n",
       "\n",
       "    .dataframe tbody tr th {\n",
       "        vertical-align: top;\n",
       "    }\n",
       "\n",
       "    .dataframe thead th {\n",
       "        text-align: right;\n",
       "    }\n",
       "</style>\n",
       "<table border=\"1\" class=\"dataframe\">\n",
       "  <thead>\n",
       "    <tr style=\"text-align: right;\">\n",
       "      <th>age_restriction</th>\n",
       "      <th>0+</th>\n",
       "      <th>12+</th>\n",
       "      <th>16+</th>\n",
       "      <th>18+</th>\n",
       "      <th>6+</th>\n",
       "    </tr>\n",
       "    <tr>\n",
       "      <th>year</th>\n",
       "      <th></th>\n",
       "      <th></th>\n",
       "      <th></th>\n",
       "      <th></th>\n",
       "      <th></th>\n",
       "    </tr>\n",
       "  </thead>\n",
       "  <tbody>\n",
       "    <tr>\n",
       "      <th>2015</th>\n",
       "      <td>2,943,319</td>\n",
       "      <td>15,351,562</td>\n",
       "      <td>4,676,819</td>\n",
       "      <td>4,616,615</td>\n",
       "      <td>20,380,982</td>\n",
       "    </tr>\n",
       "    <tr>\n",
       "      <th>2016</th>\n",
       "      <td>2,571,294</td>\n",
       "      <td>4,690,635</td>\n",
       "      <td>5,133,022</td>\n",
       "      <td>6,107,002</td>\n",
       "      <td>3,026,256</td>\n",
       "    </tr>\n",
       "    <tr>\n",
       "      <th>2017</th>\n",
       "      <td>22,178,956</td>\n",
       "      <td>9,010,548</td>\n",
       "      <td>9,702,077</td>\n",
       "      <td>8,212,677</td>\n",
       "      <td>51,992,103</td>\n",
       "    </tr>\n",
       "    <tr>\n",
       "      <th>2018</th>\n",
       "      <td>3,616,937</td>\n",
       "      <td>8,931,966</td>\n",
       "      <td>9,010,639</td>\n",
       "      <td>7,179,466</td>\n",
       "      <td>14,688,850</td>\n",
       "    </tr>\n",
       "    <tr>\n",
       "      <th>2019</th>\n",
       "      <td>3,885,434</td>\n",
       "      <td>3,405,546</td>\n",
       "      <td>3,210,718</td>\n",
       "      <td>5,603,217</td>\n",
       "      <td>12,525,532</td>\n",
       "    </tr>\n",
       "  </tbody>\n",
       "</table>\n",
       "</div>"
      ],
      "text/plain": [
       "age_restriction         0+        12+       16+       18+         6+\n",
       "year                                                                \n",
       "2015             2,943,319 15,351,562 4,676,819 4,616,615 20,380,982\n",
       "2016             2,571,294  4,690,635 5,133,022 6,107,002  3,026,256\n",
       "2017            22,178,956  9,010,548 9,702,077 8,212,677 51,992,103\n",
       "2018             3,616,937  8,931,966 9,010,639 7,179,466 14,688,850\n",
       "2019             3,885,434  3,405,546 3,210,718 5,603,217 12,525,532"
      ]
     },
     "execution_count": 47,
     "metadata": {},
     "output_type": "execute_result"
    }
   ],
   "source": [
    "# Проанализируем также, как ситуация менялась по годам с точки хрения медианных значений.\n",
    "pivot_table = filtered_df.pivot_table(index='year', columns='age_restriction', values='box_office', aggfunc='median')\n",
    "pivot_table"
   ]
  },
  {
   "cell_type": "code",
   "execution_count": 48,
   "metadata": {},
   "outputs": [
    {
     "data": {
      "image/png": "[encoded data removed]",
      "text/plain": [
       "<Figure size 720x432 with 1 Axes>"
      ]
     },
     "metadata": {
      "needs_background": "light"
     },
     "output_type": "display_data"
    }
   ],
   "source": [
    "pivot_table.plot(kind='line', marker='o', figsize=(10, 6))\n",
    "plt.title('Median Box Office Values Across Age Restrictions Over Years')\n",
    "plt.xlabel('Year')\n",
    "plt.ylabel('Median Box Office')\n",
    "plt.grid(True)\n",
    "plt.legend(title='Age Restriction')\n",
    "plt.ticklabel_format(style='plain', axis='y')\n",
    "plt.show()"
   ]
  },
  {
   "cell_type": "markdown",
   "metadata": {},
   "source": [
    "- Для возрастной категории '0+','6+' можно выделить общий тренд роста с 2015 по 2017 год, за которым последовало снижение в 2018 году и небольшое увеличение в 2019 году.\n",
    "- Для возрастной категории '12+' заметен значительный рост кассовых сборов с 2015 по 2017 год, за которым последовали колебания в 2018 и 2019 годах.\n",
    "- Возрастные категории '16+' и '18+' также показывают различные паттерны кассовых сборов в течение лет, с колебаниями и отсутствием четкого восходящего или нисходящего тренда.\n",
    "- В 2017 году наблюдается значительный скачок кассовых сборов во всех возрастных категориях.\n",
    "Кассовые сборы для возрастной категории '12+' кажутся стабильно более высокими, чем для других категорий, в большинство лет, за исключением 2017 года, где кассовые сборы для категории '16+' значительно выше.\n",
    "\n",
    "Несмотря на колебания с года на год, в целом данные показывают смешанный результат в течение разных лет для киноиндустрии в терминах кассовых сборов в разных возрастных категориях."
   ]
  },
  {
   "cell_type": "markdown",
   "metadata": {},
   "source": [
    "#### Промежуточный вывод 3: ### \n",
    "1. Произведён исследовательский анализ данных.\n",
    "- Выявлено, что общая доля фильмов с указанной информацией о прокате в кинотеатрах составляет 42%.\n",
    "- Более полная картина для 2015-2017 гг (данные представлены для 66 - 71 %). \n",
    "- В 2010 году сумма сборов была минимальной и составила 2428654.0 рублей\n",
    "- В 2018 году сумма сборов была максимальной и составила 49668403134.32 рублей\n",
    "2. Проанализированы данные по возрастным ограничениям в период 2015 - 2019 гг. \n",
    "- Выявлено, что наибольшие сборы за все годы наблюдаются у фильмов с возрастным ограничением \"12+\" и \"16+\". \n",
    "- Фильмы с возрастным ограничением \"18+\" также показывают высокие сборы, но они не достигают уровня фильмов с ограничением \"12+\" и \"16+\". \n",
    "- Фильмы без возрастного ограничения (\"0+\") имеют самые низкие сборы.\n",
    "- Сумма сборов в каждой возрастной категории менялась с годами (например, сумма сборов фильмов с возрастным ограничением \"16+\" резко увеличилась в 2016 году, достигла пика в 2017 году, а затем начала постепенно снижаться). \n",
    "- Такие изменения могут быть связаны с различными факторами, такими как изменения в предпочтениях аудитории, качество выпущенных фильмов в конкретные годы, маркетинговые стратегии студий и другие факторы."
   ]
  },
  {
   "cell_type": "markdown",
   "metadata": {},
   "source": [
    "### 1.4 Исследование фильмов, которые получили государственную поддержку"
   ]
  },
  {
   "cell_type": "code",
   "execution_count": 49,
   "metadata": {},
   "outputs": [
    {
     "name": "stdout",
     "output_type": "stream",
     "text": [
      "Общий объем выделенных средств на поддержку кино:  19930688312.0\n",
      "Средний коэффициент окупаемости фильмов с государственной поддержкой:  0.83\n",
      "Средний рейтинг фильмов с государственной поддержкой:  6\n"
     ]
    }
   ],
   "source": [
    "# Посчитаем сколько всего было выделено средств.\n",
    "total_support = df['refundable_support'].sum() + df['nonrefundable_support'].sum()\n",
    "print(\"Общий объем выделенных средств на поддержку кино: \", total_support)\n",
    "\n",
    "# Посмотрим, насколько хорошо окупаются фильмы с государственной поддержкой.\n",
    "# Для этого можно посчитать отношение сборов в прокате к общему бюджету фильма.\n",
    "df['revenue_to_budget_ratio'] = df['box_office'] / df['budget']\n",
    "print(\"Средний коэффициент окупаемости фильмов с государственной поддержкой: \", round(df['revenue_to_budget_ratio'].mean(), 2))\n",
    "\n",
    "# Посмотрим на рейтинги фильмов.\n",
    "# Мы можем вывести средний рейтинг всех фильмов.\n",
    "average_rating = round(df.loc[df['budget'].notna(), 'ratings'].mean())\n",
    "print(\"Средний рейтинг фильмов с государственной поддержкой: \", average_rating)"
   ]
  },
  {
   "cell_type": "markdown",
   "metadata": {},
   "source": [
    "В среднем фильмы с государственной поддержкой окупают около 83% своего общего бюджета через сборы в прокате.\n",
    "\n",
    "Это хороший показатель, который говорит о том, что вложенные средства в киноиндустрию частично возвращаются через кассовые сборы, и фильмы с государственной поддержкой в среднем приносят доход. Однако это также означает, что около 17% бюджета фильма не окупается за счёт сборов в прокате, что может быть неблагоприятным показателем для инвесторов или организаций, предоставляющих государственную поддержку."
   ]
  },
  {
   "cell_type": "code",
   "execution_count": 50,
   "metadata": {},
   "outputs": [
    {
     "data": {
      "image/png": "[encoded data removed]",
      "text/plain": [
       "<Figure size 432x288 with 1 Axes>"
      ]
     },
     "metadata": {
      "needs_background": "light"
     },
     "output_type": "display_data"
    }
   ],
   "source": [
    "# Видим, что средний рейтинг 6, Однако, хочу взглянуть более детально. \n",
    "# Существует гипотеза, что при высоких объёмах не возвратных средств, фильмы получаются не получают высокий рейтинг. Проверим её.\n",
    "# Посмотрим есть ли какие-то интересные закономерности в зависимости рецтинга от гос. поддержки.\n",
    "\n",
    "def rating_category(rating):\n",
    "    if 0 < rating < 5:\n",
    "        return 'low rating (below 5)'\n",
    "    elif 5 <= rating < 7.5:\n",
    "        return 'good rating (5 - 7)'\n",
    "    elif  7.5 <= rating < 9:\n",
    "        return 'high rating (7 - 9)'\n",
    "    elif 9 <= rating <= 10:\n",
    "        return 'exellent rating (above 9)'\n",
    "\n",
    "df['rating_category'] = df['ratings'].apply(rating_category)\n",
    "\n",
    "sns.boxplot(data=df, x='nonrefundable_support', y='rating_category')\n",
    "plt.title('Rating by Non-Refundable Support')\n",
    "plt.xlabel('Non-Refundable Support')\n",
    "plt.ylabel('Rating')\n",
    "plt.show()"
   ]
  },
  {
   "cell_type": "code",
   "execution_count": 51,
   "metadata": {},
   "outputs": [
    {
     "data": {
      "image/png": "[encoded data removed]",
      "text/plain": [
       "<Figure size 432x288 with 1 Axes>"
      ]
     },
     "metadata": {
      "needs_background": "light"
     },
     "output_type": "display_data"
    }
   ],
   "source": [
    "sns.boxplot(data=df, x='refundable_support', y='rating_category')\n",
    "\n",
    "plt.title('Rating by Refundable Support')\n",
    "plt.xlabel('Refundable Support')\n",
    "plt.ylabel('Rating')\n",
    "plt.show()"
   ]
  },
  {
   "cell_type": "code",
   "execution_count": 52,
   "metadata": {},
   "outputs": [
    {
     "data": {
      "text/plain": [
       "rating_category\n",
       "exellent rating (above 9)       14,700,000\n",
       "good rating (5 - 7)         13,834,233,569\n",
       "high rating (7 - 9)          2,774,161,363\n",
       "low rating (below 5)         2,618,623,915\n",
       "Name: total_support, dtype: float64"
      ]
     },
     "execution_count": 52,
     "metadata": {},
     "output_type": "execute_result"
    }
   ],
   "source": [
    "df['total_support'] = df['refundable_support'] + df['nonrefundable_support']\n",
    "df.groupby('rating_category')['total_support'].sum()"
   ]
  },
  {
   "cell_type": "markdown",
   "metadata": {},
   "source": [
    "В целом, можно увидеть, что большинство фильмов имеют неплохой рейтинг, даже при невысоких объёмах выделенных средств (как возвратной, так и невозвратной поддержки), также при более высоких бюджетах, рейтинг также находится в этом диапазоне,  что показыает, что гипотеза не подтвердилась.\n",
    "\n",
    "Примечательно, что есть даже неколько вариантов очень высокого рейтинга даже при низких бюджетах."
   ]
  },
  {
   "cell_type": "code",
   "execution_count": 53,
   "metadata": {},
   "outputs": [
    {
     "data": {
      "image/png": "[encoded data removed]",
      "text/plain": [
       "<Figure size 432x288 with 1 Axes>"
      ]
     },
     "metadata": {
      "needs_background": "light"
     },
     "output_type": "display_data"
    }
   ],
   "source": [
    "# Посмотрим также на зависимость сборов от гос. поддержки.\n",
    "df['box_office_mln'] = df['box_office'] / 1000000\n",
    "df['total_support_mln'] = df['total_support'] / 10000000\n",
    "sns.scatterplot(data=df, x='total_support_mln', y='box_office_mln')\n",
    "\n",
    "plt.title('Box Office Revenue by Government Support')\n",
    "plt.xlabel('Government Support (mln. rub)')\n",
    "plt.ylabel('Box Office Revenue (mln. rub)')\n",
    "plt.show()"
   ]
  },
  {
   "cell_type": "code",
   "execution_count": 54,
   "metadata": {},
   "outputs": [
    {
     "data": {
      "text/plain": [
       "0.49059163763791824"
      ]
     },
     "execution_count": 54,
     "metadata": {},
     "output_type": "execute_result"
    }
   ],
   "source": [
    "df['box_office'].corr(df['total_support'])"
   ]
  },
  {
   "cell_type": "markdown",
   "metadata": {},
   "source": [
    "Коэффициент корреляции 0.4906 указывает на умеренную положительную линейную зависимость между сборами и поддержкой, но связь не является идеальной."
   ]
  },
  {
   "cell_type": "code",
   "execution_count": 55,
   "metadata": {},
   "outputs": [
    {
     "data": {
      "text/html": [
       "<div>\n",
       "<style scoped>\n",
       "    .dataframe tbody tr th:only-of-type {\n",
       "        vertical-align: middle;\n",
       "    }\n",
       "\n",
       "    .dataframe tbody tr th {\n",
       "        vertical-align: top;\n",
       "    }\n",
       "\n",
       "    .dataframe thead th {\n",
       "        text-align: right;\n",
       "    }\n",
       "</style>\n",
       "<table border=\"1\" class=\"dataframe\">\n",
       "  <thead>\n",
       "    <tr style=\"text-align: right;\">\n",
       "      <th></th>\n",
       "      <th>total_support</th>\n",
       "    </tr>\n",
       "    <tr>\n",
       "      <th>director_primary</th>\n",
       "      <th></th>\n",
       "    </tr>\n",
       "  </thead>\n",
       "  <tbody>\n",
       "    <tr>\n",
       "      <th>Ф.Бондарчук</th>\n",
       "      <td>750,000,000</td>\n",
       "    </tr>\n",
       "    <tr>\n",
       "      <th>Н.Хомерики</th>\n",
       "      <td>660,000,000</td>\n",
       "    </tr>\n",
       "    <tr>\n",
       "      <th>А.Кравчук</th>\n",
       "      <td>500,000,000</td>\n",
       "    </tr>\n",
       "    <tr>\n",
       "      <th>Р.Давлетьяров</th>\n",
       "      <td>459,847,945</td>\n",
       "    </tr>\n",
       "    <tr>\n",
       "      <th>А.Мизгирев</th>\n",
       "      <td>450,000,000</td>\n",
       "    </tr>\n",
       "    <tr>\n",
       "      <th>Н.Лебедев</th>\n",
       "      <td>442,104,482</td>\n",
       "    </tr>\n",
       "    <tr>\n",
       "      <th>А.Мегердичев</th>\n",
       "      <td>400,000,000</td>\n",
       "    </tr>\n",
       "    <tr>\n",
       "      <th>Д.Дьяченко</th>\n",
       "      <td>351,000,000</td>\n",
       "    </tr>\n",
       "    <tr>\n",
       "      <th>И.Шурховецкий</th>\n",
       "      <td>350,000,000</td>\n",
       "    </tr>\n",
       "    <tr>\n",
       "      <th>А.Цицилин</th>\n",
       "      <td>350,000,000</td>\n",
       "    </tr>\n",
       "  </tbody>\n",
       "</table>\n",
       "</div>"
      ],
      "text/plain": [
       "                  total_support\n",
       "director_primary               \n",
       "Ф.Бондарчук         750,000,000\n",
       "Н.Хомерики          660,000,000\n",
       "А.Кравчук           500,000,000\n",
       "Р.Давлетьяров       459,847,945\n",
       "А.Мизгирев          450,000,000\n",
       "Н.Лебедев           442,104,482\n",
       "А.Мегердичев        400,000,000\n",
       "Д.Дьяченко          351,000,000\n",
       "И.Шурховецкий       350,000,000\n",
       "А.Цицилин           350,000,000"
      ]
     },
     "execution_count": 55,
     "metadata": {},
     "output_type": "execute_result"
    }
   ],
   "source": [
    "# Выберем топ 10 режисеров с наибольшей суммой гос.поддержки.\n",
    "directors_top = df.groupby('director_primary')[['total_support']].agg('sum').sort_values(by='total_support', ascending=False)[:10]\n",
    "directors_top"
   ]
  },
  {
   "cell_type": "code",
   "execution_count": 56,
   "metadata": {},
   "outputs": [
    {
     "data": {
      "text/html": [
       "<div>\n",
       "<style scoped>\n",
       "    .dataframe tbody tr th:only-of-type {\n",
       "        vertical-align: middle;\n",
       "    }\n",
       "\n",
       "    .dataframe tbody tr th {\n",
       "        vertical-align: top;\n",
       "    }\n",
       "\n",
       "    .dataframe thead th {\n",
       "        text-align: right;\n",
       "    }\n",
       "</style>\n",
       "<table border=\"1\" class=\"dataframe\">\n",
       "  <thead>\n",
       "    <tr style=\"text-align: right;\">\n",
       "      <th></th>\n",
       "      <th>ratings</th>\n",
       "      <th>revenue_to_budget_ratio</th>\n",
       "    </tr>\n",
       "    <tr>\n",
       "      <th>director_primary</th>\n",
       "      <th></th>\n",
       "      <th></th>\n",
       "    </tr>\n",
       "  </thead>\n",
       "  <tbody>\n",
       "    <tr>\n",
       "      <th>Н.Лебедев</th>\n",
       "      <td>8</td>\n",
       "      <td>2</td>\n",
       "    </tr>\n",
       "    <tr>\n",
       "      <th>А.Мизгирев</th>\n",
       "      <td>7</td>\n",
       "      <td>1</td>\n",
       "    </tr>\n",
       "    <tr>\n",
       "      <th>Р.Давлетьяров</th>\n",
       "      <td>7</td>\n",
       "      <td>0</td>\n",
       "    </tr>\n",
       "    <tr>\n",
       "      <th>А.Кравчук</th>\n",
       "      <td>6</td>\n",
       "      <td>1</td>\n",
       "    </tr>\n",
       "    <tr>\n",
       "      <th>И.Шурховецкий</th>\n",
       "      <td>6</td>\n",
       "      <td>1</td>\n",
       "    </tr>\n",
       "    <tr>\n",
       "      <th>А.Мегердичев</th>\n",
       "      <td>6</td>\n",
       "      <td>5</td>\n",
       "    </tr>\n",
       "    <tr>\n",
       "      <th>Н.Хомерики</th>\n",
       "      <td>6</td>\n",
       "      <td>2</td>\n",
       "    </tr>\n",
       "    <tr>\n",
       "      <th>А.Цицилин</th>\n",
       "      <td>6</td>\n",
       "      <td>1</td>\n",
       "    </tr>\n",
       "    <tr>\n",
       "      <th>Д.Дьяченко</th>\n",
       "      <td>6</td>\n",
       "      <td>3</td>\n",
       "    </tr>\n",
       "    <tr>\n",
       "      <th>Ф.Бондарчук</th>\n",
       "      <td>6</td>\n",
       "      <td>4</td>\n",
       "    </tr>\n",
       "  </tbody>\n",
       "</table>\n",
       "</div>"
      ],
      "text/plain": [
       "                  ratings  revenue_to_budget_ratio\n",
       "director_primary                                  \n",
       "Н.Лебедев               8                        2\n",
       "А.Мизгирев              7                        1\n",
       "Р.Давлетьяров           7                        0\n",
       "А.Кравчук               6                        1\n",
       "И.Шурховецкий           6                        1\n",
       "А.Мегердичев            6                        5\n",
       "Н.Хомерики              6                        2\n",
       "А.Цицилин               6                        1\n",
       "Д.Дьяченко              6                        3\n",
       "Ф.Бондарчук             6                        4"
      ]
     },
     "execution_count": 56,
     "metadata": {},
     "output_type": "execute_result"
    }
   ],
   "source": [
    "# Посмотрим на их средний рейтинг и среднюю окупаемость\n",
    "_filtered = df.loc[df['director_primary'].isin(directors_top.index)]\n",
    "directors_top_rating = _filtered.groupby('director_primary')[['ratings','revenue_to_budget_ratio']].agg('mean').sort_values(by='ratings',ascending=False)\n",
    "directors_top_rating"
   ]
  },
  {
   "cell_type": "code",
   "execution_count": 57,
   "metadata": {},
   "outputs": [
    {
     "data": {
      "text/html": [
       "<div>\n",
       "<style scoped>\n",
       "    .dataframe tbody tr th:only-of-type {\n",
       "        vertical-align: middle;\n",
       "    }\n",
       "\n",
       "    .dataframe tbody tr th {\n",
       "        vertical-align: top;\n",
       "    }\n",
       "\n",
       "    .dataframe thead th {\n",
       "        text-align: right;\n",
       "    }\n",
       "</style>\n",
       "<table border=\"1\" class=\"dataframe\">\n",
       "  <thead>\n",
       "    <tr style=\"text-align: right;\">\n",
       "      <th></th>\n",
       "      <th>total_support</th>\n",
       "      <th>ratings</th>\n",
       "      <th>revenue_to_budget_ratio</th>\n",
       "    </tr>\n",
       "    <tr>\n",
       "      <th>director_primary</th>\n",
       "      <th></th>\n",
       "      <th></th>\n",
       "      <th></th>\n",
       "    </tr>\n",
       "  </thead>\n",
       "  <tbody>\n",
       "    <tr>\n",
       "      <th>Н.Лебедев</th>\n",
       "      <td>442,104,482</td>\n",
       "      <td>8</td>\n",
       "      <td>2</td>\n",
       "    </tr>\n",
       "    <tr>\n",
       "      <th>А.Мизгирев</th>\n",
       "      <td>450,000,000</td>\n",
       "      <td>7</td>\n",
       "      <td>1</td>\n",
       "    </tr>\n",
       "    <tr>\n",
       "      <th>Р.Давлетьяров</th>\n",
       "      <td>459,847,945</td>\n",
       "      <td>7</td>\n",
       "      <td>0</td>\n",
       "    </tr>\n",
       "    <tr>\n",
       "      <th>А.Кравчук</th>\n",
       "      <td>500,000,000</td>\n",
       "      <td>6</td>\n",
       "      <td>1</td>\n",
       "    </tr>\n",
       "    <tr>\n",
       "      <th>И.Шурховецкий</th>\n",
       "      <td>350,000,000</td>\n",
       "      <td>6</td>\n",
       "      <td>1</td>\n",
       "    </tr>\n",
       "    <tr>\n",
       "      <th>А.Мегердичев</th>\n",
       "      <td>400,000,000</td>\n",
       "      <td>6</td>\n",
       "      <td>5</td>\n",
       "    </tr>\n",
       "    <tr>\n",
       "      <th>Н.Хомерики</th>\n",
       "      <td>660,000,000</td>\n",
       "      <td>6</td>\n",
       "      <td>2</td>\n",
       "    </tr>\n",
       "    <tr>\n",
       "      <th>А.Цицилин</th>\n",
       "      <td>350,000,000</td>\n",
       "      <td>6</td>\n",
       "      <td>1</td>\n",
       "    </tr>\n",
       "    <tr>\n",
       "      <th>Д.Дьяченко</th>\n",
       "      <td>351,000,000</td>\n",
       "      <td>6</td>\n",
       "      <td>3</td>\n",
       "    </tr>\n",
       "    <tr>\n",
       "      <th>Ф.Бондарчук</th>\n",
       "      <td>750,000,000</td>\n",
       "      <td>6</td>\n",
       "      <td>4</td>\n",
       "    </tr>\n",
       "  </tbody>\n",
       "</table>\n",
       "</div>"
      ],
      "text/plain": [
       "                  total_support  ratings  revenue_to_budget_ratio\n",
       "director_primary                                                 \n",
       "Н.Лебедев           442,104,482        8                        2\n",
       "А.Мизгирев          450,000,000        7                        1\n",
       "Р.Давлетьяров       459,847,945        7                        0\n",
       "А.Кравчук           500,000,000        6                        1\n",
       "И.Шурховецкий       350,000,000        6                        1\n",
       "А.Мегердичев        400,000,000        6                        5\n",
       "Н.Хомерики          660,000,000        6                        2\n",
       "А.Цицилин           350,000,000        6                        1\n",
       "Д.Дьяченко          351,000,000        6                        3\n",
       "Ф.Бондарчук         750,000,000        6                        4"
      ]
     },
     "execution_count": 57,
     "metadata": {},
     "output_type": "execute_result"
    }
   ],
   "source": [
    "#  Объединим две предыдущие таблицы\n",
    "directors_top_merged = directors_top.merge(directors_top_rating, on='director_primary', how='outer')\n",
    "directors_top_merged.sort_values(by='ratings', ascending=False)"
   ]
  },
  {
   "cell_type": "code",
   "execution_count": 58,
   "metadata": {},
   "outputs": [
    {
     "data": {
      "text/html": [
       "<div>\n",
       "<style scoped>\n",
       "    .dataframe tbody tr th:only-of-type {\n",
       "        vertical-align: middle;\n",
       "    }\n",
       "\n",
       "    .dataframe tbody tr th {\n",
       "        vertical-align: top;\n",
       "    }\n",
       "\n",
       "    .dataframe thead th {\n",
       "        text-align: right;\n",
       "    }\n",
       "</style>\n",
       "<table border=\"1\" class=\"dataframe\">\n",
       "  <thead>\n",
       "    <tr style=\"text-align: right;\">\n",
       "      <th>director_primary</th>\n",
       "      <th>А.Кравчук</th>\n",
       "      <th>А.Мегердичев</th>\n",
       "      <th>А.Мизгирев</th>\n",
       "      <th>А.Цицилин</th>\n",
       "      <th>Д.Дьяченко</th>\n",
       "      <th>И.Шурховецкий</th>\n",
       "      <th>Н.Лебедев</th>\n",
       "      <th>Н.Хомерики</th>\n",
       "      <th>Р.Давлетьяров</th>\n",
       "      <th>Ф.Бондарчук</th>\n",
       "    </tr>\n",
       "    <tr>\n",
       "      <th>year</th>\n",
       "      <th></th>\n",
       "      <th></th>\n",
       "      <th></th>\n",
       "      <th></th>\n",
       "      <th></th>\n",
       "      <th></th>\n",
       "      <th></th>\n",
       "      <th></th>\n",
       "      <th></th>\n",
       "      <th></th>\n",
       "    </tr>\n",
       "  </thead>\n",
       "  <tbody>\n",
       "    <tr>\n",
       "      <th>2013</th>\n",
       "      <td>NaN</td>\n",
       "      <td>NaN</td>\n",
       "      <td>NaN</td>\n",
       "      <td>NaN</td>\n",
       "      <td>NaN</td>\n",
       "      <td>NaN</td>\n",
       "      <td>NaN</td>\n",
       "      <td>NaN</td>\n",
       "      <td>0</td>\n",
       "      <td>NaN</td>\n",
       "    </tr>\n",
       "    <tr>\n",
       "      <th>2014</th>\n",
       "      <td>NaN</td>\n",
       "      <td>NaN</td>\n",
       "      <td>NaN</td>\n",
       "      <td>1</td>\n",
       "      <td>NaN</td>\n",
       "      <td>NaN</td>\n",
       "      <td>NaN</td>\n",
       "      <td>NaN</td>\n",
       "      <td>NaN</td>\n",
       "      <td>NaN</td>\n",
       "    </tr>\n",
       "    <tr>\n",
       "      <th>2015</th>\n",
       "      <td>NaN</td>\n",
       "      <td>NaN</td>\n",
       "      <td>NaN</td>\n",
       "      <td>NaN</td>\n",
       "      <td>3</td>\n",
       "      <td>NaN</td>\n",
       "      <td>NaN</td>\n",
       "      <td>NaN</td>\n",
       "      <td>0</td>\n",
       "      <td>NaN</td>\n",
       "    </tr>\n",
       "    <tr>\n",
       "      <th>2016</th>\n",
       "      <td>NaN</td>\n",
       "      <td>NaN</td>\n",
       "      <td>1</td>\n",
       "      <td>0</td>\n",
       "      <td>2</td>\n",
       "      <td>NaN</td>\n",
       "      <td>2</td>\n",
       "      <td>1</td>\n",
       "      <td>NaN</td>\n",
       "      <td>4</td>\n",
       "    </tr>\n",
       "    <tr>\n",
       "      <th>2017</th>\n",
       "      <td>NaN</td>\n",
       "      <td>5</td>\n",
       "      <td>NaN</td>\n",
       "      <td>NaN</td>\n",
       "      <td>5</td>\n",
       "      <td>1</td>\n",
       "      <td>NaN</td>\n",
       "      <td>NaN</td>\n",
       "      <td>NaN</td>\n",
       "      <td>NaN</td>\n",
       "    </tr>\n",
       "    <tr>\n",
       "      <th>2018</th>\n",
       "      <td>NaN</td>\n",
       "      <td>NaN</td>\n",
       "      <td>NaN</td>\n",
       "      <td>1</td>\n",
       "      <td>1</td>\n",
       "      <td>NaN</td>\n",
       "      <td>NaN</td>\n",
       "      <td>4</td>\n",
       "      <td>NaN</td>\n",
       "      <td>NaN</td>\n",
       "    </tr>\n",
       "    <tr>\n",
       "      <th>2019</th>\n",
       "      <td>1</td>\n",
       "      <td>NaN</td>\n",
       "      <td>NaN</td>\n",
       "      <td>NaN</td>\n",
       "      <td>NaN</td>\n",
       "      <td>NaN</td>\n",
       "      <td>NaN</td>\n",
       "      <td>0</td>\n",
       "      <td>0</td>\n",
       "      <td>NaN</td>\n",
       "    </tr>\n",
       "  </tbody>\n",
       "</table>\n",
       "</div>"
      ],
      "text/plain": [
       "director_primary  А.Кравчук  А.Мегердичев  А.Мизгирев  А.Цицилин  Д.Дьяченко  \\\n",
       "year                                                                           \n",
       "2013                    NaN           NaN         NaN        NaN         NaN   \n",
       "2014                    NaN           NaN         NaN          1         NaN   \n",
       "2015                    NaN           NaN         NaN        NaN           3   \n",
       "2016                    NaN           NaN           1          0           2   \n",
       "2017                    NaN             5         NaN        NaN           5   \n",
       "2018                    NaN           NaN         NaN          1           1   \n",
       "2019                      1           NaN         NaN        NaN         NaN   \n",
       "\n",
       "director_primary  И.Шурховецкий  Н.Лебедев  Н.Хомерики  Р.Давлетьяров  \\\n",
       "year                                                                    \n",
       "2013                        NaN        NaN         NaN              0   \n",
       "2014                        NaN        NaN         NaN            NaN   \n",
       "2015                        NaN        NaN         NaN              0   \n",
       "2016                        NaN          2           1            NaN   \n",
       "2017                          1        NaN         NaN            NaN   \n",
       "2018                        NaN        NaN           4            NaN   \n",
       "2019                        NaN        NaN           0              0   \n",
       "\n",
       "director_primary  Ф.Бондарчук  \n",
       "year                           \n",
       "2013                      NaN  \n",
       "2014                      NaN  \n",
       "2015                      NaN  \n",
       "2016                        4  \n",
       "2017                      NaN  \n",
       "2018                      NaN  \n",
       "2019                      NaN  "
      ]
     },
     "execution_count": 58,
     "metadata": {},
     "output_type": "execute_result"
    }
   ],
   "source": [
    "# Попробуем посмотреть окупаемость фильмов этих режисёров по годам\n",
    "_filtered = df.loc[(df['director_primary'].isin(directors_top.index)) & (df['total_support'].notna())]\n",
    "_grouped = _filtered.pivot_table(index='year', columns='director_primary', values='revenue_to_budget_ratio', aggfunc='mean')\n",
    "_grouped"
   ]
  },
  {
   "cell_type": "code",
   "execution_count": 59,
   "metadata": {},
   "outputs": [
    {
     "data": {
      "image/png": "[encoded data removed]",
      "text/plain": [
       "<Figure size 720x432 with 1 Axes>"
      ]
     },
     "metadata": {
      "needs_background": "light"
     },
     "output_type": "display_data"
    }
   ],
   "source": [
    "# Есть много пропусков, но попробуем посомтреть на визуализацию\n",
    "_grouped.plot(kind='bar', figsize=(10, 6))\n",
    "plt.title('Revenue to Budget Ratio by Director')\n",
    "plt.xlabel('Year')\n",
    "plt.ylabel('Revenue to Budget Ratio')\n",
    "plt.xticks(rotation=45)\n",
    "plt.legend(title='Director')\n",
    "plt.ticklabel_format(style='plain', axis='y')\n",
    "plt.show()"
   ]
  },
  {
   "cell_type": "markdown",
   "metadata": {},
   "source": [
    "Для анализа окупаемости режисеров, которые получиили поддержку, данных не сильно много, однако, можно выделить, что есть режисеры с очень большой окупаемостью (А.Мегердичев, Д.Дяченко, С.Андреасян) "
   ]
  },
  {
   "cell_type": "code",
   "execution_count": 60,
   "metadata": {},
   "outputs": [],
   "source": [
    "# Посмотрим какие международные проекты выделялись средства, выведем топ стран участвующих в производстве\n",
    "_q1 = df['total_support'].notnull()\n",
    "_q2 = df['production_country'] != 'Россия'\n",
    "international = df[_q1 & _q2]"
   ]
  },
  {
   "cell_type": "code",
   "execution_count": 61,
   "metadata": {},
   "outputs": [
    {
     "data": {
      "text/html": [
       "<div>\n",
       "<style scoped>\n",
       "    .dataframe tbody tr th:only-of-type {\n",
       "        vertical-align: middle;\n",
       "    }\n",
       "\n",
       "    .dataframe tbody tr th {\n",
       "        vertical-align: top;\n",
       "    }\n",
       "\n",
       "    .dataframe thead th {\n",
       "        text-align: right;\n",
       "    }\n",
       "</style>\n",
       "<table border=\"1\" class=\"dataframe\">\n",
       "  <thead>\n",
       "    <tr style=\"text-align: right;\">\n",
       "      <th></th>\n",
       "      <th>total_support</th>\n",
       "      <th>revenue_to_budget_ratio</th>\n",
       "    </tr>\n",
       "    <tr>\n",
       "      <th>production_country</th>\n",
       "      <th></th>\n",
       "      <th></th>\n",
       "    </tr>\n",
       "  </thead>\n",
       "  <tbody>\n",
       "    <tr>\n",
       "      <th>Россия, Италия</th>\n",
       "      <td>60,000,000</td>\n",
       "      <td>0</td>\n",
       "    </tr>\n",
       "    <tr>\n",
       "      <th>Россия, Армения</th>\n",
       "      <td>50,000,000</td>\n",
       "      <td>0</td>\n",
       "    </tr>\n",
       "    <tr>\n",
       "      <th>Россия, Германия, Великобритания</th>\n",
       "      <td>50,000,000</td>\n",
       "      <td>0</td>\n",
       "    </tr>\n",
       "    <tr>\n",
       "      <th>Россия, Франция, Латвия</th>\n",
       "      <td>46,502,299</td>\n",
       "      <td>0</td>\n",
       "    </tr>\n",
       "    <tr>\n",
       "      <th>Россия, Сербия</th>\n",
       "      <td>35,000,000</td>\n",
       "      <td>2</td>\n",
       "    </tr>\n",
       "    <tr>\n",
       "      <th>Россия, Германия</th>\n",
       "      <td>31,500,000</td>\n",
       "      <td>0</td>\n",
       "    </tr>\n",
       "    <tr>\n",
       "      <th>Россия, Бельгия, Финляндия</th>\n",
       "      <td>30,000,000</td>\n",
       "      <td>NaN</td>\n",
       "    </tr>\n",
       "    <tr>\n",
       "      <th>Россия, Украина, Польша</th>\n",
       "      <td>30,000,000</td>\n",
       "      <td>0</td>\n",
       "    </tr>\n",
       "    <tr>\n",
       "      <th>Россия-Словакия-Чехия</th>\n",
       "      <td>30,000,000</td>\n",
       "      <td>0</td>\n",
       "    </tr>\n",
       "    <tr>\n",
       "      <th>Россия, Германия, Казахстан, Польша, Китай</th>\n",
       "      <td>28,000,000</td>\n",
       "      <td>0</td>\n",
       "    </tr>\n",
       "    <tr>\n",
       "      <th>Россия-Украина</th>\n",
       "      <td>27,510,000</td>\n",
       "      <td>3</td>\n",
       "    </tr>\n",
       "    <tr>\n",
       "      <th>Россия - Грузия</th>\n",
       "      <td>25,000,000</td>\n",
       "      <td>NaN</td>\n",
       "    </tr>\n",
       "    <tr>\n",
       "      <th>Россия, Латвия, Чешская Республика</th>\n",
       "      <td>20,000,000</td>\n",
       "      <td>0</td>\n",
       "    </tr>\n",
       "  </tbody>\n",
       "</table>\n",
       "</div>"
      ],
      "text/plain": [
       "                                            total_support  \\\n",
       "production_country                                          \n",
       "Россия, Италия                                 60,000,000   \n",
       "Россия, Армения                                50,000,000   \n",
       "Россия, Германия, Великобритания               50,000,000   \n",
       "Россия, Франция, Латвия                        46,502,299   \n",
       "Россия, Сербия                                 35,000,000   \n",
       "Россия, Германия                               31,500,000   \n",
       "Россия, Бельгия, Финляндия                     30,000,000   \n",
       "Россия, Украина, Польша                        30,000,000   \n",
       "Россия-Словакия-Чехия                          30,000,000   \n",
       "Россия, Германия, Казахстан, Польша, Китай     28,000,000   \n",
       "Россия-Украина                                 27,510,000   \n",
       "Россия - Грузия                                25,000,000   \n",
       "Россия, Латвия, Чешская Республика             20,000,000   \n",
       "\n",
       "                                            revenue_to_budget_ratio  \n",
       "production_country                                                   \n",
       "Россия, Италия                                                    0  \n",
       "Россия, Армения                                                   0  \n",
       "Россия, Германия, Великобритания                                  0  \n",
       "Россия, Франция, Латвия                                           0  \n",
       "Россия, Сербия                                                    2  \n",
       "Россия, Германия                                                  0  \n",
       "Россия, Бельгия, Финляндия                                      NaN  \n",
       "Россия, Украина, Польша                                           0  \n",
       "Россия-Словакия-Чехия                                             0  \n",
       "Россия, Германия, Казахстан, Польша, Китай                        0  \n",
       "Россия-Украина                                                    3  \n",
       "Россия - Грузия                                                 NaN  \n",
       "Россия, Латвия, Чешская Республика                                0  "
      ]
     },
     "execution_count": 61,
     "metadata": {},
     "output_type": "execute_result"
    }
   ],
   "source": [
    "international.groupby('production_country')[['total_support','revenue_to_budget_ratio']].mean().sort_values(by='total_support', ascending=False)"
   ]
  },
  {
   "cell_type": "markdown",
   "metadata": {},
   "source": [
    "Вижу, что многие не окупились."
   ]
  },
  {
   "cell_type": "markdown",
   "metadata": {},
   "source": [
    "#### Общий вывод: ### \n",
    "В ходе анализа рынка российского кинопроката для Министерства культуры Российской Федерации были проведены следующие шаги:\n",
    "\n",
    "- Проведено изучение данных, их предобработка и объединение в один датафрейм.\n",
    "- Проверены типы данных, устранены дубликаты и обработаны пропущенные значения.\n",
    "- Проанализирована динамика кинопроката по годам, выявлены минимальные и максимальные суммы сборов за период (2 428 654.0 рублей и 49 668 403 134.32 рублей соответственно)\n",
    "- Исследовано влияние возрастного ограничения аудитории на сборы в прокате. Выявлено, что фильмы с возрастным ограничением \"12+\" и \"16+\" имеют наибольшие сборы.\n",
    "- Осуществлен анализ фильмов, получивших государственную поддержку. Выявлено, что большинство фильмов имеют неплохой рейтинг (5-7), и 83% бюджета фильма окупается через сборы в прокате.\n",
    "- Посчитан коэффициент корреляции между сборами и поддержкой. Обнаружена умеренная положительная линейная зависимость.\n",
    "\n",
    "В целом, результаты анализа позволяют сделать вывод, что российский кинопрокат активно развивается, существует востребованность фильмов с различными возрастными ограничениями, а государственная поддержка в значительной степени влияет на успешность кинопроектов.\n",
    "\n",
    "Заказчику можно порекомендовать продолжить инвестировать в развитие кинематографической инфраструктуры.\n",
    "Для расширения международного влияния и продвижения российского кинематографа за пределы страны, рекомендуется активно развивать партнерские отношения с международными кинокомпаниями, участвовать в международных кинофестивалях и продвигать российские фильмы на мировой арене."
   ]
  }
 ],
 "metadata": {
  "ExecuteTimeLog": [
   {
    "duration": 1679,
    "start_time": "2024-04-19T23:07:33.569Z"
   },
   {
    "duration": 17,
    "start_time": "2024-04-19T23:07:35.250Z"
   },
   {
    "duration": 17,
    "start_time": "2024-04-19T23:07:35.269Z"
   },
   {
    "duration": 34,
    "start_time": "2024-04-19T23:07:35.288Z"
   },
   {
    "duration": 26,
    "start_time": "2024-04-19T23:07:35.324Z"
   },
   {
    "duration": 5,
    "start_time": "2024-04-19T23:07:35.352Z"
   },
   {
    "duration": 32,
    "start_time": "2024-04-19T23:07:35.358Z"
   },
   {
    "duration": 39,
    "start_time": "2024-04-19T23:07:35.392Z"
   },
   {
    "duration": 36,
    "start_time": "2024-04-19T23:07:35.432Z"
   },
   {
    "duration": 21,
    "start_time": "2024-04-19T23:07:35.471Z"
   },
   {
    "duration": 44,
    "start_time": "2024-04-19T23:07:35.494Z"
   },
   {
    "duration": 48,
    "start_time": "2024-04-19T23:07:35.540Z"
   },
   {
    "duration": 4,
    "start_time": "2024-04-19T23:07:35.590Z"
   },
   {
    "duration": 30,
    "start_time": "2024-04-19T23:07:35.596Z"
   },
   {
    "duration": 19,
    "start_time": "2024-04-19T23:07:35.627Z"
   },
   {
    "duration": 4,
    "start_time": "2024-04-19T23:07:35.648Z"
   },
   {
    "duration": 32,
    "start_time": "2024-04-19T23:07:35.654Z"
   },
   {
    "duration": 22,
    "start_time": "2024-04-19T23:07:35.688Z"
   },
   {
    "duration": 36,
    "start_time": "2024-04-19T23:07:35.711Z"
   },
   {
    "duration": 25,
    "start_time": "2024-04-19T23:07:35.748Z"
   },
   {
    "duration": 26,
    "start_time": "2024-04-19T23:07:35.774Z"
   },
   {
    "duration": 52,
    "start_time": "2024-04-19T23:07:35.802Z"
   },
   {
    "duration": 95,
    "start_time": "2024-04-19T23:07:35.855Z"
   },
   {
    "duration": 23,
    "start_time": "2024-04-19T23:07:35.952Z"
   },
   {
    "duration": 5,
    "start_time": "2024-04-19T23:07:35.976Z"
   },
   {
    "duration": 12,
    "start_time": "2024-04-19T23:07:35.982Z"
   },
   {
    "duration": 507,
    "start_time": "2024-04-19T23:07:35.996Z"
   },
   {
    "duration": 95,
    "start_time": "2024-04-19T23:07:36.506Z"
   },
   {
    "duration": 7,
    "start_time": "2024-04-19T23:07:36.602Z"
   },
   {
    "duration": 15,
    "start_time": "2024-04-19T23:07:36.611Z"
   },
   {
    "duration": 13,
    "start_time": "2024-04-19T23:07:36.627Z"
   },
   {
    "duration": 20,
    "start_time": "2024-04-19T23:07:36.641Z"
   },
   {
    "duration": 52,
    "start_time": "2024-04-19T23:07:36.662Z"
   },
   {
    "duration": 128,
    "start_time": "2024-04-19T23:07:36.716Z"
   },
   {
    "duration": 2,
    "start_time": "2024-04-19T23:07:36.845Z"
   },
   {
    "duration": 32,
    "start_time": "2024-04-19T23:07:36.848Z"
   },
   {
    "duration": 28,
    "start_time": "2024-04-19T23:07:36.882Z"
   },
   {
    "duration": 16,
    "start_time": "2024-04-19T23:07:36.912Z"
   },
   {
    "duration": 125,
    "start_time": "2024-04-19T23:07:36.930Z"
   },
   {
    "duration": 17,
    "start_time": "2024-04-19T23:07:37.057Z"
   },
   {
    "duration": 27,
    "start_time": "2024-04-19T23:07:37.076Z"
   },
   {
    "duration": 19,
    "start_time": "2024-04-19T23:07:37.105Z"
   },
   {
    "duration": 96,
    "start_time": "2024-04-19T23:07:37.126Z"
   },
   {
    "duration": 210,
    "start_time": "2024-04-19T23:07:37.224Z"
   },
   {
    "duration": 3,
    "start_time": "2024-04-19T23:07:37.435Z"
   },
   {
    "duration": 19,
    "start_time": "2024-04-19T23:07:37.439Z"
   },
   {
    "duration": 166,
    "start_time": "2024-04-19T23:07:37.459Z"
   },
   {
    "duration": 143,
    "start_time": "2024-04-19T23:07:37.627Z"
   },
   {
    "duration": 8,
    "start_time": "2024-04-19T23:07:37.771Z"
   },
   {
    "duration": 152,
    "start_time": "2024-04-19T23:07:37.781Z"
   },
   {
    "duration": 5,
    "start_time": "2024-04-19T23:07:37.935Z"
   },
   {
    "duration": 1561,
    "start_time": "2024-04-20T08:18:07.751Z"
   },
   {
    "duration": 17,
    "start_time": "2024-04-20T08:18:09.314Z"
   },
   {
    "duration": 15,
    "start_time": "2024-04-20T08:18:09.332Z"
   },
   {
    "duration": 8,
    "start_time": "2024-04-20T08:18:09.349Z"
   },
   {
    "duration": 35,
    "start_time": "2024-04-20T08:18:09.359Z"
   },
   {
    "duration": 4,
    "start_time": "2024-04-20T08:18:09.396Z"
   },
   {
    "duration": 28,
    "start_time": "2024-04-20T08:18:09.402Z"
   },
   {
    "duration": 25,
    "start_time": "2024-04-20T08:18:09.432Z"
   },
   {
    "duration": 32,
    "start_time": "2024-04-20T08:18:09.459Z"
   },
   {
    "duration": 16,
    "start_time": "2024-04-20T08:18:09.494Z"
   },
   {
    "duration": 19,
    "start_time": "2024-04-20T08:18:09.512Z"
   },
   {
    "duration": 23,
    "start_time": "2024-04-20T08:18:09.532Z"
   },
   {
    "duration": 27,
    "start_time": "2024-04-20T08:18:09.556Z"
   },
   {
    "duration": 25,
    "start_time": "2024-04-20T08:18:09.585Z"
   },
   {
    "duration": 37,
    "start_time": "2024-04-20T08:18:09.612Z"
   },
   {
    "duration": 5,
    "start_time": "2024-04-20T08:18:09.650Z"
   },
   {
    "duration": 50,
    "start_time": "2024-04-20T08:18:09.657Z"
   },
   {
    "duration": 22,
    "start_time": "2024-04-20T08:18:09.708Z"
   },
   {
    "duration": 33,
    "start_time": "2024-04-20T08:18:09.732Z"
   },
   {
    "duration": 11,
    "start_time": "2024-04-20T08:18:09.767Z"
   },
   {
    "duration": 14,
    "start_time": "2024-04-20T08:18:09.780Z"
   },
   {
    "duration": 21,
    "start_time": "2024-04-20T08:18:09.796Z"
   },
   {
    "duration": 62,
    "start_time": "2024-04-20T08:18:09.818Z"
   },
   {
    "duration": 22,
    "start_time": "2024-04-20T08:18:09.882Z"
   },
   {
    "duration": 5,
    "start_time": "2024-04-20T08:18:09.906Z"
   },
   {
    "duration": 4,
    "start_time": "2024-04-20T08:18:09.914Z"
   },
   {
    "duration": 612,
    "start_time": "2024-04-20T08:18:09.920Z"
   },
   {
    "duration": 113,
    "start_time": "2024-04-20T08:18:10.537Z"
   },
   {
    "duration": 9,
    "start_time": "2024-04-20T08:18:10.653Z"
   },
   {
    "duration": 35,
    "start_time": "2024-04-20T08:18:10.664Z"
   },
   {
    "duration": 13,
    "start_time": "2024-04-20T08:18:10.701Z"
   },
   {
    "duration": 15,
    "start_time": "2024-04-20T08:18:10.715Z"
   },
   {
    "duration": 52,
    "start_time": "2024-04-20T08:18:10.732Z"
   },
   {
    "duration": 163,
    "start_time": "2024-04-20T08:18:10.785Z"
   },
   {
    "duration": 2,
    "start_time": "2024-04-20T08:18:10.950Z"
   },
   {
    "duration": 21,
    "start_time": "2024-04-20T08:18:10.954Z"
   },
   {
    "duration": 6,
    "start_time": "2024-04-20T08:18:10.977Z"
   },
   {
    "duration": 19,
    "start_time": "2024-04-20T08:18:10.985Z"
   },
   {
    "duration": 169,
    "start_time": "2024-04-20T08:18:11.006Z"
   },
   {
    "duration": 7,
    "start_time": "2024-04-20T08:18:11.179Z"
   },
   {
    "duration": 21,
    "start_time": "2024-04-20T08:18:11.188Z"
   },
   {
    "duration": 14,
    "start_time": "2024-04-20T08:18:11.211Z"
   },
   {
    "duration": 100,
    "start_time": "2024-04-20T08:18:11.227Z"
   },
   {
    "duration": 264,
    "start_time": "2024-04-20T08:18:11.329Z"
   },
   {
    "duration": 4,
    "start_time": "2024-04-20T08:18:11.594Z"
   },
   {
    "duration": 31,
    "start_time": "2024-04-20T08:18:11.599Z"
   },
   {
    "duration": 189,
    "start_time": "2024-04-20T08:18:11.632Z"
   },
   {
    "duration": 170,
    "start_time": "2024-04-20T08:18:11.823Z"
   },
   {
    "duration": 8,
    "start_time": "2024-04-20T08:18:11.994Z"
   },
   {
    "duration": 198,
    "start_time": "2024-04-20T08:18:12.004Z"
   },
   {
    "duration": 5,
    "start_time": "2024-04-20T08:18:12.204Z"
   },
   {
    "duration": 20,
    "start_time": "2024-04-20T08:25:00.018Z"
   },
   {
    "duration": 6,
    "start_time": "2024-04-20T08:28:06.482Z"
   },
   {
    "duration": 2085,
    "start_time": "2024-04-20T08:28:42.295Z"
   },
   {
    "duration": 7,
    "start_time": "2024-04-20T08:29:03.250Z"
   },
   {
    "duration": 40,
    "start_time": "2024-04-20T08:29:10.547Z"
   },
   {
    "duration": 7,
    "start_time": "2024-04-20T08:30:03.814Z"
   },
   {
    "duration": 7,
    "start_time": "2024-04-20T08:30:18.560Z"
   },
   {
    "duration": 8,
    "start_time": "2024-04-20T08:30:48.870Z"
   },
   {
    "duration": 7,
    "start_time": "2024-04-20T08:32:23.785Z"
   },
   {
    "duration": 1220,
    "start_time": "2024-04-20T18:23:34.306Z"
   },
   {
    "duration": 307,
    "start_time": "2024-04-20T18:23:35.528Z"
   },
   {
    "duration": 48,
    "start_time": "2024-04-20T18:23:35.838Z"
   },
   {
    "duration": 26,
    "start_time": "2024-04-20T18:23:35.888Z"
   },
   {
    "duration": 12,
    "start_time": "2024-04-20T18:23:35.915Z"
   },
   {
    "duration": 62,
    "start_time": "2024-04-20T18:23:35.929Z"
   },
   {
    "duration": 5,
    "start_time": "2024-04-20T18:23:35.992Z"
   },
   {
    "duration": 16,
    "start_time": "2024-04-20T18:23:35.998Z"
   },
   {
    "duration": 65,
    "start_time": "2024-04-20T18:23:36.016Z"
   },
   {
    "duration": 25,
    "start_time": "2024-04-20T18:23:36.084Z"
   },
   {
    "duration": 19,
    "start_time": "2024-04-20T18:23:36.111Z"
   },
   {
    "duration": 47,
    "start_time": "2024-04-20T18:23:36.131Z"
   },
   {
    "duration": 23,
    "start_time": "2024-04-20T18:23:36.180Z"
   },
   {
    "duration": 13,
    "start_time": "2024-04-20T18:23:36.204Z"
   },
   {
    "duration": 21,
    "start_time": "2024-04-20T18:23:36.219Z"
   },
   {
    "duration": 43,
    "start_time": "2024-04-20T18:23:36.242Z"
   },
   {
    "duration": 20,
    "start_time": "2024-04-20T18:23:36.286Z"
   },
   {
    "duration": 5,
    "start_time": "2024-04-20T18:23:36.307Z"
   },
   {
    "duration": 25,
    "start_time": "2024-04-20T18:23:36.313Z"
   },
   {
    "duration": 41,
    "start_time": "2024-04-20T18:23:36.339Z"
   },
   {
    "duration": 5,
    "start_time": "2024-04-20T18:23:36.382Z"
   },
   {
    "duration": 24,
    "start_time": "2024-04-20T18:23:36.389Z"
   },
   {
    "duration": 27,
    "start_time": "2024-04-20T18:23:36.414Z"
   },
   {
    "duration": 30,
    "start_time": "2024-04-20T18:23:36.443Z"
   },
   {
    "duration": 4,
    "start_time": "2024-04-20T18:23:36.474Z"
   },
   {
    "duration": 11,
    "start_time": "2024-04-20T18:23:36.479Z"
   },
   {
    "duration": 19,
    "start_time": "2024-04-20T18:23:36.491Z"
   },
   {
    "duration": 45,
    "start_time": "2024-04-20T18:23:36.514Z"
   },
   {
    "duration": 32,
    "start_time": "2024-04-20T18:23:36.560Z"
   },
   {
    "duration": 5,
    "start_time": "2024-04-20T18:23:36.594Z"
   },
   {
    "duration": 3,
    "start_time": "2024-04-20T18:23:36.601Z"
   },
   {
    "duration": 528,
    "start_time": "2024-04-20T18:23:36.606Z"
   },
   {
    "duration": 99,
    "start_time": "2024-04-20T18:23:37.135Z"
   },
   {
    "duration": 8,
    "start_time": "2024-04-20T18:23:37.236Z"
   },
   {
    "duration": 12,
    "start_time": "2024-04-20T18:23:37.245Z"
   },
   {
    "duration": 36,
    "start_time": "2024-04-20T18:23:37.259Z"
   },
   {
    "duration": 6,
    "start_time": "2024-04-20T18:23:37.297Z"
   },
   {
    "duration": 33,
    "start_time": "2024-04-20T18:23:37.305Z"
   },
   {
    "duration": 178,
    "start_time": "2024-04-20T18:23:37.339Z"
   },
   {
    "duration": 2,
    "start_time": "2024-04-20T18:23:37.519Z"
   },
   {
    "duration": 22,
    "start_time": "2024-04-20T18:23:37.523Z"
   },
   {
    "duration": 4,
    "start_time": "2024-04-20T18:23:37.547Z"
   },
   {
    "duration": 66,
    "start_time": "2024-04-20T18:23:37.553Z"
   },
   {
    "duration": 138,
    "start_time": "2024-04-20T18:23:37.621Z"
   },
   {
    "duration": 5,
    "start_time": "2024-04-20T18:23:37.761Z"
   },
   {
    "duration": 21,
    "start_time": "2024-04-20T18:23:37.768Z"
   },
   {
    "duration": 244,
    "start_time": "2024-04-20T18:23:37.790Z"
   },
   {
    "duration": 12,
    "start_time": "2024-04-20T18:23:38.036Z"
   },
   {
    "duration": 15,
    "start_time": "2024-04-20T18:23:38.050Z"
   },
   {
    "duration": 205,
    "start_time": "2024-04-20T18:23:38.080Z"
   },
   {
    "duration": 16,
    "start_time": "2024-04-20T18:23:38.287Z"
   },
   {
    "duration": 298,
    "start_time": "2024-04-20T18:23:38.305Z"
   },
   {
    "duration": 8,
    "start_time": "2024-04-20T18:23:38.605Z"
   },
   {
    "duration": 209,
    "start_time": "2024-04-20T18:23:38.614Z"
   },
   {
    "duration": 168,
    "start_time": "2024-04-20T18:23:38.825Z"
   },
   {
    "duration": 7,
    "start_time": "2024-04-20T18:23:38.994Z"
   },
   {
    "duration": 156,
    "start_time": "2024-04-20T18:23:39.003Z"
   },
   {
    "duration": 5,
    "start_time": "2024-04-20T18:23:39.160Z"
   },
   {
    "duration": 33,
    "start_time": "2024-04-20T18:23:39.166Z"
   },
   {
    "duration": 12,
    "start_time": "2024-04-20T18:23:39.201Z"
   },
   {
    "duration": 12,
    "start_time": "2024-04-20T18:23:39.214Z"
   },
   {
    "duration": 27,
    "start_time": "2024-04-20T18:23:39.228Z"
   },
   {
    "duration": 313,
    "start_time": "2024-04-20T18:23:39.257Z"
   },
   {
    "duration": 10,
    "start_time": "2024-04-20T18:23:39.572Z"
   },
   {
    "duration": 28,
    "start_time": "2024-04-20T18:23:39.583Z"
   },
   {
    "duration": 10,
    "start_time": "2024-04-20T18:30:16.670Z"
   },
   {
    "duration": 7,
    "start_time": "2024-04-20T18:30:35.236Z"
   },
   {
    "duration": 8,
    "start_time": "2024-04-20T18:30:50.842Z"
   },
   {
    "duration": 1332,
    "start_time": "2024-04-21T07:59:56.246Z"
   },
   {
    "duration": 298,
    "start_time": "2024-04-21T07:59:57.580Z"
   },
   {
    "duration": 16,
    "start_time": "2024-04-21T07:59:57.879Z"
   },
   {
    "duration": 21,
    "start_time": "2024-04-21T07:59:57.896Z"
   },
   {
    "duration": 18,
    "start_time": "2024-04-21T07:59:57.918Z"
   },
   {
    "duration": 24,
    "start_time": "2024-04-21T07:59:57.938Z"
   },
   {
    "duration": 4,
    "start_time": "2024-04-21T07:59:57.963Z"
   },
   {
    "duration": 10,
    "start_time": "2024-04-21T07:59:57.968Z"
   },
   {
    "duration": 14,
    "start_time": "2024-04-21T07:59:57.979Z"
   },
   {
    "duration": 28,
    "start_time": "2024-04-21T07:59:57.995Z"
   },
   {
    "duration": 4,
    "start_time": "2024-04-21T07:59:58.025Z"
   },
   {
    "duration": 20,
    "start_time": "2024-04-21T07:59:58.031Z"
   },
   {
    "duration": 35,
    "start_time": "2024-04-21T07:59:58.052Z"
   },
   {
    "duration": 19,
    "start_time": "2024-04-21T07:59:58.088Z"
   },
   {
    "duration": 5,
    "start_time": "2024-04-21T07:59:58.108Z"
   },
   {
    "duration": 23,
    "start_time": "2024-04-21T07:59:58.114Z"
   },
   {
    "duration": 19,
    "start_time": "2024-04-21T07:59:58.139Z"
   },
   {
    "duration": 20,
    "start_time": "2024-04-21T07:59:58.159Z"
   },
   {
    "duration": 43,
    "start_time": "2024-04-21T07:59:58.180Z"
   },
   {
    "duration": 28,
    "start_time": "2024-04-21T07:59:58.225Z"
   },
   {
    "duration": 23,
    "start_time": "2024-04-21T07:59:58.255Z"
   },
   {
    "duration": 12,
    "start_time": "2024-04-21T07:59:58.279Z"
   },
   {
    "duration": 23,
    "start_time": "2024-04-21T07:59:58.292Z"
   },
   {
    "duration": 37,
    "start_time": "2024-04-21T07:59:58.317Z"
   },
   {
    "duration": 36,
    "start_time": "2024-04-21T07:59:58.355Z"
   },
   {
    "duration": 4,
    "start_time": "2024-04-21T07:59:58.393Z"
   },
   {
    "duration": 7,
    "start_time": "2024-04-21T07:59:58.398Z"
   },
   {
    "duration": 462,
    "start_time": "2024-04-21T07:59:58.408Z"
   },
   {
    "duration": 74,
    "start_time": "2024-04-21T07:59:58.872Z"
   },
   {
    "duration": 7,
    "start_time": "2024-04-21T07:59:58.947Z"
   },
   {
    "duration": 26,
    "start_time": "2024-04-21T07:59:58.955Z"
   },
   {
    "duration": 13,
    "start_time": "2024-04-21T07:59:58.983Z"
   },
   {
    "duration": 5,
    "start_time": "2024-04-21T07:59:58.997Z"
   },
   {
    "duration": 31,
    "start_time": "2024-04-21T07:59:59.004Z"
   },
   {
    "duration": 150,
    "start_time": "2024-04-21T07:59:59.037Z"
   },
   {
    "duration": 3,
    "start_time": "2024-04-21T07:59:59.188Z"
   },
   {
    "duration": 12,
    "start_time": "2024-04-21T07:59:59.192Z"
   },
   {
    "duration": 24,
    "start_time": "2024-04-21T07:59:59.206Z"
   },
   {
    "duration": 20,
    "start_time": "2024-04-21T07:59:59.232Z"
   },
   {
    "duration": 197,
    "start_time": "2024-04-21T07:59:59.254Z"
   },
   {
    "duration": 6,
    "start_time": "2024-04-21T07:59:59.452Z"
   },
   {
    "duration": 21,
    "start_time": "2024-04-21T07:59:59.459Z"
   },
   {
    "duration": 167,
    "start_time": "2024-04-21T07:59:59.482Z"
   },
   {
    "duration": 12,
    "start_time": "2024-04-21T07:59:59.651Z"
   },
   {
    "duration": 15,
    "start_time": "2024-04-21T07:59:59.674Z"
   },
   {
    "duration": 216,
    "start_time": "2024-04-21T07:59:59.691Z"
   },
   {
    "duration": 15,
    "start_time": "2024-04-21T07:59:59.908Z"
   },
   {
    "duration": 220,
    "start_time": "2024-04-21T07:59:59.925Z"
   },
   {
    "duration": 7,
    "start_time": "2024-04-21T08:00:00.147Z"
   },
   {
    "duration": 303,
    "start_time": "2024-04-21T08:00:00.156Z"
   },
   {
    "duration": 180,
    "start_time": "2024-04-21T08:00:00.461Z"
   },
   {
    "duration": 8,
    "start_time": "2024-04-21T08:00:00.642Z"
   },
   {
    "duration": 242,
    "start_time": "2024-04-21T08:00:00.651Z"
   },
   {
    "duration": 4,
    "start_time": "2024-04-21T08:00:00.895Z"
   },
   {
    "duration": 86,
    "start_time": "2024-04-21T08:00:00.900Z"
   },
   {
    "duration": 103,
    "start_time": "2024-04-21T08:00:00.987Z"
   },
   {
    "duration": 83,
    "start_time": "2024-04-21T08:00:01.091Z"
   },
   {
    "duration": 112,
    "start_time": "2024-04-21T08:00:01.176Z"
   },
   {
    "duration": 419,
    "start_time": "2024-04-21T08:00:01.290Z"
   },
   {
    "duration": 5,
    "start_time": "2024-04-21T08:00:01.710Z"
   },
   {
    "duration": 767,
    "start_time": "2024-04-21T08:00:01.716Z"
   }
  ],
  "kernelspec": {
   "display_name": "Python 3 (ipykernel)",
   "language": "python",
   "name": "python3"
  },
  "language_info": {
   "codemirror_mode": {
    "name": "ipython",
    "version": 3
   },
   "file_extension": ".py",
   "mimetype": "text/x-python",
   "name": "python",
   "nbconvert_exporter": "python",
   "pygments_lexer": "ipython3",
   "version": "3.9.5"
  },
  "toc": {
   "base_numbering": 1,
   "nav_menu": {},
   "number_sections": true,
   "sideBar": true,
   "skip_h1_title": true,
   "title_cell": "Table of Contents",
   "title_sidebar": "Contents",
   "toc_cell": false,
   "toc_position": {},
   "toc_section_display": true,
   "toc_window_display": false
  },
  "vscode": {
   "interpreter": {
    "hash": "31f2aee4e71d21fbe5cf8b01ff0e069b9275f58929596ceb00d14d90e3e16cd6"
   }
  }
 },
 "nbformat": 4,
 "nbformat_minor": 2
}
