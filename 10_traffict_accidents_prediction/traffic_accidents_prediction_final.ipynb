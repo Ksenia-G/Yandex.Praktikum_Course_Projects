{
 "cells": [
  {
   "cell_type": "markdown",
   "metadata": {},
   "source": [
    "# Описание проекта\n",
    "\n",
    "**Заказчик**: каршеринговая компания (далее — Заказчик).\n",
    "\n",
    "### **Цель:** \n",
    "Определить возможность предсказания ДТП, опираясь на исторические данные одного из регионов, с целью последующего создания системы оценки риска* ДТП на маршруте движения, выбранном клиентом Заказчика.  \n",
    "\n",
    "_*Под риском в настоящем проекте принять **вероятность** ДТП с любым повреждением транспортного средства (далее — ТС). кроме царапин_  \n",
    "\n",
    "---\n",
    "\n",
    "### **Подцели:**\n",
    "\n",
    "1. **Создание модели предсказания ДТП**  \n",
    "   Целевое значение — `at_fault` (виновник) в таблице `parties`.  \n",
    "   - Для моделирования использовать тип виновника — только машина (`car`).  \n",
    "   - Выбрать случаи, когда ДТП привело к любым повреждениям ТС, кроме типа SCRATCH (царапина).  \n",
    "   - Для моделирования ограничиться данными за 2012 год.  \n",
    "   - Обязательное условие — учесть фактор возраста автомобиля.  \n",
    "\n",
    "2. **На основе модели исследовать основные факторы ДТП.**\n",
    "\n",
    "3. **Определение значимости результатов моделирования и анализа важности факторов** для следующих аспектов:  \n",
    "   - Возможность создания адекватной системы оценки водительского риска при выдаче авто.  \n",
    "   - Необходимость учёта дополнительных факторов.  \n",
    "   - Необходимость дополнительного оборудования ТС датчиками и/или камерой.  \n"
   ]
  },
  {
   "cell_type": "markdown",
   "metadata": {},
   "source": [
    "## План работы\n",
    "\n",
    "### 1. **Загрузка данных из базы данных**\n",
    "\n",
    "---\n",
    "\n",
    "### 2. **Первичное исследование таблиц при помощи SQL-запроса**\n",
    "\n",
    "Необходимо определить:  \n",
    "- **a.** Все ли таблицы имеют набор данных;  \n",
    "- **b.** Соответствует ли количество таблиц условию задачи;  \n",
    "- **c.** Имеется ли общий ключ для связи таблиц.  \n",
    "\n",
    "---\n",
    "\n",
    "### 3. **Статистический анализ факторов ДТП**\n",
    "\n",
    "#### 3.1. **Месяцы, в которые происходит наибольшее количество аварий**  \n",
    "Анализ всего периода наблюдений (таблица `collisions`):  \n",
    "- SQL-запрос;  \n",
    "- График;  \n",
    "- Вывод.  \n",
    "\n",
    "#### 3.2. **Постановка аналитических задач коллегами**  \n",
    "\n",
    "#### 3.3. **Решение для двух задач из списка**  \n",
    "\n",
    "---\n",
    "\n",
    "### 4. **Создание модели для оценки водительского риска**\n",
    "\n",
    "#### 4.1. Подготовка набора данных на основе первичного предположения Заказчика  \n",
    "- Подготовка исходной таблицы должна проводиться с помощью SQL-запроса.  \n",
    "\n",
    "#### 4.2. Первичный отбор факторов для моделирования  \n",
    "\n",
    "#### 4.3. Статистическое исследование отобранных факторов  \n",
    "- По результату внести корректировки при необходимости.  \n",
    "- Категоризация и масштабирование исходных данных.  \n",
    "- Подготовка обучающей и тестовой выборок.  \n",
    "\n",
    "---\n",
    "\n",
    "### 5. **Определение оптимальной модели**\n",
    "\n",
    "#### 5.1. Создание не менее 3-х типов моделей с перебором гиперпараметров  \n",
    "#### 5.2. Выбор метрики для оценки модели исходя из поставленной задачи  \n",
    "#### 5.3. Вывод в виде сравнительной таблицы  \n",
    "\n",
    "---\n",
    "\n",
    "### 6. **Проверка лучшей модели**\n",
    "\n",
    "#### 6.1. Графический анализ с помощью матрицы ошибок  \n",
    "#### 6.2. Анализ важности основных факторов, влияющих на вероятность ДТП  \n",
    "#### 6.3. Дополнительное исследование для одного из важных факторов:  \n",
    "- График зависимости фактора и целевой переменной;  \n",
    "- Предложение, чем можно оборудовать автомобиль для учёта данного фактора во время посадки.  \n",
    "\n",
    "---\n",
    "\n",
    "### 7. **Общий вывод по модели**\n",
    "\n",
    "- Описание лучшей модели.  \n",
    "- Вывод о возможности создания системы оценки риска при выдаче авто.  \n",
    "- Перечень дополнительных факторов для улучшения модели.  "
   ]
  },
  {
   "cell_type": "markdown",
   "metadata": {},
   "source": [
    "# 0. Подготовка ноутбука к работе"
   ]
  },
  {
   "cell_type": "markdown",
   "metadata": {},
   "source": [
    "**Импорты**"
   ]
  },
  {
   "cell_type": "code",
   "execution_count": 1,
   "metadata": {},
   "outputs": [],
   "source": [
    "#pip install sqlalchemy -q"
   ]
  },
  {
   "cell_type": "code",
   "execution_count": 2,
   "metadata": {},
   "outputs": [],
   "source": [
    "import pandas as pd\n",
    "import numpy as np\n",
    "\n",
    "import matplotlib.pyplot as plt\n",
    "import seaborn as sns\n",
    "\n",
    "import datetime\n",
    "\n",
    "from scipy.stats import ttest_ind\n",
    "\n",
    "from sqlalchemy import create_engine, inspect \n",
    "\n",
    "from sklearn.model_selection import train_test_split\n",
    "from sklearn.pipeline import Pipeline\n",
    "from sklearn.impute import SimpleImputer\n",
    "from sklearn.preprocessing import OneHotEncoder, OrdinalEncoder\n",
    "from sklearn.compose import ColumnTransformer\n",
    "from sklearn.metrics import precision_score, recall_score, f1_score, roc_auc_score, confusion_matrix\n",
    "from sklearn.model_selection import cross_val_predict\n",
    "\n",
    "from sklearn.model_selection import RandomizedSearchCV\n",
    "from sklearn.preprocessing import StandardScaler\n",
    "\n",
    "from sklearn.ensemble import RandomForestClassifier\n",
    "from catboost import CatBoostClassifier\n",
    "from lightgbm import LGBMClassifier"
   ]
  },
  {
   "cell_type": "code",
   "execution_count": 3,
   "metadata": {},
   "outputs": [],
   "source": [
    "import warnings\n",
    "warnings.filterwarnings('ignore')"
   ]
  },
  {
   "cell_type": "code",
   "execution_count": 4,
   "metadata": {},
   "outputs": [],
   "source": [
    "RANDOM_STATE = 42"
   ]
  },
  {
   "cell_type": "markdown",
   "metadata": {},
   "source": [
    "**Подключение к БД**"
   ]
  },
  {
   "cell_type": "code",
   "execution_count": 5,
   "metadata": {},
   "outputs": [],
   "source": [
    "db_config = {\n",
    "'user': 'praktikum_student', # имя пользователя,\n",
    "'pwd': 'Sdf4$2;d-d30pp', # пароль,\n",
    "'host': 'rc1b-wcoijxj3yxfsf3fs.mdb.yandexcloud.net',\n",
    "'port': 6432, # порт подключения,\n",
    "'db': 'data-science-vehicle-db' # название базы данных,\n",
    "} "
   ]
  },
  {
   "cell_type": "code",
   "execution_count": 6,
   "metadata": {},
   "outputs": [],
   "source": [
    "connection_string = 'postgresql://{}:{}@{}:{}/{}'.format(\n",
    "    db_config['user'],\n",
    "    db_config['pwd'],\n",
    "    db_config['host'],\n",
    "    db_config['port'],\n",
    "    db_config['db'],\n",
    ") \n",
    "\n",
    "engine = create_engine(connection_string) "
   ]
  },
  {
   "cell_type": "markdown",
   "metadata": {},
   "source": [
    "**Функции**"
   ]
  },
  {
   "cell_type": "code",
   "execution_count": 7,
   "metadata": {},
   "outputs": [],
   "source": [
    "# Function to display the main information about a data frame\n",
    "def display_main_info(df):\n",
    "    \"\"\"\n",
    "    Displays key information about the DataFrame for exploratory data analysis.\n",
    "    \n",
    "    Args:\n",
    "        df (pandas.DataFrame): The DataFrame to be analyzed.\n",
    "        \n",
    "    Displays:\n",
    "        - The first few rows of the DataFrame.\n",
    "        - Data types and non-null counts of each column.\n",
    "        - The shape (number of rows and columns) of the DataFrame.\n",
    "        - The number of duplicate rows in the DataFrame.\n",
    "        - The proportion of missing data for each column.\n",
    "    \"\"\"\n",
    "    \n",
    "    print('________________Head________________')\n",
    "    display(df.head())\n",
    "    \n",
    "    print('________________Data Types Info________________')\n",
    "    display(df.info())\n",
    "    \n",
    "    print('________________Shape________________')\n",
    "    display(df.shape)\n",
    "    \n",
    "    print('________________Duplicates________________')\n",
    "    display(df.duplicated().sum())\n",
    "    \n",
    "    print('________________Proportion of Missing Data________________')\n",
    "    display(df.isna().mean())"
   ]
  },
  {
   "cell_type": "code",
   "execution_count": 8,
   "metadata": {},
   "outputs": [],
   "source": [
    "def plot_histogram_and_boxplot(df, column):\n",
    "    \"\"\"\n",
    "    Function to plot a histogram and a horizontal boxplot for a specified column in a DataFrame.\n",
    "\n",
    "    Parameters:\n",
    "    df (pd.DataFrame): The DataFrame containing the data.\n",
    "    column (str): The name of the column for which the plots should be created.\n",
    "\n",
    "    Returns:\n",
    "    None: Displays the plots directly.\n",
    "    \"\"\"\n",
    "    \n",
    "    # Check if the column exists in the DataFrame\n",
    "    if column not in df.columns:\n",
    "        print(f\"Column '{column}' not found in the DataFrame.\")\n",
    "        return\n",
    "    \n",
    "    # Create a figure with two subplots\n",
    "    fig, axes = plt.subplots(1, 2, figsize=(12, 5))\n",
    "    \n",
    "    # Plot the histogram with a custom color (green)\n",
    "    sns.histplot(df[column], ax=axes[0], kde=False, bins=30, color='lightgreen')\n",
    "    axes[0].set_title(f'Histogram for {column}')\n",
    "    axes[0].set_xlabel(column)\n",
    "    axes[0].set_ylabel('Frequency')\n",
    "    \n",
    "    # Plot the horizontal boxplot with a custom color (purple)\n",
    "    sns.boxplot(x=df[column], ax=axes[1], orient='h', color='lightgreen')\n",
    "    axes[1].set_title(f'Boxplot for {column}')\n",
    "    axes[1].set_xlabel(column)\n",
    "    \n",
    "    # Display the plots\n",
    "    plt.tight_layout()\n",
    "    plt.show()"
   ]
  },
  {
   "cell_type": "code",
   "execution_count": 9,
   "metadata": {},
   "outputs": [],
   "source": [
    "# Function that extracts numeric data from the dataset\n",
    "def extract_numeric_data(df):\n",
    "    numeric = df.select_dtypes(include='number').columns.tolist()\n",
    "    return numeric\n"
   ]
  },
  {
   "cell_type": "code",
   "execution_count": 10,
   "metadata": {},
   "outputs": [],
   "source": [
    "# Function that extracts non-numeric data from the dataset\n",
    "def extract_categoric_data(df):\n",
    "    categoric = df.select_dtypes(exclude='number').columns.tolist()\n",
    "    return categoric"
   ]
  },
  {
   "cell_type": "code",
   "execution_count": 11,
   "metadata": {},
   "outputs": [],
   "source": [
    "# Function to display statistical info\n",
    "def show_stats(df, column_name):\n",
    "    print(f'Statics for {column_name}')\n",
    "    display(df[[column_name]].describe().T)"
   ]
  },
  {
   "cell_type": "code",
   "execution_count": 12,
   "metadata": {},
   "outputs": [],
   "source": [
    "# Function to displays statistical info\n",
    "def show_info_about_categories(df, column_name):\n",
    "    print(f'___________Number of unique values for {column_name}:___________')\n",
    "    display(df[column_name].nunique())\n",
    "    \n",
    "    print(f'___________Unique values for {column_name}:___________')\n",
    "    display(df[column_name].value_counts(normalize=True))"
   ]
  },
  {
   "cell_type": "code",
   "execution_count": 13,
   "metadata": {},
   "outputs": [],
   "source": [
    "def remove_rare_categories(df, column_name, threshold):\n",
    "    \"\"\"\n",
    "    Replaces rare categories in a specified column with 'Other' based on a threshold.\n",
    "\n",
    "    Parameters:\n",
    "    - df: pandas DataFrame\n",
    "    - column_name: str, name of the column to process\n",
    "    - threshold: float, categories with frequency <= threshold will be replaced\n",
    "\n",
    "    Returns:\n",
    "    - Updated Series with replaced rare categories and their normalized value counts.\n",
    "    \"\"\"\n",
    "\n",
    "    # Calculate normalized value counts\n",
    "    category_counts = df[column_name].value_counts(normalize=True)\n",
    "    \n",
    "    # Identify rare categories\n",
    "    rare_categories = category_counts[category_counts <= threshold].index\n",
    "    \n",
    "    # Replace rare categories with 'Other'\n",
    "    df[column_name + '_new'] = df[column_name].apply(lambda x: 'Other' if x in rare_categories else x)\n",
    "    \n",
    "    # Return the normalized value counts of the new column\n",
    "    return df[column_name + '_new'].value_counts(normalize=True)"
   ]
  },
  {
   "cell_type": "markdown",
   "metadata": {},
   "source": [
    "# 1. Загрузка данных"
   ]
  },
  {
   "cell_type": "code",
   "execution_count": 14,
   "metadata": {},
   "outputs": [
    {
     "name": "stdout",
     "output_type": "stream",
     "text": [
      "Таблица 'collisions' существует.\n",
      "Таблица 'vehicles' существует.\n",
      "Таблица 'parties' существует.\n"
     ]
    }
   ],
   "source": [
    "# Функция для проверки наличия таблицы\n",
    "def check_table_exists(engine, table_name):\n",
    "    inspector = inspect(engine)\n",
    "    return inspector.has_table(table_name)\n",
    "\n",
    "# Проверка наличия таблиц\n",
    "tables_to_check = ['collisions', 'vehicles', 'parties']\n",
    "for table in tables_to_check:\n",
    "    if check_table_exists(engine, table):\n",
    "        print(f\"Таблица '{table}' существует.\")\n",
    "    else:\n",
    "        print(f\"Таблица '{table}' не существует.\")"
   ]
  },
  {
   "cell_type": "code",
   "execution_count": 15,
   "metadata": {},
   "outputs": [],
   "source": [
    "# Import collisions from the Data Base\n",
    "\n",
    "query_1 = '''\n",
    "SELECT * FROM collisions\n",
    "LIMIT 10\n",
    "''' \n",
    "collisions = pd.read_sql_query(query_1, con = engine) "
   ]
  },
  {
   "cell_type": "code",
   "execution_count": 16,
   "metadata": {},
   "outputs": [
    {
     "data": {
      "text/html": [
       "<div>\n",
       "<style scoped>\n",
       "    .dataframe tbody tr th:only-of-type {\n",
       "        vertical-align: middle;\n",
       "    }\n",
       "\n",
       "    .dataframe tbody tr th {\n",
       "        vertical-align: top;\n",
       "    }\n",
       "\n",
       "    .dataframe thead th {\n",
       "        text-align: right;\n",
       "    }\n",
       "</style>\n",
       "<table border=\"1\" class=\"dataframe\">\n",
       "  <thead>\n",
       "    <tr style=\"text-align: right;\">\n",
       "      <th></th>\n",
       "      <th>case_id</th>\n",
       "      <th>county_city_location</th>\n",
       "      <th>county_location</th>\n",
       "      <th>distance</th>\n",
       "      <th>direction</th>\n",
       "      <th>intersection</th>\n",
       "      <th>weather_1</th>\n",
       "      <th>location_type</th>\n",
       "      <th>collision_damage</th>\n",
       "      <th>party_count</th>\n",
       "      <th>primary_collision_factor</th>\n",
       "      <th>pcf_violation_category</th>\n",
       "      <th>type_of_collision</th>\n",
       "      <th>motor_vehicle_involved_with</th>\n",
       "      <th>road_surface</th>\n",
       "      <th>road_condition_1</th>\n",
       "      <th>lighting</th>\n",
       "      <th>control_device</th>\n",
       "      <th>collision_date</th>\n",
       "      <th>collision_time</th>\n",
       "    </tr>\n",
       "  </thead>\n",
       "  <tbody>\n",
       "    <tr>\n",
       "      <th>0</th>\n",
       "      <td>4083072</td>\n",
       "      <td>1942</td>\n",
       "      <td>los angeles</td>\n",
       "      <td>528.0</td>\n",
       "      <td>north</td>\n",
       "      <td>0</td>\n",
       "      <td>cloudy</td>\n",
       "      <td>highway</td>\n",
       "      <td>small damage</td>\n",
       "      <td>2</td>\n",
       "      <td>vehicle code violation</td>\n",
       "      <td>unsafe lane change</td>\n",
       "      <td>sideswipe</td>\n",
       "      <td>other motor vehicle</td>\n",
       "      <td>wet</td>\n",
       "      <td>normal</td>\n",
       "      <td>daylight</td>\n",
       "      <td>none</td>\n",
       "      <td>2009-01-22</td>\n",
       "      <td>07:25:00</td>\n",
       "    </tr>\n",
       "    <tr>\n",
       "      <th>1</th>\n",
       "      <td>4083075</td>\n",
       "      <td>4313</td>\n",
       "      <td>santa clara</td>\n",
       "      <td>0.0</td>\n",
       "      <td>None</td>\n",
       "      <td>1</td>\n",
       "      <td>clear</td>\n",
       "      <td>None</td>\n",
       "      <td>small damage</td>\n",
       "      <td>1</td>\n",
       "      <td>vehicle code violation</td>\n",
       "      <td>improper passing</td>\n",
       "      <td>hit object</td>\n",
       "      <td>fixed object</td>\n",
       "      <td>dry</td>\n",
       "      <td>normal</td>\n",
       "      <td>dark with street lights</td>\n",
       "      <td>functioning</td>\n",
       "      <td>2009-01-03</td>\n",
       "      <td>02:26:00</td>\n",
       "    </tr>\n",
       "    <tr>\n",
       "      <th>2</th>\n",
       "      <td>4083073</td>\n",
       "      <td>0109</td>\n",
       "      <td>alameda</td>\n",
       "      <td>0.0</td>\n",
       "      <td>None</td>\n",
       "      <td>1</td>\n",
       "      <td>clear</td>\n",
       "      <td>None</td>\n",
       "      <td>scratch</td>\n",
       "      <td>2</td>\n",
       "      <td>vehicle code violation</td>\n",
       "      <td>improper turning</td>\n",
       "      <td>broadside</td>\n",
       "      <td>other motor vehicle</td>\n",
       "      <td>dry</td>\n",
       "      <td>normal</td>\n",
       "      <td>dark with street lights</td>\n",
       "      <td>functioning</td>\n",
       "      <td>2009-01-11</td>\n",
       "      <td>03:32:00</td>\n",
       "    </tr>\n",
       "    <tr>\n",
       "      <th>3</th>\n",
       "      <td>4083077</td>\n",
       "      <td>0109</td>\n",
       "      <td>alameda</td>\n",
       "      <td>0.0</td>\n",
       "      <td>None</td>\n",
       "      <td>1</td>\n",
       "      <td>clear</td>\n",
       "      <td>None</td>\n",
       "      <td>scratch</td>\n",
       "      <td>2</td>\n",
       "      <td>vehicle code violation</td>\n",
       "      <td>automobile right of way</td>\n",
       "      <td>broadside</td>\n",
       "      <td>other motor vehicle</td>\n",
       "      <td>dry</td>\n",
       "      <td>normal</td>\n",
       "      <td>daylight</td>\n",
       "      <td>functioning</td>\n",
       "      <td>2009-01-11</td>\n",
       "      <td>10:35:00</td>\n",
       "    </tr>\n",
       "    <tr>\n",
       "      <th>4</th>\n",
       "      <td>4083087</td>\n",
       "      <td>4313</td>\n",
       "      <td>santa clara</td>\n",
       "      <td>0.0</td>\n",
       "      <td>None</td>\n",
       "      <td>1</td>\n",
       "      <td>clear</td>\n",
       "      <td>None</td>\n",
       "      <td>scratch</td>\n",
       "      <td>2</td>\n",
       "      <td>vehicle code violation</td>\n",
       "      <td>speeding</td>\n",
       "      <td>rear end</td>\n",
       "      <td>other motor vehicle</td>\n",
       "      <td>dry</td>\n",
       "      <td>None</td>\n",
       "      <td>dark with street lights</td>\n",
       "      <td>functioning</td>\n",
       "      <td>2009-01-02</td>\n",
       "      <td>22:43:00</td>\n",
       "    </tr>\n",
       "  </tbody>\n",
       "</table>\n",
       "</div>"
      ],
      "text/plain": [
       "   case_id county_city_location county_location  distance direction  \\\n",
       "0  4083072                 1942     los angeles     528.0     north   \n",
       "1  4083075                 4313     santa clara       0.0      None   \n",
       "2  4083073                 0109         alameda       0.0      None   \n",
       "3  4083077                 0109         alameda       0.0      None   \n",
       "4  4083087                 4313     santa clara       0.0      None   \n",
       "\n",
       "   intersection weather_1 location_type collision_damage  party_count  \\\n",
       "0             0    cloudy       highway     small damage            2   \n",
       "1             1     clear          None     small damage            1   \n",
       "2             1     clear          None          scratch            2   \n",
       "3             1     clear          None          scratch            2   \n",
       "4             1     clear          None          scratch            2   \n",
       "\n",
       "  primary_collision_factor   pcf_violation_category type_of_collision  \\\n",
       "0   vehicle code violation       unsafe lane change         sideswipe   \n",
       "1   vehicle code violation         improper passing        hit object   \n",
       "2   vehicle code violation         improper turning         broadside   \n",
       "3   vehicle code violation  automobile right of way         broadside   \n",
       "4   vehicle code violation                 speeding          rear end   \n",
       "\n",
       "  motor_vehicle_involved_with road_surface road_condition_1  \\\n",
       "0         other motor vehicle          wet           normal   \n",
       "1                fixed object          dry           normal   \n",
       "2         other motor vehicle          dry           normal   \n",
       "3         other motor vehicle          dry           normal   \n",
       "4         other motor vehicle          dry             None   \n",
       "\n",
       "                  lighting control_device collision_date collision_time  \n",
       "0                 daylight           none     2009-01-22       07:25:00  \n",
       "1  dark with street lights    functioning     2009-01-03       02:26:00  \n",
       "2  dark with street lights    functioning     2009-01-11       03:32:00  \n",
       "3                 daylight    functioning     2009-01-11       10:35:00  \n",
       "4  dark with street lights    functioning     2009-01-02       22:43:00  "
      ]
     },
     "execution_count": 16,
     "metadata": {},
     "output_type": "execute_result"
    }
   ],
   "source": [
    "collisions.head()"
   ]
  },
  {
   "cell_type": "code",
   "execution_count": 17,
   "metadata": {},
   "outputs": [],
   "source": [
    "# Import parties from the Data Base\n",
    "\n",
    "query_2 = '''\n",
    "SELECT * FROM parties\n",
    "LIMIT 10\n",
    "''' \n",
    "parties = pd.read_sql_query(query_2, con = engine) "
   ]
  },
  {
   "cell_type": "code",
   "execution_count": 18,
   "metadata": {},
   "outputs": [
    {
     "data": {
      "text/html": [
       "<div>\n",
       "<style scoped>\n",
       "    .dataframe tbody tr th:only-of-type {\n",
       "        vertical-align: middle;\n",
       "    }\n",
       "\n",
       "    .dataframe tbody tr th {\n",
       "        vertical-align: top;\n",
       "    }\n",
       "\n",
       "    .dataframe thead th {\n",
       "        text-align: right;\n",
       "    }\n",
       "</style>\n",
       "<table border=\"1\" class=\"dataframe\">\n",
       "  <thead>\n",
       "    <tr style=\"text-align: right;\">\n",
       "      <th></th>\n",
       "      <th>id</th>\n",
       "      <th>case_id</th>\n",
       "      <th>party_number</th>\n",
       "      <th>party_type</th>\n",
       "      <th>at_fault</th>\n",
       "      <th>insurance_premium</th>\n",
       "      <th>party_sobriety</th>\n",
       "      <th>party_drug_physical</th>\n",
       "      <th>cellphone_in_use</th>\n",
       "    </tr>\n",
       "  </thead>\n",
       "  <tbody>\n",
       "    <tr>\n",
       "      <th>0</th>\n",
       "      <td>22</td>\n",
       "      <td>3899454</td>\n",
       "      <td>1</td>\n",
       "      <td>road signs</td>\n",
       "      <td>1</td>\n",
       "      <td>29.0</td>\n",
       "      <td>had not been drinking</td>\n",
       "      <td>None</td>\n",
       "      <td>0.0</td>\n",
       "    </tr>\n",
       "    <tr>\n",
       "      <th>1</th>\n",
       "      <td>23</td>\n",
       "      <td>3899454</td>\n",
       "      <td>2</td>\n",
       "      <td>road signs</td>\n",
       "      <td>0</td>\n",
       "      <td>7.0</td>\n",
       "      <td>had not been drinking</td>\n",
       "      <td>None</td>\n",
       "      <td>0.0</td>\n",
       "    </tr>\n",
       "    <tr>\n",
       "      <th>2</th>\n",
       "      <td>29</td>\n",
       "      <td>3899462</td>\n",
       "      <td>2</td>\n",
       "      <td>car</td>\n",
       "      <td>0</td>\n",
       "      <td>21.0</td>\n",
       "      <td>had not been drinking</td>\n",
       "      <td>None</td>\n",
       "      <td>0.0</td>\n",
       "    </tr>\n",
       "    <tr>\n",
       "      <th>3</th>\n",
       "      <td>31</td>\n",
       "      <td>3899465</td>\n",
       "      <td>2</td>\n",
       "      <td>road signs</td>\n",
       "      <td>0</td>\n",
       "      <td>24.0</td>\n",
       "      <td>had not been drinking</td>\n",
       "      <td>None</td>\n",
       "      <td>0.0</td>\n",
       "    </tr>\n",
       "    <tr>\n",
       "      <th>4</th>\n",
       "      <td>41</td>\n",
       "      <td>3899478</td>\n",
       "      <td>2</td>\n",
       "      <td>road bumper</td>\n",
       "      <td>0</td>\n",
       "      <td>NaN</td>\n",
       "      <td>not applicable</td>\n",
       "      <td>not applicable</td>\n",
       "      <td>0.0</td>\n",
       "    </tr>\n",
       "  </tbody>\n",
       "</table>\n",
       "</div>"
      ],
      "text/plain": [
       "   id  case_id  party_number   party_type  at_fault  insurance_premium  \\\n",
       "0  22  3899454             1   road signs         1               29.0   \n",
       "1  23  3899454             2   road signs         0                7.0   \n",
       "2  29  3899462             2          car         0               21.0   \n",
       "3  31  3899465             2   road signs         0               24.0   \n",
       "4  41  3899478             2  road bumper         0                NaN   \n",
       "\n",
       "          party_sobriety party_drug_physical  cellphone_in_use  \n",
       "0  had not been drinking                None               0.0  \n",
       "1  had not been drinking                None               0.0  \n",
       "2  had not been drinking                None               0.0  \n",
       "3  had not been drinking                None               0.0  \n",
       "4         not applicable      not applicable               0.0  "
      ]
     },
     "execution_count": 18,
     "metadata": {},
     "output_type": "execute_result"
    }
   ],
   "source": [
    "parties.head()"
   ]
  },
  {
   "cell_type": "code",
   "execution_count": 19,
   "metadata": {},
   "outputs": [],
   "source": [
    "# Import vehicles from the Data Base\n",
    "\n",
    "query_3 = '''\n",
    "SELECT * FROM vehicles\n",
    "LIMIT 10\n",
    "''' \n",
    "vehicles = pd.read_sql_query(query_3, con = engine) "
   ]
  },
  {
   "cell_type": "code",
   "execution_count": 20,
   "metadata": {},
   "outputs": [
    {
     "data": {
      "text/html": [
       "<div>\n",
       "<style scoped>\n",
       "    .dataframe tbody tr th:only-of-type {\n",
       "        vertical-align: middle;\n",
       "    }\n",
       "\n",
       "    .dataframe tbody tr th {\n",
       "        vertical-align: top;\n",
       "    }\n",
       "\n",
       "    .dataframe thead th {\n",
       "        text-align: right;\n",
       "    }\n",
       "</style>\n",
       "<table border=\"1\" class=\"dataframe\">\n",
       "  <thead>\n",
       "    <tr style=\"text-align: right;\">\n",
       "      <th></th>\n",
       "      <th>id</th>\n",
       "      <th>case_id</th>\n",
       "      <th>party_number</th>\n",
       "      <th>vehicle_type</th>\n",
       "      <th>vehicle_transmission</th>\n",
       "      <th>vehicle_age</th>\n",
       "    </tr>\n",
       "  </thead>\n",
       "  <tbody>\n",
       "    <tr>\n",
       "      <th>0</th>\n",
       "      <td>1175713</td>\n",
       "      <td>5305032</td>\n",
       "      <td>2</td>\n",
       "      <td>sedan</td>\n",
       "      <td>manual</td>\n",
       "      <td>3</td>\n",
       "    </tr>\n",
       "    <tr>\n",
       "      <th>1</th>\n",
       "      <td>1</td>\n",
       "      <td>3858022</td>\n",
       "      <td>1</td>\n",
       "      <td>sedan</td>\n",
       "      <td>auto</td>\n",
       "      <td>3</td>\n",
       "    </tr>\n",
       "    <tr>\n",
       "      <th>2</th>\n",
       "      <td>1175712</td>\n",
       "      <td>5305030</td>\n",
       "      <td>1</td>\n",
       "      <td>sedan</td>\n",
       "      <td>auto</td>\n",
       "      <td>3</td>\n",
       "    </tr>\n",
       "    <tr>\n",
       "      <th>3</th>\n",
       "      <td>1175717</td>\n",
       "      <td>5305033</td>\n",
       "      <td>3</td>\n",
       "      <td>sedan</td>\n",
       "      <td>auto</td>\n",
       "      <td>5</td>\n",
       "    </tr>\n",
       "    <tr>\n",
       "      <th>4</th>\n",
       "      <td>1175722</td>\n",
       "      <td>5305034</td>\n",
       "      <td>2</td>\n",
       "      <td>sedan</td>\n",
       "      <td>auto</td>\n",
       "      <td>5</td>\n",
       "    </tr>\n",
       "  </tbody>\n",
       "</table>\n",
       "</div>"
      ],
      "text/plain": [
       "        id  case_id  party_number vehicle_type vehicle_transmission  \\\n",
       "0  1175713  5305032             2        sedan               manual   \n",
       "1        1  3858022             1        sedan                 auto   \n",
       "2  1175712  5305030             1        sedan                 auto   \n",
       "3  1175717  5305033             3        sedan                 auto   \n",
       "4  1175722  5305034             2        sedan                 auto   \n",
       "\n",
       "   vehicle_age  \n",
       "0            3  \n",
       "1            3  \n",
       "2            3  \n",
       "3            5  \n",
       "4            5  "
      ]
     },
     "execution_count": 20,
     "metadata": {},
     "output_type": "execute_result"
    }
   ],
   "source": [
    "vehicles.head()"
   ]
  },
  {
   "cell_type": "markdown",
   "metadata": {},
   "source": [
    "# 2. Первичное исследование"
   ]
  },
  {
   "cell_type": "markdown",
   "metadata": {},
   "source": [
    "## 2.1. Таблица collisions (информация о происшествиях)"
   ]
  },
  {
   "cell_type": "markdown",
   "metadata": {},
   "source": [
    "**Описание таблицы из ТЗ**"
   ]
  },
  {
   "cell_type": "markdown",
   "metadata": {},
   "source": [
    "Имеет уникальный case_id. \n",
    "\n",
    "Эта таблица описывает общую информацию о ДТП. Например, где оно произошло и когда."
   ]
  },
  {
   "cell_type": "markdown",
   "metadata": {},
   "source": [
    "| **Название поля**                               | **Код**                   | **Описание**                                                                                                 |\n",
    "|-------------------------------------------------|---------------------------|-------------------------------------------------------------------------------------------------------------|\n",
    "| Идентификационный Номер в базе данных           | CASE_ID                   | Уникальный номер для зарегистрированного происшествия в таблице происшествий.                               |\n",
    "| Дата происшествия                               | COLLISION_DATE             | Формат год/месяц/день                                                                                         |\n",
    "| Время происшествия                              | COLLISION_TIME             | Формат: 24-часовой                                                                                           |\n",
    "| Является ли место происшествие перекрёстком      | INTERSECTION               | Y — Intersection (перекрёсток) <br> N — Not Intersection (не перекрёсток) <br> -- — Not stated (Не указано)   |\n",
    "| Погода                                          | WEATHER_1                 | A — Clear (Ясно) <br> B — Cloudy (Облачно) <br> C — Raining (Дождь) <br> D — Snowing (Снегопад) <br> E — Fog (Туман) <br> F — Other (Другое) <br> G — Wind (Ветер) <br> - — Not Stated (Не указано) |\n",
    "| Серьёзность происшествия                        | COLLISION_DAMAGE           | 1 — FATAL ТС (Не подлежит восстановлению) <br> 2 — SEVERE DAMAGE (Серьёзный ремонт, большая часть под замену) <br> 3 — MIDDLE DAMAGE (Средний ремонт) <br> 4 — SMALL DAMAGE (Отдельный элемент кузова под замену) <br> 0 – SCRATCH (Царапина) |\n",
    "| Основной фактор аварии                          | PRIMARY_COLL_FACTOR        | A — Code Violation (Нарушение правил ПДД) <br> B — Other Improper Driving (Другое неправильное вождение) <br> C — Other Than Driver (Кроме водителя) <br> D — Unknown (Неизвестно) <br> E — Fell Asleep (Заснул) <br> - — Not Stated (Не указано) |\n",
    "| Состояние дороги                                | ROAD_SURFACE               | A — Dry (Сухая) <br> B — Wet (Мокрая) <br> C — Snowy or Icy (Заснеженная или обледенелая) <br> D — Slippery (Скользкая) <br> - — Not Stated (Не указано) |\n",
    "| Освещение                                      | LIGHTING                   | A — Daylight (Дневной свет) <br> B — Dusk-Dawn (Сумерки-Рассвет) <br> C — Dark-Street Lights (Темно-Уличные фонари) <br> D — Dark-No Street Lights (Темно-Нет уличных фонарей) <br> E — Dark-Street Lights Not Functioning (Темно-Уличные фонари не работают) <br> - — Not Stated (Не указано) |\n",
    "| Номер географических районов, где произошло ДТП  | COUNTY_CITY_LOCATION       | Число                                                                                                       |\n",
    "| Названия географических районов, где произошло ДТП | COUNTY_LOCATION            | Список разных названий, категориальный тип данных                                                             |\n",
    "| Направление движения                           | DIRECTION                  | N — North (Север) <br> E — East (Восток) <br> S — South (Юг) <br> W — West (Запад) <br> - or blank — Not State (Не указано) |\n",
    "| Расстояние от главной дороги (метры)            | DISTANCE                   | Число                                                                                                       |\n",
    "| Тип дороги                                     | LOCATION_TYPE              | H — Highway (Шоссе) <br> I — Intersection (Перекрёсток) <br> R — Ramp (or Collector) (Рампа) <br> - or blank — Not State Highway (Не указано) |\n",
    "| Количество участников                          | PARTY_COUNT                | Число                                                                                                       |\n",
    "| Категория нарушения                            | PCF_VIOLATION_CATEGORY     | 01 — Driving or Bicycling Under the Influence of Alcohol or Drug (Вождение или езда на велосипеде в состоянии алкогольного или наркотического опьянения) <br> 02 — Impeding Traffic (Препятствие движению транспорта) <br> 03 — Unsafe Speed (Превышение скорости) <br> 04 — Following Too Closely (Опасное сближение) <br> 05 — Wrong Side of Road (Неправильная сторона дороги) <br> 06 — Improper Passing (Неправильное движение) <br> 07 — Unsafe Lane Change (Небезопасная смена полосы движения) <br> 08 — Improper Turning (Неправильный поворот) <br> 09 — Automobile Right of Way (Автомобильное право проезда) <br> 10 — Pedestrian Right of Way (Пешеходное право проезда) <br> 11 — Pedestrian Violation (Нарушение пешеходами) <br> 12 — Traffic Signals and Signs (Дорожные сигналы и знаки) <br> 13 — Hazardous Parking (Неправильная парковка) <br> 14 — Lights (Освещение) <br> 15 — Brakes (Тормоза) <br> 16 — Other Equipment (Другое оборудование) <br> 17 — Other Hazardous Violation (Другие нарушения) <br> 18 — Other Than Driver (or Pedestrian) (Кроме водителя или пешехода) <br> 19 — Speeding (Скорость) <br> 20 — Pedestrian dui (Нарушение пешехода) <br> 21 — Unsafe Starting or Backing (Опасный старт) <br> 22 — Other Improper Driving (Другое неправильное вождение) <br> 23 — Pedestrian or “Other” Under the Influence of Alcohol or Drug (Пешеход или «Другой» в состоянии алкогольного или наркотического опьянения) <br> 24 — Fell Asleep (Заснул) <br> 00 — Unknown (Неизвестно) <br> - — Not Stated (Не указано) |\n",
    "| Тип аварии                                     | TYPE_OF_COLLISION          | A — Head-On (Лоб в лоб) <br> B — Sideswipe (Сторона) <br> C — Rear End (Столкновение задней частью) <br> D — Broadside (Боковой удар) <br> E — Hit Object (Удар объекта) <br> F — Overturned (Опрокинутый) <br> G — Vehicle (транспортное средство/ Пешеход) <br> H — Other (Другое) <br> - — Not Stated (Не указано) |\n",
    "| Дополнительные участники ДТП                    | MOTOR_VEHICLE_INVOLVED_WITH | Other motor vehicle (Другой автомобиль) <br> Fixed object (Неподвижный объект) <br> Parked motor vehicle (Припаркованный автомобиль) <br> Pedestrian (Пешеход) <br> Bicycle (Велосипедист) <br> Non-collision (Не столкновение) <br> Other object (Другой объект) <br> Motor vehicle on other roadway (Автомобиль на другой проезжей) <br> Animal (Животное) <br> Train (Поезд) |\n",
    "| Дорожное состояние                             | ROAD_CONDITION_1           | A — Holes, Deep Ruts (Ямы, глубокая колея) <br> B — Loose Material on Roadway (Сыпучий материал на проезжей части) <br> C — Obstruction on Roadway (Препятствие на проезжей части) <br> D — Construction or Repair Zone (Зона строительства или ремонта) <br> E — Reduced Roadway Width (Уменьшенная ширина проезжей части) <br> F — Flooded (Затоплено) <br> G — Other (Другое) <br> H — No Unusual Condition (Нет ничего необычного) <br> - — Not Stated (Не указано) |\n",
    "| Устройство управления                          | CONTROL_CONDITION_1        | A — Functioning (Функционирует) <br> B — Not Functioning (Не функционирует) <br> C — Obscured (Затемнённый) <br> D — None (Нет) <br> - — Not Stated (Не указано) |\n"
   ]
  },
  {
   "cell_type": "code",
   "execution_count": 21,
   "metadata": {},
   "outputs": [
    {
     "name": "stdout",
     "output_type": "stream",
     "text": [
      "________________Head________________\n"
     ]
    },
    {
     "data": {
      "text/html": [
       "<div>\n",
       "<style scoped>\n",
       "    .dataframe tbody tr th:only-of-type {\n",
       "        vertical-align: middle;\n",
       "    }\n",
       "\n",
       "    .dataframe tbody tr th {\n",
       "        vertical-align: top;\n",
       "    }\n",
       "\n",
       "    .dataframe thead th {\n",
       "        text-align: right;\n",
       "    }\n",
       "</style>\n",
       "<table border=\"1\" class=\"dataframe\">\n",
       "  <thead>\n",
       "    <tr style=\"text-align: right;\">\n",
       "      <th></th>\n",
       "      <th>case_id</th>\n",
       "      <th>county_city_location</th>\n",
       "      <th>county_location</th>\n",
       "      <th>distance</th>\n",
       "      <th>direction</th>\n",
       "      <th>intersection</th>\n",
       "      <th>weather_1</th>\n",
       "      <th>location_type</th>\n",
       "      <th>collision_damage</th>\n",
       "      <th>party_count</th>\n",
       "      <th>primary_collision_factor</th>\n",
       "      <th>pcf_violation_category</th>\n",
       "      <th>type_of_collision</th>\n",
       "      <th>motor_vehicle_involved_with</th>\n",
       "      <th>road_surface</th>\n",
       "      <th>road_condition_1</th>\n",
       "      <th>lighting</th>\n",
       "      <th>control_device</th>\n",
       "      <th>collision_date</th>\n",
       "      <th>collision_time</th>\n",
       "    </tr>\n",
       "  </thead>\n",
       "  <tbody>\n",
       "    <tr>\n",
       "      <th>0</th>\n",
       "      <td>4083072</td>\n",
       "      <td>1942</td>\n",
       "      <td>los angeles</td>\n",
       "      <td>528.0</td>\n",
       "      <td>north</td>\n",
       "      <td>0</td>\n",
       "      <td>cloudy</td>\n",
       "      <td>highway</td>\n",
       "      <td>small damage</td>\n",
       "      <td>2</td>\n",
       "      <td>vehicle code violation</td>\n",
       "      <td>unsafe lane change</td>\n",
       "      <td>sideswipe</td>\n",
       "      <td>other motor vehicle</td>\n",
       "      <td>wet</td>\n",
       "      <td>normal</td>\n",
       "      <td>daylight</td>\n",
       "      <td>none</td>\n",
       "      <td>2009-01-22</td>\n",
       "      <td>07:25:00</td>\n",
       "    </tr>\n",
       "    <tr>\n",
       "      <th>1</th>\n",
       "      <td>4083075</td>\n",
       "      <td>4313</td>\n",
       "      <td>santa clara</td>\n",
       "      <td>0.0</td>\n",
       "      <td>None</td>\n",
       "      <td>1</td>\n",
       "      <td>clear</td>\n",
       "      <td>None</td>\n",
       "      <td>small damage</td>\n",
       "      <td>1</td>\n",
       "      <td>vehicle code violation</td>\n",
       "      <td>improper passing</td>\n",
       "      <td>hit object</td>\n",
       "      <td>fixed object</td>\n",
       "      <td>dry</td>\n",
       "      <td>normal</td>\n",
       "      <td>dark with street lights</td>\n",
       "      <td>functioning</td>\n",
       "      <td>2009-01-03</td>\n",
       "      <td>02:26:00</td>\n",
       "    </tr>\n",
       "    <tr>\n",
       "      <th>2</th>\n",
       "      <td>4083073</td>\n",
       "      <td>0109</td>\n",
       "      <td>alameda</td>\n",
       "      <td>0.0</td>\n",
       "      <td>None</td>\n",
       "      <td>1</td>\n",
       "      <td>clear</td>\n",
       "      <td>None</td>\n",
       "      <td>scratch</td>\n",
       "      <td>2</td>\n",
       "      <td>vehicle code violation</td>\n",
       "      <td>improper turning</td>\n",
       "      <td>broadside</td>\n",
       "      <td>other motor vehicle</td>\n",
       "      <td>dry</td>\n",
       "      <td>normal</td>\n",
       "      <td>dark with street lights</td>\n",
       "      <td>functioning</td>\n",
       "      <td>2009-01-11</td>\n",
       "      <td>03:32:00</td>\n",
       "    </tr>\n",
       "    <tr>\n",
       "      <th>3</th>\n",
       "      <td>4083077</td>\n",
       "      <td>0109</td>\n",
       "      <td>alameda</td>\n",
       "      <td>0.0</td>\n",
       "      <td>None</td>\n",
       "      <td>1</td>\n",
       "      <td>clear</td>\n",
       "      <td>None</td>\n",
       "      <td>scratch</td>\n",
       "      <td>2</td>\n",
       "      <td>vehicle code violation</td>\n",
       "      <td>automobile right of way</td>\n",
       "      <td>broadside</td>\n",
       "      <td>other motor vehicle</td>\n",
       "      <td>dry</td>\n",
       "      <td>normal</td>\n",
       "      <td>daylight</td>\n",
       "      <td>functioning</td>\n",
       "      <td>2009-01-11</td>\n",
       "      <td>10:35:00</td>\n",
       "    </tr>\n",
       "    <tr>\n",
       "      <th>4</th>\n",
       "      <td>4083087</td>\n",
       "      <td>4313</td>\n",
       "      <td>santa clara</td>\n",
       "      <td>0.0</td>\n",
       "      <td>None</td>\n",
       "      <td>1</td>\n",
       "      <td>clear</td>\n",
       "      <td>None</td>\n",
       "      <td>scratch</td>\n",
       "      <td>2</td>\n",
       "      <td>vehicle code violation</td>\n",
       "      <td>speeding</td>\n",
       "      <td>rear end</td>\n",
       "      <td>other motor vehicle</td>\n",
       "      <td>dry</td>\n",
       "      <td>None</td>\n",
       "      <td>dark with street lights</td>\n",
       "      <td>functioning</td>\n",
       "      <td>2009-01-02</td>\n",
       "      <td>22:43:00</td>\n",
       "    </tr>\n",
       "  </tbody>\n",
       "</table>\n",
       "</div>"
      ],
      "text/plain": [
       "   case_id county_city_location county_location  distance direction  \\\n",
       "0  4083072                 1942     los angeles     528.0     north   \n",
       "1  4083075                 4313     santa clara       0.0      None   \n",
       "2  4083073                 0109         alameda       0.0      None   \n",
       "3  4083077                 0109         alameda       0.0      None   \n",
       "4  4083087                 4313     santa clara       0.0      None   \n",
       "\n",
       "   intersection weather_1 location_type collision_damage  party_count  \\\n",
       "0             0    cloudy       highway     small damage            2   \n",
       "1             1     clear          None     small damage            1   \n",
       "2             1     clear          None          scratch            2   \n",
       "3             1     clear          None          scratch            2   \n",
       "4             1     clear          None          scratch            2   \n",
       "\n",
       "  primary_collision_factor   pcf_violation_category type_of_collision  \\\n",
       "0   vehicle code violation       unsafe lane change         sideswipe   \n",
       "1   vehicle code violation         improper passing        hit object   \n",
       "2   vehicle code violation         improper turning         broadside   \n",
       "3   vehicle code violation  automobile right of way         broadside   \n",
       "4   vehicle code violation                 speeding          rear end   \n",
       "\n",
       "  motor_vehicle_involved_with road_surface road_condition_1  \\\n",
       "0         other motor vehicle          wet           normal   \n",
       "1                fixed object          dry           normal   \n",
       "2         other motor vehicle          dry           normal   \n",
       "3         other motor vehicle          dry           normal   \n",
       "4         other motor vehicle          dry             None   \n",
       "\n",
       "                  lighting control_device collision_date collision_time  \n",
       "0                 daylight           none     2009-01-22       07:25:00  \n",
       "1  dark with street lights    functioning     2009-01-03       02:26:00  \n",
       "2  dark with street lights    functioning     2009-01-11       03:32:00  \n",
       "3                 daylight    functioning     2009-01-11       10:35:00  \n",
       "4  dark with street lights    functioning     2009-01-02       22:43:00  "
      ]
     },
     "metadata": {},
     "output_type": "display_data"
    },
    {
     "name": "stdout",
     "output_type": "stream",
     "text": [
      "________________Data Types Info________________\n",
      "<class 'pandas.core.frame.DataFrame'>\n",
      "RangeIndex: 10 entries, 0 to 9\n",
      "Data columns (total 20 columns):\n",
      " #   Column                       Non-Null Count  Dtype  \n",
      "---  ------                       --------------  -----  \n",
      " 0   case_id                      10 non-null     object \n",
      " 1   county_city_location         10 non-null     object \n",
      " 2   county_location              10 non-null     object \n",
      " 3   distance                     10 non-null     float64\n",
      " 4   direction                    4 non-null      object \n",
      " 5   intersection                 10 non-null     int64  \n",
      " 6   weather_1                    10 non-null     object \n",
      " 7   location_type                5 non-null      object \n",
      " 8   collision_damage             10 non-null     object \n",
      " 9   party_count                  10 non-null     int64  \n",
      " 10  primary_collision_factor     10 non-null     object \n",
      " 11  pcf_violation_category       9 non-null      object \n",
      " 12  type_of_collision            10 non-null     object \n",
      " 13  motor_vehicle_involved_with  10 non-null     object \n",
      " 14  road_surface                 10 non-null     object \n",
      " 15  road_condition_1             9 non-null      object \n",
      " 16  lighting                     10 non-null     object \n",
      " 17  control_device               10 non-null     object \n",
      " 18  collision_date               10 non-null     object \n",
      " 19  collision_time               10 non-null     object \n",
      "dtypes: float64(1), int64(2), object(17)\n",
      "memory usage: 1.7+ KB\n"
     ]
    },
    {
     "data": {
      "text/plain": [
       "None"
      ]
     },
     "metadata": {},
     "output_type": "display_data"
    },
    {
     "name": "stdout",
     "output_type": "stream",
     "text": [
      "________________Shape________________\n"
     ]
    },
    {
     "data": {
      "text/plain": [
       "(10, 20)"
      ]
     },
     "metadata": {},
     "output_type": "display_data"
    },
    {
     "name": "stdout",
     "output_type": "stream",
     "text": [
      "________________Duplicates________________\n"
     ]
    },
    {
     "data": {
      "text/plain": [
       "0"
      ]
     },
     "metadata": {},
     "output_type": "display_data"
    },
    {
     "name": "stdout",
     "output_type": "stream",
     "text": [
      "________________Proportion of Missing Data________________\n"
     ]
    },
    {
     "data": {
      "text/plain": [
       "case_id                        0.0\n",
       "county_city_location           0.0\n",
       "county_location                0.0\n",
       "distance                       0.0\n",
       "direction                      0.6\n",
       "intersection                   0.0\n",
       "weather_1                      0.0\n",
       "location_type                  0.5\n",
       "collision_damage               0.0\n",
       "party_count                    0.0\n",
       "primary_collision_factor       0.0\n",
       "pcf_violation_category         0.1\n",
       "type_of_collision              0.0\n",
       "motor_vehicle_involved_with    0.0\n",
       "road_surface                   0.0\n",
       "road_condition_1               0.1\n",
       "lighting                       0.0\n",
       "control_device                 0.0\n",
       "collision_date                 0.0\n",
       "collision_time                 0.0\n",
       "dtype: float64"
      ]
     },
     "metadata": {},
     "output_type": "display_data"
    }
   ],
   "source": [
    "display_main_info(collisions)"
   ]
  },
  {
   "cell_type": "markdown",
   "metadata": {},
   "source": [
    "## 2.2. Таблица parties (описание участников происшествия)"
   ]
  },
  {
   "cell_type": "markdown",
   "metadata": {},
   "source": [
    "**Описание таблицы из ТЗ**"
   ]
  },
  {
   "cell_type": "markdown",
   "metadata": {},
   "source": [
    "Имеет неуникальный case_id, который сопоставляется с соответствующим ДТП в таблице collisions. \n",
    "\n",
    "Каждая строка здесь описывает одну из сторон, участвующих в ДТП. \n",
    "\n",
    "Если столкнулись две машины, в этой таблице должно быть две строки с совпадением case_id. \n",
    "\n",
    "Если нужен уникальный идентификатор, это case_id and party_number."
   ]
  },
  {
   "cell_type": "markdown",
   "metadata": {},
   "source": [
    "| **Название поля**                               | **Код**                   | **Описание**                                                                                                 |\n",
    "|-------------------------------------------------|---------------------------|-------------------------------------------------------------------------------------------------------------|\n",
    "| Идентификационный номер в базе данных           | CASE_ID                   | Уникальный номер для зарегистрированного происшествия в таблице происшествий.                               |\n",
    "| Номер участника происшествия                    | PARTY_NUMBER              | От 1 до N — по числу участников происшествия.                                                               |\n",
    "| Тип участника происшествия                      | PARTY_TYPE                | 1 — Car (Авто) <br> 2 — Road bumper (Отбойник) <br> 3 — Building (Строение) <br> 4 — Road signs (Дорожные знаки) <br> 5 — Other (Другое) <br> 6 — Operator (Оператор) <br> - — Not Stated (Не указано) |\n",
    "| Виновность участника                            | AT_FAULT                  | 0/1                                                                                                         |\n",
    "| Сумма страховки (тыс. $)                        | INSURANCE_PREMIUM         | Число                                                                                                       |\n",
    "| Состояние участника: физическое или с учётом принятых лекарств | PARTY_DRUG_PHYSICAL        | E — Under Drug Influence (Под воздействием лекарств) <br> F — Impairment — Physical (Ухудшение состояния) <br> G — Impairment Unknown (Неизвестно) <br> H — Not Applicable (Не оценивался) <br> I — Sleepy/Fatigued (Сонный/Усталый) <br> - — Not Stated (Не указано) |\n",
    "| Трезвость участника                              | PARTY_SOBRIETY            | A — Had Not Been Drinking (Не пил) <br> B — Had Been Drinking, Under Influence (Был пьян, под влиянием) <br> C — Had Been Drinking, Not Under Influence (Был пьян, не под влиянием) <br> D — Had Been Drinking, Impairment Unknown (Был пьян, ухудшение неизвестно) <br> G — Impairment Unknown (Неизвестно ухудшение) <br> H — Not Applicable (Не оценивался) <br> - — Not Stated (Не указано) |\n",
    "| Наличие телефона в автомобиле (возможности разговаривать по громкой связи) | CELLPHONE_IN_USE           | 0/1                                                                                                         |\n"
   ]
  },
  {
   "cell_type": "code",
   "execution_count": 22,
   "metadata": {},
   "outputs": [
    {
     "name": "stdout",
     "output_type": "stream",
     "text": [
      "________________Head________________\n"
     ]
    },
    {
     "data": {
      "text/html": [
       "<div>\n",
       "<style scoped>\n",
       "    .dataframe tbody tr th:only-of-type {\n",
       "        vertical-align: middle;\n",
       "    }\n",
       "\n",
       "    .dataframe tbody tr th {\n",
       "        vertical-align: top;\n",
       "    }\n",
       "\n",
       "    .dataframe thead th {\n",
       "        text-align: right;\n",
       "    }\n",
       "</style>\n",
       "<table border=\"1\" class=\"dataframe\">\n",
       "  <thead>\n",
       "    <tr style=\"text-align: right;\">\n",
       "      <th></th>\n",
       "      <th>id</th>\n",
       "      <th>case_id</th>\n",
       "      <th>party_number</th>\n",
       "      <th>party_type</th>\n",
       "      <th>at_fault</th>\n",
       "      <th>insurance_premium</th>\n",
       "      <th>party_sobriety</th>\n",
       "      <th>party_drug_physical</th>\n",
       "      <th>cellphone_in_use</th>\n",
       "    </tr>\n",
       "  </thead>\n",
       "  <tbody>\n",
       "    <tr>\n",
       "      <th>0</th>\n",
       "      <td>22</td>\n",
       "      <td>3899454</td>\n",
       "      <td>1</td>\n",
       "      <td>road signs</td>\n",
       "      <td>1</td>\n",
       "      <td>29.0</td>\n",
       "      <td>had not been drinking</td>\n",
       "      <td>None</td>\n",
       "      <td>0.0</td>\n",
       "    </tr>\n",
       "    <tr>\n",
       "      <th>1</th>\n",
       "      <td>23</td>\n",
       "      <td>3899454</td>\n",
       "      <td>2</td>\n",
       "      <td>road signs</td>\n",
       "      <td>0</td>\n",
       "      <td>7.0</td>\n",
       "      <td>had not been drinking</td>\n",
       "      <td>None</td>\n",
       "      <td>0.0</td>\n",
       "    </tr>\n",
       "    <tr>\n",
       "      <th>2</th>\n",
       "      <td>29</td>\n",
       "      <td>3899462</td>\n",
       "      <td>2</td>\n",
       "      <td>car</td>\n",
       "      <td>0</td>\n",
       "      <td>21.0</td>\n",
       "      <td>had not been drinking</td>\n",
       "      <td>None</td>\n",
       "      <td>0.0</td>\n",
       "    </tr>\n",
       "    <tr>\n",
       "      <th>3</th>\n",
       "      <td>31</td>\n",
       "      <td>3899465</td>\n",
       "      <td>2</td>\n",
       "      <td>road signs</td>\n",
       "      <td>0</td>\n",
       "      <td>24.0</td>\n",
       "      <td>had not been drinking</td>\n",
       "      <td>None</td>\n",
       "      <td>0.0</td>\n",
       "    </tr>\n",
       "    <tr>\n",
       "      <th>4</th>\n",
       "      <td>41</td>\n",
       "      <td>3899478</td>\n",
       "      <td>2</td>\n",
       "      <td>road bumper</td>\n",
       "      <td>0</td>\n",
       "      <td>NaN</td>\n",
       "      <td>not applicable</td>\n",
       "      <td>not applicable</td>\n",
       "      <td>0.0</td>\n",
       "    </tr>\n",
       "  </tbody>\n",
       "</table>\n",
       "</div>"
      ],
      "text/plain": [
       "   id  case_id  party_number   party_type  at_fault  insurance_premium  \\\n",
       "0  22  3899454             1   road signs         1               29.0   \n",
       "1  23  3899454             2   road signs         0                7.0   \n",
       "2  29  3899462             2          car         0               21.0   \n",
       "3  31  3899465             2   road signs         0               24.0   \n",
       "4  41  3899478             2  road bumper         0                NaN   \n",
       "\n",
       "          party_sobriety party_drug_physical  cellphone_in_use  \n",
       "0  had not been drinking                None               0.0  \n",
       "1  had not been drinking                None               0.0  \n",
       "2  had not been drinking                None               0.0  \n",
       "3  had not been drinking                None               0.0  \n",
       "4         not applicable      not applicable               0.0  "
      ]
     },
     "metadata": {},
     "output_type": "display_data"
    },
    {
     "name": "stdout",
     "output_type": "stream",
     "text": [
      "________________Data Types Info________________\n",
      "<class 'pandas.core.frame.DataFrame'>\n",
      "RangeIndex: 10 entries, 0 to 9\n",
      "Data columns (total 9 columns):\n",
      " #   Column               Non-Null Count  Dtype  \n",
      "---  ------               --------------  -----  \n",
      " 0   id                   10 non-null     int64  \n",
      " 1   case_id              10 non-null     object \n",
      " 2   party_number         10 non-null     int64  \n",
      " 3   party_type           10 non-null     object \n",
      " 4   at_fault             10 non-null     int64  \n",
      " 5   insurance_premium    4 non-null      float64\n",
      " 6   party_sobriety       10 non-null     object \n",
      " 7   party_drug_physical  4 non-null      object \n",
      " 8   cellphone_in_use     9 non-null      float64\n",
      "dtypes: float64(2), int64(3), object(4)\n",
      "memory usage: 852.0+ bytes\n"
     ]
    },
    {
     "data": {
      "text/plain": [
       "None"
      ]
     },
     "metadata": {},
     "output_type": "display_data"
    },
    {
     "name": "stdout",
     "output_type": "stream",
     "text": [
      "________________Shape________________\n"
     ]
    },
    {
     "data": {
      "text/plain": [
       "(10, 9)"
      ]
     },
     "metadata": {},
     "output_type": "display_data"
    },
    {
     "name": "stdout",
     "output_type": "stream",
     "text": [
      "________________Duplicates________________\n"
     ]
    },
    {
     "data": {
      "text/plain": [
       "0"
      ]
     },
     "metadata": {},
     "output_type": "display_data"
    },
    {
     "name": "stdout",
     "output_type": "stream",
     "text": [
      "________________Proportion of Missing Data________________\n"
     ]
    },
    {
     "data": {
      "text/plain": [
       "id                     0.0\n",
       "case_id                0.0\n",
       "party_number           0.0\n",
       "party_type             0.0\n",
       "at_fault               0.0\n",
       "insurance_premium      0.6\n",
       "party_sobriety         0.0\n",
       "party_drug_physical    0.6\n",
       "cellphone_in_use       0.1\n",
       "dtype: float64"
      ]
     },
     "metadata": {},
     "output_type": "display_data"
    }
   ],
   "source": [
    "display_main_info(parties)"
   ]
  },
  {
   "cell_type": "markdown",
   "metadata": {},
   "source": [
    "## 2.3. Таблица vehicles (Описание автомобиля)"
   ]
  },
  {
   "cell_type": "markdown",
   "metadata": {},
   "source": [
    "**Описание таблицы из ТЗ**"
   ]
  },
  {
   "cell_type": "markdown",
   "metadata": {},
   "source": [
    "Информация о пострадавших машинах.\n",
    "\n",
    "Имеет неуникальные case_id и неуникальные party_number, которые сопоставляются с таблицей collisions и таблицей parties. \n",
    "\n",
    "Если нужен уникальный идентификатор, это case_id and party_number."
   ]
  },
  {
   "cell_type": "markdown",
   "metadata": {},
   "source": [
    "| **Описание**                                | **Обозначение в таблице** | **Подробнее**                                                                                              |\n",
    "|---------------------------------------------|---------------------------|------------------------------------------------------------------------------------------------------------|\n",
    "| Индекс текущей таблицы                      | ID                        | Номер в таблице                                                                                           |\n",
    "| Идентификационный номер в базе данных       | CASE_ID                   | Уникальный номер для зарегистрированного происшествия в таблице происшествий.                             |\n",
    "| Тип кузова                                  | VEHICLE_TYPE              | MINIVAN <br> COUPE <br> SEDAN <br> HATCHBACK <br> OTHER                                                   |\n",
    "| Тип КПП                                     | VEHICLE_TRANSMISSION      | auto — Автоматическая <br> manual — Ручная <br> - — Not Stated (Не указано)                               |\n",
    "| Возраст автомобиля (в годах)                | VEHICLE_AGE               | Число                                                                                                     |\n"
   ]
  },
  {
   "cell_type": "code",
   "execution_count": 23,
   "metadata": {},
   "outputs": [
    {
     "name": "stdout",
     "output_type": "stream",
     "text": [
      "________________Head________________\n"
     ]
    },
    {
     "data": {
      "text/html": [
       "<div>\n",
       "<style scoped>\n",
       "    .dataframe tbody tr th:only-of-type {\n",
       "        vertical-align: middle;\n",
       "    }\n",
       "\n",
       "    .dataframe tbody tr th {\n",
       "        vertical-align: top;\n",
       "    }\n",
       "\n",
       "    .dataframe thead th {\n",
       "        text-align: right;\n",
       "    }\n",
       "</style>\n",
       "<table border=\"1\" class=\"dataframe\">\n",
       "  <thead>\n",
       "    <tr style=\"text-align: right;\">\n",
       "      <th></th>\n",
       "      <th>id</th>\n",
       "      <th>case_id</th>\n",
       "      <th>party_number</th>\n",
       "      <th>vehicle_type</th>\n",
       "      <th>vehicle_transmission</th>\n",
       "      <th>vehicle_age</th>\n",
       "    </tr>\n",
       "  </thead>\n",
       "  <tbody>\n",
       "    <tr>\n",
       "      <th>0</th>\n",
       "      <td>1175713</td>\n",
       "      <td>5305032</td>\n",
       "      <td>2</td>\n",
       "      <td>sedan</td>\n",
       "      <td>manual</td>\n",
       "      <td>3</td>\n",
       "    </tr>\n",
       "    <tr>\n",
       "      <th>1</th>\n",
       "      <td>1</td>\n",
       "      <td>3858022</td>\n",
       "      <td>1</td>\n",
       "      <td>sedan</td>\n",
       "      <td>auto</td>\n",
       "      <td>3</td>\n",
       "    </tr>\n",
       "    <tr>\n",
       "      <th>2</th>\n",
       "      <td>1175712</td>\n",
       "      <td>5305030</td>\n",
       "      <td>1</td>\n",
       "      <td>sedan</td>\n",
       "      <td>auto</td>\n",
       "      <td>3</td>\n",
       "    </tr>\n",
       "    <tr>\n",
       "      <th>3</th>\n",
       "      <td>1175717</td>\n",
       "      <td>5305033</td>\n",
       "      <td>3</td>\n",
       "      <td>sedan</td>\n",
       "      <td>auto</td>\n",
       "      <td>5</td>\n",
       "    </tr>\n",
       "    <tr>\n",
       "      <th>4</th>\n",
       "      <td>1175722</td>\n",
       "      <td>5305034</td>\n",
       "      <td>2</td>\n",
       "      <td>sedan</td>\n",
       "      <td>auto</td>\n",
       "      <td>5</td>\n",
       "    </tr>\n",
       "  </tbody>\n",
       "</table>\n",
       "</div>"
      ],
      "text/plain": [
       "        id  case_id  party_number vehicle_type vehicle_transmission  \\\n",
       "0  1175713  5305032             2        sedan               manual   \n",
       "1        1  3858022             1        sedan                 auto   \n",
       "2  1175712  5305030             1        sedan                 auto   \n",
       "3  1175717  5305033             3        sedan                 auto   \n",
       "4  1175722  5305034             2        sedan                 auto   \n",
       "\n",
       "   vehicle_age  \n",
       "0            3  \n",
       "1            3  \n",
       "2            3  \n",
       "3            5  \n",
       "4            5  "
      ]
     },
     "metadata": {},
     "output_type": "display_data"
    },
    {
     "name": "stdout",
     "output_type": "stream",
     "text": [
      "________________Data Types Info________________\n",
      "<class 'pandas.core.frame.DataFrame'>\n",
      "RangeIndex: 10 entries, 0 to 9\n",
      "Data columns (total 6 columns):\n",
      " #   Column                Non-Null Count  Dtype \n",
      "---  ------                --------------  ----- \n",
      " 0   id                    10 non-null     int64 \n",
      " 1   case_id               10 non-null     object\n",
      " 2   party_number          10 non-null     int64 \n",
      " 3   vehicle_type          10 non-null     object\n",
      " 4   vehicle_transmission  10 non-null     object\n",
      " 5   vehicle_age           10 non-null     int64 \n",
      "dtypes: int64(3), object(3)\n",
      "memory usage: 612.0+ bytes\n"
     ]
    },
    {
     "data": {
      "text/plain": [
       "None"
      ]
     },
     "metadata": {},
     "output_type": "display_data"
    },
    {
     "name": "stdout",
     "output_type": "stream",
     "text": [
      "________________Shape________________\n"
     ]
    },
    {
     "data": {
      "text/plain": [
       "(10, 6)"
      ]
     },
     "metadata": {},
     "output_type": "display_data"
    },
    {
     "name": "stdout",
     "output_type": "stream",
     "text": [
      "________________Duplicates________________\n"
     ]
    },
    {
     "data": {
      "text/plain": [
       "0"
      ]
     },
     "metadata": {},
     "output_type": "display_data"
    },
    {
     "name": "stdout",
     "output_type": "stream",
     "text": [
      "________________Proportion of Missing Data________________\n"
     ]
    },
    {
     "data": {
      "text/plain": [
       "id                      0.0\n",
       "case_id                 0.0\n",
       "party_number            0.0\n",
       "vehicle_type            0.0\n",
       "vehicle_transmission    0.0\n",
       "vehicle_age             0.0\n",
       "dtype: float64"
      ]
     },
     "metadata": {},
     "output_type": "display_data"
    }
   ],
   "source": [
    "display_main_info(vehicles)"
   ]
  },
  {
   "cell_type": "markdown",
   "metadata": {},
   "source": [
    "## **Выводы:**\n",
    "- Количество таблиц соответствует условию задачи.  \n",
    "- Однако, не везде таблицы в точности соответствуют описанию из ТЗ. Будет необходимо дополнительное исследование признаков при моделировании.\n",
    "- Все три таблицы имеют наборы данных, соответствующие описанию из ТЗ. \n",
    "- Имеется общий ключ для связи таблиц - `case_id`.  "
   ]
  },
  {
   "cell_type": "markdown",
   "metadata": {},
   "source": [
    "# 3. Статистический анализ факторов ДТП"
   ]
  },
  {
   "cell_type": "markdown",
   "metadata": {},
   "source": [
    "## 3.1. Месяцы, в которые происходит наибольшее количество аварий"
   ]
  },
  {
   "cell_type": "markdown",
   "metadata": {},
   "source": [
    "Анализ всего периода наблюдений (таблица `collisions`)"
   ]
  },
  {
   "cell_type": "code",
   "execution_count": 24,
   "metadata": {},
   "outputs": [],
   "source": [
    "query_4 = '''\n",
    "SELECT \n",
    "    EXTRACT(MONTH FROM COLLISION_DATE) AS month,\n",
    "    COUNT(*) AS total_collisions\n",
    "FROM \n",
    "    collisions\n",
    "GROUP BY \n",
    "    month\n",
    "ORDER BY \n",
    "    total_collisions DESC\n",
    "''' \n",
    "coll_month = pd.read_sql_query(query_4, con = engine) "
   ]
  },
  {
   "cell_type": "code",
   "execution_count": 25,
   "metadata": {},
   "outputs": [
    {
     "data": {
      "text/html": [
       "<div>\n",
       "<style scoped>\n",
       "    .dataframe tbody tr th:only-of-type {\n",
       "        vertical-align: middle;\n",
       "    }\n",
       "\n",
       "    .dataframe tbody tr th {\n",
       "        vertical-align: top;\n",
       "    }\n",
       "\n",
       "    .dataframe thead th {\n",
       "        text-align: right;\n",
       "    }\n",
       "</style>\n",
       "<table border=\"1\" class=\"dataframe\">\n",
       "  <thead>\n",
       "    <tr style=\"text-align: right;\">\n",
       "      <th></th>\n",
       "      <th>month</th>\n",
       "      <th>total_collisions</th>\n",
       "    </tr>\n",
       "  </thead>\n",
       "  <tbody>\n",
       "    <tr>\n",
       "      <th>0</th>\n",
       "      <td>3.0</td>\n",
       "      <td>139581</td>\n",
       "    </tr>\n",
       "    <tr>\n",
       "      <th>1</th>\n",
       "      <td>1.0</td>\n",
       "      <td>132044</td>\n",
       "    </tr>\n",
       "    <tr>\n",
       "      <th>2</th>\n",
       "      <td>5.0</td>\n",
       "      <td>130316</td>\n",
       "    </tr>\n",
       "    <tr>\n",
       "      <th>3</th>\n",
       "      <td>4.0</td>\n",
       "      <td>130180</td>\n",
       "    </tr>\n",
       "    <tr>\n",
       "      <th>4</th>\n",
       "      <td>2.0</td>\n",
       "      <td>128858</td>\n",
       "    </tr>\n",
       "    <tr>\n",
       "      <th>5</th>\n",
       "      <td>10.0</td>\n",
       "      <td>112237</td>\n",
       "    </tr>\n",
       "    <tr>\n",
       "      <th>6</th>\n",
       "      <td>12.0</td>\n",
       "      <td>107945</td>\n",
       "    </tr>\n",
       "    <tr>\n",
       "      <th>7</th>\n",
       "      <td>9.0</td>\n",
       "      <td>105159</td>\n",
       "    </tr>\n",
       "    <tr>\n",
       "      <th>8</th>\n",
       "      <td>11.0</td>\n",
       "      <td>104770</td>\n",
       "    </tr>\n",
       "    <tr>\n",
       "      <th>9</th>\n",
       "      <td>8.0</td>\n",
       "      <td>104089</td>\n",
       "    </tr>\n",
       "    <tr>\n",
       "      <th>10</th>\n",
       "      <td>6.0</td>\n",
       "      <td>102594</td>\n",
       "    </tr>\n",
       "    <tr>\n",
       "      <th>11</th>\n",
       "      <td>7.0</td>\n",
       "      <td>102227</td>\n",
       "    </tr>\n",
       "  </tbody>\n",
       "</table>\n",
       "</div>"
      ],
      "text/plain": [
       "    month  total_collisions\n",
       "0     3.0            139581\n",
       "1     1.0            132044\n",
       "2     5.0            130316\n",
       "3     4.0            130180\n",
       "4     2.0            128858\n",
       "5    10.0            112237\n",
       "6    12.0            107945\n",
       "7     9.0            105159\n",
       "8    11.0            104770\n",
       "9     8.0            104089\n",
       "10    6.0            102594\n",
       "11    7.0            102227"
      ]
     },
     "execution_count": 25,
     "metadata": {},
     "output_type": "execute_result"
    }
   ],
   "source": [
    "coll_month"
   ]
  },
  {
   "cell_type": "code",
   "execution_count": 26,
   "metadata": {},
   "outputs": [
    {
     "data": {
      "image/png": "[encoded data removed]",
      "text/plain": [
       "<Figure size 1000x600 with 1 Axes>"
      ]
     },
     "metadata": {},
     "output_type": "display_data"
    }
   ],
   "source": [
    "plt.figure(figsize=(10, 6))\n",
    "sns.barplot(x='month', y='total_collisions', hue='month', data=coll_month, palette='viridis', legend=False)\n",
    "\n",
    "plt.title('Количество аварий по месяцам', fontsize=16)\n",
    "plt.xlabel('Месяц', fontsize=12)\n",
    "plt.ylabel('Количество аварий', fontsize=12)\n",
    "plt.xticks(ticks=range(0, 12), labels=['Янв', 'Фев', 'Мар', 'Апр', 'Май', 'Июн', 'Июл', 'Авг', 'Сен', 'Окт', 'Ноя', 'Дек'])\n",
    "plt.grid(True, axis='y', linestyle='--', alpha=0.7)\n",
    "plt.show()"
   ]
  },
  {
   "cell_type": "markdown",
   "metadata": {},
   "source": [
    "**Выводы:**\n",
    "\n",
    "- **Сезонность аварийности:** Данные показывают четкую сезонную зависимость. Зимние и весенние месяцы характеризуются повышенной аварийностью, что может быть связано с неблагоприятными погодными условиями (снег, гололед, дождь). Летние месяцы, напротив, являются наиболее безопасными.\n",
    "\n",
    "- **Самый аварийный месяц:** Март лидирует по количеству аварий, что может быть связано с переходом от зимних условий к весенним (таяние снега, гололедица).\n",
    "\n",
    "- **Летний минимум:** Июль и июнь — месяцы с наименьшим количеством аварий, что подтверждает влияние благоприятных погодных условий на безопасность дорожного движения."
   ]
  },
  {
   "cell_type": "markdown",
   "metadata": {},
   "source": [
    "## 3.2 Перечень пналитических задач для анализа ДТП"
   ]
  },
  {
   "cell_type": "markdown",
   "metadata": {},
   "source": [
    "1. **Определить, какие типы кузова (`VEHICLE_TYPE`) автомобилей чаще всего участвуют в ДТП с фатальным исходом (`COLLISION_DAMAGE = 1`).**  \n",
    "   *(Связь таблиц `vehicles` и `collisions` по `CASE_ID`).*\n",
    "\n",
    "2. **Проанализировать, влияет ли возраст автомобиля (`VEHICLE_AGE`) на вероятность серьезных повреждений (`COLLISION_DAMAGE = 2 или 3`).**  \n",
    "   *(Связь таблиц `vehicles` и `collisions` по `CASE_ID`).*\n",
    "\n",
    "3. **Выявить, есть ли связь между физическим состоянием водителя (`PARTY_DRUG_PHYSICAL`) и виновностью (`AT_FAULT`).**  \n",
    "   *(Связь таблиц `parties` и `collisions` по `CASE_ID`).*\n",
    "\n",
    "4. **Определить, какие категории нарушений (`PCF_VIOLATION_CATEGORY`) наиболее часто встречаются среди водителей, попавших в ДТП при плохих погодных условиях (`WEATHER_1 != 'A'`).**  \n",
    "   *(Связь таблиц `collisions` и `parties` по `CASE_ID`).*\n",
    "\n",
    "5. **Анализ зависимости между типом передачи автомобиля (`VEHICLE_TRANSMISSION`) и частотой аварий по вине водителя (`AT_FAULT = 1`).**  \n",
    "   *(Связь таблиц `vehicles` и `parties` по `CASE_ID`).*\n",
    "\n",
    "6. **Определить, увеличивается ли риск ДТП при наличии неисправных элементов автомобиля (`PCF_VIOLATION_CATEGORY = 15 или 16`), и какие именно поломки встречаются чаще.**  \n",
    "   *(Связь таблиц `collisions` и `vehicles` по `CASE_ID`).*"
   ]
  },
  {
   "cell_type": "markdown",
   "metadata": {},
   "source": [
    "## 3.3 Решение для первых двух задач из перечня"
   ]
  },
  {
   "cell_type": "markdown",
   "metadata": {},
   "source": [
    "### 3.3.1. Задача 1. Взаимосвязь между типом кузова и ДТП с фатальным исходом."
   ]
  },
  {
   "cell_type": "markdown",
   "metadata": {},
   "source": [
    "**Цель:** Определить, какие типы кузова (`VEHICLE_TYPE`) чаще всего участвуют в ДТП с фатальным исходом (`COLLISION_DAMAGE` = 'fatal').\n",
    "\n",
    "**Шаги выполнения:**\n",
    "\n",
    "- Объединить таблицы `vehicles` и `collisions` по `CASE_ID`.\n",
    "- Отфильтровать случаи с фатальным исходом (`COLLISION_DAMAGE` = 'fatal').\n",
    "- Посчитать количество аварий для каждого типа кузова (`VEHICLE_TYPE`).\n",
    "- Построить график для наглядности."
   ]
  },
  {
   "cell_type": "code",
   "execution_count": 27,
   "metadata": {},
   "outputs": [],
   "source": [
    "query_5 = '''\n",
    "SELECT \n",
    "    v.VEHICLE_TYPE, \n",
    "    COUNT(*) AS fatal_accidents\n",
    "FROM \n",
    "    vehicles v\n",
    "JOIN \n",
    "    collisions c \n",
    "ON\n",
    "    v.CASE_ID = c.CASE_ID\n",
    "WHERE\n",
    "    c.COLLISION_DAMAGE = 'fatal'\n",
    "GROUP BY\n",
    "    v.VEHICLE_TYPE\n",
    "ORDER BY\n",
    "    fatal_accidents DESC\n",
    "'''"
   ]
  },
  {
   "cell_type": "code",
   "execution_count": 28,
   "metadata": {},
   "outputs": [],
   "source": [
    "vehicles_fatal = pd.read_sql_query(query_5, con = engine) "
   ]
  },
  {
   "cell_type": "code",
   "execution_count": 29,
   "metadata": {},
   "outputs": [
    {
     "data": {
      "text/html": [
       "<div>\n",
       "<style scoped>\n",
       "    .dataframe tbody tr th:only-of-type {\n",
       "        vertical-align: middle;\n",
       "    }\n",
       "\n",
       "    .dataframe tbody tr th {\n",
       "        vertical-align: top;\n",
       "    }\n",
       "\n",
       "    .dataframe thead th {\n",
       "        text-align: right;\n",
       "    }\n",
       "</style>\n",
       "<table border=\"1\" class=\"dataframe\">\n",
       "  <thead>\n",
       "    <tr style=\"text-align: right;\">\n",
       "      <th></th>\n",
       "      <th>vehicle_type</th>\n",
       "      <th>fatal_accidents</th>\n",
       "    </tr>\n",
       "  </thead>\n",
       "  <tbody>\n",
       "    <tr>\n",
       "      <th>0</th>\n",
       "      <td>coupe</td>\n",
       "      <td>8916</td>\n",
       "    </tr>\n",
       "    <tr>\n",
       "      <th>1</th>\n",
       "      <td>sedan</td>\n",
       "      <td>2892</td>\n",
       "    </tr>\n",
       "    <tr>\n",
       "      <th>2</th>\n",
       "      <td>hatchback</td>\n",
       "      <td>2786</td>\n",
       "    </tr>\n",
       "    <tr>\n",
       "      <th>3</th>\n",
       "      <td>minivan</td>\n",
       "      <td>527</td>\n",
       "    </tr>\n",
       "    <tr>\n",
       "      <th>4</th>\n",
       "      <td>other</td>\n",
       "      <td>22</td>\n",
       "    </tr>\n",
       "  </tbody>\n",
       "</table>\n",
       "</div>"
      ],
      "text/plain": [
       "  vehicle_type  fatal_accidents\n",
       "0        coupe             8916\n",
       "1        sedan             2892\n",
       "2    hatchback             2786\n",
       "3      minivan              527\n",
       "4        other               22"
      ]
     },
     "execution_count": 29,
     "metadata": {},
     "output_type": "execute_result"
    }
   ],
   "source": [
    "vehicles_fatal"
   ]
  },
  {
   "cell_type": "code",
   "execution_count": 30,
   "metadata": {},
   "outputs": [
    {
     "data": {
      "image/png": "[encoded data removed]",
      "text/plain": [
       "<Figure size 1000x600 with 1 Axes>"
      ]
     },
     "metadata": {},
     "output_type": "display_data"
    }
   ],
   "source": [
    "plt.figure(figsize=(10, 6))\n",
    "sns.barplot(x=\"vehicle_type\", y=\"fatal_accidents\", hue=\"vehicle_type\", data=vehicles_fatal, palette=\"Reds\", legend=False)\n",
    "\n",
    "plt.title(\"Типы кузова, чаще всего участвующие в фатальных ДТП\", fontsize=16)\n",
    "plt.xlabel(\"Тип кузова\", fontsize=12)\n",
    "plt.ylabel(\"Количество фатальных ДТП\", fontsize=12)\n",
    "plt.xticks(rotation=45)\n",
    "plt.grid(True, axis='y', linestyle='--', alpha=0.7)\n",
    "plt.show()"
   ]
  },
  {
   "cell_type": "markdown",
   "metadata": {},
   "source": [
    "**Выводы:**\n",
    "\n",
    "- **Наибольшее количество фатальных ДТП** зафиксировано среди автомобилей типа `coupe` (**8916 случаев**).  \n",
    "  Это значительно превышает показатели других типов кузова. Возможно, это связано с тем, что купе  \n",
    "  чаще используются для динамичной езды, могут иметь более мощные двигатели и привлекают водителей,  \n",
    "  склонных к агрессивному стилю вождения.\n",
    "\n",
    "- **Автомобили `sedan` (2892 случая) и `hatchback` (2786 случаев)** занимают второе и третье место  \n",
    "  по количеству смертельных аварий. Их показатели сопоставимы и, вероятно, отражают их широкое распространение на дорогах.\n",
    "\n",
    "- **Автомобили `minivan` (527 случаев)** реже попадают в фатальные аварии. Это может быть связано  \n",
    "  с более спокойным стилем вождения владельцев минивэнов, которые чаще используют их для семейных поездок.\n",
    "\n",
    "- **Категория `other` (22 случая)** имеет наименьшее количество смертельных ДТП. В эту группу  \n",
    "  могут входить редкие или специализированные транспортные средства, что объясняет столь низкое число аварий.\n"
   ]
  },
  {
   "cell_type": "markdown",
   "metadata": {},
   "source": [
    "### 3.3.2. Задача 2. Взаимосвязь между физическим состоянием водителя и виновностью в ДТП."
   ]
  },
  {
   "cell_type": "markdown",
   "metadata": {},
   "source": [
    "**Цель:** Выявить, есть ли связь между физическим состоянием водителя (`PARTY_DRUG_PHYSICAL`) и виновностью (`AT_FAULT`).\n",
    "\n",
    "**Шаги выполнения:**\n",
    "\n",
    "1. Объединить таблицы `parties` и `collisions` по `CASE_ID`.\n",
    "2. Cруппировать по состоянию водителя (`PARTY_DRUG_PHYSICAL`) и виновности (`AT_FAULT`).\n",
    "3. Посчитать количество случаев для каждой группы.\n",
    "5. Сравнить доли виновных по каждой категории."
   ]
  },
  {
   "cell_type": "code",
   "execution_count": 31,
   "metadata": {},
   "outputs": [],
   "source": [
    "query_6 = '''\n",
    "SELECT \n",
    "    p.PARTY_DRUG_PHYSICAL, \n",
    "    p.AT_FAULT, \n",
    "    COUNT(*) AS count,\n",
    "    ROUND(100.0 * COUNT(*) / SUM(COUNT(*)) OVER (), 2) AS percent_total\n",
    "FROM parties p\n",
    "JOIN collisions c ON p.CASE_ID = c.CASE_ID\n",
    "GROUP BY p.PARTY_DRUG_PHYSICAL, p.AT_FAULT\n",
    "ORDER BY p.PARTY_DRUG_PHYSICAL\n",
    "'''"
   ]
  },
  {
   "cell_type": "code",
   "execution_count": 32,
   "metadata": {},
   "outputs": [],
   "source": [
    "conditions = pd.read_sql_query(query_6, con = engine) "
   ]
  },
  {
   "cell_type": "code",
   "execution_count": 33,
   "metadata": {},
   "outputs": [
    {
     "data": {
      "text/html": [
       "<div>\n",
       "<style scoped>\n",
       "    .dataframe tbody tr th:only-of-type {\n",
       "        vertical-align: middle;\n",
       "    }\n",
       "\n",
       "    .dataframe tbody tr th {\n",
       "        vertical-align: top;\n",
       "    }\n",
       "\n",
       "    .dataframe thead th {\n",
       "        text-align: right;\n",
       "    }\n",
       "</style>\n",
       "<table border=\"1\" class=\"dataframe\">\n",
       "  <thead>\n",
       "    <tr style=\"text-align: right;\">\n",
       "      <th></th>\n",
       "      <th>party_drug_physical</th>\n",
       "      <th>at_fault</th>\n",
       "      <th>count</th>\n",
       "      <th>percent_total</th>\n",
       "    </tr>\n",
       "  </thead>\n",
       "  <tbody>\n",
       "    <tr>\n",
       "      <th>0</th>\n",
       "      <td>G</td>\n",
       "      <td>0</td>\n",
       "      <td>50177</td>\n",
       "      <td>1.82</td>\n",
       "    </tr>\n",
       "    <tr>\n",
       "      <th>1</th>\n",
       "      <td>G</td>\n",
       "      <td>1</td>\n",
       "      <td>182724</td>\n",
       "      <td>6.64</td>\n",
       "    </tr>\n",
       "    <tr>\n",
       "      <th>2</th>\n",
       "      <td>impairment - physical</td>\n",
       "      <td>0</td>\n",
       "      <td>2314</td>\n",
       "      <td>0.08</td>\n",
       "    </tr>\n",
       "    <tr>\n",
       "      <th>3</th>\n",
       "      <td>impairment - physical</td>\n",
       "      <td>1</td>\n",
       "      <td>1874</td>\n",
       "      <td>0.07</td>\n",
       "    </tr>\n",
       "    <tr>\n",
       "      <th>4</th>\n",
       "      <td>not applicable</td>\n",
       "      <td>0</td>\n",
       "      <td>156542</td>\n",
       "      <td>5.69</td>\n",
       "    </tr>\n",
       "    <tr>\n",
       "      <th>5</th>\n",
       "      <td>not applicable</td>\n",
       "      <td>1</td>\n",
       "      <td>12801</td>\n",
       "      <td>0.47</td>\n",
       "    </tr>\n",
       "    <tr>\n",
       "      <th>6</th>\n",
       "      <td>sleepy/fatigued</td>\n",
       "      <td>0</td>\n",
       "      <td>575</td>\n",
       "      <td>0.02</td>\n",
       "    </tr>\n",
       "    <tr>\n",
       "      <th>7</th>\n",
       "      <td>sleepy/fatigued</td>\n",
       "      <td>1</td>\n",
       "      <td>12066</td>\n",
       "      <td>0.44</td>\n",
       "    </tr>\n",
       "    <tr>\n",
       "      <th>8</th>\n",
       "      <td>under drug influence</td>\n",
       "      <td>0</td>\n",
       "      <td>1054</td>\n",
       "      <td>0.04</td>\n",
       "    </tr>\n",
       "    <tr>\n",
       "      <th>9</th>\n",
       "      <td>under drug influence</td>\n",
       "      <td>1</td>\n",
       "      <td>12161</td>\n",
       "      <td>0.44</td>\n",
       "    </tr>\n",
       "    <tr>\n",
       "      <th>10</th>\n",
       "      <td>None</td>\n",
       "      <td>0</td>\n",
       "      <td>1253619</td>\n",
       "      <td>45.55</td>\n",
       "    </tr>\n",
       "    <tr>\n",
       "      <th>11</th>\n",
       "      <td>None</td>\n",
       "      <td>1</td>\n",
       "      <td>1066501</td>\n",
       "      <td>38.75</td>\n",
       "    </tr>\n",
       "  </tbody>\n",
       "</table>\n",
       "</div>"
      ],
      "text/plain": [
       "      party_drug_physical  at_fault    count  percent_total\n",
       "0                       G         0    50177           1.82\n",
       "1                       G         1   182724           6.64\n",
       "2   impairment - physical         0     2314           0.08\n",
       "3   impairment - physical         1     1874           0.07\n",
       "4          not applicable         0   156542           5.69\n",
       "5          not applicable         1    12801           0.47\n",
       "6         sleepy/fatigued         0      575           0.02\n",
       "7         sleepy/fatigued         1    12066           0.44\n",
       "8    under drug influence         0     1054           0.04\n",
       "9    under drug influence         1    12161           0.44\n",
       "10                   None         0  1253619          45.55\n",
       "11                   None         1  1066501          38.75"
      ]
     },
     "execution_count": 33,
     "metadata": {},
     "output_type": "execute_result"
    }
   ],
   "source": [
    "conditions"
   ]
  },
  {
   "cell_type": "markdown",
   "metadata": {},
   "source": [
    "**Выводы:**\n",
    "\n",
    "**Большинство водителей не имеют зафиксированных нарушений, связанных с физическим состоянием**  \n",
    "- **84,3%** случаев (сумма категорий `None`) приходится на водителей без признаков воздействия наркотиков, усталости или физических нарушений.  \n",
    "- Среди них **45,55%** не были виновниками ДТП, а **38,75%** признаны виновными.  \n",
    "\n",
    "**Категория `G` (Impairment Unknown) имеет высокий процент виновности**  \n",
    "- В **6,64%** случаев водители с этим статусом были признаны виновниками аварий.  \n",
    "- Это самый высокий процент среди специфических состояний.  \n",
    "\n",
    "**Водители в состоянии наркотического опьянения (`under drug influence`) чаще оказываются виновниками**  \n",
    "- **0,44%** всех аварий связано с виновниками под воздействием наркотиков.  \n",
    "- Доля невиновных водителей в этой группе значительно ниже (**0,04%**), что указывает на сильное влияние наркотиков на вероятность ДТП.  \n",
    "\n",
    "**Усталость (`sleepy/fatigued`) также увеличивает вероятность виновности**  \n",
    "- **0,44%** всех ДТП произошло по вине уставших или заснувших за рулём водителей.  \n",
    "- Лишь **0,02%** случаев этой группы пришлось на невиновных участников.  \n",
    "\n",
    "**Физические нарушения (`impairment - physical`) оказывают меньшее влияние**  \n",
    "- Доля виновных и невиновных практически одинакова (**0,07%** и **0,08%** соответственно).  \n",
    "\n",
    "**Общий вывод**  \n",
    "Наибольший риск быть признанным виновником ДТП наблюдается среди водителей, находившихся под влиянием наркотиков или испытывавших усталость. Категория `G` также показывает высокую степень виновности, но её точное значение неясно. \n",
    "Большинство участников ДТП не имеют зафиксированных физических или химических факторов, что указывает на важность общего водительского поведения, а не только физиологического состояния."
   ]
  },
  {
   "cell_type": "markdown",
   "metadata": {},
   "source": [
    "# 4. Создание модели для оценки водительского риска"
   ]
  },
  {
   "cell_type": "markdown",
   "metadata": {},
   "source": [
    "## 4.1. Подготовка набора данных на основе первичного предположения Заказчика  "
   ]
  },
  {
   "cell_type": "markdown",
   "metadata": {},
   "source": [
    "### Первичный отбор признаков\n",
    "По условию задачи в качестве таргета необходимо принять признак `at_fault` из таблицы `parties`. Это бинарный признак, который показывает, виновен ли участник в ДТП. Таким образом, мы будем предсказывать вероятность того, что клиент Заказчика станет виновником ДТП при совокупности определённых факторов.\n",
    "\n",
    "#### Для начала отберём признаки из таблицы `parties`:\n",
    "\n",
    "`id`:\n",
    "Не понадобится. Это технический идентификатор, не несущий полезной информации для модели.\n",
    "\n",
    "`case_id`:\n",
    "Необходим для объединения таблиц. Сам по себе не используется в модели.\n",
    "\n",
    "`party_number`:\n",
    "Не подходит, так как не может быть исходной информацией при выборе маршрута. \n",
    "\n",
    "`party_type`:\n",
    "Сам по себе не нужен, но по условию заказчика фильтруем по нему - берём только тип `car` (автомобиль).\n",
    "\n",
    "`at_fault`:\n",
    "Необходим, так как является таргетом.\n",
    "\n",
    "`insurance_premium`:\n",
    "Подходит, так как сумма страховки может косвенно указывать на стоимость автомобиля, что, в свою очередь, может влиять на его безопасность.\n",
    "\n",
    "`party_sobriety`:\n",
    "Трезвость непосредственно влияет на способность управлять транспортным средством. Однако, такая информация известна уже по происшествии ДТП. Даже в случае дооборудования каршерингового ТС алко-тестером, это не постоянный фактор, т.к. водитель может употребить спиртное уже после того, как модель сделала прогноз и было начато движение.\n",
    "\n",
    "`party_drug_physical`:\n",
    "Аналогично признаку `party_sobriety`. В дополнение, как выявлено ранее большая часть данных (более 80%) не содержит информации по типу состояния водителя. Не может быть использован для моделирования.\n",
    "\n",
    "`cellphone_in_use`:\n",
    "Не подходит. Использование телефона за рулём увеличивает риск ДТП, но при выборе маршрута это система определить не сможет."
   ]
  },
  {
   "cell_type": "markdown",
   "metadata": {},
   "source": [
    "#### Таблица `collisions`"
   ]
  },
  {
   "cell_type": "markdown",
   "metadata": {},
   "source": [
    "`case_id`: Необходим только для объединения таблиц.\n",
    "\n",
    "`county_city_location`: Возможно, подходит, так как вероятность ДТП необходимо спрогнозировать на определённом маршруте. Соответственно, геоданные могут быть полезны. Однако, данный категориальный признак имеет большое количество уникальных значений (538). Необходимо доп.исследование.\n",
    "\n",
    "`county_location`: Возможно, подходит - геоданные.\n",
    "\n",
    "`distance`: Возможно, подходит - геоданные. \n",
    "\n",
    "`direction`: Возможно, подходит - геоданные.\n",
    "\n",
    "`intersection`: Возможно, подходит - геоданные. \n",
    "\n",
    "`weather_1`: Не буду использовать, т.к. погода не постоянна. Даже при наличии датчика погоды, она может кардинально измениться уже через 5 минут после начала движения.\n",
    "\n",
    "`location_type`: Подходит, геоданные - разные типы дорог (шоссе, перекрёстки, рампы) имеют разный уровень риска ДТП.  \n",
    "\n",
    "`collision_damage`: Сам по себе признак не нужен, так как нет цели строить модель классификации по типу повреждения. Однако, необходимо при отборе других признаков учесть, что по требованию заказчика тип `SCRATCH` не подходит.  \n",
    "\n",
    "`party_count`: Не подходит, так как не известно до наступления ДТП.\n",
    "\n",
    "`primary_collision_factor`: Не подходит, так как не известно до наступления ДТП.  \n",
    "\n",
    "`pcf_violation_category`: Не подходит, так как не известно до наступления ДТП.\n",
    "\n",
    "`type_of_collision`: Не подходит, так как не известно до наступления ДТП. \n",
    "\n",
    "`motor_vehicle_involved_with`: Не подходит, так как не известно до наступления ДТП.  \n",
    "\n",
    "`road_surface`: Возможно, подходит, так как тип дороги на маршруте следования — важный фактор. Однако, необходимо, чтобы при использовании продукта тип покрытия на выбранном маршруте был известен системе.   \n",
    "\n",
    "`road_condition_1`: Возможно, подходит. Однако, необходимо, чтобы при использовании продукта тип дороги на выбранном маршруте был известен системе.  \n",
    "\n",
    "`lighting`: Не подходит, так как это освещение непосредственно на месте ДТП. При использовании продукта не будет возможности заранее спрогнозировать освещение на всём маршруте следования.  \n",
    "\n",
    "`control_device`: Не подходит, так как состояние светофоров и пр. не известно до наступления ДТП. \n",
    "\n",
    "`collision_date`: Подходит, так как можно выделить день недели и месяц ДТП (Необходимо учесть, что необходим только 2012 год).  \n",
    "\n",
    "`collision_time`: Подходит, так как можно выделить время суток, что влияет на вероятность ДТП.  "
   ]
  },
  {
   "cell_type": "markdown",
   "metadata": {},
   "source": [
    "#### Таблица `vehicles`\n",
    "\n",
    "`id` - Не подходит, т.к. техническая информация.\n",
    "\n",
    "`case_id` - Необходим для связки таблиц.\n",
    "\n",
    "`party_number` - Не подходит, так как не может быть исходной информацией при выборе маршрута.  \n",
    "\n",
    "`vehicle_type` - Подходит. Тип ТС может влиять на вероятность ДТП.\n",
    "\n",
    "`vehicle_transmission` - Подходит. Тип КПП может косвенно влиять на вероятность ДТП.\n",
    "\n",
    "`vehicle_age` - подходит, возраст может косвенно влиять на риск ДТП."
   ]
  },
  {
   "cell_type": "code",
   "execution_count": 34,
   "metadata": {},
   "outputs": [],
   "source": [
    "query_7 = '''\n",
    "SELECT\n",
    "    p.at_fault,\n",
    "\n",
    "    c.county_city_location,\n",
    "    c.county_location,\n",
    "    c.distance,\n",
    "    c.direction,\n",
    "    c.intersection,\n",
    "    c.location_type,\n",
    "    c.road_surface,\n",
    "    c.road_condition_1,\n",
    "    c.collision_date, \n",
    "    c.collision_time,\n",
    "    \n",
    "    v.vehicle_type,\n",
    "    v.vehicle_transmission,\n",
    "    v.vehicle_age\n",
    "FROM \n",
    "    parties p\n",
    "JOIN\n",
    "    collisions c\n",
    "ON\n",
    "    p.case_id = c.case_id\n",
    "JOIN\n",
    "    vehicles v\n",
    "ON\n",
    "    p.case_id = v.case_id AND p.party_number = v.party_number\n",
    "WHERE \n",
    "    LOWER(p.party_type) = 'car' \n",
    "    AND LOWER(c.collision_damage) = 'scratch'\n",
    "    AND EXTRACT(YEAR FROM c.collision_date) = 2012 \n",
    "    AND v.vehicle_age IS NOT NULL\n",
    "'''"
   ]
  },
  {
   "cell_type": "markdown",
   "metadata": {},
   "source": [
    "## 4.2. Получение признаков"
   ]
  },
  {
   "cell_type": "code",
   "execution_count": 35,
   "metadata": {},
   "outputs": [],
   "source": [
    "df_preliminary = pd.read_sql_query(query_7, con = engine, parse_dates=['collision_date']) "
   ]
  },
  {
   "cell_type": "code",
   "execution_count": 36,
   "metadata": {},
   "outputs": [
    {
     "name": "stdout",
     "output_type": "stream",
     "text": [
      "________________Head________________\n"
     ]
    },
    {
     "data": {
      "text/html": [
       "<div>\n",
       "<style scoped>\n",
       "    .dataframe tbody tr th:only-of-type {\n",
       "        vertical-align: middle;\n",
       "    }\n",
       "\n",
       "    .dataframe tbody tr th {\n",
       "        vertical-align: top;\n",
       "    }\n",
       "\n",
       "    .dataframe thead th {\n",
       "        text-align: right;\n",
       "    }\n",
       "</style>\n",
       "<table border=\"1\" class=\"dataframe\">\n",
       "  <thead>\n",
       "    <tr style=\"text-align: right;\">\n",
       "      <th></th>\n",
       "      <th>at_fault</th>\n",
       "      <th>county_city_location</th>\n",
       "      <th>county_location</th>\n",
       "      <th>distance</th>\n",
       "      <th>direction</th>\n",
       "      <th>intersection</th>\n",
       "      <th>location_type</th>\n",
       "      <th>road_surface</th>\n",
       "      <th>road_condition_1</th>\n",
       "      <th>collision_date</th>\n",
       "      <th>collision_time</th>\n",
       "      <th>vehicle_type</th>\n",
       "      <th>vehicle_transmission</th>\n",
       "      <th>vehicle_age</th>\n",
       "    </tr>\n",
       "  </thead>\n",
       "  <tbody>\n",
       "    <tr>\n",
       "      <th>0</th>\n",
       "      <td>0</td>\n",
       "      <td>1000</td>\n",
       "      <td>fresno</td>\n",
       "      <td>1584.0</td>\n",
       "      <td>west</td>\n",
       "      <td>0.0</td>\n",
       "      <td>None</td>\n",
       "      <td>dry</td>\n",
       "      <td>normal</td>\n",
       "      <td>2012-02-04</td>\n",
       "      <td>15:10:00</td>\n",
       "      <td>coupe</td>\n",
       "      <td>manual</td>\n",
       "      <td>8</td>\n",
       "    </tr>\n",
       "    <tr>\n",
       "      <th>1</th>\n",
       "      <td>1</td>\n",
       "      <td>3607</td>\n",
       "      <td>san bernardino</td>\n",
       "      <td>528.0</td>\n",
       "      <td>west</td>\n",
       "      <td>0.0</td>\n",
       "      <td>highway</td>\n",
       "      <td>dry</td>\n",
       "      <td>normal</td>\n",
       "      <td>2012-01-13</td>\n",
       "      <td>15:55:00</td>\n",
       "      <td>coupe</td>\n",
       "      <td>auto</td>\n",
       "      <td>7</td>\n",
       "    </tr>\n",
       "    <tr>\n",
       "      <th>2</th>\n",
       "      <td>1</td>\n",
       "      <td>3450</td>\n",
       "      <td>sacramento</td>\n",
       "      <td>150.0</td>\n",
       "      <td>west</td>\n",
       "      <td>0.0</td>\n",
       "      <td>None</td>\n",
       "      <td>dry</td>\n",
       "      <td>normal</td>\n",
       "      <td>2012-01-03</td>\n",
       "      <td>13:42:00</td>\n",
       "      <td>sedan</td>\n",
       "      <td>manual</td>\n",
       "      <td>1</td>\n",
       "    </tr>\n",
       "    <tr>\n",
       "      <th>3</th>\n",
       "      <td>1</td>\n",
       "      <td>1502</td>\n",
       "      <td>kern</td>\n",
       "      <td>45.0</td>\n",
       "      <td>north</td>\n",
       "      <td>0.0</td>\n",
       "      <td>highway</td>\n",
       "      <td>dry</td>\n",
       "      <td>normal</td>\n",
       "      <td>2012-01-06</td>\n",
       "      <td>09:48:00</td>\n",
       "      <td>coupe</td>\n",
       "      <td>auto</td>\n",
       "      <td>4</td>\n",
       "    </tr>\n",
       "    <tr>\n",
       "      <th>4</th>\n",
       "      <td>0</td>\n",
       "      <td>3404</td>\n",
       "      <td>sacramento</td>\n",
       "      <td>0.0</td>\n",
       "      <td>None</td>\n",
       "      <td>1.0</td>\n",
       "      <td>None</td>\n",
       "      <td>dry</td>\n",
       "      <td>normal</td>\n",
       "      <td>2012-01-10</td>\n",
       "      <td>21:50:00</td>\n",
       "      <td>coupe</td>\n",
       "      <td>auto</td>\n",
       "      <td>3</td>\n",
       "    </tr>\n",
       "  </tbody>\n",
       "</table>\n",
       "</div>"
      ],
      "text/plain": [
       "   at_fault county_city_location county_location  distance direction  \\\n",
       "0         0                 1000          fresno    1584.0      west   \n",
       "1         1                 3607  san bernardino     528.0      west   \n",
       "2         1                 3450      sacramento     150.0      west   \n",
       "3         1                 1502            kern      45.0     north   \n",
       "4         0                 3404      sacramento       0.0      None   \n",
       "\n",
       "   intersection location_type road_surface road_condition_1 collision_date  \\\n",
       "0           0.0          None          dry           normal     2012-02-04   \n",
       "1           0.0       highway          dry           normal     2012-01-13   \n",
       "2           0.0          None          dry           normal     2012-01-03   \n",
       "3           0.0       highway          dry           normal     2012-01-06   \n",
       "4           1.0          None          dry           normal     2012-01-10   \n",
       "\n",
       "  collision_time vehicle_type vehicle_transmission  vehicle_age  \n",
       "0       15:10:00        coupe               manual            8  \n",
       "1       15:55:00        coupe                 auto            7  \n",
       "2       13:42:00        sedan               manual            1  \n",
       "3       09:48:00        coupe                 auto            4  \n",
       "4       21:50:00        coupe                 auto            3  "
      ]
     },
     "metadata": {},
     "output_type": "display_data"
    },
    {
     "name": "stdout",
     "output_type": "stream",
     "text": [
      "________________Data Types Info________________\n",
      "<class 'pandas.core.frame.DataFrame'>\n",
      "RangeIndex: 46052 entries, 0 to 46051\n",
      "Data columns (total 14 columns):\n",
      " #   Column                Non-Null Count  Dtype         \n",
      "---  ------                --------------  -----         \n",
      " 0   at_fault              46052 non-null  int64         \n",
      " 1   county_city_location  46052 non-null  object        \n",
      " 2   county_location       46052 non-null  object        \n",
      " 3   distance              46052 non-null  float64       \n",
      " 4   direction             31982 non-null  object        \n",
      " 5   intersection          45887 non-null  float64       \n",
      " 6   location_type         17244 non-null  object        \n",
      " 7   road_surface          45626 non-null  object        \n",
      " 8   road_condition_1      45762 non-null  object        \n",
      " 9   collision_date        46052 non-null  datetime64[ns]\n",
      " 10  collision_time        46031 non-null  object        \n",
      " 11  vehicle_type          46052 non-null  object        \n",
      " 12  vehicle_transmission  45158 non-null  object        \n",
      " 13  vehicle_age           46052 non-null  int64         \n",
      "dtypes: datetime64[ns](1), float64(2), int64(2), object(9)\n",
      "memory usage: 4.9+ MB\n"
     ]
    },
    {
     "data": {
      "text/plain": [
       "None"
      ]
     },
     "metadata": {},
     "output_type": "display_data"
    },
    {
     "name": "stdout",
     "output_type": "stream",
     "text": [
      "________________Shape________________\n"
     ]
    },
    {
     "data": {
      "text/plain": [
       "(46052, 14)"
      ]
     },
     "metadata": {},
     "output_type": "display_data"
    },
    {
     "name": "stdout",
     "output_type": "stream",
     "text": [
      "________________Duplicates________________\n"
     ]
    },
    {
     "data": {
      "text/plain": [
       "120"
      ]
     },
     "metadata": {},
     "output_type": "display_data"
    },
    {
     "name": "stdout",
     "output_type": "stream",
     "text": [
      "________________Proportion of Missing Data________________\n"
     ]
    },
    {
     "data": {
      "text/plain": [
       "at_fault                0.000000\n",
       "county_city_location    0.000000\n",
       "county_location         0.000000\n",
       "distance                0.000000\n",
       "direction               0.305524\n",
       "intersection            0.003583\n",
       "location_type           0.625554\n",
       "road_surface            0.009250\n",
       "road_condition_1        0.006297\n",
       "collision_date          0.000000\n",
       "collision_time          0.000456\n",
       "vehicle_type            0.000000\n",
       "vehicle_transmission    0.019413\n",
       "vehicle_age             0.000000\n",
       "dtype: float64"
      ]
     },
     "metadata": {},
     "output_type": "display_data"
    }
   ],
   "source": [
    "display_main_info(df_preliminary)"
   ]
  },
  {
   "cell_type": "markdown",
   "metadata": {},
   "source": [
    "- Будем рассматривать данный датасет как полученный от заказчика. Сразу отделим из него 20% на отложенную тестовую выборку."
   ]
  },
  {
   "cell_type": "code",
   "execution_count": 37,
   "metadata": {},
   "outputs": [],
   "source": [
    "df_main, df_test = train_test_split(df_preliminary, test_size=0.2, random_state=RANDOM_STATE) # Сразу отделяем 20%"
   ]
  },
  {
   "cell_type": "markdown",
   "metadata": {},
   "source": [
    "- Можно отметить, что location_type имеет более 50% пропусков. Использовать данный признак не целесообразно. \n",
    "\n",
    "- Пропуски в категориальных признаках (`direction`, `intersection`, `road_surface`, `road_condition_1`, `vehicle_transmission`) - заполним на этапе моделирования на 'Unknown'."
   ]
  },
  {
   "cell_type": "code",
   "execution_count": 38,
   "metadata": {},
   "outputs": [],
   "source": [
    "df_main = df_main.drop(columns=['location_type'])\n",
    "\n",
    "df_test= df_test.drop(columns=['location_type'])"
   ]
  },
  {
   "cell_type": "markdown",
   "metadata": {},
   "source": [
    "## 4.3. EDA признаков"
   ]
  },
  {
   "cell_type": "markdown",
   "metadata": {},
   "source": [
    "### 4.3.1 Таргет"
   ]
  },
  {
   "cell_type": "code",
   "execution_count": 39,
   "metadata": {},
   "outputs": [
    {
     "name": "stdout",
     "output_type": "stream",
     "text": [
      "___________Number of unique values for at_fault:___________\n"
     ]
    },
    {
     "data": {
      "text/plain": [
       "2"
      ]
     },
     "metadata": {},
     "output_type": "display_data"
    },
    {
     "name": "stdout",
     "output_type": "stream",
     "text": [
      "___________Unique values for at_fault:___________\n"
     ]
    },
    {
     "data": {
      "text/plain": [
       "at_fault\n",
       "0    0.62102\n",
       "1    0.37898\n",
       "Name: proportion, dtype: float64"
      ]
     },
     "metadata": {},
     "output_type": "display_data"
    }
   ],
   "source": [
    "show_info_about_categories(df_main, 'at_fault')"
   ]
  },
  {
   "cell_type": "markdown",
   "metadata": {},
   "source": [
    "Есть дисбаланс классов. Попробуем учесть это при моделировании."
   ]
  },
  {
   "cell_type": "markdown",
   "metadata": {},
   "source": [
    "### 4.2.1 Численные"
   ]
  },
  {
   "cell_type": "code",
   "execution_count": 40,
   "metadata": {},
   "outputs": [
    {
     "data": {
      "text/html": [
       "<div>\n",
       "<style scoped>\n",
       "    .dataframe tbody tr th:only-of-type {\n",
       "        vertical-align: middle;\n",
       "    }\n",
       "\n",
       "    .dataframe tbody tr th {\n",
       "        vertical-align: top;\n",
       "    }\n",
       "\n",
       "    .dataframe thead th {\n",
       "        text-align: right;\n",
       "    }\n",
       "</style>\n",
       "<table border=\"1\" class=\"dataframe\">\n",
       "  <thead>\n",
       "    <tr style=\"text-align: right;\">\n",
       "      <th></th>\n",
       "      <th>at_fault</th>\n",
       "      <th>county_city_location</th>\n",
       "      <th>county_location</th>\n",
       "      <th>distance</th>\n",
       "      <th>direction</th>\n",
       "      <th>intersection</th>\n",
       "      <th>road_surface</th>\n",
       "      <th>road_condition_1</th>\n",
       "      <th>collision_date</th>\n",
       "      <th>collision_time</th>\n",
       "      <th>vehicle_type</th>\n",
       "      <th>vehicle_transmission</th>\n",
       "      <th>vehicle_age</th>\n",
       "    </tr>\n",
       "  </thead>\n",
       "  <tbody>\n",
       "    <tr>\n",
       "      <th>7422</th>\n",
       "      <td>1</td>\n",
       "      <td>3310</td>\n",
       "      <td>riverside</td>\n",
       "      <td>428.0</td>\n",
       "      <td>east</td>\n",
       "      <td>0.0</td>\n",
       "      <td>wet</td>\n",
       "      <td>reduced width</td>\n",
       "      <td>2012-01-24</td>\n",
       "      <td>07:58:00</td>\n",
       "      <td>coupe</td>\n",
       "      <td>manual</td>\n",
       "      <td>3</td>\n",
       "    </tr>\n",
       "    <tr>\n",
       "      <th>33869</th>\n",
       "      <td>1</td>\n",
       "      <td>0700</td>\n",
       "      <td>contra costa</td>\n",
       "      <td>2130.0</td>\n",
       "      <td>south</td>\n",
       "      <td>0.0</td>\n",
       "      <td>dry</td>\n",
       "      <td>normal</td>\n",
       "      <td>2012-04-19</td>\n",
       "      <td>09:11:00</td>\n",
       "      <td>coupe</td>\n",
       "      <td>auto</td>\n",
       "      <td>5</td>\n",
       "    </tr>\n",
       "    <tr>\n",
       "      <th>4396</th>\n",
       "      <td>1</td>\n",
       "      <td>3496</td>\n",
       "      <td>sacramento</td>\n",
       "      <td>18.0</td>\n",
       "      <td>north</td>\n",
       "      <td>0.0</td>\n",
       "      <td>dry</td>\n",
       "      <td>normal</td>\n",
       "      <td>2012-01-06</td>\n",
       "      <td>11:00:00</td>\n",
       "      <td>sedan</td>\n",
       "      <td>manual</td>\n",
       "      <td>0</td>\n",
       "    </tr>\n",
       "    <tr>\n",
       "      <th>2156</th>\n",
       "      <td>1</td>\n",
       "      <td>1900</td>\n",
       "      <td>los angeles</td>\n",
       "      <td>3600.0</td>\n",
       "      <td>south</td>\n",
       "      <td>0.0</td>\n",
       "      <td>dry</td>\n",
       "      <td>normal</td>\n",
       "      <td>2012-01-30</td>\n",
       "      <td>07:55:00</td>\n",
       "      <td>coupe</td>\n",
       "      <td>manual</td>\n",
       "      <td>4</td>\n",
       "    </tr>\n",
       "    <tr>\n",
       "      <th>39669</th>\n",
       "      <td>1</td>\n",
       "      <td>1954</td>\n",
       "      <td>los angeles</td>\n",
       "      <td>100.0</td>\n",
       "      <td>east</td>\n",
       "      <td>0.0</td>\n",
       "      <td>dry</td>\n",
       "      <td>normal</td>\n",
       "      <td>2012-03-29</td>\n",
       "      <td>20:45:00</td>\n",
       "      <td>coupe</td>\n",
       "      <td>auto</td>\n",
       "      <td>6</td>\n",
       "    </tr>\n",
       "  </tbody>\n",
       "</table>\n",
       "</div>"
      ],
      "text/plain": [
       "       at_fault county_city_location county_location  distance direction  \\\n",
       "7422          1                 3310       riverside     428.0      east   \n",
       "33869         1                 0700    contra costa    2130.0     south   \n",
       "4396          1                 3496      sacramento      18.0     north   \n",
       "2156          1                 1900     los angeles    3600.0     south   \n",
       "39669         1                 1954     los angeles     100.0      east   \n",
       "\n",
       "       intersection road_surface road_condition_1 collision_date  \\\n",
       "7422            0.0          wet    reduced width     2012-01-24   \n",
       "33869           0.0          dry           normal     2012-04-19   \n",
       "4396            0.0          dry           normal     2012-01-06   \n",
       "2156            0.0          dry           normal     2012-01-30   \n",
       "39669           0.0          dry           normal     2012-03-29   \n",
       "\n",
       "      collision_time vehicle_type vehicle_transmission  vehicle_age  \n",
       "7422        07:58:00        coupe               manual            3  \n",
       "33869       09:11:00        coupe                 auto            5  \n",
       "4396        11:00:00        sedan               manual            0  \n",
       "2156        07:55:00        coupe               manual            4  \n",
       "39669       20:45:00        coupe                 auto            6  "
      ]
     },
     "execution_count": 40,
     "metadata": {},
     "output_type": "execute_result"
    }
   ],
   "source": [
    "df_main.head()"
   ]
  },
  {
   "cell_type": "code",
   "execution_count": 41,
   "metadata": {},
   "outputs": [],
   "source": [
    "df_main_numeric = ['distance', 'vehicle_age']"
   ]
  },
  {
   "cell_type": "code",
   "execution_count": 42,
   "metadata": {},
   "outputs": [
    {
     "data": {
      "image/png": "[encoded data removed]",
      "text/plain": [
       "<Figure size 1200x500 with 2 Axes>"
      ]
     },
     "metadata": {},
     "output_type": "display_data"
    },
    {
     "data": {
      "image/png": "[encoded data removed]",
      "text/plain": [
       "<Figure size 1200x500 with 2 Axes>"
      ]
     },
     "metadata": {},
     "output_type": "display_data"
    }
   ],
   "source": [
    "for col in df_main[df_main_numeric]:\n",
    "    plot_histogram_and_boxplot(df_main, col)"
   ]
  },
  {
   "cell_type": "code",
   "execution_count": 43,
   "metadata": {},
   "outputs": [
    {
     "name": "stdout",
     "output_type": "stream",
     "text": [
      "Statics for distance\n"
     ]
    },
    {
     "data": {
      "text/html": [
       "<div>\n",
       "<style scoped>\n",
       "    .dataframe tbody tr th:only-of-type {\n",
       "        vertical-align: middle;\n",
       "    }\n",
       "\n",
       "    .dataframe tbody tr th {\n",
       "        vertical-align: top;\n",
       "    }\n",
       "\n",
       "    .dataframe thead th {\n",
       "        text-align: right;\n",
       "    }\n",
       "</style>\n",
       "<table border=\"1\" class=\"dataframe\">\n",
       "  <thead>\n",
       "    <tr style=\"text-align: right;\">\n",
       "      <th></th>\n",
       "      <th>count</th>\n",
       "      <th>mean</th>\n",
       "      <th>std</th>\n",
       "      <th>min</th>\n",
       "      <th>25%</th>\n",
       "      <th>50%</th>\n",
       "      <th>75%</th>\n",
       "      <th>max</th>\n",
       "    </tr>\n",
       "  </thead>\n",
       "  <tbody>\n",
       "    <tr>\n",
       "      <th>distance</th>\n",
       "      <td>36841.0</td>\n",
       "      <td>510.509762</td>\n",
       "      <td>2130.239036</td>\n",
       "      <td>0.0</td>\n",
       "      <td>0.0</td>\n",
       "      <td>74.0</td>\n",
       "      <td>395.0</td>\n",
       "      <td>151008.0</td>\n",
       "    </tr>\n",
       "  </tbody>\n",
       "</table>\n",
       "</div>"
      ],
      "text/plain": [
       "            count        mean          std  min  25%   50%    75%       max\n",
       "distance  36841.0  510.509762  2130.239036  0.0  0.0  74.0  395.0  151008.0"
      ]
     },
     "metadata": {},
     "output_type": "display_data"
    },
    {
     "name": "stdout",
     "output_type": "stream",
     "text": [
      "Statics for vehicle_age\n"
     ]
    },
    {
     "data": {
      "text/html": [
       "<div>\n",
       "<style scoped>\n",
       "    .dataframe tbody tr th:only-of-type {\n",
       "        vertical-align: middle;\n",
       "    }\n",
       "\n",
       "    .dataframe tbody tr th {\n",
       "        vertical-align: top;\n",
       "    }\n",
       "\n",
       "    .dataframe thead th {\n",
       "        text-align: right;\n",
       "    }\n",
       "</style>\n",
       "<table border=\"1\" class=\"dataframe\">\n",
       "  <thead>\n",
       "    <tr style=\"text-align: right;\">\n",
       "      <th></th>\n",
       "      <th>count</th>\n",
       "      <th>mean</th>\n",
       "      <th>std</th>\n",
       "      <th>min</th>\n",
       "      <th>25%</th>\n",
       "      <th>50%</th>\n",
       "      <th>75%</th>\n",
       "      <th>max</th>\n",
       "    </tr>\n",
       "  </thead>\n",
       "  <tbody>\n",
       "    <tr>\n",
       "      <th>vehicle_age</th>\n",
       "      <td>36841.0</td>\n",
       "      <td>5.637496</td>\n",
       "      <td>2.93511</td>\n",
       "      <td>0.0</td>\n",
       "      <td>3.0</td>\n",
       "      <td>5.0</td>\n",
       "      <td>8.0</td>\n",
       "      <td>15.0</td>\n",
       "    </tr>\n",
       "  </tbody>\n",
       "</table>\n",
       "</div>"
      ],
      "text/plain": [
       "               count      mean      std  min  25%  50%  75%   max\n",
       "vehicle_age  36841.0  5.637496  2.93511  0.0  3.0  5.0  8.0  15.0"
      ]
     },
     "metadata": {},
     "output_type": "display_data"
    }
   ],
   "source": [
    "for col in df_main[df_main_numeric]:\n",
    "    show_stats(df_main, col)"
   ]
  },
  {
   "cell_type": "markdown",
   "metadata": {},
   "source": [
    "**Наблюдения:**\n",
    "\n",
    "- `distance` - есть одно сильно выбивающееся значения. Я удалю эту строку.\n",
    "\n",
    "- Также, я применю лог-трансформацию, чтобы сгладить получившиеся распределения."
   ]
  },
  {
   "cell_type": "code",
   "execution_count": 44,
   "metadata": {},
   "outputs": [],
   "source": [
    "_q1 = df_main['distance'] < 151008.0\n",
    "\n",
    "df_main = df_main[_q1]"
   ]
  },
  {
   "cell_type": "markdown",
   "metadata": {},
   "source": [
    "Лог-трансформация"
   ]
  },
  {
   "cell_type": "code",
   "execution_count": 45,
   "metadata": {},
   "outputs": [],
   "source": [
    "def apply_log_transform(df, num_cols):\n",
    "    for col in df[num_cols]:\n",
    "        df[col] = df[col].replace(0, 1)\n",
    "        df[col + '_log'] = np.log(df[col])"
   ]
  },
  {
   "cell_type": "code",
   "execution_count": 46,
   "metadata": {},
   "outputs": [],
   "source": [
    "# Основного датасета\n",
    "apply_log_transform(df_main, num_cols=df_main_numeric)\n",
    "\n",
    "# Также, для отделённой тестовой выборки\n",
    "apply_log_transform(df_test, num_cols=df_main_numeric)"
   ]
  },
  {
   "cell_type": "code",
   "execution_count": 47,
   "metadata": {},
   "outputs": [
    {
     "data": {
      "image/png": "[encoded data removed]",
      "text/plain": [
       "<Figure size 1200x500 with 2 Axes>"
      ]
     },
     "metadata": {},
     "output_type": "display_data"
    },
    {
     "data": {
      "image/png": "[encoded data removed]",
      "text/plain": [
       "<Figure size 1200x500 with 2 Axes>"
      ]
     },
     "metadata": {},
     "output_type": "display_data"
    }
   ],
   "source": [
    "df_log = ['distance_log', 'vehicle_age_log']\n",
    "\n",
    "for col in df_log:\n",
    "    plot_histogram_and_boxplot(df_main, col)"
   ]
  },
  {
   "cell_type": "markdown",
   "metadata": {},
   "source": [
    "Статистический анализ"
   ]
  },
  {
   "cell_type": "code",
   "execution_count": 48,
   "metadata": {},
   "outputs": [
    {
     "data": {
      "text/html": [
       "<div>\n",
       "<style scoped>\n",
       "    .dataframe tbody tr th:only-of-type {\n",
       "        vertical-align: middle;\n",
       "    }\n",
       "\n",
       "    .dataframe tbody tr th {\n",
       "        vertical-align: top;\n",
       "    }\n",
       "\n",
       "    .dataframe thead th {\n",
       "        text-align: right;\n",
       "    }\n",
       "</style>\n",
       "<table border=\"1\" class=\"dataframe\">\n",
       "  <thead>\n",
       "    <tr style=\"text-align: right;\">\n",
       "      <th></th>\n",
       "      <th>at_fault</th>\n",
       "      <th>0</th>\n",
       "      <th>1</th>\n",
       "    </tr>\n",
       "  </thead>\n",
       "  <tbody>\n",
       "    <tr>\n",
       "      <th rowspan=\"8\" valign=\"top\">distance_log</th>\n",
       "      <th>count</th>\n",
       "      <td>22878.000000</td>\n",
       "      <td>13961.000000</td>\n",
       "    </tr>\n",
       "    <tr>\n",
       "      <th>mean</th>\n",
       "      <td>3.530652</td>\n",
       "      <td>3.866196</td>\n",
       "    </tr>\n",
       "    <tr>\n",
       "      <th>std</th>\n",
       "      <td>2.735603</td>\n",
       "      <td>2.895575</td>\n",
       "    </tr>\n",
       "    <tr>\n",
       "      <th>min</th>\n",
       "      <td>0.000000</td>\n",
       "      <td>0.000000</td>\n",
       "    </tr>\n",
       "    <tr>\n",
       "      <th>25%</th>\n",
       "      <td>0.000000</td>\n",
       "      <td>0.000000</td>\n",
       "    </tr>\n",
       "    <tr>\n",
       "      <th>50%</th>\n",
       "      <td>4.094345</td>\n",
       "      <td>4.605170</td>\n",
       "    </tr>\n",
       "    <tr>\n",
       "      <th>75%</th>\n",
       "      <td>5.736572</td>\n",
       "      <td>6.214608</td>\n",
       "    </tr>\n",
       "    <tr>\n",
       "      <th>max</th>\n",
       "      <td>11.056588</td>\n",
       "      <td>11.279732</td>\n",
       "    </tr>\n",
       "    <tr>\n",
       "      <th rowspan=\"8\" valign=\"top\">vehicle_age_log</th>\n",
       "      <th>count</th>\n",
       "      <td>22878.000000</td>\n",
       "      <td>13961.000000</td>\n",
       "    </tr>\n",
       "    <tr>\n",
       "      <th>mean</th>\n",
       "      <td>1.637246</td>\n",
       "      <td>1.478971</td>\n",
       "    </tr>\n",
       "    <tr>\n",
       "      <th>std</th>\n",
       "      <td>0.576561</td>\n",
       "      <td>0.632455</td>\n",
       "    </tr>\n",
       "    <tr>\n",
       "      <th>min</th>\n",
       "      <td>0.000000</td>\n",
       "      <td>0.000000</td>\n",
       "    </tr>\n",
       "    <tr>\n",
       "      <th>25%</th>\n",
       "      <td>1.386294</td>\n",
       "      <td>1.098612</td>\n",
       "    </tr>\n",
       "    <tr>\n",
       "      <th>50%</th>\n",
       "      <td>1.791759</td>\n",
       "      <td>1.386294</td>\n",
       "    </tr>\n",
       "    <tr>\n",
       "      <th>75%</th>\n",
       "      <td>2.079442</td>\n",
       "      <td>1.945910</td>\n",
       "    </tr>\n",
       "    <tr>\n",
       "      <th>max</th>\n",
       "      <td>2.708050</td>\n",
       "      <td>2.708050</td>\n",
       "    </tr>\n",
       "  </tbody>\n",
       "</table>\n",
       "</div>"
      ],
      "text/plain": [
       "at_fault                          0             1\n",
       "distance_log    count  22878.000000  13961.000000\n",
       "                mean       3.530652      3.866196\n",
       "                std        2.735603      2.895575\n",
       "                min        0.000000      0.000000\n",
       "                25%        0.000000      0.000000\n",
       "                50%        4.094345      4.605170\n",
       "                75%        5.736572      6.214608\n",
       "                max       11.056588     11.279732\n",
       "vehicle_age_log count  22878.000000  13961.000000\n",
       "                mean       1.637246      1.478971\n",
       "                std        0.576561      0.632455\n",
       "                min        0.000000      0.000000\n",
       "                25%        1.386294      1.098612\n",
       "                50%        1.791759      1.386294\n",
       "                75%        2.079442      1.945910\n",
       "                max        2.708050      2.708050"
      ]
     },
     "execution_count": 48,
     "metadata": {},
     "output_type": "execute_result"
    }
   ],
   "source": [
    "df_main.groupby('at_fault')[df_log].describe().T"
   ]
  },
  {
   "cell_type": "code",
   "execution_count": 49,
   "metadata": {},
   "outputs": [
    {
     "data": {
      "text/html": [
       "<div>\n",
       "<style scoped>\n",
       "    .dataframe tbody tr th:only-of-type {\n",
       "        vertical-align: middle;\n",
       "    }\n",
       "\n",
       "    .dataframe tbody tr th {\n",
       "        vertical-align: top;\n",
       "    }\n",
       "\n",
       "    .dataframe thead th {\n",
       "        text-align: right;\n",
       "    }\n",
       "</style>\n",
       "<table border=\"1\" class=\"dataframe\">\n",
       "  <thead>\n",
       "    <tr style=\"text-align: right;\">\n",
       "      <th></th>\n",
       "      <th>at_fault</th>\n",
       "      <th>0</th>\n",
       "      <th>1</th>\n",
       "    </tr>\n",
       "  </thead>\n",
       "  <tbody>\n",
       "    <tr>\n",
       "      <th rowspan=\"8\" valign=\"top\">distance</th>\n",
       "      <th>count</th>\n",
       "      <td>22878.000000</td>\n",
       "      <td>13961.000000</td>\n",
       "    </tr>\n",
       "    <tr>\n",
       "      <th>mean</th>\n",
       "      <td>383.184797</td>\n",
       "      <td>698.414036</td>\n",
       "    </tr>\n",
       "    <tr>\n",
       "      <th>std</th>\n",
       "      <td>1220.842740</td>\n",
       "      <td>2495.056702</td>\n",
       "    </tr>\n",
       "    <tr>\n",
       "      <th>min</th>\n",
       "      <td>1.000000</td>\n",
       "      <td>1.000000</td>\n",
       "    </tr>\n",
       "    <tr>\n",
       "      <th>25%</th>\n",
       "      <td>1.000000</td>\n",
       "      <td>1.000000</td>\n",
       "    </tr>\n",
       "    <tr>\n",
       "      <th>50%</th>\n",
       "      <td>60.000000</td>\n",
       "      <td>100.000000</td>\n",
       "    </tr>\n",
       "    <tr>\n",
       "      <th>75%</th>\n",
       "      <td>310.000000</td>\n",
       "      <td>500.000000</td>\n",
       "    </tr>\n",
       "    <tr>\n",
       "      <th>max</th>\n",
       "      <td>63360.000000</td>\n",
       "      <td>79200.000000</td>\n",
       "    </tr>\n",
       "    <tr>\n",
       "      <th rowspan=\"8\" valign=\"top\">vehicle_age</th>\n",
       "      <th>count</th>\n",
       "      <td>22878.000000</td>\n",
       "      <td>13961.000000</td>\n",
       "    </tr>\n",
       "    <tr>\n",
       "      <th>mean</th>\n",
       "      <td>5.908252</td>\n",
       "      <td>5.258506</td>\n",
       "    </tr>\n",
       "    <tr>\n",
       "      <th>std</th>\n",
       "      <td>2.777214</td>\n",
       "      <td>3.026271</td>\n",
       "    </tr>\n",
       "    <tr>\n",
       "      <th>min</th>\n",
       "      <td>1.000000</td>\n",
       "      <td>1.000000</td>\n",
       "    </tr>\n",
       "    <tr>\n",
       "      <th>25%</th>\n",
       "      <td>4.000000</td>\n",
       "      <td>3.000000</td>\n",
       "    </tr>\n",
       "    <tr>\n",
       "      <th>50%</th>\n",
       "      <td>6.000000</td>\n",
       "      <td>4.000000</td>\n",
       "    </tr>\n",
       "    <tr>\n",
       "      <th>75%</th>\n",
       "      <td>8.000000</td>\n",
       "      <td>7.000000</td>\n",
       "    </tr>\n",
       "    <tr>\n",
       "      <th>max</th>\n",
       "      <td>15.000000</td>\n",
       "      <td>15.000000</td>\n",
       "    </tr>\n",
       "  </tbody>\n",
       "</table>\n",
       "</div>"
      ],
      "text/plain": [
       "at_fault                      0             1\n",
       "distance    count  22878.000000  13961.000000\n",
       "            mean     383.184797    698.414036\n",
       "            std     1220.842740   2495.056702\n",
       "            min        1.000000      1.000000\n",
       "            25%        1.000000      1.000000\n",
       "            50%       60.000000    100.000000\n",
       "            75%      310.000000    500.000000\n",
       "            max    63360.000000  79200.000000\n",
       "vehicle_age count  22878.000000  13961.000000\n",
       "            mean       5.908252      5.258506\n",
       "            std        2.777214      3.026271\n",
       "            min        1.000000      1.000000\n",
       "            25%        4.000000      3.000000\n",
       "            50%        6.000000      4.000000\n",
       "            75%        8.000000      7.000000\n",
       "            max       15.000000     15.000000"
      ]
     },
     "execution_count": 49,
     "metadata": {},
     "output_type": "execute_result"
    }
   ],
   "source": [
    "df_main.groupby('at_fault')[df_main_numeric].describe().T\n"
   ]
  },
  {
   "cell_type": "markdown",
   "metadata": {},
   "source": [
    "**Наблюдения:**\n",
    "- Видно, что средние по дистанции отличаются (для невиновных среднее ниже).\n",
    "- По возрасту авто средние близки, проверим т-тестом."
   ]
  },
  {
   "cell_type": "markdown",
   "metadata": {},
   "source": [
    "**Проверка влияния distance на таргет методом Т-тест**\n",
    "\n",
    "- Нулевая гипотеза (H0): средние distance  у виновников и не виновников равны.\n",
    "- Альтернативная гипотеза (Н1): средний distance у не виновников ниже."
   ]
  },
  {
   "cell_type": "code",
   "execution_count": 50,
   "metadata": {},
   "outputs": [
    {
     "name": "stdout",
     "output_type": "stream",
     "text": [
      "P-значение: 4.357640935383543e-59\n",
      "Отвергаем нулевую гипотезу в пользу альтернативной.\n"
     ]
    }
   ],
   "source": [
    "group_1 = df_main[df_main['at_fault'] == 0]['distance'].dropna()\n",
    "group_2 = df_main[df_main['at_fault'] == 1]['distance'].dropna()\n",
    "\n",
    "results = ttest_ind(group_1, group_2, alternative='less')\n",
    "\n",
    "print(f\"P-значение: {results.pvalue}\") \n",
    "\n",
    "if results.pvalue < 0.05:\n",
    "    print(\"Отвергаем нулевую гипотезу в пользу альтернативной.\")\n",
    "else:\n",
    "    print(\"Нет оснований отвергать нулевую гипотезу.\")"
   ]
  },
  {
   "cell_type": "markdown",
   "metadata": {},
   "source": [
    "**Проверка влияния vehicle_age на таргет методом Т-тест**\n",
    "\n",
    "- Нулевая гипотеза (H0): средние vehicle_age  у виновников и не виновников равны.\n",
    "- Альтернативная гипотеза (Н1): средний vehicle_age у виновников ниже."
   ]
  },
  {
   "cell_type": "code",
   "execution_count": 51,
   "metadata": {},
   "outputs": [
    {
     "name": "stdout",
     "output_type": "stream",
     "text": [
      "P-значение: 4.324741633485444e-98\n",
      "Отвергаем нулевую гипотезу в пользу альтернативной.\n"
     ]
    }
   ],
   "source": [
    "group_1 = df_main[df_main['at_fault'] == 1]['vehicle_age'].dropna()\n",
    "group_2 = df_main[df_main['at_fault'] == 0]['vehicle_age'].dropna()\n",
    "\n",
    "results = ttest_ind(group_1, group_2, alternative='less')\n",
    "\n",
    "print(f\"P-значение: {results.pvalue}\") \n",
    "\n",
    "if results.pvalue < 0.05:\n",
    "    print(\"Отвергаем нулевую гипотезу в пользу альтернативной.\")\n",
    "else:\n",
    "    print(\"Нет оснований отвергать нулевую гипотезу.\")"
   ]
  },
  {
   "cell_type": "markdown",
   "metadata": {},
   "source": [
    "Исходя из статистического исследования, различия в дистанции и в возрасте ТС являются статистически значимыми для двух групп участников движения. \n",
    "\n",
    "Проверим также при помощи feature_importance."
   ]
  },
  {
   "cell_type": "markdown",
   "metadata": {},
   "source": [
    "### 4.2.2 Категориальные"
   ]
  },
  {
   "cell_type": "markdown",
   "metadata": {},
   "source": [
    "Отделение месяца и дня недели"
   ]
  },
  {
   "cell_type": "code",
   "execution_count": 52,
   "metadata": {},
   "outputs": [],
   "source": [
    "def extract_day_month_name(df, col):\n",
    "    df['day_of_week'] = df[col].dt.day_name()\n",
    "    df['month_name'] = df[col].dt.month_name()"
   ]
  },
  {
   "cell_type": "code",
   "execution_count": 53,
   "metadata": {},
   "outputs": [],
   "source": [
    "# Основная \n",
    "extract_day_month_name(df_main, 'collision_date')\n",
    "\n",
    "# Тестовая\n",
    "extract_day_month_name(df_test, 'collision_date')"
   ]
  },
  {
   "cell_type": "markdown",
   "metadata": {},
   "source": [
    "Время суток"
   ]
  },
  {
   "cell_type": "code",
   "execution_count": 54,
   "metadata": {},
   "outputs": [],
   "source": [
    "def extract_part_of_day(df, col):\n",
    "    # Преобразуем столбец в datetime и извлекаем время\n",
    "    df[col] = pd.to_datetime(df[col], format='%H:%M:%S', errors='coerce').dt.time\n",
    "\n",
    "    df.dropna(subset=[col], inplace=True)\n",
    "\n",
    "    morning_start = datetime.time(6, 0)\n",
    "    afternoon_start = datetime.time(12, 0)\n",
    "    evening_start = datetime.time(18, 0)\n",
    "    night_start = datetime.time(22, 0)\n",
    "\n",
    "    def part_of_day(time):\n",
    "        if time is None:  \n",
    "            return None\n",
    "        if morning_start <= time < afternoon_start:\n",
    "            return 'Morning'\n",
    "        elif afternoon_start <= time < evening_start:\n",
    "            return 'Afternoon'\n",
    "        elif evening_start <= time < night_start:\n",
    "            return 'Evening'\n",
    "        else:\n",
    "            return 'Night'\n",
    "\n",
    "    df['part_of_day'] = df[col].apply(part_of_day)"
   ]
  },
  {
   "cell_type": "code",
   "execution_count": 55,
   "metadata": {},
   "outputs": [],
   "source": [
    "# Основной\n",
    "extract_part_of_day(df_main, 'collision_time')\n",
    "\n",
    "# Тестовый\n",
    "extract_part_of_day(df_test, 'collision_time')"
   ]
  },
  {
   "cell_type": "code",
   "execution_count": 56,
   "metadata": {},
   "outputs": [],
   "source": [
    "df_main_cat = [ \n",
    "    'county_city_location', \n",
    "    'county_location', \n",
    "    'direction', \n",
    "    'intersection', \n",
    "    'road_surface', \n",
    "    'road_condition_1', \n",
    "    'vehicle_type', \n",
    "    'vehicle_transmission',\n",
    "    'month_name', \n",
    "    'day_of_week', \n",
    "    'part_of_day']"
   ]
  },
  {
   "cell_type": "code",
   "execution_count": 57,
   "metadata": {},
   "outputs": [
    {
     "name": "stdout",
     "output_type": "stream",
     "text": [
      "___________Number of unique values for county_city_location:___________\n"
     ]
    },
    {
     "data": {
      "text/plain": [
       "473"
      ]
     },
     "metadata": {},
     "output_type": "display_data"
    },
    {
     "name": "stdout",
     "output_type": "stream",
     "text": [
      "___________Unique values for county_city_location:___________\n"
     ]
    },
    {
     "data": {
      "text/plain": [
       "county_city_location\n",
       "1942    0.164960\n",
       "3711    0.038321\n",
       "1900    0.025393\n",
       "4313    0.022514\n",
       "3400    0.017571\n",
       "          ...   \n",
       "5003    0.000027\n",
       "2403    0.000027\n",
       "4112    0.000027\n",
       "4709    0.000027\n",
       "0401    0.000027\n",
       "Name: proportion, Length: 473, dtype: float64"
      ]
     },
     "metadata": {},
     "output_type": "display_data"
    },
    {
     "name": "stdout",
     "output_type": "stream",
     "text": [
      "___________Number of unique values for county_location:___________\n"
     ]
    },
    {
     "data": {
      "text/plain": [
       "58"
      ]
     },
     "metadata": {},
     "output_type": "display_data"
    },
    {
     "name": "stdout",
     "output_type": "stream",
     "text": [
      "___________Unique values for county_location:___________\n"
     ]
    },
    {
     "data": {
      "text/plain": [
       "county_location\n",
       "los angeles        0.331686\n",
       "orange             0.097227\n",
       "san diego          0.083566\n",
       "riverside          0.049591\n",
       "san bernardino     0.048912\n",
       "sacramento         0.043236\n",
       "santa clara        0.039733\n",
       "alameda            0.037805\n",
       "ventura            0.024090\n",
       "kern               0.021129\n",
       "contra costa       0.020586\n",
       "san mateo          0.017897\n",
       "san joaquin        0.014421\n",
       "fresno             0.013769\n",
       "stanislaus         0.013226\n",
       "sonoma             0.013118\n",
       "santa barbara      0.011325\n",
       "solano             0.010836\n",
       "san francisco      0.010755\n",
       "placer             0.009750\n",
       "tulare             0.008799\n",
       "monterey           0.007197\n",
       "santa cruz         0.006328\n",
       "marin              0.006192\n",
       "napa               0.005405\n",
       "merced             0.005214\n",
       "butte              0.004726\n",
       "san luis obispo    0.004698\n",
       "madera             0.003612\n",
       "yolo               0.003395\n",
       "el dorado          0.003205\n",
       "humboldt           0.003178\n",
       "imperial           0.003015\n",
       "kings              0.002960\n",
       "shasta             0.002553\n",
       "sutter             0.002336\n",
       "mendocino          0.002037\n",
       "nevada             0.001467\n",
       "calaveras          0.001249\n",
       "lake               0.001141\n",
       "tuolumne           0.001141\n",
       "tehama             0.001113\n",
       "yuba               0.001059\n",
       "amador             0.001032\n",
       "san benito         0.001005\n",
       "lassen             0.000435\n",
       "siskiyou           0.000435\n",
       "inyo               0.000407\n",
       "del norte          0.000407\n",
       "plumas             0.000380\n",
       "glenn              0.000353\n",
       "colusa             0.000217\n",
       "trinity            0.000190\n",
       "sierra             0.000136\n",
       "mariposa           0.000136\n",
       "mono               0.000081\n",
       "modoc              0.000081\n",
       "alpine             0.000027\n",
       "Name: proportion, dtype: float64"
      ]
     },
     "metadata": {},
     "output_type": "display_data"
    },
    {
     "name": "stdout",
     "output_type": "stream",
     "text": [
      "___________Number of unique values for direction:___________\n"
     ]
    },
    {
     "data": {
      "text/plain": [
       "4"
      ]
     },
     "metadata": {},
     "output_type": "display_data"
    },
    {
     "name": "stdout",
     "output_type": "stream",
     "text": [
      "___________Unique values for direction:___________\n"
     ]
    },
    {
     "data": {
      "text/plain": [
       "direction\n",
       "north    0.274166\n",
       "south    0.271743\n",
       "east     0.229488\n",
       "west     0.224602\n",
       "Name: proportion, dtype: float64"
      ]
     },
     "metadata": {},
     "output_type": "display_data"
    },
    {
     "name": "stdout",
     "output_type": "stream",
     "text": [
      "___________Number of unique values for intersection:___________\n"
     ]
    },
    {
     "data": {
      "text/plain": [
       "2"
      ]
     },
     "metadata": {},
     "output_type": "display_data"
    },
    {
     "name": "stdout",
     "output_type": "stream",
     "text": [
      "___________Unique values for intersection:___________\n"
     ]
    },
    {
     "data": {
      "text/plain": [
       "intersection\n",
       "0.0    0.707199\n",
       "1.0    0.292801\n",
       "Name: proportion, dtype: float64"
      ]
     },
     "metadata": {},
     "output_type": "display_data"
    },
    {
     "name": "stdout",
     "output_type": "stream",
     "text": [
      "___________Number of unique values for road_surface:___________\n"
     ]
    },
    {
     "data": {
      "text/plain": [
       "4"
      ]
     },
     "metadata": {},
     "output_type": "display_data"
    },
    {
     "name": "stdout",
     "output_type": "stream",
     "text": [
      "___________Unique values for road_surface:___________\n"
     ]
    },
    {
     "data": {
      "text/plain": [
       "road_surface\n",
       "dry         0.894305\n",
       "wet         0.101637\n",
       "snowy       0.003509\n",
       "slippery    0.000548\n",
       "Name: proportion, dtype: float64"
      ]
     },
     "metadata": {},
     "output_type": "display_data"
    },
    {
     "name": "stdout",
     "output_type": "stream",
     "text": [
      "___________Number of unique values for road_condition_1:___________\n"
     ]
    },
    {
     "data": {
      "text/plain": [
       "8"
      ]
     },
     "metadata": {},
     "output_type": "display_data"
    },
    {
     "name": "stdout",
     "output_type": "stream",
     "text": [
      "___________Unique values for road_condition_1:___________\n"
     ]
    },
    {
     "data": {
      "text/plain": [
       "road_condition_1\n",
       "normal            0.971380\n",
       "construction      0.015226\n",
       "holes             0.005850\n",
       "obstruction       0.002898\n",
       "other             0.002296\n",
       "loose material    0.001039\n",
       "reduced width     0.000656\n",
       "flooded           0.000656\n",
       "Name: proportion, dtype: float64"
      ]
     },
     "metadata": {},
     "output_type": "display_data"
    },
    {
     "name": "stdout",
     "output_type": "stream",
     "text": [
      "___________Number of unique values for vehicle_type:___________\n"
     ]
    },
    {
     "data": {
      "text/plain": [
       "3"
      ]
     },
     "metadata": {},
     "output_type": "display_data"
    },
    {
     "name": "stdout",
     "output_type": "stream",
     "text": [
      "___________Unique values for vehicle_type:___________\n"
     ]
    },
    {
     "data": {
      "text/plain": [
       "vehicle_type\n",
       "coupe    0.691589\n",
       "sedan    0.308058\n",
       "other    0.000353\n",
       "Name: proportion, dtype: float64"
      ]
     },
     "metadata": {},
     "output_type": "display_data"
    },
    {
     "name": "stdout",
     "output_type": "stream",
     "text": [
      "___________Number of unique values for vehicle_transmission:___________\n"
     ]
    },
    {
     "data": {
      "text/plain": [
       "2"
      ]
     },
     "metadata": {},
     "output_type": "display_data"
    },
    {
     "name": "stdout",
     "output_type": "stream",
     "text": [
      "___________Unique values for vehicle_transmission:___________\n"
     ]
    },
    {
     "data": {
      "text/plain": [
       "vehicle_transmission\n",
       "auto      0.570131\n",
       "manual    0.429869\n",
       "Name: proportion, dtype: float64"
      ]
     },
     "metadata": {},
     "output_type": "display_data"
    },
    {
     "name": "stdout",
     "output_type": "stream",
     "text": [
      "___________Number of unique values for month_name:___________\n"
     ]
    },
    {
     "data": {
      "text/plain": [
       "12"
      ]
     },
     "metadata": {},
     "output_type": "display_data"
    },
    {
     "name": "stdout",
     "output_type": "stream",
     "text": [
      "___________Unique values for month_name:___________\n"
     ]
    },
    {
     "data": {
      "text/plain": [
       "month_name\n",
       "March        0.217512\n",
       "January      0.209799\n",
       "February     0.201570\n",
       "April        0.189783\n",
       "May          0.159447\n",
       "June         0.016838\n",
       "August       0.001928\n",
       "September    0.001657\n",
       "July         0.000760\n",
       "October      0.000489\n",
       "December     0.000136\n",
       "November     0.000081\n",
       "Name: proportion, dtype: float64"
      ]
     },
     "metadata": {},
     "output_type": "display_data"
    },
    {
     "name": "stdout",
     "output_type": "stream",
     "text": [
      "___________Number of unique values for day_of_week:___________\n"
     ]
    },
    {
     "data": {
      "text/plain": [
       "7"
      ]
     },
     "metadata": {},
     "output_type": "display_data"
    },
    {
     "name": "stdout",
     "output_type": "stream",
     "text": [
      "___________Unique values for day_of_week:___________\n"
     ]
    },
    {
     "data": {
      "text/plain": [
       "day_of_week\n",
       "Friday       0.168708\n",
       "Tuesday      0.156650\n",
       "Wednesday    0.154205\n",
       "Thursday     0.148774\n",
       "Monday       0.137612\n",
       "Saturday     0.129356\n",
       "Sunday       0.104696\n",
       "Name: proportion, dtype: float64"
      ]
     },
     "metadata": {},
     "output_type": "display_data"
    },
    {
     "name": "stdout",
     "output_type": "stream",
     "text": [
      "___________Number of unique values for part_of_day:___________\n"
     ]
    },
    {
     "data": {
      "text/plain": [
       "4"
      ]
     },
     "metadata": {},
     "output_type": "display_data"
    },
    {
     "name": "stdout",
     "output_type": "stream",
     "text": [
      "___________Unique values for part_of_day:___________\n"
     ]
    },
    {
     "data": {
      "text/plain": [
       "part_of_day\n",
       "Afternoon    0.450477\n",
       "Morning      0.288640\n",
       "Evening      0.172157\n",
       "Night        0.088727\n",
       "Name: proportion, dtype: float64"
      ]
     },
     "metadata": {},
     "output_type": "display_data"
    }
   ],
   "source": [
    "for col in df_main_cat:\n",
    "    show_info_about_categories(df_main, col)"
   ]
  },
  {
   "cell_type": "markdown",
   "metadata": {},
   "source": [
    "Схлопнем некоторые категории."
   ]
  },
  {
   "cell_type": "markdown",
   "metadata": {},
   "source": [
    "`county_city_location`"
   ]
  },
  {
   "cell_type": "code",
   "execution_count": 58,
   "metadata": {},
   "outputs": [
    {
     "data": {
      "text/plain": [
       "county_city_location_new\n",
       "Other    0.639716\n",
       "1942     0.164960\n",
       "3711     0.038321\n",
       "1900     0.025393\n",
       "4313     0.022514\n",
       "3400     0.017571\n",
       "3404     0.016268\n",
       "3001     0.016214\n",
       "3700     0.013145\n",
       "0109     0.012221\n",
       "3019     0.011597\n",
       "1500     0.011325\n",
       "3801     0.010755\n",
       "Name: proportion, dtype: float64"
      ]
     },
     "execution_count": 58,
     "metadata": {},
     "output_type": "execute_result"
    }
   ],
   "source": [
    "remove_rare_categories(df_main, 'county_city_location', threshold=0.01)"
   ]
  },
  {
   "cell_type": "code",
   "execution_count": 59,
   "metadata": {},
   "outputs": [
    {
     "data": {
      "text/plain": [
       "county_city_location_new\n",
       "Other    0.644114\n",
       "1942     0.161707\n",
       "3711     0.033341\n",
       "1900     0.029648\n",
       "4313     0.021286\n",
       "3400     0.017919\n",
       "3404     0.017485\n",
       "3001     0.015096\n",
       "3019     0.014987\n",
       "3313     0.011512\n",
       "3801     0.011512\n",
       "0109     0.010860\n",
       "3700     0.010534\n",
       "Name: proportion, dtype: float64"
      ]
     },
     "execution_count": 59,
     "metadata": {},
     "output_type": "execute_result"
    }
   ],
   "source": [
    "remove_rare_categories(df_test, 'county_city_location', threshold=0.01)"
   ]
  },
  {
   "cell_type": "markdown",
   "metadata": {},
   "source": [
    "`county_location`"
   ]
  },
  {
   "cell_type": "code",
   "execution_count": 60,
   "metadata": {},
   "outputs": [
    {
     "data": {
      "text/plain": [
       "county_location_new\n",
       "los angeles       0.331686\n",
       "orange            0.097227\n",
       "Other             0.097091\n",
       "san diego         0.083566\n",
       "riverside         0.049591\n",
       "san bernardino    0.048912\n",
       "sacramento        0.043236\n",
       "santa clara       0.039733\n",
       "alameda           0.037805\n",
       "ventura           0.024090\n",
       "kern              0.021129\n",
       "contra costa      0.020586\n",
       "san mateo         0.017897\n",
       "san joaquin       0.014421\n",
       "fresno            0.013769\n",
       "stanislaus        0.013226\n",
       "sonoma            0.013118\n",
       "santa barbara     0.011325\n",
       "solano            0.010836\n",
       "san francisco     0.010755\n",
       "Name: proportion, dtype: float64"
      ]
     },
     "execution_count": 60,
     "metadata": {},
     "output_type": "execute_result"
    }
   ],
   "source": [
    "remove_rare_categories(df_main, 'county_location', threshold=0.01)"
   ]
  },
  {
   "cell_type": "code",
   "execution_count": 61,
   "metadata": {},
   "outputs": [
    {
     "data": {
      "text/plain": [
       "county_location_new\n",
       "los angeles       0.331777\n",
       "orange            0.102302\n",
       "Other             0.099262\n",
       "san diego         0.077107\n",
       "riverside         0.051151\n",
       "san bernardino    0.048002\n",
       "sacramento        0.044526\n",
       "santa clara       0.038771\n",
       "alameda           0.036056\n",
       "ventura           0.024109\n",
       "contra costa      0.020960\n",
       "kern              0.019005\n",
       "san mateo         0.016833\n",
       "sonoma            0.015096\n",
       "stanislaus        0.014227\n",
       "fresno            0.014010\n",
       "san joaquin       0.013684\n",
       "san francisco     0.011512\n",
       "santa barbara     0.011512\n",
       "solano            0.010100\n",
       "Name: proportion, dtype: float64"
      ]
     },
     "execution_count": 61,
     "metadata": {},
     "output_type": "execute_result"
    }
   ],
   "source": [
    "remove_rare_categories(df_test, 'county_location', threshold=0.01)"
   ]
  },
  {
   "cell_type": "markdown",
   "metadata": {},
   "source": [
    "Многие признаки имеют весьма большое число категорий. Определить значимость будет возможно только с моделью, которая хорошо работает с high-cardinality категориальными признаками (например, CatBoost, LightGBM)."
   ]
  },
  {
   "cell_type": "code",
   "execution_count": 62,
   "metadata": {},
   "outputs": [
    {
     "name": "stdout",
     "output_type": "stream",
     "text": [
      "________________Head________________\n"
     ]
    },
    {
     "data": {
      "text/html": [
       "<div>\n",
       "<style scoped>\n",
       "    .dataframe tbody tr th:only-of-type {\n",
       "        vertical-align: middle;\n",
       "    }\n",
       "\n",
       "    .dataframe tbody tr th {\n",
       "        vertical-align: top;\n",
       "    }\n",
       "\n",
       "    .dataframe thead th {\n",
       "        text-align: right;\n",
       "    }\n",
       "</style>\n",
       "<table border=\"1\" class=\"dataframe\">\n",
       "  <thead>\n",
       "    <tr style=\"text-align: right;\">\n",
       "      <th></th>\n",
       "      <th>at_fault</th>\n",
       "      <th>county_city_location</th>\n",
       "      <th>county_location</th>\n",
       "      <th>distance</th>\n",
       "      <th>direction</th>\n",
       "      <th>intersection</th>\n",
       "      <th>road_surface</th>\n",
       "      <th>road_condition_1</th>\n",
       "      <th>collision_date</th>\n",
       "      <th>collision_time</th>\n",
       "      <th>vehicle_type</th>\n",
       "      <th>vehicle_transmission</th>\n",
       "      <th>vehicle_age</th>\n",
       "      <th>distance_log</th>\n",
       "      <th>vehicle_age_log</th>\n",
       "      <th>day_of_week</th>\n",
       "      <th>month_name</th>\n",
       "      <th>part_of_day</th>\n",
       "      <th>county_city_location_new</th>\n",
       "      <th>county_location_new</th>\n",
       "    </tr>\n",
       "  </thead>\n",
       "  <tbody>\n",
       "    <tr>\n",
       "      <th>7422</th>\n",
       "      <td>1</td>\n",
       "      <td>3310</td>\n",
       "      <td>riverside</td>\n",
       "      <td>428.0</td>\n",
       "      <td>east</td>\n",
       "      <td>0.0</td>\n",
       "      <td>wet</td>\n",
       "      <td>reduced width</td>\n",
       "      <td>2012-01-24</td>\n",
       "      <td>07:58:00</td>\n",
       "      <td>coupe</td>\n",
       "      <td>manual</td>\n",
       "      <td>3</td>\n",
       "      <td>6.059123</td>\n",
       "      <td>1.098612</td>\n",
       "      <td>Tuesday</td>\n",
       "      <td>January</td>\n",
       "      <td>Morning</td>\n",
       "      <td>Other</td>\n",
       "      <td>riverside</td>\n",
       "    </tr>\n",
       "    <tr>\n",
       "      <th>33869</th>\n",
       "      <td>1</td>\n",
       "      <td>0700</td>\n",
       "      <td>contra costa</td>\n",
       "      <td>2130.0</td>\n",
       "      <td>south</td>\n",
       "      <td>0.0</td>\n",
       "      <td>dry</td>\n",
       "      <td>normal</td>\n",
       "      <td>2012-04-19</td>\n",
       "      <td>09:11:00</td>\n",
       "      <td>coupe</td>\n",
       "      <td>auto</td>\n",
       "      <td>5</td>\n",
       "      <td>7.663877</td>\n",
       "      <td>1.609438</td>\n",
       "      <td>Thursday</td>\n",
       "      <td>April</td>\n",
       "      <td>Morning</td>\n",
       "      <td>Other</td>\n",
       "      <td>contra costa</td>\n",
       "    </tr>\n",
       "    <tr>\n",
       "      <th>4396</th>\n",
       "      <td>1</td>\n",
       "      <td>3496</td>\n",
       "      <td>sacramento</td>\n",
       "      <td>18.0</td>\n",
       "      <td>north</td>\n",
       "      <td>0.0</td>\n",
       "      <td>dry</td>\n",
       "      <td>normal</td>\n",
       "      <td>2012-01-06</td>\n",
       "      <td>11:00:00</td>\n",
       "      <td>sedan</td>\n",
       "      <td>manual</td>\n",
       "      <td>1</td>\n",
       "      <td>2.890372</td>\n",
       "      <td>0.000000</td>\n",
       "      <td>Friday</td>\n",
       "      <td>January</td>\n",
       "      <td>Morning</td>\n",
       "      <td>Other</td>\n",
       "      <td>sacramento</td>\n",
       "    </tr>\n",
       "    <tr>\n",
       "      <th>2156</th>\n",
       "      <td>1</td>\n",
       "      <td>1900</td>\n",
       "      <td>los angeles</td>\n",
       "      <td>3600.0</td>\n",
       "      <td>south</td>\n",
       "      <td>0.0</td>\n",
       "      <td>dry</td>\n",
       "      <td>normal</td>\n",
       "      <td>2012-01-30</td>\n",
       "      <td>07:55:00</td>\n",
       "      <td>coupe</td>\n",
       "      <td>manual</td>\n",
       "      <td>4</td>\n",
       "      <td>8.188689</td>\n",
       "      <td>1.386294</td>\n",
       "      <td>Monday</td>\n",
       "      <td>January</td>\n",
       "      <td>Morning</td>\n",
       "      <td>1900</td>\n",
       "      <td>los angeles</td>\n",
       "    </tr>\n",
       "    <tr>\n",
       "      <th>39669</th>\n",
       "      <td>1</td>\n",
       "      <td>1954</td>\n",
       "      <td>los angeles</td>\n",
       "      <td>100.0</td>\n",
       "      <td>east</td>\n",
       "      <td>0.0</td>\n",
       "      <td>dry</td>\n",
       "      <td>normal</td>\n",
       "      <td>2012-03-29</td>\n",
       "      <td>20:45:00</td>\n",
       "      <td>coupe</td>\n",
       "      <td>auto</td>\n",
       "      <td>6</td>\n",
       "      <td>4.605170</td>\n",
       "      <td>1.791759</td>\n",
       "      <td>Thursday</td>\n",
       "      <td>March</td>\n",
       "      <td>Evening</td>\n",
       "      <td>Other</td>\n",
       "      <td>los angeles</td>\n",
       "    </tr>\n",
       "  </tbody>\n",
       "</table>\n",
       "</div>"
      ],
      "text/plain": [
       "       at_fault county_city_location county_location  distance direction  \\\n",
       "7422          1                 3310       riverside     428.0      east   \n",
       "33869         1                 0700    contra costa    2130.0     south   \n",
       "4396          1                 3496      sacramento      18.0     north   \n",
       "2156          1                 1900     los angeles    3600.0     south   \n",
       "39669         1                 1954     los angeles     100.0      east   \n",
       "\n",
       "       intersection road_surface road_condition_1 collision_date  \\\n",
       "7422            0.0          wet    reduced width     2012-01-24   \n",
       "33869           0.0          dry           normal     2012-04-19   \n",
       "4396            0.0          dry           normal     2012-01-06   \n",
       "2156            0.0          dry           normal     2012-01-30   \n",
       "39669           0.0          dry           normal     2012-03-29   \n",
       "\n",
       "      collision_time vehicle_type vehicle_transmission  vehicle_age  \\\n",
       "7422        07:58:00        coupe               manual            3   \n",
       "33869       09:11:00        coupe                 auto            5   \n",
       "4396        11:00:00        sedan               manual            1   \n",
       "2156        07:55:00        coupe               manual            4   \n",
       "39669       20:45:00        coupe                 auto            6   \n",
       "\n",
       "       distance_log  vehicle_age_log day_of_week month_name part_of_day  \\\n",
       "7422       6.059123         1.098612     Tuesday    January     Morning   \n",
       "33869      7.663877         1.609438    Thursday      April     Morning   \n",
       "4396       2.890372         0.000000      Friday    January     Morning   \n",
       "2156       8.188689         1.386294      Monday    January     Morning   \n",
       "39669      4.605170         1.791759    Thursday      March     Evening   \n",
       "\n",
       "      county_city_location_new county_location_new  \n",
       "7422                     Other           riverside  \n",
       "33869                    Other        contra costa  \n",
       "4396                     Other          sacramento  \n",
       "2156                      1900         los angeles  \n",
       "39669                    Other         los angeles  "
      ]
     },
     "metadata": {},
     "output_type": "display_data"
    },
    {
     "name": "stdout",
     "output_type": "stream",
     "text": [
      "________________Data Types Info________________\n",
      "<class 'pandas.core.frame.DataFrame'>\n",
      "Index: 36821 entries, 7422 to 15795\n",
      "Data columns (total 20 columns):\n",
      " #   Column                    Non-Null Count  Dtype         \n",
      "---  ------                    --------------  -----         \n",
      " 0   at_fault                  36821 non-null  int64         \n",
      " 1   county_city_location      36821 non-null  object        \n",
      " 2   county_location           36821 non-null  object        \n",
      " 3   distance                  36821 non-null  float64       \n",
      " 4   direction                 25583 non-null  object        \n",
      " 5   intersection              36687 non-null  float64       \n",
      " 6   road_surface              36473 non-null  object        \n",
      " 7   road_condition_1          36583 non-null  object        \n",
      " 8   collision_date            36821 non-null  datetime64[ns]\n",
      " 9   collision_time            36821 non-null  object        \n",
      " 10  vehicle_type              36821 non-null  object        \n",
      " 11  vehicle_transmission      36104 non-null  object        \n",
      " 12  vehicle_age               36821 non-null  int64         \n",
      " 13  distance_log              36821 non-null  float64       \n",
      " 14  vehicle_age_log           36821 non-null  float64       \n",
      " 15  day_of_week               36821 non-null  object        \n",
      " 16  month_name                36821 non-null  object        \n",
      " 17  part_of_day               36821 non-null  object        \n",
      " 18  county_city_location_new  36821 non-null  object        \n",
      " 19  county_location_new       36821 non-null  object        \n",
      "dtypes: datetime64[ns](1), float64(4), int64(2), object(13)\n",
      "memory usage: 5.9+ MB\n"
     ]
    },
    {
     "data": {
      "text/plain": [
       "None"
      ]
     },
     "metadata": {},
     "output_type": "display_data"
    },
    {
     "name": "stdout",
     "output_type": "stream",
     "text": [
      "________________Shape________________\n"
     ]
    },
    {
     "data": {
      "text/plain": [
       "(36821, 20)"
      ]
     },
     "metadata": {},
     "output_type": "display_data"
    },
    {
     "name": "stdout",
     "output_type": "stream",
     "text": [
      "________________Duplicates________________\n"
     ]
    },
    {
     "data": {
      "text/plain": [
       "81"
      ]
     },
     "metadata": {},
     "output_type": "display_data"
    },
    {
     "name": "stdout",
     "output_type": "stream",
     "text": [
      "________________Proportion of Missing Data________________\n"
     ]
    },
    {
     "data": {
      "text/plain": [
       "at_fault                    0.000000\n",
       "county_city_location        0.000000\n",
       "county_location             0.000000\n",
       "distance                    0.000000\n",
       "direction                   0.305206\n",
       "intersection                0.003639\n",
       "road_surface                0.009451\n",
       "road_condition_1            0.006464\n",
       "collision_date              0.000000\n",
       "collision_time              0.000000\n",
       "vehicle_type                0.000000\n",
       "vehicle_transmission        0.019473\n",
       "vehicle_age                 0.000000\n",
       "distance_log                0.000000\n",
       "vehicle_age_log             0.000000\n",
       "day_of_week                 0.000000\n",
       "month_name                  0.000000\n",
       "part_of_day                 0.000000\n",
       "county_city_location_new    0.000000\n",
       "county_location_new         0.000000\n",
       "dtype: float64"
      ]
     },
     "metadata": {},
     "output_type": "display_data"
    }
   ],
   "source": [
    "display_main_info(df_main)"
   ]
  },
  {
   "cell_type": "markdown",
   "metadata": {},
   "source": [
    "# 5. Моделирование"
   ]
  },
  {
   "cell_type": "markdown",
   "metadata": {},
   "source": [
    "## 5.1  Выбор метрики"
   ]
  },
  {
   "cell_type": "markdown",
   "metadata": {},
   "source": [
    "**Метрика**\n",
    "\n",
    "В такой задаче важно, чтобы метрика улавливала ошибки второго рода, т.е. False Negative, т.к. ошибки второго рода критичны (лучше ошибиться в сторону обвинения, чем пропустить виновного). \n",
    "\n",
    "В данном случае я выбираю в качестве метрики **Recall**. Пропуск реального виновника будет иметь серьёзные последствия (например, в судебных разбирательствах, страховых выплатах и т. д.)."
   ]
  },
  {
   "cell_type": "markdown",
   "metadata": {},
   "source": [
    "## 5.2 Модель 1 - Random Forest Classifier"
   ]
  },
  {
   "cell_type": "code",
   "execution_count": 63,
   "metadata": {},
   "outputs": [],
   "source": [
    "cols_to_keep = [\n",
    "    'at_fault',  \n",
    "    'direction', \n",
    "    'road_surface', \n",
    "    'road_condition_1',\n",
    "    'vehicle_type',\n",
    "    'vehicle_transmission',\n",
    "    'distance_log',\n",
    "    'vehicle_age_log',\n",
    "    'day_of_week', \n",
    "    'month_name', \n",
    "    'part_of_day',\n",
    "    'county_city_location_new', \n",
    "    'county_location_new'\n",
    "]"
   ]
  },
  {
   "cell_type": "code",
   "execution_count": 64,
   "metadata": {},
   "outputs": [],
   "source": [
    "df_rf = df_main[cols_to_keep]\n",
    "\n",
    "target = 'at_fault'\n",
    "\n",
    "features = df_rf.drop(target, axis=1)\n",
    "\n",
    "numeric = features.select_dtypes(exclude='object').columns.to_list()\n",
    "categorical = features.select_dtypes(include='object').columns.to_list()\n",
    "\n",
    "X_train = features\n",
    "y_train = df_rf[target]"
   ]
  },
  {
   "cell_type": "code",
   "execution_count": 65,
   "metadata": {},
   "outputs": [],
   "source": [
    "# ======== Categorical transformer with imputation ========\n",
    "categorical_transformer = Pipeline(steps=[\n",
    "    ('imputer', SimpleImputer(strategy='constant', fill_value='unknown')),\n",
    "    ('encoder', OrdinalEncoder(handle_unknown='use_encoded_value', unknown_value=np.nan))\n",
    "])\n",
    "\n",
    "preprocessor = ColumnTransformer(\n",
    "    transformers=[\n",
    "        ('cat', categorical_transformer, categorical)\n",
    "    ],\n",
    "    remainder='passthrough'\n",
    ")\n",
    "\n",
    "# ======== Pipeline with preprocessing and model ========\n",
    "accidents_pipe = Pipeline(steps=[\n",
    "    ('preprocessor', preprocessor),\n",
    "    ('estimator', RandomForestClassifier(random_state=RANDOM_STATE))\n",
    "])\n",
    "\n",
    "# ======== Params for Search ========\n",
    "param_grid = [\n",
    "    {\n",
    "        'estimator': [RandomForestClassifier(class_weight='balanced', random_state=RANDOM_STATE)],\n",
    "        'estimator__n_estimators': [50, 100, 200, 300],\n",
    "        'estimator__max_depth': range(3, 20, 2),\n",
    "        'estimator__min_samples_split': range(2, 15, 2),\n",
    "        'estimator__min_samples_leaf': range(1, 10, 2),\n",
    "        'estimator__max_features': ['sqrt', 'log2', None],\n",
    "        'estimator__bootstrap': [True, False]\n",
    "    }\n",
    "]"
   ]
  },
  {
   "cell_type": "code",
   "execution_count": 66,
   "metadata": {},
   "outputs": [
    {
     "name": "stdout",
     "output_type": "stream",
     "text": [
      "CPU times: user 18 µs, sys: 1 µs, total: 19 µs\n",
      "Wall time: 25.7 µs\n"
     ]
    }
   ],
   "source": [
    "%%time\n",
    "search_rf = RandomizedSearchCV(\n",
    "    estimator = accidents_pipe,\n",
    "    param_distributions = param_grid,\n",
    "    n_iter=6,\n",
    "    scoring='recall',\n",
    "    n_jobs=-1,\n",
    "    cv=5,\n",
    "    random_state=RANDOM_STATE\n",
    ")"
   ]
  },
  {
   "cell_type": "code",
   "execution_count": 67,
   "metadata": {},
   "outputs": [
    {
     "name": "stdout",
     "output_type": "stream",
     "text": [
      "CPU times: user 6.3 s, sys: 414 ms, total: 6.71 s\n",
      "Wall time: 43.7 s\n"
     ]
    },
    {
     "data": {
      "text/html": [
       "<style>#sk-container-id-1 {\n",
       "  /* Definition of color scheme common for light and dark mode */\n",
       "  --sklearn-color-text: #000;\n",
       "  --sklearn-color-text-muted: #666;\n",
       "  --sklearn-color-line: gray;\n",
       "  /* Definition of color scheme for unfitted estimators */\n",
       "  --sklearn-color-unfitted-level-0: #fff5e6;\n",
       "  --sklearn-color-unfitted-level-1: #f6e4d2;\n",
       "  --sklearn-color-unfitted-level-2: #ffe0b3;\n",
       "  --sklearn-color-unfitted-level-3: chocolate;\n",
       "  /* Definition of color scheme for fitted estimators */\n",
       "  --sklearn-color-fitted-level-0: #f0f8ff;\n",
       "  --sklearn-color-fitted-level-1: #d4ebff;\n",
       "  --sklearn-color-fitted-level-2: #b3dbfd;\n",
       "  --sklearn-color-fitted-level-3: cornflowerblue;\n",
       "\n",
       "  /* Specific color for light theme */\n",
       "  --sklearn-color-text-on-default-background: var(--sg-text-color, var(--theme-code-foreground, var(--jp-content-font-color1, black)));\n",
       "  --sklearn-color-background: var(--sg-background-color, var(--theme-background, var(--jp-layout-color0, white)));\n",
       "  --sklearn-color-border-box: var(--sg-text-color, var(--theme-code-foreground, var(--jp-content-font-color1, black)));\n",
       "  --sklearn-color-icon: #696969;\n",
       "\n",
       "  @media (prefers-color-scheme: dark) {\n",
       "    /* Redefinition of color scheme for dark theme */\n",
       "    --sklearn-color-text-on-default-background: var(--sg-text-color, var(--theme-code-foreground, var(--jp-content-font-color1, white)));\n",
       "    --sklearn-color-background: var(--sg-background-color, var(--theme-background, var(--jp-layout-color0, #111)));\n",
       "    --sklearn-color-border-box: var(--sg-text-color, var(--theme-code-foreground, var(--jp-content-font-color1, white)));\n",
       "    --sklearn-color-icon: #878787;\n",
       "  }\n",
       "}\n",
       "\n",
       "#sk-container-id-1 {\n",
       "  color: var(--sklearn-color-text);\n",
       "}\n",
       "\n",
       "#sk-container-id-1 pre {\n",
       "  padding: 0;\n",
       "}\n",
       "\n",
       "#sk-container-id-1 input.sk-hidden--visually {\n",
       "  border: 0;\n",
       "  clip: rect(1px 1px 1px 1px);\n",
       "  clip: rect(1px, 1px, 1px, 1px);\n",
       "  height: 1px;\n",
       "  margin: -1px;\n",
       "  overflow: hidden;\n",
       "  padding: 0;\n",
       "  position: absolute;\n",
       "  width: 1px;\n",
       "}\n",
       "\n",
       "#sk-container-id-1 div.sk-dashed-wrapped {\n",
       "  border: 1px dashed var(--sklearn-color-line);\n",
       "  margin: 0 0.4em 0.5em 0.4em;\n",
       "  box-sizing: border-box;\n",
       "  padding-bottom: 0.4em;\n",
       "  background-color: var(--sklearn-color-background);\n",
       "}\n",
       "\n",
       "#sk-container-id-1 div.sk-container {\n",
       "  /* jupyter's `normalize.less` sets `[hidden] { display: none; }`\n",
       "     but bootstrap.min.css set `[hidden] { display: none !important; }`\n",
       "     so we also need the `!important` here to be able to override the\n",
       "     default hidden behavior on the sphinx rendered scikit-learn.org.\n",
       "     See: https://github.com/scikit-learn/scikit-learn/issues/21755 */\n",
       "  display: inline-block !important;\n",
       "  position: relative;\n",
       "}\n",
       "\n",
       "#sk-container-id-1 div.sk-text-repr-fallback {\n",
       "  display: none;\n",
       "}\n",
       "\n",
       "div.sk-parallel-item,\n",
       "div.sk-serial,\n",
       "div.sk-item {\n",
       "  /* draw centered vertical line to link estimators */\n",
       "  background-image: linear-gradient(var(--sklearn-color-text-on-default-background), var(--sklearn-color-text-on-default-background));\n",
       "  background-size: 2px 100%;\n",
       "  background-repeat: no-repeat;\n",
       "  background-position: center center;\n",
       "}\n",
       "\n",
       "/* Parallel-specific style estimator block */\n",
       "\n",
       "#sk-container-id-1 div.sk-parallel-item::after {\n",
       "  content: \"\";\n",
       "  width: 100%;\n",
       "  border-bottom: 2px solid var(--sklearn-color-text-on-default-background);\n",
       "  flex-grow: 1;\n",
       "}\n",
       "\n",
       "#sk-container-id-1 div.sk-parallel {\n",
       "  display: flex;\n",
       "  align-items: stretch;\n",
       "  justify-content: center;\n",
       "  background-color: var(--sklearn-color-background);\n",
       "  position: relative;\n",
       "}\n",
       "\n",
       "#sk-container-id-1 div.sk-parallel-item {\n",
       "  display: flex;\n",
       "  flex-direction: column;\n",
       "}\n",
       "\n",
       "#sk-container-id-1 div.sk-parallel-item:first-child::after {\n",
       "  align-self: flex-end;\n",
       "  width: 50%;\n",
       "}\n",
       "\n",
       "#sk-container-id-1 div.sk-parallel-item:last-child::after {\n",
       "  align-self: flex-start;\n",
       "  width: 50%;\n",
       "}\n",
       "\n",
       "#sk-container-id-1 div.sk-parallel-item:only-child::after {\n",
       "  width: 0;\n",
       "}\n",
       "\n",
       "/* Serial-specific style estimator block */\n",
       "\n",
       "#sk-container-id-1 div.sk-serial {\n",
       "  display: flex;\n",
       "  flex-direction: column;\n",
       "  align-items: center;\n",
       "  background-color: var(--sklearn-color-background);\n",
       "  padding-right: 1em;\n",
       "  padding-left: 1em;\n",
       "}\n",
       "\n",
       "\n",
       "/* Toggleable style: style used for estimator/Pipeline/ColumnTransformer box that is\n",
       "clickable and can be expanded/collapsed.\n",
       "- Pipeline and ColumnTransformer use this feature and define the default style\n",
       "- Estimators will overwrite some part of the style using the `sk-estimator` class\n",
       "*/\n",
       "\n",
       "/* Pipeline and ColumnTransformer style (default) */\n",
       "\n",
       "#sk-container-id-1 div.sk-toggleable {\n",
       "  /* Default theme specific background. It is overwritten whether we have a\n",
       "  specific estimator or a Pipeline/ColumnTransformer */\n",
       "  background-color: var(--sklearn-color-background);\n",
       "}\n",
       "\n",
       "/* Toggleable label */\n",
       "#sk-container-id-1 label.sk-toggleable__label {\n",
       "  cursor: pointer;\n",
       "  display: flex;\n",
       "  width: 100%;\n",
       "  margin-bottom: 0;\n",
       "  padding: 0.5em;\n",
       "  box-sizing: border-box;\n",
       "  text-align: center;\n",
       "  align-items: start;\n",
       "  justify-content: space-between;\n",
       "  gap: 0.5em;\n",
       "}\n",
       "\n",
       "#sk-container-id-1 label.sk-toggleable__label .caption {\n",
       "  font-size: 0.6rem;\n",
       "  font-weight: lighter;\n",
       "  color: var(--sklearn-color-text-muted);\n",
       "}\n",
       "\n",
       "#sk-container-id-1 label.sk-toggleable__label-arrow:before {\n",
       "  /* Arrow on the left of the label */\n",
       "  content: \"▸\";\n",
       "  float: left;\n",
       "  margin-right: 0.25em;\n",
       "  color: var(--sklearn-color-icon);\n",
       "}\n",
       "\n",
       "#sk-container-id-1 label.sk-toggleable__label-arrow:hover:before {\n",
       "  color: var(--sklearn-color-text);\n",
       "}\n",
       "\n",
       "/* Toggleable content - dropdown */\n",
       "\n",
       "#sk-container-id-1 div.sk-toggleable__content {\n",
       "  max-height: 0;\n",
       "  max-width: 0;\n",
       "  overflow: hidden;\n",
       "  text-align: left;\n",
       "  /* unfitted */\n",
       "  background-color: var(--sklearn-color-unfitted-level-0);\n",
       "}\n",
       "\n",
       "#sk-container-id-1 div.sk-toggleable__content.fitted {\n",
       "  /* fitted */\n",
       "  background-color: var(--sklearn-color-fitted-level-0);\n",
       "}\n",
       "\n",
       "#sk-container-id-1 div.sk-toggleable__content pre {\n",
       "  margin: 0.2em;\n",
       "  border-radius: 0.25em;\n",
       "  color: var(--sklearn-color-text);\n",
       "  /* unfitted */\n",
       "  background-color: var(--sklearn-color-unfitted-level-0);\n",
       "}\n",
       "\n",
       "#sk-container-id-1 div.sk-toggleable__content.fitted pre {\n",
       "  /* unfitted */\n",
       "  background-color: var(--sklearn-color-fitted-level-0);\n",
       "}\n",
       "\n",
       "#sk-container-id-1 input.sk-toggleable__control:checked~div.sk-toggleable__content {\n",
       "  /* Expand drop-down */\n",
       "  max-height: 200px;\n",
       "  max-width: 100%;\n",
       "  overflow: auto;\n",
       "}\n",
       "\n",
       "#sk-container-id-1 input.sk-toggleable__control:checked~label.sk-toggleable__label-arrow:before {\n",
       "  content: \"▾\";\n",
       "}\n",
       "\n",
       "/* Pipeline/ColumnTransformer-specific style */\n",
       "\n",
       "#sk-container-id-1 div.sk-label input.sk-toggleable__control:checked~label.sk-toggleable__label {\n",
       "  color: var(--sklearn-color-text);\n",
       "  background-color: var(--sklearn-color-unfitted-level-2);\n",
       "}\n",
       "\n",
       "#sk-container-id-1 div.sk-label.fitted input.sk-toggleable__control:checked~label.sk-toggleable__label {\n",
       "  background-color: var(--sklearn-color-fitted-level-2);\n",
       "}\n",
       "\n",
       "/* Estimator-specific style */\n",
       "\n",
       "/* Colorize estimator box */\n",
       "#sk-container-id-1 div.sk-estimator input.sk-toggleable__control:checked~label.sk-toggleable__label {\n",
       "  /* unfitted */\n",
       "  background-color: var(--sklearn-color-unfitted-level-2);\n",
       "}\n",
       "\n",
       "#sk-container-id-1 div.sk-estimator.fitted input.sk-toggleable__control:checked~label.sk-toggleable__label {\n",
       "  /* fitted */\n",
       "  background-color: var(--sklearn-color-fitted-level-2);\n",
       "}\n",
       "\n",
       "#sk-container-id-1 div.sk-label label.sk-toggleable__label,\n",
       "#sk-container-id-1 div.sk-label label {\n",
       "  /* The background is the default theme color */\n",
       "  color: var(--sklearn-color-text-on-default-background);\n",
       "}\n",
       "\n",
       "/* On hover, darken the color of the background */\n",
       "#sk-container-id-1 div.sk-label:hover label.sk-toggleable__label {\n",
       "  color: var(--sklearn-color-text);\n",
       "  background-color: var(--sklearn-color-unfitted-level-2);\n",
       "}\n",
       "\n",
       "/* Label box, darken color on hover, fitted */\n",
       "#sk-container-id-1 div.sk-label.fitted:hover label.sk-toggleable__label.fitted {\n",
       "  color: var(--sklearn-color-text);\n",
       "  background-color: var(--sklearn-color-fitted-level-2);\n",
       "}\n",
       "\n",
       "/* Estimator label */\n",
       "\n",
       "#sk-container-id-1 div.sk-label label {\n",
       "  font-family: monospace;\n",
       "  font-weight: bold;\n",
       "  display: inline-block;\n",
       "  line-height: 1.2em;\n",
       "}\n",
       "\n",
       "#sk-container-id-1 div.sk-label-container {\n",
       "  text-align: center;\n",
       "}\n",
       "\n",
       "/* Estimator-specific */\n",
       "#sk-container-id-1 div.sk-estimator {\n",
       "  font-family: monospace;\n",
       "  border: 1px dotted var(--sklearn-color-border-box);\n",
       "  border-radius: 0.25em;\n",
       "  box-sizing: border-box;\n",
       "  margin-bottom: 0.5em;\n",
       "  /* unfitted */\n",
       "  background-color: var(--sklearn-color-unfitted-level-0);\n",
       "}\n",
       "\n",
       "#sk-container-id-1 div.sk-estimator.fitted {\n",
       "  /* fitted */\n",
       "  background-color: var(--sklearn-color-fitted-level-0);\n",
       "}\n",
       "\n",
       "/* on hover */\n",
       "#sk-container-id-1 div.sk-estimator:hover {\n",
       "  /* unfitted */\n",
       "  background-color: var(--sklearn-color-unfitted-level-2);\n",
       "}\n",
       "\n",
       "#sk-container-id-1 div.sk-estimator.fitted:hover {\n",
       "  /* fitted */\n",
       "  background-color: var(--sklearn-color-fitted-level-2);\n",
       "}\n",
       "\n",
       "/* Specification for estimator info (e.g. \"i\" and \"?\") */\n",
       "\n",
       "/* Common style for \"i\" and \"?\" */\n",
       "\n",
       ".sk-estimator-doc-link,\n",
       "a:link.sk-estimator-doc-link,\n",
       "a:visited.sk-estimator-doc-link {\n",
       "  float: right;\n",
       "  font-size: smaller;\n",
       "  line-height: 1em;\n",
       "  font-family: monospace;\n",
       "  background-color: var(--sklearn-color-background);\n",
       "  border-radius: 1em;\n",
       "  height: 1em;\n",
       "  width: 1em;\n",
       "  text-decoration: none !important;\n",
       "  margin-left: 0.5em;\n",
       "  text-align: center;\n",
       "  /* unfitted */\n",
       "  border: var(--sklearn-color-unfitted-level-1) 1pt solid;\n",
       "  color: var(--sklearn-color-unfitted-level-1);\n",
       "}\n",
       "\n",
       ".sk-estimator-doc-link.fitted,\n",
       "a:link.sk-estimator-doc-link.fitted,\n",
       "a:visited.sk-estimator-doc-link.fitted {\n",
       "  /* fitted */\n",
       "  border: var(--sklearn-color-fitted-level-1) 1pt solid;\n",
       "  color: var(--sklearn-color-fitted-level-1);\n",
       "}\n",
       "\n",
       "/* On hover */\n",
       "div.sk-estimator:hover .sk-estimator-doc-link:hover,\n",
       ".sk-estimator-doc-link:hover,\n",
       "div.sk-label-container:hover .sk-estimator-doc-link:hover,\n",
       ".sk-estimator-doc-link:hover {\n",
       "  /* unfitted */\n",
       "  background-color: var(--sklearn-color-unfitted-level-3);\n",
       "  color: var(--sklearn-color-background);\n",
       "  text-decoration: none;\n",
       "}\n",
       "\n",
       "div.sk-estimator.fitted:hover .sk-estimator-doc-link.fitted:hover,\n",
       ".sk-estimator-doc-link.fitted:hover,\n",
       "div.sk-label-container:hover .sk-estimator-doc-link.fitted:hover,\n",
       ".sk-estimator-doc-link.fitted:hover {\n",
       "  /* fitted */\n",
       "  background-color: var(--sklearn-color-fitted-level-3);\n",
       "  color: var(--sklearn-color-background);\n",
       "  text-decoration: none;\n",
       "}\n",
       "\n",
       "/* Span, style for the box shown on hovering the info icon */\n",
       ".sk-estimator-doc-link span {\n",
       "  display: none;\n",
       "  z-index: 9999;\n",
       "  position: relative;\n",
       "  font-weight: normal;\n",
       "  right: .2ex;\n",
       "  padding: .5ex;\n",
       "  margin: .5ex;\n",
       "  width: min-content;\n",
       "  min-width: 20ex;\n",
       "  max-width: 50ex;\n",
       "  color: var(--sklearn-color-text);\n",
       "  box-shadow: 2pt 2pt 4pt #999;\n",
       "  /* unfitted */\n",
       "  background: var(--sklearn-color-unfitted-level-0);\n",
       "  border: .5pt solid var(--sklearn-color-unfitted-level-3);\n",
       "}\n",
       "\n",
       ".sk-estimator-doc-link.fitted span {\n",
       "  /* fitted */\n",
       "  background: var(--sklearn-color-fitted-level-0);\n",
       "  border: var(--sklearn-color-fitted-level-3);\n",
       "}\n",
       "\n",
       ".sk-estimator-doc-link:hover span {\n",
       "  display: block;\n",
       "}\n",
       "\n",
       "/* \"?\"-specific style due to the `<a>` HTML tag */\n",
       "\n",
       "#sk-container-id-1 a.estimator_doc_link {\n",
       "  float: right;\n",
       "  font-size: 1rem;\n",
       "  line-height: 1em;\n",
       "  font-family: monospace;\n",
       "  background-color: var(--sklearn-color-background);\n",
       "  border-radius: 1rem;\n",
       "  height: 1rem;\n",
       "  width: 1rem;\n",
       "  text-decoration: none;\n",
       "  /* unfitted */\n",
       "  color: var(--sklearn-color-unfitted-level-1);\n",
       "  border: var(--sklearn-color-unfitted-level-1) 1pt solid;\n",
       "}\n",
       "\n",
       "#sk-container-id-1 a.estimator_doc_link.fitted {\n",
       "  /* fitted */\n",
       "  border: var(--sklearn-color-fitted-level-1) 1pt solid;\n",
       "  color: var(--sklearn-color-fitted-level-1);\n",
       "}\n",
       "\n",
       "/* On hover */\n",
       "#sk-container-id-1 a.estimator_doc_link:hover {\n",
       "  /* unfitted */\n",
       "  background-color: var(--sklearn-color-unfitted-level-3);\n",
       "  color: var(--sklearn-color-background);\n",
       "  text-decoration: none;\n",
       "}\n",
       "\n",
       "#sk-container-id-1 a.estimator_doc_link.fitted:hover {\n",
       "  /* fitted */\n",
       "  background-color: var(--sklearn-color-fitted-level-3);\n",
       "}\n",
       "</style><div id=\"sk-container-id-1\" class=\"sk-top-container\"><div class=\"sk-text-repr-fallback\"><pre>RandomizedSearchCV(cv=5,\n",
       "                   estimator=Pipeline(steps=[(&#x27;preprocessor&#x27;,\n",
       "                                              ColumnTransformer(remainder=&#x27;passthrough&#x27;,\n",
       "                                                                transformers=[(&#x27;cat&#x27;,\n",
       "                                                                               Pipeline(steps=[(&#x27;imputer&#x27;,\n",
       "                                                                                                SimpleImputer(fill_value=&#x27;unknown&#x27;,\n",
       "                                                                                                              strategy=&#x27;constant&#x27;)),\n",
       "                                                                                               (&#x27;encoder&#x27;,\n",
       "                                                                                                OrdinalEncoder(handle_unknown=&#x27;use_encoded_value&#x27;,\n",
       "                                                                                                               unknown_value=nan))]),\n",
       "                                                                               [&#x27;direction&#x27;,\n",
       "                                                                                &#x27;road_surface&#x27;,\n",
       "                                                                                &#x27;road_condition_1&#x27;,\n",
       "                                                                                &#x27;vehicl...\n",
       "                   param_distributions=[{&#x27;estimator&#x27;: [RandomForestClassifier(class_weight=&#x27;balanced&#x27;,\n",
       "                                                                              random_state=42)],\n",
       "                                         &#x27;estimator__bootstrap&#x27;: [True, False],\n",
       "                                         &#x27;estimator__max_depth&#x27;: range(3, 20, 2),\n",
       "                                         &#x27;estimator__max_features&#x27;: [&#x27;sqrt&#x27;,\n",
       "                                                                     &#x27;log2&#x27;,\n",
       "                                                                     None],\n",
       "                                         &#x27;estimator__min_samples_leaf&#x27;: range(1, 10, 2),\n",
       "                                         &#x27;estimator__min_samples_split&#x27;: range(2, 15, 2),\n",
       "                                         &#x27;estimator__n_estimators&#x27;: [50, 100,\n",
       "                                                                     200,\n",
       "                                                                     300]}],\n",
       "                   random_state=42, scoring=&#x27;recall&#x27;)</pre><b>In a Jupyter environment, please rerun this cell to show the HTML representation or trust the notebook. <br />On GitHub, the HTML representation is unable to render, please try loading this page with nbviewer.org.</b></div><div class=\"sk-container\" hidden><div class=\"sk-item sk-dashed-wrapped\"><div class=\"sk-label-container\"><div class=\"sk-label fitted sk-toggleable\"><input class=\"sk-toggleable__control sk-hidden--visually\" id=\"sk-estimator-id-1\" type=\"checkbox\" ><label for=\"sk-estimator-id-1\" class=\"sk-toggleable__label fitted sk-toggleable__label-arrow\"><div><div>RandomizedSearchCV</div></div><div><a class=\"sk-estimator-doc-link fitted\" rel=\"noreferrer\" target=\"_blank\" href=\"https://scikit-learn.org/1.6/modules/generated/sklearn.model_selection.RandomizedSearchCV.html\">?<span>Documentation for RandomizedSearchCV</span></a><span class=\"sk-estimator-doc-link fitted\">i<span>Fitted</span></span></div></label><div class=\"sk-toggleable__content fitted\"><pre>RandomizedSearchCV(cv=5,\n",
       "                   estimator=Pipeline(steps=[(&#x27;preprocessor&#x27;,\n",
       "                                              ColumnTransformer(remainder=&#x27;passthrough&#x27;,\n",
       "                                                                transformers=[(&#x27;cat&#x27;,\n",
       "                                                                               Pipeline(steps=[(&#x27;imputer&#x27;,\n",
       "                                                                                                SimpleImputer(fill_value=&#x27;unknown&#x27;,\n",
       "                                                                                                              strategy=&#x27;constant&#x27;)),\n",
       "                                                                                               (&#x27;encoder&#x27;,\n",
       "                                                                                                OrdinalEncoder(handle_unknown=&#x27;use_encoded_value&#x27;,\n",
       "                                                                                                               unknown_value=nan))]),\n",
       "                                                                               [&#x27;direction&#x27;,\n",
       "                                                                                &#x27;road_surface&#x27;,\n",
       "                                                                                &#x27;road_condition_1&#x27;,\n",
       "                                                                                &#x27;vehicl...\n",
       "                   param_distributions=[{&#x27;estimator&#x27;: [RandomForestClassifier(class_weight=&#x27;balanced&#x27;,\n",
       "                                                                              random_state=42)],\n",
       "                                         &#x27;estimator__bootstrap&#x27;: [True, False],\n",
       "                                         &#x27;estimator__max_depth&#x27;: range(3, 20, 2),\n",
       "                                         &#x27;estimator__max_features&#x27;: [&#x27;sqrt&#x27;,\n",
       "                                                                     &#x27;log2&#x27;,\n",
       "                                                                     None],\n",
       "                                         &#x27;estimator__min_samples_leaf&#x27;: range(1, 10, 2),\n",
       "                                         &#x27;estimator__min_samples_split&#x27;: range(2, 15, 2),\n",
       "                                         &#x27;estimator__n_estimators&#x27;: [50, 100,\n",
       "                                                                     200,\n",
       "                                                                     300]}],\n",
       "                   random_state=42, scoring=&#x27;recall&#x27;)</pre></div> </div></div><div class=\"sk-parallel\"><div class=\"sk-parallel-item\"><div class=\"sk-item\"><div class=\"sk-label-container\"><div class=\"sk-label fitted sk-toggleable\"><input class=\"sk-toggleable__control sk-hidden--visually\" id=\"sk-estimator-id-2\" type=\"checkbox\" ><label for=\"sk-estimator-id-2\" class=\"sk-toggleable__label fitted sk-toggleable__label-arrow\"><div><div>best_estimator_: Pipeline</div></div></label><div class=\"sk-toggleable__content fitted\"><pre>Pipeline(steps=[(&#x27;preprocessor&#x27;,\n",
       "                 ColumnTransformer(remainder=&#x27;passthrough&#x27;,\n",
       "                                   transformers=[(&#x27;cat&#x27;,\n",
       "                                                  Pipeline(steps=[(&#x27;imputer&#x27;,\n",
       "                                                                   SimpleImputer(fill_value=&#x27;unknown&#x27;,\n",
       "                                                                                 strategy=&#x27;constant&#x27;)),\n",
       "                                                                  (&#x27;encoder&#x27;,\n",
       "                                                                   OrdinalEncoder(handle_unknown=&#x27;use_encoded_value&#x27;,\n",
       "                                                                                  unknown_value=nan))]),\n",
       "                                                  [&#x27;direction&#x27;, &#x27;road_surface&#x27;,\n",
       "                                                   &#x27;road_condition_1&#x27;,\n",
       "                                                   &#x27;vehicle_type&#x27;,\n",
       "                                                   &#x27;vehicle_transmission&#x27;,\n",
       "                                                   &#x27;day_of_week&#x27;, &#x27;month_name&#x27;,\n",
       "                                                   &#x27;part_of_day&#x27;,\n",
       "                                                   &#x27;county_city_location_new&#x27;,\n",
       "                                                   &#x27;county_location_new&#x27;])])),\n",
       "                (&#x27;estimator&#x27;,\n",
       "                 RandomForestClassifier(bootstrap=False,\n",
       "                                        class_weight=&#x27;balanced&#x27;, max_depth=9,\n",
       "                                        max_features=&#x27;log2&#x27;, min_samples_leaf=3,\n",
       "                                        min_samples_split=10, n_estimators=200,\n",
       "                                        random_state=42))])</pre></div> </div></div><div class=\"sk-serial\"><div class=\"sk-item\"><div class=\"sk-serial\"><div class=\"sk-item sk-dashed-wrapped\"><div class=\"sk-label-container\"><div class=\"sk-label fitted sk-toggleable\"><input class=\"sk-toggleable__control sk-hidden--visually\" id=\"sk-estimator-id-3\" type=\"checkbox\" ><label for=\"sk-estimator-id-3\" class=\"sk-toggleable__label fitted sk-toggleable__label-arrow\"><div><div>preprocessor: ColumnTransformer</div></div><div><a class=\"sk-estimator-doc-link fitted\" rel=\"noreferrer\" target=\"_blank\" href=\"https://scikit-learn.org/1.6/modules/generated/sklearn.compose.ColumnTransformer.html\">?<span>Documentation for preprocessor: ColumnTransformer</span></a></div></label><div class=\"sk-toggleable__content fitted\"><pre>ColumnTransformer(remainder=&#x27;passthrough&#x27;,\n",
       "                  transformers=[(&#x27;cat&#x27;,\n",
       "                                 Pipeline(steps=[(&#x27;imputer&#x27;,\n",
       "                                                  SimpleImputer(fill_value=&#x27;unknown&#x27;,\n",
       "                                                                strategy=&#x27;constant&#x27;)),\n",
       "                                                 (&#x27;encoder&#x27;,\n",
       "                                                  OrdinalEncoder(handle_unknown=&#x27;use_encoded_value&#x27;,\n",
       "                                                                 unknown_value=nan))]),\n",
       "                                 [&#x27;direction&#x27;, &#x27;road_surface&#x27;,\n",
       "                                  &#x27;road_condition_1&#x27;, &#x27;vehicle_type&#x27;,\n",
       "                                  &#x27;vehicle_transmission&#x27;, &#x27;day_of_week&#x27;,\n",
       "                                  &#x27;month_name&#x27;, &#x27;part_of_day&#x27;,\n",
       "                                  &#x27;county_city_location_new&#x27;,\n",
       "                                  &#x27;county_location_new&#x27;])])</pre></div> </div></div><div class=\"sk-parallel\"><div class=\"sk-parallel-item\"><div class=\"sk-item\"><div class=\"sk-label-container\"><div class=\"sk-label fitted sk-toggleable\"><input class=\"sk-toggleable__control sk-hidden--visually\" id=\"sk-estimator-id-4\" type=\"checkbox\" ><label for=\"sk-estimator-id-4\" class=\"sk-toggleable__label fitted sk-toggleable__label-arrow\"><div><div>cat</div></div></label><div class=\"sk-toggleable__content fitted\"><pre>[&#x27;direction&#x27;, &#x27;road_surface&#x27;, &#x27;road_condition_1&#x27;, &#x27;vehicle_type&#x27;, &#x27;vehicle_transmission&#x27;, &#x27;day_of_week&#x27;, &#x27;month_name&#x27;, &#x27;part_of_day&#x27;, &#x27;county_city_location_new&#x27;, &#x27;county_location_new&#x27;]</pre></div> </div></div><div class=\"sk-serial\"><div class=\"sk-item\"><div class=\"sk-serial\"><div class=\"sk-item\"><div class=\"sk-estimator fitted sk-toggleable\"><input class=\"sk-toggleable__control sk-hidden--visually\" id=\"sk-estimator-id-5\" type=\"checkbox\" ><label for=\"sk-estimator-id-5\" class=\"sk-toggleable__label fitted sk-toggleable__label-arrow\"><div><div>SimpleImputer</div></div><div><a class=\"sk-estimator-doc-link fitted\" rel=\"noreferrer\" target=\"_blank\" href=\"https://scikit-learn.org/1.6/modules/generated/sklearn.impute.SimpleImputer.html\">?<span>Documentation for SimpleImputer</span></a></div></label><div class=\"sk-toggleable__content fitted\"><pre>SimpleImputer(fill_value=&#x27;unknown&#x27;, strategy=&#x27;constant&#x27;)</pre></div> </div></div><div class=\"sk-item\"><div class=\"sk-estimator fitted sk-toggleable\"><input class=\"sk-toggleable__control sk-hidden--visually\" id=\"sk-estimator-id-6\" type=\"checkbox\" ><label for=\"sk-estimator-id-6\" class=\"sk-toggleable__label fitted sk-toggleable__label-arrow\"><div><div>OrdinalEncoder</div></div><div><a class=\"sk-estimator-doc-link fitted\" rel=\"noreferrer\" target=\"_blank\" href=\"https://scikit-learn.org/1.6/modules/generated/sklearn.preprocessing.OrdinalEncoder.html\">?<span>Documentation for OrdinalEncoder</span></a></div></label><div class=\"sk-toggleable__content fitted\"><pre>OrdinalEncoder(handle_unknown=&#x27;use_encoded_value&#x27;, unknown_value=nan)</pre></div> </div></div></div></div></div></div></div><div class=\"sk-parallel-item\"><div class=\"sk-item\"><div class=\"sk-label-container\"><div class=\"sk-label fitted sk-toggleable\"><input class=\"sk-toggleable__control sk-hidden--visually\" id=\"sk-estimator-id-7\" type=\"checkbox\" ><label for=\"sk-estimator-id-7\" class=\"sk-toggleable__label fitted sk-toggleable__label-arrow\"><div><div>remainder</div></div></label><div class=\"sk-toggleable__content fitted\"><pre>[&#x27;distance_log&#x27;, &#x27;vehicle_age_log&#x27;]</pre></div> </div></div><div class=\"sk-serial\"><div class=\"sk-item\"><div class=\"sk-estimator fitted sk-toggleable\"><input class=\"sk-toggleable__control sk-hidden--visually\" id=\"sk-estimator-id-8\" type=\"checkbox\" ><label for=\"sk-estimator-id-8\" class=\"sk-toggleable__label fitted sk-toggleable__label-arrow\"><div><div>passthrough</div></div></label><div class=\"sk-toggleable__content fitted\"><pre>passthrough</pre></div> </div></div></div></div></div></div></div><div class=\"sk-item\"><div class=\"sk-estimator fitted sk-toggleable\"><input class=\"sk-toggleable__control sk-hidden--visually\" id=\"sk-estimator-id-9\" type=\"checkbox\" ><label for=\"sk-estimator-id-9\" class=\"sk-toggleable__label fitted sk-toggleable__label-arrow\"><div><div>RandomForestClassifier</div></div><div><a class=\"sk-estimator-doc-link fitted\" rel=\"noreferrer\" target=\"_blank\" href=\"https://scikit-learn.org/1.6/modules/generated/sklearn.ensemble.RandomForestClassifier.html\">?<span>Documentation for RandomForestClassifier</span></a></div></label><div class=\"sk-toggleable__content fitted\"><pre>RandomForestClassifier(bootstrap=False, class_weight=&#x27;balanced&#x27;, max_depth=9,\n",
       "                       max_features=&#x27;log2&#x27;, min_samples_leaf=3,\n",
       "                       min_samples_split=10, n_estimators=200, random_state=42)</pre></div> </div></div></div></div></div></div></div></div></div></div></div>"
      ],
      "text/plain": [
       "RandomizedSearchCV(cv=5,\n",
       "                   estimator=Pipeline(steps=[('preprocessor',\n",
       "                                              ColumnTransformer(remainder='passthrough',\n",
       "                                                                transformers=[('cat',\n",
       "                                                                               Pipeline(steps=[('imputer',\n",
       "                                                                                                SimpleImputer(fill_value='unknown',\n",
       "                                                                                                              strategy='constant')),\n",
       "                                                                                               ('encoder',\n",
       "                                                                                                OrdinalEncoder(handle_unknown='use_encoded_value',\n",
       "                                                                                                               unknown_value=nan))]),\n",
       "                                                                               ['direction',\n",
       "                                                                                'road_surface',\n",
       "                                                                                'road_condition_1',\n",
       "                                                                                'vehicl...\n",
       "                   param_distributions=[{'estimator': [RandomForestClassifier(class_weight='balanced',\n",
       "                                                                              random_state=42)],\n",
       "                                         'estimator__bootstrap': [True, False],\n",
       "                                         'estimator__max_depth': range(3, 20, 2),\n",
       "                                         'estimator__max_features': ['sqrt',\n",
       "                                                                     'log2',\n",
       "                                                                     None],\n",
       "                                         'estimator__min_samples_leaf': range(1, 10, 2),\n",
       "                                         'estimator__min_samples_split': range(2, 15, 2),\n",
       "                                         'estimator__n_estimators': [50, 100,\n",
       "                                                                     200,\n",
       "                                                                     300]}],\n",
       "                   random_state=42, scoring='recall')"
      ]
     },
     "execution_count": 67,
     "metadata": {},
     "output_type": "execute_result"
    }
   ],
   "source": [
    "%%time\n",
    "search_rf.fit(X_train, y_train)"
   ]
  },
  {
   "cell_type": "code",
   "execution_count": 68,
   "metadata": {},
   "outputs": [
    {
     "name": "stdout",
     "output_type": "stream",
     "text": [
      "Best parameters: {'estimator__n_estimators': 200, 'estimator__min_samples_split': 10, 'estimator__min_samples_leaf': 3, 'estimator__max_features': 'log2', 'estimator__max_depth': 9, 'estimator__bootstrap': False, 'estimator': RandomForestClassifier(class_weight='balanced', random_state=42)}\n",
      "Best recall 0.5200341342949496\n"
     ]
    }
   ],
   "source": [
    "print(\"Best parameters:\", search_rf.best_params_)\n",
    "print(\"Best recall\", search_rf.best_score_)"
   ]
  },
  {
   "cell_type": "code",
   "execution_count": 69,
   "metadata": {},
   "outputs": [
    {
     "data": {
      "text/html": [
       "<div>\n",
       "<style scoped>\n",
       "    .dataframe tbody tr th:only-of-type {\n",
       "        vertical-align: middle;\n",
       "    }\n",
       "\n",
       "    .dataframe tbody tr th {\n",
       "        vertical-align: top;\n",
       "    }\n",
       "\n",
       "    .dataframe thead th {\n",
       "        text-align: right;\n",
       "    }\n",
       "</style>\n",
       "<table border=\"1\" class=\"dataframe\">\n",
       "  <thead>\n",
       "    <tr style=\"text-align: right;\">\n",
       "      <th></th>\n",
       "      <th>mean_fit_time</th>\n",
       "      <th>mean_score_time</th>\n",
       "      <th>mean_test_score</th>\n",
       "    </tr>\n",
       "  </thead>\n",
       "  <tbody>\n",
       "    <tr>\n",
       "      <th>3</th>\n",
       "      <td>7.270996</td>\n",
       "      <td>0.213436</td>\n",
       "      <td>0.520034</td>\n",
       "    </tr>\n",
       "  </tbody>\n",
       "</table>\n",
       "</div>"
      ],
      "text/plain": [
       "   mean_fit_time  mean_score_time  mean_test_score\n",
       "3       7.270996         0.213436         0.520034"
      ]
     },
     "execution_count": 69,
     "metadata": {},
     "output_type": "execute_result"
    }
   ],
   "source": [
    "# Output the params \n",
    "res = pd.DataFrame(search_rf.cv_results_).sort_values(by='mean_test_score', ascending=False).head(1)\n",
    "res_rf= res[['mean_fit_time', 'mean_score_time', 'mean_test_score']].copy()\n",
    "res_rf"
   ]
  },
  {
   "cell_type": "markdown",
   "metadata": {},
   "source": [
    "## 5.3 Модель 2 - LGBM"
   ]
  },
  {
   "cell_type": "code",
   "execution_count": 70,
   "metadata": {},
   "outputs": [],
   "source": [
    "df_lgbm = df_main[cols_to_keep]\n",
    "\n",
    "target = 'at_fault'\n",
    "features = df_lgbm.drop(target, axis=1)\n",
    "\n",
    "numeric = features.select_dtypes(exclude='object').columns.to_list()\n",
    "categorical = features.select_dtypes(include='object').columns.to_list()"
   ]
  },
  {
   "cell_type": "code",
   "execution_count": 71,
   "metadata": {},
   "outputs": [],
   "source": [
    "for cat in categorical:\n",
    "    df_lgbm[cat] = df_lgbm[cat].astype('category')"
   ]
  },
  {
   "cell_type": "code",
   "execution_count": 72,
   "metadata": {},
   "outputs": [],
   "source": [
    "X_train = df_lgbm.drop(target, axis=1)\n",
    "y_train = df_lgbm[target]"
   ]
  },
  {
   "cell_type": "code",
   "execution_count": 73,
   "metadata": {},
   "outputs": [],
   "source": [
    "estimator = LGBMClassifier(is_unbalance=True, random_state=RANDOM_STATE)\n",
    "\n",
    "param_grid = {\n",
    "    'n_estimators': [100, 200, 300],  \n",
    "    'learning_rate': [0.01, 0.05, 0.1], \n",
    "    'max_depth': [-1, 5, 10, 15],  \n",
    "    'num_leaves': [31, 50, 100],  \n",
    "    'min_child_samples': [10, 20, 30],  \n",
    "    'subsample': [0.7, 0.8, 0.9, 1.0],  \n",
    "    'colsample_bytree': [0.7, 0.8, 0.9, 1.0]\n",
    "}"
   ]
  },
  {
   "cell_type": "code",
   "execution_count": 74,
   "metadata": {},
   "outputs": [
    {
     "name": "stdout",
     "output_type": "stream",
     "text": [
      "CPU times: user 13 µs, sys: 1e+03 ns, total: 14 µs\n",
      "Wall time: 17.9 µs\n"
     ]
    }
   ],
   "source": [
    "%%time\n",
    "search_lgbm = RandomizedSearchCV(\n",
    "    estimator=estimator,\n",
    "    param_distributions=param_grid,\n",
    "    n_iter=5,\n",
    "    scoring='recall',\n",
    "    n_jobs=-1,\n",
    "    cv=5,\n",
    "    random_state=RANDOM_STATE\n",
    ")"
   ]
  },
  {
   "cell_type": "code",
   "execution_count": 75,
   "metadata": {},
   "outputs": [
    {
     "name": "stdout",
     "output_type": "stream",
     "text": [
      "[LightGBM] [Info] Number of positive: 11161, number of negative: 18296[LightGBM] [Info] Number of positive: 11160, number of negative: 18296\n",
      "\n",
      "[LightGBM] [Info] Number of positive: 11161, number of negative: 18296\n",
      "[LightGBM] [Info] Number of positive: 11160, number of negative: 18296\n",
      "[LightGBM] [Info] Number of positive: 11161, number of negative: 18296\n",
      "[LightGBM] [Info] Number of positive: 11161, number of negative: 18296\n",
      "[LightGBM] [Info] Number of positive: 11161, number of negative: 18296\n",
      "[LightGBM] [Info] Number of positive: 11161, number of negative: 18296\n",
      "[LightGBM] [Info] Auto-choosing row-wise multi-threading, the overhead of testing was 0.006114 seconds.\n",
      "You can set `force_row_wise=true` to remove the overhead.\n",
      "And if memory is not enough, you can set `force_col_wise=true`.\n",
      "[LightGBM] [Info] Total Bins 355\n",
      "[LightGBM] [Info] Number of data points in the train set: 29456, number of used features: 12\n",
      "[LightGBM] [Info] Auto-choosing row-wise multi-threading, the overhead of testing was 0.006037 seconds.\n",
      "You can set `force_row_wise=true` to remove the overhead.\n",
      "And if memory is not enough, you can set `force_col_wise=true`.\n",
      "[LightGBM] [Info] Auto-choosing row-wise multi-threading, the overhead of testing was 0.006095 seconds.\n",
      "You can set `force_row_wise=true` to remove the overhead.\n",
      "And if memory is not enough, you can set `force_col_wise=true`.\n",
      "[LightGBM] [Info] Total Bins 355\n",
      "[LightGBM] [Info] Total Bins 355\n",
      "[LightGBM] [Info] Auto-choosing row-wise multi-threading, the overhead of testing was 0.006644 seconds.\n",
      "You can set `force_row_wise=true` to remove the overhead.\n",
      "And if memory is not enough, you can set `force_col_wise=true`.\n",
      "[LightGBM] [Info] Total Bins 355\n",
      "[LightGBM] [Info] Number of data points in the train set: 29457, number of used features: 12\n",
      "[LightGBM] [Info] [binary:BoostFromScore]: pavg=0.378870 -> initscore=-0.494346\n",
      "[LightGBM] [Info] Number of data points in the train set: 29457, number of used features: 12\n",
      "[LightGBM] [Info] Start training from score -0.494346\n",
      "[LightGBM] [Info] [binary:BoostFromScore]: pavg=0.378891 -> initscore=-0.494257\n",
      "[LightGBM] [Info] [binary:BoostFromScore]: pavg=0.378891 -> initscore=-0.494257\n",
      "[LightGBM] [Info] Number of data points in the train set: 29456, number of used features: 12\n",
      "[LightGBM] [Info] Start training from score -0.494257\n",
      "[LightGBM] [Info] Start training from score -0.494257\n",
      "[LightGBM] [Info] Auto-choosing row-wise multi-threading, the overhead of testing was 0.008513 seconds.\n",
      "You can set `force_row_wise=true` to remove the overhead.\n",
      "And if memory is not enough, you can set `force_col_wise=true`.\n",
      "[LightGBM] [Info] [binary:BoostFromScore]: pavg=0.378870 -> initscore=-0.494346\n",
      "[LightGBM] [Info] Total Bins 355\n",
      "[LightGBM] [Info] Auto-choosing row-wise multi-threading, the overhead of testing was 0.008132 seconds.\n",
      "You can set `force_row_wise=true` to remove the overhead.\n",
      "And if memory is not enough, you can set `force_col_wise=true`.[LightGBM] [Info] Start training from score -0.494346\n",
      "\n",
      "[LightGBM] [Info] Total Bins 355\n",
      "[LightGBM] [Info] Number of data points in the train set: 29457, number of used features: 12\n",
      "[LightGBM] [Info] Number of data points in the train set: 29457, number of used features: 12\n",
      "[LightGBM] [Info] [binary:BoostFromScore]: pavg=0.378891 -> initscore=-0.494257\n",
      "[LightGBM] [Info] [binary:BoostFromScore]: pavg=0.378891 -> initscore=-0.494257\n",
      "[LightGBM] [Info] Start training from score -0.494257\n",
      "[LightGBM] [Info] Start training from score -0.494257\n",
      "[LightGBM] [Info] Auto-choosing row-wise multi-threading, the overhead of testing was 0.005562 seconds.\n",
      "You can set `force_row_wise=true` to remove the overhead.\n",
      "And if memory is not enough, you can set `force_col_wise=true`.\n",
      "[LightGBM] [Info] Total Bins 355\n",
      "[LightGBM] [Info] Number of data points in the train set: 29457, number of used features: 12\n",
      "[LightGBM] [Info] [binary:BoostFromScore]: pavg=0.378891 -> initscore=-0.494257\n",
      "[LightGBM] [Info] Start training from score -0.494257\n",
      "[LightGBM] [Info] Auto-choosing row-wise multi-threading, the overhead of testing was 0.005001 seconds.\n",
      "You can set `force_row_wise=true` to remove the overhead.\n",
      "And if memory is not enough, you can set `force_col_wise=true`.\n",
      "[LightGBM] [Info] Total Bins 355\n",
      "[LightGBM] [Info] Number of data points in the train set: 29457, number of used features: 12\n",
      "[LightGBM] [Info] [binary:BoostFromScore]: pavg=0.378891 -> initscore=-0.494257\n",
      "[LightGBM] [Info] Start training from score -0.494257\n",
      "[LightGBM] [Warning] No further splits with positive gain, best gain: -inf\n",
      "[LightGBM] [Warning] No further splits with positive gain, best gain: -inf\n",
      "[LightGBM] [Warning] No further splits with positive gain, best gain: -inf\n",
      "[LightGBM] [Warning] No further splits with positive gain, best gain: -inf\n",
      "[LightGBM] [Warning] No further splits with positive gain, best gain: -inf\n",
      "[LightGBM] [Warning] No further splits with positive gain, best gain: -inf\n",
      "[LightGBM] [Warning] No further splits with positive gain, best gain: -inf\n",
      "[LightGBM] [Warning] No further splits with positive gain, best gain: -inf\n",
      "[LightGBM] [Warning] No further splits with positive gain, best gain: -inf\n",
      "[LightGBM] [Warning] No further splits with positive gain, best gain: -inf\n",
      "[LightGBM] [Warning] No further splits with positive gain, best gain: -inf\n",
      "[LightGBM] [Warning] No further splits with positive gain, best gain: -inf\n",
      "[LightGBM] [Warning] No further splits with positive gain, best gain: -inf\n",
      "[LightGBM] [Warning] No further splits with positive gain, best gain: -inf\n",
      "[LightGBM] [Warning] No further splits with positive gain, best gain: -inf\n",
      "[LightGBM] [Warning] No further splits with positive gain, best gain: -inf\n",
      "[LightGBM] [Warning] No further splits with positive gain, best gain: -inf\n",
      "[LightGBM] [Warning] No further splits with positive gain, best gain: -inf\n",
      "[LightGBM] [Warning] No further splits with positive gain, best gain: -inf\n",
      "[LightGBM] [Warning] No further splits with positive gain, best gain: -inf\n",
      "[LightGBM] [Warning] No further splits with positive gain, best gain: -inf\n",
      "[LightGBM] [Info] Number of positive: 11161, number of negative: 18296\n",
      "[LightGBM] [Warning] No further splits with positive gain, best gain: -inf\n",
      "[LightGBM] [Info] Auto-choosing row-wise multi-threading, the overhead of testing was 0.002925 seconds.\n",
      "You can set `force_row_wise=true` to remove the overhead.\n",
      "And if memory is not enough, you can set `force_col_wise=true`.\n",
      "[LightGBM] [Info] Total Bins 355\n",
      "[LightGBM] [Info] Number of data points in the train set: 29457, number of used features: 12\n",
      "[LightGBM] [Info] [binary:BoostFromScore]: pavg=0.378891 -> initscore=-0.494257\n",
      "[LightGBM] [Info] Start training from score -0.494257\n",
      "[LightGBM] [Info] Number of positive: 11161, number of negative: 18296\n",
      "[LightGBM] [Info] Auto-choosing row-wise multi-threading, the overhead of testing was 0.002979 seconds.\n",
      "You can set `force_row_wise=true` to remove the overhead.\n",
      "And if memory is not enough, you can set `force_col_wise=true`.\n",
      "[LightGBM] [Info] Total Bins 355\n",
      "[LightGBM] [Info] Number of data points in the train set: 29457, number of used features: 12\n",
      "[LightGBM] [Info] [binary:BoostFromScore]: pavg=0.378891 -> initscore=-0.494257\n",
      "[LightGBM] [Info] Start training from score -0.494257\n",
      "[LightGBM] [Warning] No further splits with positive gain, best gain: -inf\n",
      "[LightGBM] [Warning] No further splits with positive gain, best gain: -inf\n",
      "[LightGBM] [Warning] No further splits with positive gain, best gain: -inf\n",
      "[LightGBM] [Warning] No further splits with positive gain, best gain: -inf\n",
      "[LightGBM] [Warning] No further splits with positive gain, best gain: -inf\n",
      "[LightGBM] [Warning] No further splits with positive gain, best gain: -inf\n",
      "[LightGBM] [Warning] No further splits with positive gain, best gain: -inf\n",
      "[LightGBM] [Warning] No further splits with positive gain, best gain: -inf\n",
      "[LightGBM] [Warning] No further splits with positive gain, best gain: -inf\n",
      "[LightGBM] [Warning] No further splits with positive gain, best gain: -inf\n",
      "[LightGBM] [Info] Number of positive: 11160, number of negative: 18296\n",
      "[LightGBM] [Info] Auto-choosing row-wise multi-threading, the overhead of testing was 0.003397 seconds.\n",
      "You can set `force_row_wise=true` to remove the overhead.\n",
      "And if memory is not enough, you can set `force_col_wise=true`.\n",
      "[LightGBM] [Info] Total Bins 355\n",
      "[LightGBM] [Info] Number of data points in the train set: 29456, number of used features: 12\n",
      "[LightGBM] [Info] [binary:BoostFromScore]: pavg=0.378870 -> initscore=-0.494346\n",
      "[LightGBM] [Info] Start training from score -0.494346\n",
      "[LightGBM] [Warning] No further splits with positive gain, best gain: -inf\n",
      "[LightGBM] [Warning] No further splits with positive gain, best gain: -inf\n",
      "[LightGBM] [Warning] No further splits with positive gain, best gain: -inf\n",
      "[LightGBM] [Warning] No further splits with positive gain, best gain: -inf\n",
      "[LightGBM] [Warning] No further splits with positive gain, best gain: -inf\n",
      "[LightGBM] [Warning] No further splits with positive gain, best gain: -inf\n",
      "[LightGBM] [Info] Number of positive: 11161, number of negative: 18296\n",
      "[LightGBM] [Info] Auto-choosing row-wise multi-threading, the overhead of testing was 0.003313 seconds.\n",
      "You can set `force_row_wise=true` to remove the overhead.\n",
      "And if memory is not enough, you can set `force_col_wise=true`.\n",
      "[LightGBM] [Info] Total Bins 355\n",
      "[LightGBM] [Info] Number of data points in the train set: 29457, number of used features: 12\n",
      "[LightGBM] [Info] [binary:BoostFromScore]: pavg=0.378891 -> initscore=-0.494257\n",
      "[LightGBM] [Info] Start training from score -0.494257\n",
      "[LightGBM] [Info] Number of positive: 11161, number of negative: 18296\n",
      "[LightGBM] [Info] Auto-choosing row-wise multi-threading, the overhead of testing was 0.004293 seconds.\n",
      "You can set `force_row_wise=true` to remove the overhead.\n",
      "And if memory is not enough, you can set `force_col_wise=true`.\n",
      "[LightGBM] [Info] Total Bins 355\n",
      "[LightGBM] [Info] Number of data points in the train set: 29457, number of used features: 12\n",
      "[LightGBM] [Info] [binary:BoostFromScore]: pavg=0.378891 -> initscore=-0.494257\n",
      "[LightGBM] [Info] Start training from score -0.494257\n",
      "[LightGBM] [Info] Number of positive: 11161, number of negative: 18296\n",
      "[LightGBM] [Info] Auto-choosing row-wise multi-threading, the overhead of testing was 0.004328 seconds.\n",
      "You can set `force_row_wise=true` to remove the overhead.\n",
      "And if memory is not enough, you can set `force_col_wise=true`.\n",
      "[LightGBM] [Info] Total Bins 355\n",
      "[LightGBM] [Info] Number of data points in the train set: 29457, number of used features: 12\n",
      "[LightGBM] [Info] [binary:BoostFromScore]: pavg=0.378891 -> initscore=-0.494257\n",
      "[LightGBM] [Info] Start training from score -0.494257\n",
      "[LightGBM] [Warning] No further splits with positive gain, best gain: -inf\n",
      "[LightGBM] [Warning] No further splits with positive gain, best gain: -inf\n",
      "[LightGBM] [Warning] No further splits with positive gain, best gain: -inf\n",
      "[LightGBM] [Info] Number of positive: 11161, number of negative: 18296\n",
      "[LightGBM] [Info] Auto-choosing row-wise multi-threading, the overhead of testing was 0.004131 seconds.\n",
      "You can set `force_row_wise=true` to remove the overhead.\n",
      "And if memory is not enough, you can set `force_col_wise=true`.\n",
      "[LightGBM] [Info] Total Bins 355\n",
      "[LightGBM] [Info] Number of data points in the train set: 29457, number of used features: 12\n",
      "[LightGBM] [Info] [binary:BoostFromScore]: pavg=0.378891 -> initscore=-0.494257\n",
      "[LightGBM] [Info] Start training from score -0.494257\n",
      "[LightGBM] [Info] Number of positive: 11160, number of negative: 18296\n",
      "[LightGBM] [Info] Auto-choosing row-wise multi-threading, the overhead of testing was 0.005291 seconds.\n",
      "You can set `force_row_wise=true` to remove the overhead.\n",
      "And if memory is not enough, you can set `force_col_wise=true`.\n",
      "[LightGBM] [Info] Total Bins 355\n",
      "[LightGBM] [Info] Number of data points in the train set: 29456, number of used features: 12\n",
      "[LightGBM] [Info] [binary:BoostFromScore]: pavg=0.378870 -> initscore=-0.494346\n",
      "[LightGBM] [Info] Start training from score -0.494346\n",
      "[LightGBM] [Warning] No further splits with positive gain, best gain: -inf\n",
      "[LightGBM] [Warning] No further splits with positive gain, best gain: -inf\n",
      "[LightGBM] [Warning] No further splits with positive gain, best gain: -inf\n",
      "[LightGBM] [Warning] No further splits with positive gain, best gain: -inf\n",
      "[LightGBM] [Warning] No further splits with positive gain, best gain: -inf\n",
      "[LightGBM] [Warning] No further splits with positive gain, best gain: -inf\n",
      "[LightGBM] [Warning] No further splits with positive gain, best gain: -inf\n",
      "[LightGBM] [Warning] No further splits with positive gain, best gain: -inf\n",
      "[LightGBM] [Warning] No further splits with positive gain, best gain: -inf\n",
      "[LightGBM] [Warning] No further splits with positive gain, best gain: -inf\n",
      "[LightGBM] [Warning] No further splits with positive gain, best gain: -inf\n",
      "[LightGBM] [Warning] No further splits with positive gain, best gain: -inf\n",
      "[LightGBM] [Info] Number of positive: 11161, number of negative: 18296\n",
      "[LightGBM] [Info] Auto-choosing row-wise multi-threading, the overhead of testing was 0.002703 seconds.\n",
      "You can set `force_row_wise=true` to remove the overhead.\n",
      "And if memory is not enough, you can set `force_col_wise=true`.\n",
      "[LightGBM] [Info] Total Bins 355\n",
      "[LightGBM] [Info] Number of data points in the train set: 29457, number of used features: 12\n",
      "[LightGBM] [Info] [binary:BoostFromScore]: pavg=0.378891 -> initscore=-0.494257\n",
      "[LightGBM] [Info] Start training from score -0.494257\n",
      "[LightGBM] [Info] Number of positive: 11161, number of negative: 18296\n",
      "[LightGBM] [Info] Auto-choosing row-wise multi-threading, the overhead of testing was 0.004062 seconds.\n",
      "You can set `force_row_wise=true` to remove the overhead.\n",
      "And if memory is not enough, you can set `force_col_wise=true`.\n",
      "[LightGBM] [Info] Total Bins 355\n",
      "[LightGBM] [Info] Number of data points in the train set: 29457, number of used features: 12\n",
      "[LightGBM] [Info] [binary:BoostFromScore]: pavg=0.378891 -> initscore=-0.494257\n",
      "[LightGBM] [Info] Start training from score -0.494257\n",
      "[LightGBM] [Warning] No further splits with positive gain, best gain: -inf\n",
      "[LightGBM] [Info] Number of positive: 11161, number of negative: 18296\n",
      "[LightGBM] [Info] Auto-choosing row-wise multi-threading, the overhead of testing was 0.004789 seconds.\n",
      "You can set `force_row_wise=true` to remove the overhead.\n",
      "And if memory is not enough, you can set `force_col_wise=true`.\n",
      "[LightGBM] [Info] Total Bins 355\n",
      "[LightGBM] [Info] Number of data points in the train set: 29457, number of used features: 12\n",
      "[LightGBM] [Info] [binary:BoostFromScore]: pavg=0.378891 -> initscore=-0.494257\n",
      "[LightGBM] [Info] Start training from score -0.494257\n",
      "[LightGBM] [Info] Number of positive: 11161, number of negative: 18296\n",
      "[LightGBM] [Info] Auto-choosing col-wise multi-threading, the overhead of testing was 0.004915 seconds.\n",
      "You can set `force_col_wise=true` to remove the overhead.\n",
      "[LightGBM] [Info] Total Bins 355\n",
      "[LightGBM] [Info] Number of data points in the train set: 29457, number of used features: 12\n",
      "[LightGBM] [Info] [binary:BoostFromScore]: pavg=0.378891 -> initscore=-0.494257\n",
      "[LightGBM] [Info] Start training from score -0.494257\n",
      "[LightGBM] [Warning] No further splits with positive gain, best gain: -inf\n",
      "[LightGBM] [Info] Number of positive: 11160, number of negative: 18296\n",
      "[LightGBM] [Info] Auto-choosing row-wise multi-threading, the overhead of testing was 0.002872 seconds.\n",
      "You can set `force_row_wise=true` to remove the overhead.\n",
      "And if memory is not enough, you can set `force_col_wise=true`.\n",
      "[LightGBM] [Info] Total Bins 355\n",
      "[LightGBM] [Info] Number of data points in the train set: 29456, number of used features: 12\n",
      "[LightGBM] [Info] [binary:BoostFromScore]: pavg=0.378870 -> initscore=-0.494346\n",
      "[LightGBM] [Info] Start training from score -0.494346\n",
      "[LightGBM] [Info] Number of positive: 11161, number of negative: 18296\n",
      "[LightGBM] [Info] Auto-choosing row-wise multi-threading, the overhead of testing was 0.003788 seconds.\n",
      "You can set `force_row_wise=true` to remove the overhead.\n",
      "And if memory is not enough, you can set `force_col_wise=true`.\n",
      "[LightGBM] [Info] Total Bins 355\n",
      "[LightGBM] [Info] Number of data points in the train set: 29457, number of used features: 12\n",
      "[LightGBM] [Info] [binary:BoostFromScore]: pavg=0.378891 -> initscore=-0.494257\n",
      "[LightGBM] [Info] Start training from score -0.494257\n",
      "[LightGBM] [Info] Number of positive: 11161, number of negative: 18296\n",
      "[LightGBM] [Info] Auto-choosing row-wise multi-threading, the overhead of testing was 0.002409 seconds.\n",
      "You can set `force_row_wise=true` to remove the overhead.\n",
      "And if memory is not enough, you can set `force_col_wise=true`.\n",
      "[LightGBM] [Info] Total Bins 355\n",
      "[LightGBM] [Info] Number of data points in the train set: 29457, number of used features: 12\n",
      "[LightGBM] [Info] [binary:BoostFromScore]: pavg=0.378891 -> initscore=-0.494257\n",
      "[LightGBM] [Info] Start training from score -0.494257\n",
      "[LightGBM] [Info] Number of positive: 11161, number of negative: 18296\n",
      "[LightGBM] [Info] Auto-choosing row-wise multi-threading, the overhead of testing was 0.002654 seconds.\n",
      "You can set `force_row_wise=true` to remove the overhead.\n",
      "And if memory is not enough, you can set `force_col_wise=true`.\n",
      "[LightGBM] [Info] Total Bins 355\n",
      "[LightGBM] [Info] Number of data points in the train set: 29457, number of used features: 12\n",
      "[LightGBM] [Info] [binary:BoostFromScore]: pavg=0.378891 -> initscore=-0.494257\n",
      "[LightGBM] [Info] Start training from score -0.494257\n",
      "[LightGBM] [Info] Number of positive: 11161, number of negative: 18296\n",
      "[LightGBM] [Info] Auto-choosing row-wise multi-threading, the overhead of testing was 0.002560 seconds.\n",
      "You can set `force_row_wise=true` to remove the overhead.\n",
      "And if memory is not enough, you can set `force_col_wise=true`.\n",
      "[LightGBM] [Info] Total Bins 355\n",
      "[LightGBM] [Info] Number of data points in the train set: 29457, number of used features: 12\n",
      "[LightGBM] [Info] [binary:BoostFromScore]: pavg=0.378891 -> initscore=-0.494257\n",
      "[LightGBM] [Info] Start training from score -0.494257\n",
      "[LightGBM] [Info] Number of positive: 13951, number of negative: 22870\n",
      "[LightGBM] [Info] Auto-choosing row-wise multi-threading, the overhead of testing was 0.001068 seconds.\n",
      "You can set `force_row_wise=true` to remove the overhead.\n",
      "And if memory is not enough, you can set `force_col_wise=true`.\n",
      "[LightGBM] [Info] Total Bins 355\n",
      "[LightGBM] [Info] Number of data points in the train set: 36821, number of used features: 12\n",
      "[LightGBM] [Info] [binary:BoostFromScore]: pavg=0.378887 -> initscore=-0.494275\n",
      "[LightGBM] [Info] Start training from score -0.494275\n",
      "[LightGBM] [Warning] No further splits with positive gain, best gain: -inf\n",
      "[LightGBM] [Warning] No further splits with positive gain, best gain: -inf\n",
      "CPU times: user 3.18 s, sys: 104 ms, total: 3.29 s\n",
      "Wall time: 31.9 s\n"
     ]
    },
    {
     "data": {
      "text/html": [
       "<style>#sk-container-id-2 {\n",
       "  /* Definition of color scheme common for light and dark mode */\n",
       "  --sklearn-color-text: #000;\n",
       "  --sklearn-color-text-muted: #666;\n",
       "  --sklearn-color-line: gray;\n",
       "  /* Definition of color scheme for unfitted estimators */\n",
       "  --sklearn-color-unfitted-level-0: #fff5e6;\n",
       "  --sklearn-color-unfitted-level-1: #f6e4d2;\n",
       "  --sklearn-color-unfitted-level-2: #ffe0b3;\n",
       "  --sklearn-color-unfitted-level-3: chocolate;\n",
       "  /* Definition of color scheme for fitted estimators */\n",
       "  --sklearn-color-fitted-level-0: #f0f8ff;\n",
       "  --sklearn-color-fitted-level-1: #d4ebff;\n",
       "  --sklearn-color-fitted-level-2: #b3dbfd;\n",
       "  --sklearn-color-fitted-level-3: cornflowerblue;\n",
       "\n",
       "  /* Specific color for light theme */\n",
       "  --sklearn-color-text-on-default-background: var(--sg-text-color, var(--theme-code-foreground, var(--jp-content-font-color1, black)));\n",
       "  --sklearn-color-background: var(--sg-background-color, var(--theme-background, var(--jp-layout-color0, white)));\n",
       "  --sklearn-color-border-box: var(--sg-text-color, var(--theme-code-foreground, var(--jp-content-font-color1, black)));\n",
       "  --sklearn-color-icon: #696969;\n",
       "\n",
       "  @media (prefers-color-scheme: dark) {\n",
       "    /* Redefinition of color scheme for dark theme */\n",
       "    --sklearn-color-text-on-default-background: var(--sg-text-color, var(--theme-code-foreground, var(--jp-content-font-color1, white)));\n",
       "    --sklearn-color-background: var(--sg-background-color, var(--theme-background, var(--jp-layout-color0, #111)));\n",
       "    --sklearn-color-border-box: var(--sg-text-color, var(--theme-code-foreground, var(--jp-content-font-color1, white)));\n",
       "    --sklearn-color-icon: #878787;\n",
       "  }\n",
       "}\n",
       "\n",
       "#sk-container-id-2 {\n",
       "  color: var(--sklearn-color-text);\n",
       "}\n",
       "\n",
       "#sk-container-id-2 pre {\n",
       "  padding: 0;\n",
       "}\n",
       "\n",
       "#sk-container-id-2 input.sk-hidden--visually {\n",
       "  border: 0;\n",
       "  clip: rect(1px 1px 1px 1px);\n",
       "  clip: rect(1px, 1px, 1px, 1px);\n",
       "  height: 1px;\n",
       "  margin: -1px;\n",
       "  overflow: hidden;\n",
       "  padding: 0;\n",
       "  position: absolute;\n",
       "  width: 1px;\n",
       "}\n",
       "\n",
       "#sk-container-id-2 div.sk-dashed-wrapped {\n",
       "  border: 1px dashed var(--sklearn-color-line);\n",
       "  margin: 0 0.4em 0.5em 0.4em;\n",
       "  box-sizing: border-box;\n",
       "  padding-bottom: 0.4em;\n",
       "  background-color: var(--sklearn-color-background);\n",
       "}\n",
       "\n",
       "#sk-container-id-2 div.sk-container {\n",
       "  /* jupyter's `normalize.less` sets `[hidden] { display: none; }`\n",
       "     but bootstrap.min.css set `[hidden] { display: none !important; }`\n",
       "     so we also need the `!important` here to be able to override the\n",
       "     default hidden behavior on the sphinx rendered scikit-learn.org.\n",
       "     See: https://github.com/scikit-learn/scikit-learn/issues/21755 */\n",
       "  display: inline-block !important;\n",
       "  position: relative;\n",
       "}\n",
       "\n",
       "#sk-container-id-2 div.sk-text-repr-fallback {\n",
       "  display: none;\n",
       "}\n",
       "\n",
       "div.sk-parallel-item,\n",
       "div.sk-serial,\n",
       "div.sk-item {\n",
       "  /* draw centered vertical line to link estimators */\n",
       "  background-image: linear-gradient(var(--sklearn-color-text-on-default-background), var(--sklearn-color-text-on-default-background));\n",
       "  background-size: 2px 100%;\n",
       "  background-repeat: no-repeat;\n",
       "  background-position: center center;\n",
       "}\n",
       "\n",
       "/* Parallel-specific style estimator block */\n",
       "\n",
       "#sk-container-id-2 div.sk-parallel-item::after {\n",
       "  content: \"\";\n",
       "  width: 100%;\n",
       "  border-bottom: 2px solid var(--sklearn-color-text-on-default-background);\n",
       "  flex-grow: 1;\n",
       "}\n",
       "\n",
       "#sk-container-id-2 div.sk-parallel {\n",
       "  display: flex;\n",
       "  align-items: stretch;\n",
       "  justify-content: center;\n",
       "  background-color: var(--sklearn-color-background);\n",
       "  position: relative;\n",
       "}\n",
       "\n",
       "#sk-container-id-2 div.sk-parallel-item {\n",
       "  display: flex;\n",
       "  flex-direction: column;\n",
       "}\n",
       "\n",
       "#sk-container-id-2 div.sk-parallel-item:first-child::after {\n",
       "  align-self: flex-end;\n",
       "  width: 50%;\n",
       "}\n",
       "\n",
       "#sk-container-id-2 div.sk-parallel-item:last-child::after {\n",
       "  align-self: flex-start;\n",
       "  width: 50%;\n",
       "}\n",
       "\n",
       "#sk-container-id-2 div.sk-parallel-item:only-child::after {\n",
       "  width: 0;\n",
       "}\n",
       "\n",
       "/* Serial-specific style estimator block */\n",
       "\n",
       "#sk-container-id-2 div.sk-serial {\n",
       "  display: flex;\n",
       "  flex-direction: column;\n",
       "  align-items: center;\n",
       "  background-color: var(--sklearn-color-background);\n",
       "  padding-right: 1em;\n",
       "  padding-left: 1em;\n",
       "}\n",
       "\n",
       "\n",
       "/* Toggleable style: style used for estimator/Pipeline/ColumnTransformer box that is\n",
       "clickable and can be expanded/collapsed.\n",
       "- Pipeline and ColumnTransformer use this feature and define the default style\n",
       "- Estimators will overwrite some part of the style using the `sk-estimator` class\n",
       "*/\n",
       "\n",
       "/* Pipeline and ColumnTransformer style (default) */\n",
       "\n",
       "#sk-container-id-2 div.sk-toggleable {\n",
       "  /* Default theme specific background. It is overwritten whether we have a\n",
       "  specific estimator or a Pipeline/ColumnTransformer */\n",
       "  background-color: var(--sklearn-color-background);\n",
       "}\n",
       "\n",
       "/* Toggleable label */\n",
       "#sk-container-id-2 label.sk-toggleable__label {\n",
       "  cursor: pointer;\n",
       "  display: flex;\n",
       "  width: 100%;\n",
       "  margin-bottom: 0;\n",
       "  padding: 0.5em;\n",
       "  box-sizing: border-box;\n",
       "  text-align: center;\n",
       "  align-items: start;\n",
       "  justify-content: space-between;\n",
       "  gap: 0.5em;\n",
       "}\n",
       "\n",
       "#sk-container-id-2 label.sk-toggleable__label .caption {\n",
       "  font-size: 0.6rem;\n",
       "  font-weight: lighter;\n",
       "  color: var(--sklearn-color-text-muted);\n",
       "}\n",
       "\n",
       "#sk-container-id-2 label.sk-toggleable__label-arrow:before {\n",
       "  /* Arrow on the left of the label */\n",
       "  content: \"▸\";\n",
       "  float: left;\n",
       "  margin-right: 0.25em;\n",
       "  color: var(--sklearn-color-icon);\n",
       "}\n",
       "\n",
       "#sk-container-id-2 label.sk-toggleable__label-arrow:hover:before {\n",
       "  color: var(--sklearn-color-text);\n",
       "}\n",
       "\n",
       "/* Toggleable content - dropdown */\n",
       "\n",
       "#sk-container-id-2 div.sk-toggleable__content {\n",
       "  max-height: 0;\n",
       "  max-width: 0;\n",
       "  overflow: hidden;\n",
       "  text-align: left;\n",
       "  /* unfitted */\n",
       "  background-color: var(--sklearn-color-unfitted-level-0);\n",
       "}\n",
       "\n",
       "#sk-container-id-2 div.sk-toggleable__content.fitted {\n",
       "  /* fitted */\n",
       "  background-color: var(--sklearn-color-fitted-level-0);\n",
       "}\n",
       "\n",
       "#sk-container-id-2 div.sk-toggleable__content pre {\n",
       "  margin: 0.2em;\n",
       "  border-radius: 0.25em;\n",
       "  color: var(--sklearn-color-text);\n",
       "  /* unfitted */\n",
       "  background-color: var(--sklearn-color-unfitted-level-0);\n",
       "}\n",
       "\n",
       "#sk-container-id-2 div.sk-toggleable__content.fitted pre {\n",
       "  /* unfitted */\n",
       "  background-color: var(--sklearn-color-fitted-level-0);\n",
       "}\n",
       "\n",
       "#sk-container-id-2 input.sk-toggleable__control:checked~div.sk-toggleable__content {\n",
       "  /* Expand drop-down */\n",
       "  max-height: 200px;\n",
       "  max-width: 100%;\n",
       "  overflow: auto;\n",
       "}\n",
       "\n",
       "#sk-container-id-2 input.sk-toggleable__control:checked~label.sk-toggleable__label-arrow:before {\n",
       "  content: \"▾\";\n",
       "}\n",
       "\n",
       "/* Pipeline/ColumnTransformer-specific style */\n",
       "\n",
       "#sk-container-id-2 div.sk-label input.sk-toggleable__control:checked~label.sk-toggleable__label {\n",
       "  color: var(--sklearn-color-text);\n",
       "  background-color: var(--sklearn-color-unfitted-level-2);\n",
       "}\n",
       "\n",
       "#sk-container-id-2 div.sk-label.fitted input.sk-toggleable__control:checked~label.sk-toggleable__label {\n",
       "  background-color: var(--sklearn-color-fitted-level-2);\n",
       "}\n",
       "\n",
       "/* Estimator-specific style */\n",
       "\n",
       "/* Colorize estimator box */\n",
       "#sk-container-id-2 div.sk-estimator input.sk-toggleable__control:checked~label.sk-toggleable__label {\n",
       "  /* unfitted */\n",
       "  background-color: var(--sklearn-color-unfitted-level-2);\n",
       "}\n",
       "\n",
       "#sk-container-id-2 div.sk-estimator.fitted input.sk-toggleable__control:checked~label.sk-toggleable__label {\n",
       "  /* fitted */\n",
       "  background-color: var(--sklearn-color-fitted-level-2);\n",
       "}\n",
       "\n",
       "#sk-container-id-2 div.sk-label label.sk-toggleable__label,\n",
       "#sk-container-id-2 div.sk-label label {\n",
       "  /* The background is the default theme color */\n",
       "  color: var(--sklearn-color-text-on-default-background);\n",
       "}\n",
       "\n",
       "/* On hover, darken the color of the background */\n",
       "#sk-container-id-2 div.sk-label:hover label.sk-toggleable__label {\n",
       "  color: var(--sklearn-color-text);\n",
       "  background-color: var(--sklearn-color-unfitted-level-2);\n",
       "}\n",
       "\n",
       "/* Label box, darken color on hover, fitted */\n",
       "#sk-container-id-2 div.sk-label.fitted:hover label.sk-toggleable__label.fitted {\n",
       "  color: var(--sklearn-color-text);\n",
       "  background-color: var(--sklearn-color-fitted-level-2);\n",
       "}\n",
       "\n",
       "/* Estimator label */\n",
       "\n",
       "#sk-container-id-2 div.sk-label label {\n",
       "  font-family: monospace;\n",
       "  font-weight: bold;\n",
       "  display: inline-block;\n",
       "  line-height: 1.2em;\n",
       "}\n",
       "\n",
       "#sk-container-id-2 div.sk-label-container {\n",
       "  text-align: center;\n",
       "}\n",
       "\n",
       "/* Estimator-specific */\n",
       "#sk-container-id-2 div.sk-estimator {\n",
       "  font-family: monospace;\n",
       "  border: 1px dotted var(--sklearn-color-border-box);\n",
       "  border-radius: 0.25em;\n",
       "  box-sizing: border-box;\n",
       "  margin-bottom: 0.5em;\n",
       "  /* unfitted */\n",
       "  background-color: var(--sklearn-color-unfitted-level-0);\n",
       "}\n",
       "\n",
       "#sk-container-id-2 div.sk-estimator.fitted {\n",
       "  /* fitted */\n",
       "  background-color: var(--sklearn-color-fitted-level-0);\n",
       "}\n",
       "\n",
       "/* on hover */\n",
       "#sk-container-id-2 div.sk-estimator:hover {\n",
       "  /* unfitted */\n",
       "  background-color: var(--sklearn-color-unfitted-level-2);\n",
       "}\n",
       "\n",
       "#sk-container-id-2 div.sk-estimator.fitted:hover {\n",
       "  /* fitted */\n",
       "  background-color: var(--sklearn-color-fitted-level-2);\n",
       "}\n",
       "\n",
       "/* Specification for estimator info (e.g. \"i\" and \"?\") */\n",
       "\n",
       "/* Common style for \"i\" and \"?\" */\n",
       "\n",
       ".sk-estimator-doc-link,\n",
       "a:link.sk-estimator-doc-link,\n",
       "a:visited.sk-estimator-doc-link {\n",
       "  float: right;\n",
       "  font-size: smaller;\n",
       "  line-height: 1em;\n",
       "  font-family: monospace;\n",
       "  background-color: var(--sklearn-color-background);\n",
       "  border-radius: 1em;\n",
       "  height: 1em;\n",
       "  width: 1em;\n",
       "  text-decoration: none !important;\n",
       "  margin-left: 0.5em;\n",
       "  text-align: center;\n",
       "  /* unfitted */\n",
       "  border: var(--sklearn-color-unfitted-level-1) 1pt solid;\n",
       "  color: var(--sklearn-color-unfitted-level-1);\n",
       "}\n",
       "\n",
       ".sk-estimator-doc-link.fitted,\n",
       "a:link.sk-estimator-doc-link.fitted,\n",
       "a:visited.sk-estimator-doc-link.fitted {\n",
       "  /* fitted */\n",
       "  border: var(--sklearn-color-fitted-level-1) 1pt solid;\n",
       "  color: var(--sklearn-color-fitted-level-1);\n",
       "}\n",
       "\n",
       "/* On hover */\n",
       "div.sk-estimator:hover .sk-estimator-doc-link:hover,\n",
       ".sk-estimator-doc-link:hover,\n",
       "div.sk-label-container:hover .sk-estimator-doc-link:hover,\n",
       ".sk-estimator-doc-link:hover {\n",
       "  /* unfitted */\n",
       "  background-color: var(--sklearn-color-unfitted-level-3);\n",
       "  color: var(--sklearn-color-background);\n",
       "  text-decoration: none;\n",
       "}\n",
       "\n",
       "div.sk-estimator.fitted:hover .sk-estimator-doc-link.fitted:hover,\n",
       ".sk-estimator-doc-link.fitted:hover,\n",
       "div.sk-label-container:hover .sk-estimator-doc-link.fitted:hover,\n",
       ".sk-estimator-doc-link.fitted:hover {\n",
       "  /* fitted */\n",
       "  background-color: var(--sklearn-color-fitted-level-3);\n",
       "  color: var(--sklearn-color-background);\n",
       "  text-decoration: none;\n",
       "}\n",
       "\n",
       "/* Span, style for the box shown on hovering the info icon */\n",
       ".sk-estimator-doc-link span {\n",
       "  display: none;\n",
       "  z-index: 9999;\n",
       "  position: relative;\n",
       "  font-weight: normal;\n",
       "  right: .2ex;\n",
       "  padding: .5ex;\n",
       "  margin: .5ex;\n",
       "  width: min-content;\n",
       "  min-width: 20ex;\n",
       "  max-width: 50ex;\n",
       "  color: var(--sklearn-color-text);\n",
       "  box-shadow: 2pt 2pt 4pt #999;\n",
       "  /* unfitted */\n",
       "  background: var(--sklearn-color-unfitted-level-0);\n",
       "  border: .5pt solid var(--sklearn-color-unfitted-level-3);\n",
       "}\n",
       "\n",
       ".sk-estimator-doc-link.fitted span {\n",
       "  /* fitted */\n",
       "  background: var(--sklearn-color-fitted-level-0);\n",
       "  border: var(--sklearn-color-fitted-level-3);\n",
       "}\n",
       "\n",
       ".sk-estimator-doc-link:hover span {\n",
       "  display: block;\n",
       "}\n",
       "\n",
       "/* \"?\"-specific style due to the `<a>` HTML tag */\n",
       "\n",
       "#sk-container-id-2 a.estimator_doc_link {\n",
       "  float: right;\n",
       "  font-size: 1rem;\n",
       "  line-height: 1em;\n",
       "  font-family: monospace;\n",
       "  background-color: var(--sklearn-color-background);\n",
       "  border-radius: 1rem;\n",
       "  height: 1rem;\n",
       "  width: 1rem;\n",
       "  text-decoration: none;\n",
       "  /* unfitted */\n",
       "  color: var(--sklearn-color-unfitted-level-1);\n",
       "  border: var(--sklearn-color-unfitted-level-1) 1pt solid;\n",
       "}\n",
       "\n",
       "#sk-container-id-2 a.estimator_doc_link.fitted {\n",
       "  /* fitted */\n",
       "  border: var(--sklearn-color-fitted-level-1) 1pt solid;\n",
       "  color: var(--sklearn-color-fitted-level-1);\n",
       "}\n",
       "\n",
       "/* On hover */\n",
       "#sk-container-id-2 a.estimator_doc_link:hover {\n",
       "  /* unfitted */\n",
       "  background-color: var(--sklearn-color-unfitted-level-3);\n",
       "  color: var(--sklearn-color-background);\n",
       "  text-decoration: none;\n",
       "}\n",
       "\n",
       "#sk-container-id-2 a.estimator_doc_link.fitted:hover {\n",
       "  /* fitted */\n",
       "  background-color: var(--sklearn-color-fitted-level-3);\n",
       "}\n",
       "</style><div id=\"sk-container-id-2\" class=\"sk-top-container\"><div class=\"sk-text-repr-fallback\"><pre>RandomizedSearchCV(cv=5,\n",
       "                   estimator=LGBMClassifier(is_unbalance=True, random_state=42),\n",
       "                   n_iter=5, n_jobs=-1,\n",
       "                   param_distributions={&#x27;colsample_bytree&#x27;: [0.7, 0.8, 0.9,\n",
       "                                                             1.0],\n",
       "                                        &#x27;learning_rate&#x27;: [0.01, 0.05, 0.1],\n",
       "                                        &#x27;max_depth&#x27;: [-1, 5, 10, 15],\n",
       "                                        &#x27;min_child_samples&#x27;: [10, 20, 30],\n",
       "                                        &#x27;n_estimators&#x27;: [100, 200, 300],\n",
       "                                        &#x27;num_leaves&#x27;: [31, 50, 100],\n",
       "                                        &#x27;subsample&#x27;: [0.7, 0.8, 0.9, 1.0]},\n",
       "                   random_state=42, scoring=&#x27;recall&#x27;)</pre><b>In a Jupyter environment, please rerun this cell to show the HTML representation or trust the notebook. <br />On GitHub, the HTML representation is unable to render, please try loading this page with nbviewer.org.</b></div><div class=\"sk-container\" hidden><div class=\"sk-item sk-dashed-wrapped\"><div class=\"sk-label-container\"><div class=\"sk-label fitted sk-toggleable\"><input class=\"sk-toggleable__control sk-hidden--visually\" id=\"sk-estimator-id-10\" type=\"checkbox\" ><label for=\"sk-estimator-id-10\" class=\"sk-toggleable__label fitted sk-toggleable__label-arrow\"><div><div>RandomizedSearchCV</div></div><div><a class=\"sk-estimator-doc-link fitted\" rel=\"noreferrer\" target=\"_blank\" href=\"https://scikit-learn.org/1.6/modules/generated/sklearn.model_selection.RandomizedSearchCV.html\">?<span>Documentation for RandomizedSearchCV</span></a><span class=\"sk-estimator-doc-link fitted\">i<span>Fitted</span></span></div></label><div class=\"sk-toggleable__content fitted\"><pre>RandomizedSearchCV(cv=5,\n",
       "                   estimator=LGBMClassifier(is_unbalance=True, random_state=42),\n",
       "                   n_iter=5, n_jobs=-1,\n",
       "                   param_distributions={&#x27;colsample_bytree&#x27;: [0.7, 0.8, 0.9,\n",
       "                                                             1.0],\n",
       "                                        &#x27;learning_rate&#x27;: [0.01, 0.05, 0.1],\n",
       "                                        &#x27;max_depth&#x27;: [-1, 5, 10, 15],\n",
       "                                        &#x27;min_child_samples&#x27;: [10, 20, 30],\n",
       "                                        &#x27;n_estimators&#x27;: [100, 200, 300],\n",
       "                                        &#x27;num_leaves&#x27;: [31, 50, 100],\n",
       "                                        &#x27;subsample&#x27;: [0.7, 0.8, 0.9, 1.0]},\n",
       "                   random_state=42, scoring=&#x27;recall&#x27;)</pre></div> </div></div><div class=\"sk-parallel\"><div class=\"sk-parallel-item\"><div class=\"sk-item\"><div class=\"sk-label-container\"><div class=\"sk-label fitted sk-toggleable\"><input class=\"sk-toggleable__control sk-hidden--visually\" id=\"sk-estimator-id-11\" type=\"checkbox\" ><label for=\"sk-estimator-id-11\" class=\"sk-toggleable__label fitted sk-toggleable__label-arrow\"><div><div>best_estimator_: LGBMClassifier</div></div></label><div class=\"sk-toggleable__content fitted\"><pre>LGBMClassifier(colsample_bytree=0.7, is_unbalance=True, learning_rate=0.05,\n",
       "               max_depth=15, min_child_samples=30, n_estimators=300,\n",
       "               num_leaves=100, random_state=42, subsample=0.7)</pre></div> </div></div><div class=\"sk-serial\"><div class=\"sk-item\"><div class=\"sk-estimator fitted sk-toggleable\"><input class=\"sk-toggleable__control sk-hidden--visually\" id=\"sk-estimator-id-12\" type=\"checkbox\" ><label for=\"sk-estimator-id-12\" class=\"sk-toggleable__label fitted sk-toggleable__label-arrow\"><div><div>LGBMClassifier</div></div></label><div class=\"sk-toggleable__content fitted\"><pre>LGBMClassifier(colsample_bytree=0.7, is_unbalance=True, learning_rate=0.05,\n",
       "               max_depth=15, min_child_samples=30, n_estimators=300,\n",
       "               num_leaves=100, random_state=42, subsample=0.7)</pre></div> </div></div></div></div></div></div></div></div></div>"
      ],
      "text/plain": [
       "RandomizedSearchCV(cv=5,\n",
       "                   estimator=LGBMClassifier(is_unbalance=True, random_state=42),\n",
       "                   n_iter=5, n_jobs=-1,\n",
       "                   param_distributions={'colsample_bytree': [0.7, 0.8, 0.9,\n",
       "                                                             1.0],\n",
       "                                        'learning_rate': [0.01, 0.05, 0.1],\n",
       "                                        'max_depth': [-1, 5, 10, 15],\n",
       "                                        'min_child_samples': [10, 20, 30],\n",
       "                                        'n_estimators': [100, 200, 300],\n",
       "                                        'num_leaves': [31, 50, 100],\n",
       "                                        'subsample': [0.7, 0.8, 0.9, 1.0]},\n",
       "                   random_state=42, scoring='recall')"
      ]
     },
     "execution_count": 75,
     "metadata": {},
     "output_type": "execute_result"
    }
   ],
   "source": [
    "%%time\n",
    "search_lgbm.fit(X_train, y_train)"
   ]
  },
  {
   "cell_type": "code",
   "execution_count": 76,
   "metadata": {},
   "outputs": [
    {
     "name": "stdout",
     "output_type": "stream",
     "text": [
      "Best parameters: {'subsample': 0.7, 'num_leaves': 100, 'n_estimators': 300, 'min_child_samples': 30, 'max_depth': 15, 'learning_rate': 0.05, 'colsample_bytree': 0.7}\n",
      "Best Recall 0.5028302698509932\n"
     ]
    }
   ],
   "source": [
    "print(\"Best parameters:\", search_lgbm.best_params_)\n",
    "print(\"Best Recall\", search_lgbm.best_score_)"
   ]
  },
  {
   "cell_type": "code",
   "execution_count": 77,
   "metadata": {},
   "outputs": [
    {
     "data": {
      "text/html": [
       "<div>\n",
       "<style scoped>\n",
       "    .dataframe tbody tr th:only-of-type {\n",
       "        vertical-align: middle;\n",
       "    }\n",
       "\n",
       "    .dataframe tbody tr th {\n",
       "        vertical-align: top;\n",
       "    }\n",
       "\n",
       "    .dataframe thead th {\n",
       "        text-align: right;\n",
       "    }\n",
       "</style>\n",
       "<table border=\"1\" class=\"dataframe\">\n",
       "  <thead>\n",
       "    <tr style=\"text-align: right;\">\n",
       "      <th></th>\n",
       "      <th>mean_fit_time</th>\n",
       "      <th>mean_score_time</th>\n",
       "      <th>mean_test_score</th>\n",
       "    </tr>\n",
       "  </thead>\n",
       "  <tbody>\n",
       "    <tr>\n",
       "      <th>0</th>\n",
       "      <td>10.992318</td>\n",
       "      <td>0.104344</td>\n",
       "      <td>0.50283</td>\n",
       "    </tr>\n",
       "  </tbody>\n",
       "</table>\n",
       "</div>"
      ],
      "text/plain": [
       "   mean_fit_time  mean_score_time  mean_test_score\n",
       "0      10.992318         0.104344          0.50283"
      ]
     },
     "execution_count": 77,
     "metadata": {},
     "output_type": "execute_result"
    }
   ],
   "source": [
    "# Output the params \n",
    "res = pd.DataFrame(search_lgbm.cv_results_).sort_values(by='mean_test_score', ascending=False).head(1)\n",
    "res_lgbm= res[['mean_fit_time', 'mean_score_time', 'mean_test_score']].copy()\n",
    "res_lgbm"
   ]
  },
  {
   "cell_type": "markdown",
   "metadata": {},
   "source": [
    "## 5.4 Модель 3 - CatBoostClassifier"
   ]
  },
  {
   "cell_type": "code",
   "execution_count": 78,
   "metadata": {},
   "outputs": [
    {
     "data": {
      "text/html": [
       "<style>#sk-container-id-3 {\n",
       "  /* Definition of color scheme common for light and dark mode */\n",
       "  --sklearn-color-text: #000;\n",
       "  --sklearn-color-text-muted: #666;\n",
       "  --sklearn-color-line: gray;\n",
       "  /* Definition of color scheme for unfitted estimators */\n",
       "  --sklearn-color-unfitted-level-0: #fff5e6;\n",
       "  --sklearn-color-unfitted-level-1: #f6e4d2;\n",
       "  --sklearn-color-unfitted-level-2: #ffe0b3;\n",
       "  --sklearn-color-unfitted-level-3: chocolate;\n",
       "  /* Definition of color scheme for fitted estimators */\n",
       "  --sklearn-color-fitted-level-0: #f0f8ff;\n",
       "  --sklearn-color-fitted-level-1: #d4ebff;\n",
       "  --sklearn-color-fitted-level-2: #b3dbfd;\n",
       "  --sklearn-color-fitted-level-3: cornflowerblue;\n",
       "\n",
       "  /* Specific color for light theme */\n",
       "  --sklearn-color-text-on-default-background: var(--sg-text-color, var(--theme-code-foreground, var(--jp-content-font-color1, black)));\n",
       "  --sklearn-color-background: var(--sg-background-color, var(--theme-background, var(--jp-layout-color0, white)));\n",
       "  --sklearn-color-border-box: var(--sg-text-color, var(--theme-code-foreground, var(--jp-content-font-color1, black)));\n",
       "  --sklearn-color-icon: #696969;\n",
       "\n",
       "  @media (prefers-color-scheme: dark) {\n",
       "    /* Redefinition of color scheme for dark theme */\n",
       "    --sklearn-color-text-on-default-background: var(--sg-text-color, var(--theme-code-foreground, var(--jp-content-font-color1, white)));\n",
       "    --sklearn-color-background: var(--sg-background-color, var(--theme-background, var(--jp-layout-color0, #111)));\n",
       "    --sklearn-color-border-box: var(--sg-text-color, var(--theme-code-foreground, var(--jp-content-font-color1, white)));\n",
       "    --sklearn-color-icon: #878787;\n",
       "  }\n",
       "}\n",
       "\n",
       "#sk-container-id-3 {\n",
       "  color: var(--sklearn-color-text);\n",
       "}\n",
       "\n",
       "#sk-container-id-3 pre {\n",
       "  padding: 0;\n",
       "}\n",
       "\n",
       "#sk-container-id-3 input.sk-hidden--visually {\n",
       "  border: 0;\n",
       "  clip: rect(1px 1px 1px 1px);\n",
       "  clip: rect(1px, 1px, 1px, 1px);\n",
       "  height: 1px;\n",
       "  margin: -1px;\n",
       "  overflow: hidden;\n",
       "  padding: 0;\n",
       "  position: absolute;\n",
       "  width: 1px;\n",
       "}\n",
       "\n",
       "#sk-container-id-3 div.sk-dashed-wrapped {\n",
       "  border: 1px dashed var(--sklearn-color-line);\n",
       "  margin: 0 0.4em 0.5em 0.4em;\n",
       "  box-sizing: border-box;\n",
       "  padding-bottom: 0.4em;\n",
       "  background-color: var(--sklearn-color-background);\n",
       "}\n",
       "\n",
       "#sk-container-id-3 div.sk-container {\n",
       "  /* jupyter's `normalize.less` sets `[hidden] { display: none; }`\n",
       "     but bootstrap.min.css set `[hidden] { display: none !important; }`\n",
       "     so we also need the `!important` here to be able to override the\n",
       "     default hidden behavior on the sphinx rendered scikit-learn.org.\n",
       "     See: https://github.com/scikit-learn/scikit-learn/issues/21755 */\n",
       "  display: inline-block !important;\n",
       "  position: relative;\n",
       "}\n",
       "\n",
       "#sk-container-id-3 div.sk-text-repr-fallback {\n",
       "  display: none;\n",
       "}\n",
       "\n",
       "div.sk-parallel-item,\n",
       "div.sk-serial,\n",
       "div.sk-item {\n",
       "  /* draw centered vertical line to link estimators */\n",
       "  background-image: linear-gradient(var(--sklearn-color-text-on-default-background), var(--sklearn-color-text-on-default-background));\n",
       "  background-size: 2px 100%;\n",
       "  background-repeat: no-repeat;\n",
       "  background-position: center center;\n",
       "}\n",
       "\n",
       "/* Parallel-specific style estimator block */\n",
       "\n",
       "#sk-container-id-3 div.sk-parallel-item::after {\n",
       "  content: \"\";\n",
       "  width: 100%;\n",
       "  border-bottom: 2px solid var(--sklearn-color-text-on-default-background);\n",
       "  flex-grow: 1;\n",
       "}\n",
       "\n",
       "#sk-container-id-3 div.sk-parallel {\n",
       "  display: flex;\n",
       "  align-items: stretch;\n",
       "  justify-content: center;\n",
       "  background-color: var(--sklearn-color-background);\n",
       "  position: relative;\n",
       "}\n",
       "\n",
       "#sk-container-id-3 div.sk-parallel-item {\n",
       "  display: flex;\n",
       "  flex-direction: column;\n",
       "}\n",
       "\n",
       "#sk-container-id-3 div.sk-parallel-item:first-child::after {\n",
       "  align-self: flex-end;\n",
       "  width: 50%;\n",
       "}\n",
       "\n",
       "#sk-container-id-3 div.sk-parallel-item:last-child::after {\n",
       "  align-self: flex-start;\n",
       "  width: 50%;\n",
       "}\n",
       "\n",
       "#sk-container-id-3 div.sk-parallel-item:only-child::after {\n",
       "  width: 0;\n",
       "}\n",
       "\n",
       "/* Serial-specific style estimator block */\n",
       "\n",
       "#sk-container-id-3 div.sk-serial {\n",
       "  display: flex;\n",
       "  flex-direction: column;\n",
       "  align-items: center;\n",
       "  background-color: var(--sklearn-color-background);\n",
       "  padding-right: 1em;\n",
       "  padding-left: 1em;\n",
       "}\n",
       "\n",
       "\n",
       "/* Toggleable style: style used for estimator/Pipeline/ColumnTransformer box that is\n",
       "clickable and can be expanded/collapsed.\n",
       "- Pipeline and ColumnTransformer use this feature and define the default style\n",
       "- Estimators will overwrite some part of the style using the `sk-estimator` class\n",
       "*/\n",
       "\n",
       "/* Pipeline and ColumnTransformer style (default) */\n",
       "\n",
       "#sk-container-id-3 div.sk-toggleable {\n",
       "  /* Default theme specific background. It is overwritten whether we have a\n",
       "  specific estimator or a Pipeline/ColumnTransformer */\n",
       "  background-color: var(--sklearn-color-background);\n",
       "}\n",
       "\n",
       "/* Toggleable label */\n",
       "#sk-container-id-3 label.sk-toggleable__label {\n",
       "  cursor: pointer;\n",
       "  display: flex;\n",
       "  width: 100%;\n",
       "  margin-bottom: 0;\n",
       "  padding: 0.5em;\n",
       "  box-sizing: border-box;\n",
       "  text-align: center;\n",
       "  align-items: start;\n",
       "  justify-content: space-between;\n",
       "  gap: 0.5em;\n",
       "}\n",
       "\n",
       "#sk-container-id-3 label.sk-toggleable__label .caption {\n",
       "  font-size: 0.6rem;\n",
       "  font-weight: lighter;\n",
       "  color: var(--sklearn-color-text-muted);\n",
       "}\n",
       "\n",
       "#sk-container-id-3 label.sk-toggleable__label-arrow:before {\n",
       "  /* Arrow on the left of the label */\n",
       "  content: \"▸\";\n",
       "  float: left;\n",
       "  margin-right: 0.25em;\n",
       "  color: var(--sklearn-color-icon);\n",
       "}\n",
       "\n",
       "#sk-container-id-3 label.sk-toggleable__label-arrow:hover:before {\n",
       "  color: var(--sklearn-color-text);\n",
       "}\n",
       "\n",
       "/* Toggleable content - dropdown */\n",
       "\n",
       "#sk-container-id-3 div.sk-toggleable__content {\n",
       "  max-height: 0;\n",
       "  max-width: 0;\n",
       "  overflow: hidden;\n",
       "  text-align: left;\n",
       "  /* unfitted */\n",
       "  background-color: var(--sklearn-color-unfitted-level-0);\n",
       "}\n",
       "\n",
       "#sk-container-id-3 div.sk-toggleable__content.fitted {\n",
       "  /* fitted */\n",
       "  background-color: var(--sklearn-color-fitted-level-0);\n",
       "}\n",
       "\n",
       "#sk-container-id-3 div.sk-toggleable__content pre {\n",
       "  margin: 0.2em;\n",
       "  border-radius: 0.25em;\n",
       "  color: var(--sklearn-color-text);\n",
       "  /* unfitted */\n",
       "  background-color: var(--sklearn-color-unfitted-level-0);\n",
       "}\n",
       "\n",
       "#sk-container-id-3 div.sk-toggleable__content.fitted pre {\n",
       "  /* unfitted */\n",
       "  background-color: var(--sklearn-color-fitted-level-0);\n",
       "}\n",
       "\n",
       "#sk-container-id-3 input.sk-toggleable__control:checked~div.sk-toggleable__content {\n",
       "  /* Expand drop-down */\n",
       "  max-height: 200px;\n",
       "  max-width: 100%;\n",
       "  overflow: auto;\n",
       "}\n",
       "\n",
       "#sk-container-id-3 input.sk-toggleable__control:checked~label.sk-toggleable__label-arrow:before {\n",
       "  content: \"▾\";\n",
       "}\n",
       "\n",
       "/* Pipeline/ColumnTransformer-specific style */\n",
       "\n",
       "#sk-container-id-3 div.sk-label input.sk-toggleable__control:checked~label.sk-toggleable__label {\n",
       "  color: var(--sklearn-color-text);\n",
       "  background-color: var(--sklearn-color-unfitted-level-2);\n",
       "}\n",
       "\n",
       "#sk-container-id-3 div.sk-label.fitted input.sk-toggleable__control:checked~label.sk-toggleable__label {\n",
       "  background-color: var(--sklearn-color-fitted-level-2);\n",
       "}\n",
       "\n",
       "/* Estimator-specific style */\n",
       "\n",
       "/* Colorize estimator box */\n",
       "#sk-container-id-3 div.sk-estimator input.sk-toggleable__control:checked~label.sk-toggleable__label {\n",
       "  /* unfitted */\n",
       "  background-color: var(--sklearn-color-unfitted-level-2);\n",
       "}\n",
       "\n",
       "#sk-container-id-3 div.sk-estimator.fitted input.sk-toggleable__control:checked~label.sk-toggleable__label {\n",
       "  /* fitted */\n",
       "  background-color: var(--sklearn-color-fitted-level-2);\n",
       "}\n",
       "\n",
       "#sk-container-id-3 div.sk-label label.sk-toggleable__label,\n",
       "#sk-container-id-3 div.sk-label label {\n",
       "  /* The background is the default theme color */\n",
       "  color: var(--sklearn-color-text-on-default-background);\n",
       "}\n",
       "\n",
       "/* On hover, darken the color of the background */\n",
       "#sk-container-id-3 div.sk-label:hover label.sk-toggleable__label {\n",
       "  color: var(--sklearn-color-text);\n",
       "  background-color: var(--sklearn-color-unfitted-level-2);\n",
       "}\n",
       "\n",
       "/* Label box, darken color on hover, fitted */\n",
       "#sk-container-id-3 div.sk-label.fitted:hover label.sk-toggleable__label.fitted {\n",
       "  color: var(--sklearn-color-text);\n",
       "  background-color: var(--sklearn-color-fitted-level-2);\n",
       "}\n",
       "\n",
       "/* Estimator label */\n",
       "\n",
       "#sk-container-id-3 div.sk-label label {\n",
       "  font-family: monospace;\n",
       "  font-weight: bold;\n",
       "  display: inline-block;\n",
       "  line-height: 1.2em;\n",
       "}\n",
       "\n",
       "#sk-container-id-3 div.sk-label-container {\n",
       "  text-align: center;\n",
       "}\n",
       "\n",
       "/* Estimator-specific */\n",
       "#sk-container-id-3 div.sk-estimator {\n",
       "  font-family: monospace;\n",
       "  border: 1px dotted var(--sklearn-color-border-box);\n",
       "  border-radius: 0.25em;\n",
       "  box-sizing: border-box;\n",
       "  margin-bottom: 0.5em;\n",
       "  /* unfitted */\n",
       "  background-color: var(--sklearn-color-unfitted-level-0);\n",
       "}\n",
       "\n",
       "#sk-container-id-3 div.sk-estimator.fitted {\n",
       "  /* fitted */\n",
       "  background-color: var(--sklearn-color-fitted-level-0);\n",
       "}\n",
       "\n",
       "/* on hover */\n",
       "#sk-container-id-3 div.sk-estimator:hover {\n",
       "  /* unfitted */\n",
       "  background-color: var(--sklearn-color-unfitted-level-2);\n",
       "}\n",
       "\n",
       "#sk-container-id-3 div.sk-estimator.fitted:hover {\n",
       "  /* fitted */\n",
       "  background-color: var(--sklearn-color-fitted-level-2);\n",
       "}\n",
       "\n",
       "/* Specification for estimator info (e.g. \"i\" and \"?\") */\n",
       "\n",
       "/* Common style for \"i\" and \"?\" */\n",
       "\n",
       ".sk-estimator-doc-link,\n",
       "a:link.sk-estimator-doc-link,\n",
       "a:visited.sk-estimator-doc-link {\n",
       "  float: right;\n",
       "  font-size: smaller;\n",
       "  line-height: 1em;\n",
       "  font-family: monospace;\n",
       "  background-color: var(--sklearn-color-background);\n",
       "  border-radius: 1em;\n",
       "  height: 1em;\n",
       "  width: 1em;\n",
       "  text-decoration: none !important;\n",
       "  margin-left: 0.5em;\n",
       "  text-align: center;\n",
       "  /* unfitted */\n",
       "  border: var(--sklearn-color-unfitted-level-1) 1pt solid;\n",
       "  color: var(--sklearn-color-unfitted-level-1);\n",
       "}\n",
       "\n",
       ".sk-estimator-doc-link.fitted,\n",
       "a:link.sk-estimator-doc-link.fitted,\n",
       "a:visited.sk-estimator-doc-link.fitted {\n",
       "  /* fitted */\n",
       "  border: var(--sklearn-color-fitted-level-1) 1pt solid;\n",
       "  color: var(--sklearn-color-fitted-level-1);\n",
       "}\n",
       "\n",
       "/* On hover */\n",
       "div.sk-estimator:hover .sk-estimator-doc-link:hover,\n",
       ".sk-estimator-doc-link:hover,\n",
       "div.sk-label-container:hover .sk-estimator-doc-link:hover,\n",
       ".sk-estimator-doc-link:hover {\n",
       "  /* unfitted */\n",
       "  background-color: var(--sklearn-color-unfitted-level-3);\n",
       "  color: var(--sklearn-color-background);\n",
       "  text-decoration: none;\n",
       "}\n",
       "\n",
       "div.sk-estimator.fitted:hover .sk-estimator-doc-link.fitted:hover,\n",
       ".sk-estimator-doc-link.fitted:hover,\n",
       "div.sk-label-container:hover .sk-estimator-doc-link.fitted:hover,\n",
       ".sk-estimator-doc-link.fitted:hover {\n",
       "  /* fitted */\n",
       "  background-color: var(--sklearn-color-fitted-level-3);\n",
       "  color: var(--sklearn-color-background);\n",
       "  text-decoration: none;\n",
       "}\n",
       "\n",
       "/* Span, style for the box shown on hovering the info icon */\n",
       ".sk-estimator-doc-link span {\n",
       "  display: none;\n",
       "  z-index: 9999;\n",
       "  position: relative;\n",
       "  font-weight: normal;\n",
       "  right: .2ex;\n",
       "  padding: .5ex;\n",
       "  margin: .5ex;\n",
       "  width: min-content;\n",
       "  min-width: 20ex;\n",
       "  max-width: 50ex;\n",
       "  color: var(--sklearn-color-text);\n",
       "  box-shadow: 2pt 2pt 4pt #999;\n",
       "  /* unfitted */\n",
       "  background: var(--sklearn-color-unfitted-level-0);\n",
       "  border: .5pt solid var(--sklearn-color-unfitted-level-3);\n",
       "}\n",
       "\n",
       ".sk-estimator-doc-link.fitted span {\n",
       "  /* fitted */\n",
       "  background: var(--sklearn-color-fitted-level-0);\n",
       "  border: var(--sklearn-color-fitted-level-3);\n",
       "}\n",
       "\n",
       ".sk-estimator-doc-link:hover span {\n",
       "  display: block;\n",
       "}\n",
       "\n",
       "/* \"?\"-specific style due to the `<a>` HTML tag */\n",
       "\n",
       "#sk-container-id-3 a.estimator_doc_link {\n",
       "  float: right;\n",
       "  font-size: 1rem;\n",
       "  line-height: 1em;\n",
       "  font-family: monospace;\n",
       "  background-color: var(--sklearn-color-background);\n",
       "  border-radius: 1rem;\n",
       "  height: 1rem;\n",
       "  width: 1rem;\n",
       "  text-decoration: none;\n",
       "  /* unfitted */\n",
       "  color: var(--sklearn-color-unfitted-level-1);\n",
       "  border: var(--sklearn-color-unfitted-level-1) 1pt solid;\n",
       "}\n",
       "\n",
       "#sk-container-id-3 a.estimator_doc_link.fitted {\n",
       "  /* fitted */\n",
       "  border: var(--sklearn-color-fitted-level-1) 1pt solid;\n",
       "  color: var(--sklearn-color-fitted-level-1);\n",
       "}\n",
       "\n",
       "/* On hover */\n",
       "#sk-container-id-3 a.estimator_doc_link:hover {\n",
       "  /* unfitted */\n",
       "  background-color: var(--sklearn-color-unfitted-level-3);\n",
       "  color: var(--sklearn-color-background);\n",
       "  text-decoration: none;\n",
       "}\n",
       "\n",
       "#sk-container-id-3 a.estimator_doc_link.fitted:hover {\n",
       "  /* fitted */\n",
       "  background-color: var(--sklearn-color-fitted-level-3);\n",
       "}\n",
       "</style><div id=\"sk-container-id-3\" class=\"sk-top-container\"><div class=\"sk-text-repr-fallback\"><pre>RandomizedSearchCV(cv=5,\n",
       "                   estimator=&lt;catboost.core.CatBoostClassifier object at 0x14774f4d0&gt;,\n",
       "                   n_iter=5, n_jobs=-1,\n",
       "                   param_distributions={&#x27;border_count&#x27;: [32, 64, 128],\n",
       "                                        &#x27;depth&#x27;: [4, 6, 8, 10],\n",
       "                                        &#x27;iterations&#x27;: [100, 300, 500, 1000],\n",
       "                                        &#x27;l2_leaf_reg&#x27;: [1, 3, 5, 7],\n",
       "                                        &#x27;learning_rate&#x27;: [0.01, 0.05, 0.1,\n",
       "                                                          0.2]},\n",
       "                   random_state=42, scoring=&#x27;recall&#x27;)</pre><b>In a Jupyter environment, please rerun this cell to show the HTML representation or trust the notebook. <br />On GitHub, the HTML representation is unable to render, please try loading this page with nbviewer.org.</b></div><div class=\"sk-container\" hidden><div class=\"sk-item sk-dashed-wrapped\"><div class=\"sk-label-container\"><div class=\"sk-label fitted sk-toggleable\"><input class=\"sk-toggleable__control sk-hidden--visually\" id=\"sk-estimator-id-13\" type=\"checkbox\" ><label for=\"sk-estimator-id-13\" class=\"sk-toggleable__label fitted sk-toggleable__label-arrow\"><div><div>RandomizedSearchCV</div></div><div><a class=\"sk-estimator-doc-link fitted\" rel=\"noreferrer\" target=\"_blank\" href=\"https://scikit-learn.org/1.6/modules/generated/sklearn.model_selection.RandomizedSearchCV.html\">?<span>Documentation for RandomizedSearchCV</span></a><span class=\"sk-estimator-doc-link fitted\">i<span>Fitted</span></span></div></label><div class=\"sk-toggleable__content fitted\"><pre>RandomizedSearchCV(cv=5,\n",
       "                   estimator=&lt;catboost.core.CatBoostClassifier object at 0x14774f4d0&gt;,\n",
       "                   n_iter=5, n_jobs=-1,\n",
       "                   param_distributions={&#x27;border_count&#x27;: [32, 64, 128],\n",
       "                                        &#x27;depth&#x27;: [4, 6, 8, 10],\n",
       "                                        &#x27;iterations&#x27;: [100, 300, 500, 1000],\n",
       "                                        &#x27;l2_leaf_reg&#x27;: [1, 3, 5, 7],\n",
       "                                        &#x27;learning_rate&#x27;: [0.01, 0.05, 0.1,\n",
       "                                                          0.2]},\n",
       "                   random_state=42, scoring=&#x27;recall&#x27;)</pre></div> </div></div><div class=\"sk-parallel\"><div class=\"sk-parallel-item\"><div class=\"sk-item\"><div class=\"sk-label-container\"><div class=\"sk-label fitted sk-toggleable\"><input class=\"sk-toggleable__control sk-hidden--visually\" id=\"sk-estimator-id-14\" type=\"checkbox\" ><label for=\"sk-estimator-id-14\" class=\"sk-toggleable__label fitted sk-toggleable__label-arrow\"><div><div>best_estimator_: CatBoostClassifier</div></div></label><div class=\"sk-toggleable__content fitted\"><pre>&lt;catboost.core.CatBoostClassifier object at 0x1449f11d0&gt;</pre></div> </div></div><div class=\"sk-serial\"><div class=\"sk-item\"><div class=\"sk-estimator fitted sk-toggleable\"><input class=\"sk-toggleable__control sk-hidden--visually\" id=\"sk-estimator-id-15\" type=\"checkbox\" ><label for=\"sk-estimator-id-15\" class=\"sk-toggleable__label fitted sk-toggleable__label-arrow\"><div><div>CatBoostClassifier</div></div></label><div class=\"sk-toggleable__content fitted\"><pre>&lt;catboost.core.CatBoostClassifier object at 0x1449f11d0&gt;</pre></div> </div></div></div></div></div></div></div></div></div>"
      ],
      "text/plain": [
       "RandomizedSearchCV(cv=5,\n",
       "                   estimator=<catboost.core.CatBoostClassifier object at 0x14774f4d0>,\n",
       "                   n_iter=5, n_jobs=-1,\n",
       "                   param_distributions={'border_count': [32, 64, 128],\n",
       "                                        'depth': [4, 6, 8, 10],\n",
       "                                        'iterations': [100, 300, 500, 1000],\n",
       "                                        'l2_leaf_reg': [1, 3, 5, 7],\n",
       "                                        'learning_rate': [0.01, 0.05, 0.1,\n",
       "                                                          0.2]},\n",
       "                   random_state=42, scoring='recall')"
      ]
     },
     "execution_count": 78,
     "metadata": {},
     "output_type": "execute_result"
    }
   ],
   "source": [
    "df_cb = df_main[cols_to_keep]\n",
    "\n",
    "\n",
    "target = 'at_fault'\n",
    "features = df_cb.drop(target, axis=1)\n",
    "\n",
    "numeric = features.select_dtypes(exclude='object').columns.to_list()\n",
    "categorical = features.select_dtypes(include='object').columns.to_list()\n",
    "\n",
    "X_train = features\n",
    "y_train = df_cb[target]\n",
    "\n",
    "X_train = X_train.fillna(\"missing_value\")\n",
    "\n",
    "model = CatBoostClassifier(auto_class_weights='Balanced', random_state=RANDOM_STATE, verbose=0)\n",
    "\n",
    "param_distributions = {\n",
    "    'iterations': [100, 300, 500, 1000],\n",
    "    'depth': [4, 6, 8, 10],\n",
    "    'learning_rate': [0.01, 0.05, 0.1, 0.2],\n",
    "    'l2_leaf_reg': [1, 3, 5, 7],\n",
    "    'border_count': [32, 64, 128]\n",
    "}\n",
    "\n",
    "random_search = RandomizedSearchCV(\n",
    "    model,\n",
    "    param_distributions,\n",
    "    n_iter=5,\n",
    "    scoring='recall',\n",
    "    cv=5,\n",
    "    random_state=RANDOM_STATE,\n",
    "    n_jobs=-1\n",
    ")\n",
    "random_search.fit(X_train, y_train, cat_features=categorical)"
   ]
  },
  {
   "cell_type": "code",
   "execution_count": 79,
   "metadata": {},
   "outputs": [
    {
     "name": "stdout",
     "output_type": "stream",
     "text": [
      "Best Parameters: {'learning_rate': 0.2, 'l2_leaf_reg': 3, 'iterations': 100, 'depth': 6, 'border_count': 32}\n",
      "Best Recall Score: 0.5623968233787815\n"
     ]
    }
   ],
   "source": [
    "print(\"Best Parameters:\", random_search.best_params_)\n",
    "print(\"Best Recall Score:\", random_search.best_score_)"
   ]
  },
  {
   "cell_type": "code",
   "execution_count": 80,
   "metadata": {},
   "outputs": [
    {
     "data": {
      "text/html": [
       "<div>\n",
       "<style scoped>\n",
       "    .dataframe tbody tr th:only-of-type {\n",
       "        vertical-align: middle;\n",
       "    }\n",
       "\n",
       "    .dataframe tbody tr th {\n",
       "        vertical-align: top;\n",
       "    }\n",
       "\n",
       "    .dataframe thead th {\n",
       "        text-align: right;\n",
       "    }\n",
       "</style>\n",
       "<table border=\"1\" class=\"dataframe\">\n",
       "  <thead>\n",
       "    <tr style=\"text-align: right;\">\n",
       "      <th></th>\n",
       "      <th>mean_fit_time</th>\n",
       "      <th>mean_score_time</th>\n",
       "      <th>mean_test_score</th>\n",
       "    </tr>\n",
       "  </thead>\n",
       "  <tbody>\n",
       "    <tr>\n",
       "      <th>4</th>\n",
       "      <td>4.66228</td>\n",
       "      <td>0.049319</td>\n",
       "      <td>0.562397</td>\n",
       "    </tr>\n",
       "  </tbody>\n",
       "</table>\n",
       "</div>"
      ],
      "text/plain": [
       "   mean_fit_time  mean_score_time  mean_test_score\n",
       "4        4.66228         0.049319         0.562397"
      ]
     },
     "execution_count": 80,
     "metadata": {},
     "output_type": "execute_result"
    }
   ],
   "source": [
    "# Output the params \n",
    "res = pd.DataFrame(random_search.cv_results_).sort_values(by='mean_test_score', ascending=False).head(1)\n",
    "res_cb= res[['mean_fit_time', 'mean_score_time', 'mean_test_score']].copy()\n",
    "res_cb"
   ]
  },
  {
   "cell_type": "markdown",
   "metadata": {},
   "source": [
    "## 5.5 Сравнение и выбор лучшей модели"
   ]
  },
  {
   "cell_type": "code",
   "execution_count": 82,
   "metadata": {},
   "outputs": [
    {
     "data": {
      "text/html": [
       "<div>\n",
       "<style scoped>\n",
       "    .dataframe tbody tr th:only-of-type {\n",
       "        vertical-align: middle;\n",
       "    }\n",
       "\n",
       "    .dataframe tbody tr th {\n",
       "        vertical-align: top;\n",
       "    }\n",
       "\n",
       "    .dataframe thead th {\n",
       "        text-align: right;\n",
       "    }\n",
       "</style>\n",
       "<table border=\"1\" class=\"dataframe\">\n",
       "  <thead>\n",
       "    <tr style=\"text-align: right;\">\n",
       "      <th></th>\n",
       "      <th>mean_fit_time</th>\n",
       "      <th>mean_score_time</th>\n",
       "      <th>mean_test_score</th>\n",
       "    </tr>\n",
       "  </thead>\n",
       "  <tbody>\n",
       "    <tr>\n",
       "      <th>RandomForest</th>\n",
       "      <td>7.270996</td>\n",
       "      <td>0.213436</td>\n",
       "      <td>0.520034</td>\n",
       "    </tr>\n",
       "    <tr>\n",
       "      <th>LGBM</th>\n",
       "      <td>10.992318</td>\n",
       "      <td>0.104344</td>\n",
       "      <td>0.502830</td>\n",
       "    </tr>\n",
       "    <tr>\n",
       "      <th>CatBoost</th>\n",
       "      <td>4.662280</td>\n",
       "      <td>0.049319</td>\n",
       "      <td>0.562397</td>\n",
       "    </tr>\n",
       "  </tbody>\n",
       "</table>\n",
       "</div>"
      ],
      "text/plain": [
       "              mean_fit_time  mean_score_time  mean_test_score\n",
       "RandomForest       7.270996         0.213436         0.520034\n",
       "LGBM              10.992318         0.104344         0.502830\n",
       "CatBoost           4.662280         0.049319         0.562397"
      ]
     },
     "execution_count": 82,
     "metadata": {},
     "output_type": "execute_result"
    }
   ],
   "source": [
    "# Compare the performance of each of the models\n",
    "compare = pd.concat([res_rf, res_lgbm, res_cb])\n",
    "compare.index = ['RandomForest', 'LGBM', 'CatBoost']\n",
    "compare"
   ]
  },
  {
   "cell_type": "markdown",
   "metadata": {},
   "source": [
    "**Выводы:**\n",
    "- Метрика не высокая на всех трёх моделях.\n",
    "- Однако, CatBoost имеет явное преимущество. Попробуем изменить порог и улучшить Recall, используя модель CatBoost."
   ]
  },
  {
   "cell_type": "markdown",
   "metadata": {},
   "source": [
    "# 6 Лучшая модель. Корректировка порога."
   ]
  },
  {
   "cell_type": "markdown",
   "metadata": {},
   "source": [
    "Попробуем изменить порог в CatBoost. Возможно, получится вытянуть метрику."
   ]
  },
  {
   "cell_type": "code",
   "execution_count": 88,
   "metadata": {},
   "outputs": [
    {
     "name": "stdout",
     "output_type": "stream",
     "text": [
      "Threshold: 0.38\n",
      "Recall: 0.8557809476023224\n",
      "Precision: 0.41936843584249534\n",
      "ROC-AUC: 0.6481666108097688\n"
     ]
    }
   ],
   "source": [
    "# Подготовка данных\n",
    "df_cb = df_main[cols_to_keep]\n",
    "target = 'at_fault'\n",
    "features = df_cb.drop(target, axis=1)\n",
    "\n",
    "numeric = features.select_dtypes(exclude='object').columns.to_list()\n",
    "categorical = features.select_dtypes(include='object').columns.to_list()\n",
    "\n",
    "X_train = features\n",
    "y_train = df_cb[target]\n",
    "\n",
    "X_train[numeric] = X_train[numeric].fillna(0)\n",
    "X_train[categorical] = X_train[categorical].fillna(\"missing_value\")\n",
    "\n",
    "# Модель с лучшими параметрами\n",
    "best_model = CatBoostClassifier(\n",
    "    iterations=100,\n",
    "    depth=6,\n",
    "    learning_rate=0.2,\n",
    "    l2_leaf_reg=3,\n",
    "    border_count=32,\n",
    "    auto_class_weights='Balanced',\n",
    "    random_state=RANDOM_STATE,\n",
    "    verbose=0,\n",
    "    cat_features=categorical\n",
    ")\n",
    "\n",
    "# Получаем предсказанные вероятности с помощью cross_val_predict\n",
    "y_proba = cross_val_predict(best_model, X_train, y_train, cv=5, method='predict_proba', n_jobs=-1)[:, 1]\n",
    "\n",
    "\n",
    "threshold = 0.38\n",
    "y_pred = (y_proba >= threshold).astype(int)\n",
    "\n",
    "\n",
    "recall = recall_score(y_train, y_pred)\n",
    "precision = precision_score(y_train, y_pred)\n",
    "roc_auc = roc_auc_score(y_train, y_proba) \n",
    "\n",
    "print(f\"Threshold: {threshold}\")\n",
    "print(f\"Recall: {recall}\")\n",
    "print(f\"Precision: {precision}\")\n",
    "print(f\"ROC-AUC: {roc_auc}\")"
   ]
  },
  {
   "cell_type": "markdown",
   "metadata": {},
   "source": [
    "Удалось максимизировать Recall."
   ]
  },
  {
   "cell_type": "markdown",
   "metadata": {},
   "source": [
    "## 6.2 Проверка модели на тестовой выборке. Матрица ошибок."
   ]
  },
  {
   "cell_type": "code",
   "execution_count": 169,
   "metadata": {},
   "outputs": [],
   "source": [
    "test = df_test[cols_to_keep]\n",
    "\n",
    "target = 'at_fault'\n",
    "features = test.drop(target, axis=1)\n",
    "\n",
    "numeric = features.select_dtypes(exclude='object').columns.to_list()\n",
    "categorical = features.select_dtypes(include='object').columns.to_list()\n",
    "\n",
    "X_test = features\n",
    "y_test = test[target]\n",
    "\n",
    "X_test = X_test.fillna(\"missing_value\")\n",
    "y_test = y_test.fillna(\"missing_value\")"
   ]
  },
  {
   "cell_type": "code",
   "execution_count": 170,
   "metadata": {},
   "outputs": [
    {
     "name": "stdout",
     "output_type": "stream",
     "text": [
      "Test Recall: 0.8579266531908749\n",
      "Test Precision: 0.4175685172171469\n",
      "Test ROC-AUC: 0.6540049424195455\n",
      "Test Confusion Matrix:\n",
      "[[1600 4144]\n",
      " [ 492 2971]]\n"
     ]
    },
    {
     "data": {
      "image/png": "[encoded data removed]",
      "text/plain": [
       "<Figure size 600x400 with 1 Axes>"
      ]
     },
     "metadata": {},
     "output_type": "display_data"
    }
   ],
   "source": [
    "y_test_proba = best_model.predict_proba(X_test)[:, 1]\n",
    "y_test_pred = (y_test_proba >= threshold).astype(int)\n",
    "\n",
    "# качество на тестовой выборке\n",
    "test_recall = recall_score(y_test, y_test_pred)\n",
    "test_precision = precision_score(y_test, y_test_pred)\n",
    "test_roc_auc = roc_auc_score(y_test, y_test_proba)\n",
    "test_cm = confusion_matrix(y_test, y_test_pred)\n",
    "\n",
    "print(f\"Test Recall: {test_recall}\")\n",
    "print(f\"Test Precision: {test_precision}\")\n",
    "print(f\"Test ROC-AUC: {test_roc_auc}\")\n",
    "print(\"Test Confusion Matrix:\")\n",
    "print(test_cm)\n",
    "\n",
    "# Визуализация confusion matrix для тестовой выборки\n",
    "plt.figure(figsize=(6, 4))\n",
    "sns.heatmap(test_cm, annot=True, fmt=\"d\", cmap=\"Blues\", cbar=False,\n",
    "            xticklabels=[\"Non_Fault\", \"Fault\"],\n",
    "            yticklabels=[\"Non-Fault\", \"Fault\"])\n",
    "plt.title(\"Test Confusion Matrix\")\n",
    "plt.xlabel(\"Predicted\")\n",
    "plt.ylabel(\"Actual\")\n",
    "plt.show()"
   ]
  },
  {
   "cell_type": "markdown",
   "metadata": {},
   "source": [
    "В принципе, при кастомном пороге (threshold = 0.3)  возможно добиться следующих результатов:\n",
    "\n",
    "**Recall** = 0.86 — что модель правильно классифицировала 84% всех положительных примеров. Это высокий показатель, указывающий на хорошую способность модели выявлять положительный класс, что критично в контексте данной задачи.\n",
    "\n",
    "**ROC-AUC** = 0.65 — модель имеет умеренное качество в различении классов, с областью под кривой около 0.64. Это значение ниже идеала (1.0), но всё же свидетельствует о том, что модель может отличить положительный класс от отрицательного.\n",
    "\n",
    "\n",
    "Однако, стоит обратить внимание Заказчика, что при таком пороге показатель **Precision = 0.42**, что говорит о том, что из всех предсказанных положительных примеров, только **42%** на самом деле оказались положительными. Это означает, что модель делает довольно много ложных срабатываний."
   ]
  },
  {
   "cell_type": "markdown",
   "metadata": {},
   "source": [
    "## 6.3 Важность признаков"
   ]
  },
  {
   "cell_type": "code",
   "execution_count": 171,
   "metadata": {},
   "outputs": [
    {
     "name": "stdout",
     "output_type": "stream",
     "text": [
      "                     Feature  Importance\n",
      "6            vehicle_age_log   33.669381\n",
      "5               distance_log   15.975842\n",
      "9                part_of_day   14.071370\n",
      "11       county_location_new    8.233382\n",
      "3               vehicle_type    7.154927\n",
      "7                day_of_week    5.150668\n",
      "1               road_surface    4.494898\n",
      "4       vehicle_transmission    4.301554\n",
      "10  county_city_location_new    3.218911\n",
      "0                  direction    2.829890\n",
      "8                 month_name    0.485207\n",
      "2           road_condition_1    0.413972\n"
     ]
    },
    {
     "data": {
      "image/png": "[encoded data removed]",
      "text/plain": [
       "<Figure size 1000x600 with 1 Axes>"
      ]
     },
     "metadata": {},
     "output_type": "display_data"
    }
   ],
   "source": [
    "# Получите важность признаков\n",
    "feature_importances = best_model.get_feature_importance()\n",
    "\n",
    "# Создайте DataFrame для удобного отображения\n",
    "import pandas as pd\n",
    "\n",
    "feature_names = X_train.columns  # Имена признаков\n",
    "importance_df = pd.DataFrame({\n",
    "    'Feature': feature_names,\n",
    "    'Importance': feature_importances\n",
    "})\n",
    "\n",
    "# Отсортируем по убыванию важности\n",
    "importance_df = importance_df.sort_values(by='Importance', ascending=False)\n",
    "\n",
    "# Выведем таблицу\n",
    "print(importance_df)\n",
    "\n",
    "# Визуализация важности признаков\n",
    "plt.figure(figsize=(10, 6))\n",
    "sns.barplot(x='Importance', y='Feature', data=importance_df, palette='viridis')\n",
    "plt.title('Feature Importances')\n",
    "plt.xlabel('Importance')\n",
    "plt.ylabel('Feature')\n",
    "plt.show()"
   ]
  },
  {
   "cell_type": "markdown",
   "metadata": {},
   "source": [
    "**Наблюдения:**\n",
    "- Похоже, что количественные признаки важнее всех категориальных. \n",
    "- Самый главный по важности признак, это возраст авто.\n",
    "- Среди категориальных можно отметить важность времени суток, местоположение и тип ТС."
   ]
  },
  {
   "cell_type": "code",
   "execution_count": 172,
   "metadata": {},
   "outputs": [
    {
     "data": {
      "text/html": [
       "<div>\n",
       "<style scoped>\n",
       "    .dataframe tbody tr th:only-of-type {\n",
       "        vertical-align: middle;\n",
       "    }\n",
       "\n",
       "    .dataframe tbody tr th {\n",
       "        vertical-align: top;\n",
       "    }\n",
       "\n",
       "    .dataframe thead th {\n",
       "        text-align: right;\n",
       "    }\n",
       "</style>\n",
       "<table border=\"1\" class=\"dataframe\">\n",
       "  <thead>\n",
       "    <tr style=\"text-align: right;\">\n",
       "      <th></th>\n",
       "      <th>vehicle_age</th>\n",
       "    </tr>\n",
       "    <tr>\n",
       "      <th>at_fault</th>\n",
       "      <th></th>\n",
       "    </tr>\n",
       "  </thead>\n",
       "  <tbody>\n",
       "    <tr>\n",
       "      <th>0</th>\n",
       "      <td>5.908067</td>\n",
       "    </tr>\n",
       "    <tr>\n",
       "      <th>1</th>\n",
       "      <td>5.274328</td>\n",
       "    </tr>\n",
       "  </tbody>\n",
       "</table>\n",
       "</div>"
      ],
      "text/plain": [
       "          vehicle_age\n",
       "at_fault             \n",
       "0            5.908067\n",
       "1            5.274328"
      ]
     },
     "execution_count": 172,
     "metadata": {},
     "output_type": "execute_result"
    }
   ],
   "source": [
    "df_main.groupby('at_fault')[['vehicle_age']].mean()"
   ]
  },
  {
   "cell_type": "code",
   "execution_count": 173,
   "metadata": {},
   "outputs": [
    {
     "data": {
      "image/png": "[encoded data removed]",
      "text/plain": [
       "<Figure size 1000x600 with 1 Axes>"
      ]
     },
     "metadata": {},
     "output_type": "display_data"
    }
   ],
   "source": [
    "sns.set_style(\"whitegrid\") \n",
    "plt.figure(figsize=(10, 6))  \n",
    "\n",
    "sns.kdeplot(\n",
    "    df_preliminary[df_preliminary['at_fault'] == 0]['vehicle_age'],\n",
    "    label='No Fault',\n",
    "    fill=True,\n",
    "    color='skyblue',  \n",
    "    alpha=0.5,  \n",
    "    linewidth=2  \n",
    ")\n",
    "\n",
    "sns.kdeplot(\n",
    "    df_preliminary[df_preliminary['at_fault'] == 1]['vehicle_age'],\n",
    "    label='At Fault',\n",
    "    fill=True,\n",
    "    color='salmon',  \n",
    "    alpha=0.5,  \n",
    "    linewidth=2 \n",
    "\n",
    "\n",
    "plt.title('Распределение возраста автомобиля для разных значений at_fault', fontsize=16, pad=20)\n",
    "plt.xlabel('Возраст автомобиля (vehicle_age)', fontsize=14)\n",
    "plt.ylabel('Плотность распределения', fontsize=14)\n",
    "\n",
    "\n",
    "plt.legend(title='At Fault', title_fontsize=12, fontsize=12, loc='upper right')\n",
    "\n",
    "plt.xticks(fontsize=12)\n",
    "plt.yticks(fontsize=12)\n",
    "\n",
    "\n",
    "sns.despine(left=True, bottom=True)\n",
    "\n",
    "plt.tight_layout() \n",
    "plt.show()"
   ]
  },
  {
   "cell_type": "code",
   "execution_count": 174,
   "metadata": {},
   "outputs": [],
   "source": [
    "df_test['predictions'] = y_test_proba"
   ]
  },
  {
   "cell_type": "code",
   "execution_count": 175,
   "metadata": {},
   "outputs": [
    {
     "data": {
      "image/png": "[encoded data removed]",
      "text/plain": [
       "<Figure size 640x480 with 1 Axes>"
      ]
     },
     "metadata": {},
     "output_type": "display_data"
    }
   ],
   "source": [
    "age_bins = pd.cut(df_test['vehicle_age'], bins=10)\n",
    "sns.boxplot(x=age_bins, y=df_test['predictions'])\n",
    "\n",
    "plt.title('Распределение predictions по категориям vehicle_age')\n",
    "plt.xlabel('Vehicle Age')\n",
    "plt.ylabel('Predictions')\n",
    "plt.xticks(rotation=45)\n",
    "plt.show()"
   ]
  },
  {
   "cell_type": "markdown",
   "metadata": {},
   "source": [
    "**Наблюдения:**\n",
    "Похоже, что \"группа риска\" - авто возраста от 10 до 15 лет. \n",
    "Однако, интересно, что относительно \"молодые\" авто, также имеют более высокую вероятность стать виновниками аварии. Оптимальный диапазон по мнению модели - 3.8 - 10 лет."
   ]
  },
  {
   "cell_type": "markdown",
   "metadata": {},
   "source": [
    "# 7. Общий вывод по модели"
   ]
  },
  {
   "cell_type": "markdown",
   "metadata": {},
   "source": [
    "**Итоговая модель**\n",
    "\n",
    "CatBoostClassifier c гиперпараметрами:\n",
    "\n",
    "    - iterations=100,\n",
    "    - depth=6,\n",
    "    - learning_rate=0.2,\n",
    "    - l2_leaf_reg=3,\n",
    "    - border_count=32,\n",
    "    - auto_class_weights='Balanced',\n",
    "    - random_state=RANDOM_STATE,\n",
    "    - verbose=0\n",
    "\n",
    "**Вывод о возможности создания системы оценки риска**\n",
    "\n",
    "В текущем виде модель демонстрирует высокий recall (0,85), что означает, что она эффективно выявляет автомобили, которые могут оказаться виновниками ДТП. \n",
    "\n",
    "ROC-AUC (0.65) указывает, что модель имеет умеренную способность различать классы, но пока её предсказания **недостаточно точны** для уверенного использования в реальных условиях.\n",
    "\n",
    "Таким образом, текущая система может быть полезной как **вспомогательный инструмент**, но не единственным фактором в оценке риска при выдаче автомобиля.\n",
    "\n",
    "**Для повышения точности предсказаний можно включить дополнительные факторы:**\n",
    "\n",
    "- Поведенческие данные водителя:\n",
    "\n",
    "    - История нарушений ПДД.\n",
    "    - Наличие штрафов, особенно за превышение скорости, опасное вождение, вождение в нетрезвом состоянии.\n",
    "    - Количество страховых случаев (аварий, угонов, выплат).\n",
    "\n",
    "- Характеристики автомобиля (наличие систем активной безопасности (ESP, ABS, система удержания в полосе)).\n",
    "\n",
    "- Контекст поездки:\n",
    "\n",
    "    - Частота использования авто (активные водители могут попадать в ДТП чаще).\n",
    "    - Преимущественные маршруты (например, частые поездки по трассам vs. по городу).\n",
    "\n",
    "- Личностные факторы водителя:\n",
    "\n",
    "    - Возраст и стаж вождения (молодые водители статистически чаще попадают в аварии).\n",
    "    - Тип водительского удостоверения (профи/любитель).\n",
    "    - Психологические данные (например, данные тестов на склонность к риску — если такие можно получить легально)."
   ]
  }
 ],
 "metadata": {
  "kernelspec": {
   "display_name": "Python 3 (ipykernel)",
   "language": "python",
   "name": "python3"
  },
  "language_info": {
   "codemirror_mode": {
    "name": "ipython",
    "version": 3
   },
   "file_extension": ".py",
   "mimetype": "text/x-python",
   "name": "python",
   "nbconvert_exporter": "python",
   "pygments_lexer": "ipython3",
   "version": "3.9.5"
  },
  "toc": {
   "base_numbering": 1,
   "nav_menu": {},
   "number_sections": true,
   "sideBar": true,
   "skip_h1_title": true,
   "title_cell": "Table of Contents",
   "title_sidebar": "Contents",
   "toc_cell": false,
   "toc_position": {},
   "toc_section_display": true,
   "toc_window_display": true
  }
 },
 "nbformat": 4,
 "nbformat_minor": 2
}
