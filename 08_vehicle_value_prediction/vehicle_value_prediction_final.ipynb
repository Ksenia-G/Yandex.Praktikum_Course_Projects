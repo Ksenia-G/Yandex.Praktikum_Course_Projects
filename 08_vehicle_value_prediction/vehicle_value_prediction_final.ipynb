{
 "cells": [
  {
   "cell_type": "markdown",
   "metadata": {
    "id": "HbyGZ5O2zD_R"
   },
   "source": [
    "# Project Description"
   ]
  },
  {
   "cell_type": "markdown",
   "metadata": {
    "id": "ou3UrCi7zD_S"
   },
   "source": [
    "The goal is to develop a machine learning model for the used car sales service capable of accurately predicting car market values. The model will be trained using a comprehensive dataset containing technical specifications, feature details, and prices of similar cars.\n",
    "\n",
    "Key success criteria for this project include:\n",
    "\n",
    "- Prediction Quality: The model must deliver high accuracy in price predictions, minimizing error to build user trust in the application.\n",
    "- Training Time: Efficient model training is critical for iteration and fine-tuning, allowing the service to update the model periodically with new data as the market changes.\n",
    "- Prediction Time: Fast prediction time is essential for an optimal user experience, enabling real-time market value assessments.\n",
    "\n",
    "This project aims to combine high prediction accuracy with optimal efficiency, offering a seamless, user-friendly experience for anyone seeking to evaluate the value of their car."
   ]
  },
  {
   "cell_type": "markdown",
   "metadata": {
    "id": "3CIOqPRUzD_S"
   },
   "source": [
    "## 00 Notebook setup"
   ]
  },
  {
   "cell_type": "markdown",
   "metadata": {
    "id": "ag7v2F5gzD_T"
   },
   "source": [
    "Imports"
   ]
  },
  {
   "cell_type": "code",
   "execution_count": 1,
   "metadata": {
    "colab": {
     "base_uri": "https://localhost:8080/"
    },
    "id": "exsHJXZMzD_T",
    "outputId": "370d4ca0-bb37-4d96-879c-be4b47ed08fc"
   },
   "outputs": [
    {
     "name": "stdout",
     "output_type": "stream",
     "text": [
      "\n",
      "\u001b[1m[\u001b[0m\u001b[34;49mnotice\u001b[0m\u001b[1;39;49m]\u001b[0m\u001b[39;49m A new release of pip is available: \u001b[0m\u001b[31;49m24.2\u001b[0m\u001b[39;49m -> \u001b[0m\u001b[32;49m24.3.1\u001b[0m\n",
      "\u001b[1m[\u001b[0m\u001b[34;49mnotice\u001b[0m\u001b[1;39;49m]\u001b[0m\u001b[39;49m To update, run: \u001b[0m\u001b[32;49mpip install --upgrade pip\u001b[0m\n",
      "Note: you may need to restart the kernel to use updated packages.\n"
     ]
    }
   ],
   "source": [
    "pip install phik -q"
   ]
  },
  {
   "cell_type": "code",
   "execution_count": 2,
   "metadata": {
    "colab": {
     "base_uri": "https://localhost:8080/"
    },
    "id": "dytruV1KzD_U",
    "outputId": "4e3b9453-d910-45ae-b9e4-7874ba11c8e5"
   },
   "outputs": [],
   "source": [
    "# Standard libraries\n",
    "import pandas as pd\n",
    "import numpy as np\n",
    "\n",
    "# Data viz\n",
    "import matplotlib.pyplot as plt\n",
    "import seaborn as sns\n",
    "\n",
    "# Additional lib\n",
    "from phik import phik_matrix\n",
    "\n",
    "# Linear\n",
    "from sklearn.model_selection import train_test_split, RandomizedSearchCV\n",
    "from sklearn.linear_model import Lasso, Ridge, ElasticNet\n",
    "from sklearn.metrics import root_mean_squared_error\n",
    "\n",
    "# Tree and Ensemble\n",
    "from sklearn.tree import DecisionTreeRegressor\n",
    "from sklearn.ensemble import RandomForestRegressor\n",
    "\n",
    "# Gradient Boosting\n",
    "from lightgbm import LGBMRegressor\n",
    "\n",
    "# Pipeline tools\n",
    "from sklearn.pipeline import Pipeline\n",
    "from sklearn.preprocessing import (\n",
    "    MinMaxScaler,\n",
    "    StandardScaler,\n",
    "    OneHotEncoder,\n",
    "    OrdinalEncoder,\n",
    "    LabelEncoder\n",
    ")\n",
    "from sklearn.compose import ColumnTransformer\n",
    "from sklearn.model_selection import cross_val_score\n",
    "\n",
    "# Transformers\n",
    "from sklearn.base import BaseEstimator, TransformerMixin"
   ]
  },
  {
   "cell_type": "markdown",
   "metadata": {
    "id": "a03u3oa3zD_U"
   },
   "source": [
    "Functions"
   ]
  },
  {
   "cell_type": "code",
   "execution_count": 3,
   "metadata": {
    "id": "b6b7Q3eFzD_U"
   },
   "outputs": [],
   "source": [
    "# Function that plots a histogram and a box plot\n",
    "\n",
    "def plot_hist_box(df, col_name: str):\n",
    "\n",
    "    f, (ax_box, ax_hist) = plt.subplots(\n",
    "        2,\n",
    "        sharex=True,\n",
    "        gridspec_kw={\"height_ratios\": (.15, .85)},\n",
    "        figsize=(8, 6)\n",
    "    )\n",
    "\n",
    "    sns.set(style=\"whitegrid\")\n",
    "\n",
    "    sns.boxplot(df[col_name], orient=\"h\", ax=ax_box)\n",
    "\n",
    "    sns.histplot(df[col_name], ax=ax_hist, kde=True)\n",
    "\n",
    "    ax_box.set(xlabel='')\n",
    "\n",
    "    plt.suptitle(f'Distribution of {col_name}', fontsize=14)\n",
    "\n",
    "    plt.show()"
   ]
  },
  {
   "cell_type": "code",
   "execution_count": 4,
   "metadata": {
    "id": "FTXVJSiazD_U"
   },
   "outputs": [],
   "source": [
    "# Function that finds and drops duplicates\n",
    "\n",
    "def find_and_drop_total_dups(df):\n",
    "    if df.duplicated().sum() > 0:\n",
    "        print(f'Number of total duplicates: {df.duplicated().sum()}')\n",
    "        df = df.drop_duplicates()\n",
    "        print('Duplicates removed from DataSet')\n",
    "    else:\n",
    "        print('No total duplicates found in the DataSet')\n"
   ]
  },
  {
   "cell_type": "code",
   "execution_count": 5,
   "metadata": {
    "id": "FR_UjlTvzD_V"
   },
   "outputs": [],
   "source": [
    "# Function that displays statistical info\n",
    "\n",
    "def show_stats(df, column_name: str):\n",
    "    print(f'Statics for {column_name}')\n",
    "    display(df[[column_name]].describe().T)"
   ]
  },
  {
   "cell_type": "markdown",
   "metadata": {
    "id": "Et_bfULdzD_V"
   },
   "source": [
    "Constants"
   ]
  },
  {
   "cell_type": "code",
   "execution_count": 6,
   "metadata": {
    "id": "hszRU9B5zD_V"
   },
   "outputs": [],
   "source": [
    "RANDOM_STATE = 42"
   ]
  },
  {
   "cell_type": "markdown",
   "metadata": {
    "id": "jT7x_OK4zD_V"
   },
   "source": [
    "Reading Data"
   ]
  },
  {
   "cell_type": "code",
   "execution_count": 7,
   "metadata": {
    "id": "CoLjiWk9zD_W"
   },
   "outputs": [],
   "source": [
    "dates = ['DateCrawled', 'DateCreated', 'LastSeen']\n",
    "df = pd.read_csv(\n",
    "    '/Users/autos.csv',\n",
    "    parse_dates=dates\n",
    ")"
   ]
  },
  {
   "cell_type": "markdown",
   "metadata": {
    "id": "L7eMm9zMzD_W"
   },
   "source": [
    "## 1 Data Overview"
   ]
  },
  {
   "cell_type": "code",
   "execution_count": 8,
   "metadata": {},
   "outputs": [],
   "source": [
    "# Separate 20% of the data to use for testing later\n",
    "df, test = train_test_split(df, test_size=0.2, random_state=RANDOM_STATE)"
   ]
  },
  {
   "cell_type": "code",
   "execution_count": 9,
   "metadata": {
    "colab": {
     "base_uri": "https://localhost:8080/",
     "height": 0
    },
    "id": "RT4uwno4zD_W",
    "outputId": "471a3a08-7168-4987-88b2-f51fa8784cf1"
   },
   "outputs": [
    {
     "data": {
      "text/html": [
       "<div>\n",
       "<style scoped>\n",
       "    .dataframe tbody tr th:only-of-type {\n",
       "        vertical-align: middle;\n",
       "    }\n",
       "\n",
       "    .dataframe tbody tr th {\n",
       "        vertical-align: top;\n",
       "    }\n",
       "\n",
       "    .dataframe thead th {\n",
       "        text-align: right;\n",
       "    }\n",
       "</style>\n",
       "<table border=\"1\" class=\"dataframe\">\n",
       "  <thead>\n",
       "    <tr style=\"text-align: right;\">\n",
       "      <th></th>\n",
       "      <th>DateCrawled</th>\n",
       "      <th>Price</th>\n",
       "      <th>VehicleType</th>\n",
       "      <th>RegistrationYear</th>\n",
       "      <th>Gearbox</th>\n",
       "      <th>Power</th>\n",
       "      <th>Model</th>\n",
       "      <th>Kilometer</th>\n",
       "      <th>RegistrationMonth</th>\n",
       "      <th>FuelType</th>\n",
       "      <th>Brand</th>\n",
       "      <th>Repaired</th>\n",
       "      <th>DateCreated</th>\n",
       "      <th>NumberOfPictures</th>\n",
       "      <th>PostalCode</th>\n",
       "      <th>LastSeen</th>\n",
       "    </tr>\n",
       "  </thead>\n",
       "  <tbody>\n",
       "    <tr>\n",
       "      <th>107156</th>\n",
       "      <td>2016-03-17 15:47:14</td>\n",
       "      <td>16780</td>\n",
       "      <td>suv</td>\n",
       "      <td>2009</td>\n",
       "      <td>manual</td>\n",
       "      <td>140</td>\n",
       "      <td>tiguan</td>\n",
       "      <td>90000</td>\n",
       "      <td>3</td>\n",
       "      <td>gasoline</td>\n",
       "      <td>volkswagen</td>\n",
       "      <td>yes</td>\n",
       "      <td>2016-03-17</td>\n",
       "      <td>0</td>\n",
       "      <td>41069</td>\n",
       "      <td>2016-04-06 23:45:20</td>\n",
       "    </tr>\n",
       "    <tr>\n",
       "      <th>20206</th>\n",
       "      <td>2016-03-14 19:36:43</td>\n",
       "      <td>9100</td>\n",
       "      <td>coupe</td>\n",
       "      <td>1987</td>\n",
       "      <td>manual</td>\n",
       "      <td>160</td>\n",
       "      <td>other</td>\n",
       "      <td>150000</td>\n",
       "      <td>9</td>\n",
       "      <td>petrol</td>\n",
       "      <td>porsche</td>\n",
       "      <td>no</td>\n",
       "      <td>2016-03-14</td>\n",
       "      <td>0</td>\n",
       "      <td>23826</td>\n",
       "      <td>2016-04-06 04:17:19</td>\n",
       "    </tr>\n",
       "    <tr>\n",
       "      <th>287570</th>\n",
       "      <td>2016-03-10 00:57:05</td>\n",
       "      <td>9999</td>\n",
       "      <td>coupe</td>\n",
       "      <td>1968</td>\n",
       "      <td>manual</td>\n",
       "      <td>94</td>\n",
       "      <td>other</td>\n",
       "      <td>30000</td>\n",
       "      <td>6</td>\n",
       "      <td>petrol</td>\n",
       "      <td>porsche</td>\n",
       "      <td>no</td>\n",
       "      <td>2016-03-10</td>\n",
       "      <td>0</td>\n",
       "      <td>87746</td>\n",
       "      <td>2016-03-10 07:49:36</td>\n",
       "    </tr>\n",
       "  </tbody>\n",
       "</table>\n",
       "</div>"
      ],
      "text/plain": [
       "               DateCrawled  Price VehicleType  RegistrationYear Gearbox  \\\n",
       "107156 2016-03-17 15:47:14  16780         suv              2009  manual   \n",
       "20206  2016-03-14 19:36:43   9100       coupe              1987  manual   \n",
       "287570 2016-03-10 00:57:05   9999       coupe              1968  manual   \n",
       "\n",
       "        Power   Model  Kilometer  RegistrationMonth  FuelType       Brand  \\\n",
       "107156    140  tiguan      90000                  3  gasoline  volkswagen   \n",
       "20206     160   other     150000                  9    petrol     porsche   \n",
       "287570     94   other      30000                  6    petrol     porsche   \n",
       "\n",
       "       Repaired DateCreated  NumberOfPictures  PostalCode            LastSeen  \n",
       "107156      yes  2016-03-17                 0       41069 2016-04-06 23:45:20  \n",
       "20206        no  2016-03-14                 0       23826 2016-04-06 04:17:19  \n",
       "287570       no  2016-03-10                 0       87746 2016-03-10 07:49:36  "
      ]
     },
     "execution_count": 9,
     "metadata": {},
     "output_type": "execute_result"
    }
   ],
   "source": [
    "# Overview\n",
    "df.head(3)"
   ]
  },
  {
   "cell_type": "code",
   "execution_count": 10,
   "metadata": {
    "colab": {
     "base_uri": "https://localhost:8080/"
    },
    "id": "mrrYGUWFzD_X",
    "outputId": "96fa0d5a-8bc7-4587-f770-32774c06080a"
   },
   "outputs": [
    {
     "name": "stdout",
     "output_type": "stream",
     "text": [
      "<class 'pandas.core.frame.DataFrame'>\n",
      "Index: 283495 entries, 107156 to 121958\n",
      "Data columns (total 16 columns):\n",
      " #   Column             Non-Null Count   Dtype         \n",
      "---  ------             --------------   -----         \n",
      " 0   DateCrawled        283495 non-null  datetime64[ns]\n",
      " 1   Price              283495 non-null  int64         \n",
      " 2   VehicleType        253498 non-null  object        \n",
      " 3   RegistrationYear   283495 non-null  int64         \n",
      " 4   Gearbox            267544 non-null  object        \n",
      " 5   Power              283495 non-null  int64         \n",
      " 6   Model              267684 non-null  object        \n",
      " 7   Kilometer          283495 non-null  int64         \n",
      " 8   RegistrationMonth  283495 non-null  int64         \n",
      " 9   FuelType           257066 non-null  object        \n",
      " 10  Brand              283495 non-null  object        \n",
      " 11  Repaired           226394 non-null  object        \n",
      " 12  DateCreated        283495 non-null  datetime64[ns]\n",
      " 13  NumberOfPictures   283495 non-null  int64         \n",
      " 14  PostalCode         283495 non-null  int64         \n",
      " 15  LastSeen           283495 non-null  datetime64[ns]\n",
      "dtypes: datetime64[ns](3), int64(7), object(6)\n",
      "memory usage: 36.8+ MB\n"
     ]
    }
   ],
   "source": [
    "# Data types check\n",
    "df.info()"
   ]
  },
  {
   "cell_type": "code",
   "execution_count": 11,
   "metadata": {
    "colab": {
     "base_uri": "https://localhost:8080/"
    },
    "id": "FooFMrmYzD_X",
    "outputId": "bf962f07-1288-4353-9fdc-e05b7b9ec26f"
   },
   "outputs": [
    {
     "name": "stdout",
     "output_type": "stream",
     "text": [
      "Number of total duplicates: 2\n",
      "Duplicates removed from DataSet\n"
     ]
    }
   ],
   "source": [
    "# Check for duplicates\n",
    "find_and_drop_total_dups(df)"
   ]
  },
  {
   "cell_type": "code",
   "execution_count": 12,
   "metadata": {
    "colab": {
     "base_uri": "https://localhost:8080/",
     "height": 0
    },
    "id": "Bwj1TRv-zD_X",
    "outputId": "9a5e66f7-7ca3-493c-c1a4-9a77c11bdb3e"
   },
   "outputs": [
    {
     "data": {
      "text/plain": [
       "DateCrawled          0.000000\n",
       "Price                0.000000\n",
       "VehicleType          0.105811\n",
       "RegistrationYear     0.000000\n",
       "Gearbox              0.056266\n",
       "Power                0.000000\n",
       "Model                0.055772\n",
       "Kilometer            0.000000\n",
       "RegistrationMonth    0.000000\n",
       "FuelType             0.093226\n",
       "Brand                0.000000\n",
       "Repaired             0.201418\n",
       "DateCreated          0.000000\n",
       "NumberOfPictures     0.000000\n",
       "PostalCode           0.000000\n",
       "LastSeen             0.000000\n",
       "dtype: float64"
      ]
     },
     "execution_count": 12,
     "metadata": {},
     "output_type": "execute_result"
    }
   ],
   "source": [
    "# Check for missing values\n",
    "df.isna().mean()"
   ]
  },
  {
   "cell_type": "markdown",
   "metadata": {
    "id": "EEeR3GPvzD_X"
   },
   "source": [
    "- The DataSet contains 15 features (both numeric & categorical) and a target feature (continuous numeric value).\n",
    "\n",
    "- All data types are correct.\n",
    "\n",
    "- Some features have missing values. This will be handled further on."
   ]
  },
  {
   "cell_type": "markdown",
   "metadata": {
    "id": "G68e4DaIzD_X"
   },
   "source": [
    "## 2 EDA"
   ]
  },
  {
   "cell_type": "markdown",
   "metadata": {
    "id": "Tz0czb03zD_Y"
   },
   "source": [
    "### 2.1 Target"
   ]
  },
  {
   "cell_type": "code",
   "execution_count": 13,
   "metadata": {
    "id": "Y9QsmbE1zD_Y"
   },
   "outputs": [],
   "source": [
    "target = 'Price'"
   ]
  },
  {
   "cell_type": "code",
   "execution_count": 14,
   "metadata": {
    "colab": {
     "base_uri": "https://localhost:8080/",
     "height": 0
    },
    "id": "C3OZrfZozD_Y",
    "outputId": "17a45c34-3ed7-497c-f841-a2cb24fd91f4"
   },
   "outputs": [
    {
     "name": "stdout",
     "output_type": "stream",
     "text": [
      "Statics for Price\n"
     ]
    },
    {
     "data": {
      "text/html": [
       "<div>\n",
       "<style scoped>\n",
       "    .dataframe tbody tr th:only-of-type {\n",
       "        vertical-align: middle;\n",
       "    }\n",
       "\n",
       "    .dataframe tbody tr th {\n",
       "        vertical-align: top;\n",
       "    }\n",
       "\n",
       "    .dataframe thead th {\n",
       "        text-align: right;\n",
       "    }\n",
       "</style>\n",
       "<table border=\"1\" class=\"dataframe\">\n",
       "  <thead>\n",
       "    <tr style=\"text-align: right;\">\n",
       "      <th></th>\n",
       "      <th>count</th>\n",
       "      <th>mean</th>\n",
       "      <th>std</th>\n",
       "      <th>min</th>\n",
       "      <th>25%</th>\n",
       "      <th>50%</th>\n",
       "      <th>75%</th>\n",
       "      <th>max</th>\n",
       "    </tr>\n",
       "  </thead>\n",
       "  <tbody>\n",
       "    <tr>\n",
       "      <th>Price</th>\n",
       "      <td>283495.0</td>\n",
       "      <td>4406.829461</td>\n",
       "      <td>4505.093187</td>\n",
       "      <td>0.0</td>\n",
       "      <td>1050.0</td>\n",
       "      <td>2700.0</td>\n",
       "      <td>6399.0</td>\n",
       "      <td>20000.0</td>\n",
       "    </tr>\n",
       "  </tbody>\n",
       "</table>\n",
       "</div>"
      ],
      "text/plain": [
       "          count         mean          std  min     25%     50%     75%  \\\n",
       "Price  283495.0  4406.829461  4505.093187  0.0  1050.0  2700.0  6399.0   \n",
       "\n",
       "           max  \n",
       "Price  20000.0  "
      ]
     },
     "metadata": {},
     "output_type": "display_data"
    }
   ],
   "source": [
    "show_stats(df, target)"
   ]
  },
  {
   "cell_type": "markdown",
   "metadata": {
    "id": "cfT1FfKMzD_Y"
   },
   "source": [
    "- The mean is significantly higher than the median and standard deviation is very hight indicating a right-skewed distribution.\n",
    "\n",
    "- The minimum value is 0, which suggests that some instances may have incorrect entries.\n",
    "\n",
    "- The maximum price is 20,000.0, which is a significant outlier compared to the majority of the data."
   ]
  },
  {
   "cell_type": "code",
   "execution_count": 15,
   "metadata": {
    "colab": {
     "base_uri": "https://localhost:8080/"
    },
    "id": "S5zvpM9UzD_Y",
    "outputId": "a818df01-b153-4f72-81b0-b2f6e4166740"
   },
   "outputs": [
    {
     "data": {
      "text/plain": [
       "0.03028624843471666"
      ]
     },
     "execution_count": 15,
     "metadata": {},
     "output_type": "execute_result"
    }
   ],
   "source": [
    "(df[target] == 0).mean()"
   ]
  },
  {
   "cell_type": "markdown",
   "metadata": {
    "id": "4JBac06TzD_Y"
   },
   "source": [
    "- 3% of the target feature has values equal to 0, which will does not provide valuable information for the model.\n",
    "\n",
    "- This data will be removed, it can help to ensure that your model isn't biased or misled by these values."
   ]
  },
  {
   "cell_type": "code",
   "execution_count": 16,
   "metadata": {
    "id": "LwTIHLOAzD_Y"
   },
   "outputs": [],
   "source": [
    "df = df[df[target] > 0]"
   ]
  },
  {
   "cell_type": "code",
   "execution_count": 17,
   "metadata": {
    "colab": {
     "base_uri": "https://localhost:8080/",
     "height": 0
    },
    "id": "qriF7QdVzD_Y",
    "outputId": "cbd3b8a0-c0c2-430a-9558-66afb83148a3"
   },
   "outputs": [
    {
     "name": "stdout",
     "output_type": "stream",
     "text": [
      "Statics for Price\n"
     ]
    },
    {
     "data": {
      "text/html": [
       "<div>\n",
       "<style scoped>\n",
       "    .dataframe tbody tr th:only-of-type {\n",
       "        vertical-align: middle;\n",
       "    }\n",
       "\n",
       "    .dataframe tbody tr th {\n",
       "        vertical-align: top;\n",
       "    }\n",
       "\n",
       "    .dataframe thead th {\n",
       "        text-align: right;\n",
       "    }\n",
       "</style>\n",
       "<table border=\"1\" class=\"dataframe\">\n",
       "  <thead>\n",
       "    <tr style=\"text-align: right;\">\n",
       "      <th></th>\n",
       "      <th>count</th>\n",
       "      <th>mean</th>\n",
       "      <th>std</th>\n",
       "      <th>min</th>\n",
       "      <th>25%</th>\n",
       "      <th>50%</th>\n",
       "      <th>75%</th>\n",
       "      <th>max</th>\n",
       "    </tr>\n",
       "  </thead>\n",
       "  <tbody>\n",
       "    <tr>\n",
       "      <th>Price</th>\n",
       "      <td>274909.0</td>\n",
       "      <td>4544.464234</td>\n",
       "      <td>4506.026177</td>\n",
       "      <td>1.0</td>\n",
       "      <td>1200.0</td>\n",
       "      <td>2850.0</td>\n",
       "      <td>6500.0</td>\n",
       "      <td>20000.0</td>\n",
       "    </tr>\n",
       "  </tbody>\n",
       "</table>\n",
       "</div>"
      ],
      "text/plain": [
       "          count         mean          std  min     25%     50%     75%  \\\n",
       "Price  274909.0  4544.464234  4506.026177  1.0  1200.0  2850.0  6500.0   \n",
       "\n",
       "           max  \n",
       "Price  20000.0  "
      ]
     },
     "metadata": {},
     "output_type": "display_data"
    }
   ],
   "source": [
    "show_stats(df, target)"
   ]
  },
  {
   "cell_type": "markdown",
   "metadata": {
    "id": "wycxB-FdzD_Z"
   },
   "source": [
    "- There is still a number of relatively low values, i.e. 1 eur."
   ]
  },
  {
   "cell_type": "code",
   "execution_count": 18,
   "metadata": {
    "id": "vT4a3WoLzD_Z"
   },
   "outputs": [],
   "source": [
    "q_1 = df[df[target] <= 1200]"
   ]
  },
  {
   "cell_type": "code",
   "execution_count": 19,
   "metadata": {
    "colab": {
     "base_uri": "https://localhost:8080/",
     "height": 0
    },
    "id": "LaPIGvAHzD_Z",
    "outputId": "cbbbc5c7-0fe6-4929-edd6-30275aa15050"
   },
   "outputs": [
    {
     "name": "stdout",
     "output_type": "stream",
     "text": [
      "Statics for Price\n"
     ]
    },
    {
     "data": {
      "text/html": [
       "<div>\n",
       "<style scoped>\n",
       "    .dataframe tbody tr th:only-of-type {\n",
       "        vertical-align: middle;\n",
       "    }\n",
       "\n",
       "    .dataframe tbody tr th {\n",
       "        vertical-align: top;\n",
       "    }\n",
       "\n",
       "    .dataframe thead th {\n",
       "        text-align: right;\n",
       "    }\n",
       "</style>\n",
       "<table border=\"1\" class=\"dataframe\">\n",
       "  <thead>\n",
       "    <tr style=\"text-align: right;\">\n",
       "      <th></th>\n",
       "      <th>count</th>\n",
       "      <th>mean</th>\n",
       "      <th>std</th>\n",
       "      <th>min</th>\n",
       "      <th>25%</th>\n",
       "      <th>50%</th>\n",
       "      <th>75%</th>\n",
       "      <th>max</th>\n",
       "    </tr>\n",
       "  </thead>\n",
       "  <tbody>\n",
       "    <tr>\n",
       "      <th>Price</th>\n",
       "      <td>71454.0</td>\n",
       "      <td>676.991015</td>\n",
       "      <td>320.404227</td>\n",
       "      <td>1.0</td>\n",
       "      <td>450.0</td>\n",
       "      <td>699.0</td>\n",
       "      <td>950.0</td>\n",
       "      <td>1200.0</td>\n",
       "    </tr>\n",
       "  </tbody>\n",
       "</table>\n",
       "</div>"
      ],
      "text/plain": [
       "         count        mean         std  min    25%    50%    75%     max\n",
       "Price  71454.0  676.991015  320.404227  1.0  450.0  699.0  950.0  1200.0"
      ]
     },
     "metadata": {},
     "output_type": "display_data"
    }
   ],
   "source": [
    "show_stats(q_1, target)"
   ]
  },
  {
   "cell_type": "code",
   "execution_count": 20,
   "metadata": {
    "colab": {
     "base_uri": "https://localhost:8080/",
     "height": 0
    },
    "id": "pTR6-qxrzD_Z",
    "outputId": "9a364d8a-ed4e-442f-d3eb-c3e3a5eb7fd6"
   },
   "outputs": [
    {
     "data": {
      "image/png": "[encoded data removed]",
      "text/plain": [
       "<Figure size 800x600 with 2 Axes>"
      ]
     },
     "metadata": {},
     "output_type": "display_data"
    }
   ],
   "source": [
    "plot_hist_box(q_1, target)"
   ]
  },
  {
   "cell_type": "markdown",
   "metadata": {
    "id": "AzBiY7zuzD_Z"
   },
   "source": [
    "- Technically, the owner is entitled to set any price for their vehicle. However the value of, for instance, 1 eur looks like a mistake in data.\n",
    "\n",
    "- I will, however, check whether the cars which cost less than 1000 eur are retro cars."
   ]
  },
  {
   "cell_type": "code",
   "execution_count": 21,
   "metadata": {
    "colab": {
     "base_uri": "https://localhost:8080/",
     "height": 0
    },
    "id": "YCvjL7x9zD_a",
    "outputId": "84e0643c-d4ac-43a4-f001-5e7daf838a32"
   },
   "outputs": [
    {
     "data": {
      "text/plain": [
       "RegistrationYear\n",
       "1999    7492\n",
       "2000    7191\n",
       "1998    6798\n",
       "1997    6742\n",
       "1996    5122\n",
       "        ... \n",
       "1400       1\n",
       "4800       1\n",
       "5300       1\n",
       "9450       1\n",
       "2222       1\n",
       "Name: count, Length: 97, dtype: int64"
      ]
     },
     "execution_count": 21,
     "metadata": {},
     "output_type": "execute_result"
    }
   ],
   "source": [
    "_df = df[df[target] <= 1000]\n",
    "_df['RegistrationYear'].value_counts()"
   ]
  },
  {
   "cell_type": "markdown",
   "metadata": {
    "id": "1UvAvc82zD_a"
   },
   "source": [
    "- The years vary, which indicates that the price of less that 1000 eur is definitely a mistake.\n",
    "\n",
    "- Such data can affect the linear model's prediction ability which is why it will be removed from the dataset."
   ]
  },
  {
   "cell_type": "code",
   "execution_count": 22,
   "metadata": {
    "colab": {
     "base_uri": "https://localhost:8080/"
    },
    "id": "kIYF5zjDzD_a",
    "outputId": "0eb39701-3874-4fde-d038-27e493fab0b0"
   },
   "outputs": [
    {
     "data": {
      "text/plain": [
       "0.010367066920326363"
      ]
     },
     "execution_count": 22,
     "metadata": {},
     "output_type": "execute_result"
    }
   ],
   "source": [
    "(df[target] <= 100).mean()"
   ]
  },
  {
   "cell_type": "code",
   "execution_count": 23,
   "metadata": {
    "id": "E2aag77hzD_a"
   },
   "outputs": [],
   "source": [
    "df = df[df[target] > 1000]"
   ]
  },
  {
   "cell_type": "code",
   "execution_count": 24,
   "metadata": {
    "colab": {
     "base_uri": "https://localhost:8080/",
     "height": 0
    },
    "id": "1e_kd92yzD_a",
    "outputId": "98df0aaa-5d5e-489a-f0fe-9658180b7c03"
   },
   "outputs": [
    {
     "name": "stdout",
     "output_type": "stream",
     "text": [
      "Statics for Price\n"
     ]
    },
    {
     "data": {
      "text/html": [
       "<div>\n",
       "<style scoped>\n",
       "    .dataframe tbody tr th:only-of-type {\n",
       "        vertical-align: middle;\n",
       "    }\n",
       "\n",
       "    .dataframe tbody tr th {\n",
       "        vertical-align: top;\n",
       "    }\n",
       "\n",
       "    .dataframe thead th {\n",
       "        text-align: right;\n",
       "    }\n",
       "</style>\n",
       "<table border=\"1\" class=\"dataframe\">\n",
       "  <thead>\n",
       "    <tr style=\"text-align: right;\">\n",
       "      <th></th>\n",
       "      <th>count</th>\n",
       "      <th>mean</th>\n",
       "      <th>std</th>\n",
       "      <th>min</th>\n",
       "      <th>25%</th>\n",
       "      <th>50%</th>\n",
       "      <th>75%</th>\n",
       "      <th>max</th>\n",
       "    </tr>\n",
       "  </thead>\n",
       "  <tbody>\n",
       "    <tr>\n",
       "      <th>Price</th>\n",
       "      <td>212914.0</td>\n",
       "      <td>5691.708093</td>\n",
       "      <td>4511.897306</td>\n",
       "      <td>1001.0</td>\n",
       "      <td>2200.0</td>\n",
       "      <td>4000.0</td>\n",
       "      <td>7950.0</td>\n",
       "      <td>20000.0</td>\n",
       "    </tr>\n",
       "  </tbody>\n",
       "</table>\n",
       "</div>"
      ],
      "text/plain": [
       "          count         mean          std     min     25%     50%     75%  \\\n",
       "Price  212914.0  5691.708093  4511.897306  1001.0  2200.0  4000.0  7950.0   \n",
       "\n",
       "           max  \n",
       "Price  20000.0  "
      ]
     },
     "metadata": {},
     "output_type": "display_data"
    }
   ],
   "source": [
    "show_stats(df, target)"
   ]
  },
  {
   "cell_type": "code",
   "execution_count": 25,
   "metadata": {
    "colab": {
     "base_uri": "https://localhost:8080/",
     "height": 0
    },
    "id": "_HsTrFwmzD_e",
    "outputId": "b9bfd14c-ea3c-4584-e9e6-ccd2feff4f11"
   },
   "outputs": [
    {
     "data": {
      "image/png": "[encoded data removed]",
      "text/plain": [
       "<Figure size 800x600 with 2 Axes>"
      ]
     },
     "metadata": {},
     "output_type": "display_data"
    }
   ],
   "source": [
    "plot_hist_box(df, target)"
   ]
  },
  {
   "cell_type": "markdown",
   "metadata": {
    "id": "RRC3SFQjzD_e"
   },
   "source": [
    "- Given the skewed distribution of the target variable, I will apply a log transformation.\n",
    "\n",
    "- This can help make the distribution more normal and improve model performance, especially for regression models."
   ]
  },
  {
   "cell_type": "code",
   "execution_count": 26,
   "metadata": {
    "id": "QzO6VDBdzD_e"
   },
   "outputs": [],
   "source": [
    "df['Price_log'] = np.log10(df['Price'])\n",
    "target_log = 'Price_log'"
   ]
  },
  {
   "cell_type": "code",
   "execution_count": 27,
   "metadata": {
    "colab": {
     "base_uri": "https://localhost:8080/",
     "height": 0
    },
    "id": "lT2X-t9GzD_e",
    "outputId": "ef97a7e3-fb3d-4660-b3a2-0927508677ef"
   },
   "outputs": [
    {
     "name": "stdout",
     "output_type": "stream",
     "text": [
      "Statics for Price_log\n"
     ]
    },
    {
     "data": {
      "text/html": [
       "<div>\n",
       "<style scoped>\n",
       "    .dataframe tbody tr th:only-of-type {\n",
       "        vertical-align: middle;\n",
       "    }\n",
       "\n",
       "    .dataframe tbody tr th {\n",
       "        vertical-align: top;\n",
       "    }\n",
       "\n",
       "    .dataframe thead th {\n",
       "        text-align: right;\n",
       "    }\n",
       "</style>\n",
       "<table border=\"1\" class=\"dataframe\">\n",
       "  <thead>\n",
       "    <tr style=\"text-align: right;\">\n",
       "      <th></th>\n",
       "      <th>count</th>\n",
       "      <th>mean</th>\n",
       "      <th>std</th>\n",
       "      <th>min</th>\n",
       "      <th>25%</th>\n",
       "      <th>50%</th>\n",
       "      <th>75%</th>\n",
       "      <th>max</th>\n",
       "    </tr>\n",
       "  </thead>\n",
       "  <tbody>\n",
       "    <tr>\n",
       "      <th>Price_log</th>\n",
       "      <td>212914.0</td>\n",
       "      <td>3.623958</td>\n",
       "      <td>0.341767</td>\n",
       "      <td>3.000434</td>\n",
       "      <td>3.342423</td>\n",
       "      <td>3.60206</td>\n",
       "      <td>3.900367</td>\n",
       "      <td>4.30103</td>\n",
       "    </tr>\n",
       "  </tbody>\n",
       "</table>\n",
       "</div>"
      ],
      "text/plain": [
       "              count      mean       std       min       25%      50%  \\\n",
       "Price_log  212914.0  3.623958  0.341767  3.000434  3.342423  3.60206   \n",
       "\n",
       "                75%      max  \n",
       "Price_log  3.900367  4.30103  "
      ]
     },
     "metadata": {},
     "output_type": "display_data"
    }
   ],
   "source": [
    "show_stats(df, target_log)"
   ]
  },
  {
   "cell_type": "code",
   "execution_count": 28,
   "metadata": {
    "colab": {
     "base_uri": "https://localhost:8080/",
     "height": 0
    },
    "id": "45BCvv5szD_e",
    "outputId": "5634192b-091c-4978-a27a-91c0fb7e4f2b"
   },
   "outputs": [
    {
     "data": {
      "image/png": "[encoded data removed]",
      "text/plain": [
       "<Figure size 800x600 with 2 Axes>"
      ]
     },
     "metadata": {},
     "output_type": "display_data"
    }
   ],
   "source": [
    "plot_hist_box(df, target_log)"
   ]
  },
  {
   "cell_type": "markdown",
   "metadata": {
    "id": "A3NDqP0SzD_e"
   },
   "source": [
    "### 2.2 Registration Year & Columns with Dates"
   ]
  },
  {
   "cell_type": "code",
   "execution_count": 29,
   "metadata": {
    "colab": {
     "base_uri": "https://localhost:8080/",
     "height": 0
    },
    "id": "4iyPpV7uzD_e",
    "outputId": "2700980b-b01b-4d40-cf1e-512ec9346f9a"
   },
   "outputs": [
    {
     "name": "stdout",
     "output_type": "stream",
     "text": [
      "Statics for RegistrationYear\n"
     ]
    },
    {
     "data": {
      "text/html": [
       "<div>\n",
       "<style scoped>\n",
       "    .dataframe tbody tr th:only-of-type {\n",
       "        vertical-align: middle;\n",
       "    }\n",
       "\n",
       "    .dataframe tbody tr th {\n",
       "        vertical-align: top;\n",
       "    }\n",
       "\n",
       "    .dataframe thead th {\n",
       "        text-align: right;\n",
       "    }\n",
       "</style>\n",
       "<table border=\"1\" class=\"dataframe\">\n",
       "  <thead>\n",
       "    <tr style=\"text-align: right;\">\n",
       "      <th></th>\n",
       "      <th>count</th>\n",
       "      <th>mean</th>\n",
       "      <th>std</th>\n",
       "      <th>min</th>\n",
       "      <th>25%</th>\n",
       "      <th>50%</th>\n",
       "      <th>75%</th>\n",
       "      <th>max</th>\n",
       "    </tr>\n",
       "  </thead>\n",
       "  <tbody>\n",
       "    <tr>\n",
       "      <th>RegistrationYear</th>\n",
       "      <td>212914.0</td>\n",
       "      <td>2004.85543</td>\n",
       "      <td>61.013807</td>\n",
       "      <td>1000.0</td>\n",
       "      <td>2001.0</td>\n",
       "      <td>2005.0</td>\n",
       "      <td>2008.0</td>\n",
       "      <td>9999.0</td>\n",
       "    </tr>\n",
       "  </tbody>\n",
       "</table>\n",
       "</div>"
      ],
      "text/plain": [
       "                     count        mean        std     min     25%     50%  \\\n",
       "RegistrationYear  212914.0  2004.85543  61.013807  1000.0  2001.0  2005.0   \n",
       "\n",
       "                     75%     max  \n",
       "RegistrationYear  2008.0  9999.0  "
      ]
     },
     "metadata": {},
     "output_type": "display_data"
    }
   ],
   "source": [
    "show_stats(df, 'RegistrationYear')"
   ]
  },
  {
   "cell_type": "markdown",
   "metadata": {
    "id": "XqiLgH52zD_e"
   },
   "source": [
    "- It looks like there are errors in RegistrationYear."
   ]
  },
  {
   "cell_type": "code",
   "execution_count": 30,
   "metadata": {
    "colab": {
     "base_uri": "https://localhost:8080/",
     "height": 0
    },
    "id": "7IbMx2jGzD_f",
    "outputId": "e5416641-a50e-4a31-a06c-42e608f6b1d3"
   },
   "outputs": [
    {
     "name": "stdout",
     "output_type": "stream",
     "text": [
      "Statics for DateCrawled\n"
     ]
    },
    {
     "data": {
      "text/html": [
       "<div>\n",
       "<style scoped>\n",
       "    .dataframe tbody tr th:only-of-type {\n",
       "        vertical-align: middle;\n",
       "    }\n",
       "\n",
       "    .dataframe tbody tr th {\n",
       "        vertical-align: top;\n",
       "    }\n",
       "\n",
       "    .dataframe thead th {\n",
       "        text-align: right;\n",
       "    }\n",
       "</style>\n",
       "<table border=\"1\" class=\"dataframe\">\n",
       "  <thead>\n",
       "    <tr style=\"text-align: right;\">\n",
       "      <th></th>\n",
       "      <th>count</th>\n",
       "      <th>mean</th>\n",
       "      <th>min</th>\n",
       "      <th>25%</th>\n",
       "      <th>50%</th>\n",
       "      <th>75%</th>\n",
       "      <th>max</th>\n",
       "    </tr>\n",
       "  </thead>\n",
       "  <tbody>\n",
       "    <tr>\n",
       "      <th>DateCrawled</th>\n",
       "      <td>212914</td>\n",
       "      <td>2016-03-21 14:21:43.013061120</td>\n",
       "      <td>2016-03-05 14:06:23</td>\n",
       "      <td>2016-03-13 13:38:14</td>\n",
       "      <td>2016-03-21 18:55:29</td>\n",
       "      <td>2016-03-29 14:58:40.750000128</td>\n",
       "      <td>2016-04-07 14:36:58</td>\n",
       "    </tr>\n",
       "  </tbody>\n",
       "</table>\n",
       "</div>"
      ],
      "text/plain": [
       "              count                           mean                  min  \\\n",
       "DateCrawled  212914  2016-03-21 14:21:43.013061120  2016-03-05 14:06:23   \n",
       "\n",
       "                             25%                  50%  \\\n",
       "DateCrawled  2016-03-13 13:38:14  2016-03-21 18:55:29   \n",
       "\n",
       "                                       75%                  max  \n",
       "DateCrawled  2016-03-29 14:58:40.750000128  2016-04-07 14:36:58  "
      ]
     },
     "metadata": {},
     "output_type": "display_data"
    },
    {
     "name": "stdout",
     "output_type": "stream",
     "text": [
      "Statics for DateCreated\n"
     ]
    },
    {
     "data": {
      "text/html": [
       "<div>\n",
       "<style scoped>\n",
       "    .dataframe tbody tr th:only-of-type {\n",
       "        vertical-align: middle;\n",
       "    }\n",
       "\n",
       "    .dataframe tbody tr th {\n",
       "        vertical-align: top;\n",
       "    }\n",
       "\n",
       "    .dataframe thead th {\n",
       "        text-align: right;\n",
       "    }\n",
       "</style>\n",
       "<table border=\"1\" class=\"dataframe\">\n",
       "  <thead>\n",
       "    <tr style=\"text-align: right;\">\n",
       "      <th></th>\n",
       "      <th>count</th>\n",
       "      <th>mean</th>\n",
       "      <th>min</th>\n",
       "      <th>25%</th>\n",
       "      <th>50%</th>\n",
       "      <th>75%</th>\n",
       "      <th>max</th>\n",
       "    </tr>\n",
       "  </thead>\n",
       "  <tbody>\n",
       "    <tr>\n",
       "      <th>DateCreated</th>\n",
       "      <td>212914</td>\n",
       "      <td>2016-03-20 20:13:49.315122432</td>\n",
       "      <td>2014-03-10 00:00:00</td>\n",
       "      <td>2016-03-13 00:00:00</td>\n",
       "      <td>2016-03-21 00:00:00</td>\n",
       "      <td>2016-03-29 00:00:00</td>\n",
       "      <td>2016-04-07 00:00:00</td>\n",
       "    </tr>\n",
       "  </tbody>\n",
       "</table>\n",
       "</div>"
      ],
      "text/plain": [
       "              count                           mean                  min  \\\n",
       "DateCreated  212914  2016-03-20 20:13:49.315122432  2014-03-10 00:00:00   \n",
       "\n",
       "                             25%                  50%                  75%  \\\n",
       "DateCreated  2016-03-13 00:00:00  2016-03-21 00:00:00  2016-03-29 00:00:00   \n",
       "\n",
       "                             max  \n",
       "DateCreated  2016-04-07 00:00:00  "
      ]
     },
     "metadata": {},
     "output_type": "display_data"
    },
    {
     "name": "stdout",
     "output_type": "stream",
     "text": [
      "Statics for LastSeen\n"
     ]
    },
    {
     "data": {
      "text/html": [
       "<div>\n",
       "<style scoped>\n",
       "    .dataframe tbody tr th:only-of-type {\n",
       "        vertical-align: middle;\n",
       "    }\n",
       "\n",
       "    .dataframe tbody tr th {\n",
       "        vertical-align: top;\n",
       "    }\n",
       "\n",
       "    .dataframe thead th {\n",
       "        text-align: right;\n",
       "    }\n",
       "</style>\n",
       "<table border=\"1\" class=\"dataframe\">\n",
       "  <thead>\n",
       "    <tr style=\"text-align: right;\">\n",
       "      <th></th>\n",
       "      <th>count</th>\n",
       "      <th>mean</th>\n",
       "      <th>min</th>\n",
       "      <th>25%</th>\n",
       "      <th>50%</th>\n",
       "      <th>75%</th>\n",
       "      <th>max</th>\n",
       "    </tr>\n",
       "  </thead>\n",
       "  <tbody>\n",
       "    <tr>\n",
       "      <th>LastSeen</th>\n",
       "      <td>212914</td>\n",
       "      <td>2016-03-30 11:46:58.090468352</td>\n",
       "      <td>2016-03-05 14:15:39</td>\n",
       "      <td>2016-03-24 03:16:30</td>\n",
       "      <td>2016-04-04 18:43:05</td>\n",
       "      <td>2016-04-06 11:46:22</td>\n",
       "      <td>2016-04-07 14:58:50</td>\n",
       "    </tr>\n",
       "  </tbody>\n",
       "</table>\n",
       "</div>"
      ],
      "text/plain": [
       "           count                           mean                  min  \\\n",
       "LastSeen  212914  2016-03-30 11:46:58.090468352  2016-03-05 14:15:39   \n",
       "\n",
       "                          25%                  50%                  75%  \\\n",
       "LastSeen  2016-03-24 03:16:30  2016-04-04 18:43:05  2016-04-06 11:46:22   \n",
       "\n",
       "                          max  \n",
       "LastSeen  2016-04-07 14:58:50  "
      ]
     },
     "metadata": {},
     "output_type": "display_data"
    }
   ],
   "source": [
    "for date in dates:\n",
    "    show_stats(df, date)"
   ]
  },
  {
   "cell_type": "markdown",
   "metadata": {
    "id": "tjZB4XODzD_f"
   },
   "source": [
    "- The dates for crawling, creation, and last seen are all within a narrow, consistent timeframe, mostly from early March to early April 2016.\n",
    "\n",
    "- Using the DateCrawled, DateCreated, and LastSeen features could of course help with initial analysis and model development, especially for understanding time-based market dynamics.\n",
    "\n",
    "- However, for the app that calculates car value based on user inputs, the final deployed model should be trained to predict prices based solely on physical car characteristics, making it fully applicable to user-driven predictions without time-related information.\n",
    "\n",
    "- These features will not be used during the modelling process."
   ]
  },
  {
   "cell_type": "code",
   "execution_count": 31,
   "metadata": {
    "colab": {
     "base_uri": "https://localhost:8080/"
    },
    "id": "DmKOZhkDzD_f",
    "outputId": "83eec596-bc17-4574-b7f8-b8cd1a76a13c"
   },
   "outputs": [
    {
     "data": {
      "text/plain": [
       "array([2017, 2018, 5000, 9999, 7000, 4500, 5911, 4000, 6000, 2019, 7100,\n",
       "       8888, 7800, 3200, 3000, 2900, 2800, 9000, 4100, 8500])"
      ]
     },
     "execution_count": 31,
     "metadata": {},
     "output_type": "execute_result"
    }
   ],
   "source": [
    "df[df['RegistrationYear'] > 2016]['RegistrationYear'].unique()"
   ]
  },
  {
   "cell_type": "markdown",
   "metadata": {
    "id": "uZn0qtSXzD_f"
   },
   "source": [
    "- Listings were created from 2014 to 2016 which is why registration year cannot be later that 2016.\n",
    "\n",
    "- Also, there are apparently wrong years which have to be removed form the DataSet."
   ]
  },
  {
   "cell_type": "code",
   "execution_count": 32,
   "metadata": {
    "id": "CBM9398izD_f"
   },
   "outputs": [],
   "source": [
    "df = df[df['RegistrationYear'] <= 2016]"
   ]
  },
  {
   "cell_type": "markdown",
   "metadata": {},
   "source": [
    "<div class=\"alert alert-block alert-success\">\n",
    "<b>Успех:</b> Отлично, согласно дате выгрузки базы, у нас не может быть год регистрации больше 2016 года \n",
    "</div>"
   ]
  },
  {
   "cell_type": "code",
   "execution_count": 33,
   "metadata": {
    "colab": {
     "base_uri": "https://localhost:8080/",
     "height": 0
    },
    "id": "l46ajCmMzD_f",
    "outputId": "2be00ee0-0569-4aa9-d4b0-246b800c0303"
   },
   "outputs": [
    {
     "name": "stdout",
     "output_type": "stream",
     "text": [
      "Statics for RegistrationYear\n"
     ]
    },
    {
     "data": {
      "text/html": [
       "<div>\n",
       "<style scoped>\n",
       "    .dataframe tbody tr th:only-of-type {\n",
       "        vertical-align: middle;\n",
       "    }\n",
       "\n",
       "    .dataframe tbody tr th {\n",
       "        vertical-align: top;\n",
       "    }\n",
       "\n",
       "    .dataframe thead th {\n",
       "        text-align: right;\n",
       "    }\n",
       "</style>\n",
       "<table border=\"1\" class=\"dataframe\">\n",
       "  <thead>\n",
       "    <tr style=\"text-align: right;\">\n",
       "      <th></th>\n",
       "      <th>count</th>\n",
       "      <th>mean</th>\n",
       "      <th>std</th>\n",
       "      <th>min</th>\n",
       "      <th>25%</th>\n",
       "      <th>50%</th>\n",
       "      <th>75%</th>\n",
       "      <th>max</th>\n",
       "    </tr>\n",
       "  </thead>\n",
       "  <tbody>\n",
       "    <tr>\n",
       "      <th>RegistrationYear</th>\n",
       "      <td>204634.0</td>\n",
       "      <td>2003.644873</td>\n",
       "      <td>9.65503</td>\n",
       "      <td>1000.0</td>\n",
       "      <td>2001.0</td>\n",
       "      <td>2004.0</td>\n",
       "      <td>2008.0</td>\n",
       "      <td>2016.0</td>\n",
       "    </tr>\n",
       "  </tbody>\n",
       "</table>\n",
       "</div>"
      ],
      "text/plain": [
       "                     count         mean      std     min     25%     50%  \\\n",
       "RegistrationYear  204634.0  2003.644873  9.65503  1000.0  2001.0  2004.0   \n",
       "\n",
       "                     75%     max  \n",
       "RegistrationYear  2008.0  2016.0  "
      ]
     },
     "metadata": {},
     "output_type": "display_data"
    }
   ],
   "source": [
    "show_stats(df, 'RegistrationYear')"
   ]
  },
  {
   "cell_type": "code",
   "execution_count": 34,
   "metadata": {
    "colab": {
     "base_uri": "https://localhost:8080/",
     "height": 0
    },
    "id": "TpvMVO3IzD_f",
    "outputId": "3b6498c7-4726-4c8a-f290-ba07aab4651f"
   },
   "outputs": [
    {
     "data": {
      "image/png": "[encoded data removed]",
      "text/plain": [
       "<Figure size 800x600 with 2 Axes>"
      ]
     },
     "metadata": {},
     "output_type": "display_data"
    }
   ],
   "source": [
    "plot_hist_box(df, 'RegistrationYear')"
   ]
  },
  {
   "cell_type": "code",
   "execution_count": 35,
   "metadata": {
    "colab": {
     "base_uri": "https://localhost:8080/"
    },
    "id": "7NZb09jezD_g",
    "outputId": "8556a832-0e16-4fc4-bbc7-31d6103cabc8"
   },
   "outputs": [
    {
     "data": {
      "text/plain": [
       "array([1000, 1039, 1001, 1500, 1234, 1800, 1600])"
      ]
     },
     "execution_count": 35,
     "metadata": {},
     "output_type": "execute_result"
    }
   ],
   "source": [
    "df[df['RegistrationYear'] < 1900]['RegistrationYear'].unique()"
   ]
  },
  {
   "cell_type": "code",
   "execution_count": 36,
   "metadata": {
    "id": "OUaOTb5ozD_g"
   },
   "outputs": [],
   "source": [
    "df = df[df['RegistrationYear'] >= 1900]"
   ]
  },
  {
   "cell_type": "code",
   "execution_count": 37,
   "metadata": {
    "colab": {
     "base_uri": "https://localhost:8080/",
     "height": 0
    },
    "id": "Fpz5O_PizD_g",
    "outputId": "0fbc016d-6456-4fdb-cb90-f330ce854ca2"
   },
   "outputs": [
    {
     "data": {
      "image/png": "[encoded data removed]",
      "text/plain": [
       "<Figure size 800x600 with 2 Axes>"
      ]
     },
     "metadata": {},
     "output_type": "display_data"
    }
   ],
   "source": [
    "plot_hist_box(df, 'RegistrationYear')"
   ]
  },
  {
   "cell_type": "markdown",
   "metadata": {
    "id": "q_OpvfrezD_g"
   },
   "source": [
    "### 2.3 Vehicle Type & Model"
   ]
  },
  {
   "cell_type": "code",
   "execution_count": 38,
   "metadata": {
    "colab": {
     "base_uri": "https://localhost:8080/"
    },
    "id": "kebe0tF_zD_g",
    "outputId": "3c4483e8-0f12-4274-b8b5-8d7cca9acf57"
   },
   "outputs": [
    {
     "data": {
      "text/plain": [
       "array(['suv', 'coupe', 'convertible', 'sedan', 'wagon', 'bus', 'small',\n",
       "       'other', nan], dtype=object)"
      ]
     },
     "execution_count": 38,
     "metadata": {},
     "output_type": "execute_result"
    }
   ],
   "source": [
    "df['VehicleType'].unique()"
   ]
  },
  {
   "cell_type": "code",
   "execution_count": 39,
   "metadata": {
    "colab": {
     "base_uri": "https://localhost:8080/",
     "height": 0
    },
    "id": "GAN7APBkzD_g",
    "outputId": "df9014b4-88b9-4cd8-abba-aeff7f87b3fa"
   },
   "outputs": [
    {
     "data": {
      "text/plain": [
       "VehicleType\n",
       "sedan          0.285621\n",
       "wagon          0.203870\n",
       "small          0.195825\n",
       "bus            0.101045\n",
       "convertible    0.072495\n",
       "coupe          0.051529\n",
       "suv            0.044575\n",
       "NaN            0.035998\n",
       "other          0.009041\n",
       "Name: proportion, dtype: float64"
      ]
     },
     "execution_count": 39,
     "metadata": {},
     "output_type": "execute_result"
    }
   ],
   "source": [
    "df['VehicleType'].value_counts(normalize=True, dropna=False)"
   ]
  },
  {
   "cell_type": "code",
   "execution_count": 40,
   "metadata": {
    "colab": {
     "base_uri": "https://localhost:8080/",
     "height": 0
    },
    "id": "SwuRVFYezD_g",
    "outputId": "59cfa840-bb37-4e5f-a374-94d59a068560"
   },
   "outputs": [
    {
     "data": {
      "text/html": [
       "<div>\n",
       "<style scoped>\n",
       "    .dataframe tbody tr th:only-of-type {\n",
       "        vertical-align: middle;\n",
       "    }\n",
       "\n",
       "    .dataframe tbody tr th {\n",
       "        vertical-align: top;\n",
       "    }\n",
       "\n",
       "    .dataframe thead th {\n",
       "        text-align: right;\n",
       "    }\n",
       "</style>\n",
       "<table border=\"1\" class=\"dataframe\">\n",
       "  <thead>\n",
       "    <tr style=\"text-align: right;\">\n",
       "      <th></th>\n",
       "      <th>Price</th>\n",
       "    </tr>\n",
       "    <tr>\n",
       "      <th>VehicleType</th>\n",
       "      <th></th>\n",
       "    </tr>\n",
       "  </thead>\n",
       "  <tbody>\n",
       "    <tr>\n",
       "      <th>bus</th>\n",
       "      <td>6056.605146</td>\n",
       "    </tr>\n",
       "    <tr>\n",
       "      <th>convertible</th>\n",
       "      <td>7341.765808</td>\n",
       "    </tr>\n",
       "    <tr>\n",
       "      <th>coupe</th>\n",
       "      <td>7174.891218</td>\n",
       "    </tr>\n",
       "    <tr>\n",
       "      <th>other</th>\n",
       "      <td>5003.706486</td>\n",
       "    </tr>\n",
       "    <tr>\n",
       "      <th>sedan</th>\n",
       "      <td>5759.142769</td>\n",
       "    </tr>\n",
       "    <tr>\n",
       "      <th>small</th>\n",
       "      <td>3937.676192</td>\n",
       "    </tr>\n",
       "    <tr>\n",
       "      <th>suv</th>\n",
       "      <td>9481.438548</td>\n",
       "    </tr>\n",
       "    <tr>\n",
       "      <th>wagon</th>\n",
       "      <td>5913.680746</td>\n",
       "    </tr>\n",
       "  </tbody>\n",
       "</table>\n",
       "</div>"
      ],
      "text/plain": [
       "                   Price\n",
       "VehicleType             \n",
       "bus          6056.605146\n",
       "convertible  7341.765808\n",
       "coupe        7174.891218\n",
       "other        5003.706486\n",
       "sedan        5759.142769\n",
       "small        3937.676192\n",
       "suv          9481.438548\n",
       "wagon        5913.680746"
      ]
     },
     "execution_count": 40,
     "metadata": {},
     "output_type": "execute_result"
    }
   ],
   "source": [
    "df.groupby('VehicleType')[['Price']].mean()"
   ]
  },
  {
   "cell_type": "code",
   "execution_count": 41,
   "metadata": {
    "colab": {
     "base_uri": "https://localhost:8080/",
     "height": 0
    },
    "id": "IMd4PNXlzD_h",
    "outputId": "2f2046e1-f2cd-4aaf-e2fd-c52b9db5f47d"
   },
   "outputs": [
    {
     "data": {
      "text/html": [
       "<div>\n",
       "<style scoped>\n",
       "    .dataframe tbody tr th:only-of-type {\n",
       "        vertical-align: middle;\n",
       "    }\n",
       "\n",
       "    .dataframe tbody tr th {\n",
       "        vertical-align: top;\n",
       "    }\n",
       "\n",
       "    .dataframe thead th {\n",
       "        text-align: right;\n",
       "    }\n",
       "</style>\n",
       "<table border=\"1\" class=\"dataframe\">\n",
       "  <thead>\n",
       "    <tr style=\"text-align: right;\">\n",
       "      <th></th>\n",
       "      <th>VehicleType</th>\n",
       "      <th>Gearbox</th>\n",
       "      <th>Model</th>\n",
       "      <th>FuelType</th>\n",
       "      <th>Brand</th>\n",
       "      <th>Repaired</th>\n",
       "    </tr>\n",
       "  </thead>\n",
       "  <tbody>\n",
       "    <tr>\n",
       "      <th>Repaired</th>\n",
       "      <td>0.060563</td>\n",
       "      <td>0.016758</td>\n",
       "      <td>0.091864</td>\n",
       "      <td>0.030872</td>\n",
       "      <td>0.037597</td>\n",
       "      <td>1.000000</td>\n",
       "    </tr>\n",
       "    <tr>\n",
       "      <th>Gearbox</th>\n",
       "      <td>0.282672</td>\n",
       "      <td>1.000000</td>\n",
       "      <td>0.655252</td>\n",
       "      <td>0.136472</td>\n",
       "      <td>0.497207</td>\n",
       "      <td>0.016758</td>\n",
       "    </tr>\n",
       "    <tr>\n",
       "      <th>FuelType</th>\n",
       "      <td>0.332328</td>\n",
       "      <td>0.136472</td>\n",
       "      <td>0.557200</td>\n",
       "      <td>1.000000</td>\n",
       "      <td>0.319598</td>\n",
       "      <td>0.030872</td>\n",
       "    </tr>\n",
       "    <tr>\n",
       "      <th>Brand</th>\n",
       "      <td>0.620010</td>\n",
       "      <td>0.497207</td>\n",
       "      <td>0.998327</td>\n",
       "      <td>0.319598</td>\n",
       "      <td>1.000000</td>\n",
       "      <td>0.037597</td>\n",
       "    </tr>\n",
       "    <tr>\n",
       "      <th>Model</th>\n",
       "      <td>0.927859</td>\n",
       "      <td>0.655252</td>\n",
       "      <td>1.000000</td>\n",
       "      <td>0.557200</td>\n",
       "      <td>0.998327</td>\n",
       "      <td>0.091864</td>\n",
       "    </tr>\n",
       "    <tr>\n",
       "      <th>VehicleType</th>\n",
       "      <td>1.000000</td>\n",
       "      <td>0.282672</td>\n",
       "      <td>0.927859</td>\n",
       "      <td>0.332328</td>\n",
       "      <td>0.620010</td>\n",
       "      <td>0.060563</td>\n",
       "    </tr>\n",
       "  </tbody>\n",
       "</table>\n",
       "</div>"
      ],
      "text/plain": [
       "             VehicleType   Gearbox     Model  FuelType     Brand  Repaired\n",
       "Repaired        0.060563  0.016758  0.091864  0.030872  0.037597  1.000000\n",
       "Gearbox         0.282672  1.000000  0.655252  0.136472  0.497207  0.016758\n",
       "FuelType        0.332328  0.136472  0.557200  1.000000  0.319598  0.030872\n",
       "Brand           0.620010  0.497207  0.998327  0.319598  1.000000  0.037597\n",
       "Model           0.927859  0.655252  1.000000  0.557200  0.998327  0.091864\n",
       "VehicleType     1.000000  0.282672  0.927859  0.332328  0.620010  0.060563"
      ]
     },
     "execution_count": 41,
     "metadata": {},
     "output_type": "execute_result"
    }
   ],
   "source": [
    "cat_cols = df.select_dtypes(include='object').columns.to_list()\n",
    "_df = df[cat_cols].dropna()\n",
    "matrix = phik_matrix(_df).sort_values(by='VehicleType')\n",
    "matrix"
   ]
  },
  {
   "cell_type": "markdown",
   "metadata": {
    "id": "Y8svr0jbzD_h"
   },
   "source": [
    "- VehicleType is correlated with Model.\n",
    "\n",
    "- I will fill the missing values for VehicleType with the most common according to Model."
   ]
  },
  {
   "cell_type": "code",
   "execution_count": 42,
   "metadata": {
    "id": "M0Kk54MnzD_h"
   },
   "outputs": [],
   "source": [
    "df['Model'] = df['Model'].fillna('other')\n",
    "most_common_vehicle_type = df.groupby('Model')['VehicleType'].agg(lambda x: x.mode().iloc[0]).reset_index()\n",
    "most_common_vehicle_type.columns = ['Model', 'MostCommonVehicleType']"
   ]
  },
  {
   "cell_type": "code",
   "execution_count": 43,
   "metadata": {
    "colab": {
     "base_uri": "https://localhost:8080/",
     "height": 0
    },
    "id": "vxKmUlfPzD_h",
    "outputId": "03558251-0416-493d-ef14-f3003d04a93c"
   },
   "outputs": [
    {
     "data": {
      "text/html": [
       "<div>\n",
       "<style scoped>\n",
       "    .dataframe tbody tr th:only-of-type {\n",
       "        vertical-align: middle;\n",
       "    }\n",
       "\n",
       "    .dataframe tbody tr th {\n",
       "        vertical-align: top;\n",
       "    }\n",
       "\n",
       "    .dataframe thead th {\n",
       "        text-align: right;\n",
       "    }\n",
       "</style>\n",
       "<table border=\"1\" class=\"dataframe\">\n",
       "  <thead>\n",
       "    <tr style=\"text-align: right;\">\n",
       "      <th></th>\n",
       "      <th>Model</th>\n",
       "      <th>MostCommonVehicleType</th>\n",
       "    </tr>\n",
       "  </thead>\n",
       "  <tbody>\n",
       "    <tr>\n",
       "      <th>0</th>\n",
       "      <td>100</td>\n",
       "      <td>sedan</td>\n",
       "    </tr>\n",
       "    <tr>\n",
       "      <th>1</th>\n",
       "      <td>145</td>\n",
       "      <td>sedan</td>\n",
       "    </tr>\n",
       "    <tr>\n",
       "      <th>2</th>\n",
       "      <td>147</td>\n",
       "      <td>sedan</td>\n",
       "    </tr>\n",
       "    <tr>\n",
       "      <th>3</th>\n",
       "      <td>156</td>\n",
       "      <td>wagon</td>\n",
       "    </tr>\n",
       "    <tr>\n",
       "      <th>4</th>\n",
       "      <td>159</td>\n",
       "      <td>wagon</td>\n",
       "    </tr>\n",
       "    <tr>\n",
       "      <th>5</th>\n",
       "      <td>1_reihe</td>\n",
       "      <td>small</td>\n",
       "    </tr>\n",
       "    <tr>\n",
       "      <th>6</th>\n",
       "      <td>1er</td>\n",
       "      <td>sedan</td>\n",
       "    </tr>\n",
       "    <tr>\n",
       "      <th>7</th>\n",
       "      <td>200</td>\n",
       "      <td>sedan</td>\n",
       "    </tr>\n",
       "    <tr>\n",
       "      <th>8</th>\n",
       "      <td>2_reihe</td>\n",
       "      <td>small</td>\n",
       "    </tr>\n",
       "    <tr>\n",
       "      <th>9</th>\n",
       "      <td>300c</td>\n",
       "      <td>wagon</td>\n",
       "    </tr>\n",
       "  </tbody>\n",
       "</table>\n",
       "</div>"
      ],
      "text/plain": [
       "     Model MostCommonVehicleType\n",
       "0      100                 sedan\n",
       "1      145                 sedan\n",
       "2      147                 sedan\n",
       "3      156                 wagon\n",
       "4      159                 wagon\n",
       "5  1_reihe                 small\n",
       "6      1er                 sedan\n",
       "7      200                 sedan\n",
       "8  2_reihe                 small\n",
       "9     300c                 wagon"
      ]
     },
     "execution_count": 43,
     "metadata": {},
     "output_type": "execute_result"
    }
   ],
   "source": [
    "most_common_vehicle_type.head(10)"
   ]
  },
  {
   "cell_type": "code",
   "execution_count": 44,
   "metadata": {
    "id": "jkt1S9GfzD_h"
   },
   "outputs": [],
   "source": [
    "df = df.merge(most_common_vehicle_type, how='left', on='Model')\n",
    "df['VehicleType'] = df['VehicleType'].fillna(df['MostCommonVehicleType'])"
   ]
  },
  {
   "cell_type": "code",
   "execution_count": 45,
   "metadata": {
    "colab": {
     "base_uri": "https://localhost:8080/"
    },
    "id": "sUbSASouzD_h",
    "outputId": "293666bc-d9f2-4623-9f00-7cf7439159ef"
   },
   "outputs": [
    {
     "data": {
      "text/plain": [
       "249"
      ]
     },
     "execution_count": 45,
     "metadata": {},
     "output_type": "execute_result"
    }
   ],
   "source": [
    "df['Model'].nunique()"
   ]
  },
  {
   "cell_type": "markdown",
   "metadata": {
    "id": "ieLk6890zD_h"
   },
   "source": [
    "- There's a large number of unique values.\n",
    "\n",
    "- I will combine the rare ones together."
   ]
  },
  {
   "cell_type": "code",
   "execution_count": 46,
   "metadata": {
    "colab": {
     "base_uri": "https://localhost:8080/",
     "height": 0
    },
    "id": "rCzxviLDzD_h",
    "outputId": "b66c3413-362b-41b1-816b-be8d6daafe9c"
   },
   "outputs": [
    {
     "data": {
      "text/plain": [
       "Model\n",
       "other                 0.107032\n",
       "golf                  0.080529\n",
       "3er                   0.062437\n",
       "a4                    0.032225\n",
       "passat                0.031292\n",
       "                        ...   \n",
       "charade               0.000015\n",
       "samara                0.000015\n",
       "rangerover            0.000010\n",
       "elefantino            0.000005\n",
       "range_rover_evoque    0.000005\n",
       "Name: proportion, Length: 249, dtype: float64"
      ]
     },
     "execution_count": 46,
     "metadata": {},
     "output_type": "execute_result"
    }
   ],
   "source": [
    "model_counts = df['Model'].value_counts(normalize=True)\n",
    "model_counts"
   ]
  },
  {
   "cell_type": "code",
   "execution_count": 47,
   "metadata": {
    "colab": {
     "base_uri": "https://localhost:8080/"
    },
    "id": "qRdHB-aSzD_i",
    "outputId": "8721b470-7b2c-426d-f1da-9019d7b86c63"
   },
   "outputs": [
    {
     "data": {
      "text/plain": [
       "Index(['zafira', '3_reihe', 'vectra', 'clio', 'mondeo', 'twingo', 'octavia',\n",
       "       'fabia', 'ibiza', 'cooper',\n",
       "       ...\n",
       "       'kappa', 'move', 'i3', 'kalina', 'serie_3', 'charade', 'samara',\n",
       "       'rangerover', 'elefantino', 'range_rover_evoque'],\n",
       "      dtype='object', name='Model', length=228)"
      ]
     },
     "execution_count": 47,
     "metadata": {},
     "output_type": "execute_result"
    }
   ],
   "source": [
    "rare_models = model_counts[model_counts < 0.01].index\n",
    "rare_models"
   ]
  },
  {
   "cell_type": "code",
   "execution_count": 48,
   "metadata": {
    "id": "pNV1OyhjzD_i"
   },
   "outputs": [],
   "source": [
    "df['Model_new'] = df['Model'].apply(lambda x: 'other' if x in rare_models else x)"
   ]
  },
  {
   "cell_type": "code",
   "execution_count": 49,
   "metadata": {
    "colab": {
     "base_uri": "https://localhost:8080/"
    },
    "id": "daNBfCaZzD_i",
    "outputId": "52bb2e39-3cc6-4e93-c11a-3787c6e2112a"
   },
   "outputs": [
    {
     "data": {
      "text/plain": [
       "21"
      ]
     },
     "execution_count": 49,
     "metadata": {},
     "output_type": "execute_result"
    }
   ],
   "source": [
    "df['Model_new'].nunique()"
   ]
  },
  {
   "cell_type": "markdown",
   "metadata": {
    "id": "eBTQ9C-ZzD_i"
   },
   "source": [
    "### 2.3 Gearbox"
   ]
  },
  {
   "cell_type": "code",
   "execution_count": 50,
   "metadata": {
    "colab": {
     "base_uri": "https://localhost:8080/",
     "height": 0
    },
    "id": "7Burb_OnzD_i",
    "outputId": "6ff2ee62-abea-421a-c258-02bb768d381d"
   },
   "outputs": [
    {
     "data": {
      "text/plain": [
       "Gearbox\n",
       "manual    0.742700\n",
       "auto      0.223242\n",
       "NaN       0.034058\n",
       "Name: proportion, dtype: float64"
      ]
     },
     "execution_count": 50,
     "metadata": {},
     "output_type": "execute_result"
    }
   ],
   "source": [
    "df['Gearbox'].value_counts(normalize=True, dropna=False)"
   ]
  },
  {
   "cell_type": "code",
   "execution_count": 51,
   "metadata": {
    "id": "Fx8eDbegzD_i"
   },
   "outputs": [],
   "source": [
    "df['Gearbox'] = df['Gearbox'].fillna('unknown')"
   ]
  },
  {
   "cell_type": "code",
   "execution_count": 52,
   "metadata": {
    "colab": {
     "base_uri": "https://localhost:8080/",
     "height": 0
    },
    "id": "y1uGHDz2zD_i",
    "outputId": "15999530-40b3-4b32-c8ee-d33f60b1fa07"
   },
   "outputs": [
    {
     "data": {
      "text/html": [
       "<div>\n",
       "<style scoped>\n",
       "    .dataframe tbody tr th:only-of-type {\n",
       "        vertical-align: middle;\n",
       "    }\n",
       "\n",
       "    .dataframe tbody tr th {\n",
       "        vertical-align: top;\n",
       "    }\n",
       "\n",
       "    .dataframe thead th {\n",
       "        text-align: right;\n",
       "    }\n",
       "</style>\n",
       "<table border=\"1\" class=\"dataframe\">\n",
       "  <thead>\n",
       "    <tr style=\"text-align: right;\">\n",
       "      <th></th>\n",
       "      <th>Price</th>\n",
       "    </tr>\n",
       "    <tr>\n",
       "      <th>Gearbox</th>\n",
       "      <th></th>\n",
       "    </tr>\n",
       "  </thead>\n",
       "  <tbody>\n",
       "    <tr>\n",
       "      <th>auto</th>\n",
       "      <td>7706.122045</td>\n",
       "    </tr>\n",
       "    <tr>\n",
       "      <th>manual</th>\n",
       "      <td>5238.018878</td>\n",
       "    </tr>\n",
       "    <tr>\n",
       "      <th>unknown</th>\n",
       "      <td>4177.227866</td>\n",
       "    </tr>\n",
       "  </tbody>\n",
       "</table>\n",
       "</div>"
      ],
      "text/plain": [
       "               Price\n",
       "Gearbox             \n",
       "auto     7706.122045\n",
       "manual   5238.018878\n",
       "unknown  4177.227866"
      ]
     },
     "execution_count": 52,
     "metadata": {},
     "output_type": "execute_result"
    }
   ],
   "source": [
    "df.groupby('Gearbox')[['Price']].mean()"
   ]
  },
  {
   "cell_type": "markdown",
   "metadata": {
    "id": "VKyxdnYzzD_j"
   },
   "source": [
    "- The average Price values for each Gearbox category suggest that vehicles with \"auto\" gearboxes are generally more expensive than those with \"manual\" gearboxes, and that the \"unknown\" category is associated with the lowest average price. Given this, it could be beneficial to retain \"unknown\" as a separate category, as it may carry unique information about lower-priced vehicles."
   ]
  },
  {
   "cell_type": "markdown",
   "metadata": {
    "id": "2j6CR7AXzD_j"
   },
   "source": [
    "### 2.4 Fuel Type"
   ]
  },
  {
   "cell_type": "code",
   "execution_count": 53,
   "metadata": {
    "colab": {
     "base_uri": "https://localhost:8080/"
    },
    "id": "CGQWaezhzD_j",
    "outputId": "907b9859-de90-4717-ab58-fd97b4b48b15"
   },
   "outputs": [
    {
     "data": {
      "text/plain": [
       "array(['gasoline', 'petrol', nan, 'lpg', 'electric', 'hybrid', 'cng',\n",
       "       'other'], dtype=object)"
      ]
     },
     "execution_count": 53,
     "metadata": {},
     "output_type": "execute_result"
    }
   ],
   "source": [
    "df['FuelType'].unique()"
   ]
  },
  {
   "cell_type": "code",
   "execution_count": 54,
   "metadata": {
    "id": "5BOfOxbszD_j"
   },
   "outputs": [],
   "source": [
    "df['FuelType'] = df['FuelType'].replace({'petrol':'gasoline'}).fillna('other')"
   ]
  },
  {
   "cell_type": "code",
   "execution_count": 55,
   "metadata": {
    "colab": {
     "base_uri": "https://localhost:8080/",
     "height": 0
    },
    "id": "qnFpyHuHzD_j",
    "outputId": "06f0ddfb-21db-4056-8c7e-c4ad444a35ff"
   },
   "outputs": [
    {
     "data": {
      "text/html": [
       "<div>\n",
       "<style scoped>\n",
       "    .dataframe tbody tr th:only-of-type {\n",
       "        vertical-align: middle;\n",
       "    }\n",
       "\n",
       "    .dataframe tbody tr th {\n",
       "        vertical-align: top;\n",
       "    }\n",
       "\n",
       "    .dataframe thead th {\n",
       "        text-align: right;\n",
       "    }\n",
       "</style>\n",
       "<table border=\"1\" class=\"dataframe\">\n",
       "  <thead>\n",
       "    <tr style=\"text-align: right;\">\n",
       "      <th></th>\n",
       "      <th>Price</th>\n",
       "    </tr>\n",
       "    <tr>\n",
       "      <th>FuelType</th>\n",
       "      <th></th>\n",
       "    </tr>\n",
       "  </thead>\n",
       "  <tbody>\n",
       "    <tr>\n",
       "      <th>cng</th>\n",
       "      <td>5051.646438</td>\n",
       "    </tr>\n",
       "    <tr>\n",
       "      <th>electric</th>\n",
       "      <td>7883.716667</td>\n",
       "    </tr>\n",
       "    <tr>\n",
       "      <th>gasoline</th>\n",
       "      <td>5847.345003</td>\n",
       "    </tr>\n",
       "    <tr>\n",
       "      <th>hybrid</th>\n",
       "      <td>10471.385057</td>\n",
       "    </tr>\n",
       "    <tr>\n",
       "      <th>lpg</th>\n",
       "      <td>4713.051149</td>\n",
       "    </tr>\n",
       "    <tr>\n",
       "      <th>other</th>\n",
       "      <td>4291.462630</td>\n",
       "    </tr>\n",
       "  </tbody>\n",
       "</table>\n",
       "</div>"
      ],
      "text/plain": [
       "                 Price\n",
       "FuelType              \n",
       "cng        5051.646438\n",
       "electric   7883.716667\n",
       "gasoline   5847.345003\n",
       "hybrid    10471.385057\n",
       "lpg        4713.051149\n",
       "other      4291.462630"
      ]
     },
     "execution_count": 55,
     "metadata": {},
     "output_type": "execute_result"
    }
   ],
   "source": [
    "df.groupby('FuelType')[['Price']].mean()"
   ]
  },
  {
   "cell_type": "code",
   "execution_count": 56,
   "metadata": {
    "colab": {
     "base_uri": "https://localhost:8080/",
     "height": 0
    },
    "id": "Abyq-SfPzD_j",
    "outputId": "1462907d-adbd-444b-a72c-e38129d68b3d"
   },
   "outputs": [
    {
     "data": {
      "text/plain": [
       "FuelType\n",
       "gasoline    0.929714\n",
       "other       0.050283\n",
       "lpg         0.017007\n",
       "cng         0.001852\n",
       "hybrid      0.000850\n",
       "electric    0.000293\n",
       "Name: proportion, dtype: float64"
      ]
     },
     "execution_count": 56,
     "metadata": {},
     "output_type": "execute_result"
    }
   ],
   "source": [
    "df['FuelType'].value_counts(normalize=True, dropna=False)"
   ]
  },
  {
   "cell_type": "markdown",
   "metadata": {
    "id": "iO0EyBwuzD_j"
   },
   "source": [
    "- Given the distribution of values in FuelType, it makes sense to simplify it by creating a binary feature for the linear model, particularly if the majority of vehicles use gasoline."
   ]
  },
  {
   "cell_type": "code",
   "execution_count": 57,
   "metadata": {
    "id": "-PcPld4CzD_j"
   },
   "outputs": [],
   "source": [
    "df['FuelTypeIsGas'] = df['FuelType'].apply(lambda x: 1 if x == 'gasoline' else 0)"
   ]
  },
  {
   "cell_type": "code",
   "execution_count": 58,
   "metadata": {
    "colab": {
     "base_uri": "https://localhost:8080/",
     "height": 0
    },
    "id": "8224ZvKzzD_j",
    "outputId": "e8f3ae72-8f89-4de0-ffa4-ce005882c0ea"
   },
   "outputs": [
    {
     "data": {
      "text/plain": [
       "FuelTypeIsGas\n",
       "1    0.929714\n",
       "0    0.070286\n",
       "Name: proportion, dtype: float64"
      ]
     },
     "execution_count": 58,
     "metadata": {},
     "output_type": "execute_result"
    }
   ],
   "source": [
    "df['FuelTypeIsGas'].value_counts(normalize=True)"
   ]
  },
  {
   "cell_type": "markdown",
   "metadata": {
    "id": "7Qf5CElBzD_k"
   },
   "source": [
    "### 2.5 Power"
   ]
  },
  {
   "cell_type": "code",
   "execution_count": 59,
   "metadata": {
    "colab": {
     "base_uri": "https://localhost:8080/",
     "height": 0
    },
    "id": "PkTtZddQzD_k",
    "outputId": "373904f4-32cf-4cff-fbd3-d14e08cf8b60"
   },
   "outputs": [
    {
     "name": "stdout",
     "output_type": "stream",
     "text": [
      "Statics for Power\n"
     ]
    },
    {
     "data": {
      "text/html": [
       "<div>\n",
       "<style scoped>\n",
       "    .dataframe tbody tr th:only-of-type {\n",
       "        vertical-align: middle;\n",
       "    }\n",
       "\n",
       "    .dataframe tbody tr th {\n",
       "        vertical-align: top;\n",
       "    }\n",
       "\n",
       "    .dataframe thead th {\n",
       "        text-align: right;\n",
       "    }\n",
       "</style>\n",
       "<table border=\"1\" class=\"dataframe\">\n",
       "  <thead>\n",
       "    <tr style=\"text-align: right;\">\n",
       "      <th></th>\n",
       "      <th>count</th>\n",
       "      <th>mean</th>\n",
       "      <th>std</th>\n",
       "      <th>min</th>\n",
       "      <th>25%</th>\n",
       "      <th>50%</th>\n",
       "      <th>75%</th>\n",
       "      <th>max</th>\n",
       "    </tr>\n",
       "  </thead>\n",
       "  <tbody>\n",
       "    <tr>\n",
       "      <th>Power</th>\n",
       "      <td>204621.0</td>\n",
       "      <td>122.78815</td>\n",
       "      <td>184.456538</td>\n",
       "      <td>0.0</td>\n",
       "      <td>80.0</td>\n",
       "      <td>116.0</td>\n",
       "      <td>150.0</td>\n",
       "      <td>20000.0</td>\n",
       "    </tr>\n",
       "  </tbody>\n",
       "</table>\n",
       "</div>"
      ],
      "text/plain": [
       "          count       mean         std  min   25%    50%    75%      max\n",
       "Power  204621.0  122.78815  184.456538  0.0  80.0  116.0  150.0  20000.0"
      ]
     },
     "metadata": {},
     "output_type": "display_data"
    }
   ],
   "source": [
    "show_stats(df, 'Power')"
   ]
  },
  {
   "cell_type": "markdown",
   "metadata": {
    "id": "8V5L4a84zD_k"
   },
   "source": [
    "- It looks like there are some extreme values, specifically the maximum value of 20,000 hp, which is unusually high for most vehicles and likely an error.\n",
    "\n",
    "- Most vehicles have power outputs in the range of 50 to 1,500 hp."
   ]
  },
  {
   "cell_type": "code",
   "execution_count": 60,
   "metadata": {
    "colab": {
     "base_uri": "https://localhost:8080/"
    },
    "id": "3R76y5sszD_k",
    "outputId": "456fa606-2714-4fda-cf0c-bf0b55b470a6"
   },
   "outputs": [
    {
     "data": {
      "text/plain": [
       "0.07868205120686537"
      ]
     },
     "execution_count": 60,
     "metadata": {},
     "output_type": "execute_result"
    }
   ],
   "source": [
    "(df['Power'] < 50).mean()"
   ]
  },
  {
   "cell_type": "code",
   "execution_count": 61,
   "metadata": {
    "colab": {
     "base_uri": "https://localhost:8080/"
    },
    "id": "zSnOouzHzD_k",
    "outputId": "8513b697-7596-4d6c-cf92-c7d26cdc5e9c"
   },
   "outputs": [
    {
     "data": {
      "text/plain": [
       "0.0005033696443669028"
      ]
     },
     "execution_count": 61,
     "metadata": {},
     "output_type": "execute_result"
    }
   ],
   "source": [
    "(df['Power'] > 1500).mean()"
   ]
  },
  {
   "cell_type": "markdown",
   "metadata": {
    "id": "cpO1Eax5zD_k"
   },
   "source": [
    "- Since the proportions are quite low, I will filter out the unrealistic values."
   ]
  },
  {
   "cell_type": "code",
   "execution_count": 62,
   "metadata": {
    "id": "MwMQAgjxzD_k"
   },
   "outputs": [],
   "source": [
    "df = df[(df['Power'] >= 50) & (df['Power'] <= 1500)]"
   ]
  },
  {
   "cell_type": "code",
   "execution_count": 63,
   "metadata": {
    "colab": {
     "base_uri": "https://localhost:8080/",
     "height": 0
    },
    "id": "ucjOzx_mzD_k",
    "outputId": "f0e6f385-53af-45b1-8c5b-d35184d60288"
   },
   "outputs": [
    {
     "data": {
      "image/png": "[encoded data removed]",
      "text/plain": [
       "<Figure size 800x600 with 2 Axes>"
      ]
     },
     "metadata": {},
     "output_type": "display_data"
    }
   ],
   "source": [
    "plot_hist_box(df, 'Power')"
   ]
  },
  {
   "cell_type": "markdown",
   "metadata": {
    "id": "u-u13mvIzD_k"
   },
   "source": [
    "- This will also have to be log-transformed for the linear model."
   ]
  },
  {
   "cell_type": "code",
   "execution_count": 64,
   "metadata": {
    "id": "UQQ7CFMqzD_l"
   },
   "outputs": [],
   "source": [
    "df['Power_log'] = np.log10(df['Power'])"
   ]
  },
  {
   "cell_type": "code",
   "execution_count": 65,
   "metadata": {
    "colab": {
     "base_uri": "https://localhost:8080/",
     "height": 0
    },
    "id": "bOVl4E_dzD_l",
    "outputId": "0a415566-71de-4f29-b63f-9f38127d9f55"
   },
   "outputs": [
    {
     "data": {
      "image/png": "[encoded data removed]",
      "text/plain": [
       "<Figure size 800x600 with 2 Axes>"
      ]
     },
     "metadata": {},
     "output_type": "display_data"
    }
   ],
   "source": [
    "plot_hist_box(df, 'Power_log')"
   ]
  },
  {
   "cell_type": "markdown",
   "metadata": {
    "id": "gi3MguoKzD_l"
   },
   "source": [
    "### 2.6 Repaired"
   ]
  },
  {
   "cell_type": "code",
   "execution_count": 66,
   "metadata": {
    "id": "3wv4CuWfzD_l"
   },
   "outputs": [],
   "source": [
    "df['Repaired']  = df['Repaired'].fillna('unknown')"
   ]
  },
  {
   "cell_type": "code",
   "execution_count": 67,
   "metadata": {
    "colab": {
     "base_uri": "https://localhost:8080/"
    },
    "id": "8MeqlBECzD_l",
    "outputId": "8608ccfa-df20-4d10-eacb-7e51b8d9fbc4"
   },
   "outputs": [
    {
     "data": {
      "text/plain": [
       "array(['yes', 'no', 'unknown'], dtype=object)"
      ]
     },
     "execution_count": 67,
     "metadata": {},
     "output_type": "execute_result"
    }
   ],
   "source": [
    "df['Repaired'].unique()"
   ]
  },
  {
   "cell_type": "code",
   "execution_count": 68,
   "metadata": {
    "colab": {
     "base_uri": "https://localhost:8080/",
     "height": 0
    },
    "id": "nkaXsX8ezD_l",
    "outputId": "6ef5d0e0-9a0b-4e24-c3aa-f76b85f28a8f"
   },
   "outputs": [
    {
     "data": {
      "text/plain": [
       "Repaired\n",
       "no         0.822268\n",
       "unknown    0.117436\n",
       "yes        0.060297\n",
       "Name: proportion, dtype: float64"
      ]
     },
     "execution_count": 68,
     "metadata": {},
     "output_type": "execute_result"
    }
   ],
   "source": [
    "df['Repaired'].value_counts(normalize=True)"
   ]
  },
  {
   "cell_type": "code",
   "execution_count": 69,
   "metadata": {
    "colab": {
     "base_uri": "https://localhost:8080/",
     "height": 0
    },
    "id": "q-hoal01zD_l",
    "outputId": "fee90899-5f59-49ca-96a6-af15267441f3"
   },
   "outputs": [
    {
     "data": {
      "text/plain": [
       "Repaired\n",
       "no         6260.772917\n",
       "unknown    4514.535364\n",
       "yes        3785.989262\n",
       "Name: Price, dtype: float64"
      ]
     },
     "execution_count": 69,
     "metadata": {},
     "output_type": "execute_result"
    }
   ],
   "source": [
    "df.groupby('Repaired')['Price'].mean()"
   ]
  },
  {
   "cell_type": "markdown",
   "metadata": {
    "id": "liOj03GqzD_l"
   },
   "source": [
    "-  The 'unknown' might hold significance (e.g., reflecting cars with uncertain repair histories), so I will create binary features to provide the linear model with additional context."
   ]
  },
  {
   "cell_type": "code",
   "execution_count": 70,
   "metadata": {
    "id": "FoYzmK7rzD_m"
   },
   "outputs": [],
   "source": [
    "df['IsRepaired'] = df['Repaired'].apply(lambda x: 1 if x == 'yes' else 0)\n",
    "df['IsUnknownRepairedStatus'] = df['Repaired'].apply(lambda x: 1 if x == 'unknown' else 0)"
   ]
  },
  {
   "cell_type": "markdown",
   "metadata": {
    "id": "qx4208Y0zD_m"
   },
   "source": [
    "### 2.7 Postal Code"
   ]
  },
  {
   "cell_type": "code",
   "execution_count": 71,
   "metadata": {
    "colab": {
     "base_uri": "https://localhost:8080/"
    },
    "id": "xL0_3_2QzD_m",
    "outputId": "dad63620-d0f3-4eba-bde8-2a1996ef1469"
   },
   "outputs": [
    {
     "data": {
      "text/plain": [
       "7980"
      ]
     },
     "execution_count": 71,
     "metadata": {},
     "output_type": "execute_result"
    }
   ],
   "source": [
    "df['PostalCode'].nunique()"
   ]
  },
  {
   "cell_type": "markdown",
   "metadata": {
    "id": "PjE4EM1bzD_m"
   },
   "source": [
    "- This feature is not a continuous value which has too many unique values.\n",
    "\n",
    "- Besides, this information is about the user not the vehicle.\n",
    "\n",
    "- This feature doesn't appear to be informative which is why this column will be dropped."
   ]
  },
  {
   "cell_type": "markdown",
   "metadata": {
    "id": "1Gg3haRgzD_m"
   },
   "source": [
    "### 2.8 Kilometer"
   ]
  },
  {
   "cell_type": "code",
   "execution_count": 72,
   "metadata": {
    "colab": {
     "base_uri": "https://localhost:8080/",
     "height": 0
    },
    "id": "8k1BrRxyzD_m",
    "outputId": "5db642eb-9565-4313-de8a-fdcab9acb6e0"
   },
   "outputs": [
    {
     "name": "stdout",
     "output_type": "stream",
     "text": [
      "Statics for Kilometer\n"
     ]
    },
    {
     "data": {
      "text/html": [
       "<div>\n",
       "<style scoped>\n",
       "    .dataframe tbody tr th:only-of-type {\n",
       "        vertical-align: middle;\n",
       "    }\n",
       "\n",
       "    .dataframe tbody tr th {\n",
       "        vertical-align: top;\n",
       "    }\n",
       "\n",
       "    .dataframe thead th {\n",
       "        text-align: right;\n",
       "    }\n",
       "</style>\n",
       "<table border=\"1\" class=\"dataframe\">\n",
       "  <thead>\n",
       "    <tr style=\"text-align: right;\">\n",
       "      <th></th>\n",
       "      <th>count</th>\n",
       "      <th>mean</th>\n",
       "      <th>std</th>\n",
       "      <th>min</th>\n",
       "      <th>25%</th>\n",
       "      <th>50%</th>\n",
       "      <th>75%</th>\n",
       "      <th>max</th>\n",
       "    </tr>\n",
       "  </thead>\n",
       "  <tbody>\n",
       "    <tr>\n",
       "      <th>Kilometer</th>\n",
       "      <td>188418.0</td>\n",
       "      <td>125602.569818</td>\n",
       "      <td>37929.665537</td>\n",
       "      <td>5000.0</td>\n",
       "      <td>100000.0</td>\n",
       "      <td>150000.0</td>\n",
       "      <td>150000.0</td>\n",
       "      <td>150000.0</td>\n",
       "    </tr>\n",
       "  </tbody>\n",
       "</table>\n",
       "</div>"
      ],
      "text/plain": [
       "              count           mean           std     min       25%       50%  \\\n",
       "Kilometer  188418.0  125602.569818  37929.665537  5000.0  100000.0  150000.0   \n",
       "\n",
       "                75%       max  \n",
       "Kilometer  150000.0  150000.0  "
      ]
     },
     "metadata": {},
     "output_type": "display_data"
    }
   ],
   "source": [
    "show_stats(df, 'Kilometer')"
   ]
  },
  {
   "cell_type": "markdown",
   "metadata": {
    "id": "2KdT8-z8zD_m"
   },
   "source": [
    "- It looks like Kilometer column has a maximum value of 150,000 km for many entries, as shown by the 50th (median), 75th percentiles, and maximum values all being 150,000 km.\n",
    "\n",
    "- This dataset is from listings or used car data, so 150,000 km might be a frequently chosen maximum value, either as a placeholder or an approximation."
   ]
  },
  {
   "cell_type": "code",
   "execution_count": 73,
   "metadata": {
    "colab": {
     "base_uri": "https://localhost:8080/",
     "height": 0
    },
    "id": "kdqrliGHzD_m",
    "outputId": "d1d5d38d-46e8-466d-f81d-f367a28c43f2"
   },
   "outputs": [
    {
     "data": {
      "image/png": "[encoded data removed]",
      "text/plain": [
       "<Figure size 1000x600 with 1 Axes>"
      ]
     },
     "metadata": {},
     "output_type": "display_data"
    }
   ],
   "source": [
    "# Histogram for Kilometer\n",
    "plt.figure(figsize=(10, 6))\n",
    "sns.histplot(df['Kilometer'], bins=30, kde=True)\n",
    "plt.title('Kilometer Distribution')\n",
    "plt.xlabel('Kilometer')\n",
    "plt.show()"
   ]
  },
  {
   "cell_type": "code",
   "execution_count": 74,
   "metadata": {
    "colab": {
     "base_uri": "https://localhost:8080/"
    },
    "id": "6e6mzZRBzD_n",
    "outputId": "a71459f1-318a-411c-9629-92b036d285d0"
   },
   "outputs": [
    {
     "data": {
      "text/plain": [
       "0.6238522858750225"
      ]
     },
     "execution_count": 74,
     "metadata": {},
     "output_type": "execute_result"
    }
   ],
   "source": [
    "(df['Kilometer'] == 150000).mean()"
   ]
  },
  {
   "cell_type": "markdown",
   "metadata": {
    "id": "LlknDtb5zD_n"
   },
   "source": [
    "- 65% of dataset has a value of 150,000 km, it's very likely that this value represents a cap or default for high-mileage vehicles, rather than an accurate measure of their mileage.\n",
    "\n",
    "- I will binarize this feature."
   ]
  },
  {
   "cell_type": "code",
   "execution_count": 75,
   "metadata": {},
   "outputs": [],
   "source": [
    "df['IsHighMileage'] = df['Kilometer'].apply(lambda x: 1 if x >= 140000 else 0)"
   ]
  },
  {
   "cell_type": "code",
   "execution_count": 76,
   "metadata": {},
   "outputs": [
    {
     "data": {
      "text/plain": [
       "IsHighMileage\n",
       "1    0.623852\n",
       "0    0.376148\n",
       "Name: proportion, dtype: float64"
      ]
     },
     "execution_count": 76,
     "metadata": {},
     "output_type": "execute_result"
    }
   ],
   "source": [
    "df['IsHighMileage'].value_counts(normalize=True)"
   ]
  },
  {
   "cell_type": "markdown",
   "metadata": {
    "id": "ZTmOC9iHzD_o"
   },
   "source": [
    "### 2.9 Registration Month"
   ]
  },
  {
   "cell_type": "code",
   "execution_count": 77,
   "metadata": {
    "colab": {
     "base_uri": "https://localhost:8080/"
    },
    "id": "ggumefC_zD_o",
    "outputId": "abe9fcd7-c7ba-4784-8988-7d5d69aad715"
   },
   "outputs": [
    {
     "data": {
      "text/plain": [
       "array([ 3,  9,  6,  8,  7, 10,  4, 11,  0,  2, 12,  1,  5])"
      ]
     },
     "execution_count": 77,
     "metadata": {},
     "output_type": "execute_result"
    }
   ],
   "source": [
    "df['RegistrationMonth'].unique()"
   ]
  },
  {
   "cell_type": "code",
   "execution_count": 78,
   "metadata": {
    "colab": {
     "base_uri": "https://localhost:8080/",
     "height": 0
    },
    "id": "ugJqdjP7zD_o",
    "outputId": "8f3f96a2-9bff-4c4b-9beb-d4d8bdd33ec3"
   },
   "outputs": [
    {
     "data": {
      "text/html": [
       "<div>\n",
       "<style scoped>\n",
       "    .dataframe tbody tr th:only-of-type {\n",
       "        vertical-align: middle;\n",
       "    }\n",
       "\n",
       "    .dataframe tbody tr th {\n",
       "        vertical-align: top;\n",
       "    }\n",
       "\n",
       "    .dataframe thead th {\n",
       "        text-align: right;\n",
       "    }\n",
       "</style>\n",
       "<table border=\"1\" class=\"dataframe\">\n",
       "  <thead>\n",
       "    <tr style=\"text-align: right;\">\n",
       "      <th></th>\n",
       "      <th>Price</th>\n",
       "    </tr>\n",
       "    <tr>\n",
       "      <th>RegistrationMonth</th>\n",
       "      <th></th>\n",
       "    </tr>\n",
       "  </thead>\n",
       "  <tbody>\n",
       "    <tr>\n",
       "      <th>0</th>\n",
       "      <td>3927.763178</td>\n",
       "    </tr>\n",
       "    <tr>\n",
       "      <th>1</th>\n",
       "      <td>6067.451363</td>\n",
       "    </tr>\n",
       "    <tr>\n",
       "      <th>2</th>\n",
       "      <td>5899.449348</td>\n",
       "    </tr>\n",
       "    <tr>\n",
       "      <th>3</th>\n",
       "      <td>5892.173172</td>\n",
       "    </tr>\n",
       "    <tr>\n",
       "      <th>4</th>\n",
       "      <td>6089.821461</td>\n",
       "    </tr>\n",
       "    <tr>\n",
       "      <th>5</th>\n",
       "      <td>5915.226632</td>\n",
       "    </tr>\n",
       "    <tr>\n",
       "      <th>6</th>\n",
       "      <td>5971.583838</td>\n",
       "    </tr>\n",
       "    <tr>\n",
       "      <th>7</th>\n",
       "      <td>6060.670434</td>\n",
       "    </tr>\n",
       "    <tr>\n",
       "      <th>8</th>\n",
       "      <td>5885.174115</td>\n",
       "    </tr>\n",
       "    <tr>\n",
       "      <th>9</th>\n",
       "      <td>6107.550007</td>\n",
       "    </tr>\n",
       "    <tr>\n",
       "      <th>10</th>\n",
       "      <td>6015.306720</td>\n",
       "    </tr>\n",
       "    <tr>\n",
       "      <th>11</th>\n",
       "      <td>6136.257595</td>\n",
       "    </tr>\n",
       "    <tr>\n",
       "      <th>12</th>\n",
       "      <td>5881.239754</td>\n",
       "    </tr>\n",
       "  </tbody>\n",
       "</table>\n",
       "</div>"
      ],
      "text/plain": [
       "                         Price\n",
       "RegistrationMonth             \n",
       "0                  3927.763178\n",
       "1                  6067.451363\n",
       "2                  5899.449348\n",
       "3                  5892.173172\n",
       "4                  6089.821461\n",
       "5                  5915.226632\n",
       "6                  5971.583838\n",
       "7                  6060.670434\n",
       "8                  5885.174115\n",
       "9                  6107.550007\n",
       "10                 6015.306720\n",
       "11                 6136.257595\n",
       "12                 5881.239754"
      ]
     },
     "execution_count": 78,
     "metadata": {},
     "output_type": "execute_result"
    }
   ],
   "source": [
    "df.groupby('RegistrationMonth')[['Price']].mean()"
   ]
  },
  {
   "cell_type": "markdown",
   "metadata": {
    "id": "g4FQWyD5zD_o"
   },
   "source": [
    "- Given the distribution, this does not appear to be an informative feature."
   ]
  },
  {
   "cell_type": "markdown",
   "metadata": {
    "id": "ikQLQ3WBzD_o"
   },
   "source": [
    "### 2.10 Number of Pictures"
   ]
  },
  {
   "cell_type": "code",
   "execution_count": 79,
   "metadata": {
    "colab": {
     "base_uri": "https://localhost:8080/",
     "height": 0
    },
    "id": "s2tiVjY8zD_p",
    "outputId": "41f1b253-5fbd-48ce-aae3-7e5a79a44a39"
   },
   "outputs": [
    {
     "name": "stdout",
     "output_type": "stream",
     "text": [
      "Statics for NumberOfPictures\n"
     ]
    },
    {
     "data": {
      "text/html": [
       "<div>\n",
       "<style scoped>\n",
       "    .dataframe tbody tr th:only-of-type {\n",
       "        vertical-align: middle;\n",
       "    }\n",
       "\n",
       "    .dataframe tbody tr th {\n",
       "        vertical-align: top;\n",
       "    }\n",
       "\n",
       "    .dataframe thead th {\n",
       "        text-align: right;\n",
       "    }\n",
       "</style>\n",
       "<table border=\"1\" class=\"dataframe\">\n",
       "  <thead>\n",
       "    <tr style=\"text-align: right;\">\n",
       "      <th></th>\n",
       "      <th>count</th>\n",
       "      <th>mean</th>\n",
       "      <th>std</th>\n",
       "      <th>min</th>\n",
       "      <th>25%</th>\n",
       "      <th>50%</th>\n",
       "      <th>75%</th>\n",
       "      <th>max</th>\n",
       "    </tr>\n",
       "  </thead>\n",
       "  <tbody>\n",
       "    <tr>\n",
       "      <th>NumberOfPictures</th>\n",
       "      <td>188418.0</td>\n",
       "      <td>0.0</td>\n",
       "      <td>0.0</td>\n",
       "      <td>0.0</td>\n",
       "      <td>0.0</td>\n",
       "      <td>0.0</td>\n",
       "      <td>0.0</td>\n",
       "      <td>0.0</td>\n",
       "    </tr>\n",
       "  </tbody>\n",
       "</table>\n",
       "</div>"
      ],
      "text/plain": [
       "                     count  mean  std  min  25%  50%  75%  max\n",
       "NumberOfPictures  188418.0   0.0  0.0  0.0  0.0  0.0  0.0  0.0"
      ]
     },
     "metadata": {},
     "output_type": "display_data"
    }
   ],
   "source": [
    "show_stats(df, 'NumberOfPictures')"
   ]
  },
  {
   "cell_type": "markdown",
   "metadata": {
    "id": "i3qqi8qizD_p"
   },
   "source": [
    "- This is likely a mistake and this feature is not informative thus will be dropped."
   ]
  },
  {
   "cell_type": "markdown",
   "metadata": {
    "id": "UfnQOCIlzD_p"
   },
   "source": [
    "## 3 Correlation"
   ]
  },
  {
   "cell_type": "code",
   "execution_count": 80,
   "metadata": {},
   "outputs": [
    {
     "data": {
      "text/plain": [
       "Index(['DateCrawled', 'Price', 'VehicleType', 'RegistrationYear', 'Gearbox',\n",
       "       'Power', 'Model', 'Kilometer', 'RegistrationMonth', 'FuelType', 'Brand',\n",
       "       'Repaired', 'DateCreated', 'NumberOfPictures', 'PostalCode', 'LastSeen',\n",
       "       'Price_log', 'MostCommonVehicleType', 'Model_new', 'FuelTypeIsGas',\n",
       "       'Power_log', 'IsRepaired', 'IsUnknownRepairedStatus', 'IsHighMileage'],\n",
       "      dtype='object')"
      ]
     },
     "execution_count": 80,
     "metadata": {},
     "output_type": "execute_result"
    }
   ],
   "source": [
    "df.columns"
   ]
  },
  {
   "cell_type": "code",
   "execution_count": 81,
   "metadata": {},
   "outputs": [],
   "source": [
    "remove_cols = [\n",
    "    'RegistrationMonth', \n",
    "    'NumberOfPictures', \n",
    "    'MostCommonVehicleType',\n",
    "    'PostalCode'\n",
    "]"
   ]
  },
  {
   "cell_type": "code",
   "execution_count": 82,
   "metadata": {},
   "outputs": [],
   "source": [
    "df_cleared = df.drop(columns=dates+remove_cols, axis=1)"
   ]
  },
  {
   "cell_type": "code",
   "execution_count": 112,
   "metadata": {
    "colab": {
     "base_uri": "https://localhost:8080/",
     "height": 1000
    },
    "id": "QgZCpuSBzD_r",
    "outputId": "47252bf3-fcbf-4659-c7ed-9d5b7ba2057c"
   },
   "outputs": [
    {
     "data": {
      "text/plain": [
       "<Axes: title={'center': 'Features Correlation'}>"
      ]
     },
     "execution_count": 112,
     "metadata": {},
     "output_type": "execute_result"
    },
    {
     "data": {
      "image/png": "[encoded data removed]",
      "text/plain": [
       "<Figure size 1600x1600 with 1 Axes>"
      ]
     },
     "metadata": {},
     "output_type": "display_data"
    }
   ],
   "source": [
    "INTERVAL_COLS = [\n",
    "    'Price', \n",
    "    #'VehicleType', \n",
    "    #'RegistrationYear', \n",
    "    #'Gearbox', \n",
    "    'Power', \n",
    "    #'Model',\n",
    "    #'Kilometer', \n",
    "    #'FuelType', \n",
    "    #'Brand', \n",
    "    #'Repaired', \n",
    "    'Price_log', \n",
    "    #'Model_new',\n",
    "    #'FuelTypeIsGas', \n",
    "    'Power_log', \n",
    "    #'IsRepaired', \n",
    "    #'IsUnknownRepairedStatus',\n",
    "    #'IsHighMileage'\n",
    "]\n",
    "\n",
    "matrix = df_cleared.phik_matrix(interval_cols=INTERVAL_COLS).sort_values(by='Price_log', ascending=False)\n",
    "plt.figure(figsize=(16, 16))\n",
    "plt.title('Features Correlation',\n",
    "          fontsize=14)\n",
    "sns.heatmap(matrix.round(2),\n",
    "            annot = True, square=True,\n",
    "            cmap='coolwarm',\n",
    "            cbar=False)"
   ]
  },
  {
   "cell_type": "markdown",
   "metadata": {
    "id": "MgXtCzxmzD_s"
   },
   "source": [
    "## 4 Linear Regression"
   ]
  },
  {
   "cell_type": "code",
   "execution_count": 84,
   "metadata": {
    "id": "jCVpnCW7zD_s"
   },
   "outputs": [],
   "source": [
    "# ======== Select the columns ========\n",
    "COLS_TO_KEEP = [\n",
    "    #'Price', \n",
    "    'VehicleType', \n",
    "    'RegistrationYear', \n",
    "    'Gearbox', \n",
    "    'Power', \n",
    "    'Model',\n",
    "    #'Kilometer',\n",
    "    #'FuelType',\n",
    "    #'Brand',\n",
    "    #'Repaired',\n",
    "    'Price_log',\n",
    "    'Model_new',\n",
    "    'FuelTypeIsGas', \n",
    "    'Power_log', \n",
    "    'IsRepaired', \n",
    "    'IsUnknownRepairedStatus',\n",
    "    'IsHighMileage'\n",
    "]\n",
    "\n",
    "# ======= Filter DataFrame =======\n",
    "df_lr = df[COLS_TO_KEEP]\n",
    "\n",
    "# ======== Define the variables ========\n",
    "TARGET = 'Price_log'\n",
    "\n",
    "FEATURES = df_lr.drop(TARGET, axis=1)\n",
    "\n",
    "NUMERICAL = FEATURES.select_dtypes(exclude='object').columns.to_list()\n",
    "CAT_FEATURES = FEATURES.select_dtypes(include='object').columns.to_list()"
   ]
  },
  {
   "cell_type": "code",
   "execution_count": 85,
   "metadata": {
    "id": "ZwgQaoUWzD_s"
   },
   "outputs": [],
   "source": [
    "# ======== Split the dataset ========\n",
    "X_train = FEATURES\n",
    "y_train = df_lr[TARGET]\n",
    "\n",
    "# ======== Categorical and numerical transformers ========\n",
    "transformer_num = Pipeline(steps=[\n",
    "    ('scaler', MinMaxScaler())\n",
    "])\n",
    "\n",
    "transformer_ord = Pipeline(steps=[\n",
    "    ('encoder', OneHotEncoder(drop='first', handle_unknown='ignore'))\n",
    "])\n",
    "\n",
    "# ======== Preprocessor for categorical + numeric values ========\n",
    "preprocessor = ColumnTransformer(transformers=[\n",
    "    ('numeric', transformer_num, NUMERICAL),\n",
    "    ('encoder', transformer_ord, CAT_FEATURES)\n",
    "])\n",
    "\n",
    "# ======== Pipeline with model ========\n",
    "price_pipe = Pipeline(steps=[\n",
    "    ('preprocessor', preprocessor),\n",
    "    ('regressor', Lasso(alpha=0.001, random_state=RANDOM_STATE))\n",
    "])\n",
    "\n",
    "# ======== Parameters for Randomized Search ========\n",
    "param_grid = [\n",
    "    {\n",
    "        'regressor': [Lasso(alpha=0.001, random_state=RANDOM_STATE)],\n",
    "        'preprocessor__numeric': [StandardScaler(), MinMaxScaler(), 'passthrough']\n",
    "    },\n",
    "    {\n",
    "        'regressor': [Ridge(alpha=0.001, random_state=RANDOM_STATE)],\n",
    "        'preprocessor__numeric': [StandardScaler(), MinMaxScaler(), 'passthrough']\n",
    "    },\n",
    "\n",
    "    {\n",
    "        'regressor': [ElasticNet(alpha=0.001, random_state=RANDOM_STATE)],\n",
    "        'preprocessor__numeric': [StandardScaler(), MinMaxScaler(), 'passthrough']\n",
    "    }\n",
    "]"
   ]
  },
  {
   "cell_type": "code",
   "execution_count": 86,
   "metadata": {
    "colab": {
     "base_uri": "https://localhost:8080/"
    },
    "id": "rLPx6ZOEzD_s",
    "outputId": "93062431-65e9-477a-fcd3-607ec812c9a2"
   },
   "outputs": [
    {
     "name": "stdout",
     "output_type": "stream",
     "text": [
      "CPU times: user 25 µs, sys: 10 µs, total: 35 µs\n",
      "Wall time: 42 µs\n"
     ]
    }
   ],
   "source": [
    "%%time\n",
    "# ======== Search for optimal params  ========\n",
    "search = RandomizedSearchCV(\n",
    "    estimator = price_pipe,\n",
    "    param_distributions = param_grid,\n",
    "    n_iter=6,\n",
    "    scoring=\"neg_root_mean_squared_error\",\n",
    "    n_jobs=-1,\n",
    "    cv=5,\n",
    "    random_state=RANDOM_STATE\n",
    ")"
   ]
  },
  {
   "cell_type": "code",
   "execution_count": 87,
   "metadata": {
    "colab": {
     "base_uri": "https://localhost:8080/",
     "height": 290
    },
    "id": "M-udRiZybT7R",
    "outputId": "87d9e83b-2c41-46da-fa46-bc296dcf4b04"
   },
   "outputs": [
    {
     "name": "stderr",
     "output_type": "stream",
     "text": [
      "/opt/anaconda3/lib/python3.11/site-packages/sklearn/preprocessing/_encoders.py:241: UserWarning: Found unknown categories in columns [2] during transform. These unknown categories will be encoded as all zeros\n",
      "  warnings.warn(\n",
      "/opt/anaconda3/lib/python3.11/site-packages/sklearn/preprocessing/_encoders.py:241: UserWarning: Found unknown categories in columns [2] during transform. These unknown categories will be encoded as all zeros\n",
      "  warnings.warn(\n",
      "/opt/anaconda3/lib/python3.11/site-packages/sklearn/preprocessing/_encoders.py:241: UserWarning: Found unknown categories in columns [2] during transform. These unknown categories will be encoded as all zeros\n",
      "  warnings.warn(\n",
      "/opt/anaconda3/lib/python3.11/site-packages/sklearn/preprocessing/_encoders.py:241: UserWarning: Found unknown categories in columns [2] during transform. These unknown categories will be encoded as all zeros\n",
      "  warnings.warn(\n",
      "/opt/anaconda3/lib/python3.11/site-packages/sklearn/preprocessing/_encoders.py:241: UserWarning: Found unknown categories in columns [2] during transform. These unknown categories will be encoded as all zeros\n",
      "  warnings.warn(\n",
      "/opt/anaconda3/lib/python3.11/site-packages/sklearn/preprocessing/_encoders.py:241: UserWarning: Found unknown categories in columns [2] during transform. These unknown categories will be encoded as all zeros\n",
      "  warnings.warn(\n",
      "/opt/anaconda3/lib/python3.11/site-packages/sklearn/preprocessing/_encoders.py:241: UserWarning: Found unknown categories in columns [2] during transform. These unknown categories will be encoded as all zeros\n",
      "  warnings.warn(\n",
      "/opt/anaconda3/lib/python3.11/site-packages/sklearn/preprocessing/_encoders.py:241: UserWarning: Found unknown categories in columns [2] during transform. These unknown categories will be encoded as all zeros\n",
      "  warnings.warn(\n",
      "/opt/anaconda3/lib/python3.11/site-packages/sklearn/preprocessing/_encoders.py:241: UserWarning: Found unknown categories in columns [2] during transform. These unknown categories will be encoded as all zeros\n",
      "  warnings.warn(\n",
      "/opt/anaconda3/lib/python3.11/site-packages/sklearn/preprocessing/_encoders.py:241: UserWarning: Found unknown categories in columns [2] during transform. These unknown categories will be encoded as all zeros\n",
      "  warnings.warn(\n",
      "/opt/anaconda3/lib/python3.11/site-packages/sklearn/preprocessing/_encoders.py:241: UserWarning: Found unknown categories in columns [2] during transform. These unknown categories will be encoded as all zeros\n",
      "  warnings.warn(\n",
      "/opt/anaconda3/lib/python3.11/site-packages/sklearn/preprocessing/_encoders.py:241: UserWarning: Found unknown categories in columns [2] during transform. These unknown categories will be encoded as all zeros\n",
      "  warnings.warn(\n",
      "/opt/anaconda3/lib/python3.11/site-packages/sklearn/preprocessing/_encoders.py:241: UserWarning: Found unknown categories in columns [2] during transform. These unknown categories will be encoded as all zeros\n",
      "  warnings.warn(\n",
      "/opt/anaconda3/lib/python3.11/site-packages/sklearn/preprocessing/_encoders.py:241: UserWarning: Found unknown categories in columns [2] during transform. These unknown categories will be encoded as all zeros\n",
      "  warnings.warn(\n",
      "/opt/anaconda3/lib/python3.11/site-packages/sklearn/preprocessing/_encoders.py:241: UserWarning: Found unknown categories in columns [2] during transform. These unknown categories will be encoded as all zeros\n",
      "  warnings.warn(\n",
      "/opt/anaconda3/lib/python3.11/site-packages/sklearn/preprocessing/_encoders.py:241: UserWarning: Found unknown categories in columns [2] during transform. These unknown categories will be encoded as all zeros\n",
      "  warnings.warn(\n",
      "/opt/anaconda3/lib/python3.11/site-packages/sklearn/preprocessing/_encoders.py:241: UserWarning: Found unknown categories in columns [2] during transform. These unknown categories will be encoded as all zeros\n",
      "  warnings.warn(\n",
      "/opt/anaconda3/lib/python3.11/site-packages/sklearn/preprocessing/_encoders.py:241: UserWarning: Found unknown categories in columns [2] during transform. These unknown categories will be encoded as all zeros\n",
      "  warnings.warn(\n"
     ]
    },
    {
     "name": "stdout",
     "output_type": "stream",
     "text": [
      "CPU times: user 2.02 s, sys: 335 ms, total: 2.35 s\n",
      "Wall time: 25.4 s\n"
     ]
    },
    {
     "data": {
      "text/html": [
       "<style>#sk-container-id-1 {\n",
       "  /* Definition of color scheme common for light and dark mode */\n",
       "  --sklearn-color-text: black;\n",
       "  --sklearn-color-line: gray;\n",
       "  /* Definition of color scheme for unfitted estimators */\n",
       "  --sklearn-color-unfitted-level-0: #fff5e6;\n",
       "  --sklearn-color-unfitted-level-1: #f6e4d2;\n",
       "  --sklearn-color-unfitted-level-2: #ffe0b3;\n",
       "  --sklearn-color-unfitted-level-3: chocolate;\n",
       "  /* Definition of color scheme for fitted estimators */\n",
       "  --sklearn-color-fitted-level-0: #f0f8ff;\n",
       "  --sklearn-color-fitted-level-1: #d4ebff;\n",
       "  --sklearn-color-fitted-level-2: #b3dbfd;\n",
       "  --sklearn-color-fitted-level-3: cornflowerblue;\n",
       "\n",
       "  /* Specific color for light theme */\n",
       "  --sklearn-color-text-on-default-background: var(--sg-text-color, var(--theme-code-foreground, var(--jp-content-font-color1, black)));\n",
       "  --sklearn-color-background: var(--sg-background-color, var(--theme-background, var(--jp-layout-color0, white)));\n",
       "  --sklearn-color-border-box: var(--sg-text-color, var(--theme-code-foreground, var(--jp-content-font-color1, black)));\n",
       "  --sklearn-color-icon: #696969;\n",
       "\n",
       "  @media (prefers-color-scheme: dark) {\n",
       "    /* Redefinition of color scheme for dark theme */\n",
       "    --sklearn-color-text-on-default-background: var(--sg-text-color, var(--theme-code-foreground, var(--jp-content-font-color1, white)));\n",
       "    --sklearn-color-background: var(--sg-background-color, var(--theme-background, var(--jp-layout-color0, #111)));\n",
       "    --sklearn-color-border-box: var(--sg-text-color, var(--theme-code-foreground, var(--jp-content-font-color1, white)));\n",
       "    --sklearn-color-icon: #878787;\n",
       "  }\n",
       "}\n",
       "\n",
       "#sk-container-id-1 {\n",
       "  color: var(--sklearn-color-text);\n",
       "}\n",
       "\n",
       "#sk-container-id-1 pre {\n",
       "  padding: 0;\n",
       "}\n",
       "\n",
       "#sk-container-id-1 input.sk-hidden--visually {\n",
       "  border: 0;\n",
       "  clip: rect(1px 1px 1px 1px);\n",
       "  clip: rect(1px, 1px, 1px, 1px);\n",
       "  height: 1px;\n",
       "  margin: -1px;\n",
       "  overflow: hidden;\n",
       "  padding: 0;\n",
       "  position: absolute;\n",
       "  width: 1px;\n",
       "}\n",
       "\n",
       "#sk-container-id-1 div.sk-dashed-wrapped {\n",
       "  border: 1px dashed var(--sklearn-color-line);\n",
       "  margin: 0 0.4em 0.5em 0.4em;\n",
       "  box-sizing: border-box;\n",
       "  padding-bottom: 0.4em;\n",
       "  background-color: var(--sklearn-color-background);\n",
       "}\n",
       "\n",
       "#sk-container-id-1 div.sk-container {\n",
       "  /* jupyter's `normalize.less` sets `[hidden] { display: none; }`\n",
       "     but bootstrap.min.css set `[hidden] { display: none !important; }`\n",
       "     so we also need the `!important` here to be able to override the\n",
       "     default hidden behavior on the sphinx rendered scikit-learn.org.\n",
       "     See: https://github.com/scikit-learn/scikit-learn/issues/21755 */\n",
       "  display: inline-block !important;\n",
       "  position: relative;\n",
       "}\n",
       "\n",
       "#sk-container-id-1 div.sk-text-repr-fallback {\n",
       "  display: none;\n",
       "}\n",
       "\n",
       "div.sk-parallel-item,\n",
       "div.sk-serial,\n",
       "div.sk-item {\n",
       "  /* draw centered vertical line to link estimators */\n",
       "  background-image: linear-gradient(var(--sklearn-color-text-on-default-background), var(--sklearn-color-text-on-default-background));\n",
       "  background-size: 2px 100%;\n",
       "  background-repeat: no-repeat;\n",
       "  background-position: center center;\n",
       "}\n",
       "\n",
       "/* Parallel-specific style estimator block */\n",
       "\n",
       "#sk-container-id-1 div.sk-parallel-item::after {\n",
       "  content: \"\";\n",
       "  width: 100%;\n",
       "  border-bottom: 2px solid var(--sklearn-color-text-on-default-background);\n",
       "  flex-grow: 1;\n",
       "}\n",
       "\n",
       "#sk-container-id-1 div.sk-parallel {\n",
       "  display: flex;\n",
       "  align-items: stretch;\n",
       "  justify-content: center;\n",
       "  background-color: var(--sklearn-color-background);\n",
       "  position: relative;\n",
       "}\n",
       "\n",
       "#sk-container-id-1 div.sk-parallel-item {\n",
       "  display: flex;\n",
       "  flex-direction: column;\n",
       "}\n",
       "\n",
       "#sk-container-id-1 div.sk-parallel-item:first-child::after {\n",
       "  align-self: flex-end;\n",
       "  width: 50%;\n",
       "}\n",
       "\n",
       "#sk-container-id-1 div.sk-parallel-item:last-child::after {\n",
       "  align-self: flex-start;\n",
       "  width: 50%;\n",
       "}\n",
       "\n",
       "#sk-container-id-1 div.sk-parallel-item:only-child::after {\n",
       "  width: 0;\n",
       "}\n",
       "\n",
       "/* Serial-specific style estimator block */\n",
       "\n",
       "#sk-container-id-1 div.sk-serial {\n",
       "  display: flex;\n",
       "  flex-direction: column;\n",
       "  align-items: center;\n",
       "  background-color: var(--sklearn-color-background);\n",
       "  padding-right: 1em;\n",
       "  padding-left: 1em;\n",
       "}\n",
       "\n",
       "\n",
       "/* Toggleable style: style used for estimator/Pipeline/ColumnTransformer box that is\n",
       "clickable and can be expanded/collapsed.\n",
       "- Pipeline and ColumnTransformer use this feature and define the default style\n",
       "- Estimators will overwrite some part of the style using the `sk-estimator` class\n",
       "*/\n",
       "\n",
       "/* Pipeline and ColumnTransformer style (default) */\n",
       "\n",
       "#sk-container-id-1 div.sk-toggleable {\n",
       "  /* Default theme specific background. It is overwritten whether we have a\n",
       "  specific estimator or a Pipeline/ColumnTransformer */\n",
       "  background-color: var(--sklearn-color-background);\n",
       "}\n",
       "\n",
       "/* Toggleable label */\n",
       "#sk-container-id-1 label.sk-toggleable__label {\n",
       "  cursor: pointer;\n",
       "  display: block;\n",
       "  width: 100%;\n",
       "  margin-bottom: 0;\n",
       "  padding: 0.5em;\n",
       "  box-sizing: border-box;\n",
       "  text-align: center;\n",
       "}\n",
       "\n",
       "#sk-container-id-1 label.sk-toggleable__label-arrow:before {\n",
       "  /* Arrow on the left of the label */\n",
       "  content: \"▸\";\n",
       "  float: left;\n",
       "  margin-right: 0.25em;\n",
       "  color: var(--sklearn-color-icon);\n",
       "}\n",
       "\n",
       "#sk-container-id-1 label.sk-toggleable__label-arrow:hover:before {\n",
       "  color: var(--sklearn-color-text);\n",
       "}\n",
       "\n",
       "/* Toggleable content - dropdown */\n",
       "\n",
       "#sk-container-id-1 div.sk-toggleable__content {\n",
       "  max-height: 0;\n",
       "  max-width: 0;\n",
       "  overflow: hidden;\n",
       "  text-align: left;\n",
       "  /* unfitted */\n",
       "  background-color: var(--sklearn-color-unfitted-level-0);\n",
       "}\n",
       "\n",
       "#sk-container-id-1 div.sk-toggleable__content.fitted {\n",
       "  /* fitted */\n",
       "  background-color: var(--sklearn-color-fitted-level-0);\n",
       "}\n",
       "\n",
       "#sk-container-id-1 div.sk-toggleable__content pre {\n",
       "  margin: 0.2em;\n",
       "  border-radius: 0.25em;\n",
       "  color: var(--sklearn-color-text);\n",
       "  /* unfitted */\n",
       "  background-color: var(--sklearn-color-unfitted-level-0);\n",
       "}\n",
       "\n",
       "#sk-container-id-1 div.sk-toggleable__content.fitted pre {\n",
       "  /* unfitted */\n",
       "  background-color: var(--sklearn-color-fitted-level-0);\n",
       "}\n",
       "\n",
       "#sk-container-id-1 input.sk-toggleable__control:checked~div.sk-toggleable__content {\n",
       "  /* Expand drop-down */\n",
       "  max-height: 200px;\n",
       "  max-width: 100%;\n",
       "  overflow: auto;\n",
       "}\n",
       "\n",
       "#sk-container-id-1 input.sk-toggleable__control:checked~label.sk-toggleable__label-arrow:before {\n",
       "  content: \"▾\";\n",
       "}\n",
       "\n",
       "/* Pipeline/ColumnTransformer-specific style */\n",
       "\n",
       "#sk-container-id-1 div.sk-label input.sk-toggleable__control:checked~label.sk-toggleable__label {\n",
       "  color: var(--sklearn-color-text);\n",
       "  background-color: var(--sklearn-color-unfitted-level-2);\n",
       "}\n",
       "\n",
       "#sk-container-id-1 div.sk-label.fitted input.sk-toggleable__control:checked~label.sk-toggleable__label {\n",
       "  background-color: var(--sklearn-color-fitted-level-2);\n",
       "}\n",
       "\n",
       "/* Estimator-specific style */\n",
       "\n",
       "/* Colorize estimator box */\n",
       "#sk-container-id-1 div.sk-estimator input.sk-toggleable__control:checked~label.sk-toggleable__label {\n",
       "  /* unfitted */\n",
       "  background-color: var(--sklearn-color-unfitted-level-2);\n",
       "}\n",
       "\n",
       "#sk-container-id-1 div.sk-estimator.fitted input.sk-toggleable__control:checked~label.sk-toggleable__label {\n",
       "  /* fitted */\n",
       "  background-color: var(--sklearn-color-fitted-level-2);\n",
       "}\n",
       "\n",
       "#sk-container-id-1 div.sk-label label.sk-toggleable__label,\n",
       "#sk-container-id-1 div.sk-label label {\n",
       "  /* The background is the default theme color */\n",
       "  color: var(--sklearn-color-text-on-default-background);\n",
       "}\n",
       "\n",
       "/* On hover, darken the color of the background */\n",
       "#sk-container-id-1 div.sk-label:hover label.sk-toggleable__label {\n",
       "  color: var(--sklearn-color-text);\n",
       "  background-color: var(--sklearn-color-unfitted-level-2);\n",
       "}\n",
       "\n",
       "/* Label box, darken color on hover, fitted */\n",
       "#sk-container-id-1 div.sk-label.fitted:hover label.sk-toggleable__label.fitted {\n",
       "  color: var(--sklearn-color-text);\n",
       "  background-color: var(--sklearn-color-fitted-level-2);\n",
       "}\n",
       "\n",
       "/* Estimator label */\n",
       "\n",
       "#sk-container-id-1 div.sk-label label {\n",
       "  font-family: monospace;\n",
       "  font-weight: bold;\n",
       "  display: inline-block;\n",
       "  line-height: 1.2em;\n",
       "}\n",
       "\n",
       "#sk-container-id-1 div.sk-label-container {\n",
       "  text-align: center;\n",
       "}\n",
       "\n",
       "/* Estimator-specific */\n",
       "#sk-container-id-1 div.sk-estimator {\n",
       "  font-family: monospace;\n",
       "  border: 1px dotted var(--sklearn-color-border-box);\n",
       "  border-radius: 0.25em;\n",
       "  box-sizing: border-box;\n",
       "  margin-bottom: 0.5em;\n",
       "  /* unfitted */\n",
       "  background-color: var(--sklearn-color-unfitted-level-0);\n",
       "}\n",
       "\n",
       "#sk-container-id-1 div.sk-estimator.fitted {\n",
       "  /* fitted */\n",
       "  background-color: var(--sklearn-color-fitted-level-0);\n",
       "}\n",
       "\n",
       "/* on hover */\n",
       "#sk-container-id-1 div.sk-estimator:hover {\n",
       "  /* unfitted */\n",
       "  background-color: var(--sklearn-color-unfitted-level-2);\n",
       "}\n",
       "\n",
       "#sk-container-id-1 div.sk-estimator.fitted:hover {\n",
       "  /* fitted */\n",
       "  background-color: var(--sklearn-color-fitted-level-2);\n",
       "}\n",
       "\n",
       "/* Specification for estimator info (e.g. \"i\" and \"?\") */\n",
       "\n",
       "/* Common style for \"i\" and \"?\" */\n",
       "\n",
       ".sk-estimator-doc-link,\n",
       "a:link.sk-estimator-doc-link,\n",
       "a:visited.sk-estimator-doc-link {\n",
       "  float: right;\n",
       "  font-size: smaller;\n",
       "  line-height: 1em;\n",
       "  font-family: monospace;\n",
       "  background-color: var(--sklearn-color-background);\n",
       "  border-radius: 1em;\n",
       "  height: 1em;\n",
       "  width: 1em;\n",
       "  text-decoration: none !important;\n",
       "  margin-left: 1ex;\n",
       "  /* unfitted */\n",
       "  border: var(--sklearn-color-unfitted-level-1) 1pt solid;\n",
       "  color: var(--sklearn-color-unfitted-level-1);\n",
       "}\n",
       "\n",
       ".sk-estimator-doc-link.fitted,\n",
       "a:link.sk-estimator-doc-link.fitted,\n",
       "a:visited.sk-estimator-doc-link.fitted {\n",
       "  /* fitted */\n",
       "  border: var(--sklearn-color-fitted-level-1) 1pt solid;\n",
       "  color: var(--sklearn-color-fitted-level-1);\n",
       "}\n",
       "\n",
       "/* On hover */\n",
       "div.sk-estimator:hover .sk-estimator-doc-link:hover,\n",
       ".sk-estimator-doc-link:hover,\n",
       "div.sk-label-container:hover .sk-estimator-doc-link:hover,\n",
       ".sk-estimator-doc-link:hover {\n",
       "  /* unfitted */\n",
       "  background-color: var(--sklearn-color-unfitted-level-3);\n",
       "  color: var(--sklearn-color-background);\n",
       "  text-decoration: none;\n",
       "}\n",
       "\n",
       "div.sk-estimator.fitted:hover .sk-estimator-doc-link.fitted:hover,\n",
       ".sk-estimator-doc-link.fitted:hover,\n",
       "div.sk-label-container:hover .sk-estimator-doc-link.fitted:hover,\n",
       ".sk-estimator-doc-link.fitted:hover {\n",
       "  /* fitted */\n",
       "  background-color: var(--sklearn-color-fitted-level-3);\n",
       "  color: var(--sklearn-color-background);\n",
       "  text-decoration: none;\n",
       "}\n",
       "\n",
       "/* Span, style for the box shown on hovering the info icon */\n",
       ".sk-estimator-doc-link span {\n",
       "  display: none;\n",
       "  z-index: 9999;\n",
       "  position: relative;\n",
       "  font-weight: normal;\n",
       "  right: .2ex;\n",
       "  padding: .5ex;\n",
       "  margin: .5ex;\n",
       "  width: min-content;\n",
       "  min-width: 20ex;\n",
       "  max-width: 50ex;\n",
       "  color: var(--sklearn-color-text);\n",
       "  box-shadow: 2pt 2pt 4pt #999;\n",
       "  /* unfitted */\n",
       "  background: var(--sklearn-color-unfitted-level-0);\n",
       "  border: .5pt solid var(--sklearn-color-unfitted-level-3);\n",
       "}\n",
       "\n",
       ".sk-estimator-doc-link.fitted span {\n",
       "  /* fitted */\n",
       "  background: var(--sklearn-color-fitted-level-0);\n",
       "  border: var(--sklearn-color-fitted-level-3);\n",
       "}\n",
       "\n",
       ".sk-estimator-doc-link:hover span {\n",
       "  display: block;\n",
       "}\n",
       "\n",
       "/* \"?\"-specific style due to the `<a>` HTML tag */\n",
       "\n",
       "#sk-container-id-1 a.estimator_doc_link {\n",
       "  float: right;\n",
       "  font-size: 1rem;\n",
       "  line-height: 1em;\n",
       "  font-family: monospace;\n",
       "  background-color: var(--sklearn-color-background);\n",
       "  border-radius: 1rem;\n",
       "  height: 1rem;\n",
       "  width: 1rem;\n",
       "  text-decoration: none;\n",
       "  /* unfitted */\n",
       "  color: var(--sklearn-color-unfitted-level-1);\n",
       "  border: var(--sklearn-color-unfitted-level-1) 1pt solid;\n",
       "}\n",
       "\n",
       "#sk-container-id-1 a.estimator_doc_link.fitted {\n",
       "  /* fitted */\n",
       "  border: var(--sklearn-color-fitted-level-1) 1pt solid;\n",
       "  color: var(--sklearn-color-fitted-level-1);\n",
       "}\n",
       "\n",
       "/* On hover */\n",
       "#sk-container-id-1 a.estimator_doc_link:hover {\n",
       "  /* unfitted */\n",
       "  background-color: var(--sklearn-color-unfitted-level-3);\n",
       "  color: var(--sklearn-color-background);\n",
       "  text-decoration: none;\n",
       "}\n",
       "\n",
       "#sk-container-id-1 a.estimator_doc_link.fitted:hover {\n",
       "  /* fitted */\n",
       "  background-color: var(--sklearn-color-fitted-level-3);\n",
       "}\n",
       "</style><div id=\"sk-container-id-1\" class=\"sk-top-container\"><div class=\"sk-text-repr-fallback\"><pre>RandomizedSearchCV(cv=5,\n",
       "                   estimator=Pipeline(steps=[(&#x27;preprocessor&#x27;,\n",
       "                                              ColumnTransformer(transformers=[(&#x27;numeric&#x27;,\n",
       "                                                                               Pipeline(steps=[(&#x27;scaler&#x27;,\n",
       "                                                                                                MinMaxScaler())]),\n",
       "                                                                               [&#x27;RegistrationYear&#x27;,\n",
       "                                                                                &#x27;Power&#x27;,\n",
       "                                                                                &#x27;FuelTypeIsGas&#x27;,\n",
       "                                                                                &#x27;Power_log&#x27;,\n",
       "                                                                                &#x27;IsRepaired&#x27;,\n",
       "                                                                                &#x27;IsUnknownRepairedStatus&#x27;,\n",
       "                                                                                &#x27;IsHighMileage&#x27;]),\n",
       "                                                                              (&#x27;encoder&#x27;,\n",
       "                                                                               Pipeline(steps=[(&#x27;encoder&#x27;,\n",
       "                                                                                                OneHotEncoder(drop=&#x27;first&#x27;,\n",
       "                                                                                                              handle_unknown=&#x27;ign...\n",
       "                                         &#x27;regressor&#x27;: [Lasso(alpha=0.001,\n",
       "                                                             random_state=42)]},\n",
       "                                        {&#x27;preprocessor__numeric&#x27;: [StandardScaler(),\n",
       "                                                                   MinMaxScaler(),\n",
       "                                                                   &#x27;passthrough&#x27;],\n",
       "                                         &#x27;regressor&#x27;: [Ridge(alpha=0.001,\n",
       "                                                             random_state=42)]},\n",
       "                                        {&#x27;preprocessor__numeric&#x27;: [StandardScaler(),\n",
       "                                                                   MinMaxScaler(),\n",
       "                                                                   &#x27;passthrough&#x27;],\n",
       "                                         &#x27;regressor&#x27;: [ElasticNet(alpha=0.001,\n",
       "                                                                  random_state=42)]}],\n",
       "                   random_state=42, scoring=&#x27;neg_root_mean_squared_error&#x27;)</pre><b>In a Jupyter environment, please rerun this cell to show the HTML representation or trust the notebook. <br />On GitHub, the HTML representation is unable to render, please try loading this page with nbviewer.org.</b></div><div class=\"sk-container\" hidden><div class=\"sk-item sk-dashed-wrapped\"><div class=\"sk-label-container\"><div class=\"sk-label fitted sk-toggleable\"><input class=\"sk-toggleable__control sk-hidden--visually\" id=\"sk-estimator-id-1\" type=\"checkbox\" ><label for=\"sk-estimator-id-1\" class=\"sk-toggleable__label fitted sk-toggleable__label-arrow fitted\">&nbsp;&nbsp;RandomizedSearchCV<a class=\"sk-estimator-doc-link fitted\" rel=\"noreferrer\" target=\"_blank\" href=\"https://scikit-learn.org/1.4/modules/generated/sklearn.model_selection.RandomizedSearchCV.html\">?<span>Documentation for RandomizedSearchCV</span></a><span class=\"sk-estimator-doc-link fitted\">i<span>Fitted</span></span></label><div class=\"sk-toggleable__content fitted\"><pre>RandomizedSearchCV(cv=5,\n",
       "                   estimator=Pipeline(steps=[(&#x27;preprocessor&#x27;,\n",
       "                                              ColumnTransformer(transformers=[(&#x27;numeric&#x27;,\n",
       "                                                                               Pipeline(steps=[(&#x27;scaler&#x27;,\n",
       "                                                                                                MinMaxScaler())]),\n",
       "                                                                               [&#x27;RegistrationYear&#x27;,\n",
       "                                                                                &#x27;Power&#x27;,\n",
       "                                                                                &#x27;FuelTypeIsGas&#x27;,\n",
       "                                                                                &#x27;Power_log&#x27;,\n",
       "                                                                                &#x27;IsRepaired&#x27;,\n",
       "                                                                                &#x27;IsUnknownRepairedStatus&#x27;,\n",
       "                                                                                &#x27;IsHighMileage&#x27;]),\n",
       "                                                                              (&#x27;encoder&#x27;,\n",
       "                                                                               Pipeline(steps=[(&#x27;encoder&#x27;,\n",
       "                                                                                                OneHotEncoder(drop=&#x27;first&#x27;,\n",
       "                                                                                                              handle_unknown=&#x27;ign...\n",
       "                                         &#x27;regressor&#x27;: [Lasso(alpha=0.001,\n",
       "                                                             random_state=42)]},\n",
       "                                        {&#x27;preprocessor__numeric&#x27;: [StandardScaler(),\n",
       "                                                                   MinMaxScaler(),\n",
       "                                                                   &#x27;passthrough&#x27;],\n",
       "                                         &#x27;regressor&#x27;: [Ridge(alpha=0.001,\n",
       "                                                             random_state=42)]},\n",
       "                                        {&#x27;preprocessor__numeric&#x27;: [StandardScaler(),\n",
       "                                                                   MinMaxScaler(),\n",
       "                                                                   &#x27;passthrough&#x27;],\n",
       "                                         &#x27;regressor&#x27;: [ElasticNet(alpha=0.001,\n",
       "                                                                  random_state=42)]}],\n",
       "                   random_state=42, scoring=&#x27;neg_root_mean_squared_error&#x27;)</pre></div> </div></div><div class=\"sk-parallel\"><div class=\"sk-parallel-item\"><div class=\"sk-item\"><div class=\"sk-label-container\"><div class=\"sk-label fitted sk-toggleable\"><input class=\"sk-toggleable__control sk-hidden--visually\" id=\"sk-estimator-id-2\" type=\"checkbox\" ><label for=\"sk-estimator-id-2\" class=\"sk-toggleable__label fitted sk-toggleable__label-arrow fitted\">estimator: Pipeline</label><div class=\"sk-toggleable__content fitted\"><pre>Pipeline(steps=[(&#x27;preprocessor&#x27;,\n",
       "                 ColumnTransformer(transformers=[(&#x27;numeric&#x27;,\n",
       "                                                  Pipeline(steps=[(&#x27;scaler&#x27;,\n",
       "                                                                   MinMaxScaler())]),\n",
       "                                                  [&#x27;RegistrationYear&#x27;, &#x27;Power&#x27;,\n",
       "                                                   &#x27;FuelTypeIsGas&#x27;, &#x27;Power_log&#x27;,\n",
       "                                                   &#x27;IsRepaired&#x27;,\n",
       "                                                   &#x27;IsUnknownRepairedStatus&#x27;,\n",
       "                                                   &#x27;IsHighMileage&#x27;]),\n",
       "                                                 (&#x27;encoder&#x27;,\n",
       "                                                  Pipeline(steps=[(&#x27;encoder&#x27;,\n",
       "                                                                   OneHotEncoder(drop=&#x27;first&#x27;,\n",
       "                                                                                 handle_unknown=&#x27;ignore&#x27;))]),\n",
       "                                                  [&#x27;VehicleType&#x27;, &#x27;Gearbox&#x27;,\n",
       "                                                   &#x27;Model&#x27;, &#x27;Model_new&#x27;])])),\n",
       "                (&#x27;regressor&#x27;, Lasso(alpha=0.001, random_state=42))])</pre></div> </div></div><div class=\"sk-serial\"><div class=\"sk-item\"><div class=\"sk-serial\"><div class=\"sk-item sk-dashed-wrapped\"><div class=\"sk-label-container\"><div class=\"sk-label fitted sk-toggleable\"><input class=\"sk-toggleable__control sk-hidden--visually\" id=\"sk-estimator-id-3\" type=\"checkbox\" ><label for=\"sk-estimator-id-3\" class=\"sk-toggleable__label fitted sk-toggleable__label-arrow fitted\">&nbsp;preprocessor: ColumnTransformer<a class=\"sk-estimator-doc-link fitted\" rel=\"noreferrer\" target=\"_blank\" href=\"https://scikit-learn.org/1.4/modules/generated/sklearn.compose.ColumnTransformer.html\">?<span>Documentation for preprocessor: ColumnTransformer</span></a></label><div class=\"sk-toggleable__content fitted\"><pre>ColumnTransformer(transformers=[(&#x27;numeric&#x27;,\n",
       "                                 Pipeline(steps=[(&#x27;scaler&#x27;, MinMaxScaler())]),\n",
       "                                 [&#x27;RegistrationYear&#x27;, &#x27;Power&#x27;, &#x27;FuelTypeIsGas&#x27;,\n",
       "                                  &#x27;Power_log&#x27;, &#x27;IsRepaired&#x27;,\n",
       "                                  &#x27;IsUnknownRepairedStatus&#x27;, &#x27;IsHighMileage&#x27;]),\n",
       "                                (&#x27;encoder&#x27;,\n",
       "                                 Pipeline(steps=[(&#x27;encoder&#x27;,\n",
       "                                                  OneHotEncoder(drop=&#x27;first&#x27;,\n",
       "                                                                handle_unknown=&#x27;ignore&#x27;))]),\n",
       "                                 [&#x27;VehicleType&#x27;, &#x27;Gearbox&#x27;, &#x27;Model&#x27;,\n",
       "                                  &#x27;Model_new&#x27;])])</pre></div> </div></div><div class=\"sk-parallel\"><div class=\"sk-parallel-item\"><div class=\"sk-item\"><div class=\"sk-label-container\"><div class=\"sk-label fitted sk-toggleable\"><input class=\"sk-toggleable__control sk-hidden--visually\" id=\"sk-estimator-id-4\" type=\"checkbox\" ><label for=\"sk-estimator-id-4\" class=\"sk-toggleable__label fitted sk-toggleable__label-arrow fitted\">numeric</label><div class=\"sk-toggleable__content fitted\"><pre>[&#x27;RegistrationYear&#x27;, &#x27;Power&#x27;, &#x27;FuelTypeIsGas&#x27;, &#x27;Power_log&#x27;, &#x27;IsRepaired&#x27;, &#x27;IsUnknownRepairedStatus&#x27;, &#x27;IsHighMileage&#x27;]</pre></div> </div></div><div class=\"sk-serial\"><div class=\"sk-item\"><div class=\"sk-serial\"><div class=\"sk-item\"><div class=\"sk-estimator fitted sk-toggleable\"><input class=\"sk-toggleable__control sk-hidden--visually\" id=\"sk-estimator-id-5\" type=\"checkbox\" ><label for=\"sk-estimator-id-5\" class=\"sk-toggleable__label fitted sk-toggleable__label-arrow fitted\">&nbsp;MinMaxScaler<a class=\"sk-estimator-doc-link fitted\" rel=\"noreferrer\" target=\"_blank\" href=\"https://scikit-learn.org/1.4/modules/generated/sklearn.preprocessing.MinMaxScaler.html\">?<span>Documentation for MinMaxScaler</span></a></label><div class=\"sk-toggleable__content fitted\"><pre>MinMaxScaler()</pre></div> </div></div></div></div></div></div></div><div class=\"sk-parallel-item\"><div class=\"sk-item\"><div class=\"sk-label-container\"><div class=\"sk-label fitted sk-toggleable\"><input class=\"sk-toggleable__control sk-hidden--visually\" id=\"sk-estimator-id-6\" type=\"checkbox\" ><label for=\"sk-estimator-id-6\" class=\"sk-toggleable__label fitted sk-toggleable__label-arrow fitted\">encoder</label><div class=\"sk-toggleable__content fitted\"><pre>[&#x27;VehicleType&#x27;, &#x27;Gearbox&#x27;, &#x27;Model&#x27;, &#x27;Model_new&#x27;]</pre></div> </div></div><div class=\"sk-serial\"><div class=\"sk-item\"><div class=\"sk-serial\"><div class=\"sk-item\"><div class=\"sk-estimator fitted sk-toggleable\"><input class=\"sk-toggleable__control sk-hidden--visually\" id=\"sk-estimator-id-7\" type=\"checkbox\" ><label for=\"sk-estimator-id-7\" class=\"sk-toggleable__label fitted sk-toggleable__label-arrow fitted\">&nbsp;OneHotEncoder<a class=\"sk-estimator-doc-link fitted\" rel=\"noreferrer\" target=\"_blank\" href=\"https://scikit-learn.org/1.4/modules/generated/sklearn.preprocessing.OneHotEncoder.html\">?<span>Documentation for OneHotEncoder</span></a></label><div class=\"sk-toggleable__content fitted\"><pre>OneHotEncoder(drop=&#x27;first&#x27;, handle_unknown=&#x27;ignore&#x27;)</pre></div> </div></div></div></div></div></div></div></div></div><div class=\"sk-item\"><div class=\"sk-estimator fitted sk-toggleable\"><input class=\"sk-toggleable__control sk-hidden--visually\" id=\"sk-estimator-id-8\" type=\"checkbox\" ><label for=\"sk-estimator-id-8\" class=\"sk-toggleable__label fitted sk-toggleable__label-arrow fitted\">&nbsp;Lasso<a class=\"sk-estimator-doc-link fitted\" rel=\"noreferrer\" target=\"_blank\" href=\"https://scikit-learn.org/1.4/modules/generated/sklearn.linear_model.Lasso.html\">?<span>Documentation for Lasso</span></a></label><div class=\"sk-toggleable__content fitted\"><pre>Lasso(alpha=0.001, random_state=42)</pre></div> </div></div></div></div></div></div></div></div></div></div></div>"
      ],
      "text/plain": [
       "RandomizedSearchCV(cv=5,\n",
       "                   estimator=Pipeline(steps=[('preprocessor',\n",
       "                                              ColumnTransformer(transformers=[('numeric',\n",
       "                                                                               Pipeline(steps=[('scaler',\n",
       "                                                                                                MinMaxScaler())]),\n",
       "                                                                               ['RegistrationYear',\n",
       "                                                                                'Power',\n",
       "                                                                                'FuelTypeIsGas',\n",
       "                                                                                'Power_log',\n",
       "                                                                                'IsRepaired',\n",
       "                                                                                'IsUnknownRepairedStatus',\n",
       "                                                                                'IsHighMileage']),\n",
       "                                                                              ('encoder',\n",
       "                                                                               Pipeline(steps=[('encoder',\n",
       "                                                                                                OneHotEncoder(drop='first',\n",
       "                                                                                                              handle_unknown='ign...\n",
       "                                         'regressor': [Lasso(alpha=0.001,\n",
       "                                                             random_state=42)]},\n",
       "                                        {'preprocessor__numeric': [StandardScaler(),\n",
       "                                                                   MinMaxScaler(),\n",
       "                                                                   'passthrough'],\n",
       "                                         'regressor': [Ridge(alpha=0.001,\n",
       "                                                             random_state=42)]},\n",
       "                                        {'preprocessor__numeric': [StandardScaler(),\n",
       "                                                                   MinMaxScaler(),\n",
       "                                                                   'passthrough'],\n",
       "                                         'regressor': [ElasticNet(alpha=0.001,\n",
       "                                                                  random_state=42)]}],\n",
       "                   random_state=42, scoring='neg_root_mean_squared_error')"
      ]
     },
     "execution_count": 87,
     "metadata": {},
     "output_type": "execute_result"
    }
   ],
   "source": [
    "%%time\n",
    "# ======== Fit the search to the training data ========\n",
    "search.fit(X_train, y_train)"
   ]
  },
  {
   "cell_type": "code",
   "execution_count": 88,
   "metadata": {
    "colab": {
     "base_uri": "https://localhost:8080/"
    },
    "id": "csIU-lkfzD_s",
    "outputId": "1224ac22-0a4f-491b-d7eb-3e635fbd20e6"
   },
   "outputs": [
    {
     "name": "stdout",
     "output_type": "stream",
     "text": [
      "Best parameters: {'regressor': Ridge(alpha=0.001, random_state=42), 'preprocessor__numeric': 'passthrough'}\n",
      "Best RMSE (log-transformed): 0.2025755434690495\n"
     ]
    }
   ],
   "source": [
    "# ======== Output the best parameters and the corresponding RMSE ========\n",
    "print(\"Best parameters:\", search.best_params_)\n",
    "print(\"Best RMSE (log-transformed):\", -search.best_score_)"
   ]
  },
  {
   "cell_type": "code",
   "execution_count": 89,
   "metadata": {},
   "outputs": [
    {
     "name": "stdout",
     "output_type": "stream",
     "text": [
      "Best RMSE (original): 2774.5467141713893\n"
     ]
    }
   ],
   "source": [
    "# ======== Calculate RMSE on original scale ========\n",
    "y_pred_log = search.predict(X_train)\n",
    "\n",
    "y_pred_original = 10 ** y_pred_log - 1\n",
    "y_train_original = 10 ** y_train - 1\n",
    "\n",
    "rmse_original = root_mean_squared_error(y_true=y_train_original, y_pred=y_pred_original)\n",
    "print(\"Best RMSE (original):\", rmse_original)"
   ]
  },
  {
   "cell_type": "code",
   "execution_count": 90,
   "metadata": {},
   "outputs": [
    {
     "data": {
      "text/html": [
       "<div>\n",
       "<style scoped>\n",
       "    .dataframe tbody tr th:only-of-type {\n",
       "        vertical-align: middle;\n",
       "    }\n",
       "\n",
       "    .dataframe tbody tr th {\n",
       "        vertical-align: top;\n",
       "    }\n",
       "\n",
       "    .dataframe thead th {\n",
       "        text-align: right;\n",
       "    }\n",
       "</style>\n",
       "<table border=\"1\" class=\"dataframe\">\n",
       "  <thead>\n",
       "    <tr style=\"text-align: right;\">\n",
       "      <th></th>\n",
       "      <th>mean_fit_time</th>\n",
       "      <th>mean_score_time</th>\n",
       "      <th>mean_test_score</th>\n",
       "    </tr>\n",
       "  </thead>\n",
       "  <tbody>\n",
       "    <tr>\n",
       "      <th>2</th>\n",
       "      <td>0.849079</td>\n",
       "      <td>0.166556</td>\n",
       "      <td>2774.546714</td>\n",
       "    </tr>\n",
       "  </tbody>\n",
       "</table>\n",
       "</div>"
      ],
      "text/plain": [
       "   mean_fit_time  mean_score_time  mean_test_score\n",
       "2       0.849079         0.166556      2774.546714"
      ]
     },
     "execution_count": 90,
     "metadata": {},
     "output_type": "execute_result"
    }
   ],
   "source": [
    "# Output the params \n",
    "res = pd.DataFrame(search.cv_results_).sort_values(by='mean_test_score', ascending=False).head(1)\n",
    "res_linear = res[['mean_fit_time', 'mean_score_time', 'mean_test_score']].copy()\n",
    "res_linear['mean_test_score'] = rmse_original\n",
    "res_linear"
   ]
  },
  {
   "cell_type": "markdown",
   "metadata": {
    "id": "OZSdxy7zzD_t"
   },
   "source": [
    "- Even though the Linear Regression is rather a fast model, on average, the model’s predictions are about 2774 euros off from the actual car prices.\n",
    "\n",
    "- And its approximately 300 euros higher than the required metric's value (of 2500)."
   ]
  },
  {
   "cell_type": "markdown",
   "metadata": {
    "id": "JbtdffmozD_t"
   },
   "source": [
    "## 5 Tree"
   ]
  },
  {
   "cell_type": "code",
   "execution_count": 91,
   "metadata": {
    "id": "dsvlLhazzD_t"
   },
   "outputs": [],
   "source": [
    "# ======== Select the columns ========\n",
    "COLS_TO_KEEP = [\n",
    "    'Price', \n",
    "    'VehicleType', \n",
    "    'RegistrationYear', \n",
    "    'Gearbox', \n",
    "    'Power', \n",
    "    'Model',\n",
    "    'Kilometer',\n",
    "    'FuelType',\n",
    "    'Brand',\n",
    "    'Repaired',\n",
    "    #'Price_log',\n",
    "    #'Model_new',\n",
    "    #'FuelTypeIsGas', \n",
    "    #'Power_log', \n",
    "    #'IsRepaired', \n",
    "    #'IsUnknownRepairedStatus',\n",
    "    #'IsHighMileage'\n",
    "]\n",
    "\n",
    "# ======= Filter DataFrame =======\n",
    "df_tree = df[COLS_TO_KEEP]\n",
    "\n",
    "# ======== Define the variables ========\n",
    "TARGET = 'Price'\n",
    "\n",
    "FEATURES = df_tree.drop(TARGET, axis=1)\n",
    "\n",
    "NUMERICAL = FEATURES.select_dtypes(exclude='object').columns.to_list()\n",
    "CAT_FEATURES = FEATURES.select_dtypes(include='object').columns.to_list()"
   ]
  },
  {
   "cell_type": "code",
   "execution_count": 92,
   "metadata": {
    "id": "ShZfNsOazD_t"
   },
   "outputs": [],
   "source": [
    "# ======== Split the dataset ========\n",
    "X_train = FEATURES\n",
    "y_train = df_tree[TARGET]\n",
    "\n",
    "# ======== Categorical transformer ========\n",
    "preprocessor = ColumnTransformer(\n",
    "    transformers=[\n",
    "        ('cat', OrdinalEncoder(handle_unknown='use_encoded_value', unknown_value=np.nan), CAT_FEATURES)\n",
    "    ],\n",
    "    remainder='passthrough'\n",
    ")\n",
    "\n",
    "# ======== Pipeline with preprocessing and model ========\n",
    "price_pipe = Pipeline(steps=[\n",
    "    ('preprocessor', preprocessor),\n",
    "    ('estimator', DecisionTreeRegressor(random_state=RANDOM_STATE))\n",
    "])\n",
    "\n",
    "# ======== Params for Search ========\n",
    "param_grid = [\n",
    "    {\n",
    "        'estimator': [DecisionTreeRegressor(random_state=RANDOM_STATE)],\n",
    "        'estimator__max_depth': range(3, 15),\n",
    "        'estimator__min_samples_split': range(2, 10),\n",
    "        'estimator__min_samples_leaf': range(1, 10)\n",
    "    }\n",
    "]"
   ]
  },
  {
   "cell_type": "code",
   "execution_count": 93,
   "metadata": {
    "colab": {
     "base_uri": "https://localhost:8080/",
     "height": 453
    },
    "id": "I6fWYPNwzD_t",
    "outputId": "83c0b336-7b26-41c6-9ae2-6c8884b78389"
   },
   "outputs": [
    {
     "name": "stdout",
     "output_type": "stream",
     "text": [
      "CPU times: user 24 µs, sys: 1e+03 ns, total: 25 µs\n",
      "Wall time: 31 µs\n"
     ]
    }
   ],
   "source": [
    "%%time\n",
    "# ======== Search for optimal params  ========\n",
    "search_tree = RandomizedSearchCV(\n",
    "    estimator = price_pipe,\n",
    "    param_distributions = param_grid,\n",
    "    n_iter=10,\n",
    "    scoring=\"neg_root_mean_squared_error\",\n",
    "    n_jobs=-1,\n",
    "    cv=5,\n",
    "    random_state=RANDOM_STATE\n",
    ")"
   ]
  },
  {
   "cell_type": "code",
   "execution_count": 94,
   "metadata": {},
   "outputs": [
    {
     "name": "stdout",
     "output_type": "stream",
     "text": [
      "CPU times: user 4.29 s, sys: 214 ms, total: 4.5 s\n",
      "Wall time: 11.6 s\n"
     ]
    },
    {
     "data": {
      "text/html": [
       "<style>#sk-container-id-2 {\n",
       "  /* Definition of color scheme common for light and dark mode */\n",
       "  --sklearn-color-text: black;\n",
       "  --sklearn-color-line: gray;\n",
       "  /* Definition of color scheme for unfitted estimators */\n",
       "  --sklearn-color-unfitted-level-0: #fff5e6;\n",
       "  --sklearn-color-unfitted-level-1: #f6e4d2;\n",
       "  --sklearn-color-unfitted-level-2: #ffe0b3;\n",
       "  --sklearn-color-unfitted-level-3: chocolate;\n",
       "  /* Definition of color scheme for fitted estimators */\n",
       "  --sklearn-color-fitted-level-0: #f0f8ff;\n",
       "  --sklearn-color-fitted-level-1: #d4ebff;\n",
       "  --sklearn-color-fitted-level-2: #b3dbfd;\n",
       "  --sklearn-color-fitted-level-3: cornflowerblue;\n",
       "\n",
       "  /* Specific color for light theme */\n",
       "  --sklearn-color-text-on-default-background: var(--sg-text-color, var(--theme-code-foreground, var(--jp-content-font-color1, black)));\n",
       "  --sklearn-color-background: var(--sg-background-color, var(--theme-background, var(--jp-layout-color0, white)));\n",
       "  --sklearn-color-border-box: var(--sg-text-color, var(--theme-code-foreground, var(--jp-content-font-color1, black)));\n",
       "  --sklearn-color-icon: #696969;\n",
       "\n",
       "  @media (prefers-color-scheme: dark) {\n",
       "    /* Redefinition of color scheme for dark theme */\n",
       "    --sklearn-color-text-on-default-background: var(--sg-text-color, var(--theme-code-foreground, var(--jp-content-font-color1, white)));\n",
       "    --sklearn-color-background: var(--sg-background-color, var(--theme-background, var(--jp-layout-color0, #111)));\n",
       "    --sklearn-color-border-box: var(--sg-text-color, var(--theme-code-foreground, var(--jp-content-font-color1, white)));\n",
       "    --sklearn-color-icon: #878787;\n",
       "  }\n",
       "}\n",
       "\n",
       "#sk-container-id-2 {\n",
       "  color: var(--sklearn-color-text);\n",
       "}\n",
       "\n",
       "#sk-container-id-2 pre {\n",
       "  padding: 0;\n",
       "}\n",
       "\n",
       "#sk-container-id-2 input.sk-hidden--visually {\n",
       "  border: 0;\n",
       "  clip: rect(1px 1px 1px 1px);\n",
       "  clip: rect(1px, 1px, 1px, 1px);\n",
       "  height: 1px;\n",
       "  margin: -1px;\n",
       "  overflow: hidden;\n",
       "  padding: 0;\n",
       "  position: absolute;\n",
       "  width: 1px;\n",
       "}\n",
       "\n",
       "#sk-container-id-2 div.sk-dashed-wrapped {\n",
       "  border: 1px dashed var(--sklearn-color-line);\n",
       "  margin: 0 0.4em 0.5em 0.4em;\n",
       "  box-sizing: border-box;\n",
       "  padding-bottom: 0.4em;\n",
       "  background-color: var(--sklearn-color-background);\n",
       "}\n",
       "\n",
       "#sk-container-id-2 div.sk-container {\n",
       "  /* jupyter's `normalize.less` sets `[hidden] { display: none; }`\n",
       "     but bootstrap.min.css set `[hidden] { display: none !important; }`\n",
       "     so we also need the `!important` here to be able to override the\n",
       "     default hidden behavior on the sphinx rendered scikit-learn.org.\n",
       "     See: https://github.com/scikit-learn/scikit-learn/issues/21755 */\n",
       "  display: inline-block !important;\n",
       "  position: relative;\n",
       "}\n",
       "\n",
       "#sk-container-id-2 div.sk-text-repr-fallback {\n",
       "  display: none;\n",
       "}\n",
       "\n",
       "div.sk-parallel-item,\n",
       "div.sk-serial,\n",
       "div.sk-item {\n",
       "  /* draw centered vertical line to link estimators */\n",
       "  background-image: linear-gradient(var(--sklearn-color-text-on-default-background), var(--sklearn-color-text-on-default-background));\n",
       "  background-size: 2px 100%;\n",
       "  background-repeat: no-repeat;\n",
       "  background-position: center center;\n",
       "}\n",
       "\n",
       "/* Parallel-specific style estimator block */\n",
       "\n",
       "#sk-container-id-2 div.sk-parallel-item::after {\n",
       "  content: \"\";\n",
       "  width: 100%;\n",
       "  border-bottom: 2px solid var(--sklearn-color-text-on-default-background);\n",
       "  flex-grow: 1;\n",
       "}\n",
       "\n",
       "#sk-container-id-2 div.sk-parallel {\n",
       "  display: flex;\n",
       "  align-items: stretch;\n",
       "  justify-content: center;\n",
       "  background-color: var(--sklearn-color-background);\n",
       "  position: relative;\n",
       "}\n",
       "\n",
       "#sk-container-id-2 div.sk-parallel-item {\n",
       "  display: flex;\n",
       "  flex-direction: column;\n",
       "}\n",
       "\n",
       "#sk-container-id-2 div.sk-parallel-item:first-child::after {\n",
       "  align-self: flex-end;\n",
       "  width: 50%;\n",
       "}\n",
       "\n",
       "#sk-container-id-2 div.sk-parallel-item:last-child::after {\n",
       "  align-self: flex-start;\n",
       "  width: 50%;\n",
       "}\n",
       "\n",
       "#sk-container-id-2 div.sk-parallel-item:only-child::after {\n",
       "  width: 0;\n",
       "}\n",
       "\n",
       "/* Serial-specific style estimator block */\n",
       "\n",
       "#sk-container-id-2 div.sk-serial {\n",
       "  display: flex;\n",
       "  flex-direction: column;\n",
       "  align-items: center;\n",
       "  background-color: var(--sklearn-color-background);\n",
       "  padding-right: 1em;\n",
       "  padding-left: 1em;\n",
       "}\n",
       "\n",
       "\n",
       "/* Toggleable style: style used for estimator/Pipeline/ColumnTransformer box that is\n",
       "clickable and can be expanded/collapsed.\n",
       "- Pipeline and ColumnTransformer use this feature and define the default style\n",
       "- Estimators will overwrite some part of the style using the `sk-estimator` class\n",
       "*/\n",
       "\n",
       "/* Pipeline and ColumnTransformer style (default) */\n",
       "\n",
       "#sk-container-id-2 div.sk-toggleable {\n",
       "  /* Default theme specific background. It is overwritten whether we have a\n",
       "  specific estimator or a Pipeline/ColumnTransformer */\n",
       "  background-color: var(--sklearn-color-background);\n",
       "}\n",
       "\n",
       "/* Toggleable label */\n",
       "#sk-container-id-2 label.sk-toggleable__label {\n",
       "  cursor: pointer;\n",
       "  display: block;\n",
       "  width: 100%;\n",
       "  margin-bottom: 0;\n",
       "  padding: 0.5em;\n",
       "  box-sizing: border-box;\n",
       "  text-align: center;\n",
       "}\n",
       "\n",
       "#sk-container-id-2 label.sk-toggleable__label-arrow:before {\n",
       "  /* Arrow on the left of the label */\n",
       "  content: \"▸\";\n",
       "  float: left;\n",
       "  margin-right: 0.25em;\n",
       "  color: var(--sklearn-color-icon);\n",
       "}\n",
       "\n",
       "#sk-container-id-2 label.sk-toggleable__label-arrow:hover:before {\n",
       "  color: var(--sklearn-color-text);\n",
       "}\n",
       "\n",
       "/* Toggleable content - dropdown */\n",
       "\n",
       "#sk-container-id-2 div.sk-toggleable__content {\n",
       "  max-height: 0;\n",
       "  max-width: 0;\n",
       "  overflow: hidden;\n",
       "  text-align: left;\n",
       "  /* unfitted */\n",
       "  background-color: var(--sklearn-color-unfitted-level-0);\n",
       "}\n",
       "\n",
       "#sk-container-id-2 div.sk-toggleable__content.fitted {\n",
       "  /* fitted */\n",
       "  background-color: var(--sklearn-color-fitted-level-0);\n",
       "}\n",
       "\n",
       "#sk-container-id-2 div.sk-toggleable__content pre {\n",
       "  margin: 0.2em;\n",
       "  border-radius: 0.25em;\n",
       "  color: var(--sklearn-color-text);\n",
       "  /* unfitted */\n",
       "  background-color: var(--sklearn-color-unfitted-level-0);\n",
       "}\n",
       "\n",
       "#sk-container-id-2 div.sk-toggleable__content.fitted pre {\n",
       "  /* unfitted */\n",
       "  background-color: var(--sklearn-color-fitted-level-0);\n",
       "}\n",
       "\n",
       "#sk-container-id-2 input.sk-toggleable__control:checked~div.sk-toggleable__content {\n",
       "  /* Expand drop-down */\n",
       "  max-height: 200px;\n",
       "  max-width: 100%;\n",
       "  overflow: auto;\n",
       "}\n",
       "\n",
       "#sk-container-id-2 input.sk-toggleable__control:checked~label.sk-toggleable__label-arrow:before {\n",
       "  content: \"▾\";\n",
       "}\n",
       "\n",
       "/* Pipeline/ColumnTransformer-specific style */\n",
       "\n",
       "#sk-container-id-2 div.sk-label input.sk-toggleable__control:checked~label.sk-toggleable__label {\n",
       "  color: var(--sklearn-color-text);\n",
       "  background-color: var(--sklearn-color-unfitted-level-2);\n",
       "}\n",
       "\n",
       "#sk-container-id-2 div.sk-label.fitted input.sk-toggleable__control:checked~label.sk-toggleable__label {\n",
       "  background-color: var(--sklearn-color-fitted-level-2);\n",
       "}\n",
       "\n",
       "/* Estimator-specific style */\n",
       "\n",
       "/* Colorize estimator box */\n",
       "#sk-container-id-2 div.sk-estimator input.sk-toggleable__control:checked~label.sk-toggleable__label {\n",
       "  /* unfitted */\n",
       "  background-color: var(--sklearn-color-unfitted-level-2);\n",
       "}\n",
       "\n",
       "#sk-container-id-2 div.sk-estimator.fitted input.sk-toggleable__control:checked~label.sk-toggleable__label {\n",
       "  /* fitted */\n",
       "  background-color: var(--sklearn-color-fitted-level-2);\n",
       "}\n",
       "\n",
       "#sk-container-id-2 div.sk-label label.sk-toggleable__label,\n",
       "#sk-container-id-2 div.sk-label label {\n",
       "  /* The background is the default theme color */\n",
       "  color: var(--sklearn-color-text-on-default-background);\n",
       "}\n",
       "\n",
       "/* On hover, darken the color of the background */\n",
       "#sk-container-id-2 div.sk-label:hover label.sk-toggleable__label {\n",
       "  color: var(--sklearn-color-text);\n",
       "  background-color: var(--sklearn-color-unfitted-level-2);\n",
       "}\n",
       "\n",
       "/* Label box, darken color on hover, fitted */\n",
       "#sk-container-id-2 div.sk-label.fitted:hover label.sk-toggleable__label.fitted {\n",
       "  color: var(--sklearn-color-text);\n",
       "  background-color: var(--sklearn-color-fitted-level-2);\n",
       "}\n",
       "\n",
       "/* Estimator label */\n",
       "\n",
       "#sk-container-id-2 div.sk-label label {\n",
       "  font-family: monospace;\n",
       "  font-weight: bold;\n",
       "  display: inline-block;\n",
       "  line-height: 1.2em;\n",
       "}\n",
       "\n",
       "#sk-container-id-2 div.sk-label-container {\n",
       "  text-align: center;\n",
       "}\n",
       "\n",
       "/* Estimator-specific */\n",
       "#sk-container-id-2 div.sk-estimator {\n",
       "  font-family: monospace;\n",
       "  border: 1px dotted var(--sklearn-color-border-box);\n",
       "  border-radius: 0.25em;\n",
       "  box-sizing: border-box;\n",
       "  margin-bottom: 0.5em;\n",
       "  /* unfitted */\n",
       "  background-color: var(--sklearn-color-unfitted-level-0);\n",
       "}\n",
       "\n",
       "#sk-container-id-2 div.sk-estimator.fitted {\n",
       "  /* fitted */\n",
       "  background-color: var(--sklearn-color-fitted-level-0);\n",
       "}\n",
       "\n",
       "/* on hover */\n",
       "#sk-container-id-2 div.sk-estimator:hover {\n",
       "  /* unfitted */\n",
       "  background-color: var(--sklearn-color-unfitted-level-2);\n",
       "}\n",
       "\n",
       "#sk-container-id-2 div.sk-estimator.fitted:hover {\n",
       "  /* fitted */\n",
       "  background-color: var(--sklearn-color-fitted-level-2);\n",
       "}\n",
       "\n",
       "/* Specification for estimator info (e.g. \"i\" and \"?\") */\n",
       "\n",
       "/* Common style for \"i\" and \"?\" */\n",
       "\n",
       ".sk-estimator-doc-link,\n",
       "a:link.sk-estimator-doc-link,\n",
       "a:visited.sk-estimator-doc-link {\n",
       "  float: right;\n",
       "  font-size: smaller;\n",
       "  line-height: 1em;\n",
       "  font-family: monospace;\n",
       "  background-color: var(--sklearn-color-background);\n",
       "  border-radius: 1em;\n",
       "  height: 1em;\n",
       "  width: 1em;\n",
       "  text-decoration: none !important;\n",
       "  margin-left: 1ex;\n",
       "  /* unfitted */\n",
       "  border: var(--sklearn-color-unfitted-level-1) 1pt solid;\n",
       "  color: var(--sklearn-color-unfitted-level-1);\n",
       "}\n",
       "\n",
       ".sk-estimator-doc-link.fitted,\n",
       "a:link.sk-estimator-doc-link.fitted,\n",
       "a:visited.sk-estimator-doc-link.fitted {\n",
       "  /* fitted */\n",
       "  border: var(--sklearn-color-fitted-level-1) 1pt solid;\n",
       "  color: var(--sklearn-color-fitted-level-1);\n",
       "}\n",
       "\n",
       "/* On hover */\n",
       "div.sk-estimator:hover .sk-estimator-doc-link:hover,\n",
       ".sk-estimator-doc-link:hover,\n",
       "div.sk-label-container:hover .sk-estimator-doc-link:hover,\n",
       ".sk-estimator-doc-link:hover {\n",
       "  /* unfitted */\n",
       "  background-color: var(--sklearn-color-unfitted-level-3);\n",
       "  color: var(--sklearn-color-background);\n",
       "  text-decoration: none;\n",
       "}\n",
       "\n",
       "div.sk-estimator.fitted:hover .sk-estimator-doc-link.fitted:hover,\n",
       ".sk-estimator-doc-link.fitted:hover,\n",
       "div.sk-label-container:hover .sk-estimator-doc-link.fitted:hover,\n",
       ".sk-estimator-doc-link.fitted:hover {\n",
       "  /* fitted */\n",
       "  background-color: var(--sklearn-color-fitted-level-3);\n",
       "  color: var(--sklearn-color-background);\n",
       "  text-decoration: none;\n",
       "}\n",
       "\n",
       "/* Span, style for the box shown on hovering the info icon */\n",
       ".sk-estimator-doc-link span {\n",
       "  display: none;\n",
       "  z-index: 9999;\n",
       "  position: relative;\n",
       "  font-weight: normal;\n",
       "  right: .2ex;\n",
       "  padding: .5ex;\n",
       "  margin: .5ex;\n",
       "  width: min-content;\n",
       "  min-width: 20ex;\n",
       "  max-width: 50ex;\n",
       "  color: var(--sklearn-color-text);\n",
       "  box-shadow: 2pt 2pt 4pt #999;\n",
       "  /* unfitted */\n",
       "  background: var(--sklearn-color-unfitted-level-0);\n",
       "  border: .5pt solid var(--sklearn-color-unfitted-level-3);\n",
       "}\n",
       "\n",
       ".sk-estimator-doc-link.fitted span {\n",
       "  /* fitted */\n",
       "  background: var(--sklearn-color-fitted-level-0);\n",
       "  border: var(--sklearn-color-fitted-level-3);\n",
       "}\n",
       "\n",
       ".sk-estimator-doc-link:hover span {\n",
       "  display: block;\n",
       "}\n",
       "\n",
       "/* \"?\"-specific style due to the `<a>` HTML tag */\n",
       "\n",
       "#sk-container-id-2 a.estimator_doc_link {\n",
       "  float: right;\n",
       "  font-size: 1rem;\n",
       "  line-height: 1em;\n",
       "  font-family: monospace;\n",
       "  background-color: var(--sklearn-color-background);\n",
       "  border-radius: 1rem;\n",
       "  height: 1rem;\n",
       "  width: 1rem;\n",
       "  text-decoration: none;\n",
       "  /* unfitted */\n",
       "  color: var(--sklearn-color-unfitted-level-1);\n",
       "  border: var(--sklearn-color-unfitted-level-1) 1pt solid;\n",
       "}\n",
       "\n",
       "#sk-container-id-2 a.estimator_doc_link.fitted {\n",
       "  /* fitted */\n",
       "  border: var(--sklearn-color-fitted-level-1) 1pt solid;\n",
       "  color: var(--sklearn-color-fitted-level-1);\n",
       "}\n",
       "\n",
       "/* On hover */\n",
       "#sk-container-id-2 a.estimator_doc_link:hover {\n",
       "  /* unfitted */\n",
       "  background-color: var(--sklearn-color-unfitted-level-3);\n",
       "  color: var(--sklearn-color-background);\n",
       "  text-decoration: none;\n",
       "}\n",
       "\n",
       "#sk-container-id-2 a.estimator_doc_link.fitted:hover {\n",
       "  /* fitted */\n",
       "  background-color: var(--sklearn-color-fitted-level-3);\n",
       "}\n",
       "</style><div id=\"sk-container-id-2\" class=\"sk-top-container\"><div class=\"sk-text-repr-fallback\"><pre>RandomizedSearchCV(cv=5,\n",
       "                   estimator=Pipeline(steps=[(&#x27;preprocessor&#x27;,\n",
       "                                              ColumnTransformer(remainder=&#x27;passthrough&#x27;,\n",
       "                                                                transformers=[(&#x27;cat&#x27;,\n",
       "                                                                               OrdinalEncoder(handle_unknown=&#x27;use_encoded_value&#x27;,\n",
       "                                                                                              unknown_value=nan),\n",
       "                                                                               [&#x27;VehicleType&#x27;,\n",
       "                                                                                &#x27;Gearbox&#x27;,\n",
       "                                                                                &#x27;Model&#x27;,\n",
       "                                                                                &#x27;FuelType&#x27;,\n",
       "                                                                                &#x27;Brand&#x27;,\n",
       "                                                                                &#x27;Repaired&#x27;])])),\n",
       "                                             (&#x27;estimator&#x27;,\n",
       "                                              DecisionTreeRegressor(random_state=42))]),\n",
       "                   n_jobs=-1,\n",
       "                   param_distributions=[{&#x27;estimator&#x27;: [DecisionTreeRegressor(random_state=42)],\n",
       "                                         &#x27;estimator__max_depth&#x27;: range(3, 15),\n",
       "                                         &#x27;estimator__min_samples_leaf&#x27;: range(1, 10),\n",
       "                                         &#x27;estimator__min_samples_split&#x27;: range(2, 10)}],\n",
       "                   random_state=42, scoring=&#x27;neg_root_mean_squared_error&#x27;)</pre><b>In a Jupyter environment, please rerun this cell to show the HTML representation or trust the notebook. <br />On GitHub, the HTML representation is unable to render, please try loading this page with nbviewer.org.</b></div><div class=\"sk-container\" hidden><div class=\"sk-item sk-dashed-wrapped\"><div class=\"sk-label-container\"><div class=\"sk-label fitted sk-toggleable\"><input class=\"sk-toggleable__control sk-hidden--visually\" id=\"sk-estimator-id-9\" type=\"checkbox\" ><label for=\"sk-estimator-id-9\" class=\"sk-toggleable__label fitted sk-toggleable__label-arrow fitted\">&nbsp;&nbsp;RandomizedSearchCV<a class=\"sk-estimator-doc-link fitted\" rel=\"noreferrer\" target=\"_blank\" href=\"https://scikit-learn.org/1.4/modules/generated/sklearn.model_selection.RandomizedSearchCV.html\">?<span>Documentation for RandomizedSearchCV</span></a><span class=\"sk-estimator-doc-link fitted\">i<span>Fitted</span></span></label><div class=\"sk-toggleable__content fitted\"><pre>RandomizedSearchCV(cv=5,\n",
       "                   estimator=Pipeline(steps=[(&#x27;preprocessor&#x27;,\n",
       "                                              ColumnTransformer(remainder=&#x27;passthrough&#x27;,\n",
       "                                                                transformers=[(&#x27;cat&#x27;,\n",
       "                                                                               OrdinalEncoder(handle_unknown=&#x27;use_encoded_value&#x27;,\n",
       "                                                                                              unknown_value=nan),\n",
       "                                                                               [&#x27;VehicleType&#x27;,\n",
       "                                                                                &#x27;Gearbox&#x27;,\n",
       "                                                                                &#x27;Model&#x27;,\n",
       "                                                                                &#x27;FuelType&#x27;,\n",
       "                                                                                &#x27;Brand&#x27;,\n",
       "                                                                                &#x27;Repaired&#x27;])])),\n",
       "                                             (&#x27;estimator&#x27;,\n",
       "                                              DecisionTreeRegressor(random_state=42))]),\n",
       "                   n_jobs=-1,\n",
       "                   param_distributions=[{&#x27;estimator&#x27;: [DecisionTreeRegressor(random_state=42)],\n",
       "                                         &#x27;estimator__max_depth&#x27;: range(3, 15),\n",
       "                                         &#x27;estimator__min_samples_leaf&#x27;: range(1, 10),\n",
       "                                         &#x27;estimator__min_samples_split&#x27;: range(2, 10)}],\n",
       "                   random_state=42, scoring=&#x27;neg_root_mean_squared_error&#x27;)</pre></div> </div></div><div class=\"sk-parallel\"><div class=\"sk-parallel-item\"><div class=\"sk-item\"><div class=\"sk-label-container\"><div class=\"sk-label fitted sk-toggleable\"><input class=\"sk-toggleable__control sk-hidden--visually\" id=\"sk-estimator-id-10\" type=\"checkbox\" ><label for=\"sk-estimator-id-10\" class=\"sk-toggleable__label fitted sk-toggleable__label-arrow fitted\">estimator: Pipeline</label><div class=\"sk-toggleable__content fitted\"><pre>Pipeline(steps=[(&#x27;preprocessor&#x27;,\n",
       "                 ColumnTransformer(remainder=&#x27;passthrough&#x27;,\n",
       "                                   transformers=[(&#x27;cat&#x27;,\n",
       "                                                  OrdinalEncoder(handle_unknown=&#x27;use_encoded_value&#x27;,\n",
       "                                                                 unknown_value=nan),\n",
       "                                                  [&#x27;VehicleType&#x27;, &#x27;Gearbox&#x27;,\n",
       "                                                   &#x27;Model&#x27;, &#x27;FuelType&#x27;, &#x27;Brand&#x27;,\n",
       "                                                   &#x27;Repaired&#x27;])])),\n",
       "                (&#x27;estimator&#x27;, DecisionTreeRegressor(random_state=42))])</pre></div> </div></div><div class=\"sk-serial\"><div class=\"sk-item\"><div class=\"sk-serial\"><div class=\"sk-item sk-dashed-wrapped\"><div class=\"sk-label-container\"><div class=\"sk-label fitted sk-toggleable\"><input class=\"sk-toggleable__control sk-hidden--visually\" id=\"sk-estimator-id-11\" type=\"checkbox\" ><label for=\"sk-estimator-id-11\" class=\"sk-toggleable__label fitted sk-toggleable__label-arrow fitted\">&nbsp;preprocessor: ColumnTransformer<a class=\"sk-estimator-doc-link fitted\" rel=\"noreferrer\" target=\"_blank\" href=\"https://scikit-learn.org/1.4/modules/generated/sklearn.compose.ColumnTransformer.html\">?<span>Documentation for preprocessor: ColumnTransformer</span></a></label><div class=\"sk-toggleable__content fitted\"><pre>ColumnTransformer(remainder=&#x27;passthrough&#x27;,\n",
       "                  transformers=[(&#x27;cat&#x27;,\n",
       "                                 OrdinalEncoder(handle_unknown=&#x27;use_encoded_value&#x27;,\n",
       "                                                unknown_value=nan),\n",
       "                                 [&#x27;VehicleType&#x27;, &#x27;Gearbox&#x27;, &#x27;Model&#x27;, &#x27;FuelType&#x27;,\n",
       "                                  &#x27;Brand&#x27;, &#x27;Repaired&#x27;])])</pre></div> </div></div><div class=\"sk-parallel\"><div class=\"sk-parallel-item\"><div class=\"sk-item\"><div class=\"sk-label-container\"><div class=\"sk-label fitted sk-toggleable\"><input class=\"sk-toggleable__control sk-hidden--visually\" id=\"sk-estimator-id-12\" type=\"checkbox\" ><label for=\"sk-estimator-id-12\" class=\"sk-toggleable__label fitted sk-toggleable__label-arrow fitted\">cat</label><div class=\"sk-toggleable__content fitted\"><pre>[&#x27;VehicleType&#x27;, &#x27;Gearbox&#x27;, &#x27;Model&#x27;, &#x27;FuelType&#x27;, &#x27;Brand&#x27;, &#x27;Repaired&#x27;]</pre></div> </div></div><div class=\"sk-serial\"><div class=\"sk-item\"><div class=\"sk-estimator fitted sk-toggleable\"><input class=\"sk-toggleable__control sk-hidden--visually\" id=\"sk-estimator-id-13\" type=\"checkbox\" ><label for=\"sk-estimator-id-13\" class=\"sk-toggleable__label fitted sk-toggleable__label-arrow fitted\">&nbsp;OrdinalEncoder<a class=\"sk-estimator-doc-link fitted\" rel=\"noreferrer\" target=\"_blank\" href=\"https://scikit-learn.org/1.4/modules/generated/sklearn.preprocessing.OrdinalEncoder.html\">?<span>Documentation for OrdinalEncoder</span></a></label><div class=\"sk-toggleable__content fitted\"><pre>OrdinalEncoder(handle_unknown=&#x27;use_encoded_value&#x27;, unknown_value=nan)</pre></div> </div></div></div></div></div><div class=\"sk-parallel-item\"><div class=\"sk-item\"><div class=\"sk-label-container\"><div class=\"sk-label fitted sk-toggleable\"><input class=\"sk-toggleable__control sk-hidden--visually\" id=\"sk-estimator-id-14\" type=\"checkbox\" ><label for=\"sk-estimator-id-14\" class=\"sk-toggleable__label fitted sk-toggleable__label-arrow fitted\">remainder</label><div class=\"sk-toggleable__content fitted\"><pre></pre></div> </div></div><div class=\"sk-serial\"><div class=\"sk-item\"><div class=\"sk-estimator fitted sk-toggleable\"><input class=\"sk-toggleable__control sk-hidden--visually\" id=\"sk-estimator-id-15\" type=\"checkbox\" ><label for=\"sk-estimator-id-15\" class=\"sk-toggleable__label fitted sk-toggleable__label-arrow fitted\">passthrough</label><div class=\"sk-toggleable__content fitted\"><pre>passthrough</pre></div> </div></div></div></div></div></div></div><div class=\"sk-item\"><div class=\"sk-estimator fitted sk-toggleable\"><input class=\"sk-toggleable__control sk-hidden--visually\" id=\"sk-estimator-id-16\" type=\"checkbox\" ><label for=\"sk-estimator-id-16\" class=\"sk-toggleable__label fitted sk-toggleable__label-arrow fitted\">&nbsp;DecisionTreeRegressor<a class=\"sk-estimator-doc-link fitted\" rel=\"noreferrer\" target=\"_blank\" href=\"https://scikit-learn.org/1.4/modules/generated/sklearn.tree.DecisionTreeRegressor.html\">?<span>Documentation for DecisionTreeRegressor</span></a></label><div class=\"sk-toggleable__content fitted\"><pre>DecisionTreeRegressor(random_state=42)</pre></div> </div></div></div></div></div></div></div></div></div></div></div>"
      ],
      "text/plain": [
       "RandomizedSearchCV(cv=5,\n",
       "                   estimator=Pipeline(steps=[('preprocessor',\n",
       "                                              ColumnTransformer(remainder='passthrough',\n",
       "                                                                transformers=[('cat',\n",
       "                                                                               OrdinalEncoder(handle_unknown='use_encoded_value',\n",
       "                                                                                              unknown_value=nan),\n",
       "                                                                               ['VehicleType',\n",
       "                                                                                'Gearbox',\n",
       "                                                                                'Model',\n",
       "                                                                                'FuelType',\n",
       "                                                                                'Brand',\n",
       "                                                                                'Repaired'])])),\n",
       "                                             ('estimator',\n",
       "                                              DecisionTreeRegressor(random_state=42))]),\n",
       "                   n_jobs=-1,\n",
       "                   param_distributions=[{'estimator': [DecisionTreeRegressor(random_state=42)],\n",
       "                                         'estimator__max_depth': range(3, 15),\n",
       "                                         'estimator__min_samples_leaf': range(1, 10),\n",
       "                                         'estimator__min_samples_split': range(2, 10)}],\n",
       "                   random_state=42, scoring='neg_root_mean_squared_error')"
      ]
     },
     "execution_count": 94,
     "metadata": {},
     "output_type": "execute_result"
    }
   ],
   "source": [
    "%%time\n",
    "# ======== Fit the search to the training data ========\n",
    "search_tree.fit(X_train, y_train)"
   ]
  },
  {
   "cell_type": "code",
   "execution_count": 95,
   "metadata": {
    "colab": {
     "base_uri": "https://localhost:8080/"
    },
    "id": "5vN1pjdJzD_u",
    "outputId": "572ad1c3-5c15-4022-c28c-af0bdb50c023"
   },
   "outputs": [
    {
     "name": "stdout",
     "output_type": "stream",
     "text": [
      "Best parameters: {'estimator__min_samples_split': 2, 'estimator__min_samples_leaf': 1, 'estimator__max_depth': 13, 'estimator': DecisionTreeRegressor(random_state=42)}\n",
      "Best RMSE: 1965.43176442527\n"
     ]
    }
   ],
   "source": [
    "# ======== Output the best parameters and the corresponding RMSE ========\n",
    "print(\"Best parameters:\", search_tree.best_params_)\n",
    "print(\"Best RMSE:\", -search_tree.best_score_)"
   ]
  },
  {
   "cell_type": "code",
   "execution_count": 96,
   "metadata": {},
   "outputs": [
    {
     "data": {
      "text/html": [
       "<div>\n",
       "<style scoped>\n",
       "    .dataframe tbody tr th:only-of-type {\n",
       "        vertical-align: middle;\n",
       "    }\n",
       "\n",
       "    .dataframe tbody tr th {\n",
       "        vertical-align: top;\n",
       "    }\n",
       "\n",
       "    .dataframe thead th {\n",
       "        text-align: right;\n",
       "    }\n",
       "</style>\n",
       "<table border=\"1\" class=\"dataframe\">\n",
       "  <thead>\n",
       "    <tr style=\"text-align: right;\">\n",
       "      <th></th>\n",
       "      <th>mean_fit_time</th>\n",
       "      <th>mean_score_time</th>\n",
       "      <th>mean_test_score</th>\n",
       "    </tr>\n",
       "  </thead>\n",
       "  <tbody>\n",
       "    <tr>\n",
       "      <th>1</th>\n",
       "      <td>0.931756</td>\n",
       "      <td>0.114045</td>\n",
       "      <td>1965.431764</td>\n",
       "    </tr>\n",
       "  </tbody>\n",
       "</table>\n",
       "</div>"
      ],
      "text/plain": [
       "   mean_fit_time  mean_score_time  mean_test_score\n",
       "1       0.931756         0.114045      1965.431764"
      ]
     },
     "execution_count": 96,
     "metadata": {},
     "output_type": "execute_result"
    }
   ],
   "source": [
    "res = pd.DataFrame(search_tree.cv_results_).sort_values(by='mean_test_score', ascending=False).head(1)\n",
    "res_tree = res[['mean_fit_time', 'mean_score_time', 'mean_test_score']].copy()\n",
    "res_tree['mean_test_score'] = abs(res_tree['mean_test_score'])\n",
    "res_tree"
   ]
  },
  {
   "cell_type": "markdown",
   "metadata": {},
   "source": [
    "- The Tree model takes longer, but the metric has dropped to 1961 euros."
   ]
  },
  {
   "cell_type": "markdown",
   "metadata": {
    "id": "Yq-ic_IuzD_u"
   },
   "source": [
    "## 6 LightGBM"
   ]
  },
  {
   "cell_type": "code",
   "execution_count": 97,
   "metadata": {},
   "outputs": [],
   "source": [
    "# ======= Define Columns to Keep =======\n",
    "COLS_TO_KEEP = [\n",
    "    'Price', \n",
    "    'VehicleType', \n",
    "    'RegistrationYear', \n",
    "    'Gearbox', \n",
    "    'Power', \n",
    "    'Model',\n",
    "    'Kilometer',\n",
    "    'FuelType',\n",
    "    'Brand',\n",
    "    'Repaired',\n",
    "    #'Price_log',\n",
    "    #'Model_new',\n",
    "    #'FuelTypeIsGas', \n",
    "    #'Power_log', \n",
    "    #'IsRepaired', \n",
    "    #'IsUnknownRepairedStatus',\n",
    "    #'IsHighMileage'\n",
    "]\n",
    "\n",
    "# ======= Filter DataFrame =======\n",
    "df_gb = df[COLS_TO_KEEP].copy()\n",
    "\n",
    "# ======= Define Target and Features =======\n",
    "TARGET = 'Price'\n",
    "FEATURES = df_gb.drop(TARGET, axis=1)\n",
    "CAT_FEATURES = FEATURES.select_dtypes(include='object').columns.to_list()\n",
    "\n",
    "# ======= Convert to Categorical Type =======\n",
    "for cat in CAT_FEATURES:\n",
    "    df_gb[cat] = df_gb[cat].astype('category')\n",
    "\n"
   ]
  },
  {
   "cell_type": "code",
   "execution_count": 98,
   "metadata": {},
   "outputs": [],
   "source": [
    "# ======= Split into Train and Test Sets =======\n",
    "X_train = df_gb.drop('Price', axis=1)\n",
    "y_train = df_gb['Price']"
   ]
  },
  {
   "cell_type": "code",
   "execution_count": 99,
   "metadata": {},
   "outputs": [],
   "source": [
    "# ======= Define Model =======\n",
    "estimator = LGBMRegressor(random_state=RANDOM_STATE)\n",
    "\n",
    "# ======= Hyperparameter Tuning =======\n",
    "param_grid = {\n",
    "    'n_estimators': [100, 200, 300],  \n",
    "    'learning_rate': [0.01, 0.05, 0.1], \n",
    "    'max_depth': [-1, 5, 10, 15],  \n",
    "    'num_leaves': [31, 50, 100],  \n",
    "    'min_child_samples': [10, 20, 30],  \n",
    "    'subsample': [0.7, 0.8, 0.9, 1.0],  \n",
    "    'colsample_bytree': [0.7, 0.8, 0.9, 1.0]\n",
    "}"
   ]
  },
  {
   "cell_type": "code",
   "execution_count": 100,
   "metadata": {
    "id": "eQ_MTPrbzD_v"
   },
   "outputs": [
    {
     "name": "stdout",
     "output_type": "stream",
     "text": [
      "[LightGBM] [Info] Auto-choosing row-wise multi-threading, the overhead of testing was 0.033811 seconds.\n",
      "You can set `force_row_wise=true` to remove the overhead.\n",
      "And if memory is not enough, you can set `force_col_wise=true`.\n",
      "[LightGBM] [Info] Total Bins 634\n",
      "[LightGBM] [Info] Auto-choosing row-wise multi-threading, the overhead of testing was 0.017724 seconds.\n",
      "You can set `force_row_wise=true` to remove the overhead.\n",
      "And if memory is not enough, you can set `force_col_wise=true`.\n",
      "[LightGBM] [Info] Total Bins 632\n",
      "[LightGBM] [Info] Number of data points in the train set: 150734, number of used features: 9\n",
      "[LightGBM] [Info] Auto-choosing row-wise multi-threading, the overhead of testing was 0.018789 seconds.\n",
      "You can set `force_row_wise=true` to remove the overhead.\n",
      "And if memory is not enough, you can set `force_col_wise=true`.\n",
      "[LightGBM] [Info] Number of data points in the train set: 150734, number of used features: 9\n",
      "[LightGBM] [Info] Auto-choosing row-wise multi-threading, the overhead of testing was 0.036128 seconds.\n",
      "You can set `force_row_wise=true` to remove the overhead.\n",
      "And if memory is not enough, you can set `force_col_wise=true`.\n",
      "[LightGBM] [Info] Total Bins 631\n",
      "[LightGBM] [Info] Total Bins 637\n",
      "[LightGBM] [Info] Number of data points in the train set: 150734, number of used features: 9\n",
      "[LightGBM] [Info] Number of data points in the train set: 150735, number of used features: 9\n",
      "[LightGBM] [Info] Auto-choosing row-wise multi-threading, the overhead of testing was 0.029828 seconds.\n",
      "You can set `force_row_wise=true` to remove the overhead.\n",
      "And if memory is not enough, you can set `force_col_wise=true`.\n",
      "[LightGBM] [Info] Total Bins 637\n",
      "[LightGBM] [Info] Start training from score 5904.930679\n",
      "[LightGBM] [Info] Start training from score 5915.651956\n",
      "[LightGBM] [Info] Number of data points in the train set: 150735, number of used features: 9\n",
      "[LightGBM] [Info] Start training from score 5905.572698\n",
      "[LightGBM] [Info] Start training from score 5900.996059\n",
      "[LightGBM] [Info] Auto-choosing row-wise multi-threading, the overhead of testing was 0.019921 seconds.\n",
      "You can set `force_row_wise=true` to remove the overhead.\n",
      "And if memory is not enough, you can set `force_col_wise=true`.\n",
      "[LightGBM] [Info] Start training from score 5905.252562\n",
      "[LightGBM] [Info] Total Bins 634\n",
      "[LightGBM] [Info] Number of data points in the train set: 150734, number of used features: 9\n",
      "[LightGBM] [Info] Start training from score 5915.651956\n",
      "[LightGBM] [Info] Auto-choosing row-wise multi-threading, the overhead of testing was 0.034265 seconds.\n",
      "You can set `force_row_wise=true` to remove the overhead.\n",
      "And if memory is not enough, you can set `force_col_wise=true`.\n",
      "[LightGBM] [Info] Total Bins 631\n",
      "[LightGBM] [Info] Number of data points in the train set: 150734, number of used features: 9\n",
      "[LightGBM] [Info] Start training from score 5905.572698\n",
      "[LightGBM] [Info] Auto-choosing row-wise multi-threading, the overhead of testing was 0.010950 seconds.\n",
      "You can set `force_row_wise=true` to remove the overhead.\n",
      "And if memory is not enough, you can set `force_col_wise=true`.\n",
      "[LightGBM] [Info] Total Bins 632\n",
      "[LightGBM] [Info] Number of data points in the train set: 150734, number of used features: 9\n",
      "[LightGBM] [Info] Start training from score 5904.930679\n",
      "[LightGBM] [Warning] No further splits with positive gain, best gain: -inf\n",
      "[LightGBM] [Warning] No further splits with positive gain, best gain: -inf\n",
      "[LightGBM] [Warning] No further splits with positive gain, best gain: -inf\n",
      "[LightGBM] [Warning] No further splits with positive gain, best gain: -inf\n",
      "[LightGBM] [Warning] No further splits with positive gain, best gain: -inf\n",
      "[LightGBM] [Warning] No further splits with positive gain, best gain: -inf\n",
      "[LightGBM] [Warning] No further splits with positive gain, best gain: -inf\n",
      "[LightGBM] [Warning] No further splits with positive gain, best gain: -inf\n",
      "[LightGBM] [Warning] No further splits with positive gain, best gain: -inf\n",
      "[LightGBM] [Warning] No further splits with positive gain, best gain: -inf\n",
      "[LightGBM] [Warning] No further splits with positive gain, best gain: -inf\n",
      "[LightGBM] [Warning] No further splits with positive gain, best gain: -inf\n",
      "[LightGBM] [Info] Auto-choosing row-wise multi-threading, the overhead of testing was 0.064562 seconds.\n",
      "You can set `force_row_wise=true` to remove the overhead.\n",
      "And if memory is not enough, you can set `force_col_wise=true`.\n",
      "[LightGBM] [Info] Total Bins 637\n",
      "[LightGBM] [Info] Number of data points in the train set: 150735, number of used features: 9\n",
      "[LightGBM] [Info] Start training from score 5905.252562\n",
      "[LightGBM] [Info] Auto-choosing row-wise multi-threading, the overhead of testing was 0.019286 seconds.\n",
      "You can set `force_row_wise=true` to remove the overhead.\n",
      "And if memory is not enough, you can set `force_col_wise=true`.\n",
      "[LightGBM] [Info] Total Bins 637\n",
      "[LightGBM] [Info] Number of data points in the train set: 150735, number of used features: 9\n",
      "[LightGBM] [Info] Start training from score 5900.996059\n",
      "[LightGBM] [Info] Auto-choosing row-wise multi-threading, the overhead of testing was 0.009054 seconds.\n",
      "You can set `force_row_wise=true` to remove the overhead.\n",
      "And if memory is not enough, you can set `force_col_wise=true`.\n",
      "[LightGBM] [Info] Total Bins 634\n",
      "[LightGBM] [Info] Number of data points in the train set: 150734, number of used features: 9\n",
      "[LightGBM] [Info] Start training from score 5915.651956\n",
      "[LightGBM] [Warning] No further splits with positive gain, best gain: -inf\n",
      "[LightGBM] [Warning] No further splits with positive gain, best gain: -inf\n",
      "[LightGBM] [Warning] No further splits with positive gain, best gain: -inf\n",
      "[LightGBM] [Warning] No further splits with positive gain, best gain: -inf\n",
      "[LightGBM] [Warning] No further splits with positive gain, best gain: -inf\n",
      "[LightGBM] [Warning] No further splits with positive gain, best gain: -inf\n",
      "[LightGBM] [Warning] No further splits with positive gain, best gain: -inf\n",
      "[LightGBM] [Warning] No further splits with positive gain, best gain: -inf\n",
      "[LightGBM] [Warning] No further splits with positive gain, best gain: -inf\n",
      "[LightGBM] [Warning] No further splits with positive gain, best gain: -inf\n",
      "[LightGBM] [Warning] No further splits with positive gain, best gain: -inf\n",
      "[LightGBM] [Warning] No further splits with positive gain, best gain: -inf\n",
      "[LightGBM] [Info] Auto-choosing row-wise multi-threading, the overhead of testing was 0.007809 seconds.\n",
      "You can set `force_row_wise=true` to remove the overhead.\n",
      "And if memory is not enough, you can set `force_col_wise=true`.\n",
      "[LightGBM] [Info] Total Bins 631\n",
      "[LightGBM] [Info] Number of data points in the train set: 150734, number of used features: 9\n",
      "[LightGBM] [Info] Start training from score 5905.572698\n",
      "[LightGBM] [Warning] No further splits with positive gain, best gain: -inf\n",
      "[LightGBM] [Warning] No further splits with positive gain, best gain: -inf\n",
      "[LightGBM] [Info] Auto-choosing row-wise multi-threading, the overhead of testing was 0.049115 seconds.\n",
      "You can set `force_row_wise=true` to remove the overhead.\n",
      "And if memory is not enough, you can set `force_col_wise=true`.\n",
      "[LightGBM] [Info] Total Bins 632\n",
      "[LightGBM] [Info] Number of data points in the train set: 150734, number of used features: 9\n",
      "[LightGBM] [Info] Start training from score 5904.930679\n",
      "[LightGBM] [Info] Auto-choosing col-wise multi-threading, the overhead of testing was 0.024448 seconds.\n",
      "You can set `force_col_wise=true` to remove the overhead.\n",
      "[LightGBM] [Info] Total Bins 637\n",
      "[LightGBM] [Info] Number of data points in the train set: 150735, number of used features: 9\n",
      "[LightGBM] [Info] Start training from score 5905.252562\n",
      "[LightGBM] [Info] Auto-choosing row-wise multi-threading, the overhead of testing was 0.010469 seconds.\n",
      "You can set `force_row_wise=true` to remove the overhead.\n",
      "And if memory is not enough, you can set `force_col_wise=true`.\n",
      "[LightGBM] [Info] Total Bins 637\n",
      "[LightGBM] [Info] Number of data points in the train set: 150735, number of used features: 9\n",
      "[LightGBM] [Info] Start training from score 5900.996059\n",
      "[LightGBM] [Warning] No further splits with positive gain, best gain: -inf\n",
      "[LightGBM] [Info] Auto-choosing col-wise multi-threading, the overhead of testing was 0.017032 seconds.\n",
      "You can set `force_col_wise=true` to remove the overhead.\n",
      "[LightGBM] [Info] Total Bins 634\n",
      "[LightGBM] [Info] Number of data points in the train set: 150734, number of used features: 9\n",
      "[LightGBM] [Info] Start training from score 5915.651956\n",
      "[LightGBM] [Warning] No further splits with positive gain, best gain: -inf\n",
      "[LightGBM] [Warning] No further splits with positive gain, best gain: -inf\n",
      "[LightGBM] [Warning] No further splits with positive gain, best gain: -inf\n",
      "[LightGBM] [Info] Auto-choosing row-wise multi-threading, the overhead of testing was 0.006257 seconds.\n",
      "You can set `force_row_wise=true` to remove the overhead.\n",
      "And if memory is not enough, you can set `force_col_wise=true`.\n",
      "[LightGBM] [Info] Total Bins 632\n",
      "[LightGBM] [Info] Number of data points in the train set: 150734, number of used features: 9\n",
      "[LightGBM] [Info] Start training from score 5904.930679\n",
      "[LightGBM] [Info] Auto-choosing row-wise multi-threading, the overhead of testing was 0.007597 seconds.\n",
      "You can set `force_row_wise=true` to remove the overhead.\n",
      "And if memory is not enough, you can set `force_col_wise=true`.\n",
      "[LightGBM] [Info] Total Bins 631\n",
      "[LightGBM] [Info] Number of data points in the train set: 150734, number of used features: 9\n",
      "[LightGBM] [Info] Start training from score 5905.572698\n",
      "[LightGBM] [Info] Auto-choosing row-wise multi-threading, the overhead of testing was 0.006282 seconds.\n",
      "You can set `force_row_wise=true` to remove the overhead.\n",
      "And if memory is not enough, you can set `force_col_wise=true`.\n",
      "[LightGBM] [Info] Total Bins 637\n",
      "[LightGBM] [Info] Number of data points in the train set: 150735, number of used features: 9\n",
      "[LightGBM] [Info] Start training from score 5905.252562\n",
      "[LightGBM] [Info] Auto-choosing row-wise multi-threading, the overhead of testing was 0.008569 seconds.\n",
      "You can set `force_row_wise=true` to remove the overhead.\n",
      "And if memory is not enough, you can set `force_col_wise=true`.\n",
      "[LightGBM] [Info] Total Bins 637\n",
      "[LightGBM] [Info] Number of data points in the train set: 150735, number of used features: 9\n",
      "[LightGBM] [Info] Start training from score 5900.996059\n",
      "[LightGBM] [Info] Auto-choosing col-wise multi-threading, the overhead of testing was 0.013679 seconds.\n",
      "You can set `force_col_wise=true` to remove the overhead.\n",
      "[LightGBM] [Info] Total Bins 634\n",
      "[LightGBM] [Info] Number of data points in the train set: 150734, number of used features: 9\n",
      "[LightGBM] [Info] Start training from score 5915.651956\n",
      "[LightGBM] [Info] Auto-choosing row-wise multi-threading, the overhead of testing was 0.006866 seconds.\n",
      "You can set `force_row_wise=true` to remove the overhead.\n",
      "And if memory is not enough, you can set `force_col_wise=true`.\n",
      "[LightGBM] [Info] Total Bins 631\n",
      "[LightGBM] [Info] Number of data points in the train set: 150734, number of used features: 9\n",
      "[LightGBM] [Info] Start training from score 5905.572698\n",
      "[LightGBM] [Info] Auto-choosing row-wise multi-threading, the overhead of testing was 0.006950 seconds.\n",
      "You can set `force_row_wise=true` to remove the overhead.\n",
      "And if memory is not enough, you can set `force_col_wise=true`.\n",
      "[LightGBM] [Info] Total Bins 632\n",
      "[LightGBM] [Info] Number of data points in the train set: 150734, number of used features: 9\n",
      "[LightGBM] [Info] Start training from score 5904.930679\n",
      "[LightGBM] [Info] Auto-choosing row-wise multi-threading, the overhead of testing was 0.013014 seconds.\n",
      "You can set `force_row_wise=true` to remove the overhead.\n",
      "And if memory is not enough, you can set `force_col_wise=true`.\n",
      "[LightGBM] [Info] Total Bins 637\n",
      "[LightGBM] [Info] Number of data points in the train set: 150735, number of used features: 9\n",
      "[LightGBM] [Info] Start training from score 5905.252562\n",
      "[LightGBM] [Info] Auto-choosing row-wise multi-threading, the overhead of testing was 0.011116 seconds.\n",
      "You can set `force_row_wise=true` to remove the overhead.\n",
      "And if memory is not enough, you can set `force_col_wise=true`.\n",
      "[LightGBM] [Info] Total Bins 637\n",
      "[LightGBM] [Info] Number of data points in the train set: 150735, number of used features: 9\n",
      "[LightGBM] [Info] Start training from score 5900.996059\n",
      "[LightGBM] [Info] Auto-choosing row-wise multi-threading, the overhead of testing was 0.005131 seconds.\n",
      "You can set `force_row_wise=true` to remove the overhead.\n",
      "And if memory is not enough, you can set `force_col_wise=true`.\n",
      "[LightGBM] [Info] Total Bins 639\n",
      "[LightGBM] [Info] Number of data points in the train set: 188418, number of used features: 9\n",
      "[LightGBM] [Info] Start training from score 5906.480782\n",
      "Best parameters: {'subsample': 0.7, 'num_leaves': 100, 'n_estimators': 300, 'min_child_samples': 20, 'max_depth': -1, 'learning_rate': 0.05, 'colsample_bytree': 0.9}\n",
      "Best RMSE: 1610.3094258086762\n",
      "CPU times: user 6.78 s, sys: 207 ms, total: 6.99 s\n",
      "Wall time: 1min 28s\n"
     ]
    }
   ],
   "source": [
    "%%time\n",
    "# ======= Search for Optimal Parameters =======\n",
    "search_gb = RandomizedSearchCV(\n",
    "    estimator=estimator,\n",
    "    param_distributions=param_grid,\n",
    "    n_iter=5,\n",
    "    scoring=\"neg_root_mean_squared_error\",\n",
    "    n_jobs=-1,\n",
    "    cv=5,\n",
    "    random_state=RANDOM_STATE\n",
    ")\n",
    "\n",
    "# ======= Fit the Model =======\n",
    "search_gb.fit(X_train, y_train)\n",
    "\n",
    "# ======= Output Results =======\n",
    "print(\"Best parameters:\", search_gb.best_params_)\n",
    "print(\"Best RMSE:\", -search_gb.best_score_)"
   ]
  },
  {
   "cell_type": "code",
   "execution_count": 101,
   "metadata": {},
   "outputs": [
    {
     "data": {
      "text/html": [
       "<div>\n",
       "<style scoped>\n",
       "    .dataframe tbody tr th:only-of-type {\n",
       "        vertical-align: middle;\n",
       "    }\n",
       "\n",
       "    .dataframe tbody tr th {\n",
       "        vertical-align: top;\n",
       "    }\n",
       "\n",
       "    .dataframe thead th {\n",
       "        text-align: right;\n",
       "    }\n",
       "</style>\n",
       "<table border=\"1\" class=\"dataframe\">\n",
       "  <thead>\n",
       "    <tr style=\"text-align: right;\">\n",
       "      <th></th>\n",
       "      <th>mean_fit_time</th>\n",
       "      <th>mean_score_time</th>\n",
       "      <th>mean_test_score</th>\n",
       "    </tr>\n",
       "  </thead>\n",
       "  <tbody>\n",
       "    <tr>\n",
       "      <th>2</th>\n",
       "      <td>30.181887</td>\n",
       "      <td>0.511792</td>\n",
       "      <td>1610.309426</td>\n",
       "    </tr>\n",
       "  </tbody>\n",
       "</table>\n",
       "</div>"
      ],
      "text/plain": [
       "   mean_fit_time  mean_score_time  mean_test_score\n",
       "2      30.181887         0.511792      1610.309426"
      ]
     },
     "execution_count": 101,
     "metadata": {},
     "output_type": "execute_result"
    }
   ],
   "source": [
    "res = pd.DataFrame(search_gb.cv_results_).sort_values(by='mean_test_score', ascending=False).head(1)\n",
    "res_gb = res[['mean_fit_time', 'mean_score_time', 'mean_test_score']].copy()\n",
    "res_gb['mean_test_score'] = abs(res_gb['mean_test_score'])\n",
    "res_gb"
   ]
  },
  {
   "cell_type": "markdown",
   "metadata": {},
   "source": [
    "## 7. Evaluation"
   ]
  },
  {
   "cell_type": "code",
   "execution_count": 102,
   "metadata": {},
   "outputs": [
    {
     "data": {
      "text/html": [
       "<div>\n",
       "<style scoped>\n",
       "    .dataframe tbody tr th:only-of-type {\n",
       "        vertical-align: middle;\n",
       "    }\n",
       "\n",
       "    .dataframe tbody tr th {\n",
       "        vertical-align: top;\n",
       "    }\n",
       "\n",
       "    .dataframe thead th {\n",
       "        text-align: right;\n",
       "    }\n",
       "</style>\n",
       "<table border=\"1\" class=\"dataframe\">\n",
       "  <thead>\n",
       "    <tr style=\"text-align: right;\">\n",
       "      <th></th>\n",
       "      <th>mean_fit_time</th>\n",
       "      <th>mean_score_time</th>\n",
       "      <th>mean_test_score</th>\n",
       "    </tr>\n",
       "  </thead>\n",
       "  <tbody>\n",
       "    <tr>\n",
       "      <th>Linear</th>\n",
       "      <td>0.849079</td>\n",
       "      <td>0.166556</td>\n",
       "      <td>2774.546714</td>\n",
       "    </tr>\n",
       "    <tr>\n",
       "      <th>Tree</th>\n",
       "      <td>0.931756</td>\n",
       "      <td>0.114045</td>\n",
       "      <td>1965.431764</td>\n",
       "    </tr>\n",
       "    <tr>\n",
       "      <th>LGBM</th>\n",
       "      <td>30.181887</td>\n",
       "      <td>0.511792</td>\n",
       "      <td>1610.309426</td>\n",
       "    </tr>\n",
       "  </tbody>\n",
       "</table>\n",
       "</div>"
      ],
      "text/plain": [
       "        mean_fit_time  mean_score_time  mean_test_score\n",
       "Linear       0.849079         0.166556      2774.546714\n",
       "Tree         0.931756         0.114045      1965.431764\n",
       "LGBM        30.181887         0.511792      1610.309426"
      ]
     },
     "execution_count": 102,
     "metadata": {},
     "output_type": "execute_result"
    }
   ],
   "source": [
    "# Compare the performance of each of the models\n",
    "compare = pd.concat([res_linear, res_tree, res_gb])\n",
    "compare.index = ['Linear', 'Tree', 'LGBM']\n",
    "compare"
   ]
  },
  {
   "cell_type": "markdown",
   "metadata": {},
   "source": [
    "- Given that the ideal metric should not exceed 2500 euros, we need to focus on the mean_test_score, ensuring it aligns with this cost limit.\n",
    "\n",
    "\n",
    "    - **Linear Model:** the score exceeds the 2500-euro limit, making it less ideal despite its efficient training and scoring times.\n",
    "    - **Tree Model:** the score is below the 2500-euro threshold, making it a feasible option in terms of cost. Additionally, it has relatively fast training and scoring times, providing a balance between cost and efficiency.\n",
    "    - **LGBM Model:** this score is also below 2500 euros, making it suitable from a cost perspective. However, it has significantly longer training and scoring times, which may impact usability, especially if real-time prediction is needed.\n",
    "\n",
    "- Recommendation\n",
    "\n",
    "    - The Tree model is not the best choice. Even though it is balancing the desired cost metric and efficiency, it is prone to overfitting. It's more advisable to use trees in ensembles. However, that will significantly slow down the fit time.\n",
    "    - The LGBM model also meets the cost criteria. Its performance accuracy should outweigh speed."
   ]
  },
  {
   "cell_type": "markdown",
   "metadata": {},
   "source": [
    "# 8. Predictions"
   ]
  },
  {
   "cell_type": "code",
   "execution_count": 103,
   "metadata": {},
   "outputs": [
    {
     "data": {
      "text/plain": [
       "DateCrawled          0.000000\n",
       "Price                0.000000\n",
       "VehicleType          0.105723\n",
       "RegistrationYear     0.000000\n",
       "Gearbox              0.054773\n",
       "Power                0.000000\n",
       "Model                0.054943\n",
       "Kilometer            0.000000\n",
       "RegistrationMonth    0.000000\n",
       "FuelType             0.091232\n",
       "Brand                0.000000\n",
       "Repaired             0.198281\n",
       "DateCreated          0.000000\n",
       "NumberOfPictures     0.000000\n",
       "PostalCode           0.000000\n",
       "LastSeen             0.000000\n",
       "dtype: float64"
      ]
     },
     "execution_count": 103,
     "metadata": {},
     "output_type": "execute_result"
    }
   ],
   "source": [
    "# Check the test set\n",
    "test.isna().mean()"
   ]
  },
  {
   "cell_type": "code",
   "execution_count": 104,
   "metadata": {},
   "outputs": [],
   "source": [
    "# ======== Select the columns ========\n",
    "\n",
    "COLS_TO_KEEP = [\n",
    "    'Price', \n",
    "    'VehicleType', \n",
    "    'RegistrationYear', \n",
    "    'Gearbox', \n",
    "    'Power', \n",
    "    'Model',\n",
    "    'Kilometer',\n",
    "    'FuelType',\n",
    "    'Brand',\n",
    "    'Repaired'\n",
    "]"
   ]
  },
  {
   "cell_type": "code",
   "execution_count": 105,
   "metadata": {},
   "outputs": [],
   "source": [
    "# Custom transformers for the test set preprocessing\n",
    "\n",
    "class FeatureDropper(BaseEstimator, TransformerMixin):\n",
    "    def __init__(self, columns_to_keep: list[str]):\n",
    "        self.columns_to_keep = columns_to_keep\n",
    "    \n",
    "    def fit(self, X: pd.DataFrame, y=None):\n",
    "        return self\n",
    "\n",
    "    def transform(self, X: pd.DataFrame):\n",
    "        return X[self.columns_to_keep]\n",
    "\n",
    "\n",
    "class FillMissing(BaseEstimator, TransformerMixin):\n",
    "    def fit(self, X: pd.DataFrame, y=None):\n",
    "        return self\n",
    "\n",
    "    def transform(self, X: pd.DataFrame) -> pd.DataFrame:\n",
    "        X = X.copy()\n",
    "        X['Repaired'] = X['Repaired'].fillna('unknown')\n",
    "        X['Model'] = X['Model'].fillna('other')\n",
    "        X['Gearbox'] = X['Gearbox'].fillna('unknown')\n",
    "        return X\n",
    "\n",
    "\n",
    "class MyFuelTransformer(BaseEstimator, TransformerMixin):\n",
    "    def fit(self, X: pd.DataFrame, y=None):\n",
    "        return self\n",
    "    \n",
    "    def transform(self, X: pd.DataFrame) -> pd.DataFrame:\n",
    "        X = X.copy()\n",
    "        X['FuelType'] = X['FuelType'].replace({'petrol': 'gasoline'}).apply(\n",
    "            lambda x: 'gasoline' if x == 'gasoline' else 'other'\n",
    "        )\n",
    "        return X\n",
    "\n",
    "\n",
    "class MyVehicleTypeTransformer(BaseEstimator, TransformerMixin):\n",
    "    def fit(self, X: pd.DataFrame, y=None):\n",
    "        return self\n",
    "    \n",
    "    def transform(self, X: pd.DataFrame) -> pd.DataFrame:\n",
    "        X = X.copy()\n",
    "        # Compute the most common VehicleType for each Model\n",
    "        most_common_vehicle_type = (\n",
    "            X.groupby('Model')['VehicleType']\n",
    "            .agg(lambda x: x.mode().iloc[0] if not x.mode().empty else None)\n",
    "            .reset_index()\n",
    "            .rename(columns={'VehicleType': 'MostCommonVehicleType'})\n",
    "        )\n",
    "\n",
    "        # Merge the most common VehicleType back into the original DataFrame\n",
    "        X = X.merge(most_common_vehicle_type, how='left', on='Model')\n",
    "        X['VehicleType'] = X['VehicleType'].fillna(X['MostCommonVehicleType'])\n",
    "        X.drop(columns=['MostCommonVehicleType'], inplace=True)  # Clean up auxiliary column\n",
    "        return X"
   ]
  },
  {
   "cell_type": "code",
   "execution_count": 106,
   "metadata": {},
   "outputs": [],
   "source": [
    "# Pipeline for test set preprocessing\n",
    "\n",
    "test_transformer = Pipeline(steps=[\n",
    "    ('dropper', FeatureDropper(columns_to_keep=COLS_TO_KEEP)),\n",
    "    ('missing', FillMissing()),\n",
    "    ('fuel', MyFuelTransformer()),\n",
    "    ('vehicle', MyVehicleTypeTransformer())\n",
    "])"
   ]
  },
  {
   "cell_type": "code",
   "execution_count": 107,
   "metadata": {},
   "outputs": [],
   "source": [
    "# Preprocess the test set\n",
    "\n",
    "test = test_transformer.fit_transform(test)"
   ]
  },
  {
   "cell_type": "code",
   "execution_count": 108,
   "metadata": {},
   "outputs": [],
   "source": [
    "# ======= Features =======\n",
    "TARGET = 'Price'\n",
    "\n",
    "CAT_FEATURES = (\n",
    "    test.drop(TARGET, axis=1)\n",
    "    .select_dtypes(include='object')\n",
    "    .columns\n",
    "    .to_list()\n",
    ")\n",
    "\n",
    "# ======= Convert to Categorical Type =======\n",
    "for cat in CAT_FEATURES:\n",
    "    test[cat] = test[cat].astype('category')"
   ]
  },
  {
   "cell_type": "code",
   "execution_count": 109,
   "metadata": {},
   "outputs": [],
   "source": [
    "# ======= Split into Train and Test Sets =======\n",
    "X_test = test.drop('Price', axis=1)\n",
    "y_test = test['Price']"
   ]
  },
  {
   "cell_type": "code",
   "execution_count": 110,
   "metadata": {},
   "outputs": [],
   "source": [
    "# Predictions on the test set\n",
    "predictions = search_gb.predict(X_test)"
   ]
  },
  {
   "cell_type": "code",
   "execution_count": 111,
   "metadata": {},
   "outputs": [
    {
     "data": {
      "text/plain": [
       "1850.6737921949496"
      ]
     },
     "execution_count": 111,
     "metadata": {},
     "output_type": "execute_result"
    }
   ],
   "source": [
    "rmse_test = root_mean_squared_error(y_pred=predictions, y_true=y_test)\n",
    "rmse_test "
   ]
  },
  {
   "cell_type": "markdown",
   "metadata": {},
   "source": [
    "- The RMSE on the test set perfectly meets the Client criteria."
   ]
  },
  {
   "cell_type": "markdown",
   "metadata": {},
   "source": [
    "**Conclusion**\n",
    "\n",
    "- This project successfully evaluated multiple machine learning models — linear regression, decision tree, and LightGBM - to find the most suitable model for predicting car market values in a used car sales application. \n",
    "\n",
    "- Among these, the LightGBM model emerged as the best performer, achieving a low RMSE of 1624, which indicates its superior accuracy in estimating car prices.\n",
    "\n",
    "- This result meets the project's primary success criteria of high prediction quality, ensuring users can trust the model's price assessments. \n",
    "\n",
    "- Additionally, LightGBM's efficient training and fast prediction capabilities allow for regular model updates as market data evolves, maintaining relevance and responsiveness for users seeking accurate, real-time valuations. "
   ]
  }
 ],
 "metadata": {
  "colab": {
   "provenance": []
  },
  "kernelspec": {
   "display_name": "Python 3 (ipykernel)",
   "language": "python",
   "name": "python3"
  },
  "language_info": {
   "codemirror_mode": {
    "name": "ipython",
    "version": 3
   },
   "file_extension": ".py",
   "mimetype": "text/x-python",
   "name": "python",
   "nbconvert_exporter": "python",
   "pygments_lexer": "ipython3",
   "version": "3.9.5"
  },
  "toc": {
   "base_numbering": 1,
   "nav_menu": {},
   "number_sections": true,
   "sideBar": true,
   "skip_h1_title": true,
   "title_cell": "Table of Contents",
   "title_sidebar": "Contents",
   "toc_cell": false,
   "toc_position": {},
   "toc_section_display": true,
   "toc_window_display": false
  }
 },
 "nbformat": 4,
 "nbformat_minor": 1
}
