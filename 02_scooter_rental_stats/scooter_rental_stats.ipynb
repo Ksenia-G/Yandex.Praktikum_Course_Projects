{
 "cells": [
  {
   "cell_type": "markdown",
   "metadata": {},
   "source": [
    "## Статистический анализ данных сервиса аренды самокатов GoFast"
   ]
  },
  {
   "cell_type": "markdown",
   "metadata": {},
   "source": [
    "В данном проекте буду исследованы данные сервиса проката самокатов GoFast, в том числе: \n",
    "- данные о пользователях, \n",
    "- данные о совершённых поездках,\n",
    "- условиях подписки.\n",
    "\n",
    "Цель проекта изучить полученные данные, провести предобработку при необходимости, визуализивровать ключевые параметры, а также проверить следующие гипотезы:\n",
    "- Тратят ли пользователи с подпиской больше времени на поездки?\n",
    "- Верно ли, что среднее расстояние, которое проезжают пользователи с подпиской за одну поездку, не превышает 3130 метров?\n",
    "- Будет ли помесячная выручка от пользователей с подпиской по месяцам выше, чем выручка от пользователей без подписки?"
   ]
  },
  {
   "cell_type": "code",
   "execution_count": 100,
   "metadata": {},
   "outputs": [],
   "source": [
    "import pandas as pd\n",
    "import numpy as np\n",
    "import matplotlib.pyplot as plt\n",
    "import seaborn as sns\n",
    "import math\n",
    "from scipy import stats as st\n",
    "from math import factorial\n",
    "from scipy.stats import binom, norm\n",
    "\n",
    "pd.options.display.float_format = '{:,.0f}'.format"
   ]
  },
  {
   "cell_type": "markdown",
   "metadata": {},
   "source": [
    "#### 1. Загрузка данных"
   ]
  },
  {
   "cell_type": "code",
   "execution_count": 101,
   "metadata": {},
   "outputs": [],
   "source": [
    "#информация о пользователях, их поездках и подписках\n",
    "users = pd.read_csv('https://users_go.csv')\n",
    "rides = pd.read_csv('https://rides_go.csv')\n",
    "subscriptions = pd.read_csv('https://subscriptions_go.csv')"
   ]
  },
  {
   "cell_type": "markdown",
   "metadata": {},
   "source": [
    "#### 2. Предобработка данных"
   ]
  },
  {
   "cell_type": "code",
   "execution_count": 102,
   "metadata": {},
   "outputs": [
    {
     "data": {
      "text/html": [
       "<div>\n",
       "<style scoped>\n",
       "    .dataframe tbody tr th:only-of-type {\n",
       "        vertical-align: middle;\n",
       "    }\n",
       "\n",
       "    .dataframe tbody tr th {\n",
       "        vertical-align: top;\n",
       "    }\n",
       "\n",
       "    .dataframe thead th {\n",
       "        text-align: right;\n",
       "    }\n",
       "</style>\n",
       "<table border=\"1\" class=\"dataframe\">\n",
       "  <thead>\n",
       "    <tr style=\"text-align: right;\">\n",
       "      <th></th>\n",
       "      <th>user_id</th>\n",
       "      <th>name</th>\n",
       "      <th>age</th>\n",
       "      <th>city</th>\n",
       "      <th>subscription_type</th>\n",
       "    </tr>\n",
       "  </thead>\n",
       "  <tbody>\n",
       "    <tr>\n",
       "      <th>0</th>\n",
       "      <td>1</td>\n",
       "      <td>Кира</td>\n",
       "      <td>22</td>\n",
       "      <td>Тюмень</td>\n",
       "      <td>ultra</td>\n",
       "    </tr>\n",
       "    <tr>\n",
       "      <th>1</th>\n",
       "      <td>2</td>\n",
       "      <td>Станислав</td>\n",
       "      <td>31</td>\n",
       "      <td>Омск</td>\n",
       "      <td>ultra</td>\n",
       "    </tr>\n",
       "    <tr>\n",
       "      <th>2</th>\n",
       "      <td>3</td>\n",
       "      <td>Алексей</td>\n",
       "      <td>20</td>\n",
       "      <td>Москва</td>\n",
       "      <td>ultra</td>\n",
       "    </tr>\n",
       "    <tr>\n",
       "      <th>3</th>\n",
       "      <td>4</td>\n",
       "      <td>Константин</td>\n",
       "      <td>26</td>\n",
       "      <td>Ростов-на-Дону</td>\n",
       "      <td>ultra</td>\n",
       "    </tr>\n",
       "    <tr>\n",
       "      <th>4</th>\n",
       "      <td>5</td>\n",
       "      <td>Адель</td>\n",
       "      <td>28</td>\n",
       "      <td>Омск</td>\n",
       "      <td>ultra</td>\n",
       "    </tr>\n",
       "  </tbody>\n",
       "</table>\n",
       "</div>"
      ],
      "text/plain": [
       "   user_id        name  age            city subscription_type\n",
       "0        1        Кира   22          Тюмень             ultra\n",
       "1        2   Станислав   31            Омск             ultra\n",
       "2        3     Алексей   20          Москва             ultra\n",
       "3        4  Константин   26  Ростов-на-Дону             ultra\n",
       "4        5       Адель   28            Омск             ultra"
      ]
     },
     "execution_count": 102,
     "metadata": {},
     "output_type": "execute_result"
    }
   ],
   "source": [
    "users.head()"
   ]
  },
  {
   "cell_type": "code",
   "execution_count": 103,
   "metadata": {},
   "outputs": [
    {
     "name": "stdout",
     "output_type": "stream",
     "text": [
      "<class 'pandas.core.frame.DataFrame'>\n",
      "RangeIndex: 1565 entries, 0 to 1564\n",
      "Data columns (total 5 columns):\n",
      " #   Column             Non-Null Count  Dtype \n",
      "---  ------             --------------  ----- \n",
      " 0   user_id            1565 non-null   int64 \n",
      " 1   name               1565 non-null   object\n",
      " 2   age                1565 non-null   int64 \n",
      " 3   city               1565 non-null   object\n",
      " 4   subscription_type  1565 non-null   object\n",
      "dtypes: int64(2), object(3)\n",
      "memory usage: 61.3+ KB\n"
     ]
    }
   ],
   "source": [
    "users.info()"
   ]
  },
  {
   "cell_type": "code",
   "execution_count": 104,
   "metadata": {},
   "outputs": [
    {
     "data": {
      "text/plain": [
       "np.int64(31)"
      ]
     },
     "execution_count": 104,
     "metadata": {},
     "output_type": "execute_result"
    }
   ],
   "source": [
    "users.duplicated().sum()"
   ]
  },
  {
   "cell_type": "markdown",
   "metadata": {},
   "source": [
    "Пропусков в данных нет, типы данных указаны корректно, но есть дубликаты. Уберём их."
   ]
  },
  {
   "cell_type": "code",
   "execution_count": 105,
   "metadata": {},
   "outputs": [
    {
     "data": {
      "text/plain": [
       "np.int64(0)"
      ]
     },
     "execution_count": 105,
     "metadata": {},
     "output_type": "execute_result"
    }
   ],
   "source": [
    "users = users.drop_duplicates()\n",
    "users.duplicated().sum()"
   ]
  },
  {
   "cell_type": "code",
   "execution_count": 106,
   "metadata": {},
   "outputs": [],
   "source": [
    "# Может быть наличие пробелов в начале/конце строковых значений, обработаем это.\n",
    "for column in users.columns:\n",
    "    if users[column].dtype == 'object':\n",
    "        users[column] = users[column].str.strip()"
   ]
  },
  {
   "cell_type": "code",
   "execution_count": 107,
   "metadata": {},
   "outputs": [
    {
     "data": {
      "text/html": [
       "<div>\n",
       "<style scoped>\n",
       "    .dataframe tbody tr th:only-of-type {\n",
       "        vertical-align: middle;\n",
       "    }\n",
       "\n",
       "    .dataframe tbody tr th {\n",
       "        vertical-align: top;\n",
       "    }\n",
       "\n",
       "    .dataframe thead th {\n",
       "        text-align: right;\n",
       "    }\n",
       "</style>\n",
       "<table border=\"1\" class=\"dataframe\">\n",
       "  <thead>\n",
       "    <tr style=\"text-align: right;\">\n",
       "      <th></th>\n",
       "      <th>user_id</th>\n",
       "      <th>distance</th>\n",
       "      <th>duration</th>\n",
       "      <th>date</th>\n",
       "    </tr>\n",
       "  </thead>\n",
       "  <tbody>\n",
       "    <tr>\n",
       "      <th>0</th>\n",
       "      <td>1</td>\n",
       "      <td>4,410</td>\n",
       "      <td>26</td>\n",
       "      <td>2021-01-01</td>\n",
       "    </tr>\n",
       "    <tr>\n",
       "      <th>1</th>\n",
       "      <td>1</td>\n",
       "      <td>2,618</td>\n",
       "      <td>16</td>\n",
       "      <td>2021-01-18</td>\n",
       "    </tr>\n",
       "    <tr>\n",
       "      <th>2</th>\n",
       "      <td>1</td>\n",
       "      <td>754</td>\n",
       "      <td>6</td>\n",
       "      <td>2021-04-20</td>\n",
       "    </tr>\n",
       "    <tr>\n",
       "      <th>3</th>\n",
       "      <td>1</td>\n",
       "      <td>2,695</td>\n",
       "      <td>19</td>\n",
       "      <td>2021-08-11</td>\n",
       "    </tr>\n",
       "    <tr>\n",
       "      <th>4</th>\n",
       "      <td>1</td>\n",
       "      <td>4,029</td>\n",
       "      <td>26</td>\n",
       "      <td>2021-08-28</td>\n",
       "    </tr>\n",
       "  </tbody>\n",
       "</table>\n",
       "</div>"
      ],
      "text/plain": [
       "   user_id  distance  duration        date\n",
       "0        1     4,410        26  2021-01-01\n",
       "1        1     2,618        16  2021-01-18\n",
       "2        1       754         6  2021-04-20\n",
       "3        1     2,695        19  2021-08-11\n",
       "4        1     4,029        26  2021-08-28"
      ]
     },
     "execution_count": 107,
     "metadata": {},
     "output_type": "execute_result"
    }
   ],
   "source": [
    "rides.head()"
   ]
  },
  {
   "cell_type": "code",
   "execution_count": 108,
   "metadata": {},
   "outputs": [
    {
     "name": "stdout",
     "output_type": "stream",
     "text": [
      "<class 'pandas.core.frame.DataFrame'>\n",
      "RangeIndex: 18068 entries, 0 to 18067\n",
      "Data columns (total 4 columns):\n",
      " #   Column    Non-Null Count  Dtype  \n",
      "---  ------    --------------  -----  \n",
      " 0   user_id   18068 non-null  int64  \n",
      " 1   distance  18068 non-null  float64\n",
      " 2   duration  18068 non-null  float64\n",
      " 3   date      18068 non-null  object \n",
      "dtypes: float64(2), int64(1), object(1)\n",
      "memory usage: 564.8+ KB\n"
     ]
    }
   ],
   "source": [
    "rides.info()"
   ]
  },
  {
   "cell_type": "code",
   "execution_count": 109,
   "metadata": {},
   "outputs": [],
   "source": [
    "# Не корректно указан формат даты\n",
    "rides['date'] = pd.to_datetime(rides['date'])\n",
    "# Создаем новый столбец с номером месяца\n",
    "rides['month_number'] = rides['date'].dt.month"
   ]
  },
  {
   "cell_type": "code",
   "execution_count": 110,
   "metadata": {},
   "outputs": [
    {
     "data": {
      "text/html": [
       "<div>\n",
       "<style scoped>\n",
       "    .dataframe tbody tr th:only-of-type {\n",
       "        vertical-align: middle;\n",
       "    }\n",
       "\n",
       "    .dataframe tbody tr th {\n",
       "        vertical-align: top;\n",
       "    }\n",
       "\n",
       "    .dataframe thead th {\n",
       "        text-align: right;\n",
       "    }\n",
       "</style>\n",
       "<table border=\"1\" class=\"dataframe\">\n",
       "  <thead>\n",
       "    <tr style=\"text-align: right;\">\n",
       "      <th></th>\n",
       "      <th>user_id</th>\n",
       "      <th>distance</th>\n",
       "      <th>duration</th>\n",
       "      <th>date</th>\n",
       "      <th>month_number</th>\n",
       "    </tr>\n",
       "  </thead>\n",
       "  <tbody>\n",
       "    <tr>\n",
       "      <th>0</th>\n",
       "      <td>1</td>\n",
       "      <td>4,410</td>\n",
       "      <td>26</td>\n",
       "      <td>2021-01-01</td>\n",
       "      <td>1</td>\n",
       "    </tr>\n",
       "    <tr>\n",
       "      <th>1</th>\n",
       "      <td>1</td>\n",
       "      <td>2,618</td>\n",
       "      <td>16</td>\n",
       "      <td>2021-01-18</td>\n",
       "      <td>1</td>\n",
       "    </tr>\n",
       "    <tr>\n",
       "      <th>2</th>\n",
       "      <td>1</td>\n",
       "      <td>754</td>\n",
       "      <td>6</td>\n",
       "      <td>2021-04-20</td>\n",
       "      <td>4</td>\n",
       "    </tr>\n",
       "    <tr>\n",
       "      <th>3</th>\n",
       "      <td>1</td>\n",
       "      <td>2,695</td>\n",
       "      <td>19</td>\n",
       "      <td>2021-08-11</td>\n",
       "      <td>8</td>\n",
       "    </tr>\n",
       "    <tr>\n",
       "      <th>4</th>\n",
       "      <td>1</td>\n",
       "      <td>4,029</td>\n",
       "      <td>26</td>\n",
       "      <td>2021-08-28</td>\n",
       "      <td>8</td>\n",
       "    </tr>\n",
       "  </tbody>\n",
       "</table>\n",
       "</div>"
      ],
      "text/plain": [
       "   user_id  distance  duration       date  month_number\n",
       "0        1     4,410        26 2021-01-01             1\n",
       "1        1     2,618        16 2021-01-18             1\n",
       "2        1       754         6 2021-04-20             4\n",
       "3        1     2,695        19 2021-08-11             8\n",
       "4        1     4,029        26 2021-08-28             8"
      ]
     },
     "execution_count": 110,
     "metadata": {},
     "output_type": "execute_result"
    }
   ],
   "source": [
    "rides.head()"
   ]
  },
  {
   "cell_type": "code",
   "execution_count": 111,
   "metadata": {},
   "outputs": [
    {
     "data": {
      "text/plain": [
       "np.int64(0)"
      ]
     },
     "execution_count": 111,
     "metadata": {},
     "output_type": "execute_result"
    }
   ],
   "source": [
    "rides.duplicated().sum()"
   ]
  },
  {
   "cell_type": "code",
   "execution_count": 112,
   "metadata": {},
   "outputs": [
    {
     "data": {
      "text/html": [
       "<div>\n",
       "<style scoped>\n",
       "    .dataframe tbody tr th:only-of-type {\n",
       "        vertical-align: middle;\n",
       "    }\n",
       "\n",
       "    .dataframe tbody tr th {\n",
       "        vertical-align: top;\n",
       "    }\n",
       "\n",
       "    .dataframe thead th {\n",
       "        text-align: right;\n",
       "    }\n",
       "</style>\n",
       "<table border=\"1\" class=\"dataframe\">\n",
       "  <thead>\n",
       "    <tr style=\"text-align: right;\">\n",
       "      <th></th>\n",
       "      <th>subscription_type</th>\n",
       "      <th>minute_price</th>\n",
       "      <th>start_ride_price</th>\n",
       "      <th>subscription_fee</th>\n",
       "    </tr>\n",
       "  </thead>\n",
       "  <tbody>\n",
       "    <tr>\n",
       "      <th>0</th>\n",
       "      <td>free</td>\n",
       "      <td>8</td>\n",
       "      <td>50</td>\n",
       "      <td>0</td>\n",
       "    </tr>\n",
       "    <tr>\n",
       "      <th>1</th>\n",
       "      <td>ultra</td>\n",
       "      <td>6</td>\n",
       "      <td>0</td>\n",
       "      <td>199</td>\n",
       "    </tr>\n",
       "  </tbody>\n",
       "</table>\n",
       "</div>"
      ],
      "text/plain": [
       "  subscription_type  minute_price  start_ride_price  subscription_fee\n",
       "0              free             8                50                 0\n",
       "1             ultra             6                 0               199"
      ]
     },
     "execution_count": 112,
     "metadata": {},
     "output_type": "execute_result"
    }
   ],
   "source": [
    "subscriptions.head()"
   ]
  },
  {
   "cell_type": "code",
   "execution_count": 113,
   "metadata": {},
   "outputs": [
    {
     "name": "stdout",
     "output_type": "stream",
     "text": [
      "<class 'pandas.core.frame.DataFrame'>\n",
      "RangeIndex: 2 entries, 0 to 1\n",
      "Data columns (total 4 columns):\n",
      " #   Column             Non-Null Count  Dtype \n",
      "---  ------             --------------  ----- \n",
      " 0   subscription_type  2 non-null      object\n",
      " 1   minute_price       2 non-null      int64 \n",
      " 2   start_ride_price   2 non-null      int64 \n",
      " 3   subscription_fee   2 non-null      int64 \n",
      "dtypes: int64(3), object(1)\n",
      "memory usage: 192.0+ bytes\n"
     ]
    }
   ],
   "source": [
    "subscriptions.info()"
   ]
  },
  {
   "cell_type": "code",
   "execution_count": 114,
   "metadata": {},
   "outputs": [],
   "source": [
    "# Может быть наличие пробелов в начале/конце строковых значений, обработаем это.\n",
    "for column in subscriptions.columns:\n",
    "    if subscriptions[column].dtype == 'object':\n",
    "        subscriptions[column] = subscriptions[column].str.strip()"
   ]
  },
  {
   "cell_type": "markdown",
   "metadata": {},
   "source": [
    "Результаты предобработки данных:\n",
    "- пропусков в данных не обнаружено,\n",
    "- обработано возможное наличик пробелов в начале/конце строковых значений,\n",
    "- изменён формат даты в датасете с поездками,\n",
    "- найдены и устранены дубликаты в датасете с пользователями."
   ]
  },
  {
   "cell_type": "markdown",
   "metadata": {},
   "source": [
    "#### 3. Исследовательский анализ данных\n",
    "Описание и визуализация общей информации о пользователях и поездках"
   ]
  },
  {
   "cell_type": "markdown",
   "metadata": {},
   "source": [
    "3.1 Частота встречаемости городов"
   ]
  },
  {
   "cell_type": "code",
   "execution_count": 115,
   "metadata": {},
   "outputs": [
    {
     "data": {
      "text/html": [
       "<div>\n",
       "<style scoped>\n",
       "    .dataframe tbody tr th:only-of-type {\n",
       "        vertical-align: middle;\n",
       "    }\n",
       "\n",
       "    .dataframe tbody tr th {\n",
       "        vertical-align: top;\n",
       "    }\n",
       "\n",
       "    .dataframe thead th {\n",
       "        text-align: right;\n",
       "    }\n",
       "</style>\n",
       "<table border=\"1\" class=\"dataframe\">\n",
       "  <thead>\n",
       "    <tr style=\"text-align: right;\">\n",
       "      <th></th>\n",
       "      <th>frequency</th>\n",
       "    </tr>\n",
       "    <tr>\n",
       "      <th>city</th>\n",
       "      <th></th>\n",
       "    </tr>\n",
       "  </thead>\n",
       "  <tbody>\n",
       "    <tr>\n",
       "      <th>Москва</th>\n",
       "      <td>168</td>\n",
       "    </tr>\n",
       "    <tr>\n",
       "      <th>Тюмень</th>\n",
       "      <td>180</td>\n",
       "    </tr>\n",
       "    <tr>\n",
       "      <th>Омск</th>\n",
       "      <td>183</td>\n",
       "    </tr>\n",
       "    <tr>\n",
       "      <th>Сочи</th>\n",
       "      <td>189</td>\n",
       "    </tr>\n",
       "    <tr>\n",
       "      <th>Краснодар</th>\n",
       "      <td>193</td>\n",
       "    </tr>\n",
       "    <tr>\n",
       "      <th>Ростов-на-Дону</th>\n",
       "      <td>198</td>\n",
       "    </tr>\n",
       "    <tr>\n",
       "      <th>Екатеринбург</th>\n",
       "      <td>204</td>\n",
       "    </tr>\n",
       "    <tr>\n",
       "      <th>Пятигорск</th>\n",
       "      <td>219</td>\n",
       "    </tr>\n",
       "  </tbody>\n",
       "</table>\n",
       "</div>"
      ],
      "text/plain": [
       "                frequency\n",
       "city                     \n",
       "Москва                168\n",
       "Тюмень                180\n",
       "Омск                  183\n",
       "Сочи                  189\n",
       "Краснодар             193\n",
       "Ростов-на-Дону        198\n",
       "Екатеринбург          204\n",
       "Пятигорск             219"
      ]
     },
     "execution_count": 115,
     "metadata": {},
     "output_type": "execute_result"
    }
   ],
   "source": [
    "city_frequency = users.groupby('city')['city'].agg(frequency='count').sort_values(by='frequency')\n",
    "city_frequency"
   ]
  },
  {
   "cell_type": "code",
   "execution_count": 116,
   "metadata": {},
   "outputs": [
    {
     "data": {
      "image/png": "[encoded data removed]",
      "text/plain": [
       "<Figure size 640x480 with 1 Axes>"
      ]
     },
     "metadata": {},
     "output_type": "display_data"
    }
   ],
   "source": [
    "city_frequency.plot(kind='barh', color='lightgreen')\n",
    "\n",
    "plt.xlabel('Название города')\n",
    "plt.ylabel('Количество')\n",
    "plt.title('Частота встречаемости городов')\n",
    "plt.show()\n"
   ]
  },
  {
   "cell_type": "markdown",
   "metadata": {},
   "source": [
    "Видно, что сервис наиболее популярен в Пятигорске, а вот Москва заняла последнее место."
   ]
  },
  {
   "cell_type": "markdown",
   "metadata": {},
   "source": [
    "3.2 Соотношение пользователей с подпиской и без подписки"
   ]
  },
  {
   "cell_type": "code",
   "execution_count": 117,
   "metadata": {},
   "outputs": [
    {
     "data": {
      "text/html": [
       "<div>\n",
       "<style scoped>\n",
       "    .dataframe tbody tr th:only-of-type {\n",
       "        vertical-align: middle;\n",
       "    }\n",
       "\n",
       "    .dataframe tbody tr th {\n",
       "        vertical-align: top;\n",
       "    }\n",
       "\n",
       "    .dataframe thead th {\n",
       "        text-align: right;\n",
       "    }\n",
       "</style>\n",
       "<table border=\"1\" class=\"dataframe\">\n",
       "  <thead>\n",
       "    <tr style=\"text-align: right;\">\n",
       "      <th></th>\n",
       "      <th>number_of_users</th>\n",
       "      <th>ratio (%)</th>\n",
       "    </tr>\n",
       "    <tr>\n",
       "      <th>subscription_type</th>\n",
       "      <th></th>\n",
       "      <th></th>\n",
       "    </tr>\n",
       "  </thead>\n",
       "  <tbody>\n",
       "    <tr>\n",
       "      <th>free</th>\n",
       "      <td>835</td>\n",
       "      <td>54</td>\n",
       "    </tr>\n",
       "    <tr>\n",
       "      <th>ultra</th>\n",
       "      <td>699</td>\n",
       "      <td>46</td>\n",
       "    </tr>\n",
       "  </tbody>\n",
       "</table>\n",
       "</div>"
      ],
      "text/plain": [
       "                   number_of_users  ratio (%)\n",
       "subscription_type                            \n",
       "free                           835         54\n",
       "ultra                          699         46"
      ]
     },
     "execution_count": 117,
     "metadata": {},
     "output_type": "execute_result"
    }
   ],
   "source": [
    "subscription_type = users.groupby('subscription_type')['user_id'].agg(number_of_users='count')\n",
    "subscription_type['ratio (%)'] = round(subscription_type['number_of_users']/len(users)*100)\n",
    "subscription_type"
   ]
  },
  {
   "cell_type": "code",
   "execution_count": 118,
   "metadata": {
    "scrolled": true
   },
   "outputs": [
    {
     "data": {
      "image/png": "[encoded data removed]",
      "text/plain": [
       "<Figure size 640x480 with 1 Axes>"
      ]
     },
     "metadata": {},
     "output_type": "display_data"
    }
   ],
   "source": [
    "labels = subscription_type.index\n",
    "sizes = subscription_type['ratio (%)']\n",
    "\n",
    "plt.pie(sizes, labels=labels, autopct='%1.1f%%', startangle=140)\n",
    "plt.title('Соотношение пользователей с подпиской и без')\n",
    "plt.show()"
   ]
  },
  {
   "cell_type": "markdown",
   "metadata": {},
   "source": [
    "3.3 Возраст пользователей"
   ]
  },
  {
   "cell_type": "code",
   "execution_count": 119,
   "metadata": {},
   "outputs": [
    {
     "data": {
      "text/html": [
       "<div>\n",
       "<style scoped>\n",
       "    .dataframe tbody tr th:only-of-type {\n",
       "        vertical-align: middle;\n",
       "    }\n",
       "\n",
       "    .dataframe tbody tr th {\n",
       "        vertical-align: top;\n",
       "    }\n",
       "\n",
       "    .dataframe thead th {\n",
       "        text-align: right;\n",
       "    }\n",
       "</style>\n",
       "<table border=\"1\" class=\"dataframe\">\n",
       "  <thead>\n",
       "    <tr style=\"text-align: right;\">\n",
       "      <th></th>\n",
       "      <th>user_id</th>\n",
       "      <th>name</th>\n",
       "      <th>age</th>\n",
       "      <th>city</th>\n",
       "      <th>subscription_type</th>\n",
       "    </tr>\n",
       "  </thead>\n",
       "  <tbody>\n",
       "    <tr>\n",
       "      <th>0</th>\n",
       "      <td>1</td>\n",
       "      <td>Кира</td>\n",
       "      <td>22</td>\n",
       "      <td>Тюмень</td>\n",
       "      <td>ultra</td>\n",
       "    </tr>\n",
       "    <tr>\n",
       "      <th>1</th>\n",
       "      <td>2</td>\n",
       "      <td>Станислав</td>\n",
       "      <td>31</td>\n",
       "      <td>Омск</td>\n",
       "      <td>ultra</td>\n",
       "    </tr>\n",
       "    <tr>\n",
       "      <th>2</th>\n",
       "      <td>3</td>\n",
       "      <td>Алексей</td>\n",
       "      <td>20</td>\n",
       "      <td>Москва</td>\n",
       "      <td>ultra</td>\n",
       "    </tr>\n",
       "    <tr>\n",
       "      <th>3</th>\n",
       "      <td>4</td>\n",
       "      <td>Константин</td>\n",
       "      <td>26</td>\n",
       "      <td>Ростов-на-Дону</td>\n",
       "      <td>ultra</td>\n",
       "    </tr>\n",
       "    <tr>\n",
       "      <th>4</th>\n",
       "      <td>5</td>\n",
       "      <td>Адель</td>\n",
       "      <td>28</td>\n",
       "      <td>Омск</td>\n",
       "      <td>ultra</td>\n",
       "    </tr>\n",
       "  </tbody>\n",
       "</table>\n",
       "</div>"
      ],
      "text/plain": [
       "   user_id        name  age            city subscription_type\n",
       "0        1        Кира   22          Тюмень             ultra\n",
       "1        2   Станислав   31            Омск             ultra\n",
       "2        3     Алексей   20          Москва             ultra\n",
       "3        4  Константин   26  Ростов-на-Дону             ultra\n",
       "4        5       Адель   28            Омск             ultra"
      ]
     },
     "execution_count": 119,
     "metadata": {},
     "output_type": "execute_result"
    }
   ],
   "source": [
    "users.head()"
   ]
  },
  {
   "cell_type": "code",
   "execution_count": 120,
   "metadata": {
    "scrolled": true
   },
   "outputs": [
    {
     "name": "stdout",
     "output_type": "stream",
     "text": [
      "Минимальный возраст пользователей: 12\n",
      "Максимальный возраст пользователей: 43\n",
      "Средний возраст: 25.0\n"
     ]
    }
   ],
   "source": [
    "min_age = users['age'].min()\n",
    "max_age = users['age'].max()\n",
    "median_age = users['age'].median()\n",
    "print(\n",
    "f'Минимальный возраст пользователей: {min_age}\\n\\\n",
    "Максимальный возраст пользователей: {max_age}\\n\\\n",
    "Средний возраст: {median_age}')"
   ]
  },
  {
   "cell_type": "code",
   "execution_count": 121,
   "metadata": {},
   "outputs": [
    {
     "data": {
      "image/png": "[encoded data removed]",
      "text/plain": [
       "<Figure size 640x480 with 1 Axes>"
      ]
     },
     "metadata": {},
     "output_type": "display_data"
    }
   ],
   "source": [
    "plt.hist(users['age'], bins=31, color='lightgreen') # кол-во корзин по числу возрастов 43-12\n",
    "plt.title('Распределение возрастов пользователей')\n",
    "plt.xlabel('Возраст')\n",
    "plt.ylabel('Частота')\n",
    "plt.show()"
   ]
  },
  {
   "cell_type": "markdown",
   "metadata": {},
   "source": [
    "Видно, что сервис наиболее популярен у пользователей 20-30 лет. "
   ]
  },
  {
   "cell_type": "markdown",
   "metadata": {},
   "source": [
    "3.4 Расстояние, которое пользователь преодолел за одну поездку"
   ]
  },
  {
   "cell_type": "code",
   "execution_count": 122,
   "metadata": {},
   "outputs": [
    {
     "data": {
      "text/plain": [
       "count   18,068\n",
       "mean     3,071\n",
       "std      1,117\n",
       "min          1\n",
       "25%      2,543\n",
       "50%      3,134\n",
       "75%      3,776\n",
       "max      7,211\n",
       "Name: distance, dtype: float64"
      ]
     },
     "execution_count": 122,
     "metadata": {},
     "output_type": "execute_result"
    }
   ],
   "source": [
    "# Посмотрим общую информацию по рассточниям\n",
    "rides['distance'].describe()"
   ]
  },
  {
   "cell_type": "code",
   "execution_count": 123,
   "metadata": {},
   "outputs": [
    {
     "data": {
      "text/html": [
       "<div>\n",
       "<style scoped>\n",
       "    .dataframe tbody tr th:only-of-type {\n",
       "        vertical-align: middle;\n",
       "    }\n",
       "\n",
       "    .dataframe tbody tr th {\n",
       "        vertical-align: top;\n",
       "    }\n",
       "\n",
       "    .dataframe thead th {\n",
       "        text-align: right;\n",
       "    }\n",
       "</style>\n",
       "<table border=\"1\" class=\"dataframe\">\n",
       "  <thead>\n",
       "    <tr style=\"text-align: right;\">\n",
       "      <th></th>\n",
       "      <th>user_id</th>\n",
       "      <th>distance</th>\n",
       "      <th>duration</th>\n",
       "      <th>date</th>\n",
       "      <th>month_number</th>\n",
       "    </tr>\n",
       "  </thead>\n",
       "  <tbody>\n",
       "    <tr>\n",
       "      <th>11555</th>\n",
       "      <td>1069</td>\n",
       "      <td>1</td>\n",
       "      <td>10</td>\n",
       "      <td>2021-01-31</td>\n",
       "      <td>1</td>\n",
       "    </tr>\n",
       "  </tbody>\n",
       "</table>\n",
       "</div>"
      ],
      "text/plain": [
       "       user_id  distance  duration       date  month_number\n",
       "11555     1069         1        10 2021-01-31             1"
      ]
     },
     "execution_count": 123,
     "metadata": {},
     "output_type": "execute_result"
    }
   ],
   "source": [
    "# Странное минимальное значение\n",
    "rides.loc[rides['distance'] <= 1]"
   ]
  },
  {
   "cell_type": "code",
   "execution_count": 124,
   "metadata": {},
   "outputs": [],
   "source": [
    "# Уберу его\n",
    "rides = rides.loc[rides['distance'] > 1]"
   ]
  },
  {
   "cell_type": "code",
   "execution_count": 125,
   "metadata": {},
   "outputs": [
    {
     "name": "stdout",
     "output_type": "stream",
     "text": [
      "Минимальное расстояние поездки: 2.57 м.\n",
      "Максимальное расстояние поездки: 7211.01 м.\n",
      "Среднее расстояние за одну поездку: 3134 м.\n"
     ]
    }
   ],
   "source": [
    "min_distance = round(rides['distance'].min(), 2)\n",
    "max_distance = round(rides['distance'].max(), 2)\n",
    "median_distance = round(rides['distance'].median())\n",
    "\n",
    "print(\n",
    "f'Минимальное расстояние поездки: {min_distance} м.\\n\\\n",
    "Максимальное расстояние поездки: {max_distance} м.\\n\\\n",
    "Среднее расстояние за одну поездку: {median_distance} м.')"
   ]
  },
  {
   "cell_type": "code",
   "execution_count": 126,
   "metadata": {},
   "outputs": [
    {
     "data": {
      "image/png": "[encoded data removed]",
      "text/plain": [
       "<Figure size 640x480 with 1 Axes>"
      ]
     },
     "metadata": {},
     "output_type": "display_data"
    }
   ],
   "source": [
    "plt.hist(rides['distance'], bins=50, color='lightgreen', edgecolor='black')\n",
    "plt.title('Распределение расстояния за одну поездку')\n",
    "plt.xlabel('Расстояние (м.)')\n",
    "plt.ylabel('Частота')\n",
    "plt.show()"
   ]
  },
  {
   "cell_type": "markdown",
   "metadata": {},
   "source": [
    "Есть два пика, из чего видно, что чаще всего самокатом пользуются либо на коротких (около 600 м.), либо на длинных (около 3 км.) поездках."
   ]
  },
  {
   "cell_type": "markdown",
   "metadata": {},
   "source": [
    "3.5 Продолжительность поездок"
   ]
  },
  {
   "cell_type": "code",
   "execution_count": 127,
   "metadata": {},
   "outputs": [
    {
     "data": {
      "text/plain": [
       "count   18,067\n",
       "mean        18\n",
       "std          6\n",
       "min          0\n",
       "25%         14\n",
       "50%         18\n",
       "75%         22\n",
       "max         41\n",
       "Name: duration, dtype: float64"
      ]
     },
     "execution_count": 127,
     "metadata": {},
     "output_type": "execute_result"
    }
   ],
   "source": [
    "rides['duration'].describe()"
   ]
  },
  {
   "cell_type": "code",
   "execution_count": 128,
   "metadata": {
    "scrolled": true
   },
   "outputs": [
    {
     "data": {
      "text/html": [
       "<div>\n",
       "<style scoped>\n",
       "    .dataframe tbody tr th:only-of-type {\n",
       "        vertical-align: middle;\n",
       "    }\n",
       "\n",
       "    .dataframe tbody tr th {\n",
       "        vertical-align: top;\n",
       "    }\n",
       "\n",
       "    .dataframe thead th {\n",
       "        text-align: right;\n",
       "    }\n",
       "</style>\n",
       "<table border=\"1\" class=\"dataframe\">\n",
       "  <thead>\n",
       "    <tr style=\"text-align: right;\">\n",
       "      <th></th>\n",
       "      <th>user_id</th>\n",
       "      <th>distance</th>\n",
       "      <th>duration</th>\n",
       "      <th>date</th>\n",
       "      <th>month_number</th>\n",
       "    </tr>\n",
       "  </thead>\n",
       "  <tbody>\n",
       "    <tr>\n",
       "      <th>6531</th>\n",
       "      <td>701</td>\n",
       "      <td>4,196</td>\n",
       "      <td>0</td>\n",
       "      <td>2021-08-31</td>\n",
       "      <td>8</td>\n",
       "    </tr>\n",
       "    <tr>\n",
       "      <th>6570</th>\n",
       "      <td>704</td>\n",
       "      <td>4,831</td>\n",
       "      <td>0</td>\n",
       "      <td>2021-10-14</td>\n",
       "      <td>10</td>\n",
       "    </tr>\n",
       "    <tr>\n",
       "      <th>6680</th>\n",
       "      <td>712</td>\n",
       "      <td>4,684</td>\n",
       "      <td>0</td>\n",
       "      <td>2021-03-04</td>\n",
       "      <td>3</td>\n",
       "    </tr>\n",
       "    <tr>\n",
       "      <th>6695</th>\n",
       "      <td>713</td>\n",
       "      <td>5,216</td>\n",
       "      <td>0</td>\n",
       "      <td>2021-02-25</td>\n",
       "      <td>2</td>\n",
       "    </tr>\n",
       "    <tr>\n",
       "      <th>6768</th>\n",
       "      <td>718</td>\n",
       "      <td>5,197</td>\n",
       "      <td>0</td>\n",
       "      <td>2021-02-11</td>\n",
       "      <td>2</td>\n",
       "    </tr>\n",
       "    <tr>\n",
       "      <th>...</th>\n",
       "      <td>...</td>\n",
       "      <td>...</td>\n",
       "      <td>...</td>\n",
       "      <td>...</td>\n",
       "      <td>...</td>\n",
       "    </tr>\n",
       "    <tr>\n",
       "      <th>17004</th>\n",
       "      <td>1460</td>\n",
       "      <td>5,531</td>\n",
       "      <td>0</td>\n",
       "      <td>2021-01-19</td>\n",
       "      <td>1</td>\n",
       "    </tr>\n",
       "    <tr>\n",
       "      <th>17242</th>\n",
       "      <td>1477</td>\n",
       "      <td>6,725</td>\n",
       "      <td>0</td>\n",
       "      <td>2021-01-12</td>\n",
       "      <td>1</td>\n",
       "    </tr>\n",
       "    <tr>\n",
       "      <th>17314</th>\n",
       "      <td>1483</td>\n",
       "      <td>4,445</td>\n",
       "      <td>0</td>\n",
       "      <td>2021-03-06</td>\n",
       "      <td>3</td>\n",
       "    </tr>\n",
       "    <tr>\n",
       "      <th>17505</th>\n",
       "      <td>1496</td>\n",
       "      <td>5,723</td>\n",
       "      <td>0</td>\n",
       "      <td>2021-02-14</td>\n",
       "      <td>2</td>\n",
       "    </tr>\n",
       "    <tr>\n",
       "      <th>17909</th>\n",
       "      <td>1524</td>\n",
       "      <td>4,104</td>\n",
       "      <td>0</td>\n",
       "      <td>2021-06-18</td>\n",
       "      <td>6</td>\n",
       "    </tr>\n",
       "  </tbody>\n",
       "</table>\n",
       "<p>95 rows × 5 columns</p>\n",
       "</div>"
      ],
      "text/plain": [
       "       user_id  distance  duration       date  month_number\n",
       "6531       701     4,196         0 2021-08-31             8\n",
       "6570       704     4,831         0 2021-10-14            10\n",
       "6680       712     4,684         0 2021-03-04             3\n",
       "6695       713     5,216         0 2021-02-25             2\n",
       "6768       718     5,197         0 2021-02-11             2\n",
       "...        ...       ...       ...        ...           ...\n",
       "17004     1460     5,531         0 2021-01-19             1\n",
       "17242     1477     6,725         0 2021-01-12             1\n",
       "17314     1483     4,445         0 2021-03-06             3\n",
       "17505     1496     5,723         0 2021-02-14             2\n",
       "17909     1524     4,104         0 2021-06-18             6\n",
       "\n",
       "[95 rows x 5 columns]"
      ]
     },
     "execution_count": 128,
     "metadata": {},
     "output_type": "execute_result"
    }
   ],
   "source": [
    "# Немного смущает минимальное занчение поездки 0 минут.\n",
    "rides.loc[rides['duration'] < 1]"
   ]
  },
  {
   "cell_type": "markdown",
   "metadata": {},
   "source": [
    "Видно, что есть поездки с нулевой длительностью, хотя, по расстоянию видно, что это были полноценные поездки. Скорее всего в данных возникла ошибка. Заполним эти пропуски в соответствии с дальностью поездки, т.к. между расстоянием и временем существует линейная зависимость. Можно попробовать сделать регрессию продолжительности поездки на дальность поездки."
   ]
  },
  {
   "cell_type": "code",
   "execution_count": 129,
   "metadata": {},
   "outputs": [],
   "source": [
    "# Подбираем коэффициенты линейной регрессии времени на расстояние\n",
    "a, b = np.polyfit(rides['distance'], rides['duration'], 1)\n",
    "\n",
    "# Делаем замену ошибочного времени 0 мин.\n",
    "rides.loc[rides['duration'] < 1, 'duration'] =\\\n",
    "    rides.loc[rides['duration'] < 1, 'distance'].apply(lambda x: a * x + b)"
   ]
  },
  {
   "cell_type": "code",
   "execution_count": 130,
   "metadata": {},
   "outputs": [
    {
     "data": {
      "text/plain": [
       "count   18,067\n",
       "mean        18\n",
       "std          6\n",
       "min          2\n",
       "25%         14\n",
       "50%         18\n",
       "75%         22\n",
       "max         41\n",
       "Name: duration, dtype: float64"
      ]
     },
     "execution_count": 130,
     "metadata": {},
     "output_type": "execute_result"
    }
   ],
   "source": [
    "rides['duration'].describe()"
   ]
  },
  {
   "cell_type": "code",
   "execution_count": 131,
   "metadata": {},
   "outputs": [
    {
     "data": {
      "image/png": "[encoded data removed]",
      "text/plain": [
       "<Figure size 640x480 with 1 Axes>"
      ]
     },
     "metadata": {},
     "output_type": "display_data"
    }
   ],
   "source": [
    "plt.hist(rides['duration'], bins=50, edgecolor='black')\n",
    "plt.title('Распределение длительности поездки')\n",
    "plt.xlabel('Длительность (мин)')\n",
    "plt.ylabel('Частота')\n",
    "plt.show()"
   ]
  },
  {
   "cell_type": "code",
   "execution_count": 132,
   "metadata": {},
   "outputs": [
    {
     "name": "stdout",
     "output_type": "stream",
     "text": [
      "Минимальная длительность поездки: 2.04 мим.\n",
      "Максимальная длительность поездки: 40.82 мин.\n",
      "Средняя длительность одной поездки: 18 мин.\n"
     ]
    }
   ],
   "source": [
    "min_duration = round(rides['duration'].min(), 2)\n",
    "max_duration = round(rides['duration'].max(), 2)\n",
    "median_duration = round(rides['duration'].median())\n",
    "\n",
    "print(\n",
    "f'Минимальная длительность поездки: {min_duration} мим.\\n\\\n",
    "Максимальная длительность поездки: {max_duration} мин.\\n\\\n",
    "Средняя длительность одной поездки: {median_duration} мин.')"
   ]
  },
  {
   "cell_type": "markdown",
   "metadata": {},
   "source": [
    "Чаще всего поездки длятся от 15 до 25 минут."
   ]
  },
  {
   "cell_type": "markdown",
   "metadata": {},
   "source": [
    "По итогам исследовательского анализа данных выявлено:\n",
    "- Самый часто встречающийся город - Пятигорск, а Москва на последнем месте;\n",
    "- Пользователей без подписки больше (54%);\n",
    "- Минимальный возраст пользователей: 12;\n",
    "- Максимальный возраст пользователей: 43;\n",
    "- Средний возраст: 25 лет;\n",
    "- Больше всего пользуются сервисом в группе 20-30 лет;\n",
    "- Минимальное расстояние поездки: 2.57 м.;\n",
    "- Максимальное расстояние поездки: 7211.01 м.;\n",
    "- Среднее расстояние за одну поездку: 3134 м.;\n",
    "- Минимальная длительность поездки: 2.04 мим.;\n",
    "- Максимальная длительность поездки: 40.82 мин.;\n",
    "- Средняя длительность одной поездки: 18 мин.\n",
    "\n"
   ]
  },
  {
   "cell_type": "markdown",
   "metadata": {},
   "source": [
    "#### 4. Объединение данных"
   ]
  },
  {
   "cell_type": "markdown",
   "metadata": {},
   "source": [
    "4.1 Объединение данных о пользователях, поездках и подписках в один датафрейм."
   ]
  },
  {
   "cell_type": "code",
   "execution_count": 133,
   "metadata": {},
   "outputs": [
    {
     "name": "stdout",
     "output_type": "stream",
     "text": [
      "Количество строк в датасете \"Пользователи\": 1534\n",
      "Количество строк в датасете \"Поездки\": 18067\n",
      "Количество строк в датасете \"Подписки\": 2\n"
     ]
    }
   ],
   "source": [
    "# Перед объединением ещё раз взглянем на кол-во записей в каждом датафрейме\n",
    "print(\n",
    "f'Количество строк в датасете \"Пользователи\": {len(users)}\\n\\\n",
    "Количество строк в датасете \"Поездки\": {len(rides)}\\n\\\n",
    "Количество строк в датасете \"Подписки\": {len(subscriptions)}'\n",
    ")"
   ]
  },
  {
   "cell_type": "markdown",
   "metadata": {},
   "source": [
    "Видим, что датасет \"Поездки\" самый большой, соотвественно, после объединения количество записей должно соответствовать этому датасету."
   ]
  },
  {
   "cell_type": "code",
   "execution_count": 134,
   "metadata": {
    "scrolled": true
   },
   "outputs": [
    {
     "data": {
      "text/html": [
       "<div>\n",
       "<style scoped>\n",
       "    .dataframe tbody tr th:only-of-type {\n",
       "        vertical-align: middle;\n",
       "    }\n",
       "\n",
       "    .dataframe tbody tr th {\n",
       "        vertical-align: top;\n",
       "    }\n",
       "\n",
       "    .dataframe thead th {\n",
       "        text-align: right;\n",
       "    }\n",
       "</style>\n",
       "<table border=\"1\" class=\"dataframe\">\n",
       "  <thead>\n",
       "    <tr style=\"text-align: right;\">\n",
       "      <th></th>\n",
       "      <th>user_id</th>\n",
       "      <th>distance</th>\n",
       "      <th>duration</th>\n",
       "      <th>date</th>\n",
       "      <th>month_number</th>\n",
       "      <th>name</th>\n",
       "      <th>age</th>\n",
       "      <th>city</th>\n",
       "      <th>subscription_type</th>\n",
       "      <th>minute_price</th>\n",
       "      <th>start_ride_price</th>\n",
       "      <th>subscription_fee</th>\n",
       "    </tr>\n",
       "  </thead>\n",
       "  <tbody>\n",
       "    <tr>\n",
       "      <th>0</th>\n",
       "      <td>700</td>\n",
       "      <td>2,516</td>\n",
       "      <td>15</td>\n",
       "      <td>2021-01-02</td>\n",
       "      <td>1</td>\n",
       "      <td>Айдар</td>\n",
       "      <td>22</td>\n",
       "      <td>Омск</td>\n",
       "      <td>free</td>\n",
       "      <td>8</td>\n",
       "      <td>50</td>\n",
       "      <td>0</td>\n",
       "    </tr>\n",
       "    <tr>\n",
       "      <th>1</th>\n",
       "      <td>700</td>\n",
       "      <td>847</td>\n",
       "      <td>16</td>\n",
       "      <td>2021-02-01</td>\n",
       "      <td>2</td>\n",
       "      <td>Айдар</td>\n",
       "      <td>22</td>\n",
       "      <td>Омск</td>\n",
       "      <td>free</td>\n",
       "      <td>8</td>\n",
       "      <td>50</td>\n",
       "      <td>0</td>\n",
       "    </tr>\n",
       "    <tr>\n",
       "      <th>2</th>\n",
       "      <td>700</td>\n",
       "      <td>4,004</td>\n",
       "      <td>20</td>\n",
       "      <td>2021-02-04</td>\n",
       "      <td>2</td>\n",
       "      <td>Айдар</td>\n",
       "      <td>22</td>\n",
       "      <td>Омск</td>\n",
       "      <td>free</td>\n",
       "      <td>8</td>\n",
       "      <td>50</td>\n",
       "      <td>0</td>\n",
       "    </tr>\n",
       "    <tr>\n",
       "      <th>3</th>\n",
       "      <td>700</td>\n",
       "      <td>1,206</td>\n",
       "      <td>10</td>\n",
       "      <td>2021-02-10</td>\n",
       "      <td>2</td>\n",
       "      <td>Айдар</td>\n",
       "      <td>22</td>\n",
       "      <td>Омск</td>\n",
       "      <td>free</td>\n",
       "      <td>8</td>\n",
       "      <td>50</td>\n",
       "      <td>0</td>\n",
       "    </tr>\n",
       "    <tr>\n",
       "      <th>4</th>\n",
       "      <td>700</td>\n",
       "      <td>3,047</td>\n",
       "      <td>17</td>\n",
       "      <td>2021-02-14</td>\n",
       "      <td>2</td>\n",
       "      <td>Айдар</td>\n",
       "      <td>22</td>\n",
       "      <td>Омск</td>\n",
       "      <td>free</td>\n",
       "      <td>8</td>\n",
       "      <td>50</td>\n",
       "      <td>0</td>\n",
       "    </tr>\n",
       "    <tr>\n",
       "      <th>...</th>\n",
       "      <td>...</td>\n",
       "      <td>...</td>\n",
       "      <td>...</td>\n",
       "      <td>...</td>\n",
       "      <td>...</td>\n",
       "      <td>...</td>\n",
       "      <td>...</td>\n",
       "      <td>...</td>\n",
       "      <td>...</td>\n",
       "      <td>...</td>\n",
       "      <td>...</td>\n",
       "      <td>...</td>\n",
       "    </tr>\n",
       "    <tr>\n",
       "      <th>18062</th>\n",
       "      <td>699</td>\n",
       "      <td>3,973</td>\n",
       "      <td>25</td>\n",
       "      <td>2021-08-29</td>\n",
       "      <td>8</td>\n",
       "      <td>Оксана</td>\n",
       "      <td>22</td>\n",
       "      <td>Москва</td>\n",
       "      <td>ultra</td>\n",
       "      <td>6</td>\n",
       "      <td>0</td>\n",
       "      <td>199</td>\n",
       "    </tr>\n",
       "    <tr>\n",
       "      <th>18063</th>\n",
       "      <td>699</td>\n",
       "      <td>3,289</td>\n",
       "      <td>16</td>\n",
       "      <td>2021-09-12</td>\n",
       "      <td>9</td>\n",
       "      <td>Оксана</td>\n",
       "      <td>22</td>\n",
       "      <td>Москва</td>\n",
       "      <td>ultra</td>\n",
       "      <td>6</td>\n",
       "      <td>0</td>\n",
       "      <td>199</td>\n",
       "    </tr>\n",
       "    <tr>\n",
       "      <th>18064</th>\n",
       "      <td>699</td>\n",
       "      <td>3,076</td>\n",
       "      <td>14</td>\n",
       "      <td>2021-09-26</td>\n",
       "      <td>9</td>\n",
       "      <td>Оксана</td>\n",
       "      <td>22</td>\n",
       "      <td>Москва</td>\n",
       "      <td>ultra</td>\n",
       "      <td>6</td>\n",
       "      <td>0</td>\n",
       "      <td>199</td>\n",
       "    </tr>\n",
       "    <tr>\n",
       "      <th>18065</th>\n",
       "      <td>699</td>\n",
       "      <td>4,708</td>\n",
       "      <td>16</td>\n",
       "      <td>2021-10-17</td>\n",
       "      <td>10</td>\n",
       "      <td>Оксана</td>\n",
       "      <td>22</td>\n",
       "      <td>Москва</td>\n",
       "      <td>ultra</td>\n",
       "      <td>6</td>\n",
       "      <td>0</td>\n",
       "      <td>199</td>\n",
       "    </tr>\n",
       "    <tr>\n",
       "      <th>18066</th>\n",
       "      <td>699</td>\n",
       "      <td>3,203</td>\n",
       "      <td>25</td>\n",
       "      <td>2021-12-03</td>\n",
       "      <td>12</td>\n",
       "      <td>Оксана</td>\n",
       "      <td>22</td>\n",
       "      <td>Москва</td>\n",
       "      <td>ultra</td>\n",
       "      <td>6</td>\n",
       "      <td>0</td>\n",
       "      <td>199</td>\n",
       "    </tr>\n",
       "  </tbody>\n",
       "</table>\n",
       "<p>18067 rows × 12 columns</p>\n",
       "</div>"
      ],
      "text/plain": [
       "       user_id  distance  duration       date  month_number    name  age  \\\n",
       "0          700     2,516        15 2021-01-02             1   Айдар   22   \n",
       "1          700       847        16 2021-02-01             2   Айдар   22   \n",
       "2          700     4,004        20 2021-02-04             2   Айдар   22   \n",
       "3          700     1,206        10 2021-02-10             2   Айдар   22   \n",
       "4          700     3,047        17 2021-02-14             2   Айдар   22   \n",
       "...        ...       ...       ...        ...           ...     ...  ...   \n",
       "18062      699     3,973        25 2021-08-29             8  Оксана   22   \n",
       "18063      699     3,289        16 2021-09-12             9  Оксана   22   \n",
       "18064      699     3,076        14 2021-09-26             9  Оксана   22   \n",
       "18065      699     4,708        16 2021-10-17            10  Оксана   22   \n",
       "18066      699     3,203        25 2021-12-03            12  Оксана   22   \n",
       "\n",
       "         city subscription_type  minute_price  start_ride_price  \\\n",
       "0        Омск              free             8                50   \n",
       "1        Омск              free             8                50   \n",
       "2        Омск              free             8                50   \n",
       "3        Омск              free             8                50   \n",
       "4        Омск              free             8                50   \n",
       "...       ...               ...           ...               ...   \n",
       "18062  Москва             ultra             6                 0   \n",
       "18063  Москва             ultra             6                 0   \n",
       "18064  Москва             ultra             6                 0   \n",
       "18065  Москва             ultra             6                 0   \n",
       "18066  Москва             ultra             6                 0   \n",
       "\n",
       "       subscription_fee  \n",
       "0                     0  \n",
       "1                     0  \n",
       "2                     0  \n",
       "3                     0  \n",
       "4                     0  \n",
       "...                 ...  \n",
       "18062               199  \n",
       "18063               199  \n",
       "18064               199  \n",
       "18065               199  \n",
       "18066               199  \n",
       "\n",
       "[18067 rows x 12 columns]"
      ]
     },
     "execution_count": 134,
     "metadata": {},
     "output_type": "execute_result"
    }
   ],
   "source": [
    "# Объединение\n",
    "merged_01= pd.merge(rides, users, on='user_id', how='outer')\n",
    "merged_df = pd.merge(merged_01, subscriptions, on='subscription_type', how='outer')\n",
    "merged_df"
   ]
  },
  {
   "cell_type": "code",
   "execution_count": 135,
   "metadata": {},
   "outputs": [
    {
     "name": "stdout",
     "output_type": "stream",
     "text": [
      "Объединение произошло корректно, количество записей верное.\n",
      "В объединённом датасете нет пропусков.\n"
     ]
    }
   ],
   "source": [
    "# Проверка корректности объединения\n",
    "if len(merged_df) == len(rides):\n",
    "    print('Объединение произошло корректно, количество записей верное.')\n",
    "else:\n",
    "    print('Объединение произошло не корректно.')\n",
    "\n",
    "# Проверка на пропуски\n",
    "missing_values = merged_df.isnull().sum()\n",
    "if missing_values.sum() > 0:\n",
    "    print('В датасете есть пропуски')\n",
    "    print(missing_values)\n",
    "else:\n",
    "    print('В объединённом датасете нет пропусков.')"
   ]
  },
  {
   "cell_type": "markdown",
   "metadata": {},
   "source": [
    "4.2 Создайте ещё два датафрейма из датафрейма:\n",
    "c данными о пользователях без подписки;\n",
    "с данными о пользователях с подпиской."
   ]
  },
  {
   "cell_type": "code",
   "execution_count": 136,
   "metadata": {},
   "outputs": [],
   "source": [
    "# Пользователи с подпиской\n",
    "users_w_subscription = merged_df.loc[merged_df['subscription_type']=='ultra']\n",
    "\n",
    "# Пользователи без подписки\n",
    "users_wo_subscription = merged_df.loc[merged_df['subscription_type']=='free']"
   ]
  },
  {
   "cell_type": "code",
   "execution_count": 137,
   "metadata": {},
   "outputs": [
    {
     "data": {
      "text/html": [
       "<div>\n",
       "<style scoped>\n",
       "    .dataframe tbody tr th:only-of-type {\n",
       "        vertical-align: middle;\n",
       "    }\n",
       "\n",
       "    .dataframe tbody tr th {\n",
       "        vertical-align: top;\n",
       "    }\n",
       "\n",
       "    .dataframe thead th {\n",
       "        text-align: right;\n",
       "    }\n",
       "</style>\n",
       "<table border=\"1\" class=\"dataframe\">\n",
       "  <thead>\n",
       "    <tr style=\"text-align: right;\">\n",
       "      <th></th>\n",
       "      <th>user_id</th>\n",
       "      <th>distance</th>\n",
       "      <th>duration</th>\n",
       "      <th>date</th>\n",
       "      <th>month_number</th>\n",
       "      <th>name</th>\n",
       "      <th>age</th>\n",
       "      <th>city</th>\n",
       "      <th>subscription_type</th>\n",
       "      <th>minute_price</th>\n",
       "      <th>start_ride_price</th>\n",
       "      <th>subscription_fee</th>\n",
       "    </tr>\n",
       "  </thead>\n",
       "  <tbody>\n",
       "    <tr>\n",
       "      <th>11567</th>\n",
       "      <td>1</td>\n",
       "      <td>4,410</td>\n",
       "      <td>26</td>\n",
       "      <td>2021-01-01</td>\n",
       "      <td>1</td>\n",
       "      <td>Кира</td>\n",
       "      <td>22</td>\n",
       "      <td>Тюмень</td>\n",
       "      <td>ultra</td>\n",
       "      <td>6</td>\n",
       "      <td>0</td>\n",
       "      <td>199</td>\n",
       "    </tr>\n",
       "    <tr>\n",
       "      <th>11568</th>\n",
       "      <td>1</td>\n",
       "      <td>2,618</td>\n",
       "      <td>16</td>\n",
       "      <td>2021-01-18</td>\n",
       "      <td>1</td>\n",
       "      <td>Кира</td>\n",
       "      <td>22</td>\n",
       "      <td>Тюмень</td>\n",
       "      <td>ultra</td>\n",
       "      <td>6</td>\n",
       "      <td>0</td>\n",
       "      <td>199</td>\n",
       "    </tr>\n",
       "    <tr>\n",
       "      <th>11569</th>\n",
       "      <td>1</td>\n",
       "      <td>754</td>\n",
       "      <td>6</td>\n",
       "      <td>2021-04-20</td>\n",
       "      <td>4</td>\n",
       "      <td>Кира</td>\n",
       "      <td>22</td>\n",
       "      <td>Тюмень</td>\n",
       "      <td>ultra</td>\n",
       "      <td>6</td>\n",
       "      <td>0</td>\n",
       "      <td>199</td>\n",
       "    </tr>\n",
       "    <tr>\n",
       "      <th>11570</th>\n",
       "      <td>1</td>\n",
       "      <td>2,695</td>\n",
       "      <td>19</td>\n",
       "      <td>2021-08-11</td>\n",
       "      <td>8</td>\n",
       "      <td>Кира</td>\n",
       "      <td>22</td>\n",
       "      <td>Тюмень</td>\n",
       "      <td>ultra</td>\n",
       "      <td>6</td>\n",
       "      <td>0</td>\n",
       "      <td>199</td>\n",
       "    </tr>\n",
       "    <tr>\n",
       "      <th>11571</th>\n",
       "      <td>1</td>\n",
       "      <td>4,029</td>\n",
       "      <td>26</td>\n",
       "      <td>2021-08-28</td>\n",
       "      <td>8</td>\n",
       "      <td>Кира</td>\n",
       "      <td>22</td>\n",
       "      <td>Тюмень</td>\n",
       "      <td>ultra</td>\n",
       "      <td>6</td>\n",
       "      <td>0</td>\n",
       "      <td>199</td>\n",
       "    </tr>\n",
       "  </tbody>\n",
       "</table>\n",
       "</div>"
      ],
      "text/plain": [
       "       user_id  distance  duration       date  month_number  name  age  \\\n",
       "11567        1     4,410        26 2021-01-01             1  Кира   22   \n",
       "11568        1     2,618        16 2021-01-18             1  Кира   22   \n",
       "11569        1       754         6 2021-04-20             4  Кира   22   \n",
       "11570        1     2,695        19 2021-08-11             8  Кира   22   \n",
       "11571        1     4,029        26 2021-08-28             8  Кира   22   \n",
       "\n",
       "         city subscription_type  minute_price  start_ride_price  \\\n",
       "11567  Тюмень             ultra             6                 0   \n",
       "11568  Тюмень             ultra             6                 0   \n",
       "11569  Тюмень             ultra             6                 0   \n",
       "11570  Тюмень             ultra             6                 0   \n",
       "11571  Тюмень             ultra             6                 0   \n",
       "\n",
       "       subscription_fee  \n",
       "11567               199  \n",
       "11568               199  \n",
       "11569               199  \n",
       "11570               199  \n",
       "11571               199  "
      ]
     },
     "execution_count": 137,
     "metadata": {},
     "output_type": "execute_result"
    }
   ],
   "source": [
    "users_w_subscription.head()"
   ]
  },
  {
   "cell_type": "code",
   "execution_count": 138,
   "metadata": {
    "scrolled": true
   },
   "outputs": [
    {
     "data": {
      "text/html": [
       "<div>\n",
       "<style scoped>\n",
       "    .dataframe tbody tr th:only-of-type {\n",
       "        vertical-align: middle;\n",
       "    }\n",
       "\n",
       "    .dataframe tbody tr th {\n",
       "        vertical-align: top;\n",
       "    }\n",
       "\n",
       "    .dataframe thead th {\n",
       "        text-align: right;\n",
       "    }\n",
       "</style>\n",
       "<table border=\"1\" class=\"dataframe\">\n",
       "  <thead>\n",
       "    <tr style=\"text-align: right;\">\n",
       "      <th></th>\n",
       "      <th>user_id</th>\n",
       "      <th>distance</th>\n",
       "      <th>duration</th>\n",
       "      <th>date</th>\n",
       "      <th>month_number</th>\n",
       "      <th>name</th>\n",
       "      <th>age</th>\n",
       "      <th>city</th>\n",
       "      <th>subscription_type</th>\n",
       "      <th>minute_price</th>\n",
       "      <th>start_ride_price</th>\n",
       "      <th>subscription_fee</th>\n",
       "    </tr>\n",
       "  </thead>\n",
       "  <tbody>\n",
       "    <tr>\n",
       "      <th>0</th>\n",
       "      <td>700</td>\n",
       "      <td>2,516</td>\n",
       "      <td>15</td>\n",
       "      <td>2021-01-02</td>\n",
       "      <td>1</td>\n",
       "      <td>Айдар</td>\n",
       "      <td>22</td>\n",
       "      <td>Омск</td>\n",
       "      <td>free</td>\n",
       "      <td>8</td>\n",
       "      <td>50</td>\n",
       "      <td>0</td>\n",
       "    </tr>\n",
       "    <tr>\n",
       "      <th>1</th>\n",
       "      <td>700</td>\n",
       "      <td>847</td>\n",
       "      <td>16</td>\n",
       "      <td>2021-02-01</td>\n",
       "      <td>2</td>\n",
       "      <td>Айдар</td>\n",
       "      <td>22</td>\n",
       "      <td>Омск</td>\n",
       "      <td>free</td>\n",
       "      <td>8</td>\n",
       "      <td>50</td>\n",
       "      <td>0</td>\n",
       "    </tr>\n",
       "    <tr>\n",
       "      <th>2</th>\n",
       "      <td>700</td>\n",
       "      <td>4,004</td>\n",
       "      <td>20</td>\n",
       "      <td>2021-02-04</td>\n",
       "      <td>2</td>\n",
       "      <td>Айдар</td>\n",
       "      <td>22</td>\n",
       "      <td>Омск</td>\n",
       "      <td>free</td>\n",
       "      <td>8</td>\n",
       "      <td>50</td>\n",
       "      <td>0</td>\n",
       "    </tr>\n",
       "    <tr>\n",
       "      <th>3</th>\n",
       "      <td>700</td>\n",
       "      <td>1,206</td>\n",
       "      <td>10</td>\n",
       "      <td>2021-02-10</td>\n",
       "      <td>2</td>\n",
       "      <td>Айдар</td>\n",
       "      <td>22</td>\n",
       "      <td>Омск</td>\n",
       "      <td>free</td>\n",
       "      <td>8</td>\n",
       "      <td>50</td>\n",
       "      <td>0</td>\n",
       "    </tr>\n",
       "    <tr>\n",
       "      <th>4</th>\n",
       "      <td>700</td>\n",
       "      <td>3,047</td>\n",
       "      <td>17</td>\n",
       "      <td>2021-02-14</td>\n",
       "      <td>2</td>\n",
       "      <td>Айдар</td>\n",
       "      <td>22</td>\n",
       "      <td>Омск</td>\n",
       "      <td>free</td>\n",
       "      <td>8</td>\n",
       "      <td>50</td>\n",
       "      <td>0</td>\n",
       "    </tr>\n",
       "  </tbody>\n",
       "</table>\n",
       "</div>"
      ],
      "text/plain": [
       "   user_id  distance  duration       date  month_number   name  age  city  \\\n",
       "0      700     2,516        15 2021-01-02             1  Айдар   22  Омск   \n",
       "1      700       847        16 2021-02-01             2  Айдар   22  Омск   \n",
       "2      700     4,004        20 2021-02-04             2  Айдар   22  Омск   \n",
       "3      700     1,206        10 2021-02-10             2  Айдар   22  Омск   \n",
       "4      700     3,047        17 2021-02-14             2  Айдар   22  Омск   \n",
       "\n",
       "  subscription_type  minute_price  start_ride_price  subscription_fee  \n",
       "0              free             8                50                 0  \n",
       "1              free             8                50                 0  \n",
       "2              free             8                50                 0  \n",
       "3              free             8                50                 0  \n",
       "4              free             8                50                 0  "
      ]
     },
     "execution_count": 138,
     "metadata": {},
     "output_type": "execute_result"
    }
   ],
   "source": [
    "users_wo_subscription.head()"
   ]
  },
  {
   "cell_type": "code",
   "execution_count": 139,
   "metadata": {},
   "outputs": [
    {
     "name": "stdout",
     "output_type": "stream",
     "text": [
      "Размер полученных датафреймов корректный.\n"
     ]
    }
   ],
   "source": [
    "# Проверка корректности размера получившихся датовреймов\n",
    "if len(users_w_subscription) + len(users_wo_subscription) == len(merged_df):\n",
    "    print('Размер полученных датафреймов корректный.')\n",
    "else:\n",
    "    print('Размер полученных датафреймов корректный.')"
   ]
  },
  {
   "cell_type": "markdown",
   "metadata": {},
   "source": [
    "4.3 Визуализируйте информацию о расстоянии и времени поездок для пользователей обеих категорий"
   ]
  },
  {
   "cell_type": "code",
   "execution_count": 140,
   "metadata": {
    "scrolled": true
   },
   "outputs": [
    {
     "data": {
      "image/png": "[encoded data removed]",
      "text/plain": [
       "<Figure size 640x480 with 1 Axes>"
      ]
     },
     "metadata": {},
     "output_type": "display_data"
    }
   ],
   "source": [
    "plt.hist(users_wo_subscription['distance'], bins=50, edgecolor='black', label='без подписки')\n",
    "plt.hist(users_w_subscription['distance'], bins=50, edgecolor='black', label='с подпиской')\n",
    "plt.title('Распределение среднего расстояния одной поездки')\n",
    "plt.xlabel('Расстояние (мин)')\n",
    "plt.ylabel('Частота')\n",
    "plt.legend(loc='upper right')\n",
    "plt.show()"
   ]
  },
  {
   "cell_type": "code",
   "execution_count": 141,
   "metadata": {},
   "outputs": [
    {
     "data": {
      "text/html": [
       "<div>\n",
       "<style scoped>\n",
       "    .dataframe tbody tr th:only-of-type {\n",
       "        vertical-align: middle;\n",
       "    }\n",
       "\n",
       "    .dataframe tbody tr th {\n",
       "        vertical-align: top;\n",
       "    }\n",
       "\n",
       "    .dataframe thead th {\n",
       "        text-align: right;\n",
       "    }\n",
       "</style>\n",
       "<table border=\"1\" class=\"dataframe\">\n",
       "  <thead>\n",
       "    <tr style=\"text-align: right;\">\n",
       "      <th></th>\n",
       "      <th>distance_without_subscription</th>\n",
       "      <th>distance_with_subscription</th>\n",
       "    </tr>\n",
       "  </thead>\n",
       "  <tbody>\n",
       "    <tr>\n",
       "      <th>count</th>\n",
       "      <td>11,567</td>\n",
       "      <td>6,500</td>\n",
       "    </tr>\n",
       "    <tr>\n",
       "      <th>mean</th>\n",
       "      <td>3,046</td>\n",
       "      <td>3,115</td>\n",
       "    </tr>\n",
       "    <tr>\n",
       "      <th>std</th>\n",
       "      <td>1,246</td>\n",
       "      <td>837</td>\n",
       "    </tr>\n",
       "    <tr>\n",
       "      <th>min</th>\n",
       "      <td>3</td>\n",
       "      <td>244</td>\n",
       "    </tr>\n",
       "    <tr>\n",
       "      <th>25%</th>\n",
       "      <td>2,367</td>\n",
       "      <td>2,785</td>\n",
       "    </tr>\n",
       "    <tr>\n",
       "      <th>50%</th>\n",
       "      <td>3,115</td>\n",
       "      <td>3,149</td>\n",
       "    </tr>\n",
       "    <tr>\n",
       "      <th>75%</th>\n",
       "      <td>3,906</td>\n",
       "      <td>3,561</td>\n",
       "    </tr>\n",
       "    <tr>\n",
       "      <th>max</th>\n",
       "      <td>7,211</td>\n",
       "      <td>5,700</td>\n",
       "    </tr>\n",
       "  </tbody>\n",
       "</table>\n",
       "</div>"
      ],
      "text/plain": [
       "       distance_without_subscription  distance_with_subscription\n",
       "count                         11,567                       6,500\n",
       "mean                           3,046                       3,115\n",
       "std                            1,246                         837\n",
       "min                                3                         244\n",
       "25%                            2,367                       2,785\n",
       "50%                            3,115                       3,149\n",
       "75%                            3,906                       3,561\n",
       "max                            7,211                       5,700"
      ]
     },
     "execution_count": 141,
     "metadata": {},
     "output_type": "execute_result"
    }
   ],
   "source": [
    "distance_stats_wo_subscription = users_wo_subscription['distance'].describe()\n",
    "distance_stats_w_subscription = users_w_subscription['distance'].describe()\n",
    "merged_summary = pd.concat([distance_stats_wo_subscription, distance_stats_w_subscription], axis=1)\n",
    "merged_summary.columns = ['distance_without_subscription', 'distance_with_subscription']\n",
    "merged_summary"
   ]
  },
  {
   "cell_type": "markdown",
   "metadata": {},
   "source": [
    "- Диапазон расстояния поездок без подписки шире диапазона с подпиской  (3 м. - 7211 м. и 244 м. - 5700 м. соответственно)\n",
    "- Распределения имеют похожую форму: и с подпиской, и без можно наблюдать два всплека - на короткие расстояния (меньше 1 км.) и на расстояния в районе 2-3 км. \n",
    "- Поездки на расстояние больше 3 км. и менее 500 м. преобладают у пользователей без подписки.\n",
    "- Как для поездок с подпиской, так и без среднее расстояние меньше медианного, что означает, что есть скос влево, что видно на графике - есть всплеск для поездок на малые расстояния.\n"
   ]
  },
  {
   "cell_type": "code",
   "execution_count": 142,
   "metadata": {},
   "outputs": [
    {
     "data": {
      "image/png": "[encoded data removed]",
      "text/plain": [
       "<Figure size 640x480 with 1 Axes>"
      ]
     },
     "metadata": {},
     "output_type": "display_data"
    }
   ],
   "source": [
    "plt.hist(users_wo_subscription['duration'], bins=50, edgecolor='black', label='без подписки')\n",
    "plt.hist(users_w_subscription['duration'], bins=50, edgecolor='black', label='с подпиской')\n",
    "plt.title('Распределение средней продолжительности одной поездки')\n",
    "plt.xlabel('Продолжительность (мин)')\n",
    "plt.ylabel('Частота')\n",
    "plt.legend(loc='upper right')\n",
    "plt.show()"
   ]
  },
  {
   "cell_type": "code",
   "execution_count": 143,
   "metadata": {},
   "outputs": [
    {
     "data": {
      "text/html": [
       "<div>\n",
       "<style scoped>\n",
       "    .dataframe tbody tr th:only-of-type {\n",
       "        vertical-align: middle;\n",
       "    }\n",
       "\n",
       "    .dataframe tbody tr th {\n",
       "        vertical-align: top;\n",
       "    }\n",
       "\n",
       "    .dataframe thead th {\n",
       "        text-align: right;\n",
       "    }\n",
       "</style>\n",
       "<table border=\"1\" class=\"dataframe\">\n",
       "  <thead>\n",
       "    <tr style=\"text-align: right;\">\n",
       "      <th></th>\n",
       "      <th>duration_without_subscription</th>\n",
       "      <th>duration_with_subscription</th>\n",
       "    </tr>\n",
       "  </thead>\n",
       "  <tbody>\n",
       "    <tr>\n",
       "      <th>count</th>\n",
       "      <td>11,567</td>\n",
       "      <td>6,500</td>\n",
       "    </tr>\n",
       "    <tr>\n",
       "      <th>mean</th>\n",
       "      <td>18</td>\n",
       "      <td>19</td>\n",
       "    </tr>\n",
       "    <tr>\n",
       "      <th>std</th>\n",
       "      <td>6</td>\n",
       "      <td>6</td>\n",
       "    </tr>\n",
       "    <tr>\n",
       "      <th>min</th>\n",
       "      <td>2</td>\n",
       "      <td>4</td>\n",
       "    </tr>\n",
       "    <tr>\n",
       "      <th>25%</th>\n",
       "      <td>13</td>\n",
       "      <td>15</td>\n",
       "    </tr>\n",
       "    <tr>\n",
       "      <th>50%</th>\n",
       "      <td>17</td>\n",
       "      <td>18</td>\n",
       "    </tr>\n",
       "    <tr>\n",
       "      <th>75%</th>\n",
       "      <td>22</td>\n",
       "      <td>22</td>\n",
       "    </tr>\n",
       "    <tr>\n",
       "      <th>max</th>\n",
       "      <td>35</td>\n",
       "      <td>41</td>\n",
       "    </tr>\n",
       "  </tbody>\n",
       "</table>\n",
       "</div>"
      ],
      "text/plain": [
       "       duration_without_subscription  duration_with_subscription\n",
       "count                         11,567                       6,500\n",
       "mean                              18                          19\n",
       "std                                6                           6\n",
       "min                                2                           4\n",
       "25%                               13                          15\n",
       "50%                               17                          18\n",
       "75%                               22                          22\n",
       "max                               35                          41"
      ]
     },
     "execution_count": 143,
     "metadata": {},
     "output_type": "execute_result"
    }
   ],
   "source": [
    "duration_stats_wo_subscription = users_wo_subscription['duration'].describe()\n",
    "duration_stats_w_subscription = users_w_subscription['duration'].describe()\n",
    "merged_summary = pd.concat([duration_stats_wo_subscription, duration_stats_w_subscription], axis=1)\n",
    "merged_summary.columns = ['duration_without_subscription', 'duration_with_subscription']\n",
    "merged_summary"
   ]
  },
  {
   "cell_type": "markdown",
   "metadata": {},
   "source": [
    "- Диапазоны продолжительности поездок без подписки и с подпиской приблизительно равны. Хотя пользователей без совершали больше краткосрочных поездок (до 5 мин.)\n",
    "- Распределения имеют похожую форму близкую к нормальному с самым частым значением в 18-19 мин.\n",
    "- Однако, частота совершения поездок без подписки выше.\n",
    "- Как для поездок с подпиской, так и без среднее расстояние приблизительно равно медианному, что свидетельствет о том, что скоса в данных нет.\n"
   ]
  },
  {
   "cell_type": "markdown",
   "metadata": {},
   "source": [
    "Объеденены датасеты с информацией о пользователях, поездках и подписках, с последующим извлечением данных для пользователей с подпиской и без. \n",
    "\n",
    "По результатам анализа длительности и расстояния поездок в обеих группах, можно сделать следующие выводы:\n",
    "- Данные распределены похожим образом, однако пользователи без подписки совершают в целом больше поездок, чем с подпиской, в том числе больше кракткосрочнх поездок (на расстояние до 500 м. и по времени менее 5 м.) и больше длинных - более чем на 3 км.\n",
    "- Самая частая длительность поездки составляет 17-18 мин, а расстояние 3 - 3.1 км."
   ]
  },
  {
   "cell_type": "markdown",
   "metadata": {},
   "source": [
    "#### 5. Подсчёт выручки"
   ]
  },
  {
   "cell_type": "markdown",
   "metadata": {},
   "source": [
    "5.1 Новый датафрейм с агрегированными данными о поездках на основе датафрейма с объединёнными данными (суммарное расстояние, количество поездок и суммарное время для каждого пользователя за каждый месяц.)"
   ]
  },
  {
   "cell_type": "code",
   "execution_count": 144,
   "metadata": {},
   "outputs": [],
   "source": [
    "# каждое значение из столбца duration округляется с помощью «потолка»\n",
    "merged_df['duration'] = np.ceil(merged_df['duration']) "
   ]
  },
  {
   "cell_type": "code",
   "execution_count": 145,
   "metadata": {},
   "outputs": [
    {
     "data": {
      "text/html": [
       "<div>\n",
       "<style scoped>\n",
       "    .dataframe tbody tr th:only-of-type {\n",
       "        vertical-align: middle;\n",
       "    }\n",
       "\n",
       "    .dataframe tbody tr th {\n",
       "        vertical-align: top;\n",
       "    }\n",
       "\n",
       "    .dataframe thead th {\n",
       "        text-align: right;\n",
       "    }\n",
       "</style>\n",
       "<table border=\"1\" class=\"dataframe\">\n",
       "  <thead>\n",
       "    <tr style=\"text-align: right;\">\n",
       "      <th></th>\n",
       "      <th>user_id</th>\n",
       "      <th>subscription_type</th>\n",
       "      <th>month_number</th>\n",
       "      <th>number_of_rides</th>\n",
       "      <th>total_distance</th>\n",
       "      <th>total_duration</th>\n",
       "    </tr>\n",
       "  </thead>\n",
       "  <tbody>\n",
       "    <tr>\n",
       "      <th>0</th>\n",
       "      <td>1</td>\n",
       "      <td>ultra</td>\n",
       "      <td>1</td>\n",
       "      <td>2</td>\n",
       "      <td>7,028</td>\n",
       "      <td>42</td>\n",
       "    </tr>\n",
       "    <tr>\n",
       "      <th>1</th>\n",
       "      <td>1</td>\n",
       "      <td>ultra</td>\n",
       "      <td>4</td>\n",
       "      <td>1</td>\n",
       "      <td>754</td>\n",
       "      <td>7</td>\n",
       "    </tr>\n",
       "    <tr>\n",
       "      <th>2</th>\n",
       "      <td>1</td>\n",
       "      <td>ultra</td>\n",
       "      <td>8</td>\n",
       "      <td>2</td>\n",
       "      <td>6,723</td>\n",
       "      <td>46</td>\n",
       "    </tr>\n",
       "    <tr>\n",
       "      <th>3</th>\n",
       "      <td>1</td>\n",
       "      <td>ultra</td>\n",
       "      <td>10</td>\n",
       "      <td>2</td>\n",
       "      <td>5,810</td>\n",
       "      <td>32</td>\n",
       "    </tr>\n",
       "    <tr>\n",
       "      <th>4</th>\n",
       "      <td>1</td>\n",
       "      <td>ultra</td>\n",
       "      <td>11</td>\n",
       "      <td>3</td>\n",
       "      <td>7,003</td>\n",
       "      <td>56</td>\n",
       "    </tr>\n",
       "    <tr>\n",
       "      <th>...</th>\n",
       "      <td>...</td>\n",
       "      <td>...</td>\n",
       "      <td>...</td>\n",
       "      <td>...</td>\n",
       "      <td>...</td>\n",
       "      <td>...</td>\n",
       "    </tr>\n",
       "    <tr>\n",
       "      <th>11326</th>\n",
       "      <td>1534</td>\n",
       "      <td>free</td>\n",
       "      <td>6</td>\n",
       "      <td>2</td>\n",
       "      <td>3,409</td>\n",
       "      <td>26</td>\n",
       "    </tr>\n",
       "    <tr>\n",
       "      <th>11327</th>\n",
       "      <td>1534</td>\n",
       "      <td>free</td>\n",
       "      <td>8</td>\n",
       "      <td>2</td>\n",
       "      <td>7,622</td>\n",
       "      <td>48</td>\n",
       "    </tr>\n",
       "    <tr>\n",
       "      <th>11328</th>\n",
       "      <td>1534</td>\n",
       "      <td>free</td>\n",
       "      <td>9</td>\n",
       "      <td>1</td>\n",
       "      <td>4,928</td>\n",
       "      <td>23</td>\n",
       "    </tr>\n",
       "    <tr>\n",
       "      <th>11329</th>\n",
       "      <td>1534</td>\n",
       "      <td>free</td>\n",
       "      <td>11</td>\n",
       "      <td>4</td>\n",
       "      <td>13,350</td>\n",
       "      <td>78</td>\n",
       "    </tr>\n",
       "    <tr>\n",
       "      <th>11330</th>\n",
       "      <td>1534</td>\n",
       "      <td>free</td>\n",
       "      <td>12</td>\n",
       "      <td>1</td>\n",
       "      <td>2,372</td>\n",
       "      <td>16</td>\n",
       "    </tr>\n",
       "  </tbody>\n",
       "</table>\n",
       "<p>11331 rows × 6 columns</p>\n",
       "</div>"
      ],
      "text/plain": [
       "       user_id subscription_type  month_number  number_of_rides  \\\n",
       "0            1             ultra             1                2   \n",
       "1            1             ultra             4                1   \n",
       "2            1             ultra             8                2   \n",
       "3            1             ultra            10                2   \n",
       "4            1             ultra            11                3   \n",
       "...        ...               ...           ...              ...   \n",
       "11326     1534              free             6                2   \n",
       "11327     1534              free             8                2   \n",
       "11328     1534              free             9                1   \n",
       "11329     1534              free            11                4   \n",
       "11330     1534              free            12                1   \n",
       "\n",
       "       total_distance  total_duration  \n",
       "0               7,028              42  \n",
       "1                 754               7  \n",
       "2               6,723              46  \n",
       "3               5,810              32  \n",
       "4               7,003              56  \n",
       "...               ...             ...  \n",
       "11326           3,409              26  \n",
       "11327           7,622              48  \n",
       "11328           4,928              23  \n",
       "11329          13,350              78  \n",
       "11330           2,372              16  \n",
       "\n",
       "[11331 rows x 6 columns]"
      ]
     },
     "execution_count": 145,
     "metadata": {},
     "output_type": "execute_result"
    }
   ],
   "source": [
    "df = merged_df.groupby(['user_id', 'subscription_type', 'month_number']).agg(\n",
    "    number_of_rides=('distance', 'count'), \n",
    "    total_distance=('distance', 'sum'), \n",
    "    total_duration=('duration', 'sum')\n",
    ").reset_index()\n",
    "df"
   ]
  },
  {
   "cell_type": "markdown",
   "metadata": {},
   "source": [
    "5.2 Столбец с помесячной выручкой, которую принёс каждый пользователь.\n"
   ]
  },
  {
   "cell_type": "code",
   "execution_count": 146,
   "metadata": {},
   "outputs": [],
   "source": [
    "def profit(row):\n",
    "    if row['subscription_type'] == 'free':\n",
    "        return 50 * row['number_of_rides'] + 8 * row['total_duration']\n",
    "    elif row['subscription_type'] == 'ultra':\n",
    "        return 199 + 6 * row['total_duration']\n",
    "    else:\n",
    "        return 0 \n",
    "\n",
    "df['profit'] = df.apply(profit, axis=1)"
   ]
  },
  {
   "cell_type": "code",
   "execution_count": 147,
   "metadata": {
    "scrolled": true
   },
   "outputs": [
    {
     "data": {
      "text/html": [
       "<div>\n",
       "<style scoped>\n",
       "    .dataframe tbody tr th:only-of-type {\n",
       "        vertical-align: middle;\n",
       "    }\n",
       "\n",
       "    .dataframe tbody tr th {\n",
       "        vertical-align: top;\n",
       "    }\n",
       "\n",
       "    .dataframe thead th {\n",
       "        text-align: right;\n",
       "    }\n",
       "</style>\n",
       "<table border=\"1\" class=\"dataframe\">\n",
       "  <thead>\n",
       "    <tr style=\"text-align: right;\">\n",
       "      <th></th>\n",
       "      <th>user_id</th>\n",
       "      <th>subscription_type</th>\n",
       "      <th>month_number</th>\n",
       "      <th>number_of_rides</th>\n",
       "      <th>total_distance</th>\n",
       "      <th>total_duration</th>\n",
       "      <th>profit</th>\n",
       "    </tr>\n",
       "  </thead>\n",
       "  <tbody>\n",
       "    <tr>\n",
       "      <th>0</th>\n",
       "      <td>1</td>\n",
       "      <td>ultra</td>\n",
       "      <td>1</td>\n",
       "      <td>2</td>\n",
       "      <td>7,028</td>\n",
       "      <td>42</td>\n",
       "      <td>451</td>\n",
       "    </tr>\n",
       "    <tr>\n",
       "      <th>1</th>\n",
       "      <td>1</td>\n",
       "      <td>ultra</td>\n",
       "      <td>4</td>\n",
       "      <td>1</td>\n",
       "      <td>754</td>\n",
       "      <td>7</td>\n",
       "      <td>241</td>\n",
       "    </tr>\n",
       "    <tr>\n",
       "      <th>2</th>\n",
       "      <td>1</td>\n",
       "      <td>ultra</td>\n",
       "      <td>8</td>\n",
       "      <td>2</td>\n",
       "      <td>6,723</td>\n",
       "      <td>46</td>\n",
       "      <td>475</td>\n",
       "    </tr>\n",
       "    <tr>\n",
       "      <th>3</th>\n",
       "      <td>1</td>\n",
       "      <td>ultra</td>\n",
       "      <td>10</td>\n",
       "      <td>2</td>\n",
       "      <td>5,810</td>\n",
       "      <td>32</td>\n",
       "      <td>391</td>\n",
       "    </tr>\n",
       "    <tr>\n",
       "      <th>4</th>\n",
       "      <td>1</td>\n",
       "      <td>ultra</td>\n",
       "      <td>11</td>\n",
       "      <td>3</td>\n",
       "      <td>7,003</td>\n",
       "      <td>56</td>\n",
       "      <td>535</td>\n",
       "    </tr>\n",
       "    <tr>\n",
       "      <th>...</th>\n",
       "      <td>...</td>\n",
       "      <td>...</td>\n",
       "      <td>...</td>\n",
       "      <td>...</td>\n",
       "      <td>...</td>\n",
       "      <td>...</td>\n",
       "      <td>...</td>\n",
       "    </tr>\n",
       "    <tr>\n",
       "      <th>11326</th>\n",
       "      <td>1534</td>\n",
       "      <td>free</td>\n",
       "      <td>6</td>\n",
       "      <td>2</td>\n",
       "      <td>3,409</td>\n",
       "      <td>26</td>\n",
       "      <td>308</td>\n",
       "    </tr>\n",
       "    <tr>\n",
       "      <th>11327</th>\n",
       "      <td>1534</td>\n",
       "      <td>free</td>\n",
       "      <td>8</td>\n",
       "      <td>2</td>\n",
       "      <td>7,622</td>\n",
       "      <td>48</td>\n",
       "      <td>484</td>\n",
       "    </tr>\n",
       "    <tr>\n",
       "      <th>11328</th>\n",
       "      <td>1534</td>\n",
       "      <td>free</td>\n",
       "      <td>9</td>\n",
       "      <td>1</td>\n",
       "      <td>4,928</td>\n",
       "      <td>23</td>\n",
       "      <td>234</td>\n",
       "    </tr>\n",
       "    <tr>\n",
       "      <th>11329</th>\n",
       "      <td>1534</td>\n",
       "      <td>free</td>\n",
       "      <td>11</td>\n",
       "      <td>4</td>\n",
       "      <td>13,350</td>\n",
       "      <td>78</td>\n",
       "      <td>824</td>\n",
       "    </tr>\n",
       "    <tr>\n",
       "      <th>11330</th>\n",
       "      <td>1534</td>\n",
       "      <td>free</td>\n",
       "      <td>12</td>\n",
       "      <td>1</td>\n",
       "      <td>2,372</td>\n",
       "      <td>16</td>\n",
       "      <td>178</td>\n",
       "    </tr>\n",
       "  </tbody>\n",
       "</table>\n",
       "<p>11331 rows × 7 columns</p>\n",
       "</div>"
      ],
      "text/plain": [
       "       user_id subscription_type  month_number  number_of_rides  \\\n",
       "0            1             ultra             1                2   \n",
       "1            1             ultra             4                1   \n",
       "2            1             ultra             8                2   \n",
       "3            1             ultra            10                2   \n",
       "4            1             ultra            11                3   \n",
       "...        ...               ...           ...              ...   \n",
       "11326     1534              free             6                2   \n",
       "11327     1534              free             8                2   \n",
       "11328     1534              free             9                1   \n",
       "11329     1534              free            11                4   \n",
       "11330     1534              free            12                1   \n",
       "\n",
       "       total_distance  total_duration  profit  \n",
       "0               7,028              42     451  \n",
       "1                 754               7     241  \n",
       "2               6,723              46     475  \n",
       "3               5,810              32     391  \n",
       "4               7,003              56     535  \n",
       "...               ...             ...     ...  \n",
       "11326           3,409              26     308  \n",
       "11327           7,622              48     484  \n",
       "11328           4,928              23     234  \n",
       "11329          13,350              78     824  \n",
       "11330           2,372              16     178  \n",
       "\n",
       "[11331 rows x 7 columns]"
      ]
     },
     "execution_count": 147,
     "metadata": {},
     "output_type": "execute_result"
    }
   ],
   "source": [
    "df"
   ]
  },
  {
   "cell_type": "code",
   "execution_count": 148,
   "metadata": {},
   "outputs": [
    {
     "data": {
      "text/html": [
       "<div>\n",
       "<style scoped>\n",
       "    .dataframe tbody tr th:only-of-type {\n",
       "        vertical-align: middle;\n",
       "    }\n",
       "\n",
       "    .dataframe tbody tr th {\n",
       "        vertical-align: top;\n",
       "    }\n",
       "\n",
       "    .dataframe thead th {\n",
       "        text-align: right;\n",
       "    }\n",
       "</style>\n",
       "<table border=\"1\" class=\"dataframe\">\n",
       "  <thead>\n",
       "    <tr style=\"text-align: right;\">\n",
       "      <th></th>\n",
       "      <th>total_profit_per_month</th>\n",
       "    </tr>\n",
       "    <tr>\n",
       "      <th>month_number</th>\n",
       "      <th></th>\n",
       "    </tr>\n",
       "  </thead>\n",
       "  <tbody>\n",
       "    <tr>\n",
       "      <th>1</th>\n",
       "      <td>339,548</td>\n",
       "    </tr>\n",
       "    <tr>\n",
       "      <th>5</th>\n",
       "      <td>338,729</td>\n",
       "    </tr>\n",
       "    <tr>\n",
       "      <th>6</th>\n",
       "      <td>336,874</td>\n",
       "    </tr>\n",
       "    <tr>\n",
       "      <th>3</th>\n",
       "      <td>331,830</td>\n",
       "    </tr>\n",
       "    <tr>\n",
       "      <th>7</th>\n",
       "      <td>329,824</td>\n",
       "    </tr>\n",
       "    <tr>\n",
       "      <th>12</th>\n",
       "      <td>328,117</td>\n",
       "    </tr>\n",
       "    <tr>\n",
       "      <th>8</th>\n",
       "      <td>327,138</td>\n",
       "    </tr>\n",
       "    <tr>\n",
       "      <th>9</th>\n",
       "      <td>324,237</td>\n",
       "    </tr>\n",
       "    <tr>\n",
       "      <th>4</th>\n",
       "      <td>324,228</td>\n",
       "    </tr>\n",
       "    <tr>\n",
       "      <th>10</th>\n",
       "      <td>316,056</td>\n",
       "    </tr>\n",
       "    <tr>\n",
       "      <th>11</th>\n",
       "      <td>307,694</td>\n",
       "    </tr>\n",
       "    <tr>\n",
       "      <th>2</th>\n",
       "      <td>291,956</td>\n",
       "    </tr>\n",
       "  </tbody>\n",
       "</table>\n",
       "</div>"
      ],
      "text/plain": [
       "              total_profit_per_month\n",
       "month_number                        \n",
       "1                            339,548\n",
       "5                            338,729\n",
       "6                            336,874\n",
       "3                            331,830\n",
       "7                            329,824\n",
       "12                           328,117\n",
       "8                            327,138\n",
       "9                            324,237\n",
       "4                            324,228\n",
       "10                           316,056\n",
       "11                           307,694\n",
       "2                            291,956"
      ]
     },
     "execution_count": 148,
     "metadata": {},
     "output_type": "execute_result"
    }
   ],
   "source": [
    "df.groupby('month_number')['profit'].agg(total_profit_per_month='sum').sort_values(by='total_profit_per_month', ascending=False)"
   ]
  },
  {
   "cell_type": "markdown",
   "metadata": {},
   "source": [
    "Самый прибыльный месяц январь, но это объясняется присутствием большего количества данных по южным городам."
   ]
  },
  {
   "cell_type": "markdown",
   "metadata": {},
   "source": [
    "### 6. Проверка гипотез"
   ]
  },
  {
   "cell_type": "markdown",
   "metadata": {},
   "source": [
    "#### 6.1 Важно понять, тратят ли пользователи с подпиской больше времени на поездки? Если да, то пользователи с подпиской могут быть «выгоднее» для компании. Проверьте гипотезу. Используйте исходные данные о продолжительности каждой сессии — отдельно для подписчиков и тех, у кого нет подписки."
   ]
  },
  {
   "cell_type": "markdown",
   "metadata": {},
   "source": [
    "Для проверки гипотезы о том, тратят ли пользователи с подпиской больше времени на поездки, чем пользователи без подписки, воспользуемся правосторонним двухвыборочным t-тестом.\n",
    "\n",
    "Нулевая гипотеза (H0): Средняя продолжительность поездок для подписчиков и неподписчиков одинакова.\n",
    "\n",
    "Альтернативная гипотеза (H1): Подписчики тратят на поездки больше времени, чем неподписчики."
   ]
  },
  {
   "cell_type": "code",
   "execution_count": 149,
   "metadata": {},
   "outputs": [
    {
     "name": "stdout",
     "output_type": "stream",
     "text": [
      "Значение p-value = 1.7217693843668106e-25\n",
      "Значение p-value меньше стат.значимости, следовательно, отвергаем нулевую гипотезу в пользу альтернативной.\n"
     ]
    }
   ],
   "source": [
    "alpha = 0.05\n",
    "\n",
    "t_stat, p_value = st.ttest_ind(users_w_subscription['duration'], users_wo_subscription['duration'], alternative='greater')\n",
    "print(f'Значение p-value = {p_value}')\n",
    "if p_value < alpha:\n",
    "    print(f'Значение p-value меньше стат.значимости, следовательно, отвергаем нулевую гипотезу в пользу альтернативной.')\n",
    "else:\n",
    "    print('Не удалось опровергнуть нулевую гипотезу в пользу альтернативной.')"
   ]
  },
  {
   "cell_type": "markdown",
   "metadata": {},
   "source": [
    "По результатам статистического теста можно сделать вывод, что действительно, в среднем пользователи с подпиской тратят больше времени на поездки. Что таже было видно в шаге 4. (Среднее для подписчиков - 19 минут, а для пользователей без подписки - 18 минут.)"
   ]
  },
  {
   "cell_type": "markdown",
   "metadata": {},
   "source": [
    "#### 6.2 Расстояние одной поездки в 3130 метров — оптимальное с точки зрения износа самоката. Можно ли сказать, что среднее расстояние, которое проезжают пользователи с подпиской за одну поездку, не превышает 3130 метров? Проверьте гипотезу и сделайте выводы."
   ]
  },
  {
   "cell_type": "markdown",
   "metadata": {},
   "source": [
    "Для проверки гипотезы о том, не превышает ли среднее расстояние, которое проезжает пользователь с подпиской 3130 метров, воспользуемся правовторонним t-тестом.\n",
    "\n",
    "Нулевая гипотеза (H0): Среднее расстояние пользователя с подпиской = 3130 метров.\n",
    "\n",
    "Альтернативная гипотеза (H1): Среднее расстояние пользователя с подпиской больше 3130 метров."
   ]
  },
  {
   "cell_type": "code",
   "execution_count": 150,
   "metadata": {},
   "outputs": [
    {
     "name": "stdout",
     "output_type": "stream",
     "text": [
      "Значение p-value = 0.9195368847849785\n",
      "Не удалось опровергнуть нулевую гипотезу в пользу альтернативной.\n",
      "Cреднее значение выборки: 3115.4453880370247\n"
     ]
    }
   ],
   "source": [
    "alpha = 0.05\n",
    "\n",
    "t_stat, p_value = st.ttest_1samp(users_w_subscription['distance'], 3130, alternative='greater')\n",
    "print(f'Значение p-value = {p_value}')\n",
    "if p_value < alpha:\n",
    "    print(f'Значение p-value меньше стат.значимости, следовательно, отвергаем нудевую гипотезу в пользу альтернативной')\n",
    "else:\n",
    "    print('Не удалось опровергнуть нулевую гипотезу в пользу альтернативной.')\n",
    "print('Cреднее значение выборки:', users_w_subscription['distance'].mean())"
   ]
  },
  {
   "cell_type": "markdown",
   "metadata": {},
   "source": [
    "Исходя из проведённого теста, можно сделать вывод, что у нас недостаточно данных для того, чтобы утверждать, что среднее расстояние для подписчиков превышает 3130 метров.\n",
    "По выборке видно также, что среднее расстояние несколько ниже указанного 3130, что в целом может показывать, что самокаты не будут выходить из строя ранее положенного срока."
   ]
  },
  {
   "cell_type": "markdown",
   "metadata": {},
   "source": [
    "#### 6.3 Проверьте гипотезу о том, будет ли помесячная выручка от пользователей с подпиской по месяцам выше, чем выручка от пользователей без подписки. Сделайте вывод."
   ]
  },
  {
   "cell_type": "markdown",
   "metadata": {},
   "source": [
    "Для проверки этой гипотезы воспользуемся t-тестом для независимых выборок, чтобы сравнить среднюю выручку от пользователей с подпиской и без подписки. В данном случае:\n",
    "\n",
    "Нулевая гипотеза (H0): Средняя выручка от пользователей с подпиской не отличается от средней выручки от пользователей без подписки.\n",
    "\n",
    "Альтернативная гипотеза (H1): Средняя выручка от пользователей с подпиской выше, чем средняя выручка от пользователей без подписки."
   ]
  },
  {
   "cell_type": "code",
   "execution_count": 151,
   "metadata": {},
   "outputs": [
    {
     "name": "stdout",
     "output_type": "stream",
     "text": [
      "Значение p-value = 5.278918749805128e-27\n",
      "Значение p-value меньше стат.значимости, следовательно, отвергаем нудевую гипотезу в пользу альтернативной\n"
     ]
    }
   ],
   "source": [
    "alpha = 0.05\n",
    "sample_1 = df.loc[df['subscription_type']=='ultra', 'profit']\n",
    "sample_2 = df.loc[df['subscription_type']=='free', 'profit']\n",
    "\n",
    "t_stat, p_value = st.ttest_ind(sample_1, sample_2, alternative='greater')\n",
    "print(f'Значение p-value = {p_value}')\n",
    "\n",
    "if p_value < alpha:\n",
    "    print(f'Значение p-value меньше стат.значимости, следовательно, отвергаем нудевую гипотезу в пользу альтернативной')\n",
    "else:\n",
    "    print('Не удалось опровергнуть нулевую гипотезу в пользу альтернативной')"
   ]
  },
  {
   "cell_type": "markdown",
   "metadata": {},
   "source": [
    "По представленным данным можно сделать вывод, что средняя выручка от пользователей с подпиской выше, чем средняя выручка от пользователей без подписки, что может быть использовано в дальнейшем для улучшения условий подписки, новых акций и привелечения новых подписчиков. "
   ]
  },
  {
   "cell_type": "markdown",
   "metadata": {},
   "source": [
    "Вывод: средняя выручка от пользователей с подпиской выше, чем от пользователей без подписки."
   ]
  },
  {
   "cell_type": "markdown",
   "metadata": {},
   "source": [
    "#### 6.4 Представьте такую ситуацию: техническая команда сервиса обновила сервера, с которыми взаимодействует мобильное приложение. Она надеется, что из-за этого количество обращений в техподдержку значимо снизилось. Некоторый файл содержит для каждого пользователя данные о количестве обращений до обновления и после него. Какой тест вам понадобился бы для проверки этой гипотезы?"
   ]
  },
  {
   "attachments": {
    "image.png": {
     "image/png": "[encoded data removed]"
    }
   },
   "cell_type": "markdown",
   "metadata": {},
   "source": [
    "Для проверки гипотезы о том, что количество обращений в техподдержку значимо снизилось после обновления серверов, можно использовать односторонний t-тест для зависимых выборок.\n",
    "\n",
    "В данном случае:\n",
    "\n",
    "Нулевая гипотеза (H0): Среднее количество обращений в техподдержку до и после обновления серверов одинаково.\n",
    "\n",
    "Альтернативная гипотеза (H1): Среднее количество обращений в техподдержку после обновления серверов меньше, чем до обновления.\n",
    "\n",
    "Примерный код:\n",
    "![image.png](attachment:image.png)"
   ]
  },
  {
   "cell_type": "markdown",
   "metadata": {},
   "source": [
    "### 7. Распределения"
   ]
  },
  {
   "cell_type": "markdown",
   "metadata": {},
   "source": [
    "#### 7.1 Отделу маркетинга GoFast поставили задачу: нужно провести акцию с раздачей промокодов на один бесплатный месяц подписки, в рамках которой как минимум \n",
    "100 существующих клиентов должны продлить эту подписку. То есть по завершении периода действия подписки пользователь может либо отказаться от неё, либо продлить, совершив соответствующий платёж.\n",
    "\n",
    "Эта акция уже проводилась ранее и по итогу выяснилось, что после бесплатного пробного периода подписку продлевают 10% пользователей. Выясните, какое минимальное количество промокодов нужно разослать, чтобы вероятность не выполнить план была примерно 5%. Подберите параметры распределения, описывающего эту ситуацию, постройте график распределения и сформулируйте ответ на вопрос о количестве промокодов."
   ]
  },
  {
   "cell_type": "markdown",
   "metadata": {},
   "source": [
    "- В данном случае подойдёт биномиальное распределение, т.к. случай с каждым клиентом - это независимое испытание Бернулли с двумя исходами (клиент продлит подписку - успех, клиент не продлит подписку - неудача).\n",
    "- Всего испытаний - 100, вероятность успеха для каждого эксперимента одинаковая и составляет 10%, т.е. 0.1."
   ]
  },
  {
   "cell_type": "code",
   "execution_count": 153,
   "metadata": {},
   "outputs": [
    {
     "data": {
      "text/plain": [
       "Text(0.5, 1.0, 'Биномиальное распределение продления подписки')"
      ]
     },
     "execution_count": 153,
     "metadata": {},
     "output_type": "execute_result"
    },
    {
     "data": {
      "image/png": "[encoded data removed]",
      "text/plain": [
       "<Figure size 640x480 with 1 Axes>"
      ]
     },
     "metadata": {},
     "output_type": "display_data"
    }
   ],
   "source": [
    "# Количечество существующих клиентов / экспериментов Бернулли\n",
    "experiments = 100\n",
    "\n",
    "# Вероятность продления подписки\n",
    "p_success = 0.1 \n",
    "\n",
    "distr = []\n",
    "\n",
    "for k in range(0, experiments+1):\n",
    "    collection = factorial(experiments)/(factorial(k) * factorial(experiments-k))\n",
    "    prob = collection * p_success**k * (1-p_success)**(experiments-k)\n",
    "    distr.append(prob)\n",
    "\n",
    "plt.bar(range(0, experiments+1), distr)\n",
    "plt.xlabel('Количество клиентов')\n",
    "plt.ylabel('Вероятность')\n",
    "plt.title('Биномиальное распределение продления подписки')"
   ]
  },
  {
   "cell_type": "code",
   "execution_count": 154,
   "metadata": {},
   "outputs": [
    {
     "data": {
      "text/plain": [
       "Text(0.5, 1.0, 'Биномиальное распределение продления подписки')"
      ]
     },
     "execution_count": 154,
     "metadata": {},
     "output_type": "execute_result"
    },
    {
     "data": {
      "image/png": "[encoded data removed]",
      "text/plain": [
       "<Figure size 640x480 with 1 Axes>"
      ]
     },
     "metadata": {},
     "output_type": "display_data"
    }
   ],
   "source": [
    "x = range(0, experiments + 1)\n",
    "y = binom.pmf(x, experiments, p_success)\n",
    "plt.bar(x, y)\n",
    "plt.xlabel('Количество клиентов')\n",
    "plt.ylabel('Вероятность')\n",
    "plt.title('Биномиальное распределение продления подписки')"
   ]
  },
  {
   "cell_type": "markdown",
   "metadata": {},
   "source": [
    "- Из распределения видно, что значение с наибольшей вероятностью, т.е. то количество клиентов из 100, которое продлит подписку с максимальной вероятностью - 10.\n",
    "- Теперь необходимо найти такое количество клиентов, при котором вероятность продления составит примерно 5%.\n",
    "- Из графика видно, что это где-то 5, но проверим это, используя кумулятивную функцию (как указано в ТЗ), которая покажет будет ли вероятность при числе успехов (клиентов, продливших подписку) менее/равным 5-ти составлять 5%."
   ]
  },
  {
   "cell_type": "code",
   "execution_count": 155,
   "metadata": {
    "scrolled": true
   },
   "outputs": [
    {
     "name": "stdout",
     "output_type": "stream",
     "text": [
      "Probability of <= 5 successes: 0.05757688648703396\n"
     ]
    }
   ],
   "source": [
    "# вероятность, что кол-во успехов меньше или равно 5\n",
    "k = 5\n",
    "p_failure = binom.cdf(k, experiments, p_success)\n",
    "print(\"Probability of <= 5 successes:\", p_failure)"
   ]
  },
  {
   "cell_type": "markdown",
   "metadata": {},
   "source": [
    "Но удобнее найти число успехов, при котором вероятность составит 5%, используя функцию ppf. Она должна вернуть нам значение = 5. Проверим."
   ]
  },
  {
   "cell_type": "code",
   "execution_count": 156,
   "metadata": {},
   "outputs": [
    {
     "name": "stdout",
     "output_type": "stream",
     "text": [
      "Value such that P(X <= k) = 0.5: 5.0\n"
     ]
    }
   ],
   "source": [
    "# значение, при котором вероятность 5%\n",
    "p_failure = 0.05\n",
    "k = binom.ppf(p_failure, experiments, p_success)\n",
    "print(\"Value such that P(X <= k) = 0.5:\", k)"
   ]
  },
  {
   "cell_type": "markdown",
   "metadata": {},
   "source": [
    "Все верно, получается, что при вероятности в 5% минимальное количество успехов должно быть 5. "
   ]
  },
  {
   "cell_type": "code",
   "execution_count": 157,
   "metadata": {},
   "outputs": [
    {
     "data": {
      "image/png": "[encoded data removed]",
      "text/plain": [
       "<Figure size 640x480 with 1 Axes>"
      ]
     },
     "metadata": {},
     "output_type": "display_data"
    },
    {
     "name": "stdout",
     "output_type": "stream",
     "text": [
      "Минимальное количество промокодов, которое нужно разослать: 5\n"
     ]
    }
   ],
   "source": [
    "n_promo_codes = k\n",
    "plt.bar(x, y)\n",
    "plt.xlabel('Количество клиентов')\n",
    "plt.ylabel('Вероятность')\n",
    "plt.title('Вероятность продления клиентом подписки')\n",
    "plt.axvline(n_promo_codes, color='r', linestyle='--', label=f'Количество промокодов: {int(n_promo_codes)}')\n",
    "plt.legend()\n",
    "plt.show()\n",
    "\n",
    "print(f\"Минимальное количество промокодов, которое нужно разослать: {int(n_promo_codes)}\")"
   ]
  },
  {
   "cell_type": "markdown",
   "metadata": {},
   "source": [
    "#### 7.2 Отдел маркетинга рассылает клиентам push-уведомления в мобильном приложении. Клиенты могут открыть его или не открывать. Известно, что уведомления открывают около 40 % получивших клиентов. Отдел планирует разослать 1 млн уведомлений. С помощью аппроксимации постройте примерный график распределения и оцените вероятность того, что уведомление откроют не более 399,5 тыс. пользователей."
   ]
  },
  {
   "cell_type": "markdown",
   "metadata": {},
   "source": [
    "- В данном случает речь также идёт о биномиальном распределении (клиент открыл уведомление - успех, не открыл - неудача).\n",
    "- Часто условиями аппроксимации биномиального распределения нормальным являются достаточно большое n и p около 0.5. Считаю, что в данном случае n = 1000000 можно считать большим и p = 0.4 можно считать близким к 0.5.\n",
    "- Однако, проверим, выполняется ли следующее условие: Если промежуток от математического ожидания биномиального распределения плюс-минус три его стандартных отклонения  лежит в пределах то аппроксимацию можно использовать."
   ]
  },
  {
   "cell_type": "code",
   "execution_count": 158,
   "metadata": {},
   "outputs": [
    {
     "name": "stdout",
     "output_type": "stream",
     "text": [
      "Интервал лежит в пределах диапазона биномиального распределения.\n",
      "Нормальная аппроксимация может быть использована.\n"
     ]
    }
   ],
   "source": [
    "n = 1000000  # кол-во испытаниц\n",
    "p = 0.4  # вероятность успеха\n",
    "\n",
    "# среднее и стандартное отклонение\n",
    "mean = n * p\n",
    "std_dev = math.sqrt(n * p * (1 - p))\n",
    "\n",
    "# границы интервала\n",
    "interval_lower = mean - 3 * std_dev\n",
    "interval_upper = mean + 3 * std_dev\n",
    "\n",
    "# проверяем, лежит ли интервал в пределах диапазона биномиального распределения\n",
    "if interval_lower >= 0 and interval_upper <= n:\n",
    "    print(\"Интервал лежит в пределах диапазона биномиального распределения.\")\n",
    "    print(\"Нормальная аппроксимация может быть использована.\")\n",
    "else:\n",
    "    print(\"Интервал не лежит в пределах диапазона биномиального распределения.\")\n",
    "    print(\"Нормальная аппроксимация может быть не подходящей.\")"
   ]
  },
  {
   "cell_type": "markdown",
   "metadata": {},
   "source": [
    "- Построим график аппроксимации нормальным распеределением.\n",
    "- Найти вероятность того, что уведомление откроют не более 399,5 тыс. пользователей поможет функция cdf."
   ]
  },
  {
   "cell_type": "code",
   "execution_count": 159,
   "metadata": {},
   "outputs": [
    {
     "data": {
      "image/png": "[encoded data removed]",
      "text/plain": [
       "<Figure size 640x480 with 1 Axes>"
      ]
     },
     "metadata": {},
     "output_type": "display_data"
    }
   ],
   "source": [
    "# значения x для графика\n",
    "x = np.linspace(mean - 4*std_dev, mean + 4*std_dev, 1000)\n",
    "\n",
    "# плотность вероятности (PDF) нормального распределения\n",
    "pdf = norm.pdf(x, loc=mean, scale=std_dev)\n",
    "\n",
    "plt.plot(x, pdf, label='Нормальная аппроксимация', color='red')\n",
    "plt.fill_between(x, norm.pdf(x, mean, std_dev), where=(x <= 399500), color='skyblue', alpha=0.5)\n",
    "\n",
    "plt.xlabel('Количество успехов')\n",
    "plt.ylabel('Плотность вероятности')\n",
    "plt.title('Аппроксимация биномиального распределения нормальным')\n",
    "plt.legend()\n",
    "plt.grid(True)\n",
    "plt.show()"
   ]
  },
  {
   "cell_type": "code",
   "execution_count": 160,
   "metadata": {
    "scrolled": false
   },
   "outputs": [
    {
     "name": "stdout",
     "output_type": "stream",
     "text": [
      "Вероятность того, что уведомление откроют не более 399,5 тыс. пользователей: 15%\n"
     ]
    }
   ],
   "source": [
    "probability = round((norm.cdf(399500, mean, std_dev))*100)\n",
    "print(f'Вероятность того, что уведомление откроют не более 399,5 тыс. пользователей: {probability}%')"
   ]
  },
  {
   "cell_type": "markdown",
   "metadata": {},
   "source": [
    "#### Выводы и рекомендации:\n",
    "\n",
    "По результатам исследовательского анализа данных сервиса проката самокатов GoFast была получена ценная информация, которая может помочь оптимизировать работу и улучшить качество предоставляемых услуг.\n",
    "\n",
    "- Популярность сервиса в Пятигорске: Судя по данным, сервис проката самокатов GoFast пользуется наибольшей популярностью в городе Пятигорске. Это может быть признаком того, что рынок в этом городе имеет потенциал для дальнейшего развития и расширения услуг.\n",
    "\n",
    "- Подписки и пользователи: Большинство пользователей (54%) не имеют подписки. Это может указывать на необходимость дальнейшего привлечения клиентов к услугам подписки через привлекательные предложения и льготные условия.\n",
    "\n",
    "- Характеристики пользователей: Большинство пользователей сервиса находятся в возрастной группе от 20 до 30 лет. Это может помочь в формировании маркетинговых стратегий и продвижении услуг с учетом предпочтений и потребностей этой целевой аудитории.\n",
    "\n",
    "- Характеристики поездок: Длительность и расстояние поездок имеют свои характеристики. Большинство поездок имеют относительно короткое расстояние и продолжительность, что может указывать на предпочтение пользователей использовать сервис для краткосрочных поездок внутри города.\n",
    "\n",
    "- Выручка от подписок: Данные показывают, что средняя выручка от пользователей с подпиской выше, чем от пользователей без подписки. Это может свидетельствовать о преимуществах и привлекательности услуг подписки для пользователей.\n",
    "\n",
    "- Контроль состояния самокатов: Анализ среднего расстояния поездки также указывает на то, что самокаты в целом не выходят из строя ранее положенного срока, что является положительным сигналом для бизнеса и позволяет экономить на обслуживании и ремонте оборудования.\n",
    "\n",
    "На основе этих выводов рекомендуется:\n",
    "\n",
    "- Увеличить количество пользователей с подпиской: Разработать маркетинговые стратегии, направленные на привлечение новых пользователей к услугам подписки, предлагая привлекательные условия и бонусы.\n",
    "\n",
    "- Оптимизировать условия подписки: Изучить предпочтения пользователей и оптимизировать условия подписки, чтобы они были более привлекательными и соответствовали потребностям клиентов.\n",
    "\n",
    "Эти рекомендации помогут компании GoFast улучшить свою конкурентоспособность на рынке и повысить удовлетворенность клиентов.\n"
   ]
  }
 ],
 "metadata": {
  "ExecuteTimeLog": [
   {
    "duration": 1337,
    "start_time": "2024-05-12T19:21:13.419Z"
   },
   {
    "duration": 333,
    "start_time": "2024-05-12T19:21:14.758Z"
   },
   {
    "duration": 11,
    "start_time": "2024-05-12T19:21:15.093Z"
   },
   {
    "duration": 15,
    "start_time": "2024-05-12T19:21:15.106Z"
   },
   {
    "duration": 9,
    "start_time": "2024-05-12T19:21:15.122Z"
   },
   {
    "duration": 17,
    "start_time": "2024-05-12T19:21:15.133Z"
   },
   {
    "duration": 8,
    "start_time": "2024-05-12T19:21:15.153Z"
   },
   {
    "duration": 10,
    "start_time": "2024-05-12T19:21:15.163Z"
   },
   {
    "duration": 22,
    "start_time": "2024-05-12T19:21:15.175Z"
   },
   {
    "duration": 13,
    "start_time": "2024-05-12T19:21:15.201Z"
   },
   {
    "duration": 9,
    "start_time": "2024-05-12T19:21:15.215Z"
   },
   {
    "duration": 11,
    "start_time": "2024-05-12T19:21:15.225Z"
   },
   {
    "duration": 8,
    "start_time": "2024-05-12T19:21:15.257Z"
   },
   {
    "duration": 11,
    "start_time": "2024-05-12T19:21:15.266Z"
   },
   {
    "duration": 3,
    "start_time": "2024-05-12T19:21:15.279Z"
   },
   {
    "duration": 12,
    "start_time": "2024-05-12T19:21:15.284Z"
   },
   {
    "duration": 211,
    "start_time": "2024-05-12T19:21:15.297Z"
   },
   {
    "duration": 12,
    "start_time": "2024-05-12T19:21:15.509Z"
   },
   {
    "duration": 117,
    "start_time": "2024-05-12T19:21:15.522Z"
   },
   {
    "duration": 7,
    "start_time": "2024-05-12T19:21:15.640Z"
   },
   {
    "duration": 17,
    "start_time": "2024-05-12T19:21:15.656Z"
   },
   {
    "duration": 28,
    "start_time": "2024-05-12T19:21:15.675Z"
   },
   {
    "duration": 157,
    "start_time": "2024-05-12T19:21:15.705Z"
   },
   {
    "duration": 8,
    "start_time": "2024-05-12T19:21:15.863Z"
   },
   {
    "duration": 27,
    "start_time": "2024-05-12T19:21:15.873Z"
   },
   {
    "duration": 36,
    "start_time": "2024-05-12T19:21:15.901Z"
   },
   {
    "duration": 21,
    "start_time": "2024-05-12T19:21:15.938Z"
   },
   {
    "duration": 190,
    "start_time": "2024-05-12T19:21:15.962Z"
   },
   {
    "duration": 9,
    "start_time": "2024-05-12T19:21:16.153Z"
   },
   {
    "duration": 36,
    "start_time": "2024-05-12T19:21:16.164Z"
   },
   {
    "duration": 49,
    "start_time": "2024-05-12T19:21:16.202Z"
   },
   {
    "duration": 203,
    "start_time": "2024-05-12T19:21:16.257Z"
   },
   {
    "duration": 197,
    "start_time": "2024-05-12T19:21:16.462Z"
   },
   {
    "duration": 6,
    "start_time": "2024-05-12T19:21:16.661Z"
   },
   {
    "duration": 29,
    "start_time": "2024-05-12T19:21:16.669Z"
   },
   {
    "duration": 9,
    "start_time": "2024-05-12T19:21:16.700Z"
   },
   {
    "duration": 10,
    "start_time": "2024-05-12T19:21:16.711Z"
   },
   {
    "duration": 49,
    "start_time": "2024-05-12T19:21:16.723Z"
   },
   {
    "duration": 185,
    "start_time": "2024-05-12T19:21:16.773Z"
   },
   {
    "duration": 249,
    "start_time": "2024-05-12T19:21:16.959Z"
   },
   {
    "duration": 175,
    "start_time": "2024-05-12T19:21:17.209Z"
   },
   {
    "duration": 178,
    "start_time": "2024-05-12T19:21:17.385Z"
   },
   {
    "duration": 30,
    "start_time": "2024-05-12T19:21:17.564Z"
   },
   {
    "duration": 3,
    "start_time": "2024-05-12T19:21:17.596Z"
   },
   {
    "duration": 138,
    "start_time": "2024-05-12T19:21:17.600Z"
   },
   {
    "duration": 18,
    "start_time": "2024-05-12T19:21:17.739Z"
   },
   {
    "duration": 9,
    "start_time": "2024-05-12T19:21:17.758Z"
   },
   {
    "duration": 7,
    "start_time": "2024-05-12T19:21:17.769Z"
   },
   {
    "duration": 20,
    "start_time": "2024-05-12T19:21:17.777Z"
   },
   {
    "duration": 7,
    "start_time": "2024-05-12T19:21:17.799Z"
   },
   {
    "duration": 250,
    "start_time": "2024-05-12T19:21:17.808Z"
   },
   {
    "duration": 279,
    "start_time": "2024-05-12T19:21:18.059Z"
   },
   {
    "duration": 93,
    "start_time": "2024-05-12T19:21:18.340Z"
   },
   {
    "duration": 0,
    "start_time": "2024-05-12T19:21:18.434Z"
   },
   {
    "duration": 0,
    "start_time": "2024-05-12T19:21:18.436Z"
   },
   {
    "duration": 0,
    "start_time": "2024-05-12T19:21:18.437Z"
   },
   {
    "duration": 0,
    "start_time": "2024-05-12T19:21:18.439Z"
   },
   {
    "duration": 0,
    "start_time": "2024-05-12T19:21:18.440Z"
   },
   {
    "duration": 10,
    "start_time": "2024-05-12T19:31:08.655Z"
   },
   {
    "duration": 12,
    "start_time": "2024-05-12T19:34:01.780Z"
   },
   {
    "duration": 660,
    "start_time": "2024-05-12T19:35:06.348Z"
   },
   {
    "duration": 9,
    "start_time": "2024-05-12T19:35:13.957Z"
   },
   {
    "duration": 11,
    "start_time": "2024-05-12T19:37:27.990Z"
   },
   {
    "duration": 9,
    "start_time": "2024-05-12T19:38:07.470Z"
   },
   {
    "duration": 8,
    "start_time": "2024-05-12T19:40:11.324Z"
   },
   {
    "duration": 4,
    "start_time": "2024-05-12T19:41:21.932Z"
   },
   {
    "duration": 192,
    "start_time": "2024-05-12T19:41:24.695Z"
   },
   {
    "duration": 4,
    "start_time": "2024-05-12T19:41:26.158Z"
   },
   {
    "duration": 4,
    "start_time": "2024-05-12T19:41:44.839Z"
   },
   {
    "duration": 1058,
    "start_time": "2024-05-12T19:41:59.097Z"
   },
   {
    "duration": 191,
    "start_time": "2024-05-12T19:42:00.157Z"
   },
   {
    "duration": 10,
    "start_time": "2024-05-12T19:42:00.350Z"
   },
   {
    "duration": 52,
    "start_time": "2024-05-12T19:42:00.362Z"
   },
   {
    "duration": 32,
    "start_time": "2024-05-12T19:42:00.416Z"
   },
   {
    "duration": 66,
    "start_time": "2024-05-12T19:42:00.449Z"
   },
   {
    "duration": 31,
    "start_time": "2024-05-12T19:42:00.516Z"
   },
   {
    "duration": 61,
    "start_time": "2024-05-12T19:42:00.549Z"
   },
   {
    "duration": 33,
    "start_time": "2024-05-12T19:42:00.612Z"
   },
   {
    "duration": 46,
    "start_time": "2024-05-12T19:42:00.646Z"
   },
   {
    "duration": 38,
    "start_time": "2024-05-12T19:42:00.694Z"
   },
   {
    "duration": 59,
    "start_time": "2024-05-12T19:42:00.734Z"
   },
   {
    "duration": 44,
    "start_time": "2024-05-12T19:42:00.794Z"
   },
   {
    "duration": 50,
    "start_time": "2024-05-12T19:42:00.841Z"
   },
   {
    "duration": 45,
    "start_time": "2024-05-12T19:42:00.892Z"
   },
   {
    "duration": 103,
    "start_time": "2024-05-12T19:42:00.938Z"
   },
   {
    "duration": 237,
    "start_time": "2024-05-12T19:42:01.043Z"
   },
   {
    "duration": 13,
    "start_time": "2024-05-12T19:42:01.282Z"
   },
   {
    "duration": 147,
    "start_time": "2024-05-12T19:42:01.297Z"
   },
   {
    "duration": 8,
    "start_time": "2024-05-12T19:42:01.445Z"
   },
   {
    "duration": 38,
    "start_time": "2024-05-12T19:42:01.455Z"
   },
   {
    "duration": 71,
    "start_time": "2024-05-12T19:42:01.494Z"
   },
   {
    "duration": 220,
    "start_time": "2024-05-12T19:42:01.567Z"
   },
   {
    "duration": 9,
    "start_time": "2024-05-12T19:42:01.789Z"
   },
   {
    "duration": 32,
    "start_time": "2024-05-12T19:42:01.799Z"
   },
   {
    "duration": 49,
    "start_time": "2024-05-12T19:42:01.833Z"
   },
   {
    "duration": 44,
    "start_time": "2024-05-12T19:42:01.884Z"
   },
   {
    "duration": 207,
    "start_time": "2024-05-12T19:42:01.930Z"
   },
   {
    "duration": 8,
    "start_time": "2024-05-12T19:42:02.138Z"
   },
   {
    "duration": 18,
    "start_time": "2024-05-12T19:42:02.148Z"
   },
   {
    "duration": 6,
    "start_time": "2024-05-12T19:42:02.168Z"
   },
   {
    "duration": 18,
    "start_time": "2024-05-12T19:42:02.175Z"
   },
   {
    "duration": 181,
    "start_time": "2024-05-12T19:42:02.194Z"
   },
   {
    "duration": 6,
    "start_time": "2024-05-12T19:42:02.376Z"
   },
   {
    "duration": 32,
    "start_time": "2024-05-12T19:42:02.383Z"
   },
   {
    "duration": 10,
    "start_time": "2024-05-12T19:42:02.416Z"
   },
   {
    "duration": 31,
    "start_time": "2024-05-12T19:42:02.427Z"
   },
   {
    "duration": 34,
    "start_time": "2024-05-12T19:42:02.459Z"
   },
   {
    "duration": 203,
    "start_time": "2024-05-12T19:42:02.494Z"
   },
   {
    "duration": 262,
    "start_time": "2024-05-12T19:42:02.698Z"
   },
   {
    "duration": 174,
    "start_time": "2024-05-12T19:42:02.963Z"
   },
   {
    "duration": 212,
    "start_time": "2024-05-12T19:42:03.139Z"
   },
   {
    "duration": 32,
    "start_time": "2024-05-12T19:42:03.352Z"
   },
   {
    "duration": 3,
    "start_time": "2024-05-12T19:42:03.386Z"
   },
   {
    "duration": 146,
    "start_time": "2024-05-12T19:42:03.391Z"
   },
   {
    "duration": 13,
    "start_time": "2024-05-12T19:42:03.538Z"
   },
   {
    "duration": 10,
    "start_time": "2024-05-12T19:42:03.556Z"
   },
   {
    "duration": 8,
    "start_time": "2024-05-12T19:42:03.568Z"
   },
   {
    "duration": 6,
    "start_time": "2024-05-12T19:42:03.577Z"
   },
   {
    "duration": 6,
    "start_time": "2024-05-12T19:42:03.584Z"
   },
   {
    "duration": 269,
    "start_time": "2024-05-12T19:42:03.592Z"
   },
   {
    "duration": 241,
    "start_time": "2024-05-12T19:42:03.862Z"
   },
   {
    "duration": 95,
    "start_time": "2024-05-12T19:42:04.105Z"
   },
   {
    "duration": 0,
    "start_time": "2024-05-12T19:42:04.201Z"
   },
   {
    "duration": 0,
    "start_time": "2024-05-12T19:42:04.202Z"
   },
   {
    "duration": 0,
    "start_time": "2024-05-12T19:42:04.203Z"
   },
   {
    "duration": 0,
    "start_time": "2024-05-12T19:42:04.204Z"
   },
   {
    "duration": 0,
    "start_time": "2024-05-12T19:42:04.205Z"
   },
   {
    "duration": 1418,
    "start_time": "2024-05-13T23:17:02.502Z"
   },
   {
    "duration": 327,
    "start_time": "2024-05-13T23:17:03.921Z"
   },
   {
    "duration": 12,
    "start_time": "2024-05-13T23:17:04.250Z"
   },
   {
    "duration": 35,
    "start_time": "2024-05-13T23:17:04.265Z"
   },
   {
    "duration": 27,
    "start_time": "2024-05-13T23:17:04.302Z"
   },
   {
    "duration": 25,
    "start_time": "2024-05-13T23:17:04.330Z"
   },
   {
    "duration": 17,
    "start_time": "2024-05-13T23:17:04.357Z"
   },
   {
    "duration": 11,
    "start_time": "2024-05-13T23:17:04.375Z"
   },
   {
    "duration": 12,
    "start_time": "2024-05-13T23:17:04.387Z"
   },
   {
    "duration": 9,
    "start_time": "2024-05-13T23:17:04.402Z"
   },
   {
    "duration": 8,
    "start_time": "2024-05-13T23:17:04.413Z"
   },
   {
    "duration": 10,
    "start_time": "2024-05-13T23:17:04.423Z"
   },
   {
    "duration": 9,
    "start_time": "2024-05-13T23:17:04.435Z"
   },
   {
    "duration": 13,
    "start_time": "2024-05-13T23:17:04.446Z"
   },
   {
    "duration": 11,
    "start_time": "2024-05-13T23:17:04.461Z"
   },
   {
    "duration": 28,
    "start_time": "2024-05-13T23:17:04.473Z"
   },
   {
    "duration": 190,
    "start_time": "2024-05-13T23:17:04.503Z"
   },
   {
    "duration": 13,
    "start_time": "2024-05-13T23:17:04.695Z"
   },
   {
    "duration": 90,
    "start_time": "2024-05-13T23:17:04.709Z"
   },
   {
    "duration": 9,
    "start_time": "2024-05-13T23:17:04.800Z"
   },
   {
    "duration": 9,
    "start_time": "2024-05-13T23:17:04.811Z"
   },
   {
    "duration": 194,
    "start_time": "2024-05-13T23:17:04.822Z"
   },
   {
    "duration": 10,
    "start_time": "2024-05-13T23:17:05.017Z"
   },
   {
    "duration": 18,
    "start_time": "2024-05-13T23:17:05.028Z"
   },
   {
    "duration": 28,
    "start_time": "2024-05-13T23:17:05.048Z"
   },
   {
    "duration": 17,
    "start_time": "2024-05-13T23:17:05.078Z"
   },
   {
    "duration": 206,
    "start_time": "2024-05-13T23:17:05.096Z"
   },
   {
    "duration": 9,
    "start_time": "2024-05-13T23:17:05.305Z"
   },
   {
    "duration": 28,
    "start_time": "2024-05-13T23:17:05.316Z"
   },
   {
    "duration": 47,
    "start_time": "2024-05-13T23:17:05.345Z"
   },
   {
    "duration": 203,
    "start_time": "2024-05-13T23:17:05.395Z"
   },
   {
    "duration": 203,
    "start_time": "2024-05-13T23:17:05.599Z"
   },
   {
    "duration": 6,
    "start_time": "2024-05-13T23:17:05.804Z"
   },
   {
    "duration": 22,
    "start_time": "2024-05-13T23:17:05.812Z"
   },
   {
    "duration": 58,
    "start_time": "2024-05-13T23:17:05.836Z"
   },
   {
    "duration": 9,
    "start_time": "2024-05-13T23:17:05.896Z"
   },
   {
    "duration": 19,
    "start_time": "2024-05-13T23:17:05.907Z"
   },
   {
    "duration": 30,
    "start_time": "2024-05-13T23:17:05.928Z"
   },
   {
    "duration": 18,
    "start_time": "2024-05-13T23:17:05.960Z"
   },
   {
    "duration": 17,
    "start_time": "2024-05-13T23:17:05.980Z"
   },
   {
    "duration": 311,
    "start_time": "2024-05-13T23:17:05.999Z"
   },
   {
    "duration": 14,
    "start_time": "2024-05-13T23:17:06.311Z"
   },
   {
    "duration": 349,
    "start_time": "2024-05-13T23:17:06.327Z"
   },
   {
    "duration": 18,
    "start_time": "2024-05-13T23:17:06.678Z"
   },
   {
    "duration": 3,
    "start_time": "2024-05-13T23:17:06.698Z"
   },
   {
    "duration": 33,
    "start_time": "2024-05-13T23:17:06.703Z"
   },
   {
    "duration": 143,
    "start_time": "2024-05-13T23:17:06.737Z"
   },
   {
    "duration": 21,
    "start_time": "2024-05-13T23:17:06.881Z"
   },
   {
    "duration": 24,
    "start_time": "2024-05-13T23:17:06.904Z"
   },
   {
    "duration": 27,
    "start_time": "2024-05-13T23:17:06.930Z"
   },
   {
    "duration": 43,
    "start_time": "2024-05-13T23:17:06.959Z"
   },
   {
    "duration": 17,
    "start_time": "2024-05-13T23:17:07.003Z"
   },
   {
    "duration": 255,
    "start_time": "2024-05-13T23:17:07.022Z"
   },
   {
    "duration": 262,
    "start_time": "2024-05-13T23:17:07.280Z"
   },
   {
    "duration": 4,
    "start_time": "2024-05-13T23:17:07.543Z"
   },
   {
    "duration": 11,
    "start_time": "2024-05-13T23:17:07.549Z"
   },
   {
    "duration": 411,
    "start_time": "2024-05-13T23:17:07.562Z"
   },
   {
    "duration": 5,
    "start_time": "2024-05-13T23:17:07.975Z"
   },
   {
    "duration": 219,
    "start_time": "2024-05-13T23:17:07.982Z"
   },
   {
    "duration": 4,
    "start_time": "2024-05-13T23:17:08.202Z"
   },
   {
    "duration": 21,
    "start_time": "2024-05-13T23:45:12.106Z"
   },
   {
    "duration": 36,
    "start_time": "2024-05-13T23:45:43.554Z"
   },
   {
    "duration": 4,
    "start_time": "2024-05-13T23:54:20.309Z"
   },
   {
    "duration": 4,
    "start_time": "2024-05-13T23:54:24.965Z"
   },
   {
    "duration": 1074,
    "start_time": "2024-05-13T23:54:45.924Z"
   },
   {
    "duration": 152,
    "start_time": "2024-05-13T23:54:47.000Z"
   },
   {
    "duration": 11,
    "start_time": "2024-05-13T23:54:47.153Z"
   },
   {
    "duration": 11,
    "start_time": "2024-05-13T23:54:47.166Z"
   },
   {
    "duration": 8,
    "start_time": "2024-05-13T23:54:47.178Z"
   },
   {
    "duration": 9,
    "start_time": "2024-05-13T23:54:47.187Z"
   },
   {
    "duration": 7,
    "start_time": "2024-05-13T23:54:47.197Z"
   },
   {
    "duration": 30,
    "start_time": "2024-05-13T23:54:47.205Z"
   },
   {
    "duration": 11,
    "start_time": "2024-05-13T23:54:47.237Z"
   },
   {
    "duration": 9,
    "start_time": "2024-05-13T23:54:47.251Z"
   },
   {
    "duration": 9,
    "start_time": "2024-05-13T23:54:47.261Z"
   },
   {
    "duration": 9,
    "start_time": "2024-05-13T23:54:47.271Z"
   },
   {
    "duration": 20,
    "start_time": "2024-05-13T23:54:47.282Z"
   },
   {
    "duration": 40,
    "start_time": "2024-05-13T23:54:47.304Z"
   },
   {
    "duration": 29,
    "start_time": "2024-05-13T23:54:47.345Z"
   },
   {
    "duration": 35,
    "start_time": "2024-05-13T23:54:47.375Z"
   },
   {
    "duration": 189,
    "start_time": "2024-05-13T23:54:47.412Z"
   },
   {
    "duration": 11,
    "start_time": "2024-05-13T23:54:47.603Z"
   },
   {
    "duration": 84,
    "start_time": "2024-05-13T23:54:47.616Z"
   },
   {
    "duration": 9,
    "start_time": "2024-05-13T23:54:47.701Z"
   },
   {
    "duration": 42,
    "start_time": "2024-05-13T23:54:47.711Z"
   },
   {
    "duration": 175,
    "start_time": "2024-05-13T23:54:47.754Z"
   },
   {
    "duration": 8,
    "start_time": "2024-05-13T23:54:47.930Z"
   },
   {
    "duration": 24,
    "start_time": "2024-05-13T23:54:47.940Z"
   },
   {
    "duration": 12,
    "start_time": "2024-05-13T23:54:47.965Z"
   },
   {
    "duration": 12,
    "start_time": "2024-05-13T23:54:47.979Z"
   },
   {
    "duration": 229,
    "start_time": "2024-05-13T23:54:47.993Z"
   },
   {
    "duration": 9,
    "start_time": "2024-05-13T23:54:48.226Z"
   },
   {
    "duration": 29,
    "start_time": "2024-05-13T23:54:48.236Z"
   },
   {
    "duration": 13,
    "start_time": "2024-05-13T23:54:48.267Z"
   },
   {
    "duration": 16,
    "start_time": "2024-05-13T23:54:48.281Z"
   },
   {
    "duration": 182,
    "start_time": "2024-05-13T23:54:48.299Z"
   },
   {
    "duration": 9,
    "start_time": "2024-05-13T23:54:48.483Z"
   },
   {
    "duration": 3,
    "start_time": "2024-05-13T23:54:48.494Z"
   },
   {
    "duration": 35,
    "start_time": "2024-05-13T23:54:48.498Z"
   },
   {
    "duration": 8,
    "start_time": "2024-05-13T23:54:48.535Z"
   },
   {
    "duration": 24,
    "start_time": "2024-05-13T23:54:48.545Z"
   },
   {
    "duration": 11,
    "start_time": "2024-05-13T23:54:48.570Z"
   },
   {
    "duration": 10,
    "start_time": "2024-05-13T23:54:48.591Z"
   },
   {
    "duration": 14,
    "start_time": "2024-05-13T23:54:48.602Z"
   },
   {
    "duration": 267,
    "start_time": "2024-05-13T23:54:48.617Z"
   },
   {
    "duration": 19,
    "start_time": "2024-05-13T23:54:48.885Z"
   },
   {
    "duration": 343,
    "start_time": "2024-05-13T23:54:48.905Z"
   },
   {
    "duration": 15,
    "start_time": "2024-05-13T23:54:49.249Z"
   },
   {
    "duration": 4,
    "start_time": "2024-05-13T23:54:49.266Z"
   },
   {
    "duration": 52,
    "start_time": "2024-05-13T23:54:49.272Z"
   },
   {
    "duration": 144,
    "start_time": "2024-05-13T23:54:49.326Z"
   },
   {
    "duration": 19,
    "start_time": "2024-05-13T23:54:49.472Z"
   },
   {
    "duration": 10,
    "start_time": "2024-05-13T23:54:49.493Z"
   },
   {
    "duration": 12,
    "start_time": "2024-05-13T23:54:49.504Z"
   },
   {
    "duration": 12,
    "start_time": "2024-05-13T23:54:49.517Z"
   },
   {
    "duration": 24,
    "start_time": "2024-05-13T23:54:49.530Z"
   },
   {
    "duration": 265,
    "start_time": "2024-05-13T23:54:49.556Z"
   },
   {
    "duration": 271,
    "start_time": "2024-05-13T23:54:49.823Z"
   },
   {
    "duration": 3,
    "start_time": "2024-05-13T23:54:50.096Z"
   },
   {
    "duration": 36,
    "start_time": "2024-05-13T23:54:50.101Z"
   },
   {
    "duration": 440,
    "start_time": "2024-05-13T23:54:50.138Z"
   },
   {
    "duration": 4,
    "start_time": "2024-05-13T23:54:50.580Z"
   },
   {
    "duration": 209,
    "start_time": "2024-05-13T23:54:50.586Z"
   },
   {
    "duration": 4,
    "start_time": "2024-05-13T23:54:50.797Z"
   }
  ],
  "kernelspec": {
   "display_name": "Python 3",
   "language": "python",
   "name": "python3"
  },
  "language_info": {
   "codemirror_mode": {
    "name": "ipython",
    "version": 3
   },
   "file_extension": ".py",
   "mimetype": "text/x-python",
   "name": "python",
   "nbconvert_exporter": "python",
   "pygments_lexer": "ipython3",
   "version": "3.9.6"
  },
  "toc": {
   "base_numbering": 1,
   "nav_menu": {},
   "number_sections": true,
   "sideBar": true,
   "skip_h1_title": true,
   "title_cell": "Table of Contents",
   "title_sidebar": "Contents",
   "toc_cell": false,
   "toc_position": {},
   "toc_section_display": true,
   "toc_window_display": false
  }
 },
 "nbformat": 4,
 "nbformat_minor": 2
}
